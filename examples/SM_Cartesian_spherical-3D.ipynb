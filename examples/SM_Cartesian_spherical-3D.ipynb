{
 "cells": [
  {
   "cell_type": "markdown",
   "metadata": {},
   "source": [
    "# Vector calculus in Cartesian and spherical coordinates"
   ]
  },
  {
   "cell_type": "markdown",
   "metadata": {},
   "source": [
    "*This worksheet illustrates some features of [SageManifolds](http://sagemanifolds.obspm.fr/) (version 1.0, as included in SageMath 7.5) regarding vector calculus in the Euclidean 3-space by means of Cartesian and spherical coordinates.*\n",
    "\n",
    "Click [here](https://raw.githubusercontent.com/sagemanifolds/SageManifolds/master/Worksheets/v1.0/SM_Cartesian_spherical-3D.ipynb) to download the worksheet file (ipynb format). To run it, you must start SageMath with the Jupyter notebook, via the command `sage -n jupyter`"
   ]
  },
  {
   "cell_type": "markdown",
   "metadata": {},
   "source": [
    "*NB:* a version of SageMath at least equal to 7.5 is required to run this worksheet:"
   ]
  },
  {
   "cell_type": "code",
   "execution_count": 47,
   "metadata": {},
   "outputs": [
    {
     "data": {
      "text/html": [
       "<html><script type=\"math/tex; mode=display\">\\newcommand{\\Bold}[1]{\\mathbf{#1}}\\verb|SageMath|\\phantom{\\verb!x!}\\verb|version|\\phantom{\\verb!x!}\\verb|8.0,|\\phantom{\\verb!x!}\\verb|Release|\\phantom{\\verb!x!}\\verb|Date:|\\phantom{\\verb!x!}\\verb|2017-07-21|</script></html>"
      ],
      "text/plain": [
       "'SageMath version 8.0, Release Date: 2017-07-21'"
      ]
     },
     "execution_count": 47,
     "metadata": {},
     "output_type": "execute_result"
    }
   ],
   "source": [
    "version()"
   ]
  },
  {
   "cell_type": "markdown",
   "metadata": {},
   "source": [
    "## Euclidean 3-space and Cartesian coordinates"
   ]
  },
  {
   "cell_type": "markdown",
   "metadata": {},
   "source": [
    "First we set up the notebook to display mathematical objects using LaTeX formatting:"
   ]
  },
  {
   "cell_type": "code",
   "execution_count": 48,
   "metadata": {},
   "outputs": [],
   "source": [
    "%display latex"
   ]
  },
  {
   "cell_type": "markdown",
   "metadata": {},
   "source": [
    "We then introduce the Euclidean space as a 3-dimensional differentiable manifold:"
   ]
  },
  {
   "cell_type": "code",
   "execution_count": 49,
   "metadata": {},
   "outputs": [
    {
     "name": "stdout",
     "output_type": "stream",
     "text": [
      "3-dimensional differentiable manifold M\n"
     ]
    }
   ],
   "source": [
    "M = Manifold(3, 'M', start_index=1)\n",
    "print(M)"
   ]
  },
  {
   "cell_type": "markdown",
   "metadata": {},
   "source": [
    "We then introduce the Cartesian coordinates $(x,y,z)$ as the chart `cart` on $M$:"
   ]
  },
  {
   "cell_type": "code",
   "execution_count": 50,
   "metadata": {},
   "outputs": [
    {
     "name": "stdout",
     "output_type": "stream",
     "text": [
      "Chart (M, (x, y, z))\n"
     ]
    },
    {
     "data": {
      "text/html": [
       "<html><script type=\"math/tex; mode=display\">\\newcommand{\\Bold}[1]{\\mathbf{#1}}\\left(M,(x, y, z)\\right)</script></html>"
      ],
      "text/plain": [
       "Chart (M, (x, y, z))"
      ]
     },
     "execution_count": 50,
     "metadata": {},
     "output_type": "execute_result"
    }
   ],
   "source": [
    "cart.<x,y,z> = M.chart()\n",
    "print(cart)\n",
    "cart"
   ]
  },
  {
   "cell_type": "code",
   "execution_count": 51,
   "metadata": {},
   "outputs": [
    {
     "data": {
      "text/html": [
       "<html><script type=\"math/tex; mode=display\">\\newcommand{\\Bold}[1]{\\mathbf{#1}}x :\\ \\left( -\\infty, +\\infty \\right) ;\\quad y :\\ \\left( -\\infty, +\\infty \\right) ;\\quad z :\\ \\left( -\\infty, +\\infty \\right)</script></html>"
      ],
      "text/plain": [
       "x: (-oo, +oo); y: (-oo, +oo); z: (-oo, +oo)"
      ]
     },
     "execution_count": 51,
     "metadata": {},
     "output_type": "execute_result"
    }
   ],
   "source": [
    "cart.coord_range()"
   ]
  },
  {
   "cell_type": "markdown",
   "metadata": {},
   "source": [
    "## Spherical coordinates\n",
    "\n",
    "We introduce spherical coordinates $(r,\\theta,\\phi)$ as the chart `spher` on $M$:"
   ]
  },
  {
   "cell_type": "code",
   "execution_count": 52,
   "metadata": {},
   "outputs": [
    {
     "name": "stdout",
     "output_type": "stream",
     "text": [
      "Chart (M, (r, th, ph))\n"
     ]
    },
    {
     "data": {
      "text/html": [
       "<html><script type=\"math/tex; mode=display\">\\newcommand{\\Bold}[1]{\\mathbf{#1}}\\left(M,(r, {\\theta}, {\\phi})\\right)</script></html>"
      ],
      "text/plain": [
       "Chart (M, (r, th, ph))"
      ]
     },
     "execution_count": 52,
     "metadata": {},
     "output_type": "execute_result"
    }
   ],
   "source": [
    "spher.<r,th,ph> = M.chart(r'r:(0,+oo) th:(0,pi):\\theta ph:(0,2*pi):\\phi')\n",
    "print(spher)\n",
    "spher"
   ]
  },
  {
   "cell_type": "markdown",
   "metadata": {},
   "source": [
    "Spherical coordinates do not form a regular coordinate system of the Euclidean space. So declaring that they span $M$ means that, strictly speaking, the manifold $M$ is not the whole Euclidean space, but the Euclidean space minus some half plane (the azimuthal origin). However, in this worksheet, this difference will not matter. "
   ]
  },
  {
   "cell_type": "markdown",
   "metadata": {},
   "source": [
    "The change of coordinates $(r,\\theta,\\phi) \\rightarrow (x,y,z)$ is introduced as a transition map from chart `spher` to chart `cart`:"
   ]
  },
  {
   "cell_type": "code",
   "execution_count": 53,
   "metadata": {},
   "outputs": [],
   "source": [
    "spher.transition_map?"
   ]
  },
  {
   "cell_type": "code",
   "execution_count": 54,
   "metadata": {},
   "outputs": [
    {
     "data": {
      "text/html": [
       "<html><script type=\"math/tex; mode=display\">\\newcommand{\\Bold}[1]{\\mathbf{#1}}\\left\\{\\begin{array}{lcl} x & = & r \\cos\\left({\\phi}\\right) \\sin\\left({\\theta}\\right) \\\\ y & = & r \\sin\\left({\\phi}\\right) \\sin\\left({\\theta}\\right) \\\\ z & = & r \\cos\\left({\\theta}\\right) \\end{array}\\right.</script></html>"
      ],
      "text/plain": [
       "x = r*cos(ph)*sin(th)\n",
       "y = r*sin(ph)*sin(th)\n",
       "z = r*cos(th)"
      ]
     },
     "execution_count": 54,
     "metadata": {},
     "output_type": "execute_result"
    }
   ],
   "source": [
    "spher_to_cart = spher.transition_map(cart, [r*sin(th)*cos(ph), r*sin(th)*sin(ph), r*cos(th)])\n",
    "spher_to_cart.display()"
   ]
  },
  {
   "cell_type": "markdown",
   "metadata": {},
   "source": [
    "The inverse is also set:"
   ]
  },
  {
   "cell_type": "code",
   "execution_count": 55,
   "metadata": {},
   "outputs": [
    {
     "name": "stdout",
     "output_type": "stream",
     "text": [
      "Check of the inverse coordinate transformation:\n",
      "  r == r\n",
      "  th == arctan2(r*sin(th), r*cos(th))\n",
      "  ph == arctan2(r*sin(ph)*sin(th), r*cos(ph)*sin(th))\n",
      "  x == x\n",
      "  y == y\n",
      "  z == z\n"
     ]
    }
   ],
   "source": [
    "cart_to_spher = spher_to_cart.set_inverse(sqrt(x^2+y^2+z^2), atan2(sqrt(x^2+y^2),z), atan2(y, x),\n",
    "                          verbose=True)"
   ]
  },
  {
   "cell_type": "markdown",
   "metadata": {},
   "source": [
    "The check that the provided formulas do correspond to the inverse change of coordinates is passed, modulo some lack of simplification in some trigonometrical formulas involving the function `arctan2`. "
   ]
  },
  {
   "cell_type": "code",
   "execution_count": 56,
   "metadata": {},
   "outputs": [
    {
     "data": {
      "text/html": [
       "<html><script type=\"math/tex; mode=display\">\\newcommand{\\Bold}[1]{\\mathbf{#1}}\\left\\{\\begin{array}{lcl} r & = & \\sqrt{x^{2} + y^{2} + z^{2}} \\\\ {\\theta} & = & \\arctan\\left(\\sqrt{x^{2} + y^{2}}, z\\right) \\\\ {\\phi} & = & \\arctan\\left(y, x\\right) \\end{array}\\right.</script></html>"
      ],
      "text/plain": [
       "r = sqrt(x^2 + y^2 + z^2)\n",
       "th = arctan2(sqrt(x^2 + y^2), z)\n",
       "ph = arctan2(y, x)"
      ]
     },
     "execution_count": 56,
     "metadata": {},
     "output_type": "execute_result"
    }
   ],
   "source": [
    "cart_to_spher = spher_to_cart.inverse()\n",
    "cart_to_spher.display()"
   ]
  },
  {
   "cell_type": "markdown",
   "metadata": {},
   "source": [
    "The natural vector frame of spherical coordinates is"
   ]
  },
  {
   "cell_type": "code",
   "execution_count": 57,
   "metadata": {},
   "outputs": [
    {
     "data": {
      "text/html": [
       "<html><script type=\"math/tex; mode=display\">\\newcommand{\\Bold}[1]{\\mathbf{#1}}\\left(M, \\left(\\frac{\\partial}{\\partial r },\\frac{\\partial}{\\partial {\\theta} },\\frac{\\partial}{\\partial {\\phi} }\\right)\\right)</script></html>"
      ],
      "text/plain": [
       "Coordinate frame (M, (d/dr,d/dth,d/dph))"
      ]
     },
     "execution_count": 57,
     "metadata": {},
     "output_type": "execute_result"
    }
   ],
   "source": [
    "spher.frame()"
   ]
  },
  {
   "cell_type": "markdown",
   "metadata": {},
   "source": [
    "We shall expand vector and tensor fields on the orthonormal frame $(e_1, e_2, e_3)$ associated with spherical coordinates, which is related to the natural frame $(\\partial/\\partial r, \\partial/\\partial\\theta, \\partial/\\partial\\phi)$ displayed above by means of the following field of automorphisms: "
   ]
  },
  {
   "cell_type": "code",
   "execution_count": 58,
   "metadata": {},
   "outputs": [
    {
     "data": {
      "text/html": [
       "<html><script type=\"math/tex; mode=display\">\\newcommand{\\Bold}[1]{\\mathbf{#1}}\\frac{\\partial}{\\partial r }\\otimes \\mathrm{d} r + \\frac{1}{r} \\frac{\\partial}{\\partial {\\theta} }\\otimes \\mathrm{d} {\\theta} + \\frac{1}{r \\sin\\left({\\theta}\\right)} \\frac{\\partial}{\\partial {\\phi} }\\otimes \\mathrm{d} {\\phi}</script></html>"
      ],
      "text/plain": [
       "d/dr*dr + 1/r d/dth*dth + 1/(r*sin(th)) d/dph*dph"
      ]
     },
     "execution_count": 58,
     "metadata": {},
     "output_type": "execute_result"
    }
   ],
   "source": [
    "to_orthonormal = M.automorphism_field()\n",
    "to_orthonormal[spher.frame(),1,1,spher] = 1\n",
    "to_orthonormal[spher.frame(),2,2,spher] = 1/r\n",
    "to_orthonormal[spher.frame(),3,3,spher] = 1/(r*sin(th))\n",
    "to_orthonormal.display(spher.frame(), spher)"
   ]
  },
  {
   "cell_type": "markdown",
   "metadata": {},
   "source": [
    "In other words, the change-of-basis matrix is "
   ]
  },
  {
   "cell_type": "code",
   "execution_count": 59,
   "metadata": {},
   "outputs": [
    {
     "data": {
      "text/html": [
       "<html><script type=\"math/tex; mode=display\">\\newcommand{\\Bold}[1]{\\mathbf{#1}}\\left(\\begin{array}{rrr}\n",
       "1 & 0 & 0 \\\\\n",
       "0 & \\frac{1}{r} & 0 \\\\\n",
       "0 & 0 & \\frac{1}{r \\sin\\left({\\theta}\\right)}\n",
       "\\end{array}\\right)</script></html>"
      ],
      "text/plain": [
       "[            1             0             0]\n",
       "[            0           1/r             0]\n",
       "[            0             0 1/(r*sin(th))]"
      ]
     },
     "execution_count": 59,
     "metadata": {},
     "output_type": "execute_result"
    }
   ],
   "source": [
    "to_orthonormal[spher.frame(),:,spher] "
   ]
  },
  {
   "cell_type": "markdown",
   "metadata": {},
   "source": [
    "We construct the orthonormal frame from the natural frame of spherical coordinates by this change of basis:"
   ]
  },
  {
   "cell_type": "code",
   "execution_count": 60,
   "metadata": {},
   "outputs": [
    {
     "name": "stdout",
     "output_type": "stream",
     "text": [
      "Vector frame (M, (e_1,e_2,e_3))\n"
     ]
    },
    {
     "data": {
      "text/html": [
       "<html><script type=\"math/tex; mode=display\">\\newcommand{\\Bold}[1]{\\mathbf{#1}}\\left(M, \\left(e_1,e_2,e_3\\right)\\right)</script></html>"
      ],
      "text/plain": [
       "Vector frame (M, (e_1,e_2,e_3))"
      ]
     },
     "execution_count": 60,
     "metadata": {},
     "output_type": "execute_result"
    }
   ],
   "source": [
    "es = spher.frame().new_frame(to_orthonormal, 'e')\n",
    "print(es)\n",
    "es"
   ]
  },
  {
   "cell_type": "code",
   "execution_count": 61,
   "metadata": {},
   "outputs": [
    {
     "data": {
      "text/html": [
       "<html><script type=\"math/tex; mode=display\">\\newcommand{\\Bold}[1]{\\mathbf{#1}}e_1 = \\frac{\\partial}{\\partial r }</script></html>"
      ],
      "text/plain": [
       "e_1 = d/dr"
      ]
     },
     "execution_count": 61,
     "metadata": {},
     "output_type": "execute_result"
    }
   ],
   "source": [
    "es[1].display(spher.frame(), spher)"
   ]
  },
  {
   "cell_type": "code",
   "execution_count": 62,
   "metadata": {},
   "outputs": [
    {
     "data": {
      "text/html": [
       "<html><script type=\"math/tex; mode=display\">\\newcommand{\\Bold}[1]{\\mathbf{#1}}e_2 = \\frac{1}{r} \\frac{\\partial}{\\partial {\\theta} }</script></html>"
      ],
      "text/plain": [
       "e_2 = 1/r d/dth"
      ]
     },
     "execution_count": 62,
     "metadata": {},
     "output_type": "execute_result"
    }
   ],
   "source": [
    "es[2].display(spher.frame(), spher)"
   ]
  },
  {
   "cell_type": "code",
   "execution_count": 63,
   "metadata": {},
   "outputs": [
    {
     "data": {
      "text/html": [
       "<html><script type=\"math/tex; mode=display\">\\newcommand{\\Bold}[1]{\\mathbf{#1}}e_3 = \\frac{1}{r \\sin\\left({\\theta}\\right)} \\frac{\\partial}{\\partial {\\phi} }</script></html>"
      ],
      "text/plain": [
       "e_3 = 1/(r*sin(th)) d/dph"
      ]
     },
     "execution_count": 63,
     "metadata": {},
     "output_type": "execute_result"
    }
   ],
   "source": [
    "es[3].display(spher.frame(), spher)"
   ]
  },
  {
   "cell_type": "markdown",
   "metadata": {},
   "source": [
    "If we do not specify the frame and coordinates for the display, we get it in terms of the default ones (i.e. Cartesian frame and Cartesian coordinates):"
   ]
  },
  {
   "cell_type": "code",
   "execution_count": 64,
   "metadata": {},
   "outputs": [
    {
     "data": {
      "text/html": [
       "<html><script type=\"math/tex; mode=display\">\\newcommand{\\Bold}[1]{\\mathbf{#1}}e_1 = \\left( \\frac{x}{\\sqrt{x^{2} + y^{2} + z^{2}}} \\right) \\frac{\\partial}{\\partial x } + \\left( \\frac{y}{\\sqrt{x^{2} + y^{2} + z^{2}}} \\right) \\frac{\\partial}{\\partial y } + \\left( \\frac{z}{\\sqrt{x^{2} + y^{2} + z^{2}}} \\right) \\frac{\\partial}{\\partial z }</script></html>"
      ],
      "text/plain": [
       "e_1 = x/sqrt(x^2 + y^2 + z^2) d/dx + y/sqrt(x^2 + y^2 + z^2) d/dy + z/sqrt(x^2 + y^2 + z^2) d/dz"
      ]
     },
     "execution_count": 64,
     "metadata": {},
     "output_type": "execute_result"
    }
   ],
   "source": [
    "es[1].display()"
   ]
  },
  {
   "cell_type": "code",
   "execution_count": 65,
   "metadata": {},
   "outputs": [
    {
     "data": {
      "text/html": [
       "<html><script type=\"math/tex; mode=display\">\\newcommand{\\Bold}[1]{\\mathbf{#1}}e_2 = \\left( \\frac{x z}{\\sqrt{x^{2} + y^{2} + z^{2}} \\sqrt{x^{2} + y^{2}}} \\right) \\frac{\\partial}{\\partial x } + \\left( \\frac{y z}{\\sqrt{x^{2} + y^{2} + z^{2}} \\sqrt{x^{2} + y^{2}}} \\right) \\frac{\\partial}{\\partial y } + \\left( -\\frac{\\sqrt{x^{2} + y^{2}}}{\\sqrt{x^{2} + y^{2} + z^{2}}} \\right) \\frac{\\partial}{\\partial z }</script></html>"
      ],
      "text/plain": [
       "e_2 = x*z/(sqrt(x^2 + y^2 + z^2)*sqrt(x^2 + y^2)) d/dx + y*z/(sqrt(x^2 + y^2 + z^2)*sqrt(x^2 + y^2)) d/dy - sqrt(x^2 + y^2)/sqrt(x^2 + y^2 + z^2) d/dz"
      ]
     },
     "execution_count": 65,
     "metadata": {},
     "output_type": "execute_result"
    }
   ],
   "source": [
    "es[2].display()"
   ]
  },
  {
   "cell_type": "code",
   "execution_count": 66,
   "metadata": {},
   "outputs": [
    {
     "data": {
      "text/html": [
       "<html><script type=\"math/tex; mode=display\">\\newcommand{\\Bold}[1]{\\mathbf{#1}}e_3 = \\left( -\\frac{y}{\\sqrt{x^{2} + y^{2}}} \\right) \\frac{\\partial}{\\partial x } + \\left( \\frac{x}{\\sqrt{x^{2} + y^{2}}} \\right) \\frac{\\partial}{\\partial y }</script></html>"
      ],
      "text/plain": [
       "e_3 = -y/sqrt(x^2 + y^2) d/dx + x/sqrt(x^2 + y^2) d/dy"
      ]
     },
     "execution_count": 66,
     "metadata": {},
     "output_type": "execute_result"
    }
   ],
   "source": [
    "es[3].display()"
   ]
  },
  {
   "cell_type": "markdown",
   "metadata": {},
   "source": [
    "By construction, the change of frame $(\\partial/\\partial r, \\partial/\\partial \\theta, \\partial/\\partial \\phi) \\rightarrow (e_1,e_2,e_3)$ is known. We form the change of frame  $(\\partial/\\partial x, \\partial/\\partial y, \\partial/\\partial z)\\rightarrow (e_1,e_2,e_3)$ by composition of $(\\partial/\\partial x, \\partial/\\partial y, \\partial/\\partial z)\\rightarrow (\\partial/\\partial r, \\partial/\\partial \\theta, \\partial/\\partial \\phi)$ with \n",
    "$(\\partial/\\partial r, \\partial/\\partial \\theta, \\partial/\\partial \\phi) \\rightarrow (e_1,e_2,e_3)$:"
   ]
  },
  {
   "cell_type": "code",
   "execution_count": 67,
   "metadata": {
    "scrolled": true
   },
   "outputs": [
    {
     "data": {
      "text/html": [
       "<html><script type=\"math/tex; mode=display\">\\newcommand{\\Bold}[1]{\\mathbf{#1}}\\left(\\begin{array}{rrr}\n",
       "\\cos\\left({\\phi}\\right) \\sin\\left({\\theta}\\right) & \\cos\\left({\\phi}\\right) \\cos\\left({\\theta}\\right) & -\\sin\\left({\\phi}\\right) \\\\\n",
       "\\sin\\left({\\phi}\\right) \\sin\\left({\\theta}\\right) & \\cos\\left({\\theta}\\right) \\sin\\left({\\phi}\\right) & \\cos\\left({\\phi}\\right) \\\\\n",
       "\\cos\\left({\\theta}\\right) & -\\sin\\left({\\theta}\\right) & 0\n",
       "\\end{array}\\right)</script></html>"
      ],
      "text/plain": [
       "[cos(ph)*sin(th) cos(ph)*cos(th)        -sin(ph)]\n",
       "[sin(ph)*sin(th) cos(th)*sin(ph)         cos(ph)]\n",
       "[        cos(th)        -sin(th)               0]"
      ]
     },
     "execution_count": 67,
     "metadata": {},
     "output_type": "execute_result"
    }
   ],
   "source": [
    "M.set_change_of_frame(cart.frame(), es, \n",
    "                      M.change_of_frame(spher.frame(), es) * M.change_of_frame(cart.frame(), \n",
    "                                                                               spher.frame()),\n",
    "                      compute_inverse=False)\n",
    "M.change_of_frame(cart.frame(), es)[:, spher]"
   ]
  },
  {
   "cell_type": "markdown",
   "metadata": {},
   "source": [
    "Similarly, we form the inverse change of frame as:"
   ]
  },
  {
   "cell_type": "code",
   "execution_count": 68,
   "metadata": {},
   "outputs": [
    {
     "data": {
      "text/html": [
       "<html><script type=\"math/tex; mode=display\">\\newcommand{\\Bold}[1]{\\mathbf{#1}}\\left(\\begin{array}{rrr}\n",
       "\\cos\\left({\\phi}\\right) \\sin\\left({\\theta}\\right) & \\sin\\left({\\phi}\\right) \\sin\\left({\\theta}\\right) & \\cos\\left({\\theta}\\right) \\\\\n",
       "\\cos\\left({\\phi}\\right) \\cos\\left({\\theta}\\right) & \\cos\\left({\\theta}\\right) \\sin\\left({\\phi}\\right) & -\\sin\\left({\\theta}\\right) \\\\\n",
       "-\\sin\\left({\\phi}\\right) & \\cos\\left({\\phi}\\right) & 0\n",
       "\\end{array}\\right)</script></html>"
      ],
      "text/plain": [
       "[cos(ph)*sin(th) sin(ph)*sin(th)         cos(th)]\n",
       "[cos(ph)*cos(th) cos(th)*sin(ph)        -sin(th)]\n",
       "[       -sin(ph)         cos(ph)               0]"
      ]
     },
     "execution_count": 68,
     "metadata": {},
     "output_type": "execute_result"
    }
   ],
   "source": [
    "M.set_change_of_frame(es, cart.frame(), \n",
    "                      M.change_of_frame(spher.frame(), cart.frame()) * \n",
    "                                  M.change_of_frame(es, spher.frame()),\n",
    "                      compute_inverse=False)\n",
    "M.change_of_frame(es, cart.frame())[:, spher]"
   ]
  },
  {
   "cell_type": "markdown",
   "metadata": {},
   "source": [
    "At this stage, the manifold (user) atlas is"
   ]
  },
  {
   "cell_type": "code",
   "execution_count": 69,
   "metadata": {},
   "outputs": [
    {
     "data": {
      "text/html": [
       "<html><script type=\"math/tex; mode=display\">\\newcommand{\\Bold}[1]{\\mathbf{#1}}\\left[\\left(M,(x, y, z)\\right), \\left(M,(r, {\\theta}, {\\phi})\\right)\\right]</script></html>"
      ],
      "text/plain": [
       "[Chart (M, (x, y, z)), Chart (M, (r, th, ph))]"
      ]
     },
     "execution_count": 69,
     "metadata": {},
     "output_type": "execute_result"
    }
   ],
   "source": [
    "M.atlas()"
   ]
  },
  {
   "cell_type": "markdown",
   "metadata": {},
   "source": [
    "The default chart is the first one introduced on the manifold (it can be changed by means of the function `M.set_default_chart`):"
   ]
  },
  {
   "cell_type": "code",
   "execution_count": 70,
   "metadata": {},
   "outputs": [
    {
     "data": {
      "text/html": [
       "<html><script type=\"math/tex; mode=display\">\\newcommand{\\Bold}[1]{\\mathbf{#1}}\\left(M,(x, y, z)\\right)</script></html>"
      ],
      "text/plain": [
       "Chart (M, (x, y, z))"
      ]
     },
     "execution_count": 70,
     "metadata": {},
     "output_type": "execute_result"
    }
   ],
   "source": [
    "M.default_chart()"
   ]
  },
  {
   "cell_type": "markdown",
   "metadata": {},
   "source": [
    "The following vector frames have been introduced on the manifold:"
   ]
  },
  {
   "cell_type": "code",
   "execution_count": 71,
   "metadata": {},
   "outputs": [
    {
     "data": {
      "text/html": [
       "<html><script type=\"math/tex; mode=display\">\\newcommand{\\Bold}[1]{\\mathbf{#1}}\\left[\\left(M, \\left(\\frac{\\partial}{\\partial x },\\frac{\\partial}{\\partial y },\\frac{\\partial}{\\partial z }\\right)\\right), \\left(M, \\left(\\frac{\\partial}{\\partial r },\\frac{\\partial}{\\partial {\\theta} },\\frac{\\partial}{\\partial {\\phi} }\\right)\\right), \\left(M, \\left(e_1,e_2,e_3\\right)\\right)\\right]</script></html>"
      ],
      "text/plain": [
       "[Coordinate frame (M, (d/dx,d/dy,d/dz)),\n",
       " Coordinate frame (M, (d/dr,d/dth,d/dph)),\n",
       " Vector frame (M, (e_1,e_2,e_3))]"
      ]
     },
     "execution_count": 71,
     "metadata": {},
     "output_type": "execute_result"
    }
   ],
   "source": [
    "M.frames()"
   ]
  },
  {
   "cell_type": "markdown",
   "metadata": {},
   "source": [
    "The default frame is the first one introduced on the manifold (it can be changed by means of the function `M.set_default_frame`):"
   ]
  },
  {
   "cell_type": "code",
   "execution_count": 72,
   "metadata": {},
   "outputs": [
    {
     "data": {
      "text/html": [
       "<html><script type=\"math/tex; mode=display\">\\newcommand{\\Bold}[1]{\\mathbf{#1}}\\left(M, \\left(\\frac{\\partial}{\\partial x },\\frac{\\partial}{\\partial y },\\frac{\\partial}{\\partial z }\\right)\\right)</script></html>"
      ],
      "text/plain": [
       "Coordinate frame (M, (d/dx,d/dy,d/dz))"
      ]
     },
     "execution_count": 72,
     "metadata": {},
     "output_type": "execute_result"
    }
   ],
   "source": [
    "M.default_frame()"
   ]
  },
  {
   "cell_type": "markdown",
   "metadata": {},
   "source": [
    "The following changes of frame have been defined:"
   ]
  },
  {
   "cell_type": "code",
   "execution_count": 73,
   "metadata": {},
   "outputs": [
    {
     "data": {
      "text/html": [
       "<html><script type=\"math/tex; mode=display\">\\newcommand{\\Bold}[1]{\\mathbf{#1}}\\left\\{\\left(\\left(M, \\left(e_1,e_2,e_3\\right)\\right), \\left(M, \\left(\\frac{\\partial}{\\partial r },\\frac{\\partial}{\\partial {\\theta} },\\frac{\\partial}{\\partial {\\phi} }\\right)\\right)\\right) : \\mbox{Field of tangent-space automorphisms on the 3-dimensional differentiable manifold M}, \\left(\\left(M, \\left(\\frac{\\partial}{\\partial r },\\frac{\\partial}{\\partial {\\theta} },\\frac{\\partial}{\\partial {\\phi} }\\right)\\right), \\left(M, \\left(\\frac{\\partial}{\\partial x },\\frac{\\partial}{\\partial y },\\frac{\\partial}{\\partial z }\\right)\\right)\\right) : \\mbox{Field of tangent-space automorphisms on the 3-dimensional differentiable manifold M}, \\left(\\left(M, \\left(\\frac{\\partial}{\\partial r },\\frac{\\partial}{\\partial {\\theta} },\\frac{\\partial}{\\partial {\\phi} }\\right)\\right), \\left(M, \\left(e_1,e_2,e_3\\right)\\right)\\right) : \\mbox{Field of tangent-space automorphisms on the 3-dimensional differentiable manifold M}, \\left(\\left(M, \\left(\\frac{\\partial}{\\partial x },\\frac{\\partial}{\\partial y },\\frac{\\partial}{\\partial z }\\right)\\right), \\left(M, \\left(e_1,e_2,e_3\\right)\\right)\\right) : \\mbox{Field of tangent-space automorphisms on the 3-dimensional differentiable manifold M}, \\left(\\left(M, \\left(\\frac{\\partial}{\\partial x },\\frac{\\partial}{\\partial y },\\frac{\\partial}{\\partial z }\\right)\\right), \\left(M, \\left(\\frac{\\partial}{\\partial r },\\frac{\\partial}{\\partial {\\theta} },\\frac{\\partial}{\\partial {\\phi} }\\right)\\right)\\right) : \\mbox{Field of tangent-space automorphisms on the 3-dimensional differentiable manifold M}, \\left(\\left(M, \\left(e_1,e_2,e_3\\right)\\right), \\left(M, \\left(\\frac{\\partial}{\\partial x },\\frac{\\partial}{\\partial y },\\frac{\\partial}{\\partial z }\\right)\\right)\\right) : \\mbox{Field of tangent-space automorphisms on the 3-dimensional differentiable manifold M}\\right\\}</script></html>"
      ],
      "text/plain": [
       "{(Coordinate frame (M, (d/dx,d/dy,d/dz)),\n",
       "  Coordinate frame (M, (d/dr,d/dth,d/dph))): Field of tangent-space automorphisms on the 3-dimensional differentiable manifold M,\n",
       " (Coordinate frame (M, (d/dx,d/dy,d/dz)),\n",
       "  Vector frame (M, (e_1,e_2,e_3))): Field of tangent-space automorphisms on the 3-dimensional differentiable manifold M,\n",
       " (Coordinate frame (M, (d/dr,d/dth,d/dph)),\n",
       "  Coordinate frame (M, (d/dx,d/dy,d/dz))): Field of tangent-space automorphisms on the 3-dimensional differentiable manifold M,\n",
       " (Coordinate frame (M, (d/dr,d/dth,d/dph)),\n",
       "  Vector frame (M, (e_1,e_2,e_3))): Field of tangent-space automorphisms on the 3-dimensional differentiable manifold M,\n",
       " (Vector frame (M, (e_1,e_2,e_3)),\n",
       "  Coordinate frame (M, (d/dx,d/dy,d/dz))): Field of tangent-space automorphisms on the 3-dimensional differentiable manifold M,\n",
       " (Vector frame (M, (e_1,e_2,e_3)),\n",
       "  Coordinate frame (M, (d/dr,d/dth,d/dph))): Field of tangent-space automorphisms on the 3-dimensional differentiable manifold M}"
      ]
     },
     "execution_count": 73,
     "metadata": {},
     "output_type": "execute_result"
    }
   ],
   "source": [
    "M.changes_of_frame()"
   ]
  },
  {
   "cell_type": "markdown",
   "metadata": {},
   "source": [
    "## Vector field defined in terms of its Cartesian components\n",
    "\n",
    "We define the vector field $U$ in terms of its components with respect to the default frame, i.e. the Cartesian frame:"
   ]
  },
  {
   "cell_type": "code",
   "execution_count": 74,
   "metadata": {},
   "outputs": [
    {
     "data": {
      "text/html": [
       "<html><script type=\"math/tex; mode=display\">\\newcommand{\\Bold}[1]{\\mathbf{#1}}U = U_{x}\\left(x, y, z\\right) \\frac{\\partial}{\\partial x } + U_{y}\\left(x, y, z\\right) \\frac{\\partial}{\\partial y } + U_{z}\\left(x, y, z\\right) \\frac{\\partial}{\\partial z }</script></html>"
      ],
      "text/plain": [
       "U = U_x(x, y, z) d/dx + U_y(x, y, z) d/dy + U_z(x, y, z) d/dz"
      ]
     },
     "execution_count": 74,
     "metadata": {},
     "output_type": "execute_result"
    }
   ],
   "source": [
    "U = M.vector_field(name='U')\n",
    "U[:] = [function('U_x')(x,y,z), function('U_y')(x,y,z), function('U_z')(x,y,z)]\n",
    "U.display()"
   ]
  },
  {
   "cell_type": "markdown",
   "metadata": {},
   "source": [
    "We can ask for its components in terms of the spherical orthonormal frame:"
   ]
  },
  {
   "cell_type": "code",
   "execution_count": 75,
   "metadata": {},
   "outputs": [
    {
     "data": {
      "text/html": [
       "<html><script type=\"math/tex; mode=display\">\\newcommand{\\Bold}[1]{\\mathbf{#1}}U = \\left( \\frac{x U_{x}\\left(x, y, z\\right) + y U_{y}\\left(x, y, z\\right) + z U_{z}\\left(x, y, z\\right)}{\\sqrt{x^{2} + y^{2} + z^{2}}} \\right) e_1 + \\left( -\\frac{x^{2} U_{z}\\left(x, y, z\\right) + y^{2} U_{z}\\left(x, y, z\\right) - {\\left(x U_{x}\\left(x, y, z\\right) + y U_{y}\\left(x, y, z\\right)\\right)} z}{\\sqrt{x^{2} + y^{2} + z^{2}} \\sqrt{x^{2} + y^{2}}} \\right) e_2 + \\left( -\\frac{y U_{x}\\left(x, y, z\\right) - x U_{y}\\left(x, y, z\\right)}{\\sqrt{x^{2} + y^{2}}} \\right) e_3</script></html>"
      ],
      "text/plain": [
       "U = (x*U_x(x, y, z) + y*U_y(x, y, z) + z*U_z(x, y, z))/sqrt(x^2 + y^2 + z^2) e_1 - (x^2*U_z(x, y, z) + y^2*U_z(x, y, z) - (x*U_x(x, y, z) + y*U_y(x, y, z))*z)/(sqrt(x^2 + y^2 + z^2)*sqrt(x^2 + y^2)) e_2 - (y*U_x(x, y, z) - x*U_y(x, y, z))/sqrt(x^2 + y^2) e_3"
      ]
     },
     "execution_count": 75,
     "metadata": {},
     "output_type": "execute_result"
    }
   ],
   "source": [
    "U.display(es)"
   ]
  },
  {
   "cell_type": "code",
   "execution_count": 76,
   "metadata": {},
   "outputs": [
    {
     "data": {
      "text/html": [
       "<html><script type=\"math/tex; mode=display\">\\newcommand{\\Bold}[1]{\\mathbf{#1}}\\begin{array}{lcl} U_{\\phantom{\\, 1}}^{\\,1} & = & \\frac{x U_{x}\\left(x, y, z\\right) + y U_{y}\\left(x, y, z\\right) + z U_{z}\\left(x, y, z\\right)}{\\sqrt{x^{2} + y^{2} + z^{2}}} \\\\ U_{\\phantom{\\, 2}}^{\\,2} & = & -\\frac{x^{2} U_{z}\\left(x, y, z\\right) + y^{2} U_{z}\\left(x, y, z\\right) - {\\left(x U_{x}\\left(x, y, z\\right) + y U_{y}\\left(x, y, z\\right)\\right)} z}{\\sqrt{x^{2} + y^{2} + z^{2}} \\sqrt{x^{2} + y^{2}}} \\\\ U_{\\phantom{\\, 3}}^{\\,3} & = & -\\frac{y U_{x}\\left(x, y, z\\right) - x U_{y}\\left(x, y, z\\right)}{\\sqrt{x^{2} + y^{2}}} \\end{array}</script></html>"
      ],
      "text/plain": [
       "U^1 = (x*U_x(x, y, z) + y*U_y(x, y, z) + z*U_z(x, y, z))/sqrt(x^2 + y^2 + z^2) \n",
       "U^2 = -(x^2*U_z(x, y, z) + y^2*U_z(x, y, z) - (x*U_x(x, y, z) + y*U_y(x, y, z))*z)/(sqrt(x^2 + y^2 + z^2)*sqrt(x^2 + y^2)) \n",
       "U^3 = -(y*U_x(x, y, z) - x*U_y(x, y, z))/sqrt(x^2 + y^2) "
      ]
     },
     "execution_count": 76,
     "metadata": {},
     "output_type": "execute_result"
    }
   ],
   "source": [
    "U.display_comp(es)"
   ]
  },
  {
   "cell_type": "markdown",
   "metadata": {},
   "source": [
    "The above components are displayed in terms of the default chart (Cartesian coordinates). If we want them in terms of spherical coordinates, we have to specify it, by setting the second argument of the function `display` to `spher`:"
   ]
  },
  {
   "cell_type": "code",
   "execution_count": 77,
   "metadata": {},
   "outputs": [
    {
     "data": {
      "text/html": [
       "<html><script type=\"math/tex; mode=display\">\\newcommand{\\Bold}[1]{\\mathbf{#1}}U = \\left( U_{x}\\left(r \\cos\\left({\\phi}\\right) \\sin\\left({\\theta}\\right), r \\sin\\left({\\phi}\\right) \\sin\\left({\\theta}\\right), r \\cos\\left({\\theta}\\right)\\right) \\cos\\left({\\phi}\\right) \\sin\\left({\\theta}\\right) + U_{y}\\left(r \\cos\\left({\\phi}\\right) \\sin\\left({\\theta}\\right), r \\sin\\left({\\phi}\\right) \\sin\\left({\\theta}\\right), r \\cos\\left({\\theta}\\right)\\right) \\sin\\left({\\phi}\\right) \\sin\\left({\\theta}\\right) + U_{z}\\left(r \\cos\\left({\\phi}\\right) \\sin\\left({\\theta}\\right), r \\sin\\left({\\phi}\\right) \\sin\\left({\\theta}\\right), r \\cos\\left({\\theta}\\right)\\right) \\cos\\left({\\theta}\\right) \\right) e_1 + \\left( U_{x}\\left(r \\cos\\left({\\phi}\\right) \\sin\\left({\\theta}\\right), r \\sin\\left({\\phi}\\right) \\sin\\left({\\theta}\\right), r \\cos\\left({\\theta}\\right)\\right) \\cos\\left({\\phi}\\right) \\cos\\left({\\theta}\\right) + U_{y}\\left(r \\cos\\left({\\phi}\\right) \\sin\\left({\\theta}\\right), r \\sin\\left({\\phi}\\right) \\sin\\left({\\theta}\\right), r \\cos\\left({\\theta}\\right)\\right) \\cos\\left({\\theta}\\right) \\sin\\left({\\phi}\\right) - U_{z}\\left(r \\cos\\left({\\phi}\\right) \\sin\\left({\\theta}\\right), r \\sin\\left({\\phi}\\right) \\sin\\left({\\theta}\\right), r \\cos\\left({\\theta}\\right)\\right) \\sin\\left({\\theta}\\right) \\right) e_2 + \\left( U_{y}\\left(r \\cos\\left({\\phi}\\right) \\sin\\left({\\theta}\\right), r \\sin\\left({\\phi}\\right) \\sin\\left({\\theta}\\right), r \\cos\\left({\\theta}\\right)\\right) \\cos\\left({\\phi}\\right) - U_{x}\\left(r \\cos\\left({\\phi}\\right) \\sin\\left({\\theta}\\right), r \\sin\\left({\\phi}\\right) \\sin\\left({\\theta}\\right), r \\cos\\left({\\theta}\\right)\\right) \\sin\\left({\\phi}\\right) \\right) e_3</script></html>"
      ],
      "text/plain": [
       "U = (U_x(r*cos(ph)*sin(th), r*sin(ph)*sin(th), r*cos(th))*cos(ph)*sin(th) + U_y(r*cos(ph)*sin(th), r*sin(ph)*sin(th), r*cos(th))*sin(ph)*sin(th) + U_z(r*cos(ph)*sin(th), r*sin(ph)*sin(th), r*cos(th))*cos(th)) e_1 + (U_x(r*cos(ph)*sin(th), r*sin(ph)*sin(th), r*cos(th))*cos(ph)*cos(th) + U_y(r*cos(ph)*sin(th), r*sin(ph)*sin(th), r*cos(th))*cos(th)*sin(ph) - U_z(r*cos(ph)*sin(th), r*sin(ph)*sin(th), r*cos(th))*sin(th)) e_2 + (U_y(r*cos(ph)*sin(th), r*sin(ph)*sin(th), r*cos(th))*cos(ph) - U_x(r*cos(ph)*sin(th), r*sin(ph)*sin(th), r*cos(th))*sin(ph)) e_3"
      ]
     },
     "execution_count": 77,
     "metadata": {},
     "output_type": "execute_result"
    }
   ],
   "source": [
    "U.display(es, spher)"
   ]
  },
  {
   "cell_type": "code",
   "execution_count": 78,
   "metadata": {},
   "outputs": [
    {
     "data": {
      "text/html": [
       "<html><script type=\"math/tex; mode=display\">\\newcommand{\\Bold}[1]{\\mathbf{#1}}\\begin{array}{lcl} U_{\\phantom{\\, 1}}^{\\,1} & = & U_{x}\\left(r \\cos\\left({\\phi}\\right) \\sin\\left({\\theta}\\right), r \\sin\\left({\\phi}\\right) \\sin\\left({\\theta}\\right), r \\cos\\left({\\theta}\\right)\\right) \\cos\\left({\\phi}\\right) \\sin\\left({\\theta}\\right) + U_{y}\\left(r \\cos\\left({\\phi}\\right) \\sin\\left({\\theta}\\right), r \\sin\\left({\\phi}\\right) \\sin\\left({\\theta}\\right), r \\cos\\left({\\theta}\\right)\\right) \\sin\\left({\\phi}\\right) \\sin\\left({\\theta}\\right) + U_{z}\\left(r \\cos\\left({\\phi}\\right) \\sin\\left({\\theta}\\right), r \\sin\\left({\\phi}\\right) \\sin\\left({\\theta}\\right), r \\cos\\left({\\theta}\\right)\\right) \\cos\\left({\\theta}\\right) \\\\ U_{\\phantom{\\, 2}}^{\\,2} & = & U_{x}\\left(r \\cos\\left({\\phi}\\right) \\sin\\left({\\theta}\\right), r \\sin\\left({\\phi}\\right) \\sin\\left({\\theta}\\right), r \\cos\\left({\\theta}\\right)\\right) \\cos\\left({\\phi}\\right) \\cos\\left({\\theta}\\right) + U_{y}\\left(r \\cos\\left({\\phi}\\right) \\sin\\left({\\theta}\\right), r \\sin\\left({\\phi}\\right) \\sin\\left({\\theta}\\right), r \\cos\\left({\\theta}\\right)\\right) \\cos\\left({\\theta}\\right) \\sin\\left({\\phi}\\right) - U_{z}\\left(r \\cos\\left({\\phi}\\right) \\sin\\left({\\theta}\\right), r \\sin\\left({\\phi}\\right) \\sin\\left({\\theta}\\right), r \\cos\\left({\\theta}\\right)\\right) \\sin\\left({\\theta}\\right) \\\\ U_{\\phantom{\\, 3}}^{\\,3} & = & U_{y}\\left(r \\cos\\left({\\phi}\\right) \\sin\\left({\\theta}\\right), r \\sin\\left({\\phi}\\right) \\sin\\left({\\theta}\\right), r \\cos\\left({\\theta}\\right)\\right) \\cos\\left({\\phi}\\right) - U_{x}\\left(r \\cos\\left({\\phi}\\right) \\sin\\left({\\theta}\\right), r \\sin\\left({\\phi}\\right) \\sin\\left({\\theta}\\right), r \\cos\\left({\\theta}\\right)\\right) \\sin\\left({\\phi}\\right) \\end{array}</script></html>"
      ],
      "text/plain": [
       "U^1 = U_x(r*cos(ph)*sin(th), r*sin(ph)*sin(th), r*cos(th))*cos(ph)*sin(th) + U_y(r*cos(ph)*sin(th), r*sin(ph)*sin(th), r*cos(th))*sin(ph)*sin(th) + U_z(r*cos(ph)*sin(th), r*sin(ph)*sin(th), r*cos(th))*cos(th) \n",
       "U^2 = U_x(r*cos(ph)*sin(th), r*sin(ph)*sin(th), r*cos(th))*cos(ph)*cos(th) + U_y(r*cos(ph)*sin(th), r*sin(ph)*sin(th), r*cos(th))*cos(th)*sin(ph) - U_z(r*cos(ph)*sin(th), r*sin(ph)*sin(th), r*cos(th))*sin(th) \n",
       "U^3 = U_y(r*cos(ph)*sin(th), r*sin(ph)*sin(th), r*cos(th))*cos(ph) - U_x(r*cos(ph)*sin(th), r*sin(ph)*sin(th), r*cos(th))*sin(ph) "
      ]
     },
     "execution_count": 78,
     "metadata": {},
     "output_type": "execute_result"
    }
   ],
   "source": [
    "U.display_comp(es, spher)"
   ]
  },
  {
   "cell_type": "markdown",
   "metadata": {},
   "source": [
    "We may also ask for the components of $U$ w.r.t. the natural frame of spherical coordinates:"
   ]
  },
  {
   "cell_type": "code",
   "execution_count": 79,
   "metadata": {},
   "outputs": [
    {
     "data": {
      "text/html": [
       "<html><script type=\"math/tex; mode=display\">\\newcommand{\\Bold}[1]{\\mathbf{#1}}U = \\left( \\frac{x U_{x}\\left(x, y, z\\right) + y U_{y}\\left(x, y, z\\right) + z U_{z}\\left(x, y, z\\right)}{\\sqrt{x^{2} + y^{2} + z^{2}}} \\right) \\frac{\\partial}{\\partial r } + \\left( -\\frac{{\\left(x^{2} U_{z}\\left(x, y, z\\right) + y^{2} U_{z}\\left(x, y, z\\right) - {\\left(x U_{x}\\left(x, y, z\\right) + y U_{y}\\left(x, y, z\\right)\\right)} z\\right)} \\sqrt{x^{2} + y^{2}}}{x^{4} + 2 \\, x^{2} y^{2} + y^{4} + {\\left(x^{2} + y^{2}\\right)} z^{2}} \\right) \\frac{\\partial}{\\partial {\\theta} } + \\left( -\\frac{y U_{x}\\left(x, y, z\\right) - x U_{y}\\left(x, y, z\\right)}{x^{2} + y^{2}} \\right) \\frac{\\partial}{\\partial {\\phi} }</script></html>"
      ],
      "text/plain": [
       "U = (x*U_x(x, y, z) + y*U_y(x, y, z) + z*U_z(x, y, z))/sqrt(x^2 + y^2 + z^2) d/dr - (x^2*U_z(x, y, z) + y^2*U_z(x, y, z) - (x*U_x(x, y, z) + y*U_y(x, y, z))*z)*sqrt(x^2 + y^2)/(x^4 + 2*x^2*y^2 + y^4 + (x^2 + y^2)*z^2) d/dth - (y*U_x(x, y, z) - x*U_y(x, y, z))/(x^2 + y^2) d/dph"
      ]
     },
     "execution_count": 79,
     "metadata": {},
     "output_type": "execute_result"
    }
   ],
   "source": [
    "U.display(spher.frame())"
   ]
  },
  {
   "cell_type": "code",
   "execution_count": 80,
   "metadata": {},
   "outputs": [
    {
     "data": {
      "text/html": [
       "<html><script type=\"math/tex; mode=display\">\\newcommand{\\Bold}[1]{\\mathbf{#1}}U = \\left( U_{x}\\left(r \\cos\\left({\\phi}\\right) \\sin\\left({\\theta}\\right), r \\sin\\left({\\phi}\\right) \\sin\\left({\\theta}\\right), r \\cos\\left({\\theta}\\right)\\right) \\cos\\left({\\phi}\\right) \\sin\\left({\\theta}\\right) + U_{y}\\left(r \\cos\\left({\\phi}\\right) \\sin\\left({\\theta}\\right), r \\sin\\left({\\phi}\\right) \\sin\\left({\\theta}\\right), r \\cos\\left({\\theta}\\right)\\right) \\sin\\left({\\phi}\\right) \\sin\\left({\\theta}\\right) + U_{z}\\left(r \\cos\\left({\\phi}\\right) \\sin\\left({\\theta}\\right), r \\sin\\left({\\phi}\\right) \\sin\\left({\\theta}\\right), r \\cos\\left({\\theta}\\right)\\right) \\cos\\left({\\theta}\\right) \\right) \\frac{\\partial}{\\partial r } + \\left( \\frac{U_{x}\\left(r \\cos\\left({\\phi}\\right) \\sin\\left({\\theta}\\right), r \\sin\\left({\\phi}\\right) \\sin\\left({\\theta}\\right), r \\cos\\left({\\theta}\\right)\\right) \\cos\\left({\\phi}\\right) \\cos\\left({\\theta}\\right) + U_{y}\\left(r \\cos\\left({\\phi}\\right) \\sin\\left({\\theta}\\right), r \\sin\\left({\\phi}\\right) \\sin\\left({\\theta}\\right), r \\cos\\left({\\theta}\\right)\\right) \\cos\\left({\\theta}\\right) \\sin\\left({\\phi}\\right) - U_{z}\\left(r \\cos\\left({\\phi}\\right) \\sin\\left({\\theta}\\right), r \\sin\\left({\\phi}\\right) \\sin\\left({\\theta}\\right), r \\cos\\left({\\theta}\\right)\\right) \\sin\\left({\\theta}\\right)}{r} \\right) \\frac{\\partial}{\\partial {\\theta} } + \\left( \\frac{U_{y}\\left(r \\cos\\left({\\phi}\\right) \\sin\\left({\\theta}\\right), r \\sin\\left({\\phi}\\right) \\sin\\left({\\theta}\\right), r \\cos\\left({\\theta}\\right)\\right) \\cos\\left({\\phi}\\right) - U_{x}\\left(r \\cos\\left({\\phi}\\right) \\sin\\left({\\theta}\\right), r \\sin\\left({\\phi}\\right) \\sin\\left({\\theta}\\right), r \\cos\\left({\\theta}\\right)\\right) \\sin\\left({\\phi}\\right)}{r \\sin\\left({\\theta}\\right)} \\right) \\frac{\\partial}{\\partial {\\phi} }</script></html>"
      ],
      "text/plain": [
       "U = (U_x(r*cos(ph)*sin(th), r*sin(ph)*sin(th), r*cos(th))*cos(ph)*sin(th) + U_y(r*cos(ph)*sin(th), r*sin(ph)*sin(th), r*cos(th))*sin(ph)*sin(th) + U_z(r*cos(ph)*sin(th), r*sin(ph)*sin(th), r*cos(th))*cos(th)) d/dr + (U_x(r*cos(ph)*sin(th), r*sin(ph)*sin(th), r*cos(th))*cos(ph)*cos(th) + U_y(r*cos(ph)*sin(th), r*sin(ph)*sin(th), r*cos(th))*cos(th)*sin(ph) - U_z(r*cos(ph)*sin(th), r*sin(ph)*sin(th), r*cos(th))*sin(th))/r d/dth + (U_y(r*cos(ph)*sin(th), r*sin(ph)*sin(th), r*cos(th))*cos(ph) - U_x(r*cos(ph)*sin(th), r*sin(ph)*sin(th), r*cos(th))*sin(ph))/(r*sin(th)) d/dph"
      ]
     },
     "execution_count": 80,
     "metadata": {},
     "output_type": "execute_result"
    }
   ],
   "source": [
    "U.display(spher.frame(), spher)"
   ]
  },
  {
   "cell_type": "markdown",
   "metadata": {},
   "source": [
    "## Vector field defined in terms of its spherical components\n",
    "\n",
    "Let us consider a vector field $V$ defined by its components with respect to the orthonormal spherical frame `es` = $(e_1, e_2, e_3)$:"
   ]
  },
  {
   "cell_type": "code",
   "execution_count": 81,
   "metadata": {},
   "outputs": [
    {
     "data": {
      "text/html": [
       "<html><script type=\"math/tex; mode=display\">\\newcommand{\\Bold}[1]{\\mathbf{#1}}V = V_{1}\\left(r, {\\theta}, {\\phi}\\right) e_1 + V_{2}\\left(r, {\\theta}, {\\phi}\\right) e_2 + V_{3}\\left(r, {\\theta}, {\\phi}\\right) e_3</script></html>"
      ],
      "text/plain": [
       "V = V_1(r, th, ph) e_1 + V_2(r, th, ph) e_2 + V_3(r, th, ph) e_3"
      ]
     },
     "execution_count": 81,
     "metadata": {},
     "output_type": "execute_result"
    }
   ],
   "source": [
    "V = M.vector_field(name='V')\n",
    "V[es,:,spher] = [function('V_1')(r,th,ph), function('V_2')(r,th,ph), function('V_3')(r,th,ph)]\n",
    "V.display(es, spher)"
   ]
  },
  {
   "cell_type": "markdown",
   "metadata": {},
   "source": [
    "We may ask for the components of this vector field with respect to the Cartesian frame (first argument `cart.frame()`), each component being expressed in terms of spherical coordinates (second argument `spher`):"
   ]
  },
  {
   "cell_type": "code",
   "execution_count": 82,
   "metadata": {},
   "outputs": [
    {
     "data": {
      "text/html": [
       "<html><script type=\"math/tex; mode=display\">\\newcommand{\\Bold}[1]{\\mathbf{#1}}V = \\left( V_{2}\\left(r, {\\theta}, {\\phi}\\right) \\cos\\left({\\phi}\\right) \\cos\\left({\\theta}\\right) + V_{1}\\left(r, {\\theta}, {\\phi}\\right) \\cos\\left({\\phi}\\right) \\sin\\left({\\theta}\\right) - V_{3}\\left(r, {\\theta}, {\\phi}\\right) \\sin\\left({\\phi}\\right) \\right) \\frac{\\partial}{\\partial x } + \\left( V_{2}\\left(r, {\\theta}, {\\phi}\\right) \\cos\\left({\\theta}\\right) \\sin\\left({\\phi}\\right) + V_{1}\\left(r, {\\theta}, {\\phi}\\right) \\sin\\left({\\phi}\\right) \\sin\\left({\\theta}\\right) + V_{3}\\left(r, {\\theta}, {\\phi}\\right) \\cos\\left({\\phi}\\right) \\right) \\frac{\\partial}{\\partial y } + \\left( V_{1}\\left(r, {\\theta}, {\\phi}\\right) \\cos\\left({\\theta}\\right) - V_{2}\\left(r, {\\theta}, {\\phi}\\right) \\sin\\left({\\theta}\\right) \\right) \\frac{\\partial}{\\partial z }</script></html>"
      ],
      "text/plain": [
       "V = (V_2(r, th, ph)*cos(ph)*cos(th) + V_1(r, th, ph)*cos(ph)*sin(th) - V_3(r, th, ph)*sin(ph)) d/dx + (V_2(r, th, ph)*cos(th)*sin(ph) + V_1(r, th, ph)*sin(ph)*sin(th) + V_3(r, th, ph)*cos(ph)) d/dy + (V_1(r, th, ph)*cos(th) - V_2(r, th, ph)*sin(th)) d/dz"
      ]
     },
     "execution_count": 82,
     "metadata": {},
     "output_type": "execute_result"
    }
   ],
   "source": [
    "V.display(cart.frame(), spher)"
   ]
  },
  {
   "cell_type": "code",
   "execution_count": 83,
   "metadata": {},
   "outputs": [
    {
     "data": {
      "text/html": [
       "<html><script type=\"math/tex; mode=display\">\\newcommand{\\Bold}[1]{\\mathbf{#1}}\\begin{array}{lcl} V_{\\phantom{\\, x}}^{ \\, x } & = & V_{2}\\left(r, {\\theta}, {\\phi}\\right) \\cos\\left({\\phi}\\right) \\cos\\left({\\theta}\\right) + V_{1}\\left(r, {\\theta}, {\\phi}\\right) \\cos\\left({\\phi}\\right) \\sin\\left({\\theta}\\right) - V_{3}\\left(r, {\\theta}, {\\phi}\\right) \\sin\\left({\\phi}\\right) \\\\ V_{\\phantom{\\, y}}^{ \\, y } & = & V_{2}\\left(r, {\\theta}, {\\phi}\\right) \\cos\\left({\\theta}\\right) \\sin\\left({\\phi}\\right) + V_{1}\\left(r, {\\theta}, {\\phi}\\right) \\sin\\left({\\phi}\\right) \\sin\\left({\\theta}\\right) + V_{3}\\left(r, {\\theta}, {\\phi}\\right) \\cos\\left({\\phi}\\right) \\\\ V_{\\phantom{\\, z}}^{ \\, z } & = & V_{1}\\left(r, {\\theta}, {\\phi}\\right) \\cos\\left({\\theta}\\right) - V_{2}\\left(r, {\\theta}, {\\phi}\\right) \\sin\\left({\\theta}\\right) \\end{array}</script></html>"
      ],
      "text/plain": [
       "V^x = V_2(r, th, ph)*cos(ph)*cos(th) + V_1(r, th, ph)*cos(ph)*sin(th) - V_3(r, th, ph)*sin(ph) \n",
       "V^y = V_2(r, th, ph)*cos(th)*sin(ph) + V_1(r, th, ph)*sin(ph)*sin(th) + V_3(r, th, ph)*cos(ph) \n",
       "V^z = V_1(r, th, ph)*cos(th) - V_2(r, th, ph)*sin(th) "
      ]
     },
     "execution_count": 83,
     "metadata": {},
     "output_type": "execute_result"
    }
   ],
   "source": [
    "V.display_comp(cart.frame(), spher)"
   ]
  },
  {
   "cell_type": "markdown",
   "metadata": {},
   "source": [
    "## Euclidean metric\n",
    "\n",
    "The standard Euclidean metric is introduced as a Riemannian metric on $M$, whose components with respect to the Cartesian frame are $\\mathrm{diag}(1,1,1)$:"
   ]
  },
  {
   "cell_type": "code",
   "execution_count": 84,
   "metadata": {},
   "outputs": [
    {
     "data": {
      "text/html": [
       "<html><script type=\"math/tex; mode=display\">\\newcommand{\\Bold}[1]{\\mathbf{#1}}g = \\mathrm{d} x\\otimes \\mathrm{d} x+\\mathrm{d} y\\otimes \\mathrm{d} y+\\mathrm{d} z\\otimes \\mathrm{d} z</script></html>"
      ],
      "text/plain": [
       "g = dx*dx + dy*dy + dz*dz"
      ]
     },
     "execution_count": 84,
     "metadata": {},
     "output_type": "execute_result"
    }
   ],
   "source": [
    "g = M.riemannian_metric('g')\n",
    "g[1,1], g[2,2], g[3,3] = 1, 1, 1\n",
    "g.display()"
   ]
  },
  {
   "cell_type": "markdown",
   "metadata": {},
   "source": [
    "The components of $g$ with respect to the spherical coordinates are then:"
   ]
  },
  {
   "cell_type": "code",
   "execution_count": 85,
   "metadata": {},
   "outputs": [
    {
     "data": {
      "text/html": [
       "<html><script type=\"math/tex; mode=display\">\\newcommand{\\Bold}[1]{\\mathbf{#1}}g = \\mathrm{d} r\\otimes \\mathrm{d} r + r^{2} \\mathrm{d} {\\theta}\\otimes \\mathrm{d} {\\theta} + r^{2} \\sin\\left({\\theta}\\right)^{2} \\mathrm{d} {\\phi}\\otimes \\mathrm{d} {\\phi}</script></html>"
      ],
      "text/plain": [
       "g = dr*dr + r^2 dth*dth + r^2*sin(th)^2 dph*dph"
      ]
     },
     "execution_count": 85,
     "metadata": {},
     "output_type": "execute_result"
    }
   ],
   "source": [
    "g.display(spher.frame(), spher)"
   ]
  },
  {
   "cell_type": "markdown",
   "metadata": {},
   "source": [
    "Since `es` = $(e_1,e_2,e_3)$ is an orthonormal frame, the components of $g$ with respect to it are $\\mathrm{diag}(1,1,1)$:"
   ]
  },
  {
   "cell_type": "code",
   "execution_count": 86,
   "metadata": {},
   "outputs": [
    {
     "data": {
      "text/html": [
       "<html><script type=\"math/tex; mode=display\">\\newcommand{\\Bold}[1]{\\mathbf{#1}}g = e^1\\otimes e^1+e^2\\otimes e^2+e^3\\otimes e^3</script></html>"
      ],
      "text/plain": [
       "g = e^1*e^1 + e^2*e^2 + e^3*e^3"
      ]
     },
     "execution_count": 86,
     "metadata": {},
     "output_type": "execute_result"
    }
   ],
   "source": [
    "g.display(es, spher)"
   ]
  },
  {
   "cell_type": "markdown",
   "metadata": {},
   "source": [
    "The covariant derivative operator $\\nabla$ is introduced as the (Levi-Civita) connection associated with $g$: "
   ]
  },
  {
   "cell_type": "code",
   "execution_count": 87,
   "metadata": {},
   "outputs": [
    {
     "name": "stdout",
     "output_type": "stream",
     "text": [
      "Levi-Civita connection nabla_g associated with the Riemannian metric g on the 3-dimensional differentiable manifold M\n"
     ]
    },
    {
     "data": {
      "text/html": [
       "<html><script type=\"math/tex; mode=display\">\\newcommand{\\Bold}[1]{\\mathbf{#1}}\\nabla_{g}</script></html>"
      ],
      "text/plain": [
       "Levi-Civita connection nabla_g associated with the Riemannian metric g on the 3-dimensional differentiable manifold M"
      ]
     },
     "execution_count": 87,
     "metadata": {},
     "output_type": "execute_result"
    }
   ],
   "source": [
    "nabla = g.connection()\n",
    "print(nabla)\n",
    "nabla"
   ]
  },
  {
   "cell_type": "markdown",
   "metadata": {},
   "source": [
    "The connection coefficient with respect to the natural frame of spherical coordinates (Christoffel symbols) are:"
   ]
  },
  {
   "cell_type": "code",
   "execution_count": 88,
   "metadata": {},
   "outputs": [
    {
     "data": {
      "text/html": [
       "<html><script type=\"math/tex; mode=display\">\\newcommand{\\Bold}[1]{\\mathbf{#1}}\\begin{array}{lcl} \\Gamma_{ \\phantom{\\, r} \\, {\\theta} \\, {\\theta} }^{ \\, r \\phantom{\\, {\\theta}} \\phantom{\\, {\\theta}} } & = & -r \\\\ \\Gamma_{ \\phantom{\\, r} \\, {\\phi} \\, {\\phi} }^{ \\, r \\phantom{\\, {\\phi}} \\phantom{\\, {\\phi}} } & = & -r \\sin\\left({\\theta}\\right)^{2} \\\\ \\Gamma_{ \\phantom{\\, {\\theta}} \\, r \\, {\\theta} }^{ \\, {\\theta} \\phantom{\\, r} \\phantom{\\, {\\theta}} } & = & \\frac{1}{r} \\\\ \\Gamma_{ \\phantom{\\, {\\theta}} \\, {\\theta} \\, r }^{ \\, {\\theta} \\phantom{\\, {\\theta}} \\phantom{\\, r} } & = & \\frac{1}{r} \\\\ \\Gamma_{ \\phantom{\\, {\\theta}} \\, {\\phi} \\, {\\phi} }^{ \\, {\\theta} \\phantom{\\, {\\phi}} \\phantom{\\, {\\phi}} } & = & -\\cos\\left({\\theta}\\right) \\sin\\left({\\theta}\\right) \\\\ \\Gamma_{ \\phantom{\\, {\\phi}} \\, r \\, {\\phi} }^{ \\, {\\phi} \\phantom{\\, r} \\phantom{\\, {\\phi}} } & = & \\frac{1}{r} \\\\ \\Gamma_{ \\phantom{\\, {\\phi}} \\, {\\theta} \\, {\\phi} }^{ \\, {\\phi} \\phantom{\\, {\\theta}} \\phantom{\\, {\\phi}} } & = & \\frac{\\cos\\left({\\theta}\\right)}{\\sin\\left({\\theta}\\right)} \\\\ \\Gamma_{ \\phantom{\\, {\\phi}} \\, {\\phi} \\, r }^{ \\, {\\phi} \\phantom{\\, {\\phi}} \\phantom{\\, r} } & = & \\frac{1}{r} \\\\ \\Gamma_{ \\phantom{\\, {\\phi}} \\, {\\phi} \\, {\\theta} }^{ \\, {\\phi} \\phantom{\\, {\\phi}} \\phantom{\\, {\\theta}} } & = & \\frac{\\cos\\left({\\theta}\\right)}{\\sin\\left({\\theta}\\right)} \\end{array}</script></html>"
      ],
      "text/plain": [
       "Gam^r_th,th = -r \n",
       "Gam^r_ph,ph = -r*sin(th)^2 \n",
       "Gam^th_r,th = 1/r \n",
       "Gam^th_th,r = 1/r \n",
       "Gam^th_ph,ph = -cos(th)*sin(th) \n",
       "Gam^ph_r,ph = 1/r \n",
       "Gam^ph_th,ph = cos(th)/sin(th) \n",
       "Gam^ph_ph,r = 1/r \n",
       "Gam^ph_ph,th = cos(th)/sin(th) "
      ]
     },
     "execution_count": 88,
     "metadata": {},
     "output_type": "execute_result"
    }
   ],
   "source": [
    "nabla.display(spher.frame(), spher)"
   ]
  },
  {
   "cell_type": "markdown",
   "metadata": {},
   "source": [
    "while those with respect to the orthonormal spherical frame are:"
   ]
  },
  {
   "cell_type": "code",
   "execution_count": 89,
   "metadata": {},
   "outputs": [
    {
     "data": {
      "text/html": [
       "<html><script type=\"math/tex; mode=display\">\\newcommand{\\Bold}[1]{\\mathbf{#1}}\\begin{array}{lcl} \\Gamma_{\\phantom{\\, 1}\\,2\\,2}^{\\,1\\phantom{\\, 2}\\phantom{\\, 2}} & = & -\\frac{1}{r} \\\\ \\Gamma_{\\phantom{\\, 1}\\,3\\,3}^{\\,1\\phantom{\\, 3}\\phantom{\\, 3}} & = & -\\frac{1}{r} \\\\ \\Gamma_{\\phantom{\\, 2}\\,1\\,2}^{\\,2\\phantom{\\, 1}\\phantom{\\, 2}} & = & \\frac{1}{r} \\\\ \\Gamma_{\\phantom{\\, 2}\\,3\\,3}^{\\,2\\phantom{\\, 3}\\phantom{\\, 3}} & = & -\\frac{\\cos\\left({\\theta}\\right)}{r \\sin\\left({\\theta}\\right)} \\\\ \\Gamma_{\\phantom{\\, 3}\\,1\\,3}^{\\,3\\phantom{\\, 1}\\phantom{\\, 3}} & = & \\frac{1}{r} \\\\ \\Gamma_{\\phantom{\\, 3}\\,2\\,3}^{\\,3\\phantom{\\, 2}\\phantom{\\, 3}} & = & \\frac{\\cos\\left({\\theta}\\right)}{r \\sin\\left({\\theta}\\right)} \\end{array}</script></html>"
      ],
      "text/plain": [
       "Gam^1_22 = -1/r \n",
       "Gam^1_33 = -1/r \n",
       "Gam^2_12 = 1/r \n",
       "Gam^2_33 = -cos(th)/(r*sin(th)) \n",
       "Gam^3_13 = 1/r \n",
       "Gam^3_23 = cos(th)/(r*sin(th)) "
      ]
     },
     "execution_count": 89,
     "metadata": {},
     "output_type": "execute_result"
    }
   ],
   "source": [
    "nabla.display(es, spher)"
   ]
  },
  {
   "cell_type": "markdown",
   "metadata": {},
   "source": [
    "The covariant derivative of $U$ is"
   ]
  },
  {
   "cell_type": "code",
   "execution_count": 90,
   "metadata": {},
   "outputs": [
    {
     "name": "stdout",
     "output_type": "stream",
     "text": [
      "Tensor field nabla_g(U) of type (1,1) on the 3-dimensional differentiable manifold M\n"
     ]
    }
   ],
   "source": [
    "nabU = nabla(U)\n",
    "print(nabU)"
   ]
  },
  {
   "cell_type": "code",
   "execution_count": 92,
   "metadata": {},
   "outputs": [
    {
     "data": {
      "text/html": [
       "<html><script type=\"math/tex; mode=display\">\\newcommand{\\Bold}[1]{\\mathbf{#1}}\\nabla_{g} U = \\frac{\\partial\\,U_{x}}{\\partial x} \\frac{\\partial}{\\partial x }\\otimes \\mathrm{d} x + \\frac{\\partial\\,U_{x}}{\\partial y} \\frac{\\partial}{\\partial x }\\otimes \\mathrm{d} y + \\frac{\\partial\\,U_{x}}{\\partial z} \\frac{\\partial}{\\partial x }\\otimes \\mathrm{d} z + \\frac{\\partial\\,U_{y}}{\\partial x} \\frac{\\partial}{\\partial y }\\otimes \\mathrm{d} x + \\frac{\\partial\\,U_{y}}{\\partial y} \\frac{\\partial}{\\partial y }\\otimes \\mathrm{d} y + \\frac{\\partial\\,U_{y}}{\\partial z} \\frac{\\partial}{\\partial y }\\otimes \\mathrm{d} z + \\frac{\\partial\\,U_{z}}{\\partial x} \\frac{\\partial}{\\partial z }\\otimes \\mathrm{d} x + \\frac{\\partial\\,U_{z}}{\\partial y} \\frac{\\partial}{\\partial z }\\otimes \\mathrm{d} y + \\frac{\\partial\\,U_{z}}{\\partial z} \\frac{\\partial}{\\partial z }\\otimes \\mathrm{d} z</script></html>"
      ],
      "text/plain": [
       "nabla_g(U) = d(U_x)/dx d/dx*dx + d(U_x)/dy d/dx*dy + d(U_x)/dz d/dx*dz + d(U_y)/dx d/dy*dx + d(U_y)/dy d/dy*dy + d(U_y)/dz d/dy*dz + d(U_z)/dx d/dz*dx + d(U_z)/dy d/dz*dy + d(U_z)/dz d/dz*dz"
      ]
     },
     "execution_count": 92,
     "metadata": {},
     "output_type": "execute_result"
    }
   ],
   "source": [
    "nabU.display()"
   ]
  },
  {
   "cell_type": "markdown",
   "metadata": {},
   "source": [
    "while the covariant derivative of $V$ is"
   ]
  },
  {
   "cell_type": "code",
   "execution_count": 93,
   "metadata": {},
   "outputs": [
    {
     "name": "stdout",
     "output_type": "stream",
     "text": [
      "Tensor field nabla_g(V) of type (1,1) on the 3-dimensional differentiable manifold M\n"
     ]
    }
   ],
   "source": [
    "nabV = nabla(V)\n",
    "print(nabV)"
   ]
  },
  {
   "cell_type": "code",
   "execution_count": 94,
   "metadata": {},
   "outputs": [
    {
     "data": {
      "text/html": [
       "<html><script type=\"math/tex; mode=display\">\\newcommand{\\Bold}[1]{\\mathbf{#1}}\\nabla_{g} V = \\frac{\\partial\\,V_{1}}{\\partial r} e_1\\otimes e^1 + \\left( -\\frac{V_{2}\\left(r, {\\theta}, {\\phi}\\right) - \\frac{\\partial\\,V_{1}}{\\partial {\\theta}}}{r} \\right) e_1\\otimes e^2 + \\left( -\\frac{V_{3}\\left(r, {\\theta}, {\\phi}\\right) \\sin\\left({\\theta}\\right) - \\frac{\\partial\\,V_{1}}{\\partial {\\phi}}}{r \\sin\\left({\\theta}\\right)} \\right) e_1\\otimes e^3 + \\frac{\\partial\\,V_{2}}{\\partial r} e_2\\otimes e^1 + \\left( \\frac{V_{1}\\left(r, {\\theta}, {\\phi}\\right) + \\frac{\\partial\\,V_{2}}{\\partial {\\theta}}}{r} \\right) e_2\\otimes e^2 + \\left( -\\frac{V_{3}\\left(r, {\\theta}, {\\phi}\\right) \\cos\\left({\\theta}\\right) - \\frac{\\partial\\,V_{2}}{\\partial {\\phi}}}{r \\sin\\left({\\theta}\\right)} \\right) e_2\\otimes e^3 + \\frac{\\partial\\,V_{3}}{\\partial r} e_3\\otimes e^1 + \\frac{\\frac{\\partial\\,V_{3}}{\\partial {\\theta}}}{r} e_3\\otimes e^2 + \\left( \\frac{V_{2}\\left(r, {\\theta}, {\\phi}\\right) \\cos\\left({\\theta}\\right) + V_{1}\\left(r, {\\theta}, {\\phi}\\right) \\sin\\left({\\theta}\\right) + \\frac{\\partial\\,V_{3}}{\\partial {\\phi}}}{r \\sin\\left({\\theta}\\right)} \\right) e_3\\otimes e^3</script></html>"
      ],
      "text/plain": [
       "nabla_g(V) = d(V_1)/dr e_1*e^1 - (V_2(r, th, ph) - d(V_1)/dth)/r e_1*e^2 - (V_3(r, th, ph)*sin(th) - d(V_1)/dph)/(r*sin(th)) e_1*e^3 + d(V_2)/dr e_2*e^1 + (V_1(r, th, ph) + d(V_2)/dth)/r e_2*e^2 - (V_3(r, th, ph)*cos(th) - d(V_2)/dph)/(r*sin(th)) e_2*e^3 + d(V_3)/dr e_3*e^1 + d(V_3)/dth/r e_3*e^2 + (V_2(r, th, ph)*cos(th) + V_1(r, th, ph)*sin(th) + d(V_3)/dph)/(r*sin(th)) e_3*e^3"
      ]
     },
     "execution_count": 94,
     "metadata": {},
     "output_type": "execute_result"
    }
   ],
   "source": [
    "nabV.display(es, spher)"
   ]
  },
  {
   "cell_type": "code",
   "execution_count": null,
   "metadata": {},
   "outputs": [],
   "source": []
  }
 ],
 "metadata": {
  "kernelspec": {
   "display_name": "SageMath 8.0",
   "language": "",
   "name": "sagemath"
  },
  "language_info": {
   "codemirror_mode": {
    "name": "ipython",
    "version": 2
   },
   "file_extension": ".py",
   "mimetype": "text/x-python",
   "name": "python",
   "nbconvert_exporter": "python",
   "pygments_lexer": "ipython2",
   "version": "2.7.13"
  },
  "latex_envs": {
   "bibliofile": "biblio.bib",
   "cite_by": "apalike",
   "current_citInitial": 1,
   "eqLabelWithNumbers": true,
   "eqNumInitial": 0
  }
 },
 "nbformat": 4,
 "nbformat_minor": 1
}
