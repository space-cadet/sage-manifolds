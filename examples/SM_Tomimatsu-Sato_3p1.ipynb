{
 "cells": [
  {
   "cell_type": "markdown",
   "metadata": {},
   "source": [
    "# 3+1 Einstein equations in the $\\delta=2$ Tomimatsu-Sato spacetime\n",
    "\n",
    "This worksheet demonstrates a few capabilities of [SageManifolds](http://sagemanifolds.obspm.fr/) (version 1.0, as included in SageMath 7.5) in computations regarding the 3+1 slicing of the $\\delta=2$ Tomimatsu-Sato spacetime.\n",
    "\n",
    "Click [here](https://raw.githubusercontent.com/sagemanifolds/SageManifolds/master/Worksheets/v1.0/SM_Tomimatsu-Sato_3p1.ipynb) to download the worksheet file (ipynb format). To run it, you must start SageMath with the Jupyter notebook, via the command `sage -n jupyter`"
   ]
  },
  {
   "cell_type": "markdown",
   "metadata": {},
   "source": [
    "*NB:* a version of SageMath at least equal to 7.5 is required to run this worksheet:"
   ]
  },
  {
   "cell_type": "code",
   "execution_count": 1,
   "metadata": {
    "collapsed": false
   },
   "outputs": [
    {
     "data": {
      "text/plain": [
       "'SageMath version 7.5.1, Release Date: 2017-01-15'"
      ]
     },
     "execution_count": 1,
     "metadata": {},
     "output_type": "execute_result"
    }
   ],
   "source": [
    "version()"
   ]
  },
  {
   "cell_type": "markdown",
   "metadata": {},
   "source": [
    "First we set up the notebook to display mathematical objects using LaTeX rendering:"
   ]
  },
  {
   "cell_type": "code",
   "execution_count": 2,
   "metadata": {
    "collapsed": true
   },
   "outputs": [],
   "source": [
    "%display latex"
   ]
  },
  {
   "cell_type": "markdown",
   "metadata": {},
   "source": [
    "Since some computations are quite long, we ask for running them in parallel on 8 cores:"
   ]
  },
  {
   "cell_type": "code",
   "execution_count": 3,
   "metadata": {
    "collapsed": true
   },
   "outputs": [],
   "source": [
    "Parallelism().set(nproc=8)"
   ]
  },
  {
   "cell_type": "markdown",
   "metadata": {},
   "source": [
    "<h2>Tomimatsu-Sato spacetime</h2>\n",
    "<p>The Tomimatsu-Sato solution is an exact stationary and axisymmetric  solution of the vaccum Einstein equation, which is asymptotically flat and has a non-zero angular momentum. It has been found in 1972 by A. Tomimatsu and H. Sato [<a href=\"http://dx.doi.org/10.1103/PhysRevLett.29.1344\">Phys. Rev. Lett. <strong>29</strong>, 1344 (1972)</a>], as a solution of the Ernst equation. It is actually the member $\\delta=2$ of a larger family of solutions parametrized by a positive integer $\\delta$ and exhibited by Tomimatsu and Sato in 1973 <a href=\"http://dx.doi.org/10.1143/PTP.50.95\">[Prog. Theor. Phys. <strong>50</strong>, 95 (1973)</a>], the member $\\delta=1$ being nothing but the Kerr metric. We refer to [<a href=\"http://dx.doi.org/10.1143/PTP.127.1057\">Manko, Prog. Theor. Phys.<strong> 127</strong>, 1057 (2012)</a>] for a discussion of the properties of this solution. </p>\n",
    "<h2>Spacelike hypersurface</h2>\n",
    "<p>We consider some hypersurface $\\Sigma$ of a spacelike foliation $(\\Sigma_t)_{t\\in\\mathbb{R}}$ of $\\delta=2$ Tomimatsu-Sato spacetime; we declare $\\Sigma_t$ as a 3-dimensional manifold:</p>"
   ]
  },
  {
   "cell_type": "code",
   "execution_count": 4,
   "metadata": {
    "collapsed": false
   },
   "outputs": [],
   "source": [
    "Sig = Manifold(3, 'Sigma', r'\\Sigma', start_index=1)"
   ]
  },
  {
   "cell_type": "markdown",
   "metadata": {},
   "source": [
    "<p>On $\\Sigma$, we consider the prolate spheroidal <span id=\"cell_outer_1\">coordinates</span> $(x,y,\\phi)$, with $x\\in(1,+\\infty)$, $y\\in(-1,1)$ and $\\phi\\in(0,2\\pi)$ :</p>"
   ]
  },
  {
   "cell_type": "code",
   "execution_count": 5,
   "metadata": {
    "collapsed": false
   },
   "outputs": [
    {
     "name": "stdout",
     "output_type": "stream",
     "text": [
      "Chart (Sigma, (x, y, ph))\n"
     ]
    },
    {
     "data": {
      "text/html": [
       "<html><script type=\"math/tex; mode=display\">\\newcommand{\\Bold}[1]{\\mathbf{#1}}\\left(\\Sigma,(x, y, {\\phi})\\right)</script></html>"
      ],
      "text/plain": [
       "Chart (Sigma, (x, y, ph))"
      ]
     },
     "execution_count": 5,
     "metadata": {},
     "output_type": "execute_result"
    }
   ],
   "source": [
    "X.<r,y,ph> = Sig.chart(r'x:(1,+oo) y:(-1,1) ph:(0,2*pi):\\phi')\n",
    "print(X) ; X"
   ]
  },
  {
   "cell_type": "markdown",
   "metadata": {},
   "source": [
    "<h3>Riemannian metric on $\\Sigma$</h3>\n",
    "<p>The Tomimatsu-Sato metric depens on three parameters: the integer $\\delta$, the real number $p\\in[0,1]$, and the total mass $m$:</p>"
   ]
  },
  {
   "cell_type": "code",
   "execution_count": 6,
   "metadata": {
    "collapsed": false
   },
   "outputs": [
    {
     "data": {
      "text/html": [
       "<html><script type=\"math/tex; mode=display\">\\newcommand{\\Bold}[1]{\\mathbf{#1}}\\left[\\verb|x|\\phantom{\\verb!x!}\\verb|is|\\phantom{\\verb!x!}\\verb|real|, x > 1, \\verb|y|\\phantom{\\verb!x!}\\verb|is|\\phantom{\\verb!x!}\\verb|real|, y > \\left(-1\\right), y < 1, \\verb|ph|\\phantom{\\verb!x!}\\verb|is|\\phantom{\\verb!x!}\\verb|real|, {\\phi} > 0, {\\phi} < 2 \\, \\pi, m > 0\\right]</script></html>"
      ],
      "text/plain": [
       "[x is real,\n",
       " x > 1,\n",
       " y is real,\n",
       " y > -1,\n",
       " y < 1,\n",
       " ph is real,\n",
       " ph > 0,\n",
       " ph < 2*pi,\n",
       " m > 0]"
      ]
     },
     "execution_count": 6,
     "metadata": {},
     "output_type": "execute_result"
    }
   ],
   "source": [
    "var('d, p, m')\n",
    "assume(m>0)\n",
    "assumptions()"
   ]
  },
  {
   "cell_type": "markdown",
   "metadata": {},
   "source": [
    "<p>We set $\\delta=2$ and choose a specific value for $p=1/5$:</p>"
   ]
  },
  {
   "cell_type": "code",
   "execution_count": 7,
   "metadata": {
    "collapsed": false
   },
   "outputs": [],
   "source": [
    "d = 2\n",
    "p = 1/5"
   ]
  },
  {
   "cell_type": "markdown",
   "metadata": {},
   "source": [
    "<p>Furthermore, without any loss of generality, we may set $m=1$ (this simply fixes some length scale):</p>"
   ]
  },
  {
   "cell_type": "code",
   "execution_count": 8,
   "metadata": {
    "collapsed": false
   },
   "outputs": [],
   "source": [
    "m = 1"
   ]
  },
  {
   "cell_type": "markdown",
   "metadata": {},
   "source": [
    "<p>The parameter $q$ is related to $p$ by $p^2+q^2=1$:</p>"
   ]
  },
  {
   "cell_type": "code",
   "execution_count": 9,
   "metadata": {
    "collapsed": false
   },
   "outputs": [],
   "source": [
    "q = sqrt(1-p^2)"
   ]
  },
  {
   "cell_type": "markdown",
   "metadata": {},
   "source": [
    "<p>Some shortcut notations:</p>"
   ]
  },
  {
   "cell_type": "code",
   "execution_count": 10,
   "metadata": {
    "collapsed": false
   },
   "outputs": [],
   "source": [
    "AA2 = (p^2*(x^2-1)^2+q^2*(1-y^2)^2)^2 \\\n",
    "      - 4*p^2*q^2*(x^2-1)*(1-y^2)*(x^2-y^2)^2\n",
    "BB2 = (p^2*x^4+2*p*x^3-2*p*x+q^2*y^4-1)^2 \\\n",
    "      + 4*q^2*y^2*(p*x^3-p*x*y^2-y^2+1)^2\n",
    "CC2 = p^3*x*(1-x^2)*(2*(x^4-1)+(x^2+3)*(1-y^2)) \\\n",
    "      + p^2*(x^2-1)*((x^2-1)*(1-y^2)-4*x^2*(x^2-y^2)) \\\n",
    "      + q^2*(1-y^2)^3*(p*x+1)"
   ]
  },
  {
   "cell_type": "markdown",
   "metadata": {},
   "source": [
    "<p>The Riemannian metric $\\gamma$ induced by the spacetime metric $g$ on $\\Sigma$:</p>"
   ]
  },
  {
   "cell_type": "code",
   "execution_count": 11,
   "metadata": {
    "collapsed": false
   },
   "outputs": [
    {
     "data": {
      "text/html": [
       "<html><script type=\"math/tex; mode=display\">\\newcommand{\\Bold}[1]{\\mathbf{#1}}\\gamma = \\left( \\frac{96 \\, {\\left(x^{3} - x y^{2} - 5 \\, y^{2} + 5\\right)}^{2} y^{2} + {\\left(x^{4} + 24 \\, y^{4} + 10 \\, x^{3} - 10 \\, x - 25\\right)}^{2}}{100 \\, {\\left(x^{2} - y^{2}\\right)}^{3} {\\left(x^{2} - 1\\right)}} \\right) \\mathrm{d} x\\otimes \\mathrm{d} x + \\left( -\\frac{96 \\, {\\left(x^{3} - x y^{2} - 5 \\, y^{2} + 5\\right)}^{2} y^{2} + {\\left(x^{4} + 24 \\, y^{4} + 10 \\, x^{3} - 10 \\, x - 25\\right)}^{2}}{100 \\, {\\left(x^{2} - y^{2}\\right)}^{3} {\\left(y^{2} - 1\\right)}} \\right) \\mathrm{d} y\\otimes \\mathrm{d} y -\\frac{{\\left({\\left(96 \\, {\\left(x^{3} - x y^{2} - 5 \\, y^{2} + 5\\right)}^{2} y^{2} + {\\left(x^{4} + 24 \\, y^{4} + 10 \\, x^{3} - 10 \\, x - 25\\right)}^{2}\\right)}^{2} {\\left(x^{2} - 1\\right)} + 9600 \\, {\\left(24 \\, {\\left(y^{2} - 1\\right)}^{3} {\\left(x + 5\\right)} + {\\left(2 \\, x^{4} - {\\left(x^{2} + 3\\right)} {\\left(y^{2} - 1\\right)} - 2\\right)} {\\left(x^{2} - 1\\right)} x + 5 \\, {\\left(4 \\, {\\left(x^{2} - y^{2}\\right)} x^{2} + {\\left(x^{2} - 1\\right)} {\\left(y^{2} - 1\\right)}\\right)} {\\left(x^{2} - 1\\right)}\\right)}^{2} {\\left(y^{2} - 1\\right)}\\right)} {\\left(y^{2} - 1\\right)}}{100 \\, {\\left(96 \\, {\\left(x^{2} - y^{2}\\right)}^{2} {\\left(x^{2} - 1\\right)} {\\left(y^{2} - 1\\right)} + {\\left({\\left(x^{2} - 1\\right)}^{2} + 24 \\, {\\left(y^{2} - 1\\right)}^{2}\\right)}^{2}\\right)} {\\left(96 \\, {\\left(x^{3} - x y^{2} - 5 \\, y^{2} + 5\\right)}^{2} y^{2} + {\\left(x^{4} + 24 \\, y^{4} + 10 \\, x^{3} - 10 \\, x - 25\\right)}^{2}\\right)}} \\mathrm{d} {\\phi}\\otimes \\mathrm{d} {\\phi}</script></html>"
      ],
      "text/plain": [
       "gam = 1/100*(96*(x^3 - x*y^2 - 5*y^2 + 5)^2*y^2 + (x^4 + 24*y^4 + 10*x^3 - 10*x - 25)^2)/((x^2 - y^2)^3*(x^2 - 1)) dx*dx - 1/100*(96*(x^3 - x*y^2 - 5*y^2 + 5)^2*y^2 + (x^4 + 24*y^4 + 10*x^3 - 10*x - 25)^2)/((x^2 - y^2)^3*(y^2 - 1)) dy*dy - 1/100*((96*(x^3 - x*y^2 - 5*y^2 + 5)^2*y^2 + (x^4 + 24*y^4 + 10*x^3 - 10*x - 25)^2)^2*(x^2 - 1) + 9600*(24*(y^2 - 1)^3*(x + 5) + (2*x^4 - (x^2 + 3)*(y^2 - 1) - 2)*(x^2 - 1)*x + 5*(4*(x^2 - y^2)*x^2 + (x^2 - 1)*(y^2 - 1))*(x^2 - 1))^2*(y^2 - 1))*(y^2 - 1)/((96*(x^2 - y^2)^2*(x^2 - 1)*(y^2 - 1) + ((x^2 - 1)^2 + 24*(y^2 - 1)^2)^2)*(96*(x^3 - x*y^2 - 5*y^2 + 5)^2*y^2 + (x^4 + 24*y^4 + 10*x^3 - 10*x - 25)^2)) dph*dph"
      ]
     },
     "execution_count": 11,
     "metadata": {},
     "output_type": "execute_result"
    }
   ],
   "source": [
    "gam = Sig.riemannian_metric('gam', latex_name=r'\\gamma') \n",
    "gam[1,1] = m^2*BB2/(p^2*d^2*(x^2-1)*(x^2-y^2)^3)\n",
    "gam[2,2] = m^2*BB2/(p^2*d^2*(y^2-1)*(-x^2+y^2)^3)\n",
    "gam[3,3] = - m^2*(y^2-1)*(p^2*BB2^2*(x^2-1)\n",
    "                          + 4*q^2*d^2*CC2^2*(y^2-1))/(AA2*BB2*d^2)\n",
    "gam.display()"
   ]
  },
  {
   "cell_type": "markdown",
   "metadata": {},
   "source": [
    "A view of the non-vanishing components of $\\gamma$ w.r.t. coordinates $(x,y,\\phi)$:"
   ]
  },
  {
   "cell_type": "code",
   "execution_count": 12,
   "metadata": {
    "collapsed": false
   },
   "outputs": [
    {
     "data": {
      "text/html": [
       "<html><script type=\"math/tex; mode=display\">\\newcommand{\\Bold}[1]{\\mathbf{#1}}\\begin{array}{lcl} \\gamma_{ \\, x \\, x }^{ \\phantom{\\, x}\\phantom{\\, x} } & = & \\frac{96 \\, {\\left(x^{3} - x y^{2} - 5 \\, y^{2} + 5\\right)}^{2} y^{2} + {\\left(x^{4} + 24 \\, y^{4} + 10 \\, x^{3} - 10 \\, x - 25\\right)}^{2}}{100 \\, {\\left(x^{2} - y^{2}\\right)}^{3} {\\left(x^{2} - 1\\right)}} \\\\ \\gamma_{ \\, y \\, y }^{ \\phantom{\\, y}\\phantom{\\, y} } & = & -\\frac{96 \\, {\\left(x^{3} - x y^{2} - 5 \\, y^{2} + 5\\right)}^{2} y^{2} + {\\left(x^{4} + 24 \\, y^{4} + 10 \\, x^{3} - 10 \\, x - 25\\right)}^{2}}{100 \\, {\\left(x^{2} - y^{2}\\right)}^{3} {\\left(y^{2} - 1\\right)}} \\\\ \\gamma_{ \\, {\\phi} \\, {\\phi} }^{ \\phantom{\\, {\\phi}}\\phantom{\\, {\\phi}} } & = & -\\frac{{\\left({\\left(96 \\, {\\left(x^{3} - x y^{2} - 5 \\, y^{2} + 5\\right)}^{2} y^{2} + {\\left(x^{4} + 24 \\, y^{4} + 10 \\, x^{3} - 10 \\, x - 25\\right)}^{2}\\right)}^{2} {\\left(x^{2} - 1\\right)} + 9600 \\, {\\left(24 \\, {\\left(y^{2} - 1\\right)}^{3} {\\left(x + 5\\right)} + {\\left(2 \\, x^{4} - {\\left(x^{2} + 3\\right)} {\\left(y^{2} - 1\\right)} - 2\\right)} {\\left(x^{2} - 1\\right)} x + 5 \\, {\\left(4 \\, {\\left(x^{2} - y^{2}\\right)} x^{2} + {\\left(x^{2} - 1\\right)} {\\left(y^{2} - 1\\right)}\\right)} {\\left(x^{2} - 1\\right)}\\right)}^{2} {\\left(y^{2} - 1\\right)}\\right)} {\\left(y^{2} - 1\\right)}}{100 \\, {\\left(96 \\, {\\left(x^{2} - y^{2}\\right)}^{2} {\\left(x^{2} - 1\\right)} {\\left(y^{2} - 1\\right)} + {\\left({\\left(x^{2} - 1\\right)}^{2} + 24 \\, {\\left(y^{2} - 1\\right)}^{2}\\right)}^{2}\\right)} {\\left(96 \\, {\\left(x^{3} - x y^{2} - 5 \\, y^{2} + 5\\right)}^{2} y^{2} + {\\left(x^{4} + 24 \\, y^{4} + 10 \\, x^{3} - 10 \\, x - 25\\right)}^{2}\\right)}} \\end{array}</script></html>"
      ],
      "text/plain": [
       "gam_x,x = 1/100*(96*(x^3 - x*y^2 - 5*y^2 + 5)^2*y^2 + (x^4 + 24*y^4 + 10*x^3 - 10*x - 25)^2)/((x^2 - y^2)^3*(x^2 - 1)) \n",
       "gam_y,y = -1/100*(96*(x^3 - x*y^2 - 5*y^2 + 5)^2*y^2 + (x^4 + 24*y^4 + 10*x^3 - 10*x - 25)^2)/((x^2 - y^2)^3*(y^2 - 1)) \n",
       "gam_ph,ph = -1/100*((96*(x^3 - x*y^2 - 5*y^2 + 5)^2*y^2 + (x^4 + 24*y^4 + 10*x^3 - 10*x - 25)^2)^2*(x^2 - 1) + 9600*(24*(y^2 - 1)^3*(x + 5) + (2*x^4 - (x^2 + 3)*(y^2 - 1) - 2)*(x^2 - 1)*x + 5*(4*(x^2 - y^2)*x^2 + (x^2 - 1)*(y^2 - 1))*(x^2 - 1))^2*(y^2 - 1))*(y^2 - 1)/((96*(x^2 - y^2)^2*(x^2 - 1)*(y^2 - 1) + ((x^2 - 1)^2 + 24*(y^2 - 1)^2)^2)*(96*(x^3 - x*y^2 - 5*y^2 + 5)^2*y^2 + (x^4 + 24*y^4 + 10*x^3 - 10*x - 25)^2)) "
      ]
     },
     "execution_count": 12,
     "metadata": {},
     "output_type": "execute_result"
    }
   ],
   "source": [
    "gam.display_comp()"
   ]
  },
  {
   "cell_type": "markdown",
   "metadata": {},
   "source": [
    "<h3>Lapse function and shift vector</h3>"
   ]
  },
  {
   "cell_type": "code",
   "execution_count": 13,
   "metadata": {
    "collapsed": false
   },
   "outputs": [
    {
     "data": {
      "text/html": [
       "<html><script type=\"math/tex; mode=display\">\\newcommand{\\Bold}[1]{\\mathbf{#1}}\\frac{x^{10} + 20 \\, x^{9} + 576 \\, {\\left(x^{2} - 1\\right)} y^{8} + 99 \\, x^{8} - 40 \\, x^{7} + 96 \\, {\\left(x^{4} + 10 \\, x^{3} + 24 \\, x^{2} - 10 \\, x - 25\\right)} y^{6} - 350 \\, x^{6} - 480 \\, x^{5} - 48 \\, {\\left(3 \\, x^{6} + 10 \\, x^{5} - 3 \\, x^{4} + 20 \\, x^{3} + 125 \\, x^{2} - 30 \\, x - 125\\right)} y^{4} + 350 \\, x^{4} + 1000 \\, x^{3} + 96 \\, {\\left(x^{8} - x^{6} + 10 \\, x^{5} - 10 \\, x^{3} + 25 \\, x^{2} - 25\\right)} y^{2} + 525 \\, x^{2} - 500 \\, x - 625}{x^{10} + 40 \\, x^{9} + 576 \\, {\\left(x^{2} - 1\\right)} y^{8} + 699 \\, x^{8} + 7920 \\, x^{7} + 96 \\, {\\left(x^{4} + 20 \\, x^{3} + 174 \\, x^{2} + 980 \\, x + 2425\\right)} y^{6} + 39450 \\, x^{6} - 960 \\, x^{5} - 48 \\, {\\left(3 \\, x^{6} + 20 \\, x^{5} - 3 \\, x^{4} + 40 \\, x^{3} + 925 \\, x^{2} + 5940 \\, x + 14675\\right)} y^{4} - 39450 \\, x^{4} - 6000 \\, x^{3} + 96 \\, {\\left(x^{8} - x^{6} + 20 \\, x^{5} - 20 \\, x^{3} + 375 \\, x^{2} + 3000 \\, x + 7425\\right)} y^{2} - 9675 \\, x^{2} - 97000 \\, x - 240625}</script></html>"
      ],
      "text/plain": [
       "(x^10 + 20*x^9 + 576*(x^2 - 1)*y^8 + 99*x^8 - 40*x^7 + 96*(x^4 + 10*x^3 + 24*x^2 - 10*x - 25)*y^6 - 350*x^6 - 480*x^5 - 48*(3*x^6 + 10*x^5 - 3*x^4 + 20*x^3 + 125*x^2 - 30*x - 125)*y^4 + 350*x^4 + 1000*x^3 + 96*(x^8 - x^6 + 10*x^5 - 10*x^3 + 25*x^2 - 25)*y^2 + 525*x^2 - 500*x - 625)/(x^10 + 40*x^9 + 576*(x^2 - 1)*y^8 + 699*x^8 + 7920*x^7 + 96*(x^4 + 20*x^3 + 174*x^2 + 980*x + 2425)*y^6 + 39450*x^6 - 960*x^5 - 48*(3*x^6 + 20*x^5 - 3*x^4 + 40*x^3 + 925*x^2 + 5940*x + 14675)*y^4 - 39450*x^4 - 6000*x^3 + 96*(x^8 - x^6 + 20*x^5 - 20*x^3 + 375*x^2 + 3000*x + 7425)*y^2 - 9675*x^2 - 97000*x - 240625)"
      ]
     },
     "execution_count": 13,
     "metadata": {},
     "output_type": "execute_result"
    }
   ],
   "source": [
    "N2 = AA2/BB2 - 2*m*q*CC2*(y^2-1)/BB2*(2*m*q*CC2*(y^2-1)\n",
    "                /(BB2*(m^2*(y^2-1)*(p^2*BB2^2*(x^2-1)\n",
    "                +4*q^2*d^2*CC2^2*(y^2-1))/(AA2*BB2*d^2)))) \n",
    "N2.simplify_full()"
   ]
  },
  {
   "cell_type": "code",
   "execution_count": 14,
   "metadata": {
    "collapsed": false
   },
   "outputs": [
    {
     "name": "stdout",
     "output_type": "stream",
     "text": [
      "Scalar field N on the 3-dimensional differentiable manifold Sigma\n"
     ]
    },
    {
     "data": {
      "text/html": [
       "<html><script type=\"math/tex; mode=display\">\\newcommand{\\Bold}[1]{\\mathbf{#1}}\\begin{array}{llcl} N:& \\Sigma & \\longrightarrow & \\mathbb{R} \\\\ & \\left(x, y, {\\phi}\\right) & \\longmapsto & \\sqrt{\\frac{x^{10} + 20 \\, x^{9} + 576 \\, {\\left(x^{2} - 1\\right)} y^{8} + 99 \\, x^{8} - 40 \\, x^{7} + 96 \\, {\\left(x^{4} + 10 \\, x^{3} + 24 \\, x^{2} - 10 \\, x - 25\\right)} y^{6} - 350 \\, x^{6} - 480 \\, x^{5} - 48 \\, {\\left(3 \\, x^{6} + 10 \\, x^{5} - 3 \\, x^{4} + 20 \\, x^{3} + 125 \\, x^{2} - 30 \\, x - 125\\right)} y^{4} + 350 \\, x^{4} + 1000 \\, x^{3} + 96 \\, {\\left(x^{8} - x^{6} + 10 \\, x^{5} - 10 \\, x^{3} + 25 \\, x^{2} - 25\\right)} y^{2} + 525 \\, x^{2} - 500 \\, x - 625}{x^{10} + 40 \\, x^{9} + 576 \\, {\\left(x^{2} - 1\\right)} y^{8} + 699 \\, x^{8} + 7920 \\, x^{7} + 96 \\, {\\left(x^{4} + 20 \\, x^{3} + 174 \\, x^{2} + 980 \\, x + 2425\\right)} y^{6} + 39450 \\, x^{6} - 960 \\, x^{5} - 48 \\, {\\left(3 \\, x^{6} + 20 \\, x^{5} - 3 \\, x^{4} + 40 \\, x^{3} + 925 \\, x^{2} + 5940 \\, x + 14675\\right)} y^{4} - 39450 \\, x^{4} - 6000 \\, x^{3} + 96 \\, {\\left(x^{8} - x^{6} + 20 \\, x^{5} - 20 \\, x^{3} + 375 \\, x^{2} + 3000 \\, x + 7425\\right)} y^{2} - 9675 \\, x^{2} - 97000 \\, x - 240625}} \\end{array}</script></html>"
      ],
      "text/plain": [
       "N: Sigma --> R\n",
       "   (x, y, ph) |--> sqrt((x^10 + 20*x^9 + 576*(x^2 - 1)*y^8 + 99*x^8 - 40*x^7 + 96*(x^4 + 10*x^3 + 24*x^2 - 10*x - 25)*y^6 - 350*x^6 - 480*x^5 - 48*(3*x^6 + 10*x^5 - 3*x^4 + 20*x^3 + 125*x^2 - 30*x - 125)*y^4 + 350*x^4 + 1000*x^3 + 96*(x^8 - x^6 + 10*x^5 - 10*x^3 + 25*x^2 - 25)*y^2 + 525*x^2 - 500*x - 625)/(x^10 + 40*x^9 + 576*(x^2 - 1)*y^8 + 699*x^8 + 7920*x^7 + 96*(x^4 + 20*x^3 + 174*x^2 + 980*x + 2425)*y^6 + 39450*x^6 - 960*x^5 - 48*(3*x^6 + 20*x^5 - 3*x^4 + 40*x^3 + 925*x^2 + 5940*x + 14675)*y^4 - 39450*x^4 - 6000*x^3 + 96*(x^8 - x^6 + 20*x^5 - 20*x^3 + 375*x^2 + 3000*x + 7425)*y^2 - 9675*x^2 - 97000*x - 240625))"
      ]
     },
     "execution_count": 14,
     "metadata": {},
     "output_type": "execute_result"
    }
   ],
   "source": [
    "N = Sig.scalar_field(sqrt(N2.simplify_full()), name='N')\n",
    "print(N)\n",
    "N.display()"
   ]
  },
  {
   "cell_type": "markdown",
   "metadata": {},
   "source": [
    "The coordinate expression of the scalar field $N$:"
   ]
  },
  {
   "cell_type": "code",
   "execution_count": 15,
   "metadata": {
    "collapsed": false
   },
   "outputs": [
    {
     "data": {
      "text/html": [
       "<html><script type=\"math/tex; mode=display\">\\newcommand{\\Bold}[1]{\\mathbf{#1}}\\sqrt{\\frac{x^{10} + 20 \\, x^{9} + 576 \\, {\\left(x^{2} - 1\\right)} y^{8} + 99 \\, x^{8} - 40 \\, x^{7} + 96 \\, {\\left(x^{4} + 10 \\, x^{3} + 24 \\, x^{2} - 10 \\, x - 25\\right)} y^{6} - 350 \\, x^{6} - 480 \\, x^{5} - 48 \\, {\\left(3 \\, x^{6} + 10 \\, x^{5} - 3 \\, x^{4} + 20 \\, x^{3} + 125 \\, x^{2} - 30 \\, x - 125\\right)} y^{4} + 350 \\, x^{4} + 1000 \\, x^{3} + 96 \\, {\\left(x^{8} - x^{6} + 10 \\, x^{5} - 10 \\, x^{3} + 25 \\, x^{2} - 25\\right)} y^{2} + 525 \\, x^{2} - 500 \\, x - 625}{x^{10} + 40 \\, x^{9} + 576 \\, {\\left(x^{2} - 1\\right)} y^{8} + 699 \\, x^{8} + 7920 \\, x^{7} + 96 \\, {\\left(x^{4} + 20 \\, x^{3} + 174 \\, x^{2} + 980 \\, x + 2425\\right)} y^{6} + 39450 \\, x^{6} - 960 \\, x^{5} - 48 \\, {\\left(3 \\, x^{6} + 20 \\, x^{5} - 3 \\, x^{4} + 40 \\, x^{3} + 925 \\, x^{2} + 5940 \\, x + 14675\\right)} y^{4} - 39450 \\, x^{4} - 6000 \\, x^{3} + 96 \\, {\\left(x^{8} - x^{6} + 20 \\, x^{5} - 20 \\, x^{3} + 375 \\, x^{2} + 3000 \\, x + 7425\\right)} y^{2} - 9675 \\, x^{2} - 97000 \\, x - 240625}}</script></html>"
      ],
      "text/plain": [
       "sqrt((x^10 + 20*x^9 + 576*(x^2 - 1)*y^8 + 99*x^8 - 40*x^7 + 96*(x^4 + 10*x^3 + 24*x^2 - 10*x - 25)*y^6 - 350*x^6 - 480*x^5 - 48*(3*x^6 + 10*x^5 - 3*x^4 + 20*x^3 + 125*x^2 - 30*x - 125)*y^4 + 350*x^4 + 1000*x^3 + 96*(x^8 - x^6 + 10*x^5 - 10*x^3 + 25*x^2 - 25)*y^2 + 525*x^2 - 500*x - 625)/(x^10 + 40*x^9 + 576*(x^2 - 1)*y^8 + 699*x^8 + 7920*x^7 + 96*(x^4 + 20*x^3 + 174*x^2 + 980*x + 2425)*y^6 + 39450*x^6 - 960*x^5 - 48*(3*x^6 + 20*x^5 - 3*x^4 + 40*x^3 + 925*x^2 + 5940*x + 14675)*y^4 - 39450*x^4 - 6000*x^3 + 96*(x^8 - x^6 + 20*x^5 - 20*x^3 + 375*x^2 + 3000*x + 7425)*y^2 - 9675*x^2 - 97000*x - 240625))"
      ]
     },
     "execution_count": 15,
     "metadata": {},
     "output_type": "execute_result"
    }
   ],
   "source": [
    "N.expr()"
   ]
  },
  {
   "cell_type": "code",
   "execution_count": 16,
   "metadata": {
    "collapsed": false
   },
   "outputs": [
    {
     "data": {
      "text/html": [
       "<html><script type=\"math/tex; mode=display\">\\newcommand{\\Bold}[1]{\\mathbf{#1}}\\begin{array}{lcl} \\beta_{\\phantom{\\, x}}^{ \\, x } & = & 0 \\\\ \\beta_{\\phantom{\\, y}}^{ \\, y } & = & 0 \\\\ \\beta_{\\phantom{\\, {\\phi}}}^{ \\, {\\phi} } & = & -\\frac{400 \\, {\\left(2 \\, \\sqrt{6} x^{7} + 24 \\, {\\left(\\sqrt{6} x + 5 \\, \\sqrt{6}\\right)} y^{6} + 20 \\, \\sqrt{6} x^{6} - \\sqrt{6} x^{5} - 72 \\, {\\left(\\sqrt{6} x + 5 \\, \\sqrt{6}\\right)} y^{4} - 25 \\, \\sqrt{6} x^{4} - {\\left(\\sqrt{6} x^{5} + 15 \\, \\sqrt{6} x^{4} + 2 \\, \\sqrt{6} x^{3} - 10 \\, \\sqrt{6} x^{2} - 75 \\, \\sqrt{6} x - 365 \\, \\sqrt{6}\\right)} y^{2} + 10 \\, \\sqrt{6} x^{2} - 25 \\, \\sqrt{6} x - 125 \\, \\sqrt{6}\\right)}}{x^{10} + 40 \\, x^{9} + 576 \\, {\\left(x^{2} - 1\\right)} y^{8} + 699 \\, x^{8} + 7920 \\, x^{7} + 96 \\, {\\left(x^{4} + 20 \\, x^{3} + 174 \\, x^{2} + 980 \\, x + 2425\\right)} y^{6} + 39450 \\, x^{6} - 960 \\, x^{5} - 48 \\, {\\left(3 \\, x^{6} + 20 \\, x^{5} - 3 \\, x^{4} + 40 \\, x^{3} + 925 \\, x^{2} + 5940 \\, x + 14675\\right)} y^{4} - 39450 \\, x^{4} - 6000 \\, x^{3} + 96 \\, {\\left(x^{8} - x^{6} + 20 \\, x^{5} - 20 \\, x^{3} + 375 \\, x^{2} + 3000 \\, x + 7425\\right)} y^{2} - 9675 \\, x^{2} - 97000 \\, x - 240625} \\end{array}</script></html>"
      ],
      "text/plain": [
       "beta^x = 0 \n",
       "beta^y = 0 \n",
       "beta^ph = -400*(2*sqrt(6)*x^7 + 24*(sqrt(6)*x + 5*sqrt(6))*y^6 + 20*sqrt(6)*x^6 - sqrt(6)*x^5 - 72*(sqrt(6)*x + 5*sqrt(6))*y^4 - 25*sqrt(6)*x^4 - (sqrt(6)*x^5 + 15*sqrt(6)*x^4 + 2*sqrt(6)*x^3 - 10*sqrt(6)*x^2 - 75*sqrt(6)*x - 365*sqrt(6))*y^2 + 10*sqrt(6)*x^2 - 25*sqrt(6)*x - 125*sqrt(6))/(x^10 + 40*x^9 + 576*(x^2 - 1)*y^8 + 699*x^8 + 7920*x^7 + 96*(x^4 + 20*x^3 + 174*x^2 + 980*x + 2425)*y^6 + 39450*x^6 - 960*x^5 - 48*(3*x^6 + 20*x^5 - 3*x^4 + 40*x^3 + 925*x^2 + 5940*x + 14675)*y^4 - 39450*x^4 - 6000*x^3 + 96*(x^8 - x^6 + 20*x^5 - 20*x^3 + 375*x^2 + 3000*x + 7425)*y^2 - 9675*x^2 - 97000*x - 240625) "
      ]
     },
     "execution_count": 16,
     "metadata": {},
     "output_type": "execute_result"
    }
   ],
   "source": [
    "b3 = 2*m*q*CC2*(y^2-1)/(BB2*(m^2*(y^2-1)*(p^2*BB2^2*(x^2-1)\n",
    "        +4*q^2*d^2*CC2^2*(y^2-1))/(AA2*BB2*d^2)))\n",
    "b = Sig.vector_field('beta', latex_name=r'\\beta') \n",
    "b[3] = b3.simplify_full()\n",
    "# unset components are zero \n",
    "b.display_comp(only_nonzero=False)"
   ]
  },
  {
   "cell_type": "markdown",
   "metadata": {},
   "source": [
    "<h3>Extrinsic curvature of $\\Sigma$</h3>\n",
    "<p>We use the formula $$ K_{ij} = \\frac{1}{2N} \\mathcal{L}_{\\beta} \\gamma_{ij}, $$ which is valid for any stationary spacetime:</p>"
   ]
  },
  {
   "cell_type": "code",
   "execution_count": 17,
   "metadata": {
    "collapsed": false
   },
   "outputs": [
    {
     "name": "stdout",
     "output_type": "stream",
     "text": [
      "Field of symmetric bilinear forms K on the 3-dimensional differentiable manifold Sigma\n"
     ]
    }
   ],
   "source": [
    "K = gam.lie_derivative(b) / (2*N)\n",
    "K.set_name('K')\n",
    "print(K)"
   ]
  },
  {
   "cell_type": "markdown",
   "metadata": {},
   "source": [
    "<p>The component $K_{13} = K_{x\\phi}$:</p>"
   ]
  },
  {
   "cell_type": "code",
   "execution_count": 18,
   "metadata": {
    "collapsed": false
   },
   "outputs": [
    {
     "data": {
      "text/html": [
       "<html><script type=\"math/tex; mode=display\">\\newcommand{\\Bold}[1]{\\mathbf{#1}}\\frac{2 \\, {\\left(6 \\, \\sqrt{3} \\sqrt{2} x^{16} - 13824 \\, {\\left(\\sqrt{3} \\sqrt{2} x^{2} + 10 \\, \\sqrt{3} \\sqrt{2} x + \\sqrt{3} \\sqrt{2}\\right)} y^{16} + 240 \\, \\sqrt{3} \\sqrt{2} x^{15} + 3793 \\, \\sqrt{3} \\sqrt{2} x^{14} - 6912 \\, {\\left(\\sqrt{3} \\sqrt{2} x^{4} + 20 \\, \\sqrt{3} \\sqrt{2} x^{3} + 150 \\, \\sqrt{3} \\sqrt{2} x^{2} + 500 \\, \\sqrt{3} \\sqrt{2} x + 817 \\, \\sqrt{3} \\sqrt{2}\\right)} y^{14} + 27650 \\, \\sqrt{3} \\sqrt{2} x^{13} + 72403 \\, \\sqrt{3} \\sqrt{2} x^{12} + 576 \\, {\\left(27 \\, \\sqrt{3} \\sqrt{2} x^{6} + 310 \\, \\sqrt{3} \\sqrt{2} x^{5} + 1033 \\, \\sqrt{3} \\sqrt{2} x^{4} + 1060 \\, \\sqrt{3} \\sqrt{2} x^{3} + 10493 \\, \\sqrt{3} \\sqrt{2} x^{2} + 44870 \\, \\sqrt{3} \\sqrt{2} x + 69503 \\, \\sqrt{3} \\sqrt{2}\\right)} y^{12} - 81820 \\, \\sqrt{3} \\sqrt{2} x^{11} - 374975 \\, \\sqrt{3} \\sqrt{2} x^{10} - 96 \\, {\\left(109 \\, \\sqrt{3} \\sqrt{2} x^{8} + 520 \\, \\sqrt{3} \\sqrt{2} x^{7} + 1504 \\, \\sqrt{3} \\sqrt{2} x^{6} + 19360 \\, \\sqrt{3} \\sqrt{2} x^{5} + 92770 \\, \\sqrt{3} \\sqrt{2} x^{4} + 157960 \\, \\sqrt{3} \\sqrt{2} x^{3} + 148264 \\, \\sqrt{3} \\sqrt{2} x^{2} + 731920 \\, \\sqrt{3} \\sqrt{2} x + 1256425 \\, \\sqrt{3} \\sqrt{2}\\right)} y^{10} - 313810 \\, \\sqrt{3} \\sqrt{2} x^{9} + 669975 \\, \\sqrt{3} \\sqrt{2} x^{8} + 24 \\, {\\left(9 \\, \\sqrt{3} \\sqrt{2} x^{10} + 250 \\, \\sqrt{3} \\sqrt{2} x^{9} + 6873 \\, \\sqrt{3} \\sqrt{2} x^{8} + 40920 \\, \\sqrt{3} \\sqrt{2} x^{7} + 63402 \\, \\sqrt{3} \\sqrt{2} x^{6} + 146220 \\, \\sqrt{3} \\sqrt{2} x^{5} + 1047426 \\, \\sqrt{3} \\sqrt{2} x^{4} + 2249400 \\, \\sqrt{3} \\sqrt{2} x^{3} + 876525 \\, \\sqrt{3} \\sqrt{2} x^{2} + 4308810 \\, \\sqrt{3} \\sqrt{2} x + 8401925 \\, \\sqrt{3} \\sqrt{2}\\right)} y^{8} + 1617000 \\, \\sqrt{3} \\sqrt{2} x^{7} + 999675 \\, \\sqrt{3} \\sqrt{2} x^{6} + 96 \\, {\\left(20 \\, \\sqrt{3} \\sqrt{2} x^{11} - 179 \\, \\sqrt{3} \\sqrt{2} x^{10} - 50 \\, \\sqrt{3} \\sqrt{2} x^{9} - 2897 \\, \\sqrt{3} \\sqrt{2} x^{8} - 28400 \\, \\sqrt{3} \\sqrt{2} x^{7} - 57446 \\, \\sqrt{3} \\sqrt{2} x^{6} - 9020 \\, \\sqrt{3} \\sqrt{2} x^{5} - 237650 \\, \\sqrt{3} \\sqrt{2} x^{4} - 731060 \\, \\sqrt{3} \\sqrt{2} x^{3} - 267175 \\, \\sqrt{3} \\sqrt{2} x^{2} - 1037250 \\, \\sqrt{3} \\sqrt{2} x - 2111325 \\, \\sqrt{3} \\sqrt{2}\\right)} y^{6} - 2277250 \\, \\sqrt{3} \\sqrt{2} x^{5} - 4979375 \\, \\sqrt{3} \\sqrt{2} x^{4} - {\\left(187 \\, \\sqrt{3} \\sqrt{2} x^{14} + 3590 \\, \\sqrt{3} \\sqrt{2} x^{13} - 5207 \\, \\sqrt{3} \\sqrt{2} x^{12} - 73540 \\, \\sqrt{3} \\sqrt{2} x^{11} - 454637 \\, \\sqrt{3} \\sqrt{2} x^{10} - 1150150 \\, \\sqrt{3} \\sqrt{2} x^{9} + 199401 \\, \\sqrt{3} \\sqrt{2} x^{8} - 1059000 \\, \\sqrt{3} \\sqrt{2} x^{7} - 7811175 \\, \\sqrt{3} \\sqrt{2} x^{6} + 2899610 \\, \\sqrt{3} \\sqrt{2} x^{5} + 1675075 \\, \\sqrt{3} \\sqrt{2} x^{4} - 32834500 \\, \\sqrt{3} \\sqrt{2} x^{3} - 24681575 \\, \\sqrt{3} \\sqrt{2} x^{2} - 69684250 \\, \\sqrt{3} \\sqrt{2} x - 122823125 \\, \\sqrt{3} \\sqrt{2}\\right)} y^{4} - 4037500 \\, \\sqrt{3} \\sqrt{2} x^{3} + 3461875 \\, \\sqrt{3} \\sqrt{2} x^{2} - 6 \\, {\\left(\\sqrt{3} \\sqrt{2} x^{16} + 40 \\, \\sqrt{3} \\sqrt{2} x^{15} + 601 \\, \\sqrt{3} \\sqrt{2} x^{14} + 4010 \\, \\sqrt{3} \\sqrt{2} x^{13} + 12935 \\, \\sqrt{3} \\sqrt{2} x^{12} - 1060 \\, \\sqrt{3} \\sqrt{2} x^{11} + 10449 \\, \\sqrt{3} \\sqrt{2} x^{10} + 139590 \\, \\sqrt{3} \\sqrt{2} x^{9} + 57825 \\, \\sqrt{3} \\sqrt{2} x^{8} + 146960 \\, \\sqrt{3} \\sqrt{2} x^{7} + 781475 \\, \\sqrt{3} \\sqrt{2} x^{6} - 702250 \\, \\sqrt{3} \\sqrt{2} x^{5} - 2108075 \\, \\sqrt{3} \\sqrt{2} x^{4} - 348500 \\, \\sqrt{3} \\sqrt{2} x^{3} + 2381875 \\, \\sqrt{3} \\sqrt{2} x^{2} + 5456250 \\, \\sqrt{3} \\sqrt{2} x + 6941250 \\, \\sqrt{3} \\sqrt{2}\\right)} y^{2} + 7231250 \\, \\sqrt{3} \\sqrt{2} x + 6109375 \\, \\sqrt{3} \\sqrt{2}\\right)} \\sqrt{x^{10} + 40 \\, x^{9} + 576 \\, {\\left(x^{2} - 1\\right)} y^{8} + 699 \\, x^{8} + 7920 \\, x^{7} + 96 \\, {\\left(x^{4} + 20 \\, x^{3} + 174 \\, x^{2} + 980 \\, x + 2425\\right)} y^{6} + 39450 \\, x^{6} - 960 \\, x^{5} - 48 \\, {\\left(3 \\, x^{6} + 20 \\, x^{5} - 3 \\, x^{4} + 40 \\, x^{3} + 925 \\, x^{2} + 5940 \\, x + 14675\\right)} y^{4} - 39450 \\, x^{4} - 6000 \\, x^{3} + 96 \\, {\\left(x^{8} - x^{6} + 20 \\, x^{5} - 20 \\, x^{3} + 375 \\, x^{2} + 3000 \\, x + 7425\\right)} y^{2} - 9675 \\, x^{2} - 97000 \\, x - 240625}}{{\\left(x^{18} + 60 \\, x^{17} + 331776 \\, {\\left(x^{2} - 1\\right)} y^{16} + 1599 \\, x^{16} + 25880 \\, x^{15} + 110592 \\, {\\left(x^{4} + 15 \\, x^{3} + 99 \\, x^{2} + 485 \\, x + 1200\\right)} y^{14} + 266700 \\, x^{14} + 1555560 \\, x^{13} - 9216 \\, {\\left(17 \\, x^{6} + 60 \\, x^{5} - 417 \\, x^{4} - 3040 \\, x^{3} - 13425 \\, x^{2} - 31020 \\, x - 16975\\right)} y^{12} + 3533300 \\, x^{12} - 4005000 \\, x^{11} + 9216 \\, {\\left(9 \\, x^{8} - 60 \\, x^{7} - 509 \\, x^{6} - 2430 \\, x^{5} - 9525 \\, x^{4} - 24260 \\, x^{3} - 71775 \\, x^{2} - 227250 \\, x - 290600\\right)} y^{10} - 17787450 \\, x^{10} - 18420000 \\, x^{9} + 5760 \\, {\\left(7 \\, x^{10} + 90 \\, x^{9} + 473 \\, x^{8} + 2460 \\, x^{7} + 10050 \\, x^{6} + 15200 \\, x^{5} + 53790 \\, x^{4} + 120900 \\, x^{3} + 198455 \\, x^{2} + 741350 \\, x + 1103625\\right)} y^{8} + 15656250 \\, x^{8} + 31485000 \\, x^{7} - 192 \\, {\\left(143 \\, x^{12} + 675 \\, x^{11} - 1043 \\, x^{10} - 7575 \\, x^{9} - 52650 \\, x^{8} - 224850 \\, x^{7} - 156150 \\, x^{6} + 1001250 \\, x^{5} + 3726075 \\, x^{4} + 6217375 \\, x^{3} + 4145625 \\, x^{2} + 19413125 \\, x + 33330000\\right)} y^{6} + 3527500 \\, x^{6} + 12975000 \\, x^{5} + 96 \\, {\\left(93 \\, x^{14} - 105 \\, x^{13} - 1693 \\, x^{12} - 13470 \\, x^{11} - 99575 \\, x^{10} - 222675 \\, x^{9} - 149025 \\, x^{8} - 1024500 \\, x^{7} - 2270025 \\, x^{6} + 2366625 \\, x^{5} + 9545625 \\, x^{4} + 11931250 \\, x^{3} + 451875 \\, x^{2} + 11346875 \\, x + 28273125\\right)} y^{4} + 80032500 \\, x^{4} + 102025000 \\, x^{3} + 192 \\, {\\left(x^{16} + 30 \\, x^{15} + 399 \\, x^{14} + 3955 \\, x^{13} + 19950 \\, x^{12} + 3765 \\, x^{11} + 19850 \\, x^{10} + 197000 \\, x^{9} + 47025 \\, x^{8} + 77000 \\, x^{7} + 646875 \\, x^{6} - 598125 \\, x^{5} - 2642500 \\, x^{4} - 2896875 \\, x^{3} + 1117500 \\, x^{2} + 1581250 \\, x - 687500\\right)} y^{2} - 78609375 \\, x^{2} - 180937500 \\, x - 150390625\\right)} \\sqrt{x^{8} + 576 \\, y^{8} + 20 \\, x^{7} + 96 \\, {\\left(x^{2} + 10 \\, x + 25\\right)} y^{6} + 100 \\, x^{6} - 20 \\, x^{5} - 48 \\, {\\left(3 \\, x^{4} + 10 \\, x^{3} + 30 \\, x + 125\\right)} y^{4} - 250 \\, x^{4} - 500 \\, x^{3} + 96 \\, {\\left(x^{6} + 10 \\, x^{3} + 25\\right)} y^{2} + 100 \\, x^{2} + 500 \\, x + 625} \\sqrt{x + 1} \\sqrt{x - 1}}</script></html>"
      ],
      "text/plain": [
       "2*(6*sqrt(3)*sqrt(2)*x^16 - 13824*(sqrt(3)*sqrt(2)*x^2 + 10*sqrt(3)*sqrt(2)*x + sqrt(3)*sqrt(2))*y^16 + 240*sqrt(3)*sqrt(2)*x^15 + 3793*sqrt(3)*sqrt(2)*x^14 - 6912*(sqrt(3)*sqrt(2)*x^4 + 20*sqrt(3)*sqrt(2)*x^3 + 150*sqrt(3)*sqrt(2)*x^2 + 500*sqrt(3)*sqrt(2)*x + 817*sqrt(3)*sqrt(2))*y^14 + 27650*sqrt(3)*sqrt(2)*x^13 + 72403*sqrt(3)*sqrt(2)*x^12 + 576*(27*sqrt(3)*sqrt(2)*x^6 + 310*sqrt(3)*sqrt(2)*x^5 + 1033*sqrt(3)*sqrt(2)*x^4 + 1060*sqrt(3)*sqrt(2)*x^3 + 10493*sqrt(3)*sqrt(2)*x^2 + 44870*sqrt(3)*sqrt(2)*x + 69503*sqrt(3)*sqrt(2))*y^12 - 81820*sqrt(3)*sqrt(2)*x^11 - 374975*sqrt(3)*sqrt(2)*x^10 - 96*(109*sqrt(3)*sqrt(2)*x^8 + 520*sqrt(3)*sqrt(2)*x^7 + 1504*sqrt(3)*sqrt(2)*x^6 + 19360*sqrt(3)*sqrt(2)*x^5 + 92770*sqrt(3)*sqrt(2)*x^4 + 157960*sqrt(3)*sqrt(2)*x^3 + 148264*sqrt(3)*sqrt(2)*x^2 + 731920*sqrt(3)*sqrt(2)*x + 1256425*sqrt(3)*sqrt(2))*y^10 - 313810*sqrt(3)*sqrt(2)*x^9 + 669975*sqrt(3)*sqrt(2)*x^8 + 24*(9*sqrt(3)*sqrt(2)*x^10 + 250*sqrt(3)*sqrt(2)*x^9 + 6873*sqrt(3)*sqrt(2)*x^8 + 40920*sqrt(3)*sqrt(2)*x^7 + 63402*sqrt(3)*sqrt(2)*x^6 + 146220*sqrt(3)*sqrt(2)*x^5 + 1047426*sqrt(3)*sqrt(2)*x^4 + 2249400*sqrt(3)*sqrt(2)*x^3 + 876525*sqrt(3)*sqrt(2)*x^2 + 4308810*sqrt(3)*sqrt(2)*x + 8401925*sqrt(3)*sqrt(2))*y^8 + 1617000*sqrt(3)*sqrt(2)*x^7 + 999675*sqrt(3)*sqrt(2)*x^6 + 96*(20*sqrt(3)*sqrt(2)*x^11 - 179*sqrt(3)*sqrt(2)*x^10 - 50*sqrt(3)*sqrt(2)*x^9 - 2897*sqrt(3)*sqrt(2)*x^8 - 28400*sqrt(3)*sqrt(2)*x^7 - 57446*sqrt(3)*sqrt(2)*x^6 - 9020*sqrt(3)*sqrt(2)*x^5 - 237650*sqrt(3)*sqrt(2)*x^4 - 731060*sqrt(3)*sqrt(2)*x^3 - 267175*sqrt(3)*sqrt(2)*x^2 - 1037250*sqrt(3)*sqrt(2)*x - 2111325*sqrt(3)*sqrt(2))*y^6 - 2277250*sqrt(3)*sqrt(2)*x^5 - 4979375*sqrt(3)*sqrt(2)*x^4 - (187*sqrt(3)*sqrt(2)*x^14 + 3590*sqrt(3)*sqrt(2)*x^13 - 5207*sqrt(3)*sqrt(2)*x^12 - 73540*sqrt(3)*sqrt(2)*x^11 - 454637*sqrt(3)*sqrt(2)*x^10 - 1150150*sqrt(3)*sqrt(2)*x^9 + 199401*sqrt(3)*sqrt(2)*x^8 - 1059000*sqrt(3)*sqrt(2)*x^7 - 7811175*sqrt(3)*sqrt(2)*x^6 + 2899610*sqrt(3)*sqrt(2)*x^5 + 1675075*sqrt(3)*sqrt(2)*x^4 - 32834500*sqrt(3)*sqrt(2)*x^3 - 24681575*sqrt(3)*sqrt(2)*x^2 - 69684250*sqrt(3)*sqrt(2)*x - 122823125*sqrt(3)*sqrt(2))*y^4 - 4037500*sqrt(3)*sqrt(2)*x^3 + 3461875*sqrt(3)*sqrt(2)*x^2 - 6*(sqrt(3)*sqrt(2)*x^16 + 40*sqrt(3)*sqrt(2)*x^15 + 601*sqrt(3)*sqrt(2)*x^14 + 4010*sqrt(3)*sqrt(2)*x^13 + 12935*sqrt(3)*sqrt(2)*x^12 - 1060*sqrt(3)*sqrt(2)*x^11 + 10449*sqrt(3)*sqrt(2)*x^10 + 139590*sqrt(3)*sqrt(2)*x^9 + 57825*sqrt(3)*sqrt(2)*x^8 + 146960*sqrt(3)*sqrt(2)*x^7 + 781475*sqrt(3)*sqrt(2)*x^6 - 702250*sqrt(3)*sqrt(2)*x^5 - 2108075*sqrt(3)*sqrt(2)*x^4 - 348500*sqrt(3)*sqrt(2)*x^3 + 2381875*sqrt(3)*sqrt(2)*x^2 + 5456250*sqrt(3)*sqrt(2)*x + 6941250*sqrt(3)*sqrt(2))*y^2 + 7231250*sqrt(3)*sqrt(2)*x + 6109375*sqrt(3)*sqrt(2))*sqrt(x^10 + 40*x^9 + 576*(x^2 - 1)*y^8 + 699*x^8 + 7920*x^7 + 96*(x^4 + 20*x^3 + 174*x^2 + 980*x + 2425)*y^6 + 39450*x^6 - 960*x^5 - 48*(3*x^6 + 20*x^5 - 3*x^4 + 40*x^3 + 925*x^2 + 5940*x + 14675)*y^4 - 39450*x^4 - 6000*x^3 + 96*(x^8 - x^6 + 20*x^5 - 20*x^3 + 375*x^2 + 3000*x + 7425)*y^2 - 9675*x^2 - 97000*x - 240625)/((x^18 + 60*x^17 + 331776*(x^2 - 1)*y^16 + 1599*x^16 + 25880*x^15 + 110592*(x^4 + 15*x^3 + 99*x^2 + 485*x + 1200)*y^14 + 266700*x^14 + 1555560*x^13 - 9216*(17*x^6 + 60*x^5 - 417*x^4 - 3040*x^3 - 13425*x^2 - 31020*x - 16975)*y^12 + 3533300*x^12 - 4005000*x^11 + 9216*(9*x^8 - 60*x^7 - 509*x^6 - 2430*x^5 - 9525*x^4 - 24260*x^3 - 71775*x^2 - 227250*x - 290600)*y^10 - 17787450*x^10 - 18420000*x^9 + 5760*(7*x^10 + 90*x^9 + 473*x^8 + 2460*x^7 + 10050*x^6 + 15200*x^5 + 53790*x^4 + 120900*x^3 + 198455*x^2 + 741350*x + 1103625)*y^8 + 15656250*x^8 + 31485000*x^7 - 192*(143*x^12 + 675*x^11 - 1043*x^10 - 7575*x^9 - 52650*x^8 - 224850*x^7 - 156150*x^6 + 1001250*x^5 + 3726075*x^4 + 6217375*x^3 + 4145625*x^2 + 19413125*x + 33330000)*y^6 + 3527500*x^6 + 12975000*x^5 + 96*(93*x^14 - 105*x^13 - 1693*x^12 - 13470*x^11 - 99575*x^10 - 222675*x^9 - 149025*x^8 - 1024500*x^7 - 2270025*x^6 + 2366625*x^5 + 9545625*x^4 + 11931250*x^3 + 451875*x^2 + 11346875*x + 28273125)*y^4 + 80032500*x^4 + 102025000*x^3 + 192*(x^16 + 30*x^15 + 399*x^14 + 3955*x^13 + 19950*x^12 + 3765*x^11 + 19850*x^10 + 197000*x^9 + 47025*x^8 + 77000*x^7 + 646875*x^6 - 598125*x^5 - 2642500*x^4 - 2896875*x^3 + 1117500*x^2 + 1581250*x - 687500)*y^2 - 78609375*x^2 - 180937500*x - 150390625)*sqrt(x^8 + 576*y^8 + 20*x^7 + 96*(x^2 + 10*x + 25)*y^6 + 100*x^6 - 20*x^5 - 48*(3*x^4 + 10*x^3 + 30*x + 125)*y^4 - 250*x^4 - 500*x^3 + 96*(x^6 + 10*x^3 + 25)*y^2 + 100*x^2 + 500*x + 625)*sqrt(x + 1)*sqrt(x - 1))"
      ]
     },
     "execution_count": 18,
     "metadata": {},
     "output_type": "execute_result"
    }
   ],
   "source": [
    "K[1,3]"
   ]
  },
  {
   "cell_type": "markdown",
   "metadata": {},
   "source": [
    "<p>The type-(1,1) tensor $K^\\sharp$ of components $K^i_{\\ \\, j} = \\gamma^{ik} K_{kj}$:</p>"
   ]
  },
  {
   "cell_type": "code",
   "execution_count": 19,
   "metadata": {
    "collapsed": false
   },
   "outputs": [
    {
     "name": "stdout",
     "output_type": "stream",
     "text": [
      "Tensor field of type (1,1) on the 3-dimensional differentiable manifold Sigma\n"
     ]
    }
   ],
   "source": [
    "Ku = K.up(gam, 0)\n",
    "print(Ku)"
   ]
  },
  {
   "cell_type": "markdown",
   "metadata": {},
   "source": [
    "<p>We may check that the hypersurface $\\Sigma$ is maximal, i.e. that $K^k_{\\ \\, k} = 0$:</p>"
   ]
  },
  {
   "cell_type": "code",
   "execution_count": 20,
   "metadata": {
    "collapsed": false
   },
   "outputs": [
    {
     "data": {
      "text/html": [
       "<html><script type=\"math/tex; mode=display\">\\newcommand{\\Bold}[1]{\\mathbf{#1}}0</script></html>"
      ],
      "text/plain": [
       "Scalar field zero on the 3-dimensional differentiable manifold Sigma"
      ]
     },
     "execution_count": 20,
     "metadata": {},
     "output_type": "execute_result"
    }
   ],
   "source": [
    "trK = Ku.trace()\n",
    "trK"
   ]
  },
  {
   "cell_type": "markdown",
   "metadata": {},
   "source": [
    "<h3>Connection and curvature</h3>\n",
    "<p>Let us call $D$ the Levi-Civita connection associated with $\\gamma$: </p>"
   ]
  },
  {
   "cell_type": "code",
   "execution_count": 21,
   "metadata": {
    "collapsed": false
   },
   "outputs": [
    {
     "name": "stdout",
     "output_type": "stream",
     "text": [
      "Levi-Civita connection D associated with the Riemannian metric gam on the 3-dimensional differentiable manifold Sigma\n"
     ]
    }
   ],
   "source": [
    "D = gam.connection(name='D')\n",
    "print(D)"
   ]
  },
  {
   "cell_type": "markdown",
   "metadata": {},
   "source": [
    "<p>The Ricci tensor associated with $\\gamma$:</p>"
   ]
  },
  {
   "cell_type": "code",
   "execution_count": 22,
   "metadata": {
    "collapsed": false
   },
   "outputs": [
    {
     "name": "stdout",
     "output_type": "stream",
     "text": [
      "Field of symmetric bilinear forms Ric(gam) on the 3-dimensional differentiable manifold Sigma\n"
     ]
    }
   ],
   "source": [
    "Ric = gam.ricci()\n",
    "print(Ric)"
   ]
  },
  {
   "cell_type": "markdown",
   "metadata": {},
   "source": [
    "<p>The scalar curvature $R = \\gamma^{ij} R_{ij}$:</p>"
   ]
  },
  {
   "cell_type": "code",
   "execution_count": 23,
   "metadata": {
    "collapsed": false
   },
   "outputs": [
    {
     "name": "stdout",
     "output_type": "stream",
     "text": [
      "Scalar field R on the 3-dimensional differentiable manifold Sigma\n"
     ]
    }
   ],
   "source": [
    "R = gam.ricci_scalar(name='R')\n",
    "print(R)"
   ]
  },
  {
   "cell_type": "markdown",
   "metadata": {},
   "source": [
    "The coordinate expression of the Ricci scalar is huge:"
   ]
  },
  {
   "cell_type": "code",
   "execution_count": 24,
   "metadata": {
    "collapsed": false
   },
   "outputs": [
    {
     "data": {
      "text/html": [
       "<html><script type=\"math/tex; mode=display\">\\newcommand{\\Bold}[1]{\\mathbf{#1}}\\frac{480000 \\, {\\left(36 \\, x^{38} + 2880 \\, x^{37} - 191102976 \\, {\\left(3 \\, x^{4} + 20 \\, x^{3} - 6 \\, x^{2} - 60 \\, x - 101\\right)} y^{36} + 103116 \\, x^{36} + 2152440 \\, x^{35} + 382205952 \\, {\\left(5 \\, x^{6} + 45 \\, x^{5} + 195 \\, x^{4} + 1210 \\, x^{3} + 3555 \\, x^{2} + 4065 \\, x - 291\\right)} y^{34} + 28527685 \\, x^{34} + 243524500 \\, x^{33} - 63700992 \\, {\\left(45 \\, x^{8} + 605 \\, x^{7} + 4434 \\, x^{6} + 21165 \\, x^{5} + 36233 \\, x^{4} - 28965 \\, x^{3} - 244428 \\, x^{2} - 457885 \\, x - 503220\\right)} y^{32} + 1269998358 \\, x^{32} + 3199445660 \\, x^{31} + 10616832 \\, {\\left(279 \\, x^{10} + 4375 \\, x^{9} + 30087 \\, x^{8} + 71400 \\, x^{7} - 238782 \\, x^{6} - 1698210 \\, x^{5} - 6419238 \\, x^{4} - 18093840 \\, x^{3} - 36663561 \\, x^{2} - 47421645 \\, x - 39429937\\right)} y^{30} - 2269601041 \\, x^{30} - 34623715080 \\, x^{29} - 331776 \\, {\\left(5729 \\, x^{12} + 49180 \\, x^{11} - 74502 \\, x^{10} - 3734980 \\, x^{9} - 26371593 \\, x^{8} - 109948680 \\, x^{7} - 472804404 \\, x^{6} - 1606840680 \\, x^{5} - 3848737185 \\, x^{4} - 6740837780 \\, x^{3} - 9099798310 \\, x^{2} - 9444811860 \\, x - 7651340375\\right)} y^{28} - 59087224000 \\, x^{28} + 65688034640 \\, x^{27} - 110592 \\, {\\left(2649 \\, x^{14} + 238580 \\, x^{13} + 3051495 \\, x^{12} + 19491840 \\, x^{11} + 91830265 \\, x^{10} + 456692580 \\, x^{9} + 2183925951 \\, x^{8} + 7465185120 \\, x^{7} + 19582237971 \\, x^{6} + 43189401660 \\, x^{5} + 79002052285 \\, x^{4} + 114585899040 \\, x^{3} + 122428856475 \\, x^{2} + 101684757740 \\, x + 84896596125\\right)} y^{26} + 384825320925 \\, x^{26} + 395426661500 \\, x^{25} + 9216 \\, {\\left(181479 \\, x^{16} + 4048360 \\, x^{15} + 34156308 \\, x^{14} + 188537160 \\, x^{13} + 1036205812 \\, x^{12} + 5987029560 \\, x^{11} + 26294717532 \\, x^{10} + 87261273880 \\, x^{9} + 261260973090 \\, x^{8} + 690772283160 \\, x^{7} + 1471695406220 \\, x^{6} + 2533618367160 \\, x^{5} + 3691666652100 \\, x^{4} + 4791547622600 \\, x^{3} + 4502416196100 \\, x^{2} + 2923338273000 \\, x + 2562270874175\\right)} y^{24} - 689419898350 \\, x^{24} - 2430744577500 \\, x^{23} - 9216 \\, {\\left(146361 \\, x^{18} + 2352670 \\, x^{17} + 16966899 \\, x^{16} + 120818880 \\, x^{15} + 809501212 \\, x^{14} + 4167280920 \\, x^{13} + 15760668420 \\, x^{12} + 56142463840 \\, x^{11} + 200275537254 \\, x^{10} + 588282675780 \\, x^{9} + 1405136391410 \\, x^{8} + 2938902756480 \\, x^{7} + 5350560752700 \\, x^{6} + 7979584965560 \\, x^{5} + 9571504935300 \\, x^{4} + 11338546428000 \\, x^{3} + 10122365599625 \\, x^{2} + 5038926732750 \\, x + 4632320521875\\right)} y^{22} - 1857563145625 \\, x^{22} + 3726507914000 \\, x^{21} + 576 \\, {\\left(872259 \\, x^{20} + 10405140 \\, x^{19} + 82612818 \\, x^{18} + 902230980 \\, x^{17} + 5601145999 \\, x^{16} + 20778680080 \\, x^{15} + 69911685912 \\, x^{14} + 343436041360 \\, x^{13} + 1497770805142 \\, x^{12} + 4970942130840 \\, x^{11} + 14590852687852 \\, x^{10} + 37040501042680 \\, x^{9} + 75185699557350 \\, x^{8} + 126956136629840 \\, x^{7} + 200548351151000 \\, x^{6} + 280689612306000 \\, x^{5} + 289604848243175 \\, x^{4} + 307553520288500 \\, x^{3} + 274894209791250 \\, x^{2} + 104726374470500 \\, x + 99270616476875\\right)} y^{20} + 10725964057500 \\, x^{20} + 7153101875000 \\, x^{19} - 1152 \\, {\\left(25696 \\, x^{22} - 631175 \\, x^{21} - 161828 \\, x^{20} + 43569130 \\, x^{19} - 147524592 \\, x^{18} - 2734696695 \\, x^{17} - 8429504836 \\, x^{16} + 8540896280 \\, x^{15} + 142172247840 \\, x^{14} + 800517208530 \\, x^{13} + 3285944502360 \\, x^{12} + 9449079586780 \\, x^{11} + 21612057340800 \\, x^{10} + 45038295323450 \\, x^{9} + 82051701857400 \\, x^{8} + 117838236487000 \\, x^{7} + 161281016060800 \\, x^{6} + 224621201119125 \\, x^{5} + 211864359447500 \\, x^{4} + 193342988674250 \\, x^{3} + 177597398470000 \\, x^{2} + 52756443228125 \\, x + 49969255607500\\right)} y^{18} - 13398254925625 \\, x^{18} - 34661922712500 \\, x^{17} - 48 \\, {\\left(1317855 \\, x^{24} + 35094860 \\, x^{23} + 301540716 \\, x^{22} + 3001862540 \\, x^{21} + 23519567706 \\, x^{20} + 106393862660 \\, x^{19} + 311028711012 \\, x^{18} + 719292194340 \\, x^{17} + 1077335948157 \\, x^{16} - 2382833534280 \\, x^{15} - 20289271710280 \\, x^{14} - 74864124423240 \\, x^{13} - 228136339665700 \\, x^{12} - 553418865892920 \\, x^{11} - 1008839074137400 \\, x^{10} - 1647179273211000 \\, x^{9} - 2848515077153175 \\, x^{8} - 3846168576082500 \\, x^{7} - 4546922858182500 \\, x^{6} - 6417482452730500 \\, x^{5} - 5915475415953750 \\, x^{4} - 4443051200687500 \\, x^{3} - 4189051440907500 \\, x^{2} - 1001111910587500 \\, x - 909098726953125\\right)} y^{16} - 22308384343750 \\, x^{16} + 31657039062500 \\, x^{15} + 48 \\, {\\left(826719 \\, x^{26} + 23430200 \\, x^{25} + 272358873 \\, x^{24} + 2539133640 \\, x^{23} + 14381842762 \\, x^{22} + 50227933080 \\, x^{21} + 147297993214 \\, x^{20} + 463374453880 \\, x^{19} + 1166546488285 \\, x^{18} + 1655137640160 \\, x^{17} - 793319453005 \\, x^{16} - 18257108470320 \\, x^{15} - 75659008152900 \\, x^{14} - 188155382315600 \\, x^{13} - 390580154803500 \\, x^{12} - 800760869162000 \\, x^{11} - 1281957887842775 \\, x^{10} - 1605940798661000 \\, x^{9} - 2752224360140625 \\, x^{8} - 4005975929887000 \\, x^{7} - 4199432221443750 \\, x^{6} - 5753278142925000 \\, x^{5} - 5450901493411250 \\, x^{4} - 3307170487425000 \\, x^{3} - 3112402899453125 \\, x^{2} - 615820486250000 \\, x - 513017261046875\\right)} y^{14} + 81676588453125 \\, x^{14} + 58656861875000 \\, x^{13} - {\\left(16632123 \\, x^{28} + 499946740 \\, x^{27} + 6196259958 \\, x^{26} + 48354916500 \\, x^{25} + 210671691233 \\, x^{24} + 676264764600 \\, x^{23} + 2480527625628 \\, x^{22} + 8835658984280 \\, x^{21} + 23129361505347 \\, x^{20} + 48962891419740 \\, x^{19} + 67475269064330 \\, x^{18} - 64483145981220 \\, x^{17} - 634130008786575 \\, x^{16} - 2378356273612720 \\, x^{15} - 6843388543399800 \\, x^{14} - 13403795491878000 \\, x^{13} - 17968166150880775 \\, x^{12} - 29491543705444500 \\, x^{11} - 49841887049313750 \\, x^{10} - 51645998160896500 \\, x^{9} - 87332506037923125 \\, x^{8} - 154714164855525000 \\, x^{7} - 155450250997622500 \\, x^{6} - 188899684974225000 \\, x^{5} - 186644230989984375 \\, x^{4} - 92578967313437500 \\, x^{3} - 82813950742406250 \\, x^{2} - 13688637908437500 \\, x - 10052326473828125\\right)} y^{12} - 38894490625000 \\, x^{12} - 127794000000000 \\, x^{11} + {\\left(5287413 \\, x^{30} + 153553860 \\, x^{29} + 1732590387 \\, x^{28} + 10983605840 \\, x^{27} + 41705752809 \\, x^{26} + 182167871700 \\, x^{25} + 742487990119 \\, x^{24} + 1812065771520 \\, x^{23} + 4180994474577 \\, x^{22} + 16676823221140 \\, x^{21} + 45941187607623 \\, x^{20} + 60767412776400 \\, x^{19} - 46828949980475 \\, x^{18} - 541654529965980 \\, x^{17} - 1641522681341925 \\, x^{16} - 3216999939440000 \\, x^{15} - 6214406047779825 \\, x^{14} - 10658201858008500 \\, x^{13} - 8192115508664375 \\, x^{12} - 7387864891722000 \\, x^{11} - 24095715523603125 \\, x^{10} - 28509120447162500 \\, x^{9} - 43068217775386875 \\, x^{8} - 93542930451600000 \\, x^{7} - 99595604072703125 \\, x^{6} - 100441157954062500 \\, x^{5} - 100220408582671875 \\, x^{4} - 41492192986250000 \\, x^{3} - 33314791784765625 \\, x^{2} - 4477008820312500 \\, x - 2805643465234375\\right)} y^{10} - 107249503515625 \\, x^{10} + 734164062500 \\, x^{9} - {\\left(1235529 \\, x^{32} + 28614420 \\, x^{31} + 242301933 \\, x^{30} + 1525335720 \\, x^{29} + 8566281302 \\, x^{28} + 47434915320 \\, x^{27} + 106842591351 \\, x^{26} - 41497935380 \\, x^{25} + 156438129780 \\, x^{24} + 3581296064220 \\, x^{23} + 12192876368965 \\, x^{22} + 29274331168800 \\, x^{21} + 45233459539650 \\, x^{20} - 12021024328400 \\, x^{19} - 270597672490425 \\, x^{18} - 896327607811500 \\, x^{17} - 1938183310470350 \\, x^{16} - 2243010663184500 \\, x^{15} - 1658353427210625 \\, x^{14} - 2945595506411000 \\, x^{13} - 265352800083750 \\, x^{12} + 4005477027675000 \\, x^{11} - 5626322615511875 \\, x^{10} - 13997280486187500 \\, x^{9} - 18426614180062500 \\, x^{8} - 41345459188437500 \\, x^{7} - 49771280101640625 \\, x^{6} - 41987184191250000 \\, x^{5} - 39237676444531250 \\, x^{4} - 13422863812500000 \\, x^{3} - 9177878185546875 \\, x^{2} - 917727132812500 \\, x - 478026591796875\\right)} y^{8} + 94590761718750 \\, x^{8} + 88356835937500 \\, x^{7} + {\\left(120651 \\, x^{34} + 2119660 \\, x^{33} + 18593277 \\, x^{32} + 276620640 \\, x^{31} + 2118116042 \\, x^{30} + 6038888040 \\, x^{29} - 14964912082 \\, x^{28} - 136865476640 \\, x^{27} - 340325853282 \\, x^{26} - 174985487720 \\, x^{25} + 2786813647530 \\, x^{24} + 12356216192160 \\, x^{23} + 20519028576850 \\, x^{22} + 6884947030920 \\, x^{21} - 23743855815450 \\, x^{20} - 83588982908000 \\, x^{19} - 284682595899900 \\, x^{18} - 658015604370000 \\, x^{17} - 1129670967147500 \\, x^{16} - 627606463164000 \\, x^{15} + 1340610340038750 \\, x^{14} + 1398837488275000 \\, x^{13} + 934758781346250 \\, x^{12} + 2345498505300000 \\, x^{11} + 432351218031250 \\, x^{10} - 3820009914375000 \\, x^{9} - 6840144867656250 \\, x^{8} - 13953430602500000 \\, x^{7} - 18308648872656250 \\, x^{6} - 13278744515625000 \\, x^{5} - 10592524261718750 \\, x^{4} - 2753915562500000 \\, x^{3} - 1528670537109375 \\, x^{2} - 88356835937500 \\, x - 37324462890625\\right)} y^{6} + 37324462890625 \\, x^{6} - {\\left(2136 \\, x^{36} + 124200 \\, x^{35} + 3039597 \\, x^{34} + 32881700 \\, x^{33} + 93722853 \\, x^{32} - 1030759320 \\, x^{31} - 10841531198 \\, x^{30} - 46356481680 \\, x^{29} - 112365069105 \\, x^{28} - 43620267260 \\, x^{27} + 641494829280 \\, x^{26} + 1665231908700 \\, x^{25} + 2491608286525 \\, x^{24} + 5734575418800 \\, x^{23} + 12222002608350 \\, x^{22} - 842697893000 \\, x^{21} - 52477297247025 \\, x^{20} - 96993858580500 \\, x^{19} - 120998655106250 \\, x^{18} - 138043734238500 \\, x^{17} - 209267287265625 \\, x^{16} + 26150758825000 \\, x^{15} + 885261914478750 \\, x^{14} + 952705035600000 \\, x^{13} + 90729233453125 \\, x^{12} + 138605408437500 \\, x^{11} + 991022181000000 \\, x^{10} + 470452104062500 \\, x^{9} - 1862908691015625 \\, x^{8} - 4069138875000000 \\, x^{7} - 4766738324218750 \\, x^{6} - 2755383890625000 \\, x^{5} - 1717852060546875 \\, x^{4} - 265070507812500 \\, x^{3} - 111973388671875 \\, x^{2}\\right)} y^{4} - {\\left(36 \\, x^{38} + 2880 \\, x^{37} + 100980 \\, x^{36} + 2028240 \\, x^{35} + 25608739 \\, x^{34} + 212762460 \\, x^{33} + 1193633253 \\, x^{32} + 4478211200 \\, x^{31} + 10453031679 \\, x^{30} + 16399872780 \\, x^{29} + 31462609985 \\, x^{28} - 64508430960 \\, x^{27} - 668288777625 \\, x^{26} - 1268355194740 \\, x^{25} - 5826399375 \\, x^{24} + 1865595000000 \\, x^{23} - 3377121800725 \\, x^{22} - 7711435594500 \\, x^{21} + 22979825323125 \\, x^{20} + 61474393334000 \\, x^{19} + 20492295485625 \\, x^{18} - 86908614187500 \\, x^{17} - 88930530330625 \\, x^{16} + 21354867600000 \\, x^{15} + 35954417578125 \\, x^{14} - 3073075937500 \\, x^{13} - 9496729078125 \\, x^{12} - 181596731250000 \\, x^{11} - 509423538671875 \\, x^{10} - 391544648437500 \\, x^{9} + 439199279296875 \\, x^{8} + 919929625000000 \\, x^{7} + 761798876953125 \\, x^{6} + 265070507812500 \\, x^{5} + 111973388671875 \\, x^{4}\\right)} y^{2}\\right)}}{x^{44} + 140 \\, x^{43} + 9298 \\, x^{42} + 391580 \\, x^{41} + 63403380965376 \\, {\\left(x^{4} - 2 \\, x^{2} + 1\\right)} y^{40} + 11745751 \\, x^{40} + 265992920 \\, x^{39} + 52836150804480 \\, {\\left(x^{6} + 14 \\, x^{5} + 83 \\, x^{4} + 372 \\, x^{3} + 871 \\, x^{2} - 386 \\, x - 955\\right)} y^{38} + 4686949900 \\, x^{38} + 65123078360 \\, x^{37} - 8806025134080 \\, {\\left(7 \\, x^{8} - 14 \\, x^{7} - 734 \\, x^{6} - 5846 \\, x^{5} - 33128 \\, x^{4} - 134666 \\, x^{3} - 397010 \\, x^{2} - 899474 \\, x - 1121135\\right)} y^{36} + 713943034675 \\, x^{36} + 6098837559500 \\, x^{35} + 2935341711360 \\, {\\left(x^{10} - 294 \\, x^{9} - 1847 \\, x^{8} - 2912 \\, x^{7} + 40876 \\, x^{6} + 468256 \\, x^{5} + 2524840 \\, x^{4} + 8872600 \\, x^{3} + 22636195 \\, x^{2} + 35782350 \\, x + 22991935\\right)} y^{34} + 39362467242250 \\, x^{34} + 179513453973500 \\, x^{33} + 61152952320 \\, {\\left(1021 \\, x^{12} + 7532 \\, x^{11} - 35542 \\, x^{10} - 620132 \\, x^{9} - 4312749 \\, x^{8} - 19407432 \\, x^{7} - 43409940 \\, x^{6} - 16917768 \\, x^{5} + 228006675 \\, x^{4} + 786302300 \\, x^{3} + 66374410 \\, x^{2} - 4547124500 \\, x - 6526559875\\right)} y^{32} + 481092794993125 \\, x^{32} + 79508296004000 \\, x^{31} - 32614907904 \\, {\\left(776 \\, x^{14} - 12565 \\, x^{13} - 204127 \\, x^{12} - 1118105 \\, x^{11} - 3357374 \\, x^{10} + 2671030 \\, x^{9} + 87297825 \\, x^{8} + 472626390 \\, x^{7} + 1800324300 \\, x^{6} + 5656243375 \\, x^{5} + 14908650475 \\, x^{4} + 39684167875 \\, x^{3} + 85409536250 \\, x^{2} + 100694222000 \\, x + 42422391875\\right)} y^{30} - 4683374447270000 \\, x^{30} - 15905231979100000 \\, x^{29} - 10192158720 \\, {\\left(1467 \\, x^{16} + 47488 \\, x^{15} + 180806 \\, x^{14} - 899596 \\, x^{13} - 14944098 \\, x^{12} - 114762872 \\, x^{11} - 560206490 \\, x^{10} - 1968120820 \\, x^{9} - 5820014580 \\, x^{8} - 13907446800 \\, x^{7} - 27444191230 \\, x^{6} - 55735426100 \\, x^{5} - 97961762750 \\, x^{4} - 197726503800 \\, x^{3} - 671368168750 \\, x^{2} - 1380518087500 \\, x - 1040460974375\\right)} y^{28} - 11953966552763750 \\, x^{28} + 56976434740175000 \\, x^{27} + 20384317440 \\, {\\left(1042 \\, x^{18} + 4011 \\, x^{17} - 96939 \\, x^{16} - 1062951 \\, x^{15} - 6381553 \\, x^{14} - 27480331 \\, x^{13} - 61693045 \\, x^{12} - 1823579 \\, x^{11} + 634017055 \\, x^{10} + 3582721775 \\, x^{9} + 11382529065 \\, x^{8} + 28434171675 \\, x^{7} + 78792472125 \\, x^{6} + 192723288775 \\, x^{5} + 427703931625 \\, x^{4} + 983093134375 \\, x^{3} + 1391505399875 \\, x^{2} + 504468406250 \\, x - 451106531250\\right)} y^{26} + 172058070606562500 \\, x^{26} + 104953984813875000 \\, x^{25} - 212336640 \\, {\\left(19177 \\, x^{20} - 689808 \\, x^{19} - 9237634 \\, x^{18} - 45306624 \\, x^{17} - 109200963 \\, x^{16} + 458547072 \\, x^{15} + 6866408040 \\, x^{14} + 39686381760 \\, x^{13} + 171296366850 \\, x^{12} + 618409496800 \\, x^{11} + 1854437337780 \\, x^{10} + 5463612267200 \\, x^{9} + 15421164359250 \\, x^{8} + 36761127513600 \\, x^{7} + 79838448177000 \\, x^{6} + 162869649960000 \\, x^{5} + 300130970695125 \\, x^{4} + 561736716030000 \\, x^{3} + 939675527818750 \\, x^{2} + 956434210440000 \\, x + 397750345240625\\right)} y^{24} - 354500721301406250 \\, x^{24} - 792348114603750000 \\, x^{23} - 106168320 \\, {\\left(38703 \\, x^{22} + 956746 \\, x^{21} + 3267589 \\, x^{20} - 21078556 \\, x^{19} - 325705387 \\, x^{18} - 2762002326 \\, x^{17} - 15363958425 \\, x^{16} - 62199362064 \\, x^{15} - 217787029530 \\, x^{14} - 660603081900 \\, x^{13} - 1872085209950 \\, x^{12} - 5780158778600 \\, x^{11} - 16627898743750 \\, x^{10} - 43192164118300 \\, x^{9} - 115999135757250 \\, x^{8} - 288388298010000 \\, x^{7} - 620225443393125 \\, x^{6} - 1208381667318750 \\, x^{5} - 2023226607684375 \\, x^{4} - 3123688612017500 \\, x^{3} - 5088965452109375 \\, x^{2} - 6210751516468750 \\, x - 3356440930403125\\right)} y^{22} - 296032799377875000 \\, x^{22} + 902981264576250000 \\, x^{21} + 21233664 \\, {\\left(154154 \\, x^{24} + 609455 \\, x^{23} - 14370008 \\, x^{22} - 166786715 \\, x^{21} - 1155157146 \\, x^{20} - 6273873435 \\, x^{19} - 21563407500 \\, x^{18} - 50126101305 \\, x^{17} - 81507355200 \\, x^{16} - 18541260250 \\, x^{15} - 248231576800 \\, x^{14} - 3130816382750 \\, x^{13} - 11489702742500 \\, x^{12} - 43497416523750 \\, x^{11} - 166070628225000 \\, x^{10} - 465621278981250 \\, x^{9} - 1221277312143750 \\, x^{8} - 3167208744553125 \\, x^{7} - 7112710575625000 \\, x^{6} - 13948830522184375 \\, x^{5} - 21907529466781250 \\, x^{4} - 27474731965859375 \\, x^{3} - 40150762929187500 \\, x^{2} - 55258900845703125 \\, x - 33891741014062500\\right)} y^{20} + 954361061046093750 \\, x^{20} - 250326352753125000 \\, x^{19} - 8847360 \\, {\\left(61361 \\, x^{26} - 1719746 \\, x^{25} - 26043217 \\, x^{24} - 162147628 \\, x^{23} - 747070274 \\, x^{22} - 1384614256 \\, x^{21} + 10017969890 \\, x^{20} + 86881233580 \\, x^{19} + 423953615195 \\, x^{18} + 1625471385950 \\, x^{17} + 4542775819045 \\, x^{16} + 12181212739400 \\, x^{15} + 33414438588500 \\, x^{14} + 65336573045200 \\, x^{13} + 92449444827500 \\, x^{12} + 82982302775000 \\, x^{11} - 287309892763625 \\, x^{10} - 1604323021963750 \\, x^{9} - 4514588611384375 \\, x^{8} - 11233716453777500 \\, x^{7} - 25897836199131250 \\, x^{6} - 52542872825500000 \\, x^{5} - 79478779655168750 \\, x^{4} - 79889800792562500 \\, x^{3} - 94018399053671875 \\, x^{2} - 147644623994093750 \\, x - 101405734261328125\\right)} y^{18} + 886733786751562500 \\, x^{18} + 5071158847484375000 \\, x^{17} - 3317760 \\, {\\left(91703 \\, x^{28} + 2725604 \\, x^{27} + 16146134 \\, x^{26} + 32324916 \\, x^{25} - 296071667 \\, x^{24} - 5609435144 \\, x^{23} - 39934533220 \\, x^{22} - 177771551176 \\, x^{21} - 669314690545 \\, x^{20} - 2077675341300 \\, x^{19} - 5475236587030 \\, x^{18} - 16654791120100 \\, x^{17} - 49237382569875 \\, x^{16} - 118104296442800 \\, x^{15} - 292706403131000 \\, x^{14} - 659326621390000 \\, x^{13} - 1095331842641875 \\, x^{12} - 1606737378962500 \\, x^{11} - 1072070163693750 \\, x^{10} + 4802975950707500 \\, x^{9} + 16957987782959375 \\, x^{8} + 34316574841875000 \\, x^{7} + 71914551180137500 \\, x^{6} + 151359714860875000 \\, x^{5} + 227505097237578125 \\, x^{4} + 182665220668812500 \\, x^{3} + 137308924346093750 \\, x^{2} + 271575376651562500 \\, x + 217385348253984375\\right)} y^{16} + 3527065747072656250 \\, x^{16} - 9554345053937500000 \\, x^{15} + 1105920 \\, {\\left(199519 \\, x^{30} + 1762334 \\, x^{29} - 2056903 \\, x^{28} - 96146728 \\, x^{27} - 1043215741 \\, x^{26} - 7795751146 \\, x^{25} - 32542143675 \\, x^{24} - 95914448960 \\, x^{23} - 231930353405 \\, x^{22} - 233745901450 \\, x^{21} - 588366918795 \\, x^{20} - 7204217740200 \\, x^{19} - 26535866293625 \\, x^{18} - 77218228068850 \\, x^{17} - 259408370737375 \\, x^{16} - 666323340120000 \\, x^{15} - 1545949208853875 \\, x^{14} - 3507706965443750 \\, x^{13} - 5863312054253125 \\, x^{12} - 8832484889355000 \\, x^{11} - 9782223509334375 \\, x^{10} + 14658308402781250 \\, x^{9} + 67025004948509375 \\, x^{8} + 102433510832000000 \\, x^{7} + 153350326464140625 \\, x^{6} + 323267474966031250 \\, x^{5} + 508155548901484375 \\, x^{4} + 331124540078125000 \\, x^{3} + 46126770893828125 \\, x^{2} + 286174609035156250 \\, x + 320285370248046875\\right)} y^{14} - 20168255714843750000 \\, x^{14} - 8637455301437500000 \\, x^{13} - 92160 \\, {\\left(582389 \\, x^{32} - 8092 \\, x^{31} - 53672758 \\, x^{30} - 534840168 \\, x^{29} - 3933685746 \\, x^{28} - 14992759188 \\, x^{27} - 835038190 \\, x^{26} + 225253000448 \\, x^{25} + 1571097996170 \\, x^{24} + 7337184968900 \\, x^{23} + 17346580003010 \\, x^{22} + 29852921707400 \\, x^{21} + 94619882615750 \\, x^{20} + 189851881510700 \\, x^{19} + 1312536538250 \\, x^{18} - 750421021030000 \\, x^{17} - 3142290205793500 \\, x^{16} - 9931750050512500 \\, x^{15} - 24607313492781250 \\, x^{14} - 49637844477415000 \\, x^{13} - 69258704799193750 \\, x^{12} - 93755191087937500 \\, x^{11} - 125345227848606250 \\, x^{10} + 159239006223500000 \\, x^{9} + 833125329809843750 \\, x^{8} + 1055350749015687500 \\, x^{7} + 839309529746093750 \\, x^{6} + 1531808455021875000 \\, x^{5} + 2894730048940781250 \\, x^{4} + 1636088763876562500 \\, x^{3} - 1197647882019531250 \\, x^{2} - 256718527243750000 \\, x + 849813617708984375\\right)} y^{12} + 13971494002158203125 \\, x^{12} + 17003531488085937500 \\, x^{11} + 18432 \\, {\\left(308853 \\, x^{34} - 4199860 \\, x^{33} - 55340231 \\, x^{32} - 416543570 \\, x^{31} - 1451578222 \\, x^{30} + 15853183470 \\, x^{29} + 183630726450 \\, x^{28} + 997626729710 \\, x^{27} + 4356924383350 \\, x^{26} + 13031562478750 \\, x^{25} + 23449969068550 \\, x^{24} + 62884468435750 \\, x^{23} + 246258626406250 \\, x^{22} + 496993275715750 \\, x^{21} + 858070223706250 \\, x^{20} + 2336998906543750 \\, x^{19} + 3191619984010000 \\, x^{18} - 450304990231250 \\, x^{17} - 10221588678875000 \\, x^{16} - 47266484336693750 \\, x^{15} - 136633650057406250 \\, x^{14} - 222967811246093750 \\, x^{13} - 171834089641906250 \\, x^{12} - 104180031491093750 \\, x^{11} - 268868922146093750 \\, x^{10} + 521061997672656250 \\, x^{9} + 2874623936985156250 \\, x^{8} + 3438669987988281250 \\, x^{7} + 966479112492968750 \\, x^{6} + 107253427488281250 \\, x^{5} + 3166585036230468750 \\, x^{4} + 2131213030425781250 \\, x^{3} - 4037726094189453125 \\, x^{2} - 3932609590332031250 \\, x - 773363311650390625\\right)} y^{10} + 4263935389316406250 \\, x^{10} + 13373359857617187500 \\, x^{9} + 2880 \\, {\\left(133769 \\, x^{36} + 3303216 \\, x^{35} + 27048222 \\, x^{34} + 67971248 \\, x^{33} - 2487092831 \\, x^{32} - 41522082944 \\, x^{31} - 249144314800 \\, x^{30} - 1026385096320 \\, x^{29} - 2703929071980 \\, x^{28} + 1580810459200 \\, x^{27} + 16232029330120 \\, x^{26} - 44182841201600 \\, x^{25} - 224660394801500 \\, x^{24} - 392780431932800 \\, x^{23} - 1573719407810000 \\, x^{22} - 4263904468400000 \\, x^{21} - 6342858625657250 \\, x^{20} - 14699766492140000 \\, x^{19} - 23782060891287500 \\, x^{18} - 3741145741580000 \\, x^{17} + 38765415775318750 \\, x^{16} + 223257201538000000 \\, x^{15} + 712828568564350000 \\, x^{14} + 955641791434000000 \\, x^{13} + 11936363814062500 \\, x^{12} - 1228364464271000000 \\, x^{11} - 465695579661875000 \\, x^{10} - 1083014376175000000 \\, x^{9} - 7035036188192187500 \\, x^{8} - 9160668873050000000 \\, x^{7} + 351697068031250000 \\, x^{6} + 9721508088750000000 \\, x^{5} + 3991038680900390625 \\, x^{4} - 1962956375781250000 \\, x^{3} + 4691454811386718750 \\, x^{2} + 8396893952968750000 \\, x + 4259424492041015625\\right)} y^{8} + 41175950114013671875 \\, x^{8} + 26093315615234375000 \\, x^{7} + 480 \\, {\\left(17857 \\, x^{38} + 981246 \\, x^{37} + 24394211 \\, x^{36} + 384708004 \\, x^{35} + 4197032367 \\, x^{34} + 29676841454 \\, x^{33} + 117117446285 \\, x^{32} + 46664294496 \\, x^{31} - 3322764668540 \\, x^{30} - 23680147757800 \\, x^{29} - 48290715192180 \\, x^{28} - 9658303715600 \\, x^{27} - 134714675620500 \\, x^{26} - 681236216401800 \\, x^{25} - 435966791197500 \\, x^{24} + 1488218491620000 \\, x^{23} + 5991902874534750 \\, x^{22} + 20141271375262500 \\, x^{21} + 46509025160156250 \\, x^{20} + 73735254786615000 \\, x^{19} + 30502851635531250 \\, x^{18} - 134798002572937500 \\, x^{17} - 218707400249006250 \\, x^{16} - 574790901913500000 \\, x^{15} - 1964977092124687500 \\, x^{14} - 2425615045951125000 \\, x^{13} + 1708431952845937500 \\, x^{12} + 7518692976893750000 \\, x^{11} + 5202750325875937500 \\, x^{10} - 997293807940625000 \\, x^{9} + 3572007206257812500 \\, x^{8} + 10492485506437500000 \\, x^{7} - 2688747733396484375 \\, x^{6} - 26028710638144531250 \\, x^{5} - 22159549291376953125 \\, x^{4} + 802649434414062500 \\, x^{3} + 9444263331396484375 \\, x^{2} + 1297790608886718750 \\, x - 2804768143310546875\\right)} y^{6} - 46691935668945312500 \\, x^{6} - 100445314697265625000 \\, x^{5} + 240 \\, {\\left(381 \\, x^{40} + 31906 \\, x^{39} + 1247158 \\, x^{38} + 30883778 \\, x^{37} + 544306296 \\, x^{36} + 7122646726 \\, x^{35} + 69913382330 \\, x^{34} + 510430990390 \\, x^{33} + 2632720166735 \\, x^{32} + 8065855741000 \\, x^{31} + 6179532240600 \\, x^{30} - 26502545174200 \\, x^{29} + 31944775282000 \\, x^{28} + 317841576345400 \\, x^{27} + 303019379541000 \\, x^{26} + 339930336795000 \\, x^{25} + 2081508242429250 \\, x^{24} + 3038648447917500 \\, x^{23} - 3129120504787500 \\, x^{22} - 30174590225482500 \\, x^{21} - 86504329026000000 \\, x^{20} - 92392868169187500 \\, x^{19} + 108911408740987500 \\, x^{18} + 423801572341312500 \\, x^{17} + 342133453264218750 \\, x^{16} + 3866966813625000 \\, x^{15} + 422017631926875000 \\, x^{14} + 886972064165625000 \\, x^{13} - 1425641190291250000 \\, x^{12} - 5575886156490625000 \\, x^{11} - 4343687267234375000 \\, x^{10} + 3199609243734375000 \\, x^{9} + 6900863268119140625 \\, x^{8} + 1813619331894531250 \\, x^{7} - 888560372910156250 \\, x^{6} + 5432312000957031250 \\, x^{5} + 8200626020703125000 \\, x^{4} + 182971981933593750 \\, x^{3} - 8580573747558593750 \\, x^{2} - 7216062365722656250 \\, x - 2249033721923828125\\right)} y^{4} - 62605809478759765625 \\, x^{4} + 20924618530273437500 \\, x^{3} + 480 \\, {\\left(x^{42} + 112 \\, x^{41} + 5918 \\, x^{40} + 198078 \\, x^{39} + 4720201 \\, x^{38} + 84589508 \\, x^{37} + 1167826405 \\, x^{36} + 12489902702 \\, x^{35} + 102271454170 \\, x^{34} + 618078546000 \\, x^{33} + 2536860610805 \\, x^{32} + 5663118741400 \\, x^{31} - 157452771500 \\, x^{30} - 30253815862800 \\, x^{29} - 40219628167500 \\, x^{28} + 19002468075000 \\, x^{27} - 40494126278250 \\, x^{26} - 375115596000000 \\, x^{25} - 425360990475000 \\, x^{24} + 424275394462500 \\, x^{23} + 1543069843818750 \\, x^{22} + 4838556417375000 \\, x^{21} + 13614241900893750 \\, x^{20} + 11509864757062500 \\, x^{19} - 33836817459375000 \\, x^{18} - 97332685098000000 \\, x^{17} - 61972707809531250 \\, x^{16} + 91958209446875000 \\, x^{15} + 161827942144062500 \\, x^{14} + 37640887093750000 \\, x^{13} + 18848339414062500 \\, x^{12} + 294173009309375000 \\, x^{11} + 294972621337890625 \\, x^{10} - 445201684843750000 \\, x^{9} - 1158794195761718750 \\, x^{8} - 663708485019531250 \\, x^{7} + 536394708837890625 \\, x^{6} + 942171938476562500 \\, x^{5} + 313073468017578125 \\, x^{4} - 156936828613281250 \\, x^{3} + 44757751464843750 \\, x^{2} + 256765136718750000 \\, x + 164783477783203125\\right)} y^{2} + 64712165832519531250 \\, x^{2} + 45322799682617187500 \\, x + 14135837554931640625}</script></html>"
      ],
      "text/plain": [
       "480000*(36*x^38 + 2880*x^37 - 191102976*(3*x^4 + 20*x^3 - 6*x^2 - 60*x - 101)*y^36 + 103116*x^36 + 2152440*x^35 + 382205952*(5*x^6 + 45*x^5 + 195*x^4 + 1210*x^3 + 3555*x^2 + 4065*x - 291)*y^34 + 28527685*x^34 + 243524500*x^33 - 63700992*(45*x^8 + 605*x^7 + 4434*x^6 + 21165*x^5 + 36233*x^4 - 28965*x^3 - 244428*x^2 - 457885*x - 503220)*y^32 + 1269998358*x^32 + 3199445660*x^31 + 10616832*(279*x^10 + 4375*x^9 + 30087*x^8 + 71400*x^7 - 238782*x^6 - 1698210*x^5 - 6419238*x^4 - 18093840*x^3 - 36663561*x^2 - 47421645*x - 39429937)*y^30 - 2269601041*x^30 - 34623715080*x^29 - 331776*(5729*x^12 + 49180*x^11 - 74502*x^10 - 3734980*x^9 - 26371593*x^8 - 109948680*x^7 - 472804404*x^6 - 1606840680*x^5 - 3848737185*x^4 - 6740837780*x^3 - 9099798310*x^2 - 9444811860*x - 7651340375)*y^28 - 59087224000*x^28 + 65688034640*x^27 - 110592*(2649*x^14 + 238580*x^13 + 3051495*x^12 + 19491840*x^11 + 91830265*x^10 + 456692580*x^9 + 2183925951*x^8 + 7465185120*x^7 + 19582237971*x^6 + 43189401660*x^5 + 79002052285*x^4 + 114585899040*x^3 + 122428856475*x^2 + 101684757740*x + 84896596125)*y^26 + 384825320925*x^26 + 395426661500*x^25 + 9216*(181479*x^16 + 4048360*x^15 + 34156308*x^14 + 188537160*x^13 + 1036205812*x^12 + 5987029560*x^11 + 26294717532*x^10 + 87261273880*x^9 + 261260973090*x^8 + 690772283160*x^7 + 1471695406220*x^6 + 2533618367160*x^5 + 3691666652100*x^4 + 4791547622600*x^3 + 4502416196100*x^2 + 2923338273000*x + 2562270874175)*y^24 - 689419898350*x^24 - 2430744577500*x^23 - 9216*(146361*x^18 + 2352670*x^17 + 16966899*x^16 + 120818880*x^15 + 809501212*x^14 + 4167280920*x^13 + 15760668420*x^12 + 56142463840*x^11 + 200275537254*x^10 + 588282675780*x^9 + 1405136391410*x^8 + 2938902756480*x^7 + 5350560752700*x^6 + 7979584965560*x^5 + 9571504935300*x^4 + 11338546428000*x^3 + 10122365599625*x^2 + 5038926732750*x + 4632320521875)*y^22 - 1857563145625*x^22 + 3726507914000*x^21 + 576*(872259*x^20 + 10405140*x^19 + 82612818*x^18 + 902230980*x^17 + 5601145999*x^16 + 20778680080*x^15 + 69911685912*x^14 + 343436041360*x^13 + 1497770805142*x^12 + 4970942130840*x^11 + 14590852687852*x^10 + 37040501042680*x^9 + 75185699557350*x^8 + 126956136629840*x^7 + 200548351151000*x^6 + 280689612306000*x^5 + 289604848243175*x^4 + 307553520288500*x^3 + 274894209791250*x^2 + 104726374470500*x + 99270616476875)*y^20 + 10725964057500*x^20 + 7153101875000*x^19 - 1152*(25696*x^22 - 631175*x^21 - 161828*x^20 + 43569130*x^19 - 147524592*x^18 - 2734696695*x^17 - 8429504836*x^16 + 8540896280*x^15 + 142172247840*x^14 + 800517208530*x^13 + 3285944502360*x^12 + 9449079586780*x^11 + 21612057340800*x^10 + 45038295323450*x^9 + 82051701857400*x^8 + 117838236487000*x^7 + 161281016060800*x^6 + 224621201119125*x^5 + 211864359447500*x^4 + 193342988674250*x^3 + 177597398470000*x^2 + 52756443228125*x + 49969255607500)*y^18 - 13398254925625*x^18 - 34661922712500*x^17 - 48*(1317855*x^24 + 35094860*x^23 + 301540716*x^22 + 3001862540*x^21 + 23519567706*x^20 + 106393862660*x^19 + 311028711012*x^18 + 719292194340*x^17 + 1077335948157*x^16 - 2382833534280*x^15 - 20289271710280*x^14 - 74864124423240*x^13 - 228136339665700*x^12 - 553418865892920*x^11 - 1008839074137400*x^10 - 1647179273211000*x^9 - 2848515077153175*x^8 - 3846168576082500*x^7 - 4546922858182500*x^6 - 6417482452730500*x^5 - 5915475415953750*x^4 - 4443051200687500*x^3 - 4189051440907500*x^2 - 1001111910587500*x - 909098726953125)*y^16 - 22308384343750*x^16 + 31657039062500*x^15 + 48*(826719*x^26 + 23430200*x^25 + 272358873*x^24 + 2539133640*x^23 + 14381842762*x^22 + 50227933080*x^21 + 147297993214*x^20 + 463374453880*x^19 + 1166546488285*x^18 + 1655137640160*x^17 - 793319453005*x^16 - 18257108470320*x^15 - 75659008152900*x^14 - 188155382315600*x^13 - 390580154803500*x^12 - 800760869162000*x^11 - 1281957887842775*x^10 - 1605940798661000*x^9 - 2752224360140625*x^8 - 4005975929887000*x^7 - 4199432221443750*x^6 - 5753278142925000*x^5 - 5450901493411250*x^4 - 3307170487425000*x^3 - 3112402899453125*x^2 - 615820486250000*x - 513017261046875)*y^14 + 81676588453125*x^14 + 58656861875000*x^13 - (16632123*x^28 + 499946740*x^27 + 6196259958*x^26 + 48354916500*x^25 + 210671691233*x^24 + 676264764600*x^23 + 2480527625628*x^22 + 8835658984280*x^21 + 23129361505347*x^20 + 48962891419740*x^19 + 67475269064330*x^18 - 64483145981220*x^17 - 634130008786575*x^16 - 2378356273612720*x^15 - 6843388543399800*x^14 - 13403795491878000*x^13 - 17968166150880775*x^12 - 29491543705444500*x^11 - 49841887049313750*x^10 - 51645998160896500*x^9 - 87332506037923125*x^8 - 154714164855525000*x^7 - 155450250997622500*x^6 - 188899684974225000*x^5 - 186644230989984375*x^4 - 92578967313437500*x^3 - 82813950742406250*x^2 - 13688637908437500*x - 10052326473828125)*y^12 - 38894490625000*x^12 - 127794000000000*x^11 + (5287413*x^30 + 153553860*x^29 + 1732590387*x^28 + 10983605840*x^27 + 41705752809*x^26 + 182167871700*x^25 + 742487990119*x^24 + 1812065771520*x^23 + 4180994474577*x^22 + 16676823221140*x^21 + 45941187607623*x^20 + 60767412776400*x^19 - 46828949980475*x^18 - 541654529965980*x^17 - 1641522681341925*x^16 - 3216999939440000*x^15 - 6214406047779825*x^14 - 10658201858008500*x^13 - 8192115508664375*x^12 - 7387864891722000*x^11 - 24095715523603125*x^10 - 28509120447162500*x^9 - 43068217775386875*x^8 - 93542930451600000*x^7 - 99595604072703125*x^6 - 100441157954062500*x^5 - 100220408582671875*x^4 - 41492192986250000*x^3 - 33314791784765625*x^2 - 4477008820312500*x - 2805643465234375)*y^10 - 107249503515625*x^10 + 734164062500*x^9 - (1235529*x^32 + 28614420*x^31 + 242301933*x^30 + 1525335720*x^29 + 8566281302*x^28 + 47434915320*x^27 + 106842591351*x^26 - 41497935380*x^25 + 156438129780*x^24 + 3581296064220*x^23 + 12192876368965*x^22 + 29274331168800*x^21 + 45233459539650*x^20 - 12021024328400*x^19 - 270597672490425*x^18 - 896327607811500*x^17 - 1938183310470350*x^16 - 2243010663184500*x^15 - 1658353427210625*x^14 - 2945595506411000*x^13 - 265352800083750*x^12 + 4005477027675000*x^11 - 5626322615511875*x^10 - 13997280486187500*x^9 - 18426614180062500*x^8 - 41345459188437500*x^7 - 49771280101640625*x^6 - 41987184191250000*x^5 - 39237676444531250*x^4 - 13422863812500000*x^3 - 9177878185546875*x^2 - 917727132812500*x - 478026591796875)*y^8 + 94590761718750*x^8 + 88356835937500*x^7 + (120651*x^34 + 2119660*x^33 + 18593277*x^32 + 276620640*x^31 + 2118116042*x^30 + 6038888040*x^29 - 14964912082*x^28 - 136865476640*x^27 - 340325853282*x^26 - 174985487720*x^25 + 2786813647530*x^24 + 12356216192160*x^23 + 20519028576850*x^22 + 6884947030920*x^21 - 23743855815450*x^20 - 83588982908000*x^19 - 284682595899900*x^18 - 658015604370000*x^17 - 1129670967147500*x^16 - 627606463164000*x^15 + 1340610340038750*x^14 + 1398837488275000*x^13 + 934758781346250*x^12 + 2345498505300000*x^11 + 432351218031250*x^10 - 3820009914375000*x^9 - 6840144867656250*x^8 - 13953430602500000*x^7 - 18308648872656250*x^6 - 13278744515625000*x^5 - 10592524261718750*x^4 - 2753915562500000*x^3 - 1528670537109375*x^2 - 88356835937500*x - 37324462890625)*y^6 + 37324462890625*x^6 - (2136*x^36 + 124200*x^35 + 3039597*x^34 + 32881700*x^33 + 93722853*x^32 - 1030759320*x^31 - 10841531198*x^30 - 46356481680*x^29 - 112365069105*x^28 - 43620267260*x^27 + 641494829280*x^26 + 1665231908700*x^25 + 2491608286525*x^24 + 5734575418800*x^23 + 12222002608350*x^22 - 842697893000*x^21 - 52477297247025*x^20 - 96993858580500*x^19 - 120998655106250*x^18 - 138043734238500*x^17 - 209267287265625*x^16 + 26150758825000*x^15 + 885261914478750*x^14 + 952705035600000*x^13 + 90729233453125*x^12 + 138605408437500*x^11 + 991022181000000*x^10 + 470452104062500*x^9 - 1862908691015625*x^8 - 4069138875000000*x^7 - 4766738324218750*x^6 - 2755383890625000*x^5 - 1717852060546875*x^4 - 265070507812500*x^3 - 111973388671875*x^2)*y^4 - (36*x^38 + 2880*x^37 + 100980*x^36 + 2028240*x^35 + 25608739*x^34 + 212762460*x^33 + 1193633253*x^32 + 4478211200*x^31 + 10453031679*x^30 + 16399872780*x^29 + 31462609985*x^28 - 64508430960*x^27 - 668288777625*x^26 - 1268355194740*x^25 - 5826399375*x^24 + 1865595000000*x^23 - 3377121800725*x^22 - 7711435594500*x^21 + 22979825323125*x^20 + 61474393334000*x^19 + 20492295485625*x^18 - 86908614187500*x^17 - 88930530330625*x^16 + 21354867600000*x^15 + 35954417578125*x^14 - 3073075937500*x^13 - 9496729078125*x^12 - 181596731250000*x^11 - 509423538671875*x^10 - 391544648437500*x^9 + 439199279296875*x^8 + 919929625000000*x^7 + 761798876953125*x^6 + 265070507812500*x^5 + 111973388671875*x^4)*y^2)/(x^44 + 140*x^43 + 9298*x^42 + 391580*x^41 + 63403380965376*(x^4 - 2*x^2 + 1)*y^40 + 11745751*x^40 + 265992920*x^39 + 52836150804480*(x^6 + 14*x^5 + 83*x^4 + 372*x^3 + 871*x^2 - 386*x - 955)*y^38 + 4686949900*x^38 + 65123078360*x^37 - 8806025134080*(7*x^8 - 14*x^7 - 734*x^6 - 5846*x^5 - 33128*x^4 - 134666*x^3 - 397010*x^2 - 899474*x - 1121135)*y^36 + 713943034675*x^36 + 6098837559500*x^35 + 2935341711360*(x^10 - 294*x^9 - 1847*x^8 - 2912*x^7 + 40876*x^6 + 468256*x^5 + 2524840*x^4 + 8872600*x^3 + 22636195*x^2 + 35782350*x + 22991935)*y^34 + 39362467242250*x^34 + 179513453973500*x^33 + 61152952320*(1021*x^12 + 7532*x^11 - 35542*x^10 - 620132*x^9 - 4312749*x^8 - 19407432*x^7 - 43409940*x^6 - 16917768*x^5 + 228006675*x^4 + 786302300*x^3 + 66374410*x^2 - 4547124500*x - 6526559875)*y^32 + 481092794993125*x^32 + 79508296004000*x^31 - 32614907904*(776*x^14 - 12565*x^13 - 204127*x^12 - 1118105*x^11 - 3357374*x^10 + 2671030*x^9 + 87297825*x^8 + 472626390*x^7 + 1800324300*x^6 + 5656243375*x^5 + 14908650475*x^4 + 39684167875*x^3 + 85409536250*x^2 + 100694222000*x + 42422391875)*y^30 - 4683374447270000*x^30 - 15905231979100000*x^29 - 10192158720*(1467*x^16 + 47488*x^15 + 180806*x^14 - 899596*x^13 - 14944098*x^12 - 114762872*x^11 - 560206490*x^10 - 1968120820*x^9 - 5820014580*x^8 - 13907446800*x^7 - 27444191230*x^6 - 55735426100*x^5 - 97961762750*x^4 - 197726503800*x^3 - 671368168750*x^2 - 1380518087500*x - 1040460974375)*y^28 - 11953966552763750*x^28 + 56976434740175000*x^27 + 20384317440*(1042*x^18 + 4011*x^17 - 96939*x^16 - 1062951*x^15 - 6381553*x^14 - 27480331*x^13 - 61693045*x^12 - 1823579*x^11 + 634017055*x^10 + 3582721775*x^9 + 11382529065*x^8 + 28434171675*x^7 + 78792472125*x^6 + 192723288775*x^5 + 427703931625*x^4 + 983093134375*x^3 + 1391505399875*x^2 + 504468406250*x - 451106531250)*y^26 + 172058070606562500*x^26 + 104953984813875000*x^25 - 212336640*(19177*x^20 - 689808*x^19 - 9237634*x^18 - 45306624*x^17 - 109200963*x^16 + 458547072*x^15 + 6866408040*x^14 + 39686381760*x^13 + 171296366850*x^12 + 618409496800*x^11 + 1854437337780*x^10 + 5463612267200*x^9 + 15421164359250*x^8 + 36761127513600*x^7 + 79838448177000*x^6 + 162869649960000*x^5 + 300130970695125*x^4 + 561736716030000*x^3 + 939675527818750*x^2 + 956434210440000*x + 397750345240625)*y^24 - 354500721301406250*x^24 - 792348114603750000*x^23 - 106168320*(38703*x^22 + 956746*x^21 + 3267589*x^20 - 21078556*x^19 - 325705387*x^18 - 2762002326*x^17 - 15363958425*x^16 - 62199362064*x^15 - 217787029530*x^14 - 660603081900*x^13 - 1872085209950*x^12 - 5780158778600*x^11 - 16627898743750*x^10 - 43192164118300*x^9 - 115999135757250*x^8 - 288388298010000*x^7 - 620225443393125*x^6 - 1208381667318750*x^5 - 2023226607684375*x^4 - 3123688612017500*x^3 - 5088965452109375*x^2 - 6210751516468750*x - 3356440930403125)*y^22 - 296032799377875000*x^22 + 902981264576250000*x^21 + 21233664*(154154*x^24 + 609455*x^23 - 14370008*x^22 - 166786715*x^21 - 1155157146*x^20 - 6273873435*x^19 - 21563407500*x^18 - 50126101305*x^17 - 81507355200*x^16 - 18541260250*x^15 - 248231576800*x^14 - 3130816382750*x^13 - 11489702742500*x^12 - 43497416523750*x^11 - 166070628225000*x^10 - 465621278981250*x^9 - 1221277312143750*x^8 - 3167208744553125*x^7 - 7112710575625000*x^6 - 13948830522184375*x^5 - 21907529466781250*x^4 - 27474731965859375*x^3 - 40150762929187500*x^2 - 55258900845703125*x - 33891741014062500)*y^20 + 954361061046093750*x^20 - 250326352753125000*x^19 - 8847360*(61361*x^26 - 1719746*x^25 - 26043217*x^24 - 162147628*x^23 - 747070274*x^22 - 1384614256*x^21 + 10017969890*x^20 + 86881233580*x^19 + 423953615195*x^18 + 1625471385950*x^17 + 4542775819045*x^16 + 12181212739400*x^15 + 33414438588500*x^14 + 65336573045200*x^13 + 92449444827500*x^12 + 82982302775000*x^11 - 287309892763625*x^10 - 1604323021963750*x^9 - 4514588611384375*x^8 - 11233716453777500*x^7 - 25897836199131250*x^6 - 52542872825500000*x^5 - 79478779655168750*x^4 - 79889800792562500*x^3 - 94018399053671875*x^2 - 147644623994093750*x - 101405734261328125)*y^18 + 886733786751562500*x^18 + 5071158847484375000*x^17 - 3317760*(91703*x^28 + 2725604*x^27 + 16146134*x^26 + 32324916*x^25 - 296071667*x^24 - 5609435144*x^23 - 39934533220*x^22 - 177771551176*x^21 - 669314690545*x^20 - 2077675341300*x^19 - 5475236587030*x^18 - 16654791120100*x^17 - 49237382569875*x^16 - 118104296442800*x^15 - 292706403131000*x^14 - 659326621390000*x^13 - 1095331842641875*x^12 - 1606737378962500*x^11 - 1072070163693750*x^10 + 4802975950707500*x^9 + 16957987782959375*x^8 + 34316574841875000*x^7 + 71914551180137500*x^6 + 151359714860875000*x^5 + 227505097237578125*x^4 + 182665220668812500*x^3 + 137308924346093750*x^2 + 271575376651562500*x + 217385348253984375)*y^16 + 3527065747072656250*x^16 - 9554345053937500000*x^15 + 1105920*(199519*x^30 + 1762334*x^29 - 2056903*x^28 - 96146728*x^27 - 1043215741*x^26 - 7795751146*x^25 - 32542143675*x^24 - 95914448960*x^23 - 231930353405*x^22 - 233745901450*x^21 - 588366918795*x^20 - 7204217740200*x^19 - 26535866293625*x^18 - 77218228068850*x^17 - 259408370737375*x^16 - 666323340120000*x^15 - 1545949208853875*x^14 - 3507706965443750*x^13 - 5863312054253125*x^12 - 8832484889355000*x^11 - 9782223509334375*x^10 + 14658308402781250*x^9 + 67025004948509375*x^8 + 102433510832000000*x^7 + 153350326464140625*x^6 + 323267474966031250*x^5 + 508155548901484375*x^4 + 331124540078125000*x^3 + 46126770893828125*x^2 + 286174609035156250*x + 320285370248046875)*y^14 - 20168255714843750000*x^14 - 8637455301437500000*x^13 - 92160*(582389*x^32 - 8092*x^31 - 53672758*x^30 - 534840168*x^29 - 3933685746*x^28 - 14992759188*x^27 - 835038190*x^26 + 225253000448*x^25 + 1571097996170*x^24 + 7337184968900*x^23 + 17346580003010*x^22 + 29852921707400*x^21 + 94619882615750*x^20 + 189851881510700*x^19 + 1312536538250*x^18 - 750421021030000*x^17 - 3142290205793500*x^16 - 9931750050512500*x^15 - 24607313492781250*x^14 - 49637844477415000*x^13 - 69258704799193750*x^12 - 93755191087937500*x^11 - 125345227848606250*x^10 + 159239006223500000*x^9 + 833125329809843750*x^8 + 1055350749015687500*x^7 + 839309529746093750*x^6 + 1531808455021875000*x^5 + 2894730048940781250*x^4 + 1636088763876562500*x^3 - 1197647882019531250*x^2 - 256718527243750000*x + 849813617708984375)*y^12 + 13971494002158203125*x^12 + 17003531488085937500*x^11 + 18432*(308853*x^34 - 4199860*x^33 - 55340231*x^32 - 416543570*x^31 - 1451578222*x^30 + 15853183470*x^29 + 183630726450*x^28 + 997626729710*x^27 + 4356924383350*x^26 + 13031562478750*x^25 + 23449969068550*x^24 + 62884468435750*x^23 + 246258626406250*x^22 + 496993275715750*x^21 + 858070223706250*x^20 + 2336998906543750*x^19 + 3191619984010000*x^18 - 450304990231250*x^17 - 10221588678875000*x^16 - 47266484336693750*x^15 - 136633650057406250*x^14 - 222967811246093750*x^13 - 171834089641906250*x^12 - 104180031491093750*x^11 - 268868922146093750*x^10 + 521061997672656250*x^9 + 2874623936985156250*x^8 + 3438669987988281250*x^7 + 966479112492968750*x^6 + 107253427488281250*x^5 + 3166585036230468750*x^4 + 2131213030425781250*x^3 - 4037726094189453125*x^2 - 3932609590332031250*x - 773363311650390625)*y^10 + 4263935389316406250*x^10 + 13373359857617187500*x^9 + 2880*(133769*x^36 + 3303216*x^35 + 27048222*x^34 + 67971248*x^33 - 2487092831*x^32 - 41522082944*x^31 - 249144314800*x^30 - 1026385096320*x^29 - 2703929071980*x^28 + 1580810459200*x^27 + 16232029330120*x^26 - 44182841201600*x^25 - 224660394801500*x^24 - 392780431932800*x^23 - 1573719407810000*x^22 - 4263904468400000*x^21 - 6342858625657250*x^20 - 14699766492140000*x^19 - 23782060891287500*x^18 - 3741145741580000*x^17 + 38765415775318750*x^16 + 223257201538000000*x^15 + 712828568564350000*x^14 + 955641791434000000*x^13 + 11936363814062500*x^12 - 1228364464271000000*x^11 - 465695579661875000*x^10 - 1083014376175000000*x^9 - 7035036188192187500*x^8 - 9160668873050000000*x^7 + 351697068031250000*x^6 + 9721508088750000000*x^5 + 3991038680900390625*x^4 - 1962956375781250000*x^3 + 4691454811386718750*x^2 + 8396893952968750000*x + 4259424492041015625)*y^8 + 41175950114013671875*x^8 + 26093315615234375000*x^7 + 480*(17857*x^38 + 981246*x^37 + 24394211*x^36 + 384708004*x^35 + 4197032367*x^34 + 29676841454*x^33 + 117117446285*x^32 + 46664294496*x^31 - 3322764668540*x^30 - 23680147757800*x^29 - 48290715192180*x^28 - 9658303715600*x^27 - 134714675620500*x^26 - 681236216401800*x^25 - 435966791197500*x^24 + 1488218491620000*x^23 + 5991902874534750*x^22 + 20141271375262500*x^21 + 46509025160156250*x^20 + 73735254786615000*x^19 + 30502851635531250*x^18 - 134798002572937500*x^17 - 218707400249006250*x^16 - 574790901913500000*x^15 - 1964977092124687500*x^14 - 2425615045951125000*x^13 + 1708431952845937500*x^12 + 7518692976893750000*x^11 + 5202750325875937500*x^10 - 997293807940625000*x^9 + 3572007206257812500*x^8 + 10492485506437500000*x^7 - 2688747733396484375*x^6 - 26028710638144531250*x^5 - 22159549291376953125*x^4 + 802649434414062500*x^3 + 9444263331396484375*x^2 + 1297790608886718750*x - 2804768143310546875)*y^6 - 46691935668945312500*x^6 - 100445314697265625000*x^5 + 240*(381*x^40 + 31906*x^39 + 1247158*x^38 + 30883778*x^37 + 544306296*x^36 + 7122646726*x^35 + 69913382330*x^34 + 510430990390*x^33 + 2632720166735*x^32 + 8065855741000*x^31 + 6179532240600*x^30 - 26502545174200*x^29 + 31944775282000*x^28 + 317841576345400*x^27 + 303019379541000*x^26 + 339930336795000*x^25 + 2081508242429250*x^24 + 3038648447917500*x^23 - 3129120504787500*x^22 - 30174590225482500*x^21 - 86504329026000000*x^20 - 92392868169187500*x^19 + 108911408740987500*x^18 + 423801572341312500*x^17 + 342133453264218750*x^16 + 3866966813625000*x^15 + 422017631926875000*x^14 + 886972064165625000*x^13 - 1425641190291250000*x^12 - 5575886156490625000*x^11 - 4343687267234375000*x^10 + 3199609243734375000*x^9 + 6900863268119140625*x^8 + 1813619331894531250*x^7 - 888560372910156250*x^6 + 5432312000957031250*x^5 + 8200626020703125000*x^4 + 182971981933593750*x^3 - 8580573747558593750*x^2 - 7216062365722656250*x - 2249033721923828125)*y^4 - 62605809478759765625*x^4 + 20924618530273437500*x^3 + 480*(x^42 + 112*x^41 + 5918*x^40 + 198078*x^39 + 4720201*x^38 + 84589508*x^37 + 1167826405*x^36 + 12489902702*x^35 + 102271454170*x^34 + 618078546000*x^33 + 2536860610805*x^32 + 5663118741400*x^31 - 157452771500*x^30 - 30253815862800*x^29 - 40219628167500*x^28 + 19002468075000*x^27 - 40494126278250*x^26 - 375115596000000*x^25 - 425360990475000*x^24 + 424275394462500*x^23 + 1543069843818750*x^22 + 4838556417375000*x^21 + 13614241900893750*x^20 + 11509864757062500*x^19 - 33836817459375000*x^18 - 97332685098000000*x^17 - 61972707809531250*x^16 + 91958209446875000*x^15 + 161827942144062500*x^14 + 37640887093750000*x^13 + 18848339414062500*x^12 + 294173009309375000*x^11 + 294972621337890625*x^10 - 445201684843750000*x^9 - 1158794195761718750*x^8 - 663708485019531250*x^7 + 536394708837890625*x^6 + 942171938476562500*x^5 + 313073468017578125*x^4 - 156936828613281250*x^3 + 44757751464843750*x^2 + 256765136718750000*x + 164783477783203125)*y^2 + 64712165832519531250*x^2 + 45322799682617187500*x + 14135837554931640625)"
      ]
     },
     "execution_count": 24,
     "metadata": {},
     "output_type": "execute_result"
    }
   ],
   "source": [
    "R.expr()"
   ]
  },
  {
   "cell_type": "markdown",
   "metadata": {},
   "source": [
    "<h2>3+1 Einstein equations</h2>\n",
    "<p>Let us check that the vacuum 3+1 Einstein equations are satisfied.</p>\n",
    "<p>We start by the constraint equations:</p>\n",
    "<h3>Hamiltonian constraint</h3>\n",
    "<p>Let us first evaluate the term $K_{ij} K^{ij}$:</p>"
   ]
  },
  {
   "cell_type": "code",
   "execution_count": 25,
   "metadata": {
    "collapsed": false
   },
   "outputs": [
    {
     "name": "stdout",
     "output_type": "stream",
     "text": [
      "Scalar field on the 3-dimensional differentiable manifold Sigma\n"
     ]
    }
   ],
   "source": [
    "Kuu = Ku.up(gam, 1)\n",
    "trKK = K['_ij']*Kuu['^ij']\n",
    "print(trKK)"
   ]
  },
  {
   "cell_type": "markdown",
   "metadata": {},
   "source": [
    "<p>The vacuum Hamiltonian constraint equation is $$R + K^2 -K_{ij} K^{ij} = 0 $$</p>"
   ]
  },
  {
   "cell_type": "code",
   "execution_count": 26,
   "metadata": {
    "collapsed": false
   },
   "outputs": [
    {
     "name": "stdout",
     "output_type": "stream",
     "text": [
      "Scalar field zero on the 3-dimensional differentiable manifold Sigma\n"
     ]
    },
    {
     "data": {
      "text/html": [
       "<html><script type=\"math/tex; mode=display\">\\newcommand{\\Bold}[1]{\\mathbf{#1}}\\begin{array}{llcl} 0:& \\Sigma & \\longrightarrow & \\mathbb{R} \\\\ & \\left(x, y, {\\phi}\\right) & \\longmapsto & 0 \\end{array}</script></html>"
      ],
      "text/plain": [
       "zero: Sigma --> R\n",
       "   (x, y, ph) |--> 0"
      ]
     },
     "execution_count": 26,
     "metadata": {},
     "output_type": "execute_result"
    }
   ],
   "source": [
    "Ham = R + trK^2 - trKK\n",
    "print(Ham)\n",
    "Ham.display()"
   ]
  },
  {
   "cell_type": "markdown",
   "metadata": {},
   "source": [
    "<p>Hence the Hamiltonian constraint is satisfied.</p>\n",
    "\n",
    "<h3>Momentum constraint</h3>\n",
    "<p>In vaccum, the momentum constraint is $$ D_j K^j_{\\ \\, i} - D_i K = 0 $$</p>"
   ]
  },
  {
   "cell_type": "code",
   "execution_count": 27,
   "metadata": {
    "collapsed": false
   },
   "outputs": [
    {
     "name": "stdout",
     "output_type": "stream",
     "text": [
      "1-form on the 3-dimensional differentiable manifold Sigma\n"
     ]
    },
    {
     "data": {
      "text/html": [
       "<html><script type=\"math/tex; mode=display\">\\newcommand{\\Bold}[1]{\\mathbf{#1}}0</script></html>"
      ],
      "text/plain": [
       "0"
      ]
     },
     "execution_count": 27,
     "metadata": {},
     "output_type": "execute_result"
    }
   ],
   "source": [
    "mom = D(Ku).trace(0,2) - D(trK)\n",
    "print(mom)\n",
    "mom.display()"
   ]
  },
  {
   "cell_type": "markdown",
   "metadata": {},
   "source": [
    "<p>Hence the momentum constraint is satisfied.</p>\n",
    "\n",
    "<h3>Dynamical Einstein equations</h3>\n",
    "<p>Let us first evaluate the symmetric bilinear form $k_{ij} := K_{ik} K^k_{\\ \\, j}$:</p>"
   ]
  },
  {
   "cell_type": "code",
   "execution_count": 28,
   "metadata": {
    "collapsed": false
   },
   "outputs": [
    {
     "name": "stdout",
     "output_type": "stream",
     "text": [
      "Tensor field of type (0,2) on the 3-dimensional differentiable manifold Sigma\n"
     ]
    }
   ],
   "source": [
    "KK = K['_ik']*Ku['^k_j']\n",
    "print(KK)"
   ]
  },
  {
   "cell_type": "code",
   "execution_count": 29,
   "metadata": {
    "collapsed": false
   },
   "outputs": [
    {
     "data": {
      "text/html": [
       "<html><script type=\"math/tex; mode=display\">\\newcommand{\\Bold}[1]{\\mathbf{#1}}\\mathrm{True}</script></html>"
      ],
      "text/plain": [
       "True"
      ]
     },
     "execution_count": 29,
     "metadata": {},
     "output_type": "execute_result"
    }
   ],
   "source": [
    "KK1 = KK.symmetrize()\n",
    "KK == KK1"
   ]
  },
  {
   "cell_type": "code",
   "execution_count": 30,
   "metadata": {
    "collapsed": false
   },
   "outputs": [
    {
     "name": "stdout",
     "output_type": "stream",
     "text": [
      "Field of symmetric bilinear forms on the 3-dimensional differentiable manifold Sigma\n"
     ]
    }
   ],
   "source": [
    "KK = KK1\n",
    "print(KK)"
   ]
  },
  {
   "cell_type": "markdown",
   "metadata": {},
   "source": [
    "<p>In vacuum and for stationary spacetimes, the dynamical Einstein equations are $$ \\mathcal{L}_\\beta K_{ij} - D_i D_j N + N \\left( R_{ij} + K K_{ij} - 2 K_{ik} K^k_{\\ \\, j}\\right) = 0 $$</p>"
   ]
  },
  {
   "cell_type": "code",
   "execution_count": 31,
   "metadata": {
    "collapsed": false
   },
   "outputs": [
    {
     "name": "stdout",
     "output_type": "stream",
     "text": [
      "Tensor field of type (0,2) on the 3-dimensional differentiable manifold Sigma\n"
     ]
    },
    {
     "data": {
      "text/html": [
       "<html><script type=\"math/tex; mode=display\">\\newcommand{\\Bold}[1]{\\mathbf{#1}}0</script></html>"
      ],
      "text/plain": [
       "0"
      ]
     },
     "execution_count": 31,
     "metadata": {},
     "output_type": "execute_result"
    }
   ],
   "source": [
    "dyn = K.lie_derivative(b) - D(D(N)) + N*( Ric + trK*K - 2*KK )\n",
    "print(dyn)\n",
    "dyn.display()"
   ]
  },
  {
   "cell_type": "markdown",
   "metadata": {},
   "source": [
    "<p>Hence the dynamical Einstein equations are satisfied.</p>\n",
    "\n",
    "<p>Finally we have checked that all the 3+1 Einstein equations are satisfied by the $\\delta=2$ Tomimatsu-Sato solution.</p>"
   ]
  }
 ],
 "metadata": {
  "kernelspec": {
   "display_name": "SageMath 7.5.1",
   "language": "",
   "name": "sagemath"
  },
  "language": "python",
  "language_info": {
   "codemirror_mode": {
    "name": "ipython",
    "version": 2
   },
   "file_extension": ".py",
   "mimetype": "text/x-python",
   "name": "python",
   "nbconvert_exporter": "python",
   "pygments_lexer": "ipython2",
   "version": "2.7.13"
  }
 },
 "nbformat": 4,
 "nbformat_minor": 0
}
