{
 "cells": [
  {
   "cell_type": "markdown",
   "metadata": {
    "toc": true
   },
   "source": [
    "<h1>Table of Contents<span class=\"tocSkip\"></span></h1>\n",
    "<div class=\"toc\" style=\"margin-top: 1em;\"><ul class=\"toc-item\"><li><span><a href=\"#Initialize\" data-toc-modified-id=\"Initialize-1\">Initialize</a></span><ul class=\"toc-item\"><li><span><a href=\"#Logging-Module\" data-toc-modified-id=\"Logging-Module-1.1\">Logging Module</a></span></li><li><span><a href=\"#LateX-Display\" data-toc-modified-id=\"LateX-Display-1.2\">LateX Display</a></span></li></ul></li><li><span><a href=\"#Define-Manifold\" data-toc-modified-id=\"Define-Manifold-2\">Define Manifold</a></span><ul class=\"toc-item\"><li><span><a href=\"#Define-Chart-on-Manifold\" data-toc-modified-id=\"Define-Chart-on-Manifold-2.1\">Define Chart on Manifold</a></span></li></ul></li><li><span><a href=\"#Ambient-Manifold-$\\mbb{R}^{(2,2)}$\" data-toc-modified-id=\"Ambient-Manifold-$\\mbb{R}^{(2,2)}$-3\">Ambient Manifold $\\mbb{R}^{(2,2)}$</a></span><ul class=\"toc-item\"><li><span><a href=\"#Metric-on-Ambient-Manifold\" data-toc-modified-id=\"Metric-on-Ambient-Manifold-3.1\">Metric on Ambient Manifold</a></span></li></ul></li><li><span><a href=\"#AdS-Length-Variable\" data-toc-modified-id=\"AdS-Length-Variable-4\">AdS Length Variable</a></span></li><li><span><a href=\"#Diffeomorphism-$-M-\\rightarrow-\\mbb{R}^4-$\" data-toc-modified-id=\"Diffeomorphism-$-M-\\rightarrow-\\mbb{R}^4-$-5\">Diffeomorphism $ M \\rightarrow \\mbb{R}^4 $</a></span></li><li><span><a href=\"#AdS_3-Metric\" data-toc-modified-id=\"AdS_3-Metric-6\">AdS_3 Metric</a></span></li><li><span><a href=\"#Christoffel-Connection\" data-toc-modified-id=\"Christoffel-Connection-7\">Christoffel Connection</a></span></li><li><span><a href=\"#Killing-Form-Function-Definition\" data-toc-modified-id=\"Killing-Form-Function-Definition-8\">Killing Form Function Definition</a></span></li><li><span><a href=\"#Define-Killing-Vector-Fields\" data-toc-modified-id=\"Define-Killing-Vector-Fields-9\">Define Killing Vector Fields</a></span><ul class=\"toc-item\"><li><ul class=\"toc-item\"><li><span><a href=\"#Note:-Sage-Complex-Conjugation-Doesn't-Work-on-Manifolds-Functions\" data-toc-modified-id=\"Note:-Sage-Complex-Conjugation-Doesn't-Work-on-Manifolds-Functions-9.0.1\"><strong>Note</strong>: Sage Complex Conjugation Doesn't Work on Manifolds Functions</a></span></li></ul></li><li><span><a href=\"#Commutator-of-Vector-Fields\" data-toc-modified-id=\"Commutator-of-Vector-Fields-9.1\">Commutator of Vector Fields</a></span></li><li><span><a href=\"#Vector-Field-Commutator-Function-Definition\" data-toc-modified-id=\"Vector-Field-Commutator-Function-Definition-9.2\">Vector Field Commutator Function Definition</a></span></li></ul></li><li><span><a href=\"#Function-Definitions\" data-toc-modified-id=\"Function-Definitions-10\">Function Definitions</a></span><ul class=\"toc-item\"><li><span><a href=\"#Killing-Form-Function-Definition\" data-toc-modified-id=\"Killing-Form-Function-Definition-10.1\">Killing Form Function Definition</a></span></li><li><span><a href=\"#Vector-Field-Commutator-Function-Definition\" data-toc-modified-id=\"Vector-Field-Commutator-Function-Definition-10.2\">Vector Field Commutator Function Definition</a></span></li></ul></li><li><span><a href=\"#Sandbox\" data-toc-modified-id=\"Sandbox-11\">Sandbox</a></span></li></ul></div>"
   ]
  },
  {
   "cell_type": "markdown",
   "metadata": {},
   "source": [
    "Mathjax custom macros\n",
    "\n",
    "$ \\newcommand{\\opexpect}[3]{\\langle #1 \\vert #2 \\vert #3 \\rangle} $\n",
    "$ \\newcommand{\\rarrow}{\\rightarrow} $\n",
    "$ \\newcommand{\\bra}{\\langle} $\n",
    "$ \\newcommand{\\ket}{\\rangle} $\n",
    "\n",
    "$ \\newcommand{\\up}{\\uparrow} $\n",
    "$ \\newcommand{\\down}{\\downarrow} $\n",
    "\n",
    "$ \\newcommand{\\mb}[1]{\\mathbf{#1}} $\n",
    "$ \\newcommand{\\mc}[1]{\\mathcal{#1}} $\n",
    "$ \\newcommand{\\mbb}[1]{\\mathbb{#1}} $\n",
    "$ \\newcommand{\\mf}[1]{\\mathfrak{#1}} $\n",
    "\n",
    "$ \\newcommand{\\vect}[1]{\\boldsymbol{\\mathrm{#1}}} $\n",
    "$ \\newcommand{\\expect}[1]{\\langle #1\\rangle} $\n",
    "\n",
    "$ \\newcommand{\\innerp}[2]{\\langle #1 \\vert #2 \\rangle} $\n",
    "$ \\newcommand{\\fullbra}[1]{\\langle #1 \\vert} $\n",
    "$ \\newcommand{\\fullket}[1]{\\vert #1 \\rangle} $\n",
    "$ \\newcommand{\\supersc}[1]{^{\\text{#1}}} $\n",
    "$ \\newcommand{\\subsc}[1]{_{\\text{#1}}} $\n",
    "$ \\newcommand{\\sltwoc}{SL(2,\\mathbb{C})} $\n",
    "$ \\newcommand{\\sltwoz}{SL(2,\\mathbb{Z})} $\n",
    "\n",
    "$ \\newcommand{\\utilde}[1]{\\underset{\\sim}{#1}} $"
   ]
  },
  {
   "cell_type": "markdown",
   "metadata": {},
   "source": [
    "# Initialize"
   ]
  },
  {
   "cell_type": "markdown",
   "metadata": {},
   "source": [
    "## Logging Module"
   ]
  },
  {
   "cell_type": "code",
   "execution_count": 25,
   "metadata": {},
   "outputs": [],
   "source": [
    "import logging"
   ]
  },
  {
   "cell_type": "code",
   "execution_count": 26,
   "metadata": {},
   "outputs": [],
   "source": [
    "logging.basicConfig(format='%(asctime)s %(message)s', datefmt='%d/%m/%Y %I:%M:%S %p')"
   ]
  },
  {
   "cell_type": "markdown",
   "metadata": {},
   "source": [
    "## LateX Display"
   ]
  },
  {
   "cell_type": "code",
   "execution_count": 27,
   "metadata": {},
   "outputs": [],
   "source": [
    "%display latex"
   ]
  },
  {
   "cell_type": "markdown",
   "metadata": {},
   "source": [
    "# Define Manifold"
   ]
  },
  {
   "cell_type": "code",
   "execution_count": 28,
   "metadata": {},
   "outputs": [
    {
     "data": {
      "text/html": [
       "<html><script type=\"math/tex; mode=display\">\\newcommand{\\Bold}[1]{\\mathbf{#1}}M</script></html>"
      ],
      "text/plain": [
       "3-dimensional differentiable manifold M"
      ]
     },
     "execution_count": 28,
     "metadata": {},
     "output_type": "execute_result"
    }
   ],
   "source": [
    "M = Manifold(3,'M')\n",
    "M"
   ]
  },
  {
   "cell_type": "code",
   "execution_count": 29,
   "metadata": {},
   "outputs": [
    {
     "data": {
      "text/html": [
       "<html><script type=\"math/tex; mode=display\">\\newcommand{\\Bold}[1]{\\mathbf{#1}}\\mc{M}_0</script></html>"
      ],
      "text/plain": [
       "Open subset M_0 of the 3-dimensional differentiable manifold M"
      ]
     },
     "execution_count": 29,
     "metadata": {},
     "output_type": "execute_result"
    }
   ],
   "source": [
    "M0 = M.open_subset('M_0', r'\\mc{M}_0')\n",
    "M0"
   ]
  },
  {
   "cell_type": "markdown",
   "metadata": {},
   "source": [
    "## Define Chart on Manifold"
   ]
  },
  {
   "cell_type": "code",
   "execution_count": 30,
   "metadata": {},
   "outputs": [
    {
     "data": {
      "text/html": [
       "<html><script type=\"math/tex; mode=display\">\\newcommand{\\Bold}[1]{\\mathbf{#1}}\\left(\\mc{M}_0,({t}, {\\rho}, {\\phi})\\right)</script></html>"
      ],
      "text/plain": [
       "Chart (M_0, (t, rho, phi))"
      ]
     },
     "execution_count": 30,
     "metadata": {},
     "output_type": "execute_result"
    }
   ],
   "source": [
    "X_hyp.<t,rho,phi> = M0.chart(r't:t rho:\\rho phi:(0,2*pi):\\phi')\n",
    "X_hyp"
   ]
  },
  {
   "cell_type": "code",
   "execution_count": 31,
   "metadata": {},
   "outputs": [],
   "source": [
    "M0.set_default_chart(X_hyp)"
   ]
  },
  {
   "cell_type": "code",
   "execution_count": 32,
   "metadata": {},
   "outputs": [
    {
     "data": {
      "text/html": [
       "<html><script type=\"math/tex; mode=display\">\\newcommand{\\Bold}[1]{\\mathbf{#1}}3</script></html>"
      ],
      "text/plain": [
       "3"
      ]
     },
     "execution_count": 32,
     "metadata": {},
     "output_type": "execute_result"
    }
   ],
   "source": [
    "ads_dim = M0.dimension()\n",
    "ads_dim"
   ]
  },
  {
   "cell_type": "markdown",
   "metadata": {},
   "source": [
    "# Ambient Manifold $\\mbb{R}^{(2,2)}$"
   ]
  },
  {
   "cell_type": "code",
   "execution_count": 33,
   "metadata": {},
   "outputs": [
    {
     "data": {
      "text/html": [
       "<html><script type=\"math/tex; mode=display\">\\newcommand{\\Bold}[1]{\\mathbf{#1}}\\mathbb{R}^4</script></html>"
      ],
      "text/plain": [
       "4-dimensional differentiable manifold R4"
      ]
     },
     "execution_count": 33,
     "metadata": {},
     "output_type": "execute_result"
    }
   ],
   "source": [
    "R4 = Manifold(4, 'R4', r'\\mathbb{R}^4')\n",
    "R4"
   ]
  },
  {
   "cell_type": "code",
   "execution_count": 34,
   "metadata": {},
   "outputs": [
    {
     "name": "stdout",
     "output_type": "stream",
     "text": [
      "Chart (R4, (X0, X1, X2, X3))\n"
     ]
    }
   ],
   "source": [
    "X4.<X0,X1,X2,X3> = R4.chart()\n",
    "print(X4)"
   ]
  },
  {
   "cell_type": "code",
   "execution_count": 35,
   "metadata": {},
   "outputs": [
    {
     "data": {
      "text/html": [
       "<html><script type=\"math/tex; mode=display\">\\newcommand{\\Bold}[1]{\\mathbf{#1}}\\left(\\mathbb{R}^4,(X_{0}, X_{1}, X_{2}, X_{3})\\right)</script></html>"
      ],
      "text/plain": [
       "Chart (R4, (X0, X1, X2, X3))"
      ]
     },
     "execution_count": 35,
     "metadata": {},
     "output_type": "execute_result"
    }
   ],
   "source": [
    "X4"
   ]
  },
  {
   "cell_type": "code",
   "execution_count": 36,
   "metadata": {},
   "outputs": [
    {
     "data": {
      "text/html": [
       "<html><script type=\"math/tex; mode=display\">\\newcommand{\\Bold}[1]{\\mathbf{#1}}4</script></html>"
      ],
      "text/plain": [
       "4"
      ]
     },
     "execution_count": 36,
     "metadata": {},
     "output_type": "execute_result"
    }
   ],
   "source": [
    "ambient_dim = R4.dimension()\n",
    "ambient_dim"
   ]
  },
  {
   "cell_type": "markdown",
   "metadata": {},
   "source": [
    "## Metric on Ambient Manifold"
   ]
  },
  {
   "cell_type": "code",
   "execution_count": 37,
   "metadata": {},
   "outputs": [
    {
     "data": {
      "text/html": [
       "<html><script type=\"math/tex; mode=display\">\\newcommand{\\Bold}[1]{\\mathbf{#1}}h</script></html>"
      ],
      "text/plain": [
       "Pseudo-Riemannian metric h on the 4-dimensional differentiable manifold R4"
      ]
     },
     "execution_count": 37,
     "metadata": {},
     "output_type": "execute_result"
    }
   ],
   "source": [
    "h = R4.metric('h',signature=0)\n",
    "h"
   ]
  },
  {
   "cell_type": "code",
   "execution_count": 38,
   "metadata": {},
   "outputs": [
    {
     "data": {
      "text/html": [
       "<html><script type=\"math/tex; mode=display\">\\newcommand{\\Bold}[1]{\\mathbf{#1}}h = -\\mathrm{d} X_{0}\\otimes \\mathrm{d} X_{0}+\\mathrm{d} X_{1}\\otimes \\mathrm{d} X_{1}+\\mathrm{d} X_{2}\\otimes \\mathrm{d} X_{2}-\\mathrm{d} X_{3}\\otimes \\mathrm{d} X_{3}</script></html>"
      ],
      "text/plain": [
       "h = -dX0*dX0 + dX1*dX1 + dX2*dX2 - dX3*dX3"
      ]
     },
     "execution_count": 38,
     "metadata": {},
     "output_type": "execute_result"
    }
   ],
   "source": [
    "h[0,0], h[1,1], h[2,2], h[3,3] = -1, 1, 1, -1\n",
    "h.display()"
   ]
  },
  {
   "cell_type": "markdown",
   "metadata": {},
   "source": [
    "# AdS Length Variable"
   ]
  },
  {
   "cell_type": "code",
   "execution_count": 39,
   "metadata": {},
   "outputs": [
    {
     "data": {
      "text/html": [
       "<html><script type=\"math/tex; mode=display\">\\newcommand{\\Bold}[1]{\\mathbf{#1}}l</script></html>"
      ],
      "text/plain": [
       "l"
      ]
     },
     "execution_count": 39,
     "metadata": {},
     "output_type": "execute_result"
    }
   ],
   "source": [
    "var('l', domain='real')\n",
    "assume(l > 0)\n",
    "l"
   ]
  },
  {
   "cell_type": "markdown",
   "metadata": {},
   "source": [
    "# Diffeomorphism $ M \\rightarrow \\mbb{R}^4 $"
   ]
  },
  {
   "cell_type": "code",
   "execution_count": 40,
   "metadata": {},
   "outputs": [
    {
     "name": "stdout",
     "output_type": "stream",
     "text": [
      "Differentiable map Phi from the Open subset M_0 of the 3-dimensional differentiable manifold M to the 4-dimensional differentiable manifold R4\n"
     ]
    },
    {
     "data": {
      "text/html": [
       "<html><script type=\"math/tex; mode=display\">\\newcommand{\\Bold}[1]{\\mathbf{#1}}\\begin{array}{llcl} \\Phi:& \\mc{M}_0 & \\longrightarrow & \\mathbb{R}^4 \\\\ & \\left({t}, {\\rho}, {\\phi}\\right) & \\longmapsto & \\left(X_{0}, X_{1}, X_{2}, X_{3}\\right) = \\left(l \\cos\\left({t}\\right) \\cosh\\left({\\rho}\\right), l \\sin\\left({\\phi}\\right) \\sinh\\left({\\rho}\\right), l \\cos\\left({\\phi}\\right) \\sinh\\left({\\rho}\\right), l \\cosh\\left({\\rho}\\right) \\sin\\left({t}\\right)\\right) \\end{array}</script></html>"
      ],
      "text/plain": [
       "Phi: M_0 --> R4\n",
       "   (t, rho, phi) |--> (X0, X1, X2, X3) = (l*cos(t)*cosh(rho), l*sin(phi)*sinh(rho), l*cos(phi)*sinh(rho), l*cosh(rho)*sin(t))"
      ]
     },
     "execution_count": 40,
     "metadata": {},
     "output_type": "execute_result"
    }
   ],
   "source": [
    "Phi = M0.diff_map(R4, [l*cosh(rho)*cos(t),\n",
    "                      l*sinh(rho)*sin(phi),\n",
    "                      l*sinh(rho)*cos(phi),\n",
    "                      l*cosh(rho)*sin(t)],\n",
    "                name='Phi', latex_name=r'\\Phi')\n",
    "print(Phi)\n",
    "Phi.display()"
   ]
  },
  {
   "cell_type": "markdown",
   "metadata": {},
   "source": [
    "# AdS_3 Metric"
   ]
  },
  {
   "cell_type": "code",
   "execution_count": 41,
   "metadata": {},
   "outputs": [],
   "source": [
    "g = M0.lorentzian_metric('g')"
   ]
  },
  {
   "cell_type": "code",
   "execution_count": 42,
   "metadata": {},
   "outputs": [],
   "source": [
    "g.set(Phi.pullback(h))"
   ]
  },
  {
   "cell_type": "code",
   "execution_count": 43,
   "metadata": {},
   "outputs": [
    {
     "data": {
      "text/html": [
       "<html><script type=\"math/tex; mode=display\">\\newcommand{\\Bold}[1]{\\mathbf{#1}}g = -l^{2} \\cosh\\left({\\rho}\\right)^{2} \\mathrm{d} {t}\\otimes \\mathrm{d} {t} + l^{2} \\mathrm{d} {\\rho}\\otimes \\mathrm{d} {\\rho} + l^{2} \\sinh\\left({\\rho}\\right)^{2} \\mathrm{d} {\\phi}\\otimes \\mathrm{d} {\\phi}</script></html>"
      ],
      "text/plain": [
       "g = -l^2*cosh(rho)^2 dt*dt + l^2 drho*drho + l^2*sinh(rho)^2 dphi*dphi"
      ]
     },
     "execution_count": 43,
     "metadata": {},
     "output_type": "execute_result"
    }
   ],
   "source": [
    "g.display()"
   ]
  },
  {
   "cell_type": "code",
   "execution_count": 44,
   "metadata": {},
   "outputs": [
    {
     "data": {
      "text/html": [
       "<html><script type=\"math/tex; mode=display\">\\newcommand{\\Bold}[1]{\\mathbf{#1}}\\left(\\begin{array}{rrr}\n",
       "-l^{2} \\cosh\\left({\\rho}\\right)^{2} & 0 & 0 \\\\\n",
       "0 & l^{2} & 0 \\\\\n",
       "0 & 0 & l^{2} \\sinh\\left({\\rho}\\right)^{2}\n",
       "\\end{array}\\right)</script></html>"
      ],
      "text/plain": [
       "[-l^2*cosh(rho)^2                0                0]\n",
       "[               0              l^2                0]\n",
       "[               0                0  l^2*sinh(rho)^2]"
      ]
     },
     "execution_count": 44,
     "metadata": {},
     "output_type": "execute_result"
    }
   ],
   "source": [
    "g[:]"
   ]
  },
  {
   "cell_type": "markdown",
   "metadata": {},
   "source": [
    "# Christoffel Connection"
   ]
  },
  {
   "cell_type": "code",
   "execution_count": 45,
   "metadata": {},
   "outputs": [],
   "source": [
    "nabla = g.connection()"
   ]
  },
  {
   "cell_type": "code",
   "execution_count": 46,
   "metadata": {},
   "outputs": [
    {
     "data": {
      "text/html": [
       "<html><script type=\"math/tex; mode=display\">\\newcommand{\\Bold}[1]{\\mathbf{#1}}\\begin{array}{lcl} \\Gamma_{ \\phantom{\\, {t}} \\, {t} \\, {\\rho} }^{ \\, {t} \\phantom{\\, {t}} \\phantom{\\, {\\rho}} } & = & \\frac{\\sinh\\left({\\rho}\\right)}{\\cosh\\left({\\rho}\\right)} \\\\ \\Gamma_{ \\phantom{\\, {t}} \\, {\\rho} \\, {t} }^{ \\, {t} \\phantom{\\, {\\rho}} \\phantom{\\, {t}} } & = & \\frac{\\sinh\\left({\\rho}\\right)}{\\cosh\\left({\\rho}\\right)} \\\\ \\Gamma_{ \\phantom{\\, {\\rho}} \\, {t} \\, {t} }^{ \\, {\\rho} \\phantom{\\, {t}} \\phantom{\\, {t}} } & = & \\cosh\\left({\\rho}\\right) \\sinh\\left({\\rho}\\right) \\\\ \\Gamma_{ \\phantom{\\, {\\rho}} \\, {\\phi} \\, {\\phi} }^{ \\, {\\rho} \\phantom{\\, {\\phi}} \\phantom{\\, {\\phi}} } & = & -\\cosh\\left({\\rho}\\right) \\sinh\\left({\\rho}\\right) \\\\ \\Gamma_{ \\phantom{\\, {\\phi}} \\, {\\rho} \\, {\\phi} }^{ \\, {\\phi} \\phantom{\\, {\\rho}} \\phantom{\\, {\\phi}} } & = & \\frac{\\cosh\\left({\\rho}\\right)}{\\sinh\\left({\\rho}\\right)} \\\\ \\Gamma_{ \\phantom{\\, {\\phi}} \\, {\\phi} \\, {\\rho} }^{ \\, {\\phi} \\phantom{\\, {\\phi}} \\phantom{\\, {\\rho}} } & = & \\frac{\\cosh\\left({\\rho}\\right)}{\\sinh\\left({\\rho}\\right)} \\end{array}</script></html>"
      ],
      "text/plain": [
       "Gam^t_t,rho = sinh(rho)/cosh(rho) \n",
       "Gam^t_rho,t = sinh(rho)/cosh(rho) \n",
       "Gam^rho_t,t = cosh(rho)*sinh(rho) \n",
       "Gam^rho_phi,phi = -cosh(rho)*sinh(rho) \n",
       "Gam^phi_rho,phi = cosh(rho)/sinh(rho) \n",
       "Gam^phi_phi,rho = cosh(rho)/sinh(rho) "
      ]
     },
     "execution_count": 46,
     "metadata": {},
     "output_type": "execute_result"
    }
   ],
   "source": [
    "nabla.display()"
   ]
  },
  {
   "cell_type": "markdown",
   "metadata": {},
   "source": [
    "# Killing Form Function Definition"
   ]
  },
  {
   "cell_type": "code",
   "execution_count": 47,
   "metadata": {},
   "outputs": [],
   "source": [
    "def find_killing_form(field, metric):\n",
    "    '''\n",
    "    Calculates and returns the symmetrized derivative of vector_field with respect to\n",
    "    the given metric.\n",
    "    \n",
    "    If $ v^a $ is the vector field, the Killing form $ B_{ab} $ is given by:\n",
    "    \n",
    "    $$ B_{ab} = \\nabla_a v_b + \\nabla_b v_a $$\n",
    "    \n",
    "    If the Killing form is identically zero then the vector field is a killing vector field.\n",
    "    \n",
    "    Params:\n",
    "    \n",
    "        field: the vector field or 1-form whose Killing Form is to be calculated\n",
    "        \n",
    "        metric: the metric with respect to which the covariant derivative is calculated\n",
    "    '''\n",
    "    \n",
    "    field_type = field.tensor_type()\n",
    "\n",
    "    # check that vector_field is either a 1-form or a vector field\n",
    "    if field_type != (1,0) and field_type != (0,1):\n",
    "        raise ValueError(\"vector_field must be a tensor field of type (1,0) or type (0,1)\")\n",
    "        \n",
    "    logging.info('%s is of type %s', field, field_type)\n",
    "    \n",
    "    metric_type = metric.tensor_type()\n",
    "\n",
    "    if metric_type != (0,2):\n",
    "        raise ValueError(\"metric must be a tensor field of type (0,2)\")\n",
    "\n",
    "    # if the argument is a vector field, use the metric to convert it into a 1-form\n",
    "    if field_type == (1,0):\n",
    "        logging.info(\"converting vector field into one-form\")\n",
    "        one_form = field.down(metric)\n",
    "    else:\n",
    "        one_form = field\n",
    "    \n",
    "    # fine the connection for the given metric\n",
    "    logging.info(\"finding connection for given metric\")\n",
    "    nabla = metric.connection()\n",
    "    \n",
    "    # take the gradient of the one form and then symmetrize to obtain the Killing form\n",
    "    logging.info(\"finding killing form for one-form using connection\")\n",
    "    killing_form = nabla(one_form).symmetrize()\n",
    "    \n",
    "    return killing_form"
   ]
  },
  {
   "cell_type": "markdown",
   "metadata": {},
   "source": [
    "# Define Killing Vector Fields"
   ]
  },
  {
   "cell_type": "code",
   "execution_count": 48,
   "metadata": {},
   "outputs": [],
   "source": [
    "zeta_minus_one = M0.vector_field(\"zeta_minus_one\", r'\\zeta_{-1}')"
   ]
  },
  {
   "cell_type": "code",
   "execution_count": 49,
   "metadata": {},
   "outputs": [
    {
     "data": {
      "text/html": [
       "<html><script type=\"math/tex; mode=display\">\\newcommand{\\Bold}[1]{\\mathbf{#1}}\\zeta_{-1}</script></html>"
      ],
      "text/plain": [
       "Vector field zeta_minus_one on the Open subset M_0 of the 3-dimensional differentiable manifold M"
      ]
     },
     "execution_count": 49,
     "metadata": {},
     "output_type": "execute_result"
    }
   ],
   "source": [
    "zeta_minus_one"
   ]
  },
  {
   "cell_type": "code",
   "execution_count": 50,
   "metadata": {},
   "outputs": [],
   "source": [
    "zeta_minus_one[0] = (1/2)*tanh(rho) * exp(-i*(t+phi))"
   ]
  },
  {
   "cell_type": "code",
   "execution_count": 51,
   "metadata": {},
   "outputs": [
    {
     "data": {
      "text/html": [
       "<html><script type=\"math/tex; mode=display\">\\newcommand{\\Bold}[1]{\\mathbf{#1}}\\zeta_{-1} = \\frac{1}{2} \\, e^{\\left(-i \\, {\\phi} - i \\, {t}\\right)} \\tanh\\left({\\rho}\\right) \\frac{\\partial}{\\partial {t} }</script></html>"
      ],
      "text/plain": [
       "zeta_minus_one = 1/2*e^(-I*phi - I*t)*tanh(rho) d/dt"
      ]
     },
     "execution_count": 51,
     "metadata": {},
     "output_type": "execute_result"
    }
   ],
   "source": [
    "zeta_minus_one.display()"
   ]
  },
  {
   "cell_type": "code",
   "execution_count": 52,
   "metadata": {},
   "outputs": [],
   "source": [
    "zeta_minus_one[1] = (1/2)*i*exp(-i*(t+phi))\n",
    "zeta_minus_one[2] = (1/2)*coth(rho)*exp(-i*(t + phi))"
   ]
  },
  {
   "cell_type": "code",
   "execution_count": 53,
   "metadata": {},
   "outputs": [
    {
     "data": {
      "text/html": [
       "<html><script type=\"math/tex; mode=display\">\\newcommand{\\Bold}[1]{\\mathbf{#1}}\\zeta_{-1} = \\frac{1}{2} \\, e^{\\left(-i \\, {\\phi} - i \\, {t}\\right)} \\tanh\\left({\\rho}\\right) \\frac{\\partial}{\\partial {t} } + \\frac{1}{2} i \\, e^{\\left(-i \\, {\\phi} - i \\, {t}\\right)} \\frac{\\partial}{\\partial {\\rho} } + \\frac{1}{2} \\, \\operatorname{coth}\\left({\\rho}\\right) e^{\\left(-i \\, {\\phi} - i \\, {t}\\right)} \\frac{\\partial}{\\partial {\\phi} }</script></html>"
      ],
      "text/plain": [
       "zeta_minus_one = 1/2*e^(-I*phi - I*t)*tanh(rho) d/dt + 1/2*I*e^(-I*phi - I*t) d/drho + 1/2*coth(rho)*e^(-I*phi - I*t) d/dphi"
      ]
     },
     "execution_count": 53,
     "metadata": {},
     "output_type": "execute_result"
    }
   ],
   "source": [
    "zeta_minus_one.display()"
   ]
  },
  {
   "cell_type": "code",
   "execution_count": 54,
   "metadata": {},
   "outputs": [],
   "source": [
    "kform = find_killing_form(zeta_minus_one, g)"
   ]
  },
  {
   "cell_type": "code",
   "execution_count": 55,
   "metadata": {
    "scrolled": true
   },
   "outputs": [
    {
     "data": {
      "text/html": [
       "<html><script type=\"math/tex; mode=display\">\\newcommand{\\Bold}[1]{\\mathbf{#1}}0</script></html>"
      ],
      "text/plain": [
       "0"
      ]
     },
     "execution_count": 55,
     "metadata": {},
     "output_type": "execute_result"
    }
   ],
   "source": [
    "kform.display()"
   ]
  },
  {
   "cell_type": "code",
   "execution_count": 56,
   "metadata": {},
   "outputs": [
    {
     "data": {
      "text/html": [
       "<html><script type=\"math/tex; mode=display\">\\newcommand{\\Bold}[1]{\\mathbf{#1}}\\zeta_0</script></html>"
      ],
      "text/plain": [
       "Vector field zeta_zero on the Open subset M_0 of the 3-dimensional differentiable manifold M"
      ]
     },
     "execution_count": 56,
     "metadata": {},
     "output_type": "execute_result"
    }
   ],
   "source": [
    "zeta_zero = M0.vector_field('zeta_zero', r'\\zeta_0')\n",
    "zeta_zero"
   ]
  },
  {
   "cell_type": "code",
   "execution_count": 57,
   "metadata": {},
   "outputs": [
    {
     "data": {
      "text/html": [
       "<html><script type=\"math/tex; mode=display\">\\newcommand{\\Bold}[1]{\\mathbf{#1}}\\zeta_0 = \\frac{1}{2} \\frac{\\partial}{\\partial {t} } + \\frac{1}{2} \\frac{\\partial}{\\partial {\\phi} }</script></html>"
      ],
      "text/plain": [
       "zeta_zero = 1/2 d/dt + 1/2 d/dphi"
      ]
     },
     "execution_count": 57,
     "metadata": {},
     "output_type": "execute_result"
    }
   ],
   "source": [
    "zeta_zero[:] = (1/2), 0, (1/2)\n",
    "zeta_zero.display()"
   ]
  },
  {
   "cell_type": "code",
   "execution_count": 58,
   "metadata": {},
   "outputs": [],
   "source": [
    "kform = find_killing_form(zeta_zero, g)"
   ]
  },
  {
   "cell_type": "code",
   "execution_count": 59,
   "metadata": {},
   "outputs": [
    {
     "data": {
      "text/html": [
       "<html><script type=\"math/tex; mode=display\">\\newcommand{\\Bold}[1]{\\mathbf{#1}}0</script></html>"
      ],
      "text/plain": [
       "0"
      ]
     },
     "execution_count": 59,
     "metadata": {},
     "output_type": "execute_result"
    }
   ],
   "source": [
    "kform.display()"
   ]
  },
  {
   "cell_type": "code",
   "execution_count": 60,
   "metadata": {},
   "outputs": [
    {
     "data": {
      "text/html": [
       "<html><script type=\"math/tex; mode=display\">\\newcommand{\\Bold}[1]{\\mathbf{#1}}\\zeta_1</script></html>"
      ],
      "text/plain": [
       "Vector field zeta_one on the Open subset M_0 of the 3-dimensional differentiable manifold M"
      ]
     },
     "execution_count": 60,
     "metadata": {},
     "output_type": "execute_result"
    }
   ],
   "source": [
    "zeta_one = M0.vector_field('zeta_one', r'\\zeta_1')\n",
    "zeta_one"
   ]
  },
  {
   "cell_type": "code",
   "execution_count": 61,
   "metadata": {},
   "outputs": [],
   "source": [
    "zeta_one[:] = tanh(rho)*exp(i*(t+phi)), -i*exp(i*(t+phi)), coth(rho)*exp(i*(t+phi))"
   ]
  },
  {
   "cell_type": "code",
   "execution_count": 62,
   "metadata": {},
   "outputs": [
    {
     "data": {
      "text/html": [
       "<html><script type=\"math/tex; mode=display\">\\newcommand{\\Bold}[1]{\\mathbf{#1}}\\zeta_1 = e^{\\left(i \\, {\\phi} + i \\, {t}\\right)} \\tanh\\left({\\rho}\\right) \\frac{\\partial}{\\partial {t} } -i \\, e^{\\left(i \\, {\\phi} + i \\, {t}\\right)} \\frac{\\partial}{\\partial {\\rho} } + \\operatorname{coth}\\left({\\rho}\\right) e^{\\left(i \\, {\\phi} + i \\, {t}\\right)} \\frac{\\partial}{\\partial {\\phi} }</script></html>"
      ],
      "text/plain": [
       "zeta_one = e^(I*phi + I*t)*tanh(rho) d/dt - I*e^(I*phi + I*t) d/drho + coth(rho)*e^(I*phi + I*t) d/dphi"
      ]
     },
     "execution_count": 62,
     "metadata": {},
     "output_type": "execute_result"
    }
   ],
   "source": [
    "zeta_one.display()"
   ]
  },
  {
   "cell_type": "code",
   "execution_count": 63,
   "metadata": {},
   "outputs": [
    {
     "data": {
      "text/html": [
       "<html><script type=\"math/tex; mode=display\">\\newcommand{\\Bold}[1]{\\mathbf{#1}}\\frac{e^{\\left(i \\, {\\phi} + i \\, {t}\\right)} \\sinh\\left({\\rho}\\right)}{2 \\, \\cosh\\left({\\rho}\\right)} \\frac{\\partial}{\\partial {t} } -\\frac{1}{2} i \\, e^{\\left(i \\, {\\phi} + i \\, {t}\\right)} \\frac{\\partial}{\\partial {\\rho} } + \\frac{\\cosh\\left({\\rho}\\right) e^{\\left(i \\, {\\phi} + i \\, {t}\\right)}}{2 \\, \\sinh\\left({\\rho}\\right)} \\frac{\\partial}{\\partial {\\phi} }</script></html>"
      ],
      "text/plain": [
       "1/2*e^(I*phi + I*t)*sinh(rho)/cosh(rho) d/dt - 1/2*I*e^(I*phi + I*t) d/drho + 1/2*cosh(rho)*e^(I*phi + I*t)/sinh(rho) d/dphi"
      ]
     },
     "execution_count": 63,
     "metadata": {},
     "output_type": "execute_result"
    }
   ],
   "source": [
    "zeta_one = (1/2) * zeta_one\n",
    "zeta_one.display()"
   ]
  },
  {
   "cell_type": "code",
   "execution_count": 64,
   "metadata": {},
   "outputs": [],
   "source": [
    "kform = find_killing_form(zeta_one, g)"
   ]
  },
  {
   "cell_type": "code",
   "execution_count": 65,
   "metadata": {},
   "outputs": [
    {
     "data": {
      "text/html": [
       "<html><script type=\"math/tex; mode=display\">\\newcommand{\\Bold}[1]{\\mathbf{#1}}0</script></html>"
      ],
      "text/plain": [
       "0"
      ]
     },
     "execution_count": 65,
     "metadata": {},
     "output_type": "execute_result"
    }
   ],
   "source": [
    "kform.display()"
   ]
  },
  {
   "cell_type": "markdown",
   "metadata": {
    "heading_collapsed": true
   },
   "source": [
    "### **Note**: Sage Complex Conjugation Doesn't Work on Manifolds Functions"
   ]
  },
  {
   "cell_type": "code",
   "execution_count": 92,
   "metadata": {
    "hidden": true
   },
   "outputs": [
    {
     "ename": "TypeError",
     "evalue": "cannot coerce arguments: no canonical coercion from Ring of coordinate functions on Chart (M_0, (t, rho, phi)) to Symbolic Ring",
     "output_type": "error",
     "traceback": [
      "\u001b[0;31m---------------------------------------------------------------------------\u001b[0m",
      "\u001b[0;31mTypeError\u001b[0m                                 Traceback (most recent call last)",
      "\u001b[0;32m<ipython-input-92-f6410c057d10>\u001b[0m in \u001b[0;36m<module>\u001b[0;34m()\u001b[0m\n\u001b[1;32m      1\u001b[0m \u001b[0;32mfor\u001b[0m \u001b[0mx\u001b[0m \u001b[0;32min\u001b[0m \u001b[0mzeta_one\u001b[0m\u001b[0;34m[\u001b[0m\u001b[0;34m:\u001b[0m\u001b[0;34m]\u001b[0m\u001b[0;34m:\u001b[0m\u001b[0;34m\u001b[0m\u001b[0m\n\u001b[0;32m----> 2\u001b[0;31m     \u001b[0;32mprint\u001b[0m\u001b[0;34m(\u001b[0m\u001b[0mx\u001b[0m\u001b[0;34m,\u001b[0m \u001b[0mconjugate\u001b[0m\u001b[0;34m(\u001b[0m\u001b[0mx\u001b[0m\u001b[0;34m)\u001b[0m\u001b[0;34m)\u001b[0m\u001b[0;34m\u001b[0m\u001b[0m\n\u001b[0m",
      "\u001b[0;32m/Users/deepak/sage/src/sage/symbolic/function.pyx\u001b[0m in \u001b[0;36msage.symbolic.function.BuiltinFunction.__call__ (/Users/deepak/sage/src/build/cythonized/sage/symbolic/function.cpp:11396)\u001b[0;34m()\u001b[0m\n\u001b[1;32m    994\u001b[0m                 res = super(BuiltinFunction, self).__call__(\n\u001b[1;32m    995\u001b[0m                         *args, coerce=coerce, hold=hold)\n\u001b[0;32m--> 996\u001b[0;31m \u001b[0;34m\u001b[0m\u001b[0m\n\u001b[0m\u001b[1;32m    997\u001b[0m         \u001b[0;31m# Convert the output back to the corresponding\u001b[0m\u001b[0;34m\u001b[0m\u001b[0;34m\u001b[0m\u001b[0m\n\u001b[1;32m    998\u001b[0m         \u001b[0;31m# Python type if possible.\u001b[0m\u001b[0;34m\u001b[0m\u001b[0;34m\u001b[0m\u001b[0m\n",
      "\u001b[0;32m/Users/deepak/sage/src/sage/symbolic/function.pyx\u001b[0m in \u001b[0;36msage.symbolic.function.Function.__call__ (/Users/deepak/sage/src/build/cythonized/sage/symbolic/function.cpp:6281)\u001b[0;34m()\u001b[0m\n\u001b[1;32m    472\u001b[0m                     \u001b[0;32mif\u001b[0m \u001b[0mcallable\u001b[0m\u001b[0;34m(\u001b[0m\u001b[0mmethod\u001b[0m\u001b[0;34m)\u001b[0m\u001b[0;34m:\u001b[0m\u001b[0;34m\u001b[0m\u001b[0m\n\u001b[1;32m    473\u001b[0m                         \u001b[0;32mreturn\u001b[0m \u001b[0mmethod\u001b[0m\u001b[0;34m(\u001b[0m\u001b[0;34m)\u001b[0m\u001b[0;34m\u001b[0m\u001b[0m\n\u001b[0;32m--> 474\u001b[0;31m                 \u001b[0;32mraise\u001b[0m \u001b[0mTypeError\u001b[0m\u001b[0;34m(\u001b[0m\u001b[0;34m\"cannot coerce arguments: %s\"\u001b[0m \u001b[0;34m%\u001b[0m \u001b[0;34m(\u001b[0m\u001b[0merr\u001b[0m\u001b[0;34m)\u001b[0m\u001b[0;34m)\u001b[0m\u001b[0;34m\u001b[0m\u001b[0m\n\u001b[0m\u001b[1;32m    475\u001b[0m \u001b[0;34m\u001b[0m\u001b[0m\n\u001b[1;32m    476\u001b[0m         \u001b[0;32melse\u001b[0m\u001b[0;34m:\u001b[0m \u001b[0;31m# coerce == False\u001b[0m\u001b[0;34m\u001b[0m\u001b[0m\n",
      "\u001b[0;31mTypeError\u001b[0m: cannot coerce arguments: no canonical coercion from Ring of coordinate functions on Chart (M_0, (t, rho, phi)) to Symbolic Ring"
     ]
    }
   ],
   "source": [
    "for x in zeta_one[:]:\n",
    "    print(x, conjugate(x))"
   ]
  },
  {
   "cell_type": "code",
   "execution_count": 93,
   "metadata": {
    "hidden": true
   },
   "outputs": [
    {
     "data": {
      "text/html": [
       "<html><script type=\"math/tex; mode=display\">\\newcommand{\\Bold}[1]{\\mathbf{#1}}\\verb|<class|\\phantom{\\verb!x!}\\verb|'sage.manifolds.coord_func_symb.CoordFunctionSymbRing_with_category.element_class'>|</script></html>"
      ],
      "text/plain": [
       "<class 'sage.manifolds.coord_func_symb.CoordFunctionSymbRing_with_category.element_class'>"
      ]
     },
     "execution_count": 93,
     "metadata": {},
     "output_type": "execute_result"
    }
   ],
   "source": [
    "v1 = zeta_one[0]\n",
    "type(v1)"
   ]
  },
  {
   "cell_type": "code",
   "execution_count": 97,
   "metadata": {
    "hidden": true
   },
   "outputs": [],
   "source": [
    "M0.coerce_map_from?"
   ]
  },
  {
   "cell_type": "markdown",
   "metadata": {},
   "source": [
    "## Commutator of Vector Fields"
   ]
  },
  {
   "cell_type": "code",
   "execution_count": 66,
   "metadata": {},
   "outputs": [
    {
     "data": {
      "text/html": [
       "<html><script type=\"math/tex; mode=display\">\\newcommand{\\Bold}[1]{\\mathbf{#1}}-i \\frac{\\partial}{\\partial {t} } -i \\frac{\\partial}{\\partial {\\phi} }</script></html>"
      ],
      "text/plain": [
       "-I d/dt - I d/dphi"
      ]
     },
     "execution_count": 66,
     "metadata": {},
     "output_type": "execute_result"
    }
   ],
   "source": [
    "zeta_one.bracket(zeta_minus_one).display()"
   ]
  },
  {
   "cell_type": "code",
   "execution_count": 67,
   "metadata": {},
   "outputs": [
    {
     "data": {
      "text/html": [
       "<html><script type=\"math/tex; mode=display\">\\newcommand{\\Bold}[1]{\\mathbf{#1}}i \\frac{\\partial}{\\partial {t} } + i \\frac{\\partial}{\\partial {\\phi} }</script></html>"
      ],
      "text/plain": [
       "I d/dt + I d/dphi"
      ]
     },
     "execution_count": 67,
     "metadata": {},
     "output_type": "execute_result"
    }
   ],
   "source": [
    "zeta_minus_one.bracket(zeta_one).display()"
   ]
  },
  {
   "cell_type": "markdown",
   "metadata": {},
   "source": [
    "## Vector Field Commutator Function Definition"
   ]
  },
  {
   "cell_type": "code",
   "execution_count": 68,
   "metadata": {},
   "outputs": [],
   "source": [
    "def commutator(v1, v2):\n",
    "    '''Takes two vector field as arguments and returns the\n",
    "    commutator of the Lie-brackets:\n",
    "    \n",
    "    Returns: [v1,v2] = v1(v2) - v2(v1)\n",
    "    '''\n",
    "    v12 = v1.bracket(v2)\n",
    "    v21 = v2.bracket(v1)\n",
    "    return v12 + v21"
   ]
  },
  {
   "cell_type": "code",
   "execution_count": 69,
   "metadata": {},
   "outputs": [],
   "source": [
    "def anti_commutator(v1, v2):\n",
    "    '''Takes two vector field as arguments and returns the\n",
    "    commutator of the Lie-brackets:\n",
    "    \n",
    "    Returns: [v1,v2] = v1(v2) - v2(v1)\n",
    "    '''\n",
    "    v12 = v1.bracket(v2)\n",
    "    v21 = v2.bracket(v1)\n",
    "    return v12 - v21"
   ]
  },
  {
   "cell_type": "code",
   "execution_count": 70,
   "metadata": {},
   "outputs": [
    {
     "data": {
      "text/html": [
       "<html><script type=\"math/tex; mode=display\">\\newcommand{\\Bold}[1]{\\mathbf{#1}}2 \\frac{\\partial}{\\partial {t} } + 2 \\frac{\\partial}{\\partial {\\phi} }</script></html>"
      ],
      "text/plain": [
       "2 d/dt + 2 d/dphi"
      ]
     },
     "execution_count": 70,
     "metadata": {},
     "output_type": "execute_result"
    }
   ],
   "source": [
    "(i*anti_commutator(zeta_one, zeta_minus_one)).display()"
   ]
  },
  {
   "cell_type": "code",
   "execution_count": 71,
   "metadata": {},
   "outputs": [
    {
     "data": {
      "text/html": [
       "<html><script type=\"math/tex; mode=display\">\\newcommand{\\Bold}[1]{\\mathbf{#1}}\\frac{\\partial}{\\partial {t} }+\\frac{\\partial}{\\partial {\\phi} }</script></html>"
      ],
      "text/plain": [
       "d/dt + d/dphi"
      ]
     },
     "execution_count": 71,
     "metadata": {},
     "output_type": "execute_result"
    }
   ],
   "source": [
    "(2*zeta_zero).display()"
   ]
  },
  {
   "cell_type": "code",
   "execution_count": 72,
   "metadata": {},
   "outputs": [
    {
     "data": {
      "text/html": [
       "<html><script type=\"math/tex; mode=display\">\\newcommand{\\Bold}[1]{\\mathbf{#1}}-2 i \\frac{\\partial}{\\partial {t} } -2 i \\frac{\\partial}{\\partial {\\phi} }</script></html>"
      ],
      "text/plain": [
       "-2*I d/dt - 2*I d/dphi"
      ]
     },
     "execution_count": 72,
     "metadata": {},
     "output_type": "execute_result"
    }
   ],
   "source": [
    "anti_commutator(zeta_one, zeta_minus_one).display()"
   ]
  },
  {
   "cell_type": "code",
   "execution_count": 73,
   "metadata": {},
   "outputs": [
    {
     "data": {
      "text/html": [
       "<html><script type=\"math/tex; mode=display\">\\newcommand{\\Bold}[1]{\\mathbf{#1}}-\\frac{i \\, e^{\\left(i \\, {\\phi} + i \\, {t}\\right)} \\sinh\\left({\\rho}\\right)}{\\cosh\\left({\\rho}\\right)} \\frac{\\partial}{\\partial {t} } -e^{\\left(i \\, {\\phi} + i \\, {t}\\right)} \\frac{\\partial}{\\partial {\\rho} } -\\frac{i \\, \\cosh\\left({\\rho}\\right) e^{\\left(i \\, {\\phi} + i \\, {t}\\right)}}{\\sinh\\left({\\rho}\\right)} \\frac{\\partial}{\\partial {\\phi} }</script></html>"
      ],
      "text/plain": [
       "-I*e^(I*phi + I*t)*sinh(rho)/cosh(rho) d/dt - e^(I*phi + I*t) d/drho - I*cosh(rho)*e^(I*phi + I*t)/sinh(rho) d/dphi"
      ]
     },
     "execution_count": 73,
     "metadata": {},
     "output_type": "execute_result"
    }
   ],
   "source": [
    "anti_commutator(zeta_one, zeta_zero).display()"
   ]
  },
  {
   "cell_type": "code",
   "execution_count": 74,
   "metadata": {},
   "outputs": [
    {
     "data": {
      "text/html": [
       "<html><script type=\"math/tex; mode=display\">\\newcommand{\\Bold}[1]{\\mathbf{#1}}-\\frac{i \\, e^{\\left(-i \\, {\\phi} - i \\, {t}\\right)} \\sinh\\left({\\rho}\\right)}{\\cosh\\left({\\rho}\\right)} \\frac{\\partial}{\\partial {t} } + e^{\\left(-i \\, {\\phi} - i \\, {t}\\right)} \\frac{\\partial}{\\partial {\\rho} } -\\frac{i \\, \\cosh\\left({\\rho}\\right) e^{\\left(-i \\, {\\phi} - i \\, {t}\\right)}}{\\sinh\\left({\\rho}\\right)} \\frac{\\partial}{\\partial {\\phi} }</script></html>"
      ],
      "text/plain": [
       "-I*e^(-I*phi - I*t)*sinh(rho)/cosh(rho) d/dt + e^(-I*phi - I*t) d/drho - I*cosh(rho)*e^(-I*phi - I*t)/sinh(rho) d/dphi"
      ]
     },
     "execution_count": 74,
     "metadata": {},
     "output_type": "execute_result"
    }
   ],
   "source": [
    "((-i*2)*zeta_minus_one).display()"
   ]
  },
  {
   "cell_type": "code",
   "execution_count": null,
   "metadata": {},
   "outputs": [],
   "source": []
  },
  {
   "cell_type": "markdown",
   "metadata": {
    "heading_collapsed": true
   },
   "source": [
    "# Function Definitions"
   ]
  },
  {
   "cell_type": "markdown",
   "metadata": {
    "heading_collapsed": true,
    "hidden": true
   },
   "source": [
    "## Killing Form Function Definition"
   ]
  },
  {
   "cell_type": "code",
   "execution_count": 47,
   "metadata": {
    "hidden": true
   },
   "outputs": [],
   "source": [
    "def find_killing_form(field, metric):\n",
    "    '''\n",
    "    Calculates and returns the symmetrized derivative of vector_field with respect to\n",
    "    the given metric.\n",
    "    \n",
    "    If $ v^a $ is the vector field, the Killing form $ B_{ab} $ is given by:\n",
    "    \n",
    "    $$ B_{ab} = \\nabla_a v_b + \\nabla_b v_a $$\n",
    "    \n",
    "    If the Killing form is identically zero then the vector field is a killing vector field.\n",
    "    \n",
    "    Params:\n",
    "    \n",
    "        field: the vector field or 1-form whose Killing Form is to be calculated\n",
    "        \n",
    "        metric: the metric with respect to which the covariant derivative is calculated\n",
    "    '''\n",
    "    \n",
    "    field_type = field.tensor_type()\n",
    "\n",
    "    # check that vector_field is either a 1-form or a vector field\n",
    "    if field_type != (1,0) and field_type != (0,1):\n",
    "        raise ValueError(\"vector_field must be a tensor field of type (1,0) or type (0,1)\")\n",
    "        \n",
    "    logging.info('%s is of type %s', field, field_type)\n",
    "    \n",
    "    metric_type = metric.tensor_type()\n",
    "\n",
    "    if metric_type != (0,2):\n",
    "        raise ValueError(\"metric must be a tensor field of type (0,2)\")\n",
    "\n",
    "    # if the argument is a vector field, use the metric to convert it into a 1-form\n",
    "    if field_type == (1,0):\n",
    "        logging.info(\"converting vector field into one-form\")\n",
    "        one_form = field.down(metric)\n",
    "    else:\n",
    "        one_form = field\n",
    "    \n",
    "    # fine the connection for the given metric\n",
    "    logging.info(\"finding connection for given metric\")\n",
    "    nabla = metric.connection()\n",
    "    \n",
    "    # take the gradient of the one form and then symmetrize to obtain the Killing form\n",
    "    logging.info(\"finding killing form for one-form using connection\")\n",
    "    killing_form = nabla(one_form).symmetrize()\n",
    "    \n",
    "    return killing_form"
   ]
  },
  {
   "cell_type": "markdown",
   "metadata": {
    "heading_collapsed": true,
    "hidden": true
   },
   "source": [
    "## Vector Field Commutator Function Definition"
   ]
  },
  {
   "cell_type": "code",
   "execution_count": 68,
   "metadata": {
    "hidden": true
   },
   "outputs": [],
   "source": [
    "def commutator(v1, v2):\n",
    "    '''Takes two vector field as arguments and returns the\n",
    "    commutator of the Lie-brackets:\n",
    "    \n",
    "    Returns: [v1,v2] = v1(v2) - v2(v1)\n",
    "    '''\n",
    "    v12 = v1.bracket(v2)\n",
    "    v21 = v2.bracket(v1)\n",
    "    return v12 + v21"
   ]
  },
  {
   "cell_type": "code",
   "execution_count": 69,
   "metadata": {
    "hidden": true
   },
   "outputs": [],
   "source": [
    "def anti_commutator(v1, v2):\n",
    "    '''Takes two vector field as arguments and returns the\n",
    "    commutator of the Lie-brackets:\n",
    "    \n",
    "    Returns: [v1,v2] = v1(v2) - v2(v1)\n",
    "    '''\n",
    "    v12 = v1.bracket(v2)\n",
    "    v21 = v2.bracket(v1)\n",
    "    return v12 - v21"
   ]
  },
  {
   "cell_type": "markdown",
   "metadata": {},
   "source": [
    "# Sandbox"
   ]
  },
  {
   "cell_type": "code",
   "execution_count": 42,
   "metadata": {},
   "outputs": [
    {
     "data": {
      "text/html": [
       "<html><script type=\"math/tex; mode=display\">\\newcommand{\\Bold}[1]{\\mathbf{#1}}v</script></html>"
      ],
      "text/plain": [
       "Vector field v on the 4-dimensional differentiable manifold R4"
      ]
     },
     "execution_count": 42,
     "metadata": {},
     "output_type": "execute_result"
    }
   ],
   "source": [
    "v = R4.vector_field('v')\n",
    "v"
   ]
  },
  {
   "cell_type": "code",
   "execution_count": 43,
   "metadata": {},
   "outputs": [],
   "source": [
    "v[:] = X1, X0, 0, 0"
   ]
  },
  {
   "cell_type": "code",
   "execution_count": 45,
   "metadata": {},
   "outputs": [
    {
     "data": {
      "text/html": [
       "<html><script type=\"math/tex; mode=display\">\\newcommand{\\Bold}[1]{\\mathbf{#1}}v = X_{1} \\frac{\\partial}{\\partial X_{0} } + X_{0} \\frac{\\partial}{\\partial X_{1} }</script></html>"
      ],
      "text/plain": [
       "v = X1 d/dX0 + X0 d/dX1"
      ]
     },
     "execution_count": 45,
     "metadata": {},
     "output_type": "execute_result"
    }
   ],
   "source": [
    "v.display()"
   ]
  },
  {
   "cell_type": "code",
   "execution_count": 49,
   "metadata": {},
   "outputs": [],
   "source": [
    "v_form = v.down(h)"
   ]
  },
  {
   "cell_type": "code",
   "execution_count": 50,
   "metadata": {},
   "outputs": [
    {
     "data": {
      "text/html": [
       "<html><script type=\"math/tex; mode=display\">\\newcommand{\\Bold}[1]{\\mathbf{#1}}-X_{1} \\mathrm{d} X_{0} + X_{0} \\mathrm{d} X_{1}</script></html>"
      ],
      "text/plain": [
       "-X1 dX0 + X0 dX1"
      ]
     },
     "execution_count": 50,
     "metadata": {},
     "output_type": "execute_result"
    }
   ],
   "source": [
    "v_form.display()"
   ]
  },
  {
   "cell_type": "code",
   "execution_count": 51,
   "metadata": {},
   "outputs": [],
   "source": [
    "v_ads = Phi.pullback(v_form)"
   ]
  },
  {
   "cell_type": "code",
   "execution_count": 52,
   "metadata": {},
   "outputs": [
    {
     "data": {
      "text/html": [
       "<html><script type=\"math/tex; mode=display\">\\newcommand{\\Bold}[1]{\\mathbf{#1}}l^{2} \\cosh\\left({\\rho}\\right) \\sin\\left({\\phi}\\right) \\sin\\left({t}\\right) \\sinh\\left({\\rho}\\right) \\mathrm{d} {t} + l^{2} \\cos\\left({t}\\right) \\sin\\left({\\phi}\\right) \\mathrm{d} {\\rho} + l^{2} \\cos\\left({\\phi}\\right) \\cos\\left({t}\\right) \\cosh\\left({\\rho}\\right) \\sinh\\left({\\rho}\\right) \\mathrm{d} {\\phi}</script></html>"
      ],
      "text/plain": [
       "l^2*cosh(rho)*sin(phi)*sin(t)*sinh(rho) dt + l^2*cos(t)*sin(phi) drho + l^2*cos(phi)*cos(t)*cosh(rho)*sinh(rho) dphi"
      ]
     },
     "execution_count": 52,
     "metadata": {},
     "output_type": "execute_result"
    }
   ],
   "source": [
    "v_ads.display()"
   ]
  },
  {
   "cell_type": "code",
   "execution_count": 53,
   "metadata": {},
   "outputs": [
    {
     "data": {
      "text/html": [
       "<html><script type=\"math/tex; mode=display\">\\newcommand{\\Bold}[1]{\\mathbf{#1}}l^{2} \\cosh\\left({\\rho}\\right)^{2} \\sin\\left({\\phi}\\right) \\sin\\left({t}\\right) \\mathrm{d} {t}\\otimes \\mathrm{d} {\\rho} + l^{2} \\cos\\left({\\phi}\\right) \\cosh\\left({\\rho}\\right) \\sin\\left({t}\\right) \\sinh\\left({\\rho}\\right) \\mathrm{d} {t}\\otimes \\mathrm{d} {\\phi} -l^{2} \\cosh\\left({\\rho}\\right)^{2} \\sin\\left({\\phi}\\right) \\sin\\left({t}\\right) \\mathrm{d} {\\rho}\\otimes \\mathrm{d} {t} -l^{2} \\cos\\left({\\phi}\\right) \\cos\\left({t}\\right) \\sinh\\left({\\rho}\\right)^{2} \\mathrm{d} {\\rho}\\otimes \\mathrm{d} {\\phi} -l^{2} \\cos\\left({\\phi}\\right) \\cosh\\left({\\rho}\\right) \\sin\\left({t}\\right) \\sinh\\left({\\rho}\\right) \\mathrm{d} {\\phi}\\otimes \\mathrm{d} {t} + l^{2} \\cos\\left({\\phi}\\right) \\cos\\left({t}\\right) \\sinh\\left({\\rho}\\right)^{2} \\mathrm{d} {\\phi}\\otimes \\mathrm{d} {\\rho}</script></html>"
      ],
      "text/plain": [
       "l^2*cosh(rho)^2*sin(phi)*sin(t) dt*drho + l^2*cos(phi)*cosh(rho)*sin(t)*sinh(rho) dt*dphi - l^2*cosh(rho)^2*sin(phi)*sin(t) drho*dt - l^2*cos(phi)*cos(t)*sinh(rho)^2 drho*dphi - l^2*cos(phi)*cosh(rho)*sin(t)*sinh(rho) dphi*dt + l^2*cos(phi)*cos(t)*sinh(rho)^2 dphi*drho"
      ]
     },
     "execution_count": 53,
     "metadata": {},
     "output_type": "execute_result"
    }
   ],
   "source": [
    "v_ads_grad = nabla(v_ads)\n",
    "v_ads_grad.display()"
   ]
  },
  {
   "cell_type": "code",
   "execution_count": 54,
   "metadata": {},
   "outputs": [
    {
     "data": {
      "text/html": [
       "<html><script type=\"math/tex; mode=display\">\\newcommand{\\Bold}[1]{\\mathbf{#1}}0</script></html>"
      ],
      "text/plain": [
       "0"
      ]
     },
     "execution_count": 54,
     "metadata": {},
     "output_type": "execute_result"
    }
   ],
   "source": [
    "v_ads_grad.symmetrize().display()"
   ]
  },
  {
   "cell_type": "code",
   "execution_count": 55,
   "metadata": {},
   "outputs": [],
   "source": [
    "v_kform = find_killing_form(v_ads, g)"
   ]
  },
  {
   "cell_type": "code",
   "execution_count": 56,
   "metadata": {},
   "outputs": [
    {
     "data": {
      "text/html": [
       "<html><script type=\"math/tex; mode=display\">\\newcommand{\\Bold}[1]{\\mathbf{#1}}0</script></html>"
      ],
      "text/plain": [
       "0"
      ]
     },
     "execution_count": 56,
     "metadata": {},
     "output_type": "execute_result"
    }
   ],
   "source": [
    "v_kform.display()"
   ]
  },
  {
   "cell_type": "code",
   "execution_count": null,
   "metadata": {},
   "outputs": [],
   "source": []
  },
  {
   "cell_type": "code",
   "execution_count": null,
   "metadata": {},
   "outputs": [],
   "source": []
  }
 ],
 "metadata": {
  "kernelspec": {
   "display_name": "SageMath 8.0",
   "language": "",
   "name": "sagemath"
  },
  "language_info": {
   "codemirror_mode": {
    "name": "ipython",
    "version": 2
   },
   "file_extension": ".py",
   "mimetype": "text/x-python",
   "name": "python",
   "nbconvert_exporter": "python",
   "pygments_lexer": "ipython2",
   "version": "2.7.13"
  },
  "latex_envs": {
   "bibliofile": "biblio.bib",
   "cite_by": "apalike",
   "current_citInitial": 1,
   "eqLabelWithNumbers": true,
   "eqNumInitial": 0
  },
  "toc": {
   "nav_menu": {},
   "number_sections": false,
   "sideBar": false,
   "skip_h1_title": false,
   "toc_cell": true,
   "toc_position": {
    "height": "366px",
    "left": "856px",
    "right": "139px",
    "top": "96px",
    "width": "230px"
   },
   "toc_section_display": "block",
   "toc_window_display": true
  },
  "varInspector": {
   "cols": {
    "lenName": 16,
    "lenType": 16,
    "lenVar": 40
   },
   "kernels_config": {
    "python": {
     "delete_cmd_postfix": "",
     "delete_cmd_prefix": "del ",
     "library": "var_list.py",
     "varRefreshCmd": "print(var_dic_list())"
    },
    "r": {
     "delete_cmd_postfix": ") ",
     "delete_cmd_prefix": "rm(",
     "library": "var_list.r",
     "varRefreshCmd": "cat(var_dic_list()) "
    }
   },
   "types_to_exclude": [
    "module",
    "function",
    "builtin_function_or_method",
    "instance",
    "_Feature"
   ],
   "window_display": false
  }
 },
 "nbformat": 4,
 "nbformat_minor": 2
}
