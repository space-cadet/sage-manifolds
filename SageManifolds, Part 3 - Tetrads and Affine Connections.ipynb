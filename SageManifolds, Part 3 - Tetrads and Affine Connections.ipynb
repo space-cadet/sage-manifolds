{
 "cells": [
  {
   "cell_type": "markdown",
   "metadata": {
    "toc": true
   },
   "source": [
    "<h1>Table of Contents<span class=\"tocSkip\"></span></h1>\n",
    "<div class=\"toc\" style=\"margin-top: 1em;\"><ul class=\"toc-item\"><li><span><a href=\"#Implementing-SAGE-Manifolds-in-Jupyter-Notebook\" data-toc-modified-id=\"Implementing-SAGE-Manifolds-in-Jupyter-Notebook-1\"><span class=\"toc-item-num\">1&nbsp;&nbsp;</span>Implementing SAGE Manifolds in Jupyter Notebook</a></span><ul class=\"toc-item\"><li><span><a href=\"#Schwarzschild-Black-Hole\" data-toc-modified-id=\"Schwarzschild-Black-Hole-1.1\"><span class=\"toc-item-num\">1.1&nbsp;&nbsp;</span>Schwarzschild Black Hole</a></span><ul class=\"toc-item\"><li><span><a href=\"#Schwarzschild-Parameter-Definitions\" data-toc-modified-id=\"Schwarzschild-Parameter-Definitions-1.1.1\"><span class=\"toc-item-num\">1.1.1&nbsp;&nbsp;</span>Schwarzschild Parameter Definitions</a></span></li><li><span><a href=\"#Define-Metric-Elements\" data-toc-modified-id=\"Define-Metric-Elements-1.1.2\"><span class=\"toc-item-num\">1.1.2&nbsp;&nbsp;</span>Define Metric Elements</a></span></li><li><span><a href=\"#Christoffel-Connection\" data-toc-modified-id=\"Christoffel-Connection-1.1.3\"><span class=\"toc-item-num\">1.1.3&nbsp;&nbsp;</span>Christoffel Connection</a></span></li><li><span><a href=\"#Taking-traces\" data-toc-modified-id=\"Taking-traces-1.1.4\"><span class=\"toc-item-num\">1.1.4&nbsp;&nbsp;</span>Taking traces</a></span></li><li><span><a href=\"#Riemann-Tensor\" data-toc-modified-id=\"Riemann-Tensor-1.1.5\"><span class=\"toc-item-num\">1.1.5&nbsp;&nbsp;</span>Riemann Tensor</a></span></li><li><span><a href=\"#Ricci-Tensor\" data-toc-modified-id=\"Ricci-Tensor-1.1.6\"><span class=\"toc-item-num\">1.1.6&nbsp;&nbsp;</span>Ricci Tensor</a></span></li><li><span><a href=\"#Ricci-Scalar\" data-toc-modified-id=\"Ricci-Scalar-1.1.7\"><span class=\"toc-item-num\">1.1.7&nbsp;&nbsp;</span>Ricci Scalar</a></span></li></ul></li><li><span><a href=\"#Anti-deSitter-Spacetimes\" data-toc-modified-id=\"Anti-deSitter-Spacetimes-1.2\"><span class=\"toc-item-num\">1.2&nbsp;&nbsp;</span>Anti-deSitter Spacetimes</a></span><ul class=\"toc-item\"><li><span><a href=\"#Anti-deSitter-Parameter-Definitions\" data-toc-modified-id=\"Anti-deSitter-Parameter-Definitions-1.2.1\"><span class=\"toc-item-num\">1.2.1&nbsp;&nbsp;</span>Anti deSitter Parameter Definitions</a></span></li><li><span><a href=\"#Metric\" data-toc-modified-id=\"Metric-1.2.2\"><span class=\"toc-item-num\">1.2.2&nbsp;&nbsp;</span>Metric</a></span><ul class=\"toc-item\"><li><span><a href=\"#Conformal-Co-ordinates\" data-toc-modified-id=\"Conformal-Co-ordinates-1.2.2.1\"><span class=\"toc-item-num\">1.2.2.1&nbsp;&nbsp;</span>Conformal Co-ordinates</a></span></li></ul></li><li><span><a href=\"#Christoffel-Connection\" data-toc-modified-id=\"Christoffel-Connection-1.2.3\"><span class=\"toc-item-num\">1.2.3&nbsp;&nbsp;</span>Christoffel Connection</a></span></li></ul></li><li><span><a href=\"#Vector-Fields\" data-toc-modified-id=\"Vector-Fields-1.3\"><span class=\"toc-item-num\">1.3&nbsp;&nbsp;</span>Vector Fields</a></span></li><li><span><a href=\"#Vector-Frames-&amp;-Affine-Connections\" data-toc-modified-id=\"Vector-Frames-&amp;-Affine-Connections-1.4\"><span class=\"toc-item-num\">1.4&nbsp;&nbsp;</span>Vector Frames &amp; Affine Connections</a></span><ul class=\"toc-item\"><li><span><a href=\"#Local-Tetrad-for-Schwarzschild\" data-toc-modified-id=\"Local-Tetrad-for-Schwarzschild-1.4.1\"><span class=\"toc-item-num\">1.4.1&nbsp;&nbsp;</span>Local Tetrad for Schwarzschild</a></span></li><li><span><a href=\"#Affine-Connection\" data-toc-modified-id=\"Affine-Connection-1.4.2\"><span class=\"toc-item-num\">1.4.2&nbsp;&nbsp;</span>Affine Connection</a></span></li><li><span><a href=\"#Raising,-Lowering-Indices\" data-toc-modified-id=\"Raising,-Lowering-Indices-1.4.3\"><span class=\"toc-item-num\">1.4.3&nbsp;&nbsp;</span>Raising, Lowering Indices</a></span></li><li><span><a href=\"#Two-Ways-of-Finding-Norm-of-Vector-Field\" data-toc-modified-id=\"Two-Ways-of-Finding-Norm-of-Vector-Field-1.4.4\"><span class=\"toc-item-num\">1.4.4&nbsp;&nbsp;</span>Two Ways of Finding Norm of Vector Field</a></span></li></ul></li></ul></li></ul></div>"
   ]
  },
  {
   "cell_type": "markdown",
   "metadata": {
    "collapsed": true
   },
   "source": [
    "%matplotlib inline"
   ]
  },
  {
   "cell_type": "code",
   "execution_count": 1,
   "metadata": {},
   "outputs": [],
   "source": [
    "%display latex"
   ]
  },
  {
   "cell_type": "markdown",
   "metadata": {},
   "source": [
    "# Implementing SAGE Manifolds in Jupyter Notebook"
   ]
  },
  {
   "cell_type": "markdown",
   "metadata": {},
   "source": [
    "Mathjax custom macros\n",
    "\n",
    "$ \\newcommand{\\opexpect}[3]{\\langle #1 \\vert #2 \\vert #3 \\rangle} $\n",
    "$ \\newcommand{\\rarrow}{\\rightarrow} $\n",
    "$ \\newcommand{\\bra}{\\langle} $\n",
    "$ \\newcommand{\\ket}{\\rangle} $\n",
    "\n",
    "$ \\newcommand{\\up}{\\uparrow} $\n",
    "$ \\newcommand{\\down}{\\downarrow} $\n",
    "\n",
    "$ \\newcommand{\\mb}[1]{\\mathbf{#1}} $\n",
    "$ \\newcommand{\\mc}[1]{\\mathcal{#1}} $\n",
    "$ \\newcommand{\\mbb}[1]{\\mathbb{#1}} $\n",
    "$ \\newcommand{\\mf}[1]{\\mathfrak{#1}} $\n",
    "\n",
    "$ \\newcommand{\\vect}[1]{\\boldsymbol{\\mathrm{#1}}} $\n",
    "$ \\newcommand{\\expect}[1]{\\langle #1\\rangle} $\n",
    "\n",
    "$ \\newcommand{\\innerp}[2]{\\langle #1 \\vert #2 \\rangle} $\n",
    "$ \\newcommand{\\fullbra}[1]{\\langle #1 \\vert} $\n",
    "$ \\newcommand{\\fullket}[1]{\\vert #1 \\rangle} $\n",
    "$ \\newcommand{\\supersc}[1]{^{\\text{#1}}} $\n",
    "$ \\newcommand{\\subsc}[1]{_{\\text{#1}}} $\n",
    "$ \\newcommand{\\sltwoc}{SL(2,\\mathbb{C})} $\n",
    "$ \\newcommand{\\sltwoz}{SL(2,\\mathbb{Z})} $\n",
    "\n",
    "$ \\newcommand{\\utilde}[1]{\\underset{\\sim}{#1}} $"
   ]
  },
  {
   "cell_type": "markdown",
   "metadata": {},
   "source": [
    "## Schwarzschild Black Hole\n",
    "\n",
    "Reference: [Schwarzschild](http://sagemanifolds.obspm.fr/examples/html/SM_sphere_S2.html)"
   ]
  },
  {
   "cell_type": "code",
   "execution_count": 2,
   "metadata": {},
   "outputs": [
    {
     "data": {
      "text/html": [
       "<html><script type=\"math/tex; mode=display\">\\newcommand{\\Bold}[1]{\\mathbf{#1}}M</script></html>"
      ],
      "text/plain": [
       "4-dimensional differentiable manifold M"
      ]
     },
     "execution_count": 2,
     "metadata": {},
     "output_type": "execute_result"
    }
   ],
   "source": [
    "M = Manifold(4,'M'); M"
   ]
  },
  {
   "cell_type": "code",
   "execution_count": 3,
   "metadata": {},
   "outputs": [
    {
     "data": {
      "text/html": [
       "<html><script type=\"math/tex; mode=display\">\\newcommand{\\Bold}[1]{\\mathbf{#1}}\\left(M,(t, r, \\theta, \\phi)\\right)</script></html>"
      ],
      "text/plain": [
       "Chart (M, (t, r, theta, phi))"
      ]
     },
     "execution_count": 3,
     "metadata": {},
     "output_type": "execute_result"
    }
   ],
   "source": [
    "chart.<t,r,theta,phi> = M.chart(); chart"
   ]
  },
  {
   "cell_type": "code",
   "execution_count": 4,
   "metadata": {},
   "outputs": [
    {
     "data": {
      "text/html": [
       "<html><script type=\"math/tex; mode=display\">\\newcommand{\\Bold}[1]{\\mathbf{#1}}g2</script></html>"
      ],
      "text/plain": [
       "Lorentzian metric g2 on the 4-dimensional differentiable manifold M"
      ]
     },
     "execution_count": 4,
     "metadata": {},
     "output_type": "execute_result"
    }
   ],
   "source": [
    "g2 = M.lorentzian_metric('g2'); g2"
   ]
  },
  {
   "cell_type": "markdown",
   "metadata": {},
   "source": [
    "### Schwarzschild Parameter Definitions\n",
    "\n",
    "Schwarzschild Radius: $r_s$\n",
    "Black hole mass: $M$\n",
    "Newton's Constant: $G_N$\n",
    "Speed of light: $c$"
   ]
  },
  {
   "cell_type": "code",
   "execution_count": 5,
   "metadata": {},
   "outputs": [
    {
     "data": {
      "text/html": [
       "<html><script type=\"math/tex; mode=display\">\\newcommand{\\Bold}[1]{\\mathbf{#1}}\\left(M, G_{N}, r_{s}, c\\right)</script></html>"
      ],
      "text/plain": [
       "(M, G_N, r_s, c)"
      ]
     },
     "execution_count": 5,
     "metadata": {},
     "output_type": "execute_result"
    }
   ],
   "source": [
    "var('M G_N r_s c')"
   ]
  },
  {
   "cell_type": "markdown",
   "metadata": {},
   "source": [
    "### Define Metric Elements"
   ]
  },
  {
   "cell_type": "code",
   "execution_count": 6,
   "metadata": {},
   "outputs": [
    {
     "data": {
      "text/html": [
       "<html><script type=\"math/tex; mode=display\">\\newcommand{\\Bold}[1]{\\mathbf{#1}}g2 = -c^{2} {\\left(\\frac{r_{s}}{r} - 1\\right)} \\mathrm{d} t\\otimes \\mathrm{d} t + \\left( -\\frac{1}{\\frac{r_{s}}{r} - 1} \\right) \\mathrm{d} r\\otimes \\mathrm{d} r + r^{2} \\mathrm{d} \\theta\\otimes \\mathrm{d} \\theta + r^{2} \\sin\\left(\\theta\\right)^{2} \\mathrm{d} \\phi\\otimes \\mathrm{d} \\phi</script></html>"
      ],
      "text/plain": [
       "g2 = -c^2*(r_s/r - 1) dt*dt - 1/(r_s/r - 1) dr*dr + r^2 dtheta*dtheta + r^2*sin(theta)^2 dphi*dphi"
      ]
     },
     "execution_count": 6,
     "metadata": {},
     "output_type": "execute_result"
    }
   ],
   "source": [
    "g2[0,0] = (1 - r_s/r)*(c**2)\n",
    "g2[1,1] = 1/(1-r_s/r)\n",
    "g2[2,2] = r**2\n",
    "g2[3,3] = r**2 * (sin(theta))^2\n",
    "g2.display()"
   ]
  },
  {
   "cell_type": "markdown",
   "metadata": {},
   "source": [
    "### Christoffel Connection"
   ]
  },
  {
   "cell_type": "code",
   "execution_count": 7,
   "metadata": {},
   "outputs": [
    {
     "data": {
      "text/html": [
       "<html><script type=\"math/tex; mode=display\">\\newcommand{\\Bold}[1]{\\mathbf{#1}}\\verb|3-indices|\\phantom{\\verb!x!}\\verb|components|\\phantom{\\verb!x!}\\verb|w.r.t.|\\phantom{\\verb!x!}\\verb|Coordinate|\\phantom{\\verb!x!}\\verb|frame|\\phantom{\\verb!x!}\\verb|(M,|\\phantom{\\verb!x!}\\verb|(d/dt,d/dr,d/dtheta,d/dphi)),|\\phantom{\\verb!x!}\\verb|with|\\phantom{\\verb!x!}\\verb|symmetry|\\phantom{\\verb!x!}\\verb|on|\\phantom{\\verb!x!}\\verb|the|\\phantom{\\verb!x!}\\verb|index|\\phantom{\\verb!x!}\\verb|positions|\\phantom{\\verb!x!}\\verb|(1,|\\phantom{\\verb!x!}\\verb|2)|</script></html>"
      ],
      "text/plain": [
       "3-indices components w.r.t. Coordinate frame (M, (d/dt,d/dr,d/dtheta,d/dphi)), with symmetry on the index positions (1, 2)"
      ]
     },
     "execution_count": 7,
     "metadata": {},
     "output_type": "execute_result"
    }
   ],
   "source": [
    "christoffels = g2.christoffel_symbols();\n",
    "christoffels"
   ]
  },
  {
   "cell_type": "code",
   "execution_count": 8,
   "metadata": {},
   "outputs": [
    {
     "data": {
      "text/html": [
       "<html><script type=\"math/tex; mode=display\">\\newcommand{\\Bold}[1]{\\mathbf{#1}}\\begin{array}{lcl} \\Gamma_{\\,0\\,0\\,1}^{\\phantom{\\, 0}\\phantom{\\, 0}\\phantom{\\, 1}} & = & \\frac{r_{s}}{2 \\, {\\left(r^{2} - r r_{s}\\right)}} \\\\ \\Gamma_{\\,0\\,1\\,0}^{\\phantom{\\, 0}\\phantom{\\, 1}\\phantom{\\, 0}} & = & \\frac{r_{s}}{2 \\, {\\left(r^{2} - r r_{s}\\right)}} \\\\ \\Gamma_{\\,1\\,0\\,0}^{\\phantom{\\, 1}\\phantom{\\, 0}\\phantom{\\, 0}} & = & -\\frac{c^{2} r r_{s} - c^{2} r_{s}^{2}}{2 \\, r^{3}} \\\\ \\Gamma_{\\,1\\,1\\,1}^{\\phantom{\\, 1}\\phantom{\\, 1}\\phantom{\\, 1}} & = & -\\frac{r_{s}}{2 \\, {\\left(r^{2} - r r_{s}\\right)}} \\\\ \\Gamma_{\\,1\\,2\\,2}^{\\phantom{\\, 1}\\phantom{\\, 2}\\phantom{\\, 2}} & = & -r + r_{s} \\\\ \\Gamma_{\\,1\\,3\\,3}^{\\phantom{\\, 1}\\phantom{\\, 3}\\phantom{\\, 3}} & = & -{\\left(r - r_{s}\\right)} \\sin\\left(\\theta\\right)^{2} \\\\ \\Gamma_{\\,2\\,1\\,2}^{\\phantom{\\, 2}\\phantom{\\, 1}\\phantom{\\, 2}} & = & \\frac{1}{r} \\\\ \\Gamma_{\\,2\\,2\\,1}^{\\phantom{\\, 2}\\phantom{\\, 2}\\phantom{\\, 1}} & = & \\frac{1}{r} \\\\ \\Gamma_{\\,2\\,3\\,3}^{\\phantom{\\, 2}\\phantom{\\, 3}\\phantom{\\, 3}} & = & -\\cos\\left(\\theta\\right) \\sin\\left(\\theta\\right) \\\\ \\Gamma_{\\,3\\,1\\,3}^{\\phantom{\\, 3}\\phantom{\\, 1}\\phantom{\\, 3}} & = & \\frac{1}{r} \\\\ \\Gamma_{\\,3\\,2\\,3}^{\\phantom{\\, 3}\\phantom{\\, 2}\\phantom{\\, 3}} & = & \\frac{\\cos\\left(\\theta\\right)}{\\sin\\left(\\theta\\right)} \\\\ \\Gamma_{\\,3\\,3\\,1}^{\\phantom{\\, 3}\\phantom{\\, 3}\\phantom{\\, 1}} & = & \\frac{1}{r} \\\\ \\Gamma_{\\,3\\,3\\,2}^{\\phantom{\\, 3}\\phantom{\\, 3}\\phantom{\\, 2}} & = & \\frac{\\cos\\left(\\theta\\right)}{\\sin\\left(\\theta\\right)} \\end{array}</script></html>"
      ],
      "text/plain": [
       "\\Gamma_001 = 1/2*r_s/(r^2 - r*r_s) \n",
       "\\Gamma_010 = 1/2*r_s/(r^2 - r*r_s) \n",
       "\\Gamma_100 = -1/2*(c^2*r*r_s - c^2*r_s^2)/r^3 \n",
       "\\Gamma_111 = -1/2*r_s/(r^2 - r*r_s) \n",
       "\\Gamma_122 = -r + r_s \n",
       "\\Gamma_133 = -(r - r_s)*sin(theta)^2 \n",
       "\\Gamma_212 = 1/r \n",
       "\\Gamma_221 = 1/r \n",
       "\\Gamma_233 = -cos(theta)*sin(theta) \n",
       "\\Gamma_313 = 1/r \n",
       "\\Gamma_323 = cos(theta)/sin(theta) \n",
       "\\Gamma_331 = 1/r \n",
       "\\Gamma_332 = cos(theta)/sin(theta) "
      ]
     },
     "execution_count": 8,
     "metadata": {},
     "output_type": "execute_result"
    }
   ],
   "source": [
    "christoffels.display('\\Gamma')"
   ]
  },
  {
   "cell_type": "code",
   "execution_count": 102,
   "metadata": {},
   "outputs": [
    {
     "data": {
      "text/html": [
       "<html><script type=\"math/tex; mode=display\">\\newcommand{\\Bold}[1]{\\mathbf{#1}}g2^{-1}</script></html>"
      ],
      "text/plain": [
       "Tensor field inv_g2 of type (2,0) on the 4-dimensional differentiable manifold M"
      ]
     },
     "execution_count": 102,
     "metadata": {},
     "output_type": "execute_result"
    }
   ],
   "source": [
    "g_inv = g2.inverse()\n",
    "g_inv"
   ]
  },
  {
   "cell_type": "code",
   "execution_count": 103,
   "metadata": {},
   "outputs": [
    {
     "data": {
      "text/html": [
       "<html><script type=\"math/tex; mode=display\">\\newcommand{\\Bold}[1]{\\mathbf{#1}}g2^{-1} = \\left( \\frac{r}{c^{2} r - c^{2} r_{s}} \\right) \\frac{\\partial}{\\partial t }\\otimes \\frac{\\partial}{\\partial t } + \\left( \\frac{r - r_{s}}{r} \\right) \\frac{\\partial}{\\partial r }\\otimes \\frac{\\partial}{\\partial r } + \\frac{1}{r^{2}} \\frac{\\partial}{\\partial \\theta }\\otimes \\frac{\\partial}{\\partial \\theta } + \\frac{1}{r^{2} \\sin\\left(\\theta\\right)^{2}} \\frac{\\partial}{\\partial \\phi }\\otimes \\frac{\\partial}{\\partial \\phi }</script></html>"
      ],
      "text/plain": [
       "inv_g2 = r/(c^2*r - c^2*r_s) d/dt*d/dt + (r - r_s)/r d/dr*d/dr + r^(-2) d/dtheta*d/dtheta + 1/(r^2*sin(theta)^2) d/dphi*d/dphi"
      ]
     },
     "execution_count": 103,
     "metadata": {},
     "output_type": "execute_result"
    }
   ],
   "source": [
    "g_inv.display()"
   ]
  },
  {
   "cell_type": "code",
   "execution_count": 109,
   "metadata": {},
   "outputs": [
    {
     "data": {
      "text/html": [
       "<html><script type=\"math/tex; mode=display\">\\newcommand{\\Bold}[1]{\\mathbf{#1}}\\mbox{Tensor field of type (1,1) on the 4-dimensional differentiable manifold M}</script></html>"
      ],
      "text/plain": [
       "Tensor field of type (1,1) on the 4-dimensional differentiable manifold M"
      ]
     },
     "execution_count": 109,
     "metadata": {},
     "output_type": "execute_result"
    }
   ],
   "source": [
    "g_inv.contract(0,g2,0)"
   ]
  },
  {
   "cell_type": "code",
   "execution_count": 110,
   "metadata": {},
   "outputs": [
    {
     "data": {
      "text/html": [
       "<html><script type=\"math/tex; mode=display\">\\newcommand{\\Bold}[1]{\\mathbf{#1}}\\frac{\\partial}{\\partial t }\\otimes \\mathrm{d} t+\\frac{\\partial}{\\partial r }\\otimes \\mathrm{d} r+\\frac{\\partial}{\\partial \\theta }\\otimes \\mathrm{d} \\theta+\\frac{\\partial}{\\partial \\phi }\\otimes \\mathrm{d} \\phi</script></html>"
      ],
      "text/plain": [
       "d/dt*dt + d/dr*dr + d/dtheta*dtheta + d/dphi*dphi"
      ]
     },
     "execution_count": 110,
     "metadata": {},
     "output_type": "execute_result"
    }
   ],
   "source": [
    "_109.display()"
   ]
  },
  {
   "cell_type": "code",
   "execution_count": 9,
   "metadata": {},
   "outputs": [],
   "source": [
    "levicivita = g2.connection()"
   ]
  },
  {
   "cell_type": "code",
   "execution_count": 114,
   "metadata": {},
   "outputs": [
    {
     "data": {
      "text/html": [
       "<html><script type=\"math/tex; mode=display\">\\newcommand{\\Bold}[1]{\\mathbf{#1}}\\verb|<class|\\phantom{\\verb!x!}\\verb|'sage.manifolds.differentiable.affine_connection.AffineConnection'>|</script></html>"
      ],
      "text/plain": [
       "<class 'sage.manifolds.differentiable.affine_connection.AffineConnection'>"
      ]
     },
     "execution_count": 114,
     "metadata": {},
     "output_type": "execute_result"
    }
   ],
   "source": [
    "type(nab)"
   ]
  },
  {
   "cell_type": "code",
   "execution_count": 10,
   "metadata": {},
   "outputs": [
    {
     "data": {
      "text/html": [
       "<html><script type=\"math/tex; mode=display\">\\newcommand{\\Bold}[1]{\\mathbf{#1}}\\verb|<class|\\phantom{\\verb!x!}\\verb|'sage.manifolds.differentiable.levi_civita_connection.LeviCivitaConnection'>|</script></html>"
      ],
      "text/plain": [
       "<class 'sage.manifolds.differentiable.levi_civita_connection.LeviCivitaConnection'>"
      ]
     },
     "execution_count": 10,
     "metadata": {},
     "output_type": "execute_result"
    }
   ],
   "source": [
    "type(levicivita)"
   ]
  },
  {
   "cell_type": "code",
   "execution_count": 11,
   "metadata": {},
   "outputs": [],
   "source": [
    "nab = levicivita"
   ]
  },
  {
   "cell_type": "code",
   "execution_count": 12,
   "metadata": {},
   "outputs": [
    {
     "data": {
      "text/html": [
       "<html><script type=\"math/tex; mode=display\">\\newcommand{\\Bold}[1]{\\mathbf{#1}}\\begin{array}{lcl} \\Gamma_{ \\phantom{\\, t} \\, t \\, r }^{ \\, t \\phantom{\\, t} \\phantom{\\, r} } & = & \\frac{r_{s}}{2 \\, {\\left(r^{2} - r r_{s}\\right)}} \\\\ \\Gamma_{ \\phantom{\\, t} \\, r \\, t }^{ \\, t \\phantom{\\, r} \\phantom{\\, t} } & = & \\frac{r_{s}}{2 \\, {\\left(r^{2} - r r_{s}\\right)}} \\\\ \\Gamma_{ \\phantom{\\, r} \\, t \\, t }^{ \\, r \\phantom{\\, t} \\phantom{\\, t} } & = & -\\frac{c^{2} r r_{s} - c^{2} r_{s}^{2}}{2 \\, r^{3}} \\\\ \\Gamma_{ \\phantom{\\, r} \\, r \\, r }^{ \\, r \\phantom{\\, r} \\phantom{\\, r} } & = & -\\frac{r_{s}}{2 \\, {\\left(r^{2} - r r_{s}\\right)}} \\\\ \\Gamma_{ \\phantom{\\, r} \\, \\theta \\, \\theta }^{ \\, r \\phantom{\\, \\theta} \\phantom{\\, \\theta} } & = & -r + r_{s} \\\\ \\Gamma_{ \\phantom{\\, r} \\, \\phi \\, \\phi }^{ \\, r \\phantom{\\, \\phi} \\phantom{\\, \\phi} } & = & -{\\left(r - r_{s}\\right)} \\sin\\left(\\theta\\right)^{2} \\\\ \\Gamma_{ \\phantom{\\, \\theta} \\, r \\, \\theta }^{ \\, \\theta \\phantom{\\, r} \\phantom{\\, \\theta} } & = & \\frac{1}{r} \\\\ \\Gamma_{ \\phantom{\\, \\theta} \\, \\theta \\, r }^{ \\, \\theta \\phantom{\\, \\theta} \\phantom{\\, r} } & = & \\frac{1}{r} \\\\ \\Gamma_{ \\phantom{\\, \\theta} \\, \\phi \\, \\phi }^{ \\, \\theta \\phantom{\\, \\phi} \\phantom{\\, \\phi} } & = & -\\cos\\left(\\theta\\right) \\sin\\left(\\theta\\right) \\\\ \\Gamma_{ \\phantom{\\, \\phi} \\, r \\, \\phi }^{ \\, \\phi \\phantom{\\, r} \\phantom{\\, \\phi} } & = & \\frac{1}{r} \\\\ \\Gamma_{ \\phantom{\\, \\phi} \\, \\theta \\, \\phi }^{ \\, \\phi \\phantom{\\, \\theta} \\phantom{\\, \\phi} } & = & \\frac{\\cos\\left(\\theta\\right)}{\\sin\\left(\\theta\\right)} \\\\ \\Gamma_{ \\phantom{\\, \\phi} \\, \\phi \\, r }^{ \\, \\phi \\phantom{\\, \\phi} \\phantom{\\, r} } & = & \\frac{1}{r} \\\\ \\Gamma_{ \\phantom{\\, \\phi} \\, \\phi \\, \\theta }^{ \\, \\phi \\phantom{\\, \\phi} \\phantom{\\, \\theta} } & = & \\frac{\\cos\\left(\\theta\\right)}{\\sin\\left(\\theta\\right)} \\end{array}</script></html>"
      ],
      "text/plain": [
       "Gam^t_t,r = 1/2*r_s/(r^2 - r*r_s) \n",
       "Gam^t_r,t = 1/2*r_s/(r^2 - r*r_s) \n",
       "Gam^r_t,t = -1/2*(c^2*r*r_s - c^2*r_s^2)/r^3 \n",
       "Gam^r_r,r = -1/2*r_s/(r^2 - r*r_s) \n",
       "Gam^r_theta,theta = -r + r_s \n",
       "Gam^r_phi,phi = -(r - r_s)*sin(theta)^2 \n",
       "Gam^theta_r,theta = 1/r \n",
       "Gam^theta_theta,r = 1/r \n",
       "Gam^theta_phi,phi = -cos(theta)*sin(theta) \n",
       "Gam^phi_r,phi = 1/r \n",
       "Gam^phi_theta,phi = cos(theta)/sin(theta) \n",
       "Gam^phi_phi,r = 1/r \n",
       "Gam^phi_phi,theta = cos(theta)/sin(theta) "
      ]
     },
     "execution_count": 12,
     "metadata": {},
     "output_type": "execute_result"
    }
   ],
   "source": [
    "nab.display()"
   ]
  },
  {
   "cell_type": "markdown",
   "metadata": {},
   "source": [
    "### Taking traces"
   ]
  },
  {
   "cell_type": "code",
   "execution_count": 13,
   "metadata": {},
   "outputs": [
    {
     "data": {
      "text/html": [
       "<html><script type=\"math/tex; mode=display\">\\newcommand{\\Bold}[1]{\\mathbf{#1}}\\verb|1-index|\\phantom{\\verb!x!}\\verb|components|\\phantom{\\verb!x!}\\verb|w.r.t.|\\phantom{\\verb!x!}\\verb|Coordinate|\\phantom{\\verb!x!}\\verb|frame|\\phantom{\\verb!x!}\\verb|(M,|\\phantom{\\verb!x!}\\verb|(d/dt,d/dr,d/dtheta,d/dphi))|</script></html>"
      ],
      "text/plain": [
       "1-index components w.r.t. Coordinate frame (M, (d/dt,d/dr,d/dtheta,d/dphi))"
      ]
     },
     "execution_count": 13,
     "metadata": {},
     "output_type": "execute_result"
    }
   ],
   "source": [
    "christoffels.trace(0,1)"
   ]
  },
  {
   "cell_type": "markdown",
   "metadata": {},
   "source": [
    "### Riemann Tensor"
   ]
  },
  {
   "cell_type": "code",
   "execution_count": 14,
   "metadata": {
    "collapsed": true
   },
   "outputs": [],
   "source": [
    "riemann = g2.riemann()"
   ]
  },
  {
   "cell_type": "code",
   "execution_count": 15,
   "metadata": {},
   "outputs": [
    {
     "data": {
      "text/html": [
       "<html><script type=\"math/tex; mode=display\">\\newcommand{\\Bold}[1]{\\mathbf{#1}}\\mathrm{Riem}\\left(g2\\right)</script></html>"
      ],
      "text/plain": [
       "Tensor field Riem(g2) of type (1,3) on the 4-dimensional differentiable manifold M"
      ]
     },
     "execution_count": 15,
     "metadata": {},
     "output_type": "execute_result"
    }
   ],
   "source": [
    "riemann"
   ]
  },
  {
   "cell_type": "code",
   "execution_count": 16,
   "metadata": {},
   "outputs": [
    {
     "data": {
      "text/html": [
       "<html><script type=\"math/tex; mode=display\">\\newcommand{\\Bold}[1]{\\mathbf{#1}}\\verb|<class|\\phantom{\\verb!x!}\\verb|'sage.manifolds.differentiable.tensorfield_paral.TensorFieldFreeModule_with_category.element_class'>|</script></html>"
      ],
      "text/plain": [
       "<class 'sage.manifolds.differentiable.tensorfield_paral.TensorFieldFreeModule_with_category.element_class'>"
      ]
     },
     "execution_count": 16,
     "metadata": {},
     "output_type": "execute_result"
    }
   ],
   "source": [
    "type(riemann)"
   ]
  },
  {
   "cell_type": "code",
   "execution_count": 17,
   "metadata": {},
   "outputs": [
    {
     "data": {
      "text/html": [
       "<html><script type=\"math/tex; mode=display\">\\newcommand{\\Bold}[1]{\\mathbf{#1}}\\mathrm{Riem}\\left(g2\\right) = \\left( \\frac{r_{s}}{r^{3} - r^{2} r_{s}} \\right) \\frac{\\partial}{\\partial t }\\otimes \\mathrm{d} r\\otimes \\mathrm{d} t\\otimes \\mathrm{d} r + \\left( -\\frac{r_{s}}{r^{3} - r^{2} r_{s}} \\right) \\frac{\\partial}{\\partial t }\\otimes \\mathrm{d} r\\otimes \\mathrm{d} r\\otimes \\mathrm{d} t -\\frac{r_{s}}{2 \\, r} \\frac{\\partial}{\\partial t }\\otimes \\mathrm{d} \\theta\\otimes \\mathrm{d} t\\otimes \\mathrm{d} \\theta + \\frac{r_{s}}{2 \\, r} \\frac{\\partial}{\\partial t }\\otimes \\mathrm{d} \\theta\\otimes \\mathrm{d} \\theta\\otimes \\mathrm{d} t -\\frac{r_{s} \\sin\\left(\\theta\\right)^{2}}{2 \\, r} \\frac{\\partial}{\\partial t }\\otimes \\mathrm{d} \\phi\\otimes \\mathrm{d} t\\otimes \\mathrm{d} \\phi + \\frac{r_{s} \\sin\\left(\\theta\\right)^{2}}{2 \\, r} \\frac{\\partial}{\\partial t }\\otimes \\mathrm{d} \\phi\\otimes \\mathrm{d} \\phi\\otimes \\mathrm{d} t + \\left( -\\frac{c^{2} r r_{s} - c^{2} r_{s}^{2}}{r^{4}} \\right) \\frac{\\partial}{\\partial r }\\otimes \\mathrm{d} t\\otimes \\mathrm{d} t\\otimes \\mathrm{d} r + \\left( \\frac{c^{2} r r_{s} - c^{2} r_{s}^{2}}{r^{4}} \\right) \\frac{\\partial}{\\partial r }\\otimes \\mathrm{d} t\\otimes \\mathrm{d} r\\otimes \\mathrm{d} t -\\frac{r_{s}}{2 \\, r} \\frac{\\partial}{\\partial r }\\otimes \\mathrm{d} \\theta\\otimes \\mathrm{d} r\\otimes \\mathrm{d} \\theta + \\frac{r_{s}}{2 \\, r} \\frac{\\partial}{\\partial r }\\otimes \\mathrm{d} \\theta\\otimes \\mathrm{d} \\theta\\otimes \\mathrm{d} r -\\frac{r_{s} \\sin\\left(\\theta\\right)^{2}}{2 \\, r} \\frac{\\partial}{\\partial r }\\otimes \\mathrm{d} \\phi\\otimes \\mathrm{d} r\\otimes \\mathrm{d} \\phi + \\frac{r_{s} \\sin\\left(\\theta\\right)^{2}}{2 \\, r} \\frac{\\partial}{\\partial r }\\otimes \\mathrm{d} \\phi\\otimes \\mathrm{d} \\phi\\otimes \\mathrm{d} r + \\left( \\frac{c^{2} r r_{s} - c^{2} r_{s}^{2}}{2 \\, r^{4}} \\right) \\frac{\\partial}{\\partial \\theta }\\otimes \\mathrm{d} t\\otimes \\mathrm{d} t\\otimes \\mathrm{d} \\theta + \\left( -\\frac{c^{2} r r_{s} - c^{2} r_{s}^{2}}{2 \\, r^{4}} \\right) \\frac{\\partial}{\\partial \\theta }\\otimes \\mathrm{d} t\\otimes \\mathrm{d} \\theta\\otimes \\mathrm{d} t + \\frac{r_{s}}{2 \\, {\\left(r^{3} - r^{2} r_{s}\\right)}} \\frac{\\partial}{\\partial \\theta }\\otimes \\mathrm{d} r\\otimes \\mathrm{d} r\\otimes \\mathrm{d} \\theta -\\frac{r_{s}}{2 \\, {\\left(r^{3} - r^{2} r_{s}\\right)}} \\frac{\\partial}{\\partial \\theta }\\otimes \\mathrm{d} r\\otimes \\mathrm{d} \\theta\\otimes \\mathrm{d} r + \\frac{r_{s} \\sin\\left(\\theta\\right)^{2}}{r} \\frac{\\partial}{\\partial \\theta }\\otimes \\mathrm{d} \\phi\\otimes \\mathrm{d} \\theta\\otimes \\mathrm{d} \\phi -\\frac{r_{s} \\sin\\left(\\theta\\right)^{2}}{r} \\frac{\\partial}{\\partial \\theta }\\otimes \\mathrm{d} \\phi\\otimes \\mathrm{d} \\phi\\otimes \\mathrm{d} \\theta + \\left( \\frac{c^{2} r r_{s} - c^{2} r_{s}^{2}}{2 \\, r^{4}} \\right) \\frac{\\partial}{\\partial \\phi }\\otimes \\mathrm{d} t\\otimes \\mathrm{d} t\\otimes \\mathrm{d} \\phi + \\left( -\\frac{c^{2} r r_{s} - c^{2} r_{s}^{2}}{2 \\, r^{4}} \\right) \\frac{\\partial}{\\partial \\phi }\\otimes \\mathrm{d} t\\otimes \\mathrm{d} \\phi\\otimes \\mathrm{d} t + \\frac{r_{s}}{2 \\, {\\left(r^{3} - r^{2} r_{s}\\right)}} \\frac{\\partial}{\\partial \\phi }\\otimes \\mathrm{d} r\\otimes \\mathrm{d} r\\otimes \\mathrm{d} \\phi -\\frac{r_{s}}{2 \\, {\\left(r^{3} - r^{2} r_{s}\\right)}} \\frac{\\partial}{\\partial \\phi }\\otimes \\mathrm{d} r\\otimes \\mathrm{d} \\phi\\otimes \\mathrm{d} r -\\frac{r_{s}}{r} \\frac{\\partial}{\\partial \\phi }\\otimes \\mathrm{d} \\theta\\otimes \\mathrm{d} \\theta\\otimes \\mathrm{d} \\phi + \\frac{r_{s}}{r} \\frac{\\partial}{\\partial \\phi }\\otimes \\mathrm{d} \\theta\\otimes \\mathrm{d} \\phi\\otimes \\mathrm{d} \\theta</script></html>"
      ],
      "text/plain": [
       "Riem(g2) = r_s/(r^3 - r^2*r_s) d/dt*dr*dt*dr - r_s/(r^3 - r^2*r_s) d/dt*dr*dr*dt - 1/2*r_s/r d/dt*dtheta*dt*dtheta + 1/2*r_s/r d/dt*dtheta*dtheta*dt - 1/2*r_s*sin(theta)^2/r d/dt*dphi*dt*dphi + 1/2*r_s*sin(theta)^2/r d/dt*dphi*dphi*dt - (c^2*r*r_s - c^2*r_s^2)/r^4 d/dr*dt*dt*dr + (c^2*r*r_s - c^2*r_s^2)/r^4 d/dr*dt*dr*dt - 1/2*r_s/r d/dr*dtheta*dr*dtheta + 1/2*r_s/r d/dr*dtheta*dtheta*dr - 1/2*r_s*sin(theta)^2/r d/dr*dphi*dr*dphi + 1/2*r_s*sin(theta)^2/r d/dr*dphi*dphi*dr + 1/2*(c^2*r*r_s - c^2*r_s^2)/r^4 d/dtheta*dt*dt*dtheta - 1/2*(c^2*r*r_s - c^2*r_s^2)/r^4 d/dtheta*dt*dtheta*dt + 1/2*r_s/(r^3 - r^2*r_s) d/dtheta*dr*dr*dtheta - 1/2*r_s/(r^3 - r^2*r_s) d/dtheta*dr*dtheta*dr + r_s*sin(theta)^2/r d/dtheta*dphi*dtheta*dphi - r_s*sin(theta)^2/r d/dtheta*dphi*dphi*dtheta + 1/2*(c^2*r*r_s - c^2*r_s^2)/r^4 d/dphi*dt*dt*dphi - 1/2*(c^2*r*r_s - c^2*r_s^2)/r^4 d/dphi*dt*dphi*dt + 1/2*r_s/(r^3 - r^2*r_s) d/dphi*dr*dr*dphi - 1/2*r_s/(r^3 - r^2*r_s) d/dphi*dr*dphi*dr - r_s/r d/dphi*dtheta*dtheta*dphi + r_s/r d/dphi*dtheta*dphi*dtheta"
      ]
     },
     "execution_count": 17,
     "metadata": {},
     "output_type": "execute_result"
    }
   ],
   "source": [
    "riemann.display()"
   ]
  },
  {
   "cell_type": "code",
   "execution_count": 18,
   "metadata": {},
   "outputs": [
    {
     "data": {
      "text/html": [
       "<html><script type=\"math/tex; mode=display\">\\newcommand{\\Bold}[1]{\\mathbf{#1}}\\begin{array}{lcl} R_{\\,0\\,1\\,0\\,1}^{\\phantom{\\, 0}\\phantom{\\, 1}\\phantom{\\, 0}\\phantom{\\, 1}} & = & \\frac{r_{s}}{r^{3} - r^{2} r_{s}} \\\\ R_{\\,0\\,1\\,1\\,0}^{\\phantom{\\, 0}\\phantom{\\, 1}\\phantom{\\, 1}\\phantom{\\, 0}} & = & -\\frac{r_{s}}{r^{3} - r^{2} r_{s}} \\\\ R_{\\,0\\,2\\,0\\,2}^{\\phantom{\\, 0}\\phantom{\\, 2}\\phantom{\\, 0}\\phantom{\\, 2}} & = & -\\frac{r_{s}}{2 \\, r} \\\\ R_{\\,0\\,2\\,2\\,0}^{\\phantom{\\, 0}\\phantom{\\, 2}\\phantom{\\, 2}\\phantom{\\, 0}} & = & \\frac{r_{s}}{2 \\, r} \\\\ R_{\\,0\\,3\\,0\\,3}^{\\phantom{\\, 0}\\phantom{\\, 3}\\phantom{\\, 0}\\phantom{\\, 3}} & = & -\\frac{r_{s} \\sin\\left(\\theta\\right)^{2}}{2 \\, r} \\\\ R_{\\,0\\,3\\,3\\,0}^{\\phantom{\\, 0}\\phantom{\\, 3}\\phantom{\\, 3}\\phantom{\\, 0}} & = & \\frac{r_{s} \\sin\\left(\\theta\\right)^{2}}{2 \\, r} \\\\ R_{\\,1\\,0\\,0\\,1}^{\\phantom{\\, 1}\\phantom{\\, 0}\\phantom{\\, 0}\\phantom{\\, 1}} & = & -\\frac{c^{2} r r_{s} - c^{2} r_{s}^{2}}{r^{4}} \\\\ R_{\\,1\\,0\\,1\\,0}^{\\phantom{\\, 1}\\phantom{\\, 0}\\phantom{\\, 1}\\phantom{\\, 0}} & = & \\frac{c^{2} r r_{s} - c^{2} r_{s}^{2}}{r^{4}} \\\\ R_{\\,1\\,2\\,1\\,2}^{\\phantom{\\, 1}\\phantom{\\, 2}\\phantom{\\, 1}\\phantom{\\, 2}} & = & -\\frac{r_{s}}{2 \\, r} \\\\ R_{\\,1\\,2\\,2\\,1}^{\\phantom{\\, 1}\\phantom{\\, 2}\\phantom{\\, 2}\\phantom{\\, 1}} & = & \\frac{r_{s}}{2 \\, r} \\\\ R_{\\,1\\,3\\,1\\,3}^{\\phantom{\\, 1}\\phantom{\\, 3}\\phantom{\\, 1}\\phantom{\\, 3}} & = & -\\frac{r_{s} \\sin\\left(\\theta\\right)^{2}}{2 \\, r} \\\\ R_{\\,1\\,3\\,3\\,1}^{\\phantom{\\, 1}\\phantom{\\, 3}\\phantom{\\, 3}\\phantom{\\, 1}} & = & \\frac{r_{s} \\sin\\left(\\theta\\right)^{2}}{2 \\, r} \\\\ R_{\\,2\\,0\\,0\\,2}^{\\phantom{\\, 2}\\phantom{\\, 0}\\phantom{\\, 0}\\phantom{\\, 2}} & = & \\frac{c^{2} r r_{s} - c^{2} r_{s}^{2}}{2 \\, r^{4}} \\\\ R_{\\,2\\,0\\,2\\,0}^{\\phantom{\\, 2}\\phantom{\\, 0}\\phantom{\\, 2}\\phantom{\\, 0}} & = & -\\frac{c^{2} r r_{s} - c^{2} r_{s}^{2}}{2 \\, r^{4}} \\\\ R_{\\,2\\,1\\,1\\,2}^{\\phantom{\\, 2}\\phantom{\\, 1}\\phantom{\\, 1}\\phantom{\\, 2}} & = & \\frac{r_{s}}{2 \\, {\\left(r^{3} - r^{2} r_{s}\\right)}} \\\\ R_{\\,2\\,1\\,2\\,1}^{\\phantom{\\, 2}\\phantom{\\, 1}\\phantom{\\, 2}\\phantom{\\, 1}} & = & -\\frac{r_{s}}{2 \\, {\\left(r^{3} - r^{2} r_{s}\\right)}} \\\\ R_{\\,2\\,3\\,2\\,3}^{\\phantom{\\, 2}\\phantom{\\, 3}\\phantom{\\, 2}\\phantom{\\, 3}} & = & \\frac{r_{s} \\sin\\left(\\theta\\right)^{2}}{r} \\\\ R_{\\,2\\,3\\,3\\,2}^{\\phantom{\\, 2}\\phantom{\\, 3}\\phantom{\\, 3}\\phantom{\\, 2}} & = & -\\frac{r_{s} \\sin\\left(\\theta\\right)^{2}}{r} \\\\ R_{\\,3\\,0\\,0\\,3}^{\\phantom{\\, 3}\\phantom{\\, 0}\\phantom{\\, 0}\\phantom{\\, 3}} & = & \\frac{c^{2} r r_{s} - c^{2} r_{s}^{2}}{2 \\, r^{4}} \\\\ R_{\\,3\\,0\\,3\\,0}^{\\phantom{\\, 3}\\phantom{\\, 0}\\phantom{\\, 3}\\phantom{\\, 0}} & = & -\\frac{c^{2} r r_{s} - c^{2} r_{s}^{2}}{2 \\, r^{4}} \\\\ R_{\\,3\\,1\\,1\\,3}^{\\phantom{\\, 3}\\phantom{\\, 1}\\phantom{\\, 1}\\phantom{\\, 3}} & = & \\frac{r_{s}}{2 \\, {\\left(r^{3} - r^{2} r_{s}\\right)}} \\\\ R_{\\,3\\,1\\,3\\,1}^{\\phantom{\\, 3}\\phantom{\\, 1}\\phantom{\\, 3}\\phantom{\\, 1}} & = & -\\frac{r_{s}}{2 \\, {\\left(r^{3} - r^{2} r_{s}\\right)}} \\\\ R_{\\,3\\,2\\,2\\,3}^{\\phantom{\\, 3}\\phantom{\\, 2}\\phantom{\\, 2}\\phantom{\\, 3}} & = & -\\frac{r_{s}}{r} \\\\ R_{\\,3\\,2\\,3\\,2}^{\\phantom{\\, 3}\\phantom{\\, 2}\\phantom{\\, 3}\\phantom{\\, 2}} & = & \\frac{r_{s}}{r} \\end{array}</script></html>"
      ],
      "text/plain": [
       "R_0101 = r_s/(r^3 - r^2*r_s) \n",
       "R_0110 = -r_s/(r^3 - r^2*r_s) \n",
       "R_0202 = -1/2*r_s/r \n",
       "R_0220 = 1/2*r_s/r \n",
       "R_0303 = -1/2*r_s*sin(theta)^2/r \n",
       "R_0330 = 1/2*r_s*sin(theta)^2/r \n",
       "R_1001 = -(c^2*r*r_s - c^2*r_s^2)/r^4 \n",
       "R_1010 = (c^2*r*r_s - c^2*r_s^2)/r^4 \n",
       "R_1212 = -1/2*r_s/r \n",
       "R_1221 = 1/2*r_s/r \n",
       "R_1313 = -1/2*r_s*sin(theta)^2/r \n",
       "R_1331 = 1/2*r_s*sin(theta)^2/r \n",
       "R_2002 = 1/2*(c^2*r*r_s - c^2*r_s^2)/r^4 \n",
       "R_2020 = -1/2*(c^2*r*r_s - c^2*r_s^2)/r^4 \n",
       "R_2112 = 1/2*r_s/(r^3 - r^2*r_s) \n",
       "R_2121 = -1/2*r_s/(r^3 - r^2*r_s) \n",
       "R_2323 = r_s*sin(theta)^2/r \n",
       "R_2332 = -r_s*sin(theta)^2/r \n",
       "R_3003 = 1/2*(c^2*r*r_s - c^2*r_s^2)/r^4 \n",
       "R_3030 = -1/2*(c^2*r*r_s - c^2*r_s^2)/r^4 \n",
       "R_3113 = 1/2*r_s/(r^3 - r^2*r_s) \n",
       "R_3131 = -1/2*r_s/(r^3 - r^2*r_s) \n",
       "R_3223 = -r_s/r \n",
       "R_3232 = r_s/r "
      ]
     },
     "execution_count": 18,
     "metadata": {},
     "output_type": "execute_result"
    }
   ],
   "source": [
    "riemann_comp = riemann.components()\n",
    "riemann_comp.display('R')"
   ]
  },
  {
   "cell_type": "code",
   "execution_count": 19,
   "metadata": {},
   "outputs": [
    {
     "data": {
      "text/html": [
       "<html><script type=\"math/tex; mode=display\">\\newcommand{\\Bold}[1]{\\mathbf{#1}}\\frac{1}{2} \\, c^{2} {\\left(\\frac{r_{s}}{r^{3}} - \\frac{r_{s}^{2}}{r^{4}}\\right)}</script></html>"
      ],
      "text/plain": [
       "1/2*c^2*(r_s/r^3 - r_s^2/r^4)"
      ]
     },
     "execution_count": 19,
     "metadata": {},
     "output_type": "execute_result"
    }
   ],
   "source": [
    "riemann[3,0,0,3].expand().collect(c^2)"
   ]
  },
  {
   "cell_type": "code",
   "execution_count": 20,
   "metadata": {},
   "outputs": [
    {
     "data": {
      "text/html": [
       "<html><script type=\"math/tex; mode=display\">\\newcommand{\\Bold}[1]{\\mathbf{#1}}-\\frac{c^{2} r_{s} {\\left(\\frac{r_{s}}{r} - 1\\right)}}{2 \\, r^{3}}</script></html>"
      ],
      "text/plain": [
       "-1/2*c^2*r_s*(r_s/r - 1)/r^3"
      ]
     },
     "execution_count": 20,
     "metadata": {},
     "output_type": "execute_result"
    }
   ],
   "source": [
    "riemann[3,0,0,3].collect_common_factors()"
   ]
  },
  {
   "cell_type": "markdown",
   "metadata": {},
   "source": [
    "### Ricci Tensor"
   ]
  },
  {
   "cell_type": "code",
   "execution_count": 21,
   "metadata": {},
   "outputs": [
    {
     "data": {
      "text/html": [
       "<html><script type=\"math/tex; mode=display\">\\newcommand{\\Bold}[1]{\\mathbf{#1}}\\mathrm{Ric}\\left(g2\\right) = 0</script></html>"
      ],
      "text/plain": [
       "Ric(g2) = 0"
      ]
     },
     "execution_count": 21,
     "metadata": {},
     "output_type": "execute_result"
    }
   ],
   "source": [
    "Ricci = g2.ricci()\n",
    "Ricci.display()"
   ]
  },
  {
   "cell_type": "code",
   "execution_count": 23,
   "metadata": {},
   "outputs": [
    {
     "data": {
      "text/html": [
       "<html><script type=\"math/tex; mode=display\">\\newcommand{\\Bold}[1]{\\mathbf{#1}}</script></html>"
      ],
      "text/plain": []
     },
     "execution_count": 23,
     "metadata": {},
     "output_type": "execute_result"
    }
   ],
   "source": [
    "ricci_comp = Ricci.components()\n",
    "ricci_comp.display('Ricci')"
   ]
  },
  {
   "cell_type": "code",
   "execution_count": 25,
   "metadata": {},
   "outputs": [
    {
     "data": {
      "text/html": [
       "<html><script type=\"math/tex; mode=display\">\\newcommand{\\Bold}[1]{\\mathbf{#1}}\\verb|<class|\\phantom{\\verb!x!}\\verb|'sage.manifolds.differentiable.tensorfield_paral.TensorFieldFreeModule_with_category.element_class'>|</script></html>"
      ],
      "text/plain": [
       "<class 'sage.manifolds.differentiable.tensorfield_paral.TensorFieldFreeModule_with_category.element_class'>"
      ]
     },
     "execution_count": 25,
     "metadata": {},
     "output_type": "execute_result"
    }
   ],
   "source": [
    "type(Ricci)"
   ]
  },
  {
   "cell_type": "markdown",
   "metadata": {},
   "source": [
    "### Ricci Scalar"
   ]
  },
  {
   "cell_type": "code",
   "execution_count": 22,
   "metadata": {},
   "outputs": [
    {
     "data": {
      "text/html": [
       "<html><script type=\"math/tex; mode=display\">\\newcommand{\\Bold}[1]{\\mathbf{#1}}\\mathrm{r}\\left(g2\\right)</script></html>"
      ],
      "text/plain": [
       "Scalar field r(g2) on the 4-dimensional differentiable manifold M"
      ]
     },
     "execution_count": 22,
     "metadata": {},
     "output_type": "execute_result"
    }
   ],
   "source": [
    "ricci_scalar = g2.ricci_scalar()\n",
    "ricci_scalar"
   ]
  },
  {
   "cell_type": "markdown",
   "metadata": {},
   "source": [
    "## Anti-deSitter Spacetimes\n",
    "\n",
    "Reference: [Schwarzschild](http://sagemanifolds.obspm.fr/examples/html/SM_sphere_S2.html)"
   ]
  },
  {
   "cell_type": "code",
   "execution_count": 20,
   "metadata": {},
   "outputs": [
    {
     "data": {
      "text/html": [
       "<html><script type=\"math/tex; mode=display\">\\newcommand{\\Bold}[1]{\\mathbf{#1}}M5_{AdS}</script></html>"
      ],
      "text/plain": [
       "5-dimensional differentiable manifold M5_{AdS}"
      ]
     },
     "execution_count": 20,
     "metadata": {},
     "output_type": "execute_result"
    }
   ],
   "source": [
    "M5_AdS = Manifold(5,'M5_{AdS}'); M5_AdS"
   ]
  },
  {
   "cell_type": "code",
   "execution_count": 21,
   "metadata": {},
   "outputs": [
    {
     "data": {
      "text/html": [
       "<html><script type=\"math/tex; mode=display\">\\newcommand{\\Bold}[1]{\\mathbf{#1}}\\left(M5_{AdS},(z, t, x, y, z)\\right)</script></html>"
      ],
      "text/plain": [
       "Chart (M5_{AdS}, (z, t, x, y, z))"
      ]
     },
     "execution_count": 21,
     "metadata": {},
     "output_type": "execute_result"
    }
   ],
   "source": [
    "chart.<z,t,x,y,z> = M5_AdS.chart(); chart"
   ]
  },
  {
   "cell_type": "code",
   "execution_count": 22,
   "metadata": {},
   "outputs": [
    {
     "data": {
      "text/html": [
       "<html><script type=\"math/tex; mode=display\">\\newcommand{\\Bold}[1]{\\mathbf{#1}}g_{AdS}</script></html>"
      ],
      "text/plain": [
       "Lorentzian metric g_{AdS} on the 5-dimensional differentiable manifold M5_{AdS}"
      ]
     },
     "execution_count": 22,
     "metadata": {},
     "output_type": "execute_result"
    }
   ],
   "source": [
    "g_AdS = M5_AdS.lorentzian_metric('g_{AdS}');\n",
    "g_AdS"
   ]
  },
  {
   "cell_type": "markdown",
   "metadata": {},
   "source": [
    "### Anti deSitter Parameter Definitions\n",
    "\n",
    "AdS Radius: $L_{AdS}$\n",
    "Schwarzschild Radius: $r_s$\n",
    "Newton's Constant: $G_N$\n",
    "Speed of light: $c$"
   ]
  },
  {
   "cell_type": "code",
   "execution_count": 23,
   "metadata": {},
   "outputs": [
    {
     "data": {
      "text/html": [
       "<html><script type=\"math/tex; mode=display\">\\newcommand{\\Bold}[1]{\\mathbf{#1}}\\left(L_{\\mathit{AdS}}, r_{s}, G_{N}, c\\right)</script></html>"
      ],
      "text/plain": [
       "(L_AdS, r_s, G_N, c)"
      ]
     },
     "execution_count": 23,
     "metadata": {},
     "output_type": "execute_result"
    }
   ],
   "source": [
    "var('L_AdS r_s G_N c')"
   ]
  },
  {
   "cell_type": "markdown",
   "metadata": {},
   "source": [
    "### Metric"
   ]
  },
  {
   "cell_type": "markdown",
   "metadata": {},
   "source": [
    "#### Conformal Co-ordinates"
   ]
  },
  {
   "cell_type": "code",
   "execution_count": 24,
   "metadata": {},
   "outputs": [
    {
     "ename": "ValueError",
     "evalue": "no basis could be found for computing the components in the Coordinate frame (M, (d/dt,d/dr,d/dtheta,d/dphi))",
     "output_type": "error",
     "traceback": [
      "\u001b[0;31m---------------------------------------------------------------------------\u001b[0m",
      "\u001b[0;31mValueError\u001b[0m                                Traceback (most recent call last)",
      "\u001b[0;32m<ipython-input-24-dd63ef6f44dd>\u001b[0m in \u001b[0;36m<module>\u001b[0;34m()\u001b[0m\n\u001b[1;32m      4\u001b[0m \u001b[0mg_AdS\u001b[0m\u001b[0;34m[\u001b[0m\u001b[0mInteger\u001b[0m\u001b[0;34m(\u001b[0m\u001b[0;36m3\u001b[0m\u001b[0;34m)\u001b[0m\u001b[0;34m,\u001b[0m\u001b[0mInteger\u001b[0m\u001b[0;34m(\u001b[0m\u001b[0;36m3\u001b[0m\u001b[0;34m)\u001b[0m\u001b[0;34m]\u001b[0m \u001b[0;34m=\u001b[0m \u001b[0;34m(\u001b[0m\u001b[0mL_AdS\u001b[0m\u001b[0;34m/\u001b[0m\u001b[0mz\u001b[0m\u001b[0;34m)\u001b[0m\u001b[0;34m**\u001b[0m\u001b[0mInteger\u001b[0m\u001b[0;34m(\u001b[0m\u001b[0;36m2\u001b[0m\u001b[0;34m)\u001b[0m\u001b[0;34m\u001b[0m\u001b[0m\n\u001b[1;32m      5\u001b[0m \u001b[0mg_AdS\u001b[0m\u001b[0;34m[\u001b[0m\u001b[0mInteger\u001b[0m\u001b[0;34m(\u001b[0m\u001b[0;36m4\u001b[0m\u001b[0;34m)\u001b[0m\u001b[0;34m,\u001b[0m\u001b[0mInteger\u001b[0m\u001b[0;34m(\u001b[0m\u001b[0;36m4\u001b[0m\u001b[0;34m)\u001b[0m\u001b[0;34m]\u001b[0m \u001b[0;34m=\u001b[0m \u001b[0;34m(\u001b[0m\u001b[0mL_AdS\u001b[0m\u001b[0;34m/\u001b[0m\u001b[0mz\u001b[0m\u001b[0;34m)\u001b[0m\u001b[0;34m**\u001b[0m\u001b[0mInteger\u001b[0m\u001b[0;34m(\u001b[0m\u001b[0;36m2\u001b[0m\u001b[0;34m)\u001b[0m\u001b[0;34m\u001b[0m\u001b[0m\n\u001b[0;32m----> 6\u001b[0;31m \u001b[0mg2\u001b[0m\u001b[0;34m.\u001b[0m\u001b[0mdisplay\u001b[0m\u001b[0;34m(\u001b[0m\u001b[0;34m)\u001b[0m\u001b[0;34m\u001b[0m\u001b[0m\n\u001b[0m",
      "\u001b[0;32m/Users/deepak/sage/local/lib/python2.7/site-packages/sage/tensor/modules/free_module_tensor.pyc\u001b[0m in \u001b[0;36mdisplay\u001b[0;34m(self, basis, format_spec)\u001b[0m\n\u001b[1;32m    644\u001b[0m             \u001b[0mbasis\u001b[0m \u001b[0;34m=\u001b[0m \u001b[0mself\u001b[0m\u001b[0;34m.\u001b[0m\u001b[0m_fmodule\u001b[0m\u001b[0;34m.\u001b[0m\u001b[0m_def_basis\u001b[0m\u001b[0;34m\u001b[0m\u001b[0m\n\u001b[1;32m    645\u001b[0m         \u001b[0mcobasis\u001b[0m \u001b[0;34m=\u001b[0m \u001b[0mbasis\u001b[0m\u001b[0;34m.\u001b[0m\u001b[0mdual_basis\u001b[0m\u001b[0;34m(\u001b[0m\u001b[0;34m)\u001b[0m\u001b[0;34m\u001b[0m\u001b[0m\n\u001b[0;32m--> 646\u001b[0;31m         \u001b[0mcomp\u001b[0m \u001b[0;34m=\u001b[0m \u001b[0mself\u001b[0m\u001b[0;34m.\u001b[0m\u001b[0mcomp\u001b[0m\u001b[0;34m(\u001b[0m\u001b[0mbasis\u001b[0m\u001b[0;34m)\u001b[0m\u001b[0;34m\u001b[0m\u001b[0m\n\u001b[0m\u001b[1;32m    647\u001b[0m         \u001b[0mterms_txt\u001b[0m \u001b[0;34m=\u001b[0m \u001b[0;34m[\u001b[0m\u001b[0;34m]\u001b[0m\u001b[0;34m\u001b[0m\u001b[0m\n\u001b[1;32m    648\u001b[0m         \u001b[0mterms_latex\u001b[0m \u001b[0;34m=\u001b[0m \u001b[0;34m[\u001b[0m\u001b[0;34m]\u001b[0m\u001b[0;34m\u001b[0m\u001b[0m\n",
      "\u001b[0;32m/Users/deepak/sage/local/lib/python2.7/site-packages/sage/manifolds/differentiable/tensorfield_paral.pyc\u001b[0m in \u001b[0;36mcomp\u001b[0;34m(self, basis, from_basis)\u001b[0m\n\u001b[1;32m    949\u001b[0m             \u001b[0;31m# components on the tensor field domain:\u001b[0m\u001b[0;34m\u001b[0m\u001b[0;34m\u001b[0m\u001b[0m\n\u001b[1;32m    950\u001b[0m             return FreeModuleTensor.comp(self, basis=basis,\n\u001b[0;32m--> 951\u001b[0;31m                                          from_basis=from_basis)\n\u001b[0m\u001b[1;32m    952\u001b[0m         \u001b[0;32melse\u001b[0m\u001b[0;34m:\u001b[0m\u001b[0;34m\u001b[0m\u001b[0m\n\u001b[1;32m    953\u001b[0m             \u001b[0;31m# components on a subdomain:\u001b[0m\u001b[0;34m\u001b[0m\u001b[0;34m\u001b[0m\u001b[0m\n",
      "\u001b[0;32m/Users/deepak/sage/local/lib/python2.7/site-packages/sage/tensor/modules/free_module_tensor.pyc\u001b[0m in \u001b[0;36mcomponents\u001b[0;34m(self, basis, from_basis)\u001b[0m\n\u001b[1;32m   1048\u001b[0m                 \u001b[0;32mif\u001b[0m \u001b[0mfrom_basis\u001b[0m \u001b[0;32mis\u001b[0m \u001b[0mNone\u001b[0m\u001b[0;34m:\u001b[0m\u001b[0;34m\u001b[0m\u001b[0m\n\u001b[1;32m   1049\u001b[0m                     raise ValueError(\"no basis could be found for computing \" +\n\u001b[0;32m-> 1050\u001b[0;31m                                      \"the components in the {}\".format(basis))\n\u001b[0m\u001b[1;32m   1051\u001b[0m             \u001b[0;32melif\u001b[0m \u001b[0mfrom_basis\u001b[0m \u001b[0;32mnot\u001b[0m \u001b[0;32min\u001b[0m \u001b[0mself\u001b[0m\u001b[0;34m.\u001b[0m\u001b[0m_components\u001b[0m\u001b[0;34m:\u001b[0m\u001b[0;34m\u001b[0m\u001b[0m\n\u001b[1;32m   1052\u001b[0m                 raise ValueError(\"the tensor components are not known in \" +\n",
      "\u001b[0;31mValueError\u001b[0m: no basis could be found for computing the components in the Coordinate frame (M, (d/dt,d/dr,d/dtheta,d/dphi))"
     ]
    }
   ],
   "source": [
    "g_AdS[0,0] = (L_AdS/z)**2\n",
    "g_AdS[1,1] = -(L_AdS/z)**2\n",
    "g_AdS[2,2] = (L_AdS/z)**2\n",
    "g_AdS[3,3] = (L_AdS/z)**2\n",
    "g_AdS[4,4] = (L_AdS/z)**2\n",
    "g2.display()"
   ]
  },
  {
   "cell_type": "markdown",
   "metadata": {},
   "source": [
    "### Christoffel Connection"
   ]
  },
  {
   "cell_type": "code",
   "execution_count": 7,
   "metadata": {},
   "outputs": [
    {
     "data": {
      "text/html": [
       "<html><script type=\"math/tex; mode=display\">\\newcommand{\\Bold}[1]{\\mathbf{#1}}\\verb|3-indices|\\phantom{\\verb!x!}\\verb|components|\\phantom{\\verb!x!}\\verb|w.r.t.|\\phantom{\\verb!x!}\\verb|Coordinate|\\phantom{\\verb!x!}\\verb|frame|\\phantom{\\verb!x!}\\verb|(M,|\\phantom{\\verb!x!}\\verb|(d/dt,d/dr,d/dtheta,d/dphi)),|\\phantom{\\verb!x!}\\verb|with|\\phantom{\\verb!x!}\\verb|symmetry|\\phantom{\\verb!x!}\\verb|on|\\phantom{\\verb!x!}\\verb|the|\\phantom{\\verb!x!}\\verb|index|\\phantom{\\verb!x!}\\verb|positions|\\phantom{\\verb!x!}\\verb|(1,|\\phantom{\\verb!x!}\\verb|2)|</script></html>"
      ],
      "text/plain": [
       "3-indices components w.r.t. Coordinate frame (M, (d/dt,d/dr,d/dtheta,d/dphi)), with symmetry on the index positions (1, 2)"
      ]
     },
     "execution_count": 7,
     "metadata": {},
     "output_type": "execute_result"
    }
   ],
   "source": [
    "christoffels = g2.christoffel_symbols();\n",
    "christoffels"
   ]
  },
  {
   "cell_type": "markdown",
   "metadata": {},
   "source": [
    "## Vector Fields"
   ]
  },
  {
   "cell_type": "code",
   "execution_count": 16,
   "metadata": {},
   "outputs": [
    {
     "data": {
      "text/html": [
       "<html><script type=\"math/tex; mode=display\">\\newcommand{\\Bold}[1]{\\mathbf{#1}}\\left(t, r, \\theta, \\phi\\right)</script></html>"
      ],
      "text/plain": [
       "(t, r, theta, phi)"
      ]
     },
     "execution_count": 16,
     "metadata": {},
     "output_type": "execute_result"
    }
   ],
   "source": [
    "var('t r theta phi')"
   ]
  },
  {
   "cell_type": "code",
   "execution_count": 23,
   "metadata": {},
   "outputs": [
    {
     "data": {
      "text/html": [
       "<html><script type=\"math/tex; mode=display\">\\newcommand{\\Bold}[1]{\\mathbf{#1}}\\left(c, r_{s}\\right)</script></html>"
      ],
      "text/plain": [
       "(c, r_s)"
      ]
     },
     "execution_count": 23,
     "metadata": {},
     "output_type": "execute_result"
    }
   ],
   "source": [
    "var('c r_s')"
   ]
  },
  {
   "cell_type": "code",
   "execution_count": 17,
   "metadata": {},
   "outputs": [
    {
     "data": {
      "text/html": [
       "<html><script type=\"math/tex; mode=display\">\\newcommand{\\Bold}[1]{\\mathbf{#1}}M</script></html>"
      ],
      "text/plain": [
       "4-dimensional differentiable manifold M"
      ]
     },
     "execution_count": 17,
     "metadata": {},
     "output_type": "execute_result"
    }
   ],
   "source": [
    "M = Manifold(4,'M'); M"
   ]
  },
  {
   "cell_type": "code",
   "execution_count": 18,
   "metadata": {},
   "outputs": [
    {
     "name": "stdout",
     "output_type": "stream",
     "text": [
      "4-dimensional differentiable manifold M\n"
     ]
    }
   ],
   "source": [
    "print(M)"
   ]
  },
  {
   "cell_type": "code",
   "execution_count": 19,
   "metadata": {},
   "outputs": [
    {
     "data": {
      "text/html": [
       "<html><script type=\"math/tex; mode=display\">\\newcommand{\\Bold}[1]{\\mathbf{#1}}\\left(M,(t, r, \\theta, \\phi)\\right)</script></html>"
      ],
      "text/plain": [
       "Chart (M, (t, r, theta, phi))"
      ]
     },
     "execution_count": 19,
     "metadata": {},
     "output_type": "execute_result"
    }
   ],
   "source": [
    "chart.<t,r,theta,phi> = M.chart(); chart"
   ]
  },
  {
   "cell_type": "code",
   "execution_count": 20,
   "metadata": {},
   "outputs": [],
   "source": [
    "u = M.vector_field('u')"
   ]
  },
  {
   "cell_type": "code",
   "execution_count": 21,
   "metadata": {},
   "outputs": [
    {
     "data": {
      "text/html": [
       "<html><script type=\"math/tex; mode=display\">\\newcommand{\\Bold}[1]{\\mathbf{#1}}u = \\frac{\\partial}{\\partial t }+\\frac{\\partial}{\\partial r }+\\frac{\\partial}{\\partial \\theta }+\\frac{\\partial}{\\partial \\phi }</script></html>"
      ],
      "text/plain": [
       "u = d/dt + d/dr + d/dtheta + d/dphi"
      ]
     },
     "execution_count": 21,
     "metadata": {},
     "output_type": "execute_result"
    }
   ],
   "source": [
    "u[0],u[1],u[2],u[3] = 1,1,1,1\n",
    "u.display()"
   ]
  },
  {
   "cell_type": "code",
   "execution_count": 24,
   "metadata": {},
   "outputs": [],
   "source": [
    "u[0] = 1/(c*sqrt(1-r_s/r))\n",
    "u[1] = u[2] = u[3] = 0"
   ]
  },
  {
   "cell_type": "code",
   "execution_count": 25,
   "metadata": {},
   "outputs": [
    {
     "data": {
      "text/html": [
       "<html><script type=\"math/tex; mode=display\">\\newcommand{\\Bold}[1]{\\mathbf{#1}}u = \\left( \\frac{1}{c \\sqrt{-\\frac{r_{s}}{r} + 1}} \\right) \\frac{\\partial}{\\partial t }</script></html>"
      ],
      "text/plain": [
       "u = 1/(c*sqrt(-r_s/r + 1)) d/dt"
      ]
     },
     "execution_count": 25,
     "metadata": {},
     "output_type": "execute_result"
    }
   ],
   "source": [
    "u.display()"
   ]
  },
  {
   "cell_type": "code",
   "execution_count": 27,
   "metadata": {},
   "outputs": [
    {
     "data": {
      "text/html": [
       "<html><script type=\"math/tex; mode=display\">\\newcommand{\\Bold}[1]{\\mathbf{#1}}u</script></html>"
      ],
      "text/plain": [
       "Vector field u on the 4-dimensional differentiable manifold M"
      ]
     },
     "execution_count": 27,
     "metadata": {},
     "output_type": "execute_result"
    }
   ],
   "source": [
    "e_t = u\n",
    "e_t"
   ]
  },
  {
   "cell_type": "code",
   "execution_count": 28,
   "metadata": {},
   "outputs": [
    {
     "data": {
      "text/html": [
       "<html><script type=\"math/tex; mode=display\">\\newcommand{\\Bold}[1]{\\mathbf{#1}}e_t</script></html>"
      ],
      "text/plain": [
       "Vector field e_t on the 4-dimensional differentiable manifold M"
      ]
     },
     "execution_count": 28,
     "metadata": {},
     "output_type": "execute_result"
    }
   ],
   "source": [
    "e_t.set_name('e_t')\n",
    "e_t"
   ]
  },
  {
   "cell_type": "code",
   "execution_count": 29,
   "metadata": {},
   "outputs": [
    {
     "data": {
      "text/html": [
       "<html><script type=\"math/tex; mode=display\">\\newcommand{\\Bold}[1]{\\mathbf{#1}}e_r = \\left( \\sqrt{-\\frac{r}{r_{s}} + 1} \\right) \\frac{\\partial}{\\partial r }</script></html>"
      ],
      "text/plain": [
       "e_r = sqrt(-r/r_s + 1) d/dr"
      ]
     },
     "execution_count": 29,
     "metadata": {},
     "output_type": "execute_result"
    }
   ],
   "source": [
    "e_r = M.vector_field('e_r')\n",
    "e_r[0] = e_r[2] = e_r[3] = 0\n",
    "e_r[1] = sqrt(1-r/r_s)\n",
    "e_r.display()"
   ]
  },
  {
   "cell_type": "code",
   "execution_count": 30,
   "metadata": {},
   "outputs": [
    {
     "data": {
      "text/html": [
       "<html><script type=\"math/tex; mode=display\">\\newcommand{\\Bold}[1]{\\mathbf{#1}}e_\\theta</script></html>"
      ],
      "text/plain": [
       "Vector field e_{\theta} on the 4-dimensional differentiable manifold M"
      ]
     },
     "execution_count": 30,
     "metadata": {},
     "output_type": "execute_result"
    }
   ],
   "source": [
    "e_th = M.vector_field('e_{\\theta}',latex_name=r'e_\\theta')\n",
    "e_th"
   ]
  },
  {
   "cell_type": "code",
   "execution_count": 31,
   "metadata": {},
   "outputs": [
    {
     "data": {
      "text/html": [
       "<html><script type=\"math/tex; mode=display\">\\newcommand{\\Bold}[1]{\\mathbf{#1}}e_\\theta = \\frac{1}{r} \\frac{\\partial}{\\partial \\theta }</script></html>"
      ],
      "text/plain": [
       "e_{\theta} = 1/r d/dtheta"
      ]
     },
     "execution_count": 31,
     "metadata": {},
     "output_type": "execute_result"
    }
   ],
   "source": [
    "e_th[0] = e_th[1] = e_th[3] = 0\n",
    "e_th[2] = 1/r\n",
    "e_th.display()"
   ]
  },
  {
   "cell_type": "code",
   "execution_count": 32,
   "metadata": {},
   "outputs": [
    {
     "data": {
      "text/html": [
       "<html><script type=\"math/tex; mode=display\">\\newcommand{\\Bold}[1]{\\mathbf{#1}}e_\\phi</script></html>"
      ],
      "text/plain": [
       "Vector field e_phi on the 4-dimensional differentiable manifold M"
      ]
     },
     "execution_count": 32,
     "metadata": {},
     "output_type": "execute_result"
    }
   ],
   "source": [
    "e_phi = M.vector_field('e_phi',latex_name=r'e_\\phi')\n",
    "e_phi"
   ]
  },
  {
   "cell_type": "code",
   "execution_count": 33,
   "metadata": {},
   "outputs": [
    {
     "data": {
      "text/html": [
       "<html><script type=\"math/tex; mode=display\">\\newcommand{\\Bold}[1]{\\mathbf{#1}}e_\\phi = \\frac{1}{r \\sin\\left(\\theta\\right)} \\frac{\\partial}{\\partial \\phi }</script></html>"
      ],
      "text/plain": [
       "e_phi = 1/(r*sin(theta)) d/dphi"
      ]
     },
     "execution_count": 33,
     "metadata": {},
     "output_type": "execute_result"
    }
   ],
   "source": [
    "e_phi[0] = e_phi[1] = e_phi[2] = 0\n",
    "e_phi[3] = 1/(r*sin(theta))\n",
    "e_phi.display()"
   ]
  },
  {
   "cell_type": "markdown",
   "metadata": {},
   "source": [
    "## Vector Frames & Affine Connections\n",
    "\n",
    "Reference: [Affine Connections](http://localhost:8080/doc/live/reference/manifolds/sage/geometry/manifolds/connection.html), [Vector Frames](http://localhost:8080/doc/live/reference/manifolds/sage/geometry/manifolds/vectorframe.html)"
   ]
  },
  {
   "cell_type": "markdown",
   "metadata": {},
   "source": [
    "### Local Tetrad for Schwarzschild\n",
    "\n",
    "Reference: [Catalog of Spacetimes](http://arxiv.org/abs/arxiv:0904.4184)"
   ]
  },
  {
   "cell_type": "markdown",
   "metadata": {},
   "source": [
    "\\begin{align}\n",
    "\\mb{e}_t & = \\left(\\frac{1}{c\\sqrt{1 - r_s/r}} \\partial_t,0,0,0\\right) \\\\\n",
    "\\mb{e}_r & = \\left(0, \\sqrt{1-\\frac{r}{r_s}}\\partial_r, 0, 0 \\right) \\\\\n",
    "\\mb{e}_\\theta & = \\left(0,0, \\frac{1}{r}\\partial_\\theta,0 \\right)\\\\\n",
    "\\mb{e}_\\phi & = \\left(0,0,0, \\frac{1}{r\\sin\\theta}\\partial_\\phi\\right)\n",
    "\\end{align}"
   ]
  },
  {
   "cell_type": "code",
   "execution_count": 4,
   "metadata": {},
   "outputs": [
    {
     "data": {
      "text/html": [
       "<html><script type=\"math/tex; mode=display\">\\newcommand{\\Bold}[1]{\\mathbf{#1}}\\left(M, \\left(\\frac{\\partial}{\\partial t },\\frac{\\partial}{\\partial r },\\frac{\\partial}{\\partial \\theta },\\frac{\\partial}{\\partial \\phi }\\right)\\right)</script></html>"
      ],
      "text/plain": [
       "Coordinate frame (M, (d/dt,d/dr,d/dtheta,d/dphi))"
      ]
     },
     "execution_count": 4,
     "metadata": {},
     "output_type": "execute_result"
    }
   ],
   "source": [
    "e_def = M.default_frame()\n",
    "e_def"
   ]
  },
  {
   "cell_type": "code",
   "execution_count": 5,
   "metadata": {},
   "outputs": [
    {
     "data": {
      "text/html": [
       "<html><script type=\"math/tex; mode=display\">\\newcommand{\\Bold}[1]{\\mathbf{#1}}\\frac{\\partial}{\\partial t }</script></html>"
      ],
      "text/plain": [
       "Vector field d/dt on the 4-dimensional differentiable manifold M"
      ]
     },
     "execution_count": 5,
     "metadata": {},
     "output_type": "execute_result"
    }
   ],
   "source": [
    "e_def[0]"
   ]
  },
  {
   "cell_type": "code",
   "execution_count": 6,
   "metadata": {},
   "outputs": [
    {
     "data": {
      "text/html": [
       "<html><script type=\"math/tex; mode=display\">\\newcommand{\\Bold}[1]{\\mathbf{#1}}\\left(M, \\left(e_0,e_1,e_2,e_3\\right)\\right)</script></html>"
      ],
      "text/plain": [
       "Vector frame (M, (e_0,e_1,e_2,e_3))"
      ]
     },
     "execution_count": 6,
     "metadata": {},
     "output_type": "execute_result"
    }
   ],
   "source": [
    "e = M.vector_frame('e')\n",
    "e"
   ]
  },
  {
   "cell_type": "code",
   "execution_count": 15,
   "metadata": {},
   "outputs": [
    {
     "data": {
      "text/html": [
       "<html><script type=\"math/tex; mode=display\">\\newcommand{\\Bold}[1]{\\mathbf{#1}}\\verb|<class|\\phantom{\\verb!x!}\\verb|'sage.manifolds.differentiable.vectorfield_module.VectorFieldFreeModule_with_category.element_class'>|</script></html>"
      ],
      "text/plain": [
       "<class 'sage.manifolds.differentiable.vectorfield_module.VectorFieldFreeModule_with_category.element_class'>"
      ]
     },
     "execution_count": 15,
     "metadata": {},
     "output_type": "execute_result"
    }
   ],
   "source": [
    "e[0]"
   ]
  },
  {
   "cell_type": "code",
   "execution_count": 9,
   "metadata": {},
   "outputs": [
    {
     "data": {
      "text/html": [
       "<html><script type=\"math/tex; mode=display\">\\newcommand{\\Bold}[1]{\\mathbf{#1}}\\mbox{Field of tangent-space automorphisms on the 4-dimensional differentiable manifold M}</script></html>"
      ],
      "text/plain": [
       "Field of tangent-space automorphisms on the 4-dimensional differentiable manifold M"
      ]
     },
     "execution_count": 9,
     "metadata": {},
     "output_type": "execute_result"
    }
   ],
   "source": [
    "sch = M.automorphism_field()\n",
    "sch"
   ]
  },
  {
   "cell_type": "code",
   "execution_count": 10,
   "metadata": {},
   "outputs": [
    {
     "ename": "ValueError",
     "evalue": "no basis could be found for computing the components in the Coordinate frame (M, (d/dt,d/dr,d/dtheta,d/dphi))",
     "output_type": "error",
     "traceback": [
      "\u001b[0;31m---------------------------------------------------------------------------\u001b[0m",
      "\u001b[0;31mValueError\u001b[0m                                Traceback (most recent call last)",
      "\u001b[0;32m<ipython-input-10-f195f1346f4a>\u001b[0m in \u001b[0;36m<module>\u001b[0;34m()\u001b[0m\n\u001b[0;32m----> 1\u001b[0;31m \u001b[0msch\u001b[0m\u001b[0;34m.\u001b[0m\u001b[0mdisplay\u001b[0m\u001b[0;34m(\u001b[0m\u001b[0;34m)\u001b[0m\u001b[0;34m\u001b[0m\u001b[0m\n\u001b[0m",
      "\u001b[0;32m/Users/deepak/sage/local/lib/python2.7/site-packages/sage/tensor/modules/free_module_tensor.pyc\u001b[0m in \u001b[0;36mdisplay\u001b[0;34m(self, basis, format_spec)\u001b[0m\n\u001b[1;32m    657\u001b[0m             \u001b[0mbasis\u001b[0m \u001b[0;34m=\u001b[0m \u001b[0mself\u001b[0m\u001b[0;34m.\u001b[0m\u001b[0m_fmodule\u001b[0m\u001b[0;34m.\u001b[0m\u001b[0m_def_basis\u001b[0m\u001b[0;34m\u001b[0m\u001b[0m\n\u001b[1;32m    658\u001b[0m         \u001b[0mcobasis\u001b[0m \u001b[0;34m=\u001b[0m \u001b[0mbasis\u001b[0m\u001b[0;34m.\u001b[0m\u001b[0mdual_basis\u001b[0m\u001b[0;34m(\u001b[0m\u001b[0;34m)\u001b[0m\u001b[0;34m\u001b[0m\u001b[0m\n\u001b[0;32m--> 659\u001b[0;31m         \u001b[0mcomp\u001b[0m \u001b[0;34m=\u001b[0m \u001b[0mself\u001b[0m\u001b[0;34m.\u001b[0m\u001b[0mcomp\u001b[0m\u001b[0;34m(\u001b[0m\u001b[0mbasis\u001b[0m\u001b[0;34m)\u001b[0m\u001b[0;34m\u001b[0m\u001b[0m\n\u001b[0m\u001b[1;32m    660\u001b[0m         \u001b[0mterms_txt\u001b[0m \u001b[0;34m=\u001b[0m \u001b[0;34m[\u001b[0m\u001b[0;34m]\u001b[0m\u001b[0;34m\u001b[0m\u001b[0m\n\u001b[1;32m    661\u001b[0m         \u001b[0mterms_latex\u001b[0m \u001b[0;34m=\u001b[0m \u001b[0;34m[\u001b[0m\u001b[0;34m]\u001b[0m\u001b[0;34m\u001b[0m\u001b[0m\n",
      "\u001b[0;32m/Users/deepak/sage/local/lib/python2.7/site-packages/sage/tensor/modules/free_module_automorphism.pyc\u001b[0m in \u001b[0;36mcomponents\u001b[0;34m(self, basis, from_basis)\u001b[0m\n\u001b[1;32m    518\u001b[0m         \u001b[0;32melse\u001b[0m\u001b[0;34m:\u001b[0m\u001b[0;34m\u001b[0m\u001b[0m\n\u001b[1;32m    519\u001b[0m             return FreeModuleTensor.components(self, basis=basis,\n\u001b[0;32m--> 520\u001b[0;31m                                                from_basis=from_basis)\n\u001b[0m\u001b[1;32m    521\u001b[0m \u001b[0;34m\u001b[0m\u001b[0m\n\u001b[1;32m    522\u001b[0m     \u001b[0mcomp\u001b[0m \u001b[0;34m=\u001b[0m \u001b[0mcomponents\u001b[0m\u001b[0;34m\u001b[0m\u001b[0m\n",
      "\u001b[0;32m/Users/deepak/sage/local/lib/python2.7/site-packages/sage/tensor/modules/free_module_tensor.pyc\u001b[0m in \u001b[0;36mcomponents\u001b[0;34m(self, basis, from_basis)\u001b[0m\n\u001b[1;32m   1068\u001b[0m                 \u001b[0;32mif\u001b[0m \u001b[0mfrom_basis\u001b[0m \u001b[0;32mis\u001b[0m \u001b[0mNone\u001b[0m\u001b[0;34m:\u001b[0m\u001b[0;34m\u001b[0m\u001b[0m\n\u001b[1;32m   1069\u001b[0m                     raise ValueError(\"no basis could be found for computing \" +\n\u001b[0;32m-> 1070\u001b[0;31m                                      \"the components in the {}\".format(basis))\n\u001b[0m\u001b[1;32m   1071\u001b[0m             \u001b[0;32melif\u001b[0m \u001b[0mfrom_basis\u001b[0m \u001b[0;32mnot\u001b[0m \u001b[0;32min\u001b[0m \u001b[0mself\u001b[0m\u001b[0;34m.\u001b[0m\u001b[0m_components\u001b[0m\u001b[0;34m:\u001b[0m\u001b[0;34m\u001b[0m\u001b[0m\n\u001b[1;32m   1072\u001b[0m                 raise ValueError(\"the tensor components are not known in \" +\n",
      "\u001b[0;31mValueError\u001b[0m: no basis could be found for computing the components in the Coordinate frame (M, (d/dt,d/dr,d/dtheta,d/dphi))"
     ]
    }
   ],
   "source": [
    "sch.display()"
   ]
  },
  {
   "cell_type": "code",
   "execution_count": 11,
   "metadata": {},
   "outputs": [
    {
     "ename": "NameError",
     "evalue": "name 'e_t' is not defined",
     "output_type": "error",
     "traceback": [
      "\u001b[0;31m---------------------------------------------------------------------------\u001b[0m",
      "\u001b[0;31mNameError\u001b[0m                                 Traceback (most recent call last)",
      "\u001b[0;32m<ipython-input-11-84b0fcd5ca4b>\u001b[0m in \u001b[0;36m<module>\u001b[0;34m()\u001b[0m\n\u001b[0;32m----> 1\u001b[0;31m \u001b[0msch\u001b[0m\u001b[0;34m[\u001b[0m\u001b[0;34m:\u001b[0m\u001b[0;34m]\u001b[0m \u001b[0;34m=\u001b[0m \u001b[0;34m[\u001b[0m\u001b[0;34m[\u001b[0m\u001b[0me_t\u001b[0m\u001b[0;34m[\u001b[0m\u001b[0mInteger\u001b[0m\u001b[0;34m(\u001b[0m\u001b[0;36m0\u001b[0m\u001b[0;34m)\u001b[0m\u001b[0;34m]\u001b[0m\u001b[0;34m,\u001b[0m\u001b[0mInteger\u001b[0m\u001b[0;34m(\u001b[0m\u001b[0;36m0\u001b[0m\u001b[0;34m)\u001b[0m\u001b[0;34m,\u001b[0m\u001b[0mInteger\u001b[0m\u001b[0;34m(\u001b[0m\u001b[0;36m0\u001b[0m\u001b[0;34m)\u001b[0m\u001b[0;34m,\u001b[0m\u001b[0mInteger\u001b[0m\u001b[0;34m(\u001b[0m\u001b[0;36m0\u001b[0m\u001b[0;34m)\u001b[0m\u001b[0;34m]\u001b[0m\u001b[0;34m,\u001b[0m\u001b[0;34m[\u001b[0m\u001b[0mInteger\u001b[0m\u001b[0;34m(\u001b[0m\u001b[0;36m0\u001b[0m\u001b[0;34m)\u001b[0m\u001b[0;34m,\u001b[0m\u001b[0me_r\u001b[0m\u001b[0;34m[\u001b[0m\u001b[0mInteger\u001b[0m\u001b[0;34m(\u001b[0m\u001b[0;36m1\u001b[0m\u001b[0;34m)\u001b[0m\u001b[0;34m]\u001b[0m\u001b[0;34m,\u001b[0m\u001b[0mInteger\u001b[0m\u001b[0;34m(\u001b[0m\u001b[0;36m0\u001b[0m\u001b[0;34m)\u001b[0m\u001b[0;34m,\u001b[0m\u001b[0mInteger\u001b[0m\u001b[0;34m(\u001b[0m\u001b[0;36m0\u001b[0m\u001b[0;34m)\u001b[0m\u001b[0;34m]\u001b[0m\u001b[0;34m,\u001b[0m\u001b[0;34m[\u001b[0m\u001b[0mInteger\u001b[0m\u001b[0;34m(\u001b[0m\u001b[0;36m0\u001b[0m\u001b[0;34m)\u001b[0m\u001b[0;34m,\u001b[0m\u001b[0mInteger\u001b[0m\u001b[0;34m(\u001b[0m\u001b[0;36m0\u001b[0m\u001b[0;34m)\u001b[0m\u001b[0;34m,\u001b[0m\u001b[0me_th\u001b[0m\u001b[0;34m[\u001b[0m\u001b[0mInteger\u001b[0m\u001b[0;34m(\u001b[0m\u001b[0;36m2\u001b[0m\u001b[0;34m)\u001b[0m\u001b[0;34m]\u001b[0m\u001b[0;34m,\u001b[0m\u001b[0mInteger\u001b[0m\u001b[0;34m(\u001b[0m\u001b[0;36m0\u001b[0m\u001b[0;34m)\u001b[0m\u001b[0;34m]\u001b[0m\u001b[0;34m,\u001b[0m\u001b[0;34m[\u001b[0m\u001b[0mInteger\u001b[0m\u001b[0;34m(\u001b[0m\u001b[0;36m0\u001b[0m\u001b[0;34m)\u001b[0m\u001b[0;34m,\u001b[0m\u001b[0mInteger\u001b[0m\u001b[0;34m(\u001b[0m\u001b[0;36m0\u001b[0m\u001b[0;34m)\u001b[0m\u001b[0;34m,\u001b[0m\u001b[0mInteger\u001b[0m\u001b[0;34m(\u001b[0m\u001b[0;36m0\u001b[0m\u001b[0;34m)\u001b[0m\u001b[0;34m,\u001b[0m\u001b[0me_phi\u001b[0m\u001b[0;34m[\u001b[0m\u001b[0mInteger\u001b[0m\u001b[0;34m(\u001b[0m\u001b[0;36m3\u001b[0m\u001b[0;34m)\u001b[0m\u001b[0;34m]\u001b[0m\u001b[0;34m]\u001b[0m\u001b[0;34m]\u001b[0m\u001b[0;34m\u001b[0m\u001b[0m\n\u001b[0m",
      "\u001b[0;31mNameError\u001b[0m: name 'e_t' is not defined"
     ]
    }
   ],
   "source": [
    "sch[:] = [[e_t[0],0,0,0],[0,e_r[1],0,0],[0,0,e_th[2],0],[0,0,0,e_phi[3]]]"
   ]
  },
  {
   "cell_type": "code",
   "execution_count": 77,
   "metadata": {},
   "outputs": [
    {
     "data": {
      "text/html": [
       "<html><script type=\"math/tex; mode=display\">\\newcommand{\\Bold}[1]{\\mathbf{#1}}\\left( \\frac{\\sqrt{r}}{c \\sqrt{r - r_{s}}} \\right) \\frac{\\partial}{\\partial t }\\otimes \\mathrm{d} t + \\left( \\frac{\\sqrt{-r + r_{s}}}{\\sqrt{r_{s}}} \\right) \\frac{\\partial}{\\partial r }\\otimes \\mathrm{d} r + \\frac{1}{r} \\frac{\\partial}{\\partial \\theta }\\otimes \\mathrm{d} \\theta + \\frac{1}{r \\sin\\left(\\theta\\right)} \\frac{\\partial}{\\partial \\phi }\\otimes \\mathrm{d} \\phi</script></html>"
      ],
      "text/plain": [
       "sqrt(r)/(c*sqrt(r - r_s)) d/dt*dt + sqrt(-r + r_s)/sqrt(r_s) d/dr*dr + 1/r d/dtheta*dtheta + 1/(r*sin(theta)) d/dphi*dphi"
      ]
     },
     "execution_count": 77,
     "metadata": {},
     "output_type": "execute_result"
    }
   ],
   "source": [
    "sch.display()"
   ]
  },
  {
   "cell_type": "code",
   "execution_count": 88,
   "metadata": {},
   "outputs": [
    {
     "data": {
      "text/html": [
       "<html><script type=\"math/tex; mode=display\">\\newcommand{\\Bold}[1]{\\mathbf{#1}}\\left(M, \\left(eSch_0,eSch_1,eSch_2,eSch_3\\right)\\right)</script></html>"
      ],
      "text/plain": [
       "Vector frame (M, (eSch_0,eSch_1,eSch_2,eSch_3))"
      ]
     },
     "execution_count": 88,
     "metadata": {},
     "output_type": "execute_result"
    }
   ],
   "source": [
    "e_new = e_def.new_frame(sch,'eSch')\n",
    "e_new"
   ]
  },
  {
   "cell_type": "code",
   "execution_count": 90,
   "metadata": {},
   "outputs": [
    {
     "data": {
      "text/html": [
       "<html><script type=\"math/tex; mode=display\">\\newcommand{\\Bold}[1]{\\mathbf{#1}}\\verb|3-indices|\\phantom{\\verb!x!}\\verb|components|\\phantom{\\verb!x!}\\verb|w.r.t.|\\phantom{\\verb!x!}\\verb|Vector|\\phantom{\\verb!x!}\\verb|frame|\\phantom{\\verb!x!}\\verb|(M,|\\phantom{\\verb!x!}\\verb|(eSch_0,eSch_1,eSch_2,eSch_3)),|\\phantom{\\verb!x!}\\verb|with|\\phantom{\\verb!x!}\\verb|antisymmetry|\\phantom{\\verb!x!}\\verb|on|\\phantom{\\verb!x!}\\verb|the|\\phantom{\\verb!x!}\\verb|index|\\phantom{\\verb!x!}\\verb|positions|\\phantom{\\verb!x!}\\verb|(1,|\\phantom{\\verb!x!}\\verb|2)|</script></html>"
      ],
      "text/plain": [
       "3-indices components w.r.t. Vector frame (M, (eSch_0,eSch_1,eSch_2,eSch_3)), with antisymmetry on the index positions (1, 2)"
      ]
     },
     "execution_count": 90,
     "metadata": {},
     "output_type": "execute_result"
    }
   ],
   "source": [
    "e_new.structure_coef()"
   ]
  },
  {
   "cell_type": "code",
   "execution_count": 92,
   "metadata": {},
   "outputs": [
    {
     "data": {
      "text/html": [
       "<html><script type=\"math/tex; mode=display\">\\newcommand{\\Bold}[1]{\\mathbf{#1}}\\begin{array}{lcl} C_{\\,0\\,0\\,1}^{\\phantom{\\, 0}\\phantom{\\, 0}\\phantom{\\, 1}} & = & -\\frac{i \\, \\sqrt{r - r_{s}} \\sqrt{r_{s}}}{2 \\, {\\left(r^{2} - r r_{s}\\right)}} \\\\ C_{\\,0\\,1\\,0}^{\\phantom{\\, 0}\\phantom{\\, 1}\\phantom{\\, 0}} & = & \\frac{i \\, \\sqrt{r - r_{s}} \\sqrt{r_{s}}}{2 \\, {\\left(r^{2} - r r_{s}\\right)}} \\\\ C_{\\,2\\,1\\,2}^{\\phantom{\\, 2}\\phantom{\\, 1}\\phantom{\\, 2}} & = & -\\frac{\\sqrt{-r + r_{s}}}{r \\sqrt{r_{s}}} \\\\ C_{\\,2\\,2\\,1}^{\\phantom{\\, 2}\\phantom{\\, 2}\\phantom{\\, 1}} & = & \\frac{\\sqrt{-r + r_{s}}}{r \\sqrt{r_{s}}} \\\\ C_{\\,3\\,1\\,3}^{\\phantom{\\, 3}\\phantom{\\, 1}\\phantom{\\, 3}} & = & -\\frac{\\sqrt{-r + r_{s}}}{r \\sqrt{r_{s}}} \\\\ C_{\\,3\\,2\\,3}^{\\phantom{\\, 3}\\phantom{\\, 2}\\phantom{\\, 3}} & = & -\\frac{\\cos\\left(\\theta\\right)}{r \\sin\\left(\\theta\\right)} \\\\ C_{\\,3\\,3\\,1}^{\\phantom{\\, 3}\\phantom{\\, 3}\\phantom{\\, 1}} & = & \\frac{\\sqrt{-r + r_{s}}}{r \\sqrt{r_{s}}} \\\\ C_{\\,3\\,3\\,2}^{\\phantom{\\, 3}\\phantom{\\, 3}\\phantom{\\, 2}} & = & \\frac{\\cos\\left(\\theta\\right)}{r \\sin\\left(\\theta\\right)} \\end{array}</script></html>"
      ],
      "text/plain": [
       "C_001 = -1/2*I*sqrt(r - r_s)*sqrt(r_s)/(r^2 - r*r_s) \n",
       "C_010 = 1/2*I*sqrt(r - r_s)*sqrt(r_s)/(r^2 - r*r_s) \n",
       "C_212 = -sqrt(-r + r_s)/(r*sqrt(r_s)) \n",
       "C_221 = sqrt(-r + r_s)/(r*sqrt(r_s)) \n",
       "C_313 = -sqrt(-r + r_s)/(r*sqrt(r_s)) \n",
       "C_323 = -cos(theta)/(r*sin(theta)) \n",
       "C_331 = sqrt(-r + r_s)/(r*sqrt(r_s)) \n",
       "C_332 = cos(theta)/(r*sin(theta)) "
      ]
     },
     "execution_count": 92,
     "metadata": {},
     "output_type": "execute_result"
    }
   ],
   "source": [
    "_90.display('C')"
   ]
  },
  {
   "cell_type": "markdown",
   "metadata": {},
   "source": [
    "### Affine Connection"
   ]
  },
  {
   "cell_type": "code",
   "execution_count": 93,
   "metadata": {},
   "outputs": [
    {
     "data": {
      "text/html": [
       "<html><script type=\"math/tex; mode=display\">\\newcommand{\\Bold}[1]{\\mathbf{#1}}\\nabla</script></html>"
      ],
      "text/plain": [
       "Affine connection nabla on the 4-dimensional differentiable manifold M"
      ]
     },
     "execution_count": 93,
     "metadata": {},
     "output_type": "execute_result"
    }
   ],
   "source": [
    "nab = M.affine_connection('nabla',r'\\nabla')\n",
    "nab"
   ]
  },
  {
   "cell_type": "code",
   "execution_count": 132,
   "metadata": {},
   "outputs": [
    {
     "name": "stdout",
     "output_type": "stream",
     "text": [
      "[0, 1/2*r_s/(r^2 - r*r_s), 0, 0]\n",
      "[1/2*r_s/(r^2 - r*r_s), 0, 0, 0]\n",
      "[0, 0, 0, 0]\n",
      "[-1/2*(c^2*r*r_s - c^2*r_s^2)/r^3, 0, 0, 0]\n",
      "[0, -1/2*r_s/(r^2 - r*r_s), 0, 0]\n",
      "[0, 0, -r + r_s, 0]\n",
      "[0, 0, 0, 0]\n",
      "[0, 0, 1/r, 0]\n",
      "[0, 1/r, 0, 0]\n"
     ]
    }
   ],
   "source": [
    "for i in range(3):\n",
    "    for j in range(3):\n",
    "        print(nab.connection_form(i,j)[:])"
   ]
  },
  {
   "cell_type": "code",
   "execution_count": 125,
   "metadata": {},
   "outputs": [
    {
     "data": {
      "text/html": [
       "<html><script type=\"math/tex; mode=display\">\\newcommand{\\Bold}[1]{\\mathbf{#1}}\\omega^1_{\\ \\, 1} = -\\frac{r_{s}}{2 \\, {\\left(r^{2} - r r_{s}\\right)}} \\mathrm{d} r</script></html>"
      ],
      "text/plain": [
       "nabla_g2 connection 1-form (1,1) = -1/2*r_s/(r^2 - r*r_s) dr"
      ]
     },
     "execution_count": 125,
     "metadata": {},
     "output_type": "execute_result"
    }
   ],
   "source": [
    "_124.display()"
   ]
  },
  {
   "cell_type": "code",
   "execution_count": 126,
   "metadata": {
    "collapsed": true
   },
   "outputs": [],
   "source": [
    "nab.connection_form?"
   ]
  },
  {
   "cell_type": "markdown",
   "metadata": {},
   "source": [
    "### Raising, Lowering Indices"
   ]
  },
  {
   "cell_type": "code",
   "execution_count": 37,
   "metadata": {},
   "outputs": [
    {
     "data": {
      "text/html": [
       "<html><script type=\"math/tex; mode=display\">\\newcommand{\\Bold}[1]{\\mathbf{#1}}\\mbox{1-form on the 4-dimensional manifold 'M2'}</script></html>"
      ],
      "text/plain": [
       "1-form on the 4-dimensional manifold 'M2'"
      ]
     },
     "execution_count": 37,
     "metadata": {},
     "output_type": "execute_result"
    }
   ],
   "source": [
    "u2 = g2.contract(u)\n",
    "u2"
   ]
  },
  {
   "cell_type": "code",
   "execution_count": 38,
   "metadata": {},
   "outputs": [
    {
     "data": {
      "text/html": [
       "<html><script type=\"math/tex; mode=display\">\\newcommand{\\Bold}[1]{\\mathbf{#1}}\\left( \\frac{c^{2} r - c^{2} r_{s}}{r} \\right) \\mathrm{d} t + \\left( \\frac{r}{r - r_{s}} \\right) \\mathrm{d} r + r^{2} \\mathrm{d} \\theta + r^{2} \\sin\\left(\\theta\\right)^{2} \\mathrm{d} \\phi</script></html>"
      ],
      "text/plain": [
       "(c^2*r - c^2*r_s)/r dt + r/(r - r_s) dr + r^2 dtheta + r^2*sin(theta)^2 dphi"
      ]
     },
     "execution_count": 38,
     "metadata": {},
     "output_type": "execute_result"
    }
   ],
   "source": [
    "u2.display()"
   ]
  },
  {
   "cell_type": "markdown",
   "metadata": {},
   "source": [
    "### Two Ways of Finding Norm of Vector Field"
   ]
  },
  {
   "cell_type": "code",
   "execution_count": 42,
   "metadata": {},
   "outputs": [
    {
     "data": {
      "text/html": [
       "<html><script type=\"math/tex; mode=display\">\\newcommand{\\Bold}[1]{\\mathbf{#1}}\\mbox{scalar field on the 4-dimensional manifold 'M2'}</script></html>"
      ],
      "text/plain": [
       "scalar field on the 4-dimensional manifold 'M2'"
      ]
     },
     "execution_count": 42,
     "metadata": {},
     "output_type": "execute_result"
    }
   ],
   "source": [
    "norm_u = u.contract(u2)\n",
    "norm_u"
   ]
  },
  {
   "cell_type": "code",
   "execution_count": 44,
   "metadata": {},
   "outputs": [
    {
     "data": {
      "text/html": [
       "<html><script type=\"math/tex; mode=display\">\\newcommand{\\Bold}[1]{\\mathbf{#1}}\\begin{array}{llcl} & M2 & \\longrightarrow & \\mathbb{R} \\\\ & \\left(t, r, \\theta, \\phi\\right) & \\longmapsto & \\frac{r^{4} + c^{2} r_{s}^{2} + {\\left(c^{2} + 1\\right)} r^{2} + {\\left(r^{4} - r^{3} r_{s}\\right)} \\sin\\left(\\theta\\right)^{2} - {\\left(2 \\, c^{2} r + r^{3}\\right)} r_{s}}{r^{2} - r r_{s}} \\end{array}</script></html>"
      ],
      "text/plain": [
       "M2 --> R\n",
       "(t, r, theta, phi) |--> (r^4 + c^2*r_s^2 + (c^2 + 1)*r^2 + (r^4 - r^3*r_s)*sin(theta)^2 - (2*c^2*r + r^3)*r_s)/(r^2 - r*r_s)"
      ]
     },
     "execution_count": 44,
     "metadata": {},
     "output_type": "execute_result"
    }
   ],
   "source": [
    "norm_u.display()"
   ]
  },
  {
   "cell_type": "code",
   "execution_count": 45,
   "metadata": {},
   "outputs": [
    {
     "data": {
      "text/html": [
       "<html><script type=\"math/tex; mode=display\">\\newcommand{\\Bold}[1]{\\mathbf{#1}}\\begin{array}{llcl} g2\\left(u,u\\right):& M2 & \\longrightarrow & \\mathbb{R} \\\\ & \\left(t, r, \\theta, \\phi\\right) & \\longmapsto & \\frac{r^{4} + c^{2} r_{s}^{2} + {\\left(c^{2} + 1\\right)} r^{2} + {\\left(r^{4} - r^{3} r_{s}\\right)} \\sin\\left(\\theta\\right)^{2} - {\\left(2 \\, c^{2} r + r^{3}\\right)} r_{s}}{r^{2} - r r_{s}} \\end{array}</script></html>"
      ],
      "text/plain": [
       "g2(u,u): M2 --> R\n",
       "   (t, r, theta, phi) |--> (r^4 + c^2*r_s^2 + (c^2 + 1)*r^2 + (r^4 - r^3*r_s)*sin(theta)^2 - (2*c^2*r + r^3)*r_s)/(r^2 - r*r_s)"
      ]
     },
     "execution_count": 45,
     "metadata": {},
     "output_type": "execute_result"
    }
   ],
   "source": [
    "norm_u2 = g2(u,u)\n",
    "norm_u2.display()"
   ]
  },
  {
   "cell_type": "code",
   "execution_count": 59,
   "metadata": {},
   "outputs": [
    {
     "data": {
      "text/html": [
       "<html><script type=\"math/tex; mode=display\">\\newcommand{\\Bold}[1]{\\mathbf{#1}}r^{3} {\\left(\\frac{\\sin\\left(\\theta\\right)^{2}}{r - r_{s}} + \\frac{1}{r - r_{s}}\\right)} - {\\left(\\frac{r_{s} \\sin\\left(\\theta\\right)^{2}}{r - r_{s}} + \\frac{r_{s}}{r - r_{s}}\\right)} r^{2} + {\\left(\\frac{c^{2}}{r - r_{s}} + \\frac{1}{r - r_{s}}\\right)} r - \\frac{2 \\, c^{2} r_{s}}{r - r_{s}} + \\frac{c^{2} r_{s}^{2}}{{\\left(r - r_{s}\\right)} r}</script></html>"
      ],
      "text/plain": [
       "r^3*(sin(theta)^2/(r - r_s) + 1/(r - r_s)) - (r_s*sin(theta)^2/(r - r_s) + r_s/(r - r_s))*r^2 + (c^2/(r - r_s) + 1/(r - r_s))*r - 2*c^2*r_s/(r - r_s) + c^2*r_s^2/((r - r_s)*r)"
      ]
     },
     "execution_count": 59,
     "metadata": {},
     "output_type": "execute_result"
    }
   ],
   "source": [
    "norm_u2.function_chart().expand().collect(r).collect(r^3)"
   ]
  }
 ],
 "metadata": {
  "kernelspec": {
   "display_name": "SageMath 8.0",
   "language": "",
   "name": "sagemath"
  },
  "language_info": {
   "codemirror_mode": {
    "name": "ipython",
    "version": 2
   },
   "file_extension": ".py",
   "mimetype": "text/x-python",
   "name": "python",
   "nbconvert_exporter": "python",
   "pygments_lexer": "ipython2",
   "version": "2.7.13"
  },
  "latex_envs": {
   "bibliofile": "biblio.bib",
   "cite_by": "apalike",
   "current_citInitial": 1,
   "eqLabelWithNumbers": true,
   "eqNumInitial": 0
  },
  "toc": {
   "nav_menu": {},
   "number_sections": true,
   "sideBar": false,
   "skip_h1_title": false,
   "toc_cell": true,
   "toc_position": {
    "height": "290px",
    "left": "884.75px",
    "right": "39.25px",
    "top": "0px",
    "width": "352px"
   },
   "toc_section_display": "block",
   "toc_window_display": true
  },
  "varInspector": {
   "cols": {
    "lenName": 16,
    "lenType": 16,
    "lenVar": 40
   },
   "kernels_config": {
    "python": {
     "delete_cmd_postfix": "",
     "delete_cmd_prefix": "del ",
     "library": "var_list.py",
     "varRefreshCmd": "print(var_dic_list())"
    },
    "r": {
     "delete_cmd_postfix": ") ",
     "delete_cmd_prefix": "rm(",
     "library": "var_list.r",
     "varRefreshCmd": "cat(var_dic_list()) "
    }
   },
   "types_to_exclude": [
    "module",
    "function",
    "builtin_function_or_method",
    "instance",
    "_Feature"
   ],
   "window_display": false
  }
 },
 "nbformat": 4,
 "nbformat_minor": 1
}
