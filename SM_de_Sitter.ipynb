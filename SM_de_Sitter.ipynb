{
 "cells": [
  {
   "cell_type": "markdown",
   "metadata": {
    "deletable": true,
    "editable": true
   },
   "source": [
    "# de Sitter spacetime\n",
    "\n",
    "This worksheet demonstrates a few capabilities of [SageManifolds](http://sagemanifolds.obspm.fr) (version 1.0, as included in SageMath 7.5) in computations regarding de Sitter spacetime.\n",
    "\n",
    "Click [here](https://raw.githubusercontent.com/sagemanifolds/SageManifolds/master/Worksheets/v1.0/SM_de_Sitter.ipynb) to download the worksheet file (ipynb format). To run it, you must start SageMath within the Jupyter notebook, via the command `sage -n jupyter`"
   ]
  },
  {
   "cell_type": "markdown",
   "metadata": {
    "deletable": true,
    "editable": true
   },
   "source": [
    "*NB:* a version of SageMath at least equal to 7.5 is required to run this worksheet:"
   ]
  },
  {
   "cell_type": "code",
   "execution_count": 1,
   "metadata": {
    "collapsed": false,
    "deletable": true,
    "editable": true
   },
   "outputs": [
    {
     "data": {
      "text/plain": [
       "'SageMath version 7.6, Release Date: 2017-03-25'"
      ]
     },
     "execution_count": 1,
     "metadata": {},
     "output_type": "execute_result"
    }
   ],
   "source": [
    "version()"
   ]
  },
  {
   "cell_type": "markdown",
   "metadata": {
    "deletable": true,
    "editable": true
   },
   "source": [
    "First we set up the notebook to display mathematical objects using LaTeX rendering:"
   ]
  },
  {
   "cell_type": "code",
   "execution_count": 2,
   "metadata": {
    "collapsed": true,
    "deletable": true,
    "editable": true
   },
   "outputs": [],
   "source": [
    "%display latex"
   ]
  },
  {
   "cell_type": "markdown",
   "metadata": {
    "deletable": true,
    "editable": true
   },
   "source": [
    "We also define a viewer for 3D plots (use `'threejs'` or `'jmol'` for interactive 3D graphics):"
   ]
  },
  {
   "cell_type": "code",
   "execution_count": 3,
   "metadata": {
    "collapsed": true,
    "deletable": true,
    "editable": true
   },
   "outputs": [],
   "source": [
    "viewer3D = 'threejs' # must be 'threejs', 'jmol', 'tachyon' or None (default)"
   ]
  },
  {
   "cell_type": "markdown",
   "metadata": {
    "deletable": true,
    "editable": true
   },
   "source": [
    "## Spacetime manifold\n",
    "\n",
    "We declare the de Sitter spacetime as a 4-dimensional differentiable manifold:"
   ]
  },
  {
   "cell_type": "code",
   "execution_count": 4,
   "metadata": {
    "collapsed": false,
    "deletable": true,
    "editable": true
   },
   "outputs": [
    {
     "name": "stdout",
     "output_type": "stream",
     "text": [
      "4-dimensional differentiable manifold M\n"
     ]
    },
    {
     "data": {
      "text/html": [
       "<html><script type=\"math/tex; mode=display\">\\newcommand{\\Bold}[1]{\\mathbf{#1}}\\mathcal{M}</script></html>"
      ],
      "text/plain": [
       "4-dimensional differentiable manifold M"
      ]
     },
     "execution_count": 4,
     "metadata": {},
     "output_type": "execute_result"
    }
   ],
   "source": [
    "M = Manifold(4, 'M', r'\\mathcal{M}')\n",
    "print(M) ; M"
   ]
  },
  {
   "cell_type": "markdown",
   "metadata": {
    "deletable": true,
    "editable": true
   },
   "source": [
    "<p>We consider hyperspherical coordinates $(\\tau,\\chi,\\theta,\\phi)$ on $\\mathcal{M}$. Allowing for the standard coordinate singularities at $\\chi=0$, $\\chi=\\pi$, $\\theta=0$ or $\\theta=\\pi$, these coordinates cover the entire spacetime manifold (which is topologically $\\mathbb{R}\\times\\mathbb{S}^3$). If we restrict ourselves to <em>regular</em> coordinates (i.e. to consider only mathematically well defined charts), the hyperspherical coordinates cover only an open part of $\\mathcal{M}$, which we call $\\mathcal{M}_0$, on which $\\chi$ spans the open interval $(0,\\pi)$, $\\theta$ the open interval $(0,\\pi)$ and $\\phi$ the open interval $(0,2\\pi)$. Therefore, we declare:</p>"
   ]
  },
  {
   "cell_type": "code",
   "execution_count": 5,
   "metadata": {
    "collapsed": false,
    "deletable": true,
    "editable": true
   },
   "outputs": [
    {
     "name": "stdout",
     "output_type": "stream",
     "text": [
      "Chart (M_0, (ta, ch, th, ph))\n"
     ]
    },
    {
     "data": {
      "text/html": [
       "<html><script type=\"math/tex; mode=display\">\\newcommand{\\Bold}[1]{\\mathbf{#1}}\\left(\\mathcal{M}_0,({\\tau}, {\\chi}, {\\theta}, {\\phi})\\right)</script></html>"
      ],
      "text/plain": [
       "Chart (M_0, (ta, ch, th, ph))"
      ]
     },
     "execution_count": 5,
     "metadata": {},
     "output_type": "execute_result"
    }
   ],
   "source": [
    "M0 = M.open_subset('M_0', r'\\mathcal{M}_0')\n",
    "X_hyp.<ta,ch,th,ph> = M0.chart(r'ta:\\tau ch:(0,pi):\\chi th:(0,pi):\\theta ph:(0,2*pi):\\phi')\n",
    "print(X_hyp) ; X_hyp"
   ]
  },
  {
   "cell_type": "markdown",
   "metadata": {
    "deletable": true,
    "editable": true
   },
   "source": [
    "<h2>$\\mathbb{R}^5$ as an ambient space</h2>\n",
    "<p>The de Sitter metric can be defined as that induced by the embedding of $\\mathcal{M}$ into a 5-dimensional Minkowski space, i.e. $\\mathbb{R}^5$ equipped with a flat Lorentzian metric. We therefore introduce $\\mathbb{R}^5$ as a 5-dimensional manifold covered by canonical coordinates:</p>"
   ]
  },
  {
   "cell_type": "code",
   "execution_count": 6,
   "metadata": {
    "collapsed": false,
    "deletable": true,
    "editable": true
   },
   "outputs": [
    {
     "name": "stdout",
     "output_type": "stream",
     "text": [
      "Chart (R5, (T, W, X, Y, Z))\n"
     ]
    },
    {
     "data": {
      "text/html": [
       "<html><script type=\"math/tex; mode=display\">\\newcommand{\\Bold}[1]{\\mathbf{#1}}\\left(\\mathbb{R}^5,(T, W, X, Y, Z)\\right)</script></html>"
      ],
      "text/plain": [
       "Chart (R5, (T, W, X, Y, Z))"
      ]
     },
     "execution_count": 6,
     "metadata": {},
     "output_type": "execute_result"
    }
   ],
   "source": [
    "R5 = Manifold(5, 'R5', r'\\mathbb{R}^5')\n",
    "X5.<T,W,X,Y,Z> = R5.chart()\n",
    "print(X5) ; X5"
   ]
  },
  {
   "cell_type": "markdown",
   "metadata": {
    "deletable": true,
    "editable": true
   },
   "source": [
    "The embedding of $\\mathcal{M}$ into $\\mathbb{R}^5$ is defined as a differential mapping $\\Phi$ from $\\mathcal{M}$ to $\\mathbb{R}^5$, by providing its expression in terms of $\\mathcal{M}$'s default chart (which is X_hyp = $(\\mathcal{M}_0,(\\tau,\\chi,\\theta,\\phi))$ ) and $\\mathbb{R}^5$'s default chart (which is X5 = $(\\mathbb{R}^5,(T,W,X,Y,Z))$ ):"
   ]
  },
  {
   "cell_type": "code",
   "execution_count": 7,
   "metadata": {
    "collapsed": false,
    "deletable": true,
    "editable": true
   },
   "outputs": [
    {
     "name": "stdout",
     "output_type": "stream",
     "text": [
      "Differentiable map Phi from the 4-dimensional differentiable manifold M to the 5-dimensional differentiable manifold R5\n"
     ]
    },
    {
     "data": {
      "text/html": [
       "<html><script type=\"math/tex; mode=display\">\\newcommand{\\Bold}[1]{\\mathbf{#1}}\\begin{array}{llcl} \\Phi:& \\mathcal{M} & \\longrightarrow & \\mathbb{R}^5 \\\\ \\mbox{on}\\ \\mathcal{M}_0 : & \\left({\\tau}, {\\chi}, {\\theta}, {\\phi}\\right) & \\longmapsto & \\left(T, W, X, Y, Z\\right) = \\left(\\frac{\\sinh\\left(b {\\tau}\\right)}{b}, \\frac{\\cos\\left({\\chi}\\right) \\cosh\\left(b {\\tau}\\right)}{b}, \\frac{\\cos\\left({\\phi}\\right) \\cosh\\left(b {\\tau}\\right) \\sin\\left({\\chi}\\right) \\sin\\left({\\theta}\\right)}{b}, \\frac{\\cosh\\left(b {\\tau}\\right) \\sin\\left({\\chi}\\right) \\sin\\left({\\phi}\\right) \\sin\\left({\\theta}\\right)}{b}, \\frac{\\cos\\left({\\theta}\\right) \\cosh\\left(b {\\tau}\\right) \\sin\\left({\\chi}\\right)}{b}\\right) \\end{array}</script></html>"
      ],
      "text/plain": [
       "Phi: M --> R5\n",
       "on M_0: (ta, ch, th, ph) |--> (T, W, X, Y, Z) = (sinh(b*ta)/b, cos(ch)*cosh(b*ta)/b, cos(ph)*cosh(b*ta)*sin(ch)*sin(th)/b, cosh(b*ta)*sin(ch)*sin(ph)*sin(th)/b, cos(th)*cosh(b*ta)*sin(ch)/b)"
      ]
     },
     "execution_count": 7,
     "metadata": {},
     "output_type": "execute_result"
    }
   ],
   "source": [
    "var('b', domain='real')\n",
    "Phi = M.diff_map(R5, [sinh(b*ta)/b,\n",
    "                      cosh(b*ta)/b * cos(ch),\n",
    "                      cosh(b*ta)/b * sin(ch)*sin(th)*cos(ph),\n",
    "                      cosh(b*ta)/b * sin(ch)*sin(th)*sin(ph),\n",
    "                      cosh(b*ta)/b * sin(ch)*cos(th)],\n",
    "                 name='Phi', latex_name=r'\\Phi')\n",
    "print(Phi) ; Phi.display()"
   ]
  },
  {
   "cell_type": "markdown",
   "metadata": {
    "deletable": true,
    "editable": true
   },
   "source": [
    "<p>The constant $b$ is a scale parameter. Considering de Sitter metric as a solution of vacuum Einstein equation with positive cosmological constant $\\Lambda$, one has $b = \\sqrt{\\Lambda/3}$. </p>\n",
    "<p>Let us evaluate the image of a point via the mapping $\\Phi$:</p>"
   ]
  },
  {
   "cell_type": "code",
   "execution_count": 8,
   "metadata": {
    "collapsed": false,
    "deletable": true,
    "editable": true
   },
   "outputs": [
    {
     "name": "stdout",
     "output_type": "stream",
     "text": [
      "Point p on the 4-dimensional differentiable manifold M\n"
     ]
    }
   ],
   "source": [
    "p = M.point((ta, ch, th, ph), name='p') ; print(p)"
   ]
  },
  {
   "cell_type": "code",
   "execution_count": 9,
   "metadata": {
    "collapsed": false,
    "deletable": true,
    "editable": true
   },
   "outputs": [
    {
     "data": {
      "text/html": [
       "<html><script type=\"math/tex; mode=display\">\\newcommand{\\Bold}[1]{\\mathbf{#1}}\\left({\\tau}, {\\chi}, {\\theta}, {\\phi}\\right)</script></html>"
      ],
      "text/plain": [
       "(ta, ch, th, ph)"
      ]
     },
     "execution_count": 9,
     "metadata": {},
     "output_type": "execute_result"
    }
   ],
   "source": [
    "p.coord()"
   ]
  },
  {
   "cell_type": "code",
   "execution_count": 10,
   "metadata": {
    "collapsed": false,
    "deletable": true,
    "editable": true
   },
   "outputs": [
    {
     "name": "stdout",
     "output_type": "stream",
     "text": [
      "Point Phi(p) on the 5-dimensional differentiable manifold R5\n"
     ]
    }
   ],
   "source": [
    "q = Phi(p) ; print(q)"
   ]
  },
  {
   "cell_type": "code",
   "execution_count": 11,
   "metadata": {
    "collapsed": false,
    "deletable": true,
    "editable": true
   },
   "outputs": [
    {
     "data": {
      "text/html": [
       "<html><script type=\"math/tex; mode=display\">\\newcommand{\\Bold}[1]{\\mathbf{#1}}\\left(\\frac{\\sinh\\left(b {\\tau}\\right)}{b}, \\frac{\\cos\\left({\\chi}\\right) \\cosh\\left(b {\\tau}\\right)}{b}, \\frac{\\cos\\left({\\phi}\\right) \\cosh\\left(b {\\tau}\\right) \\sin\\left({\\chi}\\right) \\sin\\left({\\theta}\\right)}{b}, \\frac{\\cosh\\left(b {\\tau}\\right) \\sin\\left({\\chi}\\right) \\sin\\left({\\phi}\\right) \\sin\\left({\\theta}\\right)}{b}, \\frac{\\cos\\left({\\theta}\\right) \\cosh\\left(b {\\tau}\\right) \\sin\\left({\\chi}\\right)}{b}\\right)</script></html>"
      ],
      "text/plain": [
       "(sinh(b*ta)/b,\n",
       " cos(ch)*cosh(b*ta)/b,\n",
       " cos(ph)*cosh(b*ta)*sin(ch)*sin(th)/b,\n",
       " cosh(b*ta)*sin(ch)*sin(ph)*sin(th)/b,\n",
       " cos(th)*cosh(b*ta)*sin(ch)/b)"
      ]
     },
     "execution_count": 11,
     "metadata": {},
     "output_type": "execute_result"
    }
   ],
   "source": [
    "q.coord()"
   ]
  },
  {
   "cell_type": "markdown",
   "metadata": {
    "deletable": true,
    "editable": true
   },
   "source": [
    "<p>The image of $\\mathcal{M}$ by $\\Phi$ is a hyperboloid of one sheet, of equation $-T^2+W^2+X^2+Y^2+Z^2=b^{-2}$. Indeed:</p>"
   ]
  },
  {
   "cell_type": "code",
   "execution_count": 12,
   "metadata": {
    "collapsed": false,
    "deletable": true,
    "editable": true
   },
   "outputs": [
    {
     "data": {
      "text/html": [
       "<html><script type=\"math/tex; mode=display\">\\newcommand{\\Bold}[1]{\\mathbf{#1}}\\frac{1}{b^{2}}</script></html>"
      ],
      "text/plain": [
       "b^(-2)"
      ]
     },
     "execution_count": 12,
     "metadata": {},
     "output_type": "execute_result"
    }
   ],
   "source": [
    "(Tq,Wq,Xq,Yq,Zq) = q.coord()\n",
    "s = -Tq^2 + Wq^2 + Xq^2 + Yq^2 + Zq^2\n",
    "s.simplify_full()"
   ]
  },
  {
   "cell_type": "markdown",
   "metadata": {
    "deletable": true,
    "editable": true
   },
   "source": [
    "<p>We may use the embedding $\\Phi$ to draw the coordinate grid $(\\tau,\\chi)$ in terms of the coordinates $(W,X,T)$ for $\\theta=\\pi/2$ and $\\phi=0$ (red) and $\\theta=\\pi/2$ and $\\phi=\\pi$ (green) (the brown lines are the lines $\\tau={\\rm const}$):</p>"
   ]
  },
  {
   "cell_type": "code",
   "execution_count": 13,
   "metadata": {
    "collapsed": false,
    "deletable": true,
    "editable": true
   },
   "outputs": [
    {
     "data": {
      "text/html": [
       "\n",
       "<iframe srcdoc=\"<!DOCTYPE html>\n",
       "<html>\n",
       "<head>\n",
       "<title></title>\n",
       "<meta charset=&quot;utf-8&quot;>\n",
       "<meta name=viewport content=&quot;width=device-width, user-scalable=no, minimum-scale=1.0, maximum-scale=1.0&quot;>\n",
       "<style>\n",
       "\n",
       "    body { margin: 0px; overflow: hidden; }\n",
       "  \n",
       "</style>\n",
       "</head>\n",
       "\n",
       "<body>\n",
       "\n",
       "<script src=&quot;/nbextensions/threejs/three.min.js&quot;></script>\n",
       "<script src=&quot;/nbextensions/threejs/OrbitControls.js&quot;></script>\n",
       "<script>\n",
       "  if ( !window.THREE ) document.write('<script src=&quot;https://cdn.rawgit.com/mrdoob/three.js/r80/build/three.min.js&quot;><\\/script><script src=&quot;https://cdn.rawgit.com/mrdoob/three.js/r80/examples/js/controls/OrbitControls.js&quot;><\\/script>');\n",
       "</script>\n",
       "                \n",
       "<script>\n",
       "\n",
       "    var scene = new THREE.Scene();\n",
       "\n",
       "    var renderer = new THREE.WebGLRenderer( { antialias: true } );\n",
       "    renderer.setSize( window.innerWidth, window.innerHeight );\n",
       "    renderer.setClearColor( 0xffffff, 1 );\n",
       "    document.body.appendChild( renderer.domElement );\n",
       "\n",
       "    var options = {&quot;axes_labels&quot;: [&quot;W&quot;, &quot;X&quot;, &quot;T&quot;], &quot;frame&quot;: true, &quot;axes&quot;: false, &quot;online&quot;: false, &quot;aspect_ratio&quot;: [1.0, 1.0, 1.0], &quot;decimals&quot;: 2};\n",
       "\n",
       "    // When animations are supported by the viewer, the value 'false'\n",
       "    // will be replaced with an option set in Python by the user\n",
       "    var animate = false; // options.animate;\n",
       "\n",
       "    var b = [{&quot;x&quot;:-3.76219380999, &quot;y&quot;:-3.76219569108, &quot;z&quot;:-3.62686040785}, {&quot;x&quot;:3.76219380999, &quot;y&quot;:3.76219569108, &quot;z&quot;:3.62686040785}]; // bounds\n",
       "\n",
       "    if ( b[0].x === b[1].x ) {\n",
       "        b[0].x -= 1;\n",
       "        b[1].x += 1;\n",
       "    }\n",
       "    if ( b[0].y === b[1].y ) {\n",
       "        b[0].y -= 1;\n",
       "        b[1].y += 1;\n",
       "    }\n",
       "    if ( b[0].z === b[1].z ) {\n",
       "        b[0].z -= 1;\n",
       "        b[1].z += 1;\n",
       "    }\n",
       "\n",
       "    var rRange = Math.sqrt( Math.pow( b[1].x - b[0].x, 2 )\n",
       "                            + Math.pow( b[1].x - b[0].x, 2 ) );\n",
       "    var xRange = b[1].x - b[0].x;\n",
       "    var yRange = b[1].y - b[0].y;\n",
       "    var zRange = b[1].z - b[0].z;\n",
       "\n",
       "    var ar = options.aspect_ratio;\n",
       "    var a = [ ar[0], ar[1], ar[2] ]; // aspect multipliers\n",
       "    var autoAspect = 2.5;\n",
       "    if ( zRange > autoAspect * rRange && a[2] === 1 ) a[2] = autoAspect * rRange / zRange;\n",
       "\n",
       "    var xMid = ( b[0].x + b[1].x ) / 2;\n",
       "    var yMid = ( b[0].y + b[1].y ) / 2;\n",
       "    var zMid = ( b[0].z + b[1].z ) / 2;\n",
       "\n",
       "    var box = new THREE.Geometry();\n",
       "    box.vertices.push( new THREE.Vector3( a[0]*b[0].x, a[1]*b[0].y, a[2]*b[0].z ) );\n",
       "    box.vertices.push( new THREE.Vector3( a[0]*b[1].x, a[1]*b[1].y, a[2]*b[1].z ) );\n",
       "    var boxMesh = new THREE.LineSegments( box );\n",
       "    if ( options.frame ) scene.add( new THREE.BoxHelper( boxMesh, 'black' ) );\n",
       "\n",
       "    if ( options.axes_labels ) {\n",
       "        var d = options.decimals; // decimals\n",
       "        var offsetRatio = 0.1;\n",
       "        var al = options.axes_labels;\n",
       "\n",
       "        var offset = offsetRatio * a[1]*( b[1].y - b[0].y );\n",
       "        var xm = xMid.toFixed(d);\n",
       "        if ( /^-0.?0*$/.test(xm) ) xm = xm.substr(1);\n",
       "        addLabel( al[0] + '=' + xm, a[0]*xMid, a[1]*b[1].y+offset, a[2]*b[0].z );\n",
       "        addLabel( ( b[0].x ).toFixed(d), a[0]*b[0].x, a[1]*b[1].y+offset, a[2]*b[0].z );\n",
       "        addLabel( ( b[1].x ).toFixed(d), a[0]*b[1].x, a[1]*b[1].y+offset, a[2]*b[0].z );\n",
       "\n",
       "        var offset = offsetRatio * a[0]*( b[1].x - b[0].x );\n",
       "        var ym = yMid.toFixed(d);\n",
       "        if ( /^-0.?0*$/.test(ym) ) ym = ym.substr(1);\n",
       "        addLabel( al[1] + '=' + ym, a[0]*b[1].x+offset, a[1]*yMid, a[2]*b[0].z );\n",
       "        addLabel( ( b[0].y ).toFixed(d), a[0]*b[1].x+offset, a[1]*b[0].y, a[2]*b[0].z );\n",
       "        addLabel( ( b[1].y ).toFixed(d), a[0]*b[1].x+offset, a[1]*b[1].y, a[2]*b[0].z );\n",
       "\n",
       "        var offset = offsetRatio * a[1]*( b[1].y - b[0].y );\n",
       "        var zm = zMid.toFixed(d);\n",
       "        if ( /^-0.?0*$/.test(zm) ) zm = zm.substr(1);\n",
       "        addLabel( al[2] + '=' + zm, a[0]*b[1].x, a[1]*b[0].y-offset, a[2]*zMid );\n",
       "        addLabel( ( b[0].z ).toFixed(d), a[0]*b[1].x, a[1]*b[0].y-offset, a[2]*b[0].z );\n",
       "        addLabel( ( b[1].z ).toFixed(d), a[0]*b[1].x, a[1]*b[0].y-offset, a[2]*b[1].z );\n",
       "    }\n",
       "\n",
       "    function addLabel( text, x, y, z ) {\n",
       "        var fontsize = 14;\n",
       "\n",
       "        var canvas = document.createElement( 'canvas' );\n",
       "        canvas.width = 128;\n",
       "        canvas.height = 32; // powers of two\n",
       "\n",
       "        var context = canvas.getContext( '2d' );\n",
       "        context.fillStyle = 'black';\n",
       "        context.font = fontsize + 'px monospace';\n",
       "        context.textAlign = 'center';\n",
       "        context.textBaseline = 'middle';\n",
       "        context.fillText( text, .5*canvas.width, .5*canvas.height );\n",
       "\n",
       "        var texture = new THREE.Texture( canvas );\n",
       "        texture.needsUpdate = true;\n",
       "\n",
       "        var sprite = new THREE.Sprite( new THREE.SpriteMaterial( { map: texture } ) );\n",
       "        sprite.position.set( x, y, z );\n",
       "        sprite.scale.set( 1, .25 ); // ratio of width to height\n",
       "        scene.add( sprite );\n",
       "    }\n",
       "\n",
       "    if ( options.axes ) scene.add( new THREE.AxisHelper( Math.min( a[0]*b[1].x, a[1]*b[1].y, a[2]*b[1].z ) ) );\n",
       "\n",
       "    var camera = new THREE.PerspectiveCamera( 45, window.innerWidth / window.innerHeight, 0.1, 1000 );\n",
       "    camera.up.set( 0, 0, 1 );\n",
       "    camera.position.set( a[0]*(xMid+xRange), a[1]*(yMid+yRange), a[2]*(zMid+zRange) );\n",
       "\n",
       "    var lights = [{&quot;x&quot;:-5, &quot;y&quot;:3, &quot;z&quot;:0, &quot;color&quot;:&quot;#7f7f7f&quot;, &quot;parent&quot;:&quot;camera&quot;}];\n",
       "    for ( var i=0 ; i < lights.length ; i++ ) {\n",
       "        var light = new THREE.DirectionalLight( lights[i].color, 1 );\n",
       "        light.position.set( a[0]*lights[i].x, a[1]*lights[i].y, a[2]*lights[i].z );\n",
       "        if ( lights[i].parent === 'camera' ) {\n",
       "            light.target.position.set( a[0]*xMid, a[1]*yMid, a[2]*zMid );\n",
       "            scene.add( light.target );\n",
       "            camera.add( light );\n",
       "        } else scene.add( light );\n",
       "    }\n",
       "    scene.add( camera );\n",
       "\n",
       "    var ambient = {&quot;color&quot;:&quot;#7f7f7f&quot;};\n",
       "    scene.add( new THREE.AmbientLight( ambient.color, 1 ) );\n",
       "\n",
       "    var controls = new THREE.OrbitControls( camera, renderer.domElement );\n",
       "    controls.target.set( a[0]*xMid, a[1]*yMid, a[2]*zMid );\n",
       "    controls.addEventListener( 'change', function() { if ( !animate ) render(); } );\n",
       "\n",
       "    window.addEventListener( 'resize', function() {\n",
       "        \n",
       "        renderer.setSize( window.innerWidth, window.innerHeight );\n",
       "        camera.aspect = window.innerWidth / window.innerHeight;\n",
       "        camera.updateProjectionMatrix();\n",
       "        if ( !animate ) render();\n",
       "        \n",
       "    } );\n",
       "\n",
       "    var texts = [];\n",
       "    for ( var i=0 ; i < texts.length ; i++ )\n",
       "        addLabel( texts[i].text, texts[i].x, texts[i].y, texts[i].z );\n",
       "\n",
       "    var points = [];\n",
       "    for ( var i=0 ; i < points.length ; i++ ) addPoint( points[i] );\n",
       "\n",
       "    function addPoint( json ) {\n",
       "        var geometry = new THREE.Geometry();\n",
       "        var v = json.point;\n",
       "        geometry.vertices.push( new THREE.Vector3( a[0]*v[0], a[1]*v[1], a[2]*v[2] ) );\n",
       "\n",
       "        var canvas = document.createElement( 'canvas' );\n",
       "        canvas.width = 128;\n",
       "        canvas.height = 128;\n",
       "\n",
       "        var context = canvas.getContext( '2d' );\n",
       "        context.arc( 64, 64, 64, 0, 2 * Math.PI );\n",
       "        context.fillStyle = json.color;\n",
       "        context.fill();\n",
       "\n",
       "        var texture = new THREE.Texture( canvas );\n",
       "        texture.needsUpdate = true;\n",
       "\n",
       "        var transparent = json.opacity < 1 ? true : false;\n",
       "        var material = new THREE.PointsMaterial( { size: json.size/100, map: texture,\n",
       "                                                   transparent: transparent, opacity: json.opacity,\n",
       "                                                   alphaTest: .1 } );\n",
       "\n",
       "        var c = geometry.center().multiplyScalar( -1 );\n",
       "        var mesh = new THREE.Points( geometry, material );\n",
       "        mesh.position.set( c.x, c.y, c.z );\n",
       "        scene.add( mesh );\n",
       "    }\n",
       "\n",
       "    var lines = [{&quot;points&quot;:[[3.7621938099859427, 0.0037621950640510477, -3.6268604078470186], [3.5715495201377943, 0.003571550710654777, -3.4286992768061455], [3.3913432704057964, 0.0033913444008540055, -3.2405586985801578], [3.221048398607813, 0.0032210494722910423, -3.0618888224972602], [3.060167209081673, 0.0030601682291378175, -2.8921674765075944], [2.908229518143589, 0.0029082304875538163, -2.7308986411081357], [2.76479127995177, 0.002764792201549232, -2.5776109996997736], [2.6294332887592446, 0.002629434165237358, -2.431856561139922], [2.501759953763157, 0.0025017607876834753, -2.293209350464992], [2.381398142969974, 0.002381398936769672, -2.161264163956303], [2.267996092697734, 0.002267996848696734, -2.035635384911034], [2.1612223795283034, 0.0021612230999360515, -1.9159558566572639], [2.0607649517051194, 0.002060765638627045, -1.8018758095194078], [1.966330217145622, 0.00196633087258929, -1.6930618385980618], [1.8776421854030503, 0.0018776428112840292, -1.5891959293767617], [1.7944416610699396, 0.0017944422592173993, -1.4899745283079393], [1.7164854862659988, 0.0017164860584280566, -1.3951076556618172], [1.6435458299964962, 0.0016435463778453254, -1.3043180580454936], [1.5754095223042728, 0.0015754100474409903, -1.2173403981154138], [1.5118774312694017, 0.001511877935228747, -1.1339204791151165], [1.4527638810357468, 0.0014527643652905676, -1.05381450197193], [1.3978961091635698, 0.001397896575129126, -0.9767883527814414], [1.3471137617222702, 0.0013471142107603705, -0.902616918597376], [1.300268424647646, 0.0013002688580706274, -0.831083429527249], [1.2572231899940325, 0.0012572236090685968, -0.7619788252110253], [1.217852255813679, 0.0012178526617645934, -0.6951011438312932], [1.1820405584939802, 0.0011820409525076573, -0.6302549318692982], [1.1496834364780562, 0.0011496838197060217, -0.5672506728818205], [1.1206863243858838, 0.0011206866979481414, -0.5059042336294659], [1.09496447664203, 0.0010949648416303348, -0.4460363259376513], [1.07244271980228, 0.0010724430772833294, -0.38747198271754474], [1.0530552328553182, 0.0010530555838738696, -0.3300400466156053], [1.0367453548573826, 0.0010367457004393059, -0.27357266979727257], [1.0234654193376957, 0.001023465760492972, -0.2179048234028989], [1.0131766149907133, 0.0010131769527163866, -0.16287381524228275], [1.0058488722480536, 0.0010058492075311451, -0.10831881431824107], [1.0014607753986156, 0.0010014611092190075, -0.054080380789614926], [0.9999995000000417, 0.0009999998333333417, -1.887379141862766e-15], [1.0014607753986156, 0.0010014611092190075, 0.054080380789611145], [1.0058488722480532, 0.0010058492075311447, 0.10831881431823727], [1.0131766149907127, 0.001013176952716386, 0.16287381524227895], [1.023465419337695, 0.0010234657604929714, 0.21790482340289502], [1.0367453548573815, 0.0010367457004393048, 0.2735726697972687], [1.0530552328553169, 0.0010530555838738683, 0.3300400466156013], [1.0724427198022783, 0.001072443077283328, 0.3874719827175407], [1.0949644766420281, 0.001094964841630333, 0.44603632593764714], [1.1206863243858818, 0.0011206866979481395, 0.5059042336294617], [1.1496834364780542, 0.0011496838197060197, 0.5672506728818162], [1.1820405584939777, 0.0011820409525076547, 0.6302549318692937], [1.2178522558136764, 0.0012178526617645906, 0.6951011438312886], [1.2572231899940296, 0.001257223609068594, 0.7619788252110206], [1.3002684246476428, 0.0013002688580706244, 0.8310834295272441], [1.3471137617222666, 0.001347114210760367, 0.902616918597371], [1.397896109163566, 0.001397896575129122, 0.976788352781436], [1.4527638810357428, 0.0014527643652905637, 1.0538145019719247], [1.5118774312693974, 0.001511877935228743, 1.133920479115111], [1.5754095223042681, 0.0015754100474409856, 1.2173403981154078], [1.6435458299964916, 0.0016435463778453209, 1.3043180580454878], [1.7164854862659937, 0.0017164860584280514, 1.395107655661811], [1.7944416610699343, 0.001794442259217394, 1.4899745283079329], [1.8776421854030445, 0.0018776428112840234, 1.589195929376755], [1.966330217145616, 0.001966330872589284, 1.693061838598055], [2.060764951705113, 0.0020607656386270384, 1.8018758095194005], [2.1612223795282963, 0.0021612230999360446, 1.9159558566572563], [2.2679960926977265, 0.002267996848696726, 2.035635384911026], [2.3813981429699664, 0.0023813989367696647, 2.1612641639562944], [2.501759953763149, 0.002501760787683467, 2.2932093504649833], [2.629433288759236, 0.0026294341652373498, 2.4318565611399126], [2.764791279951761, 0.0027647922015492233, 2.577610999699764], [2.9082295181435796, 0.0029082304875538067, 2.730898641108125], [3.060167209081663, 0.003060168229137807, 2.8921674765075838], [3.221048398607802, 0.003221049472291031, 3.0618888224972487], [3.391343270405785, 0.003391344400853994, 3.240558698580146], [3.571549520137782, 0.0035715507106547644, 3.4286992768061326], [3.76219380998593, 0.0037621950640510347, 3.6268604078470053]], &quot;color&quot;:&quot;red&quot;, &quot;opacity&quot;:1, &quot;linewidth&quot;:2},{&quot;points&quot;:[[3.4747348213522433, 1.4423364168218302, -3.6268604078470186], [3.298657142773051, 1.369247890341014, -3.4286992768061455], [3.1322199620762357, 1.3001610623744555, -3.2405586985801578], [2.974936857903466, 1.234874023057054, -3.0618888224972602], [2.8263481621634297, 1.1731959676046069, -2.8921674765075944], [2.6860196166278163, 1.1149466386768563, -2.7308986411081357], [2.5535411037889486, 1.0599557995659925, -2.5776109996997736], [2.4285254482699377, 1.0080627366709798, -2.431856561139922], [2.3106072852844073, 0.9591157898036576, -2.293209350464992], [2.199441992838815, 0.912971908953916, -2.161264163956303], [2.094704684556666, 0.8694962362185652, -2.035635384911034], [1.996089260181099, 0.8285617116720657, -1.9159558566572639], [1.9033075109808892, 0.7900487020272567, -1.8018758095194078], [1.8160882774453717, 0.7538446510008225, -1.6930618385980618], [1.7341766568065993, 0.7198437503616714, -1.5891959293767617], [1.6573332580726823, 0.6879466307008518, -1.4899745283079393], [1.5853335023951065, 0.6580600710192621, -1.3951076556618172], [1.5179669667253104, 0.6300967262844082, -1.3043180580454936], [1.45503676884233, 0.6039748721599821, -1.2173403981154138], [1.396358991954219, 0.5796181661622184, -1.1339204791151165], [1.3417621471916141, 0.5569554245449955, -1.05381450197193], [1.2910866724225518, 0.535920414261618, -0.9767883527814414], [1.2441844659237986, 0.516451659395276, -0.902616918597376], [1.2009184535458268, 0.4984922614924665, -0.831083429527249], [1.1611621881064482, 0.48198973327428857, -0.7619788252110253], [1.1247994798423162, 0.4668958452396284, -0.6951011438312932], [1.0917240568382713, 0.453166484711922, -0.6302549318692982], [1.0618392544421147, 0.4407615269175523, -0.5672506728818205], [1.0350577327571109, 0.4296447177191019, -0.5059042336294659], [1.0113012213865753, 0.4197835676607413, -0.4460363259376513], [0.9905002906845496, 0.4111492570160967, -0.38747198271754474], [0.9725941488440334, 0.40371655156109376, -0.3300400466156053], [0.9575304642297512, 0.39746372882561876, -0.27357266979727257], [0.9452652124362129, 0.3923725146084645, -0.2179048234028989], [0.9357625476240898, 0.38842802957002276, -0.16287381524228275], [0.9289946977588737, 0.3856187457466359, -0.10831881431824107], [0.9249418834456563, 0.3839364528595213, -0.054080380789614926], [0.923592260122814, 0.38337623431980267, -1.887379141862766e-15], [0.9249418834456563, 0.3839364528595213, 0.054080380789611145], [0.9289946977588733, 0.38561874574663574, 0.10831881431823727], [0.9357625476240892, 0.3884280295700225, 0.16287381524227895], [0.9452652124362123, 0.39237251460846423, 0.21790482340289502], [0.9575304642297502, 0.39746372882561837, 0.2735726697972687], [0.9725941488440322, 0.40371655156109326, 0.3300400466156013], [0.9905002906845481, 0.4111492570160961, 0.3874719827175407], [1.0113012213865735, 0.4197835676607406, 0.44603632593764714], [1.0350577327571089, 0.4296447177191012, 0.5059042336294617], [1.0618392544421127, 0.44076152691755155, 0.5672506728818162], [1.0917240568382691, 0.45316648471192106, 0.6302549318692937], [1.1247994798423138, 0.4668958452396274, 0.6951011438312886], [1.1611621881064456, 0.48198973327428746, 0.7619788252110206], [1.200918453545824, 0.49849226149246534, 0.8310834295272441], [1.2441844659237953, 0.5164516593952747, 0.902616918597371], [1.2910866724225483, 0.5359204142616165, 0.976788352781436], [1.3417621471916104, 0.5569554245449939, 1.0538145019719247], [1.3963589919542152, 0.5796181661622168, 1.133920479115111], [1.4550367688423256, 0.6039748721599804, 1.2173403981154078], [1.5179669667253062, 0.6300967262844064, 1.3043180580454878], [1.5853335023951018, 0.6580600710192601, 1.395107655661811], [1.6573332580726774, 0.6879466307008497, 1.4899745283079329], [1.734176656806594, 0.7198437503616691, 1.589195929376755], [1.8160882774453662, 0.7538446510008202, 1.693061838598055], [1.9033075109808835, 0.7900487020272544, 1.8018758095194005], [1.9960892601810925, 0.8285617116720629, 1.9159558566572563], [2.0947046845566595, 0.8694962362185623, 2.035635384911026], [2.1994419928388083, 0.9129719089539131, 2.1612641639562944], [2.3106072852843997, 0.9591157898036546, 2.2932093504649833], [2.4285254482699297, 1.0080627366709765, 2.4318565611399126], [2.5535411037889406, 1.0599557995659892, 2.577610999699764], [2.6860196166278074, 1.1149466386768527, 2.730898641108125], [2.8263481621634203, 1.173195967604603, 2.8921674765075838], [2.974936857903456, 1.2348740230570499, 3.0618888224972487], [3.132219962076225, 1.300161062374451, 3.240558698580146], [3.2986571427730396, 1.369247890341009, 3.4286992768061326], [3.4747348213522313, 1.4423364168218253, 3.6268604078470053]], &quot;color&quot;:&quot;red&quot;, &quot;opacity&quot;:1, &quot;linewidth&quot;:2},{&quot;points&quot;:[[2.658943615794556, 2.6616038897690273, -3.6268604078470186], [2.5242050980621813, 2.5267305661047206, -3.4286992768061455], [2.396843701639873, 2.3992417445628114, -3.2405586985801578], [2.2764872061908803, 2.278764832399978, -3.0618888224972602], [2.162783863567614, 2.1649477295444925, -2.8921674765075944], [2.0554013698092994, 2.057457799565356, -2.7308986411081357], [1.9540258939662885, 1.955980897524951, -2.5776109996997736], [1.8583611609127069, 1.8602204518740413, -2.431856561139922], [1.768127585466918, 1.7698965977059222, -2.293209350464992], [1.6830614552892167, 1.684745358836605, -2.161264163956303], [1.602914160168737, 1.6045178763206247, -2.035635384911034], [1.5274514654471174, 1.5289796811477663, -1.9159558566572639], [1.4564528274554729, 1.45791000899513, -1.8018758095194078], [1.3897107489639962, 1.3911011550318613, -1.6930618385980618], [1.32703017276046, 1.328357866890927, -1.5891959293767617], [1.2682279115853212, 1.2694967740338694, -1.4899745283079393], [1.2131321127573822, 1.2143458518408263, -1.3951076556618172], [1.1615817559253485, 1.162743918859588, -1.3043180580454936], [1.1134261824774383, 1.1145401657443814, -1.2173403981154138], [1.0685246552337155, 1.0695937145076746, -1.1339204791151165], [1.0267459471343277, 1.0277732067968983, -1.05381450197193], [0.9879679577215645, 0.9889564199927937, -0.9767883527814414], [0.9520773562948909, 0.9530299100074215, -0.902616918597376], [0.918969250696051, 0.919888679737887, -0.831083429527249], [0.8885468807562548, 0.889435872206819, -0.7619788252110253], [0.860721335509528, 0.861582487492792, -0.6951011438312932], [0.8354112933457682, 0.8362471226234053, -0.6302549318692982], [0.8125427843440888, 0.8133557336708421, -0.5672506728818205], [0.7920489740918601, 0.7928414193546206, -0.5059042336294659], [0.7738699683576459, 0.7746442255191057, -0.4460363259376513], [0.7579526380471816, 0.7587109699143567, -0.38747198271754474], [0.7442504639308202, 0.7449950867682217, -0.3300400466156053], [0.7327234006886528, 0.7334564906954357, -0.27357266979727257], [0.7233377598759678, 0.7240614595459872, -0.2179048234028989], [0.7160661114670118, 0.7167825358503725, -0.16287381524228275], [0.7108872036893042, 0.711598446573706, -0.10831881431824107], [0.7077859009142233, 0.7084940409441642, -0.054080380789614926], [0.7067531394223399, 0.7074602461740637, -1.887379141862766e-15], [0.7077859009142233, 0.7084940409441642, 0.054080380789611145], [0.7108872036893039, 0.7115984465737056, 0.10831881431823727], [0.7160661114670113, 0.7167825358503721, 0.16287381524227895], [0.7233377598759674, 0.7240614595459867, 0.21790482340289502], [0.732723400688652, 0.733456490695435, 0.2735726697972687], [0.7442504639308193, 0.7449950867682207, 0.3300400466156013], [0.7579526380471805, 0.7587109699143556, 0.3874719827175407], [0.7738699683576447, 0.7746442255191045, 0.44603632593764714], [0.7920489740918587, 0.7928414193546192, 0.5059042336294617], [0.8125427843440873, 0.8133557336708407, 0.5672506728818162], [0.8354112933457665, 0.8362471226234036, 0.6302549318692937], [0.8607213355095262, 0.8615824874927901, 0.6951011438312886], [0.8885468807562527, 0.8894358722068169, 0.7619788252110206], [0.9189692506960487, 0.9198886797378848, 0.8310834295272441], [0.9520773562948883, 0.953029910007419, 0.902616918597371], [0.9879679577215619, 0.988956419992791, 0.976788352781436], [1.0267459471343248, 1.0277732067968954, 1.0538145019719247], [1.0685246552337127, 1.0695937145076717, 1.133920479115111], [1.1134261824774352, 1.114540165744378, 1.2173403981154078], [1.1615817559253452, 1.1627439188595847, 1.3043180580454878], [1.2131321127573786, 1.2143458518408228, 1.395107655661811], [1.2682279115853174, 1.2694967740338656, 1.4899745283079329], [1.3270301727604559, 1.3283578668909228, 1.589195929376755], [1.389710748963992, 1.391101155031857, 1.693061838598055], [1.4564528274554684, 1.4579100089951256, 1.8018758095194005], [1.5274514654471123, 1.5289796811477612, 1.9159558566572563], [1.6029141601687316, 1.6045178763206194, 2.035635384911026], [1.6830614552892114, 1.6847453588365995, 2.1612641639562944], [1.7681275854669125, 1.7698965977059167, 2.2932093504649833], [1.858361160912701, 1.8602204518740353, 2.4318565611399126], [1.9540258939662822, 1.9559808975249449, 2.577610999699764], [2.0554013698092928, 2.0574577995653494, 2.730898641108125], [2.162783863567607, 2.164947729544485, 2.8921674765075838], [2.2764872061908727, 2.2787648323999705, 3.0618888224972487], [2.3968437016398645, 2.399241744562803, 3.240558698580146], [2.5242050980621724, 2.5267305661047117, 3.4286992768061326], [2.6589436157945467, 2.6616038897690184, 3.6268604078470053]], &quot;color&quot;:&quot;red&quot;, &quot;opacity&quot;:1, &quot;linewidth&quot;:2},{&quot;points&quot;:[[1.4388609614114518, 3.47617542016141, -3.6268604078470186], [1.3659485491241286, 3.3000247411067503, -3.4286992768061455], [1.2970281928539387, 3.1335185568120663, -3.2405586985801578], [1.2318984692580133, 2.9761702442524056, -3.0618888224972602], [1.1703690333155665, 2.8275199447615385, -2.8921674765075944], [1.1122600620346252, 2.6871332200709723, -2.7308986411081357], [1.057401728909938, 2.55459978264141, -2.5776109996997736], [1.0056337075961375, 2.4295322965759754, -2.431856561139922], [0.9568047033456194, 2.311565245610812, -2.293209350464992], [0.9107720108417343, 2.2003538648747023, -2.161264163956303], [0.8674010971350439, 2.095573133295714, -2.035635384911034], [0.8265652084637447, 1.9969168237101307, -1.9159558566572639], [0.7881449998091756, 1.9040966078975656, -1.8018758095194078], [0.7520281861037643, 1.8168412139266688, -1.6930618385980618], [0.7181092140720489, 1.7348956333487309, -1.5891959293767617], [0.6862889537457145, 1.6580203759221654, -1.4899745283079393], [0.656474408751081, 1.5859907696897642, -1.3951076556618172], [0.6285784445223404, 1.5185963043631587, -1.3043180580454936], [0.602519533646235, 1.4556400160955036, -1.2173403981154138], [0.5782215175939317, 1.3969379118443406, -1.1339204791151165], [0.5556133841437417, 1.3423184316423156, -1.05381450197193], [0.5346290598441916, 1.291621947204211, -0.9767883527814414], [0.5152072169109081, 1.2447002954049375, -0.902616918597376], [0.4972910939929637, 1.2014163452650606, -0.831083429527249], [0.4808283302848625, 1.1616435971783454, -0.7619788252110253], [0.46577081249934943, 1.125265813210047, -0.6951011438312932], [0.45207453425381416, 1.0921766773854726, -0.6302549318692982], [0.43969946745933824, 1.062279484975989, -0.5672506728818205], [0.4286094453365134, 1.0354868598743991, -0.5059042336294659], [0.4187720567161385, 1.0117204992337034, -0.4460363259376513], [0.4101585513158841, 0.9909109446229368, -0.38747198271754474], [0.4027437557160897, 0.9729973790312746, -0.3300400466156053], [0.3965059997891295, 0.9579274491271407, -0.27357266979727257], [0.39142705336733147, 0.9456571122528592, -0.2179048234028989], [0.38749207296436045, 0.936150507707687, -0.16287381524228275], [0.3846895583943526, 0.9293798519430404, -0.10831881431824107], [0.38301131916202213, 0.9253253573636233, -0.054080380789614926], [0.38245245052551063, 0.9239751744971463, -1.887379141862766e-15], [0.38301131916202213, 0.9253253573636233, 0.054080380789611145], [0.3846895583943524, 0.9293798519430401, 0.10831881431823727], [0.38749207296436017, 0.9361505077076865, 0.16287381524227895], [0.3914270533673312, 0.9456571122528585, 0.21790482340289502], [0.3965059997891291, 0.9579274491271397, 0.2735726697972687], [0.4027437557160892, 0.9729973790312734, 0.3300400466156013], [0.4101585513158835, 0.9909109446229354, 0.3874719827175407], [0.4187720567161378, 1.0117204992337019, 0.44603632593764714], [0.42860944533651263, 1.0354868598743974, 0.5059042336294617], [0.43969946745933747, 1.0622794849759871, 0.5672506728818162], [0.4520745342538132, 1.0921766773854704, 0.6302549318692937], [0.46577081249934843, 1.1252658132100446, 0.6951011438312886], [0.4808283302848614, 1.1616435971783428, 0.7619788252110206], [0.4972910939929625, 1.2014163452650577, 0.8310834295272441], [0.5152072169109068, 1.2447002954049344, 0.902616918597371], [0.5346290598441902, 1.2916219472042076, 0.976788352781436], [0.5556133841437402, 1.3423184316423118, 1.0538145019719247], [0.57822151759393, 1.3969379118443366, 1.133920479115111], [0.6025195336462331, 1.4556400160954994, 1.2173403981154078], [0.6285784445223386, 1.5185963043631543, 1.3043180580454878], [0.6564744087510791, 1.5859907696897593, 1.395107655661811], [0.6862889537457125, 1.6580203759221606, 1.4899745283079329], [0.7181092140720466, 1.7348956333487255, 1.589195929376755], [0.752028186103762, 1.8168412139266632, 1.693061838598055], [0.7881449998091732, 1.9040966078975599, 1.8018758095194005], [0.8265652084637419, 1.996916823710124, 1.9159558566572563], [0.867401097135041, 2.095573133295707, 2.035635384911026], [0.9107720108417314, 2.200353864874695, 2.1612641639562944], [0.9568047033456163, 2.3115652456108045, 2.2932093504649833], [1.0056337075961344, 2.4295322965759674, 2.4318565611399126], [1.0574017289099347, 2.554599782641402, 2.577610999699764], [1.1122600620346217, 2.687133220070964, 2.730898641108125], [1.1703690333155625, 2.827519944761529, 2.8921674765075838], [1.231898469258009, 2.9761702442523954, 3.0618888224972487], [1.2970281928539342, 3.1335185568120556, 3.240558698580146], [1.365948549124124, 3.3000247411067387, 3.4286992768061326], [1.438860961411447, 3.476175420161398, 3.6268604078470053]], &quot;color&quot;:&quot;red&quot;, &quot;opacity&quot;:1, &quot;linewidth&quot;:2},{&quot;points&quot;:[[2.303680455425767e-16, 3.7621956910836314, -3.6268604078470186], [2.186944437388635e-16, 3.571551305913298, -3.4286992768061455], [2.0765998787560405e-16, 3.391344966078138, -3.2405586985801578], [1.9723242917889468e-16, 3.2210500091326835, -3.0618888224972602], [1.8738129256351648e-16, 3.060168739165915, -2.8921674765075944], [1.7807778756790614e-16, 2.908230972258954, -2.7308986411081357], [1.6929472421252751e-16, 2.764792662347986, -2.5776109996997736], [1.610064335357354e-16, 2.6294346034764366, -2.431856561139922], [1.5318869257489393e-16, 2.501761204643655, -2.293209350464992], [1.4581865357350218e-16, 2.3813993336695414, -2.161264163956303], [1.38874777207432e-16, 2.2679972266962527, -2.035635384911034], [1.3233676963512746e-16, 2.1612234601399436, -1.9159558566572639], [1.2618552318779257e-16, 2.0607659820880246, -1.8018758095194078], [1.2040306052623053e-16, 1.9663312003111402, -1.6930618385980618], [1.149724821011306e-16, 1.8776431242245342, -1.5891959293767617], [1.0987791676325187e-16, 1.794442558291144, -1.4899745283079393], [1.0510447537916049e-16, 1.7164863445090996, -1.3951076556618172], [1.0063820731695892e-16, 1.6435466517697537, -1.3043180580454936], [9.646605967483524e-17, 1.5754103100093622, -1.2173403981154138], [9.257583913327548e-17, 1.5118781872084324, -1.1339204791151165], [8.895617631945014e-17, 1.45276460741799, -1.05381450197193], [8.559649257962797e-17, 1.3978968081119156, -0.9767883527814414], [8.248696906250752e-17, 1.3471144352794318, -0.902616918597376], [7.961851802311124e-17, 1.300269074782129, -0.831083429527249], [7.698275626337576e-17, 1.2572238186058895, -0.7619788252110253], [7.457198063181748e-17, 1.2178528647400606, -0.6951011438312932], [7.237914551066986e-17, 1.1820411495145056, -0.6302549318692982], [7.039784222469722e-17, 1.149684011320014, -0.5672506728818205], [6.862228031150654e-17, 1.1206868847292795, -0.5059042336294659], [6.704727059861844e-17, 1.0949650241244964, -0.4460363259376513], [6.566821003783948e-17, 1.0724432560238633, -0.38747198271754474], [6.448106825261325e-17, 1.053055759383154, -0.3300400466156053], [6.348237575903426e-17, 1.0367458732302761, -0.27357266979727257], [6.266921382609994e-17, 1.0234659310706187, -0.2179048234028989], [6.203920594556674e-17, 1.0131771215792318, -0.16287381524228275], [6.159051088648057e-17, 1.0058493751726993, -0.10831881431824107], [6.132181731408314e-17, 1.0014612761292119, -0.054080380789614926], [6.123233995736766e-17, 1.0, -1.887379141862766e-15], [6.132181731408314e-17, 1.0014612761292119, 0.054080380789611145], [6.159051088648054e-17, 1.005849375172699, 0.10831881431823727], [6.203920594556671e-17, 1.0131771215792311, 0.16287381524227895], [6.26692138260999e-17, 1.023465931070618, 0.21790482340289502], [6.34823757590342e-17, 1.036745873230275, 0.2735726697972687], [6.448106825261316e-17, 1.0530557593831527, 0.3300400466156013], [6.566821003783938e-17, 1.0724432560238617, 0.3874719827175407], [6.704727059861833e-17, 1.0949650241244946, 0.44603632593764714], [6.862228031150642e-17, 1.1206868847292775, 0.5059042336294617], [7.03978422246971e-17, 1.149684011320012, 0.5672506728818162], [7.237914551066971e-17, 1.1820411495145031, 0.6302549318692937], [7.457198063181732e-17, 1.217852864740058, 0.6951011438312886], [7.698275626337559e-17, 1.2572238186058866, 0.7619788252110206], [7.961851802311105e-17, 1.300269074782126, 0.8310834295272441], [8.24869690625073e-17, 1.3471144352794282, 0.902616918597371], [8.559649257962773e-17, 1.3978968081119119, 0.976788352781436], [8.895617631944989e-17, 1.452764607417986, 1.0538145019719247], [9.257583913327522e-17, 1.5118781872084281, 1.133920479115111], [9.646605967483495e-17, 1.5754103100093575, 1.2173403981154078], [1.0063820731695863e-16, 1.643546651769749, 1.3043180580454878], [1.0510447537916018e-16, 1.7164863445090945, 1.395107655661811], [1.0987791676325154e-16, 1.7944425582911387, 1.4899745283079329], [1.1497248210113025e-16, 1.8776431242245284, 1.589195929376755], [1.2040306052623016e-16, 1.9663312003111342, 1.693061838598055], [1.2618552318779217e-16, 2.0607659820880184, 1.8018758095194005], [1.3233676963512702e-16, 2.1612234601399365, 1.9159558566572563], [1.3887477720743154e-16, 2.267997226696245, 2.035635384911026], [1.458186535735017e-16, 2.381399333669534, 2.1612641639562944], [1.5318869257489344e-16, 2.501761204643647, 2.2932093504649833], [1.6100643353573488e-16, 2.629434603476428, 2.4318565611399126], [1.6929472421252697e-16, 2.7647926623479773, 2.577610999699764], [1.7807778756790557e-16, 2.9082309722589446, 2.730898641108125], [1.8738129256351586e-16, 3.060168739165905, 2.8921674765075838], [1.97232429178894e-16, 3.2210500091326724, 3.0618888224972487], [2.0765998787560333e-16, 3.3913449660781265, 3.240558698580146], [2.1869444373886274e-16, 3.5715513059132857, 3.4286992768061326], [2.303680455425759e-16, 3.7621956910836185, 3.6268604078470053]], &quot;color&quot;:&quot;red&quot;, &quot;opacity&quot;:1, &quot;linewidth&quot;:2},{&quot;points&quot;:[[-1.4388609614114523, 3.4761754201614097, -3.6268604078470186], [-1.365948549124129, 3.30002474110675, -3.4286992768061455], [-1.297028192853939, 3.133518556812066, -3.2405586985801578], [-1.2318984692580135, 2.9761702442524056, -3.0618888224972602], [-1.1703690333155667, 2.827519944761538, -2.8921674765075944], [-1.1122600620346255, 2.687133220070972, -2.7308986411081357], [-1.0574017289099382, 2.55459978264141, -2.5776109996997736], [-1.005633707596138, 2.429532296575975, -2.431856561139922], [-0.9568047033456196, 2.3115652456108116, -2.293209350464992], [-0.9107720108417345, 2.2003538648747023, -2.161264163956303], [-0.8674010971350442, 2.0955731332957135, -2.035635384911034], [-0.8265652084637449, 1.9969168237101305, -1.9159558566572639], [-0.7881449998091759, 1.9040966078975654, -1.8018758095194078], [-0.7520281861037645, 1.8168412139266685, -1.6930618385980618], [-0.7181092140720491, 1.7348956333487306, -1.5891959293767617], [-0.6862889537457147, 1.6580203759221652, -1.4899745283079393], [-0.6564744087510812, 1.585990769689764, -1.3951076556618172], [-0.6285784445223406, 1.5185963043631585, -1.3043180580454936], [-0.6025195336462351, 1.4556400160955036, -1.2173403981154138], [-0.5782215175939318, 1.3969379118443404, -1.1339204791151165], [-0.5556133841437418, 1.3423184316423153, -1.05381450197193], [-0.5346290598441918, 1.291621947204211, -0.9767883527814414], [-0.5152072169109082, 1.2447002954049375, -0.902616918597376], [-0.49729109399296384, 1.2014163452650606, -0.831083429527249], [-0.48082833028486266, 1.1616435971783452, -0.7619788252110253], [-0.46577081249934954, 1.1252658132100468, -0.6951011438312932], [-0.4520745342538143, 1.0921766773854724, -0.6302549318692982], [-0.43969946745933836, 1.062279484975989, -0.5672506728818205], [-0.4286094453365135, 1.0354868598743991, -0.5059042336294659], [-0.41877205671613865, 1.0117204992337034, -0.4460363259376513], [-0.4101585513158842, 0.9909109446229366, -0.38747198271754474], [-0.40274375571608984, 0.9729973790312745, -0.3300400466156053], [-0.3965059997891296, 0.9579274491271406, -0.27357266979727257], [-0.3914270533673316, 0.9456571122528591, -0.2179048234028989], [-0.38749207296436056, 0.9361505077076869, -0.16287381524228275], [-0.3846895583943527, 0.9293798519430403, -0.10831881431824107], [-0.38301131916202225, 0.9253253573636232, -0.054080380789614926], [-0.38245245052551075, 0.9239751744971462, -1.887379141862766e-15], [-0.38301131916202225, 0.9253253573636232, 0.054080380789611145], [-0.38468955839435254, 0.92937985194304, 0.10831881431823727], [-0.3874920729643603, 0.9361505077076864, 0.16287381524227895], [-0.3914270533673313, 0.9456571122528584, 0.21790482340289502], [-0.3965059997891292, 0.9579274491271396, 0.2735726697972687], [-0.40274375571608934, 0.9729973790312733, 0.3300400466156013], [-0.41015855131588363, 0.9909109446229352, 0.3874719827175407], [-0.41877205671613793, 1.0117204992337017, 0.44603632593764714], [-0.42860944533651274, 1.0354868598743974, 0.5059042336294617], [-0.43969946745933763, 1.0622794849759871, 0.5672506728818162], [-0.45207453425381333, 1.0921766773854702, 0.6302549318692937], [-0.46577081249934854, 1.1252658132100444, 0.6951011438312886], [-0.48082833028486155, 1.1616435971783425, 0.7619788252110206], [-0.4972910939929627, 1.2014163452650577, 0.8310834295272441], [-0.5152072169109069, 1.2447002954049342, 0.902616918597371], [-0.5346290598441904, 1.2916219472042074, 0.976788352781436], [-0.5556133841437404, 1.3423184316423118, 1.0538145019719247], [-0.5782215175939303, 1.3969379118443364, 1.133920479115111], [-0.6025195336462333, 1.4556400160954992, 1.2173403981154078], [-0.6285784445223388, 1.518596304363154, 1.3043180580454878], [-0.6564744087510793, 1.5859907696897593, 1.395107655661811], [-0.6862889537457126, 1.6580203759221603, 1.4899745283079329], [-0.7181092140720469, 1.7348956333487253, 1.589195929376755], [-0.7520281861037622, 1.816841213926663, 1.693061838598055], [-0.7881449998091734, 1.9040966078975596, 1.8018758095194005], [-0.8265652084637422, 1.9969168237101238, 1.9159558566572563], [-0.8674010971350413, 2.095573133295707, 2.035635384911026], [-0.9107720108417316, 2.200353864874695, 2.1612641639562944], [-0.9568047033456166, 2.3115652456108045, 2.2932093504649833], [-1.0056337075961346, 2.429532296575967, 2.4318565611399126], [-1.057401728909935, 2.5545997826414015, 2.577610999699764], [-1.112260062034622, 2.6871332200709634, 2.730898641108125], [-1.1703690333155627, 2.8275199447615287, 2.8921674765075838], [-1.2318984692580093, 2.9761702442523954, 3.0618888224972487], [-1.2970281928539347, 3.133518556812055, 3.240558698580146], [-1.3659485491241241, 3.3000247411067383, 3.4286992768061326], [-1.4388609614114474, 3.4761754201613977, 3.6268604078470053]], &quot;color&quot;:&quot;red&quot;, &quot;opacity&quot;:1, &quot;linewidth&quot;:2},{&quot;points&quot;:[[-2.6589436157945565, 2.6616038897690264, -3.6268604078470186], [-2.5242050980621817, 2.5267305661047197, -3.4286992768061455], [-2.396843701639873, 2.3992417445628105, -3.2405586985801578], [-2.2764872061908807, 2.2787648323999776, -3.0618888224972602], [-2.1627838635676144, 2.1649477295444917, -2.8921674765075944], [-2.0554013698093, 2.0574577995653556, -2.7308986411081357], [-1.9540258939662887, 1.9559808975249506, -2.5776109996997736], [-1.8583611609127073, 1.8602204518740408, -2.431856561139922], [-1.7681275854669183, 1.7698965977059218, -2.293209350464992], [-1.683061455289217, 1.6847453588366044, -2.161264163956303], [-1.6029141601687371, 1.604517876320624, -2.035635384911034], [-1.5274514654471176, 1.5289796811477656, -1.9159558566572639], [-1.456452827455473, 1.4579100089951296, -1.8018758095194078], [-1.3897107489639964, 1.3911011550318608, -1.6930618385980618], [-1.3270301727604603, 1.3283578668909266, -1.5891959293767617], [-1.2682279115853214, 1.269496774033869, -1.4899745283079393], [-1.2131321127573824, 1.2143458518408259, -1.3951076556618172], [-1.1615817559253487, 1.1627439188595876, -1.3043180580454936], [-1.1134261824774385, 1.114540165744381, -1.2173403981154138], [-1.0685246552337158, 1.0695937145076744, -1.1339204791151165], [-1.0267459471343277, 1.0277732067968979, -1.05381450197193], [-0.9879679577215648, 0.9889564199927934, -0.9767883527814414], [-0.952077356294891, 0.9530299100074212, -0.902616918597376], [-0.9189692506960511, 0.9198886797378867, -0.831083429527249], [-0.8885468807562549, 0.8894358722068186, -0.7619788252110253], [-0.8607213355095282, 0.8615824874927916, -0.6951011438312932], [-0.8354112933457684, 0.8362471226234051, -0.6302549318692982], [-0.8125427843440889, 0.8133557336708418, -0.5672506728818205], [-0.7920489740918603, 0.7928414193546203, -0.5059042336294659], [-0.773869968357646, 0.7746442255191055, -0.4460363259376513], [-0.7579526380471817, 0.7587109699143565, -0.38747198271754474], [-0.7442504639308203, 0.7449950867682215, -0.3300400466156053], [-0.7327234006886529, 0.7334564906954355, -0.27357266979727257], [-0.7233377598759679, 0.7240614595459869, -0.2179048234028989], [-0.7160661114670119, 0.7167825358503723, -0.16287381524228275], [-0.7108872036893044, 0.7115984465737057, -0.10831881431824107], [-0.7077859009142234, 0.7084940409441639, -0.054080380789614926], [-0.70675313942234, 0.7074602461740634, -1.887379141862766e-15], [-0.7077859009142234, 0.7084940409441639, 0.054080380789611145], [-0.710887203689304, 0.7115984465737054, 0.10831881431823727], [-0.7160661114670114, 0.7167825358503719, 0.16287381524227895], [-0.7233377598759675, 0.7240614595459864, 0.21790482340289502], [-0.7327234006886522, 0.7334564906954347, 0.2735726697972687], [-0.7442504639308194, 0.7449950867682205, 0.3300400466156013], [-0.7579526380471806, 0.7587109699143554, 0.3874719827175407], [-0.7738699683576448, 0.7746442255191043, 0.44603632593764714], [-0.7920489740918589, 0.7928414193546189, 0.5059042336294617], [-0.8125427843440876, 0.8133557336708405, 0.5672506728818162], [-0.8354112933457666, 0.8362471226234033, 0.6302549318692937], [-0.8607213355095263, 0.8615824874927898, 0.6951011438312886], [-0.8885468807562529, 0.8894358722068166, 0.7619788252110206], [-0.9189692506960488, 0.9198886797378846, 0.8310834295272441], [-0.9520773562948885, 0.9530299100074188, 0.902616918597371], [-0.9879679577215621, 0.9889564199927907, 0.976788352781436], [-1.026745947134325, 1.027773206796895, 1.0538145019719247], [-1.0685246552337129, 1.0695937145076713, 1.133920479115111], [-1.1134261824774352, 1.1145401657443776, 1.2173403981154078], [-1.1615817559253454, 1.1627439188595843, 1.3043180580454878], [-1.2131321127573789, 1.2143458518408223, 1.395107655661811], [-1.2682279115853177, 1.2694967740338652, 1.4899745283079329], [-1.327030172760456, 1.3283578668909224, 1.589195929376755], [-1.3897107489639922, 1.3911011550318566, 1.693061838598055], [-1.4564528274554687, 1.4579100089951251, 1.8018758095194005], [-1.5274514654471125, 1.5289796811477607, 1.9159558566572563], [-1.6029141601687318, 1.6045178763206187, 2.035635384911026], [-1.6830614552892116, 1.684745358836599, 2.1612641639562944], [-1.7681275854669127, 1.769896597705916, 2.2932093504649833], [-1.8583611609127013, 1.8602204518740348, 2.4318565611399126], [-1.9540258939662825, 1.9559808975249442, 2.577610999699764], [-2.055401369809293, 2.057457799565349, 2.730898641108125], [-2.1627838635676073, 2.1649477295444846, 2.8921674765075838], [-2.276487206190873, 2.2787648323999696, 3.0618888224972487], [-2.396843701639865, 2.399241744562802, 3.240558698580146], [-2.524205098062173, 2.526730566104711, 3.4286992768061326], [-2.658943615794547, 2.6616038897690175, 3.6268604078470053]], &quot;color&quot;:&quot;red&quot;, &quot;opacity&quot;:1, &quot;linewidth&quot;:2},{&quot;points&quot;:[[-3.4747348213522438, 1.4423364168218291, -3.6268604078470186], [-3.2986571427730516, 1.3692478903410128, -3.4286992768061455], [-3.132219962076236, 1.3001610623744546, -3.2405586985801578], [-2.974936857903466, 1.2348740230570532, -3.0618888224972602], [-2.82634816216343, 1.1731959676046062, -2.8921674765075944], [-2.6860196166278163, 1.1149466386768554, -2.7308986411081357], [-2.553541103788949, 1.0599557995659918, -2.5776109996997736], [-2.4285254482699377, 1.0080627366709791, -2.431856561139922], [-2.3106072852844077, 0.959115789803657, -2.293209350464992], [-2.1994419928388154, 0.9129719089539153, -2.161264163956303], [-2.0947046845566666, 0.8694962362185645, -2.035635384911034], [-1.9960892601810993, 0.8285617116720652, -1.9159558566572639], [-1.9033075109808895, 0.7900487020272562, -1.8018758095194078], [-1.816088277445372, 0.753844651000822, -1.6930618385980618], [-1.7341766568065995, 0.7198437503616708, -1.5891959293767617], [-1.6573332580726825, 0.6879466307008513, -1.4899745283079393], [-1.5853335023951067, 0.6580600710192617, -1.3951076556618172], [-1.5179669667253106, 0.6300967262844077, -1.3043180580454936], [-1.45503676884233, 0.6039748721599818, -1.2173403981154138], [-1.3963589919542192, 0.5796181661622181, -1.1339204791151165], [-1.3417621471916144, 0.5569554245449951, -1.05381450197193], [-1.291086672422552, 0.5359204142616176, -0.9767883527814414], [-1.2441844659237988, 0.5164516593952757, -0.902616918597376], [-1.200918453545827, 0.49849226149246617, -0.831083429527249], [-1.1611621881064484, 0.48198973327428823, -0.7619788252110253], [-1.1247994798423164, 0.46689584523962807, -0.6951011438312932], [-1.0917240568382716, 0.45316648471192167, -0.6302549318692982], [-1.0618392544421147, 0.440761526917552, -0.5672506728818205], [-1.0350577327571109, 0.4296447177191016, -0.5059042336294659], [-1.0113012213865753, 0.419783567660741, -0.4460363259376513], [-0.9905002906845497, 0.41114925701609645, -0.38747198271754474], [-0.9725941488440335, 0.4037165515610935, -0.3300400466156053], [-0.9575304642297513, 0.3974637288256185, -0.27357266979727257], [-0.945265212436213, 0.39237251460846423, -0.2179048234028989], [-0.93576254762409, 0.3884280295700225, -0.16287381524228275], [-0.9289946977588738, 0.3856187457466356, -0.10831881431824107], [-0.9249418834456564, 0.38393645285952105, -0.054080380789614926], [-0.9235922601228141, 0.3833762343198024, -1.887379141862766e-15], [-0.9249418834456564, 0.38393645285952105, 0.054080380789611145], [-0.9289946977588734, 0.38561874574663546, 0.10831881431823727], [-0.9357625476240893, 0.3884280295700222, 0.16287381524227895], [-0.9452652124362124, 0.39237251460846395, 0.21790482340289502], [-0.9575304642297503, 0.39746372882561803, 0.2735726697972687], [-0.9725941488440323, 0.403716551561093, 0.3300400466156013], [-0.9905002906845483, 0.41114925701609584, 0.3874719827175407], [-1.0113012213865737, 0.4197835676607403, 0.44603632593764714], [-1.035057732757109, 0.42964471771910084, 0.5059042336294617], [-1.061839254442113, 0.44076152691755127, 0.5672506728818162], [-1.0917240568382691, 0.4531664847119207, 0.6302549318692937], [-1.124799479842314, 0.46689584523962707, 0.6951011438312886], [-1.1611621881064458, 0.4819897332742871, 0.7619788252110206], [-1.2009184535458242, 0.49849226149246495, 0.8310834295272441], [-1.2441844659237955, 0.5164516593952744, 0.902616918597371], [-1.2910866724225485, 0.5359204142616162, 0.976788352781436], [-1.3417621471916106, 0.5569554245449936, 1.0538145019719247], [-1.3963589919542152, 0.5796181661622164, 1.133920479115111], [-1.4550367688423258, 0.6039748721599799, 1.2173403981154078], [-1.5179669667253062, 0.6300967262844059, 1.3043180580454878], [-1.585333502395102, 0.6580600710192597, 1.395107655661811], [-1.6573332580726774, 0.6879466307008493, 1.4899745283079329], [-1.7341766568065942, 0.7198437503616686, 1.589195929376755], [-1.8160882774453664, 0.7538446510008197, 1.693061838598055], [-1.9033075109808837, 0.7900487020272539, 1.8018758095194005], [-1.9960892601810927, 0.8285617116720624, 1.9159558566572563], [-2.0947046845566595, 0.8694962362185616, 2.035635384911026], [-2.1994419928388083, 0.9129719089539124, 2.1612641639562944], [-2.3106072852844, 0.959115789803654, 2.2932093504649833], [-2.42852544826993, 1.0080627366709758, 2.4318565611399126], [-2.553541103788941, 1.0599557995659885, 2.577610999699764], [-2.686019616627808, 1.1149466386768518, 2.730898641108125], [-2.8263481621634208, 1.1731959676046022, 2.8921674765075838], [-2.974936857903456, 1.234874023057049, 3.0618888224972487], [-3.1322199620762254, 1.3001610623744502, 3.240558698580146], [-3.29865714277304, 1.3692478903410081, 3.4286992768061326], [-3.4747348213522318, 1.4423364168218242, 3.6268604078470053]], &quot;color&quot;:&quot;red&quot;, &quot;opacity&quot;:1, &quot;linewidth&quot;:2},{&quot;points&quot;:[[-3.7621938099859427, 0.003762195064049423, -3.6268604078470186], [-3.5715495201377943, 0.003571550710653235, -3.4286992768061455], [-3.3913432704057964, 0.0033913444008525414, -3.2405586985801578], [-3.221048398607813, 0.0032210494722896515, -3.0618888224972602], [-3.060167209081673, 0.0030601682291364965, -2.8921674765075944], [-2.908229518143589, 0.0029082304875525608, -2.7308986411081357], [-2.76479127995177, 0.0027647922015480385, -2.5776109996997736], [-2.6294332887592446, 0.0026294341652362226, -2.431856561139922], [-2.501759953763157, 0.002501760787682395, -2.293209350464992], [-2.381398142969974, 0.0023813989367686443, -2.161264163956303], [-2.267996092697734, 0.0022679968486957547, -2.035635384911034], [-2.1612223795283034, 0.0021612230999351187, -1.9159558566572639], [-2.0607649517051194, 0.002060765638626155, -1.8018758095194078], [-1.966330217145622, 0.001966330872588441, -1.6930618385980618], [-1.8776421854030503, 0.0018776428112832185, -1.5891959293767617], [-1.7944416610699396, 0.0017944422592166246, -1.4899745283079393], [-1.7164854862659988, 0.0017164860584273154, -1.3951076556618172], [-1.6435458299964962, 0.001643546377844616, -1.3043180580454936], [-1.5754095223042728, 0.00157541004744031, -1.2173403981154138], [-1.5118774312694017, 0.0015118779352280944, -1.1339204791151165], [-1.4527638810357468, 0.0014527643652899405, -1.05381450197193], [-1.3978961091635698, 0.0013978965751285225, -0.9767883527814414], [-1.3471137617222702, 0.001347114210759789, -0.902616918597376], [-1.300268424647646, 0.001300268858070066, -0.831083429527249], [-1.2572231899940325, 0.001257223609068054, -0.7619788252110253], [-1.217852255813679, 0.0012178526617640675, -0.6951011438312932], [-1.1820405584939802, 0.0011820409525071468, -0.6302549318692982], [-1.1496834364780562, 0.0011496838197055253, -0.5672506728818205], [-1.1206863243858838, 0.0011206866979476574, -0.5059042336294659], [-1.09496447664203, 0.001094964841629862, -0.4460363259376513], [-1.07244271980228, 0.0010724430772828665, -0.38747198271754474], [-1.0530552328553182, 0.001053055583873415, -0.3300400466156053], [-1.0367453548573826, 0.0010367457004388583, -0.27357266979727257], [-1.0234654193376957, 0.0010234657604925302, -0.2179048234028989], [-1.0131766149907133, 0.0010131769527159493, -0.16287381524228275], [-1.0058488722480536, 0.001005849207530711, -0.10831881431824107], [-1.0014607753986156, 0.001001461109218575, -0.054080380789614926], [-0.9999995000000417, 0.00099999983333291, -1.887379141862766e-15], [-1.0014607753986156, 0.001001461109218575, 0.054080380789611145], [-1.0058488722480532, 0.0010058492075307106, 0.10831881431823727], [-1.0131766149907127, 0.0010131769527159486, 0.16287381524227895], [-1.023465419337695, 0.0010234657604925295, 0.21790482340289502], [-1.0367453548573815, 0.0010367457004388572, 0.2735726697972687], [-1.0530552328553169, 0.0010530555838734136, 0.3300400466156013], [-1.0724427198022783, 0.001072443077282865, 0.3874719827175407], [-1.0949644766420281, 0.0010949648416298603, 0.44603632593764714], [-1.1206863243858818, 0.0011206866979476555, 0.5059042336294617], [-1.1496834364780542, 0.0011496838197055234, 0.5672506728818162], [-1.1820405584939777, 0.0011820409525071444, 0.6302549318692937], [-1.2178522558136764, 0.001217852661764065, 0.6951011438312886], [-1.2572231899940296, 0.0012572236090680512, 0.7619788252110206], [-1.3002684246476428, 0.001300268858070063, 0.8310834295272441], [-1.3471137617222666, 0.0013471142107597852, 0.902616918597371], [-1.397896109163566, 0.0013978965751285186, 0.976788352781436], [-1.4527638810357428, 0.0014527643652899364, 1.0538145019719247], [-1.5118774312693974, 0.00151187793522809, 1.133920479115111], [-1.5754095223042681, 0.0015754100474403056, 1.2173403981154078], [-1.6435458299964916, 0.0016435463778446111, 1.3043180580454878], [-1.7164854862659937, 0.0017164860584273104, 1.395107655661811], [-1.7944416610699343, 0.0017944422592166193, 1.4899745283079329], [-1.8776421854030445, 0.0018776428112832128, 1.589195929376755], [-1.966330217145616, 0.0019663308725884347, 1.693061838598055], [-2.060764951705113, 0.002060765638626149, 1.8018758095194005], [-2.1612223795282963, 0.0021612230999351113, 1.9159558566572563], [-2.2679960926977265, 0.0022679968486957473, 2.035635384911026], [-2.3813981429699664, 0.0023813989367686365, 2.1612641639562944], [-2.501759953763149, 0.002501760787682387, 2.2932093504649833], [-2.629433288759236, 0.0026294341652362144, 2.4318565611399126], [-2.764791279951761, 0.00276479220154803, 2.577610999699764], [-2.9082295181435796, 0.002908230487552551, 2.730898641108125], [-3.060167209081663, 0.003060168229136486, 2.8921674765075838], [-3.221048398607802, 0.0032210494722896403, 3.0618888224972487], [-3.391343270405785, 0.0033913444008525297, 3.240558698580146], [-3.571549520137782, 0.0035715507106532226, 3.4286992768061326], [-3.76219380998593, 0.0037621950640494106, 3.6268604078470053]], &quot;color&quot;:&quot;red&quot;, &quot;opacity&quot;:1, &quot;linewidth&quot;:2},{&quot;points&quot;:[[3.7621938099859427, 0.0037621950640510477, -3.6268604078470186], [3.7586486898103124, 0.16332925211199906, -3.6268604078470186], [3.7483388506908324, 0.32260235338567045, -3.6268604078470186], [3.7312828480099696, 0.48129484326642424, -3.6268604078470186], [3.707511378721328, 0.6391211111050255, -3.6268604078470186], [3.6770672261020603, 0.7957971052563233, -3.6268604078470186], [3.640005182752633, 0.9510408443080736, -3.6268604078470186], [3.5963919519825156, 1.10457292458381, -3.6268604078470186], [3.5463060277592864, 1.2561170230063738, -3.6268604078470186], [3.4898375534372117, 1.405400394417057, -3.6268604078470186], [3.427088159519567, 1.5521543624553045, -3.6268604078470186], [3.3581707807466743, 1.6961148031154956, -3.6268604078470186], [3.283209452838874, 1.8370226201105155, -3.6268604078470186], [3.202339089260234, 1.9746242111865684, -3.6268604078470186], [3.115705238404776, 2.108671924549971, -3.6268604078470186], [3.023463821642234, 2.2389245045844626, -3.6268604078470186], [2.9257808526947917, 2.365147526056838, -3.6268604078470186], [2.822832138849872, 2.487113816029435, -3.6268604078470186], [2.714802964546716, 2.6046038627201265, -3.6268604078470186], [2.6018877579062263, 2.7174062105739645, -3.6268604078470186], [2.484289740804255, 2.8253178408354294, -3.6268604078470186], [2.3622205631181106, 2.928144536936351, -3.6268604078470186], [2.2358999218045743, 3.025701234041878, -3.6268604078470186], [2.105555165494978, 3.11781235212539, -3.6268604078470186], [1.97142088531901, 3.204312111972904, -3.6268604078470186], [1.8337384926936466, 3.285044833548224, -3.6268604078470186], [1.6927557848371149, 3.3598652161818525, -3.6268604078470186], [1.5487264987898512, 3.428638600079392, -3.6268604078470186], [1.401909854745122, 3.4912412086787636, -3.6268604078470186], [1.2525700895112075, 3.547560371420073, -3.6268604078470186], [1.1009759809448112, 3.5974947265271777, -3.6268604078470186], [0.9474003642116066, 3.640954403435994, -3.6268604078470186], [0.7921196407445469, 3.6778611845412237, -3.6268604078470186], [0.6354132807836941, 3.7081486459703776, -3.6268604078470186], [0.47756332039289323, 3.731762277131752, -3.6268604078470186], [0.31885385385853937, 3.7486595788211816, -3.6268604078470186], [0.1595705223840105, 3.7588101397110147, -3.6268604078470186], [-6.050072103347434e-16, 3.7621956910836314, -3.6268604078470186], [-0.1595705223840117, 3.7588101397110147, -3.6268604078470186], [-0.31885385385854054, 3.7486595788211816, -3.6268604078470186], [-0.47756332039289445, 3.731762277131752, -3.6268604078470186], [-0.6354132807836953, 3.708148645970377, -3.6268604078470186], [-0.792119640744548, 3.6778611845412232, -3.6268604078470186], [-0.9474003642116078, 3.6409544034359937, -3.6268604078470186], [-1.100975980944812, 3.5974947265271773, -3.6268604078470186], [-1.2525700895112086, 3.5475603714200727, -3.6268604078470186], [-1.4019098547451232, 3.491241208678763, -3.6268604078470186], [-1.5487264987898524, 3.4286386000793914, -3.6268604078470186], [-1.692755784837115, 3.3598652161818525, -3.6268604078470186], [-1.8337384926936469, 3.2850448335482234, -3.6268604078470186], [-1.9714208853190105, 3.204312111972904, -3.6268604078470186], [-2.105555165494979, 3.1178123521253895, -3.6268604078470186], [-2.235899921804575, 3.025701234041877, -3.6268604078470186], [-2.362220563118112, 2.9281445369363497, -3.6268604078470186], [-2.484289740804256, 2.825317840835428, -3.6268604078470186], [-2.601887757906228, 2.7174062105739627, -3.6268604078470186], [-2.714802964546718, 2.6046038627201247, -3.6268604078470186], [-2.8228321388498747, 2.4871138160294324, -3.6268604078470186], [-2.925780852694794, 2.3651475260568353, -3.6268604078470186], [-3.0234638216422365, 2.238924504584459, -3.6268604078470186], [-3.115705238404779, 2.108671924549967, -3.6268604078470186], [-3.202339089260237, 1.9746242111865642, -3.6268604078470186], [-3.283209452838877, 1.8370226201105107, -3.6268604078470186], [-3.3581707807466765, 1.6961148031154902, -3.6268604078470186], [-3.427088159519569, 1.552154362455299, -3.6268604078470186], [-3.489837553437214, 1.4054003944170512, -3.6268604078470186], [-3.5463060277592886, 1.2561170230063676, -3.6268604078470186], [-3.596391951982518, 1.1045729245838039, -3.6268604078470186], [-3.6400051827526347, 0.9510408443080669, -3.6268604078470186], [-3.6770672261020616, 0.7957971052563163, -3.6268604078470186], [-3.707511378721329, 0.6391211111050182, -3.6268604078470186], [-3.7312828480099705, 0.4812948432664167, -3.6268604078470186], [-3.748338850690833, 0.3226023533856626, -3.6268604078470186], [-3.7586486898103124, 0.16332925211199098, -3.6268604078470186], [-3.7621938099859427, 0.00376219506404274, -3.6268604078470186]], &quot;color&quot;:&quot;brown&quot;, &quot;opacity&quot;:1, &quot;linewidth&quot;:2},{&quot;points&quot;:[[2.3524084390385376, 0.0023524092231749978, -2.1292794550948173], [2.350191761472267, 0.10212581552558428, -2.1292794550948173], [2.3437452694054786, 0.20171541841991902, -2.1292794550948173], [2.3330805650682835, 0.3009419791081675, -2.1292794550948173], [2.318216842520413, 0.39962691218631463, -2.1292794550948173], [2.299180853106245, 0.4975926070577446, -2.1292794550948173], [2.276006857308423, 0.5946627475922107, -2.1292794550948173], [2.2487365630867275, 0.6906626294550577, -2.1292794550948173], [2.2174190508131613, 0.7854194745355768, -2.1292794550948173], [2.1821106849383645, 0.8787627419085906, -2.1292794550948173], [2.1428750125483305, 0.9705244347696118, -2.1292794550948173], [2.0997826489939997, 1.060539402791157, -2.1292794550948173], [2.052911150799572, 1.148645639356046, -2.1292794550948173], [2.002344876078276, 1.2346845731327316, -2.1292794550948173], [1.9481748327068138, 1.3185013534678907, -2.1292794550948173], [1.8904985145317312, 1.3999451290826364, -2.1292794550948173], [1.8294197259025085, 1.4788693195707572, -2.1292794550948173], [1.7650483948471694, 1.5551318792103495, -2.1292794550948173], [1.6975003752266546, 1.6285955526140456, -2.1292794550948173], [1.6268972382240288, 1.6991281217577179, -2.1292794550948173], [1.5533660535438036, 1.766602643943066, -2.1292794550948173], [1.477039160715161, 1.830897680265813, -2.1292794550948173], [1.3980539309106832, 1.8918975141783103, -2.1292794550948173], [1.3165525197092594, 1.9494923597531955, -2.1292794550948173], [1.2326816112481436, 2.0035785592732727, -2.1292794550948173], [1.1465921542246278, 2.0540587697919968, -2.1292794550948173], [1.0584390902224707, 2.1008421383287965, -2.1292794550948173], [0.9683810748520333, 2.143844465383929, -2.1292794550948173], [0.8765801922060039, 2.182988356478561, -2.1292794550948173], [0.7832016631446297, 2.2182033614473604, -2.1292794550948173], [0.6884135479354752, 2.249426101232884, -2.1292794550948173], [0.5923864437828882, 2.276600381953571, -2.1292794550948173], [0.49529317779155274, 2.2996772960400396, -2.1292794550948173], [0.39730849591672446, 2.31861531025767, -2.1292794550948173], [0.298608748460969, 2.3333803404570497, -2.1292794550948173], [0.19937157268343686, 2.343945812917742, -2.1292794550948173], [0.09977557309290687, 2.350292712174989, -2.1292794550948173], [-3.782963183589768e-16, 2.352409615243247, -2.1292794550948173], [-0.09977557309290762, 2.350292712174989, -2.1292794550948173], [-0.1993715726834376, 2.343945812917742, -2.1292794550948173], [-0.2986087484609698, 2.3333803404570497, -2.1292794550948173], [-0.39730849591672524, 2.31861531025767, -2.1292794550948173], [-0.49529317779155346, 2.2996772960400396, -2.1292794550948173], [-0.592386443782889, 2.2766003819535707, -2.1292794550948173], [-0.6884135479354758, 2.249426101232884, -2.1292794550948173], [-0.7832016631446304, 2.21820336144736, -2.1292794550948173], [-0.8765801922060046, 2.1829883564785604, -2.1292794550948173], [-0.968381074852034, 2.1438444653839284, -2.1292794550948173], [-1.058439090222471, 2.1008421383287965, -2.1292794550948173], [-1.146592154224628, 2.0540587697919963, -2.1292794550948173], [-1.232681611248144, 2.0035785592732727, -2.1292794550948173], [-1.3165525197092598, 1.949492359753195, -2.1292794550948173], [-1.3980539309106836, 1.8918975141783096, -2.1292794550948173], [-1.4770391607151616, 1.8308976802658123, -2.1292794550948173], [-1.5533660535438043, 1.7666026439430653, -2.1292794550948173], [-1.6268972382240299, 1.699128121757717, -2.1292794550948173], [-1.6975003752266558, 1.6285955526140445, -2.1292794550948173], [-1.765048394847171, 1.555131879210348, -2.1292794550948173], [-1.8294197259025096, 1.4788693195707554, -2.1292794550948173], [-1.8904985145317328, 1.3999451290826344, -2.1292794550948173], [-1.9481748327068156, 1.3185013534678884, -2.1292794550948173], [-2.002344876078278, 1.234684573132729, -2.1292794550948173], [-2.0529111507995736, 1.1486456393560431, -2.1292794550948173], [-2.0997826489940015, 1.0605394027911539, -2.1292794550948173], [-2.1428750125483322, 0.9705244347696084, -2.1292794550948173], [-2.182110684938366, 0.878762741908587, -2.1292794550948173], [-2.2174190508131626, 0.785419474535573, -2.1292794550948173], [-2.248736563086729, 0.6906626294550539, -2.1292794550948173], [-2.276006857308424, 0.5946627475922065, -2.1292794550948173], [-2.2991808531062454, 0.4975926070577403, -2.1292794550948173], [-2.318216842520414, 0.39962691218631013, -2.1292794550948173], [-2.333080565068284, 0.3009419791081628, -2.1292794550948173], [-2.343745269405479, 0.2017154184199141, -2.1292794550948173], [-2.350191761472267, 0.10212581552557924, -2.1292794550948173], [-2.3524084390385376, 0.002352409223169803, -2.1292794550948173]], &quot;color&quot;:&quot;brown&quot;, &quot;opacity&quot;:1, &quot;linewidth&quot;:2},{&quot;points&quot;:[[1.5430798632749907, 0.0015430803776351509, -1.1752011936438014], [1.5416258170901862, 0.06699019049705249, -1.1752011936438014], [1.5373971925316512, 0.13231673339986985, -1.1752011936438014], [1.5304016001687737, 0.1974051360595075, -1.1752011936438014], [1.520651630488211, 0.26213825404805174, -1.1752011936438014], [1.5081648312338585, 0.326399582369774, -1.1752011936438014], [1.4929636758248712, 0.39007346514381647, -1.1752011936438014], [1.4750755229085852, 0.4530453037586628, -1.1752011936438014], [1.454532567121129, 0.5152017631237626, -1.1752011936438014], [1.4313717811443483, 0.5764309756471034, -1.1752011936438014], [1.4056348491633268, 0.6366227425716169, -1.1752011936438014], [1.377368091844266, 0.6956687323080588, -1.1752011936438014], [1.3466223829677442, 0.7534626754074083, -1.1752011936438014], [1.3134530578674, 0.8099005558218813, -1.1752011936438014], [1.2779198138388246, 0.8648807981103287, -1.1752011936438014], [1.2400866026979114, 0.9183044502510962, -1.1752011936438014], [1.2000215156820253, 0.9700753617333193, -1.1752011936438014], [1.1577966609011527, 1.0201003566061315, -1.1752011936438014], [1.1134880335595838, 1.0682894011743385, -1.1752011936438014], [1.067175379181705, 1.1145557660387388, -1.1752011936438014], [1.0189420500880615, 1.1588161821894591, -1.1752011936438014], [0.9688748553800012, 1.200990990871371, -1.1752011936438014], [0.9170639047028936, 1.2410042869518614, -1.1752011936438014], [0.8636024460691144, 1.278784055532934, -1.1752011936438014], [0.8085866980326794, 1.3142623015617636, -1.1752011936438014], [0.7521156765175722, 1.3473751722064387, -1.1752011936438014], [0.6942910166114394, 1.3780630717766402, -1.1752011936438014], [0.635216789645382, 1.4062707689824283, -1.1752011936438014], [0.5749993158890578, 1.4319474963380925, -1.1752011936438014], [0.513746973198204, 1.4550470415321628, -1.1752011936438014], [0.45157000195896757, 1.4755278305991364, -1.1752011936438014], [0.38858030668010285, 1.4933530027432271, -1.1752011936438014], [0.32489125459012363, 1.5084904766794756, -1.1752011936438014], [0.2606174716018895, 1.5209130083728175, -1.1752011936438014], [0.19587463601184588, 1.530598240071196, -1.1752011936438014], [0.1307792703052098, 1.5375287405444662, -1.1752011936438014], [0.0654485314418073, 1.541692036456674, -1.1752011936438014], [-2.481462919123796e-16, 1.5430806348152437, -1.1752011936438014], [-0.06544853144180779, 1.541692036456674, -1.1752011936438014], [-0.1307792703052103, 1.5375287405444662, -1.1752011936438014], [-0.1958746360118464, 1.530598240071196, -1.1752011936438014], [-0.26061747160189, 1.5209130083728173, -1.1752011936438014], [-0.3248912545901241, 1.5084904766794753, -1.1752011936438014], [-0.38858030668010335, 1.493353002743227, -1.1752011936438014], [-0.451570001958968, 1.4755278305991362, -1.1752011936438014], [-0.5137469731982044, 1.4550470415321626, -1.1752011936438014], [-0.5749993158890583, 1.4319474963380923, -1.1752011936438014], [-0.6352167896453824, 1.406270768982428, -1.1752011936438014], [-0.6942910166114395, 1.3780630717766402, -1.1752011936438014], [-0.7521156765175723, 1.3473751722064387, -1.1752011936438014], [-0.8085866980326796, 1.3142623015617636, -1.1752011936438014], [-0.8636024460691147, 1.2787840555329337, -1.1752011936438014], [-0.9170639047028939, 1.241004286951861, -1.1752011936438014], [-0.9688748553800016, 1.2009909908713705, -1.1752011936438014], [-1.018942050088062, 1.1588161821894587, -1.1752011936438014], [-1.0671753791817058, 1.1145557660387382, -1.1752011936438014], [-1.1134880335595847, 1.0682894011743376, -1.1752011936438014], [-1.1577966609011536, 1.0201003566061304, -1.1752011936438014], [-1.2000215156820262, 0.9700753617333181, -1.1752011936438014], [-1.2400866026979123, 0.9183044502510949, -1.1752011936438014], [-1.2779198138388257, 0.8648807981103271, -1.1752011936438014], [-1.313453057867401, 0.8099005558218795, -1.1752011936438014], [-1.3466223829677453, 0.7534626754074064, -1.1752011936438014], [-1.377368091844267, 0.6956687323080566, -1.1752011936438014], [-1.405634849163328, 0.6366227425716147, -1.1752011936438014], [-1.4313717811443492, 0.5764309756471011, -1.1752011936438014], [-1.45453256712113, 0.5152017631237601, -1.1752011936438014], [-1.4750755229085861, 0.4530453037586602, -1.1752011936438014], [-1.4929636758248719, 0.39007346514381375, -1.1752011936438014], [-1.508164831233859, 0.3263995823697712, -1.1752011936438014], [-1.5206516304882116, 0.2621382540480488, -1.1752011936438014], [-1.530401600168774, 0.1974051360595044, -1.1752011936438014], [-1.5373971925316516, 0.13231673339986663, -1.1752011936438014], [-1.5416258170901862, 0.06699019049704917, -1.1752011936438014], [-1.5430798632749907, 0.0015430803776317436, -1.1752011936438014]], &quot;color&quot;:&quot;brown&quot;, &quot;opacity&quot;:1, &quot;linewidth&quot;:2},{&quot;points&quot;:[[1.127625401393445, 0.0011276257772687294, -0.5210953054937474], [1.1265628384945263, 0.04895394091161196, -0.5210953054937474], [1.123472716862688, 0.09669215000604817, -0.5210953054937474], [1.1183605980191222, 0.14425633506343064, -0.5210953054937474], [1.111235682623438, 0.191560891290585, -0.5210953054937474], [1.1021107939145511, 0.2385206811676074, -0.5210953054937474], [1.09100235463175, 0.2850511876761765, -0.5210953054937474], [1.077930357457473, 0.3310686664111024, -0.5210953054937474], [1.0629183290349948, 0.3764902963013471, -0.5210953054937474], [1.0459932876257798, 0.4212343286692509, -0.5210953054937474], [1.027185694482713, 0.4652202343596938, -0.5210953054937474], [1.0065293990267228, 0.5083688486743911, -0.5210953054937474], [0.9840615779254663, 0.5506025138504755, -0.5210953054937474], [0.9598226681837222, 0.5918452188269345, -0.5210953054937474], [0.9338562943659122, 0.6320227360473579, -0.5210953054937474], [0.9062091900817365, 0.6710627550527781, -0.5210953054937474], [0.8769311138762275, 0.7088950126241691, -0.5210953054937474], [0.8460747596756047, 0.745451419240375, -0.5210953054937474], [0.8136956619501067, 0.780666181623874, -0.5210953054937474], [0.7798520957644822, 0.8144759211538218, -0.5210953054937474], [0.7446049718960339, 0.8468197879332582, -0.5210953054937474], [0.7080177272089718, 0.8776395703051815, -0.5210953054937474], [0.6701562104823824, 0.9068797996203877, -0.5210953054937474], [0.6310885638972937, 0.9344878500685138, -0.5210953054937474], [0.5908851003961372, 0.9604140333926137, -0.5210953054937474], [0.5496181771353269, 0.9846116883168015, -0.5210953054937474], [0.5073620652587167, 1.007037264526011, -0.5210953054937474], [0.46419281622631137, 1.0276504010467313, -0.5210953054937474], [0.42018812493881097, 1.0464139988876429, -0.5210953054937474], [0.3754271899043331, 1.0632942878094274, -0.5210953054937474], [0.3299905706989809, 1.0782608871035722, -0.5210953054937474], [0.2839600429777967, 1.0912868602707857, -0.5210953054937474], [0.23741845129704753, 1.1023487635006144, -0.5210953054937474], [0.19044956001272995, 1.1114266878650068, -0.5210953054937474], [0.14313790252364345, 1.1185042951498907, -0.5210953054937474], [0.09556862913035992, 1.123568847260267, -0.5210953054937474], [0.047827353783909364, 1.1266112291459067, -0.5210953054937474], [-1.8133608550118598e-16, 1.1276259652063807, -0.5210953054937474], [-0.047827353783909725, 1.1266112291459067, -0.5210953054937474], [-0.09556862913036028, 1.123568847260267, -0.5210953054937474], [-0.14313790252364383, 1.1185042951498907, -0.5210953054937474], [-0.1904495600127303, 1.1114266878650068, -0.5210953054937474], [-0.23741845129704786, 1.1023487635006142, -0.5210953054937474], [-0.28396004297779703, 1.0912868602707857, -0.5210953054937474], [-0.32999057069898124, 1.0782608871035722, -0.5210953054937474], [-0.3754271899043334, 1.0632942878094274, -0.5210953054937474], [-0.4201881249388113, 1.0464139988876429, -0.5210953054937474], [-0.4641928162263117, 1.027650401046731, -0.5210953054937474], [-0.5073620652587167, 1.007037264526011, -0.5210953054937474], [-0.549618177135327, 0.9846116883168013, -0.5210953054937474], [-0.5908851003961373, 0.9604140333926137, -0.5210953054937474], [-0.631088563897294, 0.9344878500685136, -0.5210953054937474], [-0.6701562104823826, 0.9068797996203875, -0.5210953054937474], [-0.7080177272089722, 0.8776395703051811, -0.5210953054937474], [-0.7446049718960343, 0.8468197879332577, -0.5210953054937474], [-0.7798520957644827, 0.8144759211538214, -0.5210953054937474], [-0.8136956619501072, 0.7806661816238734, -0.5210953054937474], [-0.8460747596756055, 0.7454514192403742, -0.5210953054937474], [-0.876931113876228, 0.7088950126241682, -0.5210953054937474], [-0.9062091900817373, 0.6710627550527771, -0.5210953054937474], [-0.9338562943659131, 0.6320227360473568, -0.5210953054937474], [-0.959822668183723, 0.5918452188269333, -0.5210953054937474], [-0.9840615779254671, 0.5506025138504741, -0.5210953054937474], [-1.0065293990267234, 0.5083688486743896, -0.5210953054937474], [-1.0271856944827138, 0.4652202343596922, -0.5210953054937474], [-1.0459932876257805, 0.4212343286692492, -0.5210953054937474], [-1.0629183290349955, 0.3764902963013453, -0.5210953054937474], [-1.0779303574574737, 0.33106866641110055, -0.5210953054937474], [-1.0910023546317504, 0.2850511876761745, -0.5210953054937474], [-1.1021107939145516, 0.23852068116760533, -0.5210953054937474], [-1.1112356826234384, 0.19156089129058285, -0.5210953054937474], [-1.1183605980191225, 0.1442563350634284, -0.5210953054937474], [-1.1234727168626883, 0.09669215000604582, -0.5210953054937474], [-1.1265628384945263, 0.048953940911609546, -0.5210953054937474], [-1.127625401393445, 0.0011276257772662394, -0.5210953054937474]], &quot;color&quot;:&quot;brown&quot;, &quot;opacity&quot;:1, &quot;linewidth&quot;:2},{&quot;points&quot;:[[0.9999995000000417, 0.0009999998333333417, 0.0], [0.9990571991558745, 0.043413279245172666, 0.0], [0.9963168209389959, 0.08574842455703062, 0.0], [0.9917832974114226, 0.1279292420665646, 0.0], [0.9854647878918407, 0.16987981582662925, 0.0], [0.9773726642706745, 0.21152464427683945, 0.0], [0.9675214905432514, 0.2527887761293309, 0.0], [0.9559289965978992, 0.29359794526415456, 0.0], [0.94261604630615, 0.3338787043915231, 0.0], [0.9276065999724826, 0.3735585572403484, 0.0], [0.9109276712111849, 0.4125660890351599, 0.0], [0.8926092783279476, 0.450831095026575, 0.0], [0.872684390293692, 0.4882847068439959, 0.0], [0.8511888674078671, 0.5248595164431263, 0.0], [0.8281613967580072, 0.5604896974252306, 0.0], [0.8036434225917102, 0.5951111235097878, 0.0], [0.7776790717263499, 0.6286614839473171, 0.0], [0.7503150741307684, 0.661080395664657, 0.0], [0.7216006788218842, 0.692309511940863, 0.0], [0.6915875652275814, 0.7222926274181303, 0.0], [0.6603297501754091, 0.7509757792587467, 0.0], [0.6278834906744887, 0.7783073442660163, 0.0], [0.5943071826656003, 0.8042381317943565, 0.0], [0.5596612559216747, 0.8287214722813532, 0.0], [0.5240080652878475, 0.851713301242435, 0.0], [0.48741177845681705, 0.8731722385769962, 0.0], [0.449938260481487, 0.8930596630432334, 0.0], [0.4116549552327431, 0.9113397817676612, 0.0], [0.3726307640157144, 0.9279796946642017, 0.0], [0.3329359215629817, 0.9429494536469111, 0.0], [0.29264186962791805, 0.9562221165297718, 0.0], [0.2518211284056639, 0.9677737955165443, 0.0], [0.21054716601315104, 0.9775837001934058, 0.0], [0.1688942662630808, 0.9856341749470011, 0.0], [0.12693739496983472, 0.9919107307405602, 0.0], [0.08475206502793568, 0.9964020711908925, 0.0], [0.0424142005058884, 0.9991001128993262, 0.0], [-1.6081226496766366e-16, 1.0, 0.0], [-0.04241420050588872, 0.9991001128993262, 0.0], [-0.084752065027936, 0.9964020711908925, 0.0], [-0.12693739496983505, 0.9919107307405602, 0.0], [-0.16889426626308113, 0.985634174947001, 0.0], [-0.21054716601315135, 0.9775837001934057, 0.0], [-0.25182112840566423, 0.9677737955165442, 0.0], [-0.2926418696279183, 0.9562221165297717, 0.0], [-0.33293592156298196, 0.942949453646911, 0.0], [-0.37263076401571466, 0.9279796946642016, 0.0], [-0.41165495523274337, 0.9113397817676611, 0.0], [-0.44993826048148705, 0.8930596630432334, 0.0], [-0.4874117784568171, 0.8731722385769961, 0.0], [-0.5240080652878476, 0.851713301242435, 0.0], [-0.5596612559216749, 0.8287214722813531, 0.0], [-0.5943071826656006, 0.8042381317943563, 0.0], [-0.627883490674489, 0.778307344266016, 0.0], [-0.6603297501754094, 0.7509757792587464, 0.0], [-0.6915875652275818, 0.7222926274181298, 0.0], [-0.7216006788218847, 0.6923095119408624, 0.0], [-0.750315074130769, 0.6610803956646564, 0.0], [-0.7776790717263504, 0.6286614839473164, 0.0], [-0.8036434225917108, 0.5951111235097869, 0.0], [-0.8281613967580079, 0.5604896974252296, 0.0], [-0.8511888674078678, 0.5248595164431252, 0.0], [-0.8726843902936927, 0.4882847068439946, 0.0], [-0.8926092783279482, 0.4508310950265736, 0.0], [-0.9109276712111856, 0.41256608903515846, 0.0], [-0.9276065999724832, 0.3735585572403469, 0.0], [-0.9426160463061506, 0.3338787043915215, 0.0], [-0.9559289965978998, 0.2935979452641529, 0.0], [-0.9675214905432519, 0.25278877612932915, 0.0], [-0.9773726642706748, 0.2115246442768376, 0.0], [-0.985464787891841, 0.16987981582662734, 0.0], [-0.9917832974114228, 0.12792924206656262, 0.0], [-0.9963168209389961, 0.08574842455702854, 0.0], [-0.9990571991558745, 0.04341327924517052, 0.0], [-0.9999995000000417, 0.0009999998333311336, 0.0]], &quot;color&quot;:&quot;brown&quot;, &quot;opacity&quot;:1, &quot;linewidth&quot;:2},{&quot;points&quot;:[[1.127625401393445, 0.0011276257772687294, 0.5210953054937474], [1.1265628384945263, 0.04895394091161196, 0.5210953054937474], [1.123472716862688, 0.09669215000604817, 0.5210953054937474], [1.1183605980191222, 0.14425633506343064, 0.5210953054937474], [1.111235682623438, 0.191560891290585, 0.5210953054937474], [1.1021107939145511, 0.2385206811676074, 0.5210953054937474], [1.09100235463175, 0.2850511876761765, 0.5210953054937474], [1.077930357457473, 0.3310686664111024, 0.5210953054937474], [1.0629183290349948, 0.3764902963013471, 0.5210953054937474], [1.0459932876257798, 0.4212343286692509, 0.5210953054937474], [1.027185694482713, 0.4652202343596938, 0.5210953054937474], [1.0065293990267228, 0.5083688486743911, 0.5210953054937474], [0.9840615779254663, 0.5506025138504755, 0.5210953054937474], [0.9598226681837222, 0.5918452188269345, 0.5210953054937474], [0.9338562943659122, 0.6320227360473579, 0.5210953054937474], [0.9062091900817365, 0.6710627550527781, 0.5210953054937474], [0.8769311138762275, 0.7088950126241691, 0.5210953054937474], [0.8460747596756047, 0.745451419240375, 0.5210953054937474], [0.8136956619501067, 0.780666181623874, 0.5210953054937474], [0.7798520957644822, 0.8144759211538218, 0.5210953054937474], [0.7446049718960339, 0.8468197879332582, 0.5210953054937474], [0.7080177272089718, 0.8776395703051815, 0.5210953054937474], [0.6701562104823824, 0.9068797996203877, 0.5210953054937474], [0.6310885638972937, 0.9344878500685138, 0.5210953054937474], [0.5908851003961372, 0.9604140333926137, 0.5210953054937474], [0.5496181771353269, 0.9846116883168015, 0.5210953054937474], [0.5073620652587167, 1.007037264526011, 0.5210953054937474], [0.46419281622631137, 1.0276504010467313, 0.5210953054937474], [0.42018812493881097, 1.0464139988876429, 0.5210953054937474], [0.3754271899043331, 1.0632942878094274, 0.5210953054937474], [0.3299905706989809, 1.0782608871035722, 0.5210953054937474], [0.2839600429777967, 1.0912868602707857, 0.5210953054937474], [0.23741845129704753, 1.1023487635006144, 0.5210953054937474], [0.19044956001272995, 1.1114266878650068, 0.5210953054937474], [0.14313790252364345, 1.1185042951498907, 0.5210953054937474], [0.09556862913035992, 1.123568847260267, 0.5210953054937474], [0.047827353783909364, 1.1266112291459067, 0.5210953054937474], [-1.8133608550118598e-16, 1.1276259652063807, 0.5210953054937474], [-0.047827353783909725, 1.1266112291459067, 0.5210953054937474], [-0.09556862913036028, 1.123568847260267, 0.5210953054937474], [-0.14313790252364383, 1.1185042951498907, 0.5210953054937474], [-0.1904495600127303, 1.1114266878650068, 0.5210953054937474], [-0.23741845129704786, 1.1023487635006142, 0.5210953054937474], [-0.28396004297779703, 1.0912868602707857, 0.5210953054937474], [-0.32999057069898124, 1.0782608871035722, 0.5210953054937474], [-0.3754271899043334, 1.0632942878094274, 0.5210953054937474], [-0.4201881249388113, 1.0464139988876429, 0.5210953054937474], [-0.4641928162263117, 1.027650401046731, 0.5210953054937474], [-0.5073620652587167, 1.007037264526011, 0.5210953054937474], [-0.549618177135327, 0.9846116883168013, 0.5210953054937474], [-0.5908851003961373, 0.9604140333926137, 0.5210953054937474], [-0.631088563897294, 0.9344878500685136, 0.5210953054937474], [-0.6701562104823826, 0.9068797996203875, 0.5210953054937474], [-0.7080177272089722, 0.8776395703051811, 0.5210953054937474], [-0.7446049718960343, 0.8468197879332577, 0.5210953054937474], [-0.7798520957644827, 0.8144759211538214, 0.5210953054937474], [-0.8136956619501072, 0.7806661816238734, 0.5210953054937474], [-0.8460747596756055, 0.7454514192403742, 0.5210953054937474], [-0.876931113876228, 0.7088950126241682, 0.5210953054937474], [-0.9062091900817373, 0.6710627550527771, 0.5210953054937474], [-0.9338562943659131, 0.6320227360473568, 0.5210953054937474], [-0.959822668183723, 0.5918452188269333, 0.5210953054937474], [-0.9840615779254671, 0.5506025138504741, 0.5210953054937474], [-1.0065293990267234, 0.5083688486743896, 0.5210953054937474], [-1.0271856944827138, 0.4652202343596922, 0.5210953054937474], [-1.0459932876257805, 0.4212343286692492, 0.5210953054937474], [-1.0629183290349955, 0.3764902963013453, 0.5210953054937474], [-1.0779303574574737, 0.33106866641110055, 0.5210953054937474], [-1.0910023546317504, 0.2850511876761745, 0.5210953054937474], [-1.1021107939145516, 0.23852068116760533, 0.5210953054937474], [-1.1112356826234384, 0.19156089129058285, 0.5210953054937474], [-1.1183605980191225, 0.1442563350634284, 0.5210953054937474], [-1.1234727168626883, 0.09669215000604582, 0.5210953054937474], [-1.1265628384945263, 0.048953940911609546, 0.5210953054937474], [-1.127625401393445, 0.0011276257772662394, 0.5210953054937474]], &quot;color&quot;:&quot;brown&quot;, &quot;opacity&quot;:1, &quot;linewidth&quot;:2},{&quot;points&quot;:[[1.5430798632749907, 0.0015430803776351509, 1.1752011936438014], [1.5416258170901862, 0.06699019049705249, 1.1752011936438014], [1.5373971925316512, 0.13231673339986985, 1.1752011936438014], [1.5304016001687737, 0.1974051360595075, 1.1752011936438014], [1.520651630488211, 0.26213825404805174, 1.1752011936438014], [1.5081648312338585, 0.326399582369774, 1.1752011936438014], [1.4929636758248712, 0.39007346514381647, 1.1752011936438014], [1.4750755229085852, 0.4530453037586628, 1.1752011936438014], [1.454532567121129, 0.5152017631237626, 1.1752011936438014], [1.4313717811443483, 0.5764309756471034, 1.1752011936438014], [1.4056348491633268, 0.6366227425716169, 1.1752011936438014], [1.377368091844266, 0.6956687323080588, 1.1752011936438014], [1.3466223829677442, 0.7534626754074083, 1.1752011936438014], [1.3134530578674, 0.8099005558218813, 1.1752011936438014], [1.2779198138388246, 0.8648807981103287, 1.1752011936438014], [1.2400866026979114, 0.9183044502510962, 1.1752011936438014], [1.2000215156820253, 0.9700753617333193, 1.1752011936438014], [1.1577966609011527, 1.0201003566061315, 1.1752011936438014], [1.1134880335595838, 1.0682894011743385, 1.1752011936438014], [1.067175379181705, 1.1145557660387388, 1.1752011936438014], [1.0189420500880615, 1.1588161821894591, 1.1752011936438014], [0.9688748553800012, 1.200990990871371, 1.1752011936438014], [0.9170639047028936, 1.2410042869518614, 1.1752011936438014], [0.8636024460691144, 1.278784055532934, 1.1752011936438014], [0.8085866980326794, 1.3142623015617636, 1.1752011936438014], [0.7521156765175722, 1.3473751722064387, 1.1752011936438014], [0.6942910166114394, 1.3780630717766402, 1.1752011936438014], [0.635216789645382, 1.4062707689824283, 1.1752011936438014], [0.5749993158890578, 1.4319474963380925, 1.1752011936438014], [0.513746973198204, 1.4550470415321628, 1.1752011936438014], [0.45157000195896757, 1.4755278305991364, 1.1752011936438014], [0.38858030668010285, 1.4933530027432271, 1.1752011936438014], [0.32489125459012363, 1.5084904766794756, 1.1752011936438014], [0.2606174716018895, 1.5209130083728175, 1.1752011936438014], [0.19587463601184588, 1.530598240071196, 1.1752011936438014], [0.1307792703052098, 1.5375287405444662, 1.1752011936438014], [0.0654485314418073, 1.541692036456674, 1.1752011936438014], [-2.481462919123796e-16, 1.5430806348152437, 1.1752011936438014], [-0.06544853144180779, 1.541692036456674, 1.1752011936438014], [-0.1307792703052103, 1.5375287405444662, 1.1752011936438014], [-0.1958746360118464, 1.530598240071196, 1.1752011936438014], [-0.26061747160189, 1.5209130083728173, 1.1752011936438014], [-0.3248912545901241, 1.5084904766794753, 1.1752011936438014], [-0.38858030668010335, 1.493353002743227, 1.1752011936438014], [-0.451570001958968, 1.4755278305991362, 1.1752011936438014], [-0.5137469731982044, 1.4550470415321626, 1.1752011936438014], [-0.5749993158890583, 1.4319474963380923, 1.1752011936438014], [-0.6352167896453824, 1.406270768982428, 1.1752011936438014], [-0.6942910166114395, 1.3780630717766402, 1.1752011936438014], [-0.7521156765175723, 1.3473751722064387, 1.1752011936438014], [-0.8085866980326796, 1.3142623015617636, 1.1752011936438014], [-0.8636024460691147, 1.2787840555329337, 1.1752011936438014], [-0.9170639047028939, 1.241004286951861, 1.1752011936438014], [-0.9688748553800016, 1.2009909908713705, 1.1752011936438014], [-1.018942050088062, 1.1588161821894587, 1.1752011936438014], [-1.0671753791817058, 1.1145557660387382, 1.1752011936438014], [-1.1134880335595847, 1.0682894011743376, 1.1752011936438014], [-1.1577966609011536, 1.0201003566061304, 1.1752011936438014], [-1.2000215156820262, 0.9700753617333181, 1.1752011936438014], [-1.2400866026979123, 0.9183044502510949, 1.1752011936438014], [-1.2779198138388257, 0.8648807981103271, 1.1752011936438014], [-1.313453057867401, 0.8099005558218795, 1.1752011936438014], [-1.3466223829677453, 0.7534626754074064, 1.1752011936438014], [-1.377368091844267, 0.6956687323080566, 1.1752011936438014], [-1.405634849163328, 0.6366227425716147, 1.1752011936438014], [-1.4313717811443492, 0.5764309756471011, 1.1752011936438014], [-1.45453256712113, 0.5152017631237601, 1.1752011936438014], [-1.4750755229085861, 0.4530453037586602, 1.1752011936438014], [-1.4929636758248719, 0.39007346514381375, 1.1752011936438014], [-1.508164831233859, 0.3263995823697712, 1.1752011936438014], [-1.5206516304882116, 0.2621382540480488, 1.1752011936438014], [-1.530401600168774, 0.1974051360595044, 1.1752011936438014], [-1.5373971925316516, 0.13231673339986663, 1.1752011936438014], [-1.5416258170901862, 0.06699019049704917, 1.1752011936438014], [-1.5430798632749907, 0.0015430803776317436, 1.1752011936438014]], &quot;color&quot;:&quot;brown&quot;, &quot;opacity&quot;:1, &quot;linewidth&quot;:2},{&quot;points&quot;:[[2.3524084390385376, 0.0023524092231749978, 2.1292794550948173], [2.350191761472267, 0.10212581552558428, 2.1292794550948173], [2.3437452694054786, 0.20171541841991902, 2.1292794550948173], [2.3330805650682835, 0.3009419791081675, 2.1292794550948173], [2.318216842520413, 0.39962691218631463, 2.1292794550948173], [2.299180853106245, 0.4975926070577446, 2.1292794550948173], [2.276006857308423, 0.5946627475922107, 2.1292794550948173], [2.2487365630867275, 0.6906626294550577, 2.1292794550948173], [2.2174190508131613, 0.7854194745355768, 2.1292794550948173], [2.1821106849383645, 0.8787627419085906, 2.1292794550948173], [2.1428750125483305, 0.9705244347696118, 2.1292794550948173], [2.0997826489939997, 1.060539402791157, 2.1292794550948173], [2.052911150799572, 1.148645639356046, 2.1292794550948173], [2.002344876078276, 1.2346845731327316, 2.1292794550948173], [1.9481748327068138, 1.3185013534678907, 2.1292794550948173], [1.8904985145317312, 1.3999451290826364, 2.1292794550948173], [1.8294197259025085, 1.4788693195707572, 2.1292794550948173], [1.7650483948471694, 1.5551318792103495, 2.1292794550948173], [1.6975003752266546, 1.6285955526140456, 2.1292794550948173], [1.6268972382240288, 1.6991281217577179, 2.1292794550948173], [1.5533660535438036, 1.766602643943066, 2.1292794550948173], [1.477039160715161, 1.830897680265813, 2.1292794550948173], [1.3980539309106832, 1.8918975141783103, 2.1292794550948173], [1.3165525197092594, 1.9494923597531955, 2.1292794550948173], [1.2326816112481436, 2.0035785592732727, 2.1292794550948173], [1.1465921542246278, 2.0540587697919968, 2.1292794550948173], [1.0584390902224707, 2.1008421383287965, 2.1292794550948173], [0.9683810748520333, 2.143844465383929, 2.1292794550948173], [0.8765801922060039, 2.182988356478561, 2.1292794550948173], [0.7832016631446297, 2.2182033614473604, 2.1292794550948173], [0.6884135479354752, 2.249426101232884, 2.1292794550948173], [0.5923864437828882, 2.276600381953571, 2.1292794550948173], [0.49529317779155274, 2.2996772960400396, 2.1292794550948173], [0.39730849591672446, 2.31861531025767, 2.1292794550948173], [0.298608748460969, 2.3333803404570497, 2.1292794550948173], [0.19937157268343686, 2.343945812917742, 2.1292794550948173], [0.09977557309290687, 2.350292712174989, 2.1292794550948173], [-3.782963183589768e-16, 2.352409615243247, 2.1292794550948173], [-0.09977557309290762, 2.350292712174989, 2.1292794550948173], [-0.1993715726834376, 2.343945812917742, 2.1292794550948173], [-0.2986087484609698, 2.3333803404570497, 2.1292794550948173], [-0.39730849591672524, 2.31861531025767, 2.1292794550948173], [-0.49529317779155346, 2.2996772960400396, 2.1292794550948173], [-0.592386443782889, 2.2766003819535707, 2.1292794550948173], [-0.6884135479354758, 2.249426101232884, 2.1292794550948173], [-0.7832016631446304, 2.21820336144736, 2.1292794550948173], [-0.8765801922060046, 2.1829883564785604, 2.1292794550948173], [-0.968381074852034, 2.1438444653839284, 2.1292794550948173], [-1.058439090222471, 2.1008421383287965, 2.1292794550948173], [-1.146592154224628, 2.0540587697919963, 2.1292794550948173], [-1.232681611248144, 2.0035785592732727, 2.1292794550948173], [-1.3165525197092598, 1.949492359753195, 2.1292794550948173], [-1.3980539309106836, 1.8918975141783096, 2.1292794550948173], [-1.4770391607151616, 1.8308976802658123, 2.1292794550948173], [-1.5533660535438043, 1.7666026439430653, 2.1292794550948173], [-1.6268972382240299, 1.699128121757717, 2.1292794550948173], [-1.6975003752266558, 1.6285955526140445, 2.1292794550948173], [-1.765048394847171, 1.555131879210348, 2.1292794550948173], [-1.8294197259025096, 1.4788693195707554, 2.1292794550948173], [-1.8904985145317328, 1.3999451290826344, 2.1292794550948173], [-1.9481748327068156, 1.3185013534678884, 2.1292794550948173], [-2.002344876078278, 1.234684573132729, 2.1292794550948173], [-2.0529111507995736, 1.1486456393560431, 2.1292794550948173], [-2.0997826489940015, 1.0605394027911539, 2.1292794550948173], [-2.1428750125483322, 0.9705244347696084, 2.1292794550948173], [-2.182110684938366, 0.878762741908587, 2.1292794550948173], [-2.2174190508131626, 0.785419474535573, 2.1292794550948173], [-2.248736563086729, 0.6906626294550539, 2.1292794550948173], [-2.276006857308424, 0.5946627475922065, 2.1292794550948173], [-2.2991808531062454, 0.4975926070577403, 2.1292794550948173], [-2.318216842520414, 0.39962691218631013, 2.1292794550948173], [-2.333080565068284, 0.3009419791081628, 2.1292794550948173], [-2.343745269405479, 0.2017154184199141, 2.1292794550948173], [-2.350191761472267, 0.10212581552557924, 2.1292794550948173], [-2.3524084390385376, 0.002352409223169803, 2.1292794550948173]], &quot;color&quot;:&quot;brown&quot;, &quot;opacity&quot;:1, &quot;linewidth&quot;:2},{&quot;points&quot;:[[3.7621938099859427, 0.0037621950640510477, 3.6268604078470186], [3.7586486898103124, 0.16332925211199906, 3.6268604078470186], [3.7483388506908324, 0.32260235338567045, 3.6268604078470186], [3.7312828480099696, 0.48129484326642424, 3.6268604078470186], [3.707511378721328, 0.6391211111050255, 3.6268604078470186], [3.6770672261020603, 0.7957971052563233, 3.6268604078470186], [3.640005182752633, 0.9510408443080736, 3.6268604078470186], [3.5963919519825156, 1.10457292458381, 3.6268604078470186], [3.5463060277592864, 1.2561170230063738, 3.6268604078470186], [3.4898375534372117, 1.405400394417057, 3.6268604078470186], [3.427088159519567, 1.5521543624553045, 3.6268604078470186], [3.3581707807466743, 1.6961148031154956, 3.6268604078470186], [3.283209452838874, 1.8370226201105155, 3.6268604078470186], [3.202339089260234, 1.9746242111865684, 3.6268604078470186], [3.115705238404776, 2.108671924549971, 3.6268604078470186], [3.023463821642234, 2.2389245045844626, 3.6268604078470186], [2.9257808526947917, 2.365147526056838, 3.6268604078470186], [2.822832138849872, 2.487113816029435, 3.6268604078470186], [2.714802964546716, 2.6046038627201265, 3.6268604078470186], [2.6018877579062263, 2.7174062105739645, 3.6268604078470186], [2.484289740804255, 2.8253178408354294, 3.6268604078470186], [2.3622205631181106, 2.928144536936351, 3.6268604078470186], [2.2358999218045743, 3.025701234041878, 3.6268604078470186], [2.105555165494978, 3.11781235212539, 3.6268604078470186], [1.97142088531901, 3.204312111972904, 3.6268604078470186], [1.8337384926936466, 3.285044833548224, 3.6268604078470186], [1.6927557848371149, 3.3598652161818525, 3.6268604078470186], [1.5487264987898512, 3.428638600079392, 3.6268604078470186], [1.401909854745122, 3.4912412086787636, 3.6268604078470186], [1.2525700895112075, 3.547560371420073, 3.6268604078470186], [1.1009759809448112, 3.5974947265271777, 3.6268604078470186], [0.9474003642116066, 3.640954403435994, 3.6268604078470186], [0.7921196407445469, 3.6778611845412237, 3.6268604078470186], [0.6354132807836941, 3.7081486459703776, 3.6268604078470186], [0.47756332039289323, 3.731762277131752, 3.6268604078470186], [0.31885385385853937, 3.7486595788211816, 3.6268604078470186], [0.1595705223840105, 3.7588101397110147, 3.6268604078470186], [-6.050072103347434e-16, 3.7621956910836314, 3.6268604078470186], [-0.1595705223840117, 3.7588101397110147, 3.6268604078470186], [-0.31885385385854054, 3.7486595788211816, 3.6268604078470186], [-0.47756332039289445, 3.731762277131752, 3.6268604078470186], [-0.6354132807836953, 3.708148645970377, 3.6268604078470186], [-0.792119640744548, 3.6778611845412232, 3.6268604078470186], [-0.9474003642116078, 3.6409544034359937, 3.6268604078470186], [-1.100975980944812, 3.5974947265271773, 3.6268604078470186], [-1.2525700895112086, 3.5475603714200727, 3.6268604078470186], [-1.4019098547451232, 3.491241208678763, 3.6268604078470186], [-1.5487264987898524, 3.4286386000793914, 3.6268604078470186], [-1.692755784837115, 3.3598652161818525, 3.6268604078470186], [-1.8337384926936469, 3.2850448335482234, 3.6268604078470186], [-1.9714208853190105, 3.204312111972904, 3.6268604078470186], [-2.105555165494979, 3.1178123521253895, 3.6268604078470186], [-2.235899921804575, 3.025701234041877, 3.6268604078470186], [-2.362220563118112, 2.9281445369363497, 3.6268604078470186], [-2.484289740804256, 2.825317840835428, 3.6268604078470186], [-2.601887757906228, 2.7174062105739627, 3.6268604078470186], [-2.714802964546718, 2.6046038627201247, 3.6268604078470186], [-2.8228321388498747, 2.4871138160294324, 3.6268604078470186], [-2.925780852694794, 2.3651475260568353, 3.6268604078470186], [-3.0234638216422365, 2.238924504584459, 3.6268604078470186], [-3.115705238404779, 2.108671924549967, 3.6268604078470186], [-3.202339089260237, 1.9746242111865642, 3.6268604078470186], [-3.283209452838877, 1.8370226201105107, 3.6268604078470186], [-3.3581707807466765, 1.6961148031154902, 3.6268604078470186], [-3.427088159519569, 1.552154362455299, 3.6268604078470186], [-3.489837553437214, 1.4054003944170512, 3.6268604078470186], [-3.5463060277592886, 1.2561170230063676, 3.6268604078470186], [-3.596391951982518, 1.1045729245838039, 3.6268604078470186], [-3.6400051827526347, 0.9510408443080669, 3.6268604078470186], [-3.6770672261020616, 0.7957971052563163, 3.6268604078470186], [-3.707511378721329, 0.6391211111050182, 3.6268604078470186], [-3.7312828480099705, 0.4812948432664167, 3.6268604078470186], [-3.748338850690833, 0.3226023533856626, 3.6268604078470186], [-3.7586486898103124, 0.16332925211199098, 3.6268604078470186], [-3.7621938099859427, 0.00376219506404274, 3.6268604078470186]], &quot;color&quot;:&quot;brown&quot;, &quot;opacity&quot;:1, &quot;linewidth&quot;:2},{&quot;points&quot;:[[3.7621938099859427, -0.0037621950640510477, -3.6268604078470186], [3.5715495201377943, -0.003571550710654777, -3.4286992768061455], [3.3913432704057964, -0.0033913444008540055, -3.2405586985801578], [3.221048398607813, -0.0032210494722910423, -3.0618888224972602], [3.060167209081673, -0.0030601682291378175, -2.8921674765075944], [2.908229518143589, -0.0029082304875538163, -2.7308986411081357], [2.76479127995177, -0.002764792201549232, -2.5776109996997736], [2.6294332887592446, -0.002629434165237358, -2.431856561139922], [2.501759953763157, -0.0025017607876834753, -2.293209350464992], [2.381398142969974, -0.002381398936769672, -2.161264163956303], [2.267996092697734, -0.002267996848696734, -2.035635384911034], [2.1612223795283034, -0.0021612230999360515, -1.9159558566572639], [2.0607649517051194, -0.002060765638627045, -1.8018758095194078], [1.966330217145622, -0.00196633087258929, -1.6930618385980618], [1.8776421854030503, -0.0018776428112840292, -1.5891959293767617], [1.7944416610699396, -0.0017944422592173993, -1.4899745283079393], [1.7164854862659988, -0.0017164860584280566, -1.3951076556618172], [1.6435458299964962, -0.0016435463778453254, -1.3043180580454936], [1.5754095223042728, -0.0015754100474409903, -1.2173403981154138], [1.5118774312694017, -0.001511877935228747, -1.1339204791151165], [1.4527638810357468, -0.0014527643652905676, -1.05381450197193], [1.3978961091635698, -0.001397896575129126, -0.9767883527814414], [1.3471137617222702, -0.0013471142107603705, -0.902616918597376], [1.300268424647646, -0.0013002688580706274, -0.831083429527249], [1.2572231899940325, -0.0012572236090685968, -0.7619788252110253], [1.217852255813679, -0.0012178526617645934, -0.6951011438312932], [1.1820405584939802, -0.0011820409525076573, -0.6302549318692982], [1.1496834364780562, -0.0011496838197060217, -0.5672506728818205], [1.1206863243858838, -0.0011206866979481414, -0.5059042336294659], [1.09496447664203, -0.0010949648416303348, -0.4460363259376513], [1.07244271980228, -0.0010724430772833294, -0.38747198271754474], [1.0530552328553182, -0.0010530555838738696, -0.3300400466156053], [1.0367453548573826, -0.0010367457004393059, -0.27357266979727257], [1.0234654193376957, -0.001023465760492972, -0.2179048234028989], [1.0131766149907133, -0.0010131769527163866, -0.16287381524228275], [1.0058488722480536, -0.0010058492075311451, -0.10831881431824107], [1.0014607753986156, -0.0010014611092190075, -0.054080380789614926], [0.9999995000000417, -0.0009999998333333417, -1.887379141862766e-15], [1.0014607753986156, -0.0010014611092190075, 0.054080380789611145], [1.0058488722480532, -0.0010058492075311447, 0.10831881431823727], [1.0131766149907127, -0.001013176952716386, 0.16287381524227895], [1.023465419337695, -0.0010234657604929714, 0.21790482340289502], [1.0367453548573815, -0.0010367457004393048, 0.2735726697972687], [1.0530552328553169, -0.0010530555838738683, 0.3300400466156013], [1.0724427198022783, -0.001072443077283328, 0.3874719827175407], [1.0949644766420281, -0.001094964841630333, 0.44603632593764714], [1.1206863243858818, -0.0011206866979481395, 0.5059042336294617], [1.1496834364780542, -0.0011496838197060197, 0.5672506728818162], [1.1820405584939777, -0.0011820409525076547, 0.6302549318692937], [1.2178522558136764, -0.0012178526617645906, 0.6951011438312886], [1.2572231899940296, -0.001257223609068594, 0.7619788252110206], [1.3002684246476428, -0.0013002688580706244, 0.8310834295272441], [1.3471137617222666, -0.001347114210760367, 0.902616918597371], [1.397896109163566, -0.001397896575129122, 0.976788352781436], [1.4527638810357428, -0.0014527643652905637, 1.0538145019719247], [1.5118774312693974, -0.001511877935228743, 1.133920479115111], [1.5754095223042681, -0.0015754100474409856, 1.2173403981154078], [1.6435458299964916, -0.0016435463778453209, 1.3043180580454878], [1.7164854862659937, -0.0017164860584280514, 1.395107655661811], [1.7944416610699343, -0.001794442259217394, 1.4899745283079329], [1.8776421854030445, -0.0018776428112840234, 1.589195929376755], [1.966330217145616, -0.001966330872589284, 1.693061838598055], [2.060764951705113, -0.0020607656386270384, 1.8018758095194005], [2.1612223795282963, -0.0021612230999360446, 1.9159558566572563], [2.2679960926977265, -0.002267996848696726, 2.035635384911026], [2.3813981429699664, -0.0023813989367696647, 2.1612641639562944], [2.501759953763149, -0.002501760787683467, 2.2932093504649833], [2.629433288759236, -0.0026294341652373498, 2.4318565611399126], [2.764791279951761, -0.0027647922015492233, 2.577610999699764], [2.9082295181435796, -0.0029082304875538067, 2.730898641108125], [3.060167209081663, -0.003060168229137807, 2.8921674765075838], [3.221048398607802, -0.003221049472291031, 3.0618888224972487], [3.391343270405785, -0.003391344400853994, 3.240558698580146], [3.571549520137782, -0.0035715507106547644, 3.4286992768061326], [3.76219380998593, -0.0037621950640510347, 3.6268604078470053]], &quot;color&quot;:&quot;green&quot;, &quot;opacity&quot;:1, &quot;linewidth&quot;:2},{&quot;points&quot;:[[3.4747348213522433, -1.4423364168218302, -3.6268604078470186], [3.298657142773051, -1.369247890341014, -3.4286992768061455], [3.1322199620762357, -1.3001610623744555, -3.2405586985801578], [2.974936857903466, -1.234874023057054, -3.0618888224972602], [2.8263481621634297, -1.1731959676046069, -2.8921674765075944], [2.6860196166278163, -1.1149466386768563, -2.7308986411081357], [2.5535411037889486, -1.0599557995659925, -2.5776109996997736], [2.4285254482699377, -1.0080627366709798, -2.431856561139922], [2.3106072852844073, -0.9591157898036576, -2.293209350464992], [2.199441992838815, -0.912971908953916, -2.161264163956303], [2.094704684556666, -0.8694962362185652, -2.035635384911034], [1.996089260181099, -0.8285617116720657, -1.9159558566572639], [1.9033075109808892, -0.7900487020272567, -1.8018758095194078], [1.8160882774453717, -0.7538446510008225, -1.6930618385980618], [1.7341766568065993, -0.7198437503616714, -1.5891959293767617], [1.6573332580726823, -0.6879466307008518, -1.4899745283079393], [1.5853335023951065, -0.6580600710192621, -1.3951076556618172], [1.5179669667253104, -0.6300967262844082, -1.3043180580454936], [1.45503676884233, -0.6039748721599821, -1.2173403981154138], [1.396358991954219, -0.5796181661622184, -1.1339204791151165], [1.3417621471916141, -0.5569554245449955, -1.05381450197193], [1.2910866724225518, -0.535920414261618, -0.9767883527814414], [1.2441844659237986, -0.516451659395276, -0.902616918597376], [1.2009184535458268, -0.4984922614924665, -0.831083429527249], [1.1611621881064482, -0.48198973327428857, -0.7619788252110253], [1.1247994798423162, -0.4668958452396284, -0.6951011438312932], [1.0917240568382713, -0.453166484711922, -0.6302549318692982], [1.0618392544421147, -0.4407615269175523, -0.5672506728818205], [1.0350577327571109, -0.4296447177191019, -0.5059042336294659], [1.0113012213865753, -0.4197835676607413, -0.4460363259376513], [0.9905002906845496, -0.4111492570160967, -0.38747198271754474], [0.9725941488440334, -0.40371655156109376, -0.3300400466156053], [0.9575304642297512, -0.39746372882561876, -0.27357266979727257], [0.9452652124362129, -0.3923725146084645, -0.2179048234028989], [0.9357625476240898, -0.38842802957002276, -0.16287381524228275], [0.9289946977588737, -0.3856187457466359, -0.10831881431824107], [0.9249418834456563, -0.3839364528595213, -0.054080380789614926], [0.923592260122814, -0.38337623431980267, -1.887379141862766e-15], [0.9249418834456563, -0.3839364528595213, 0.054080380789611145], [0.9289946977588733, -0.38561874574663574, 0.10831881431823727], [0.9357625476240892, -0.3884280295700225, 0.16287381524227895], [0.9452652124362123, -0.39237251460846423, 0.21790482340289502], [0.9575304642297502, -0.39746372882561837, 0.2735726697972687], [0.9725941488440322, -0.40371655156109326, 0.3300400466156013], [0.9905002906845481, -0.4111492570160961, 0.3874719827175407], [1.0113012213865735, -0.4197835676607406, 0.44603632593764714], [1.0350577327571089, -0.4296447177191012, 0.5059042336294617], [1.0618392544421127, -0.44076152691755155, 0.5672506728818162], [1.0917240568382691, -0.45316648471192106, 0.6302549318692937], [1.1247994798423138, -0.4668958452396274, 0.6951011438312886], [1.1611621881064456, -0.48198973327428746, 0.7619788252110206], [1.200918453545824, -0.49849226149246534, 0.8310834295272441], [1.2441844659237953, -0.5164516593952747, 0.902616918597371], [1.2910866724225483, -0.5359204142616165, 0.976788352781436], [1.3417621471916104, -0.5569554245449939, 1.0538145019719247], [1.3963589919542152, -0.5796181661622168, 1.133920479115111], [1.4550367688423256, -0.6039748721599804, 1.2173403981154078], [1.5179669667253062, -0.6300967262844064, 1.3043180580454878], [1.5853335023951018, -0.6580600710192601, 1.395107655661811], [1.6573332580726774, -0.6879466307008497, 1.4899745283079329], [1.734176656806594, -0.7198437503616691, 1.589195929376755], [1.8160882774453662, -0.7538446510008202, 1.693061838598055], [1.9033075109808835, -0.7900487020272544, 1.8018758095194005], [1.9960892601810925, -0.8285617116720629, 1.9159558566572563], [2.0947046845566595, -0.8694962362185623, 2.035635384911026], [2.1994419928388083, -0.9129719089539131, 2.1612641639562944], [2.3106072852843997, -0.9591157898036546, 2.2932093504649833], [2.4285254482699297, -1.0080627366709765, 2.4318565611399126], [2.5535411037889406, -1.0599557995659892, 2.577610999699764], [2.6860196166278074, -1.1149466386768527, 2.730898641108125], [2.8263481621634203, -1.173195967604603, 2.8921674765075838], [2.974936857903456, -1.2348740230570499, 3.0618888224972487], [3.132219962076225, -1.300161062374451, 3.240558698580146], [3.2986571427730396, -1.369247890341009, 3.4286992768061326], [3.4747348213522313, -1.4423364168218253, 3.6268604078470053]], &quot;color&quot;:&quot;green&quot;, &quot;opacity&quot;:1, &quot;linewidth&quot;:2},{&quot;points&quot;:[[2.658943615794556, -2.6616038897690273, -3.6268604078470186], [2.5242050980621813, -2.5267305661047206, -3.4286992768061455], [2.396843701639873, -2.3992417445628114, -3.2405586985801578], [2.2764872061908803, -2.278764832399978, -3.0618888224972602], [2.162783863567614, -2.1649477295444925, -2.8921674765075944], [2.0554013698092994, -2.057457799565356, -2.7308986411081357], [1.9540258939662885, -1.955980897524951, -2.5776109996997736], [1.8583611609127069, -1.8602204518740413, -2.431856561139922], [1.768127585466918, -1.7698965977059222, -2.293209350464992], [1.6830614552892167, -1.684745358836605, -2.161264163956303], [1.602914160168737, -1.6045178763206247, -2.035635384911034], [1.5274514654471174, -1.5289796811477663, -1.9159558566572639], [1.4564528274554729, -1.45791000899513, -1.8018758095194078], [1.3897107489639962, -1.3911011550318613, -1.6930618385980618], [1.32703017276046, -1.328357866890927, -1.5891959293767617], [1.2682279115853212, -1.2694967740338694, -1.4899745283079393], [1.2131321127573822, -1.2143458518408263, -1.3951076556618172], [1.1615817559253485, -1.162743918859588, -1.3043180580454936], [1.1134261824774383, -1.1145401657443814, -1.2173403981154138], [1.0685246552337155, -1.0695937145076746, -1.1339204791151165], [1.0267459471343277, -1.0277732067968983, -1.05381450197193], [0.9879679577215645, -0.9889564199927937, -0.9767883527814414], [0.9520773562948909, -0.9530299100074215, -0.902616918597376], [0.918969250696051, -0.919888679737887, -0.831083429527249], [0.8885468807562548, -0.889435872206819, -0.7619788252110253], [0.860721335509528, -0.861582487492792, -0.6951011438312932], [0.8354112933457682, -0.8362471226234053, -0.6302549318692982], [0.8125427843440888, -0.8133557336708421, -0.5672506728818205], [0.7920489740918601, -0.7928414193546206, -0.5059042336294659], [0.7738699683576459, -0.7746442255191057, -0.4460363259376513], [0.7579526380471816, -0.7587109699143567, -0.38747198271754474], [0.7442504639308202, -0.7449950867682217, -0.3300400466156053], [0.7327234006886528, -0.7334564906954357, -0.27357266979727257], [0.7233377598759678, -0.7240614595459872, -0.2179048234028989], [0.7160661114670118, -0.7167825358503725, -0.16287381524228275], [0.7108872036893042, -0.711598446573706, -0.10831881431824107], [0.7077859009142233, -0.7084940409441642, -0.054080380789614926], [0.7067531394223399, -0.7074602461740637, -1.887379141862766e-15], [0.7077859009142233, -0.7084940409441642, 0.054080380789611145], [0.7108872036893039, -0.7115984465737056, 0.10831881431823727], [0.7160661114670113, -0.7167825358503721, 0.16287381524227895], [0.7233377598759674, -0.7240614595459867, 0.21790482340289502], [0.732723400688652, -0.733456490695435, 0.2735726697972687], [0.7442504639308193, -0.7449950867682207, 0.3300400466156013], [0.7579526380471805, -0.7587109699143556, 0.3874719827175407], [0.7738699683576447, -0.7746442255191045, 0.44603632593764714], [0.7920489740918587, -0.7928414193546192, 0.5059042336294617], [0.8125427843440873, -0.8133557336708407, 0.5672506728818162], [0.8354112933457665, -0.8362471226234036, 0.6302549318692937], [0.8607213355095262, -0.8615824874927901, 0.6951011438312886], [0.8885468807562527, -0.8894358722068169, 0.7619788252110206], [0.9189692506960487, -0.9198886797378848, 0.8310834295272441], [0.9520773562948883, -0.953029910007419, 0.902616918597371], [0.9879679577215619, -0.988956419992791, 0.976788352781436], [1.0267459471343248, -1.0277732067968954, 1.0538145019719247], [1.0685246552337127, -1.0695937145076717, 1.133920479115111], [1.1134261824774352, -1.114540165744378, 1.2173403981154078], [1.1615817559253452, -1.1627439188595847, 1.3043180580454878], [1.2131321127573786, -1.2143458518408228, 1.395107655661811], [1.2682279115853174, -1.2694967740338656, 1.4899745283079329], [1.3270301727604559, -1.3283578668909228, 1.589195929376755], [1.389710748963992, -1.391101155031857, 1.693061838598055], [1.4564528274554684, -1.4579100089951256, 1.8018758095194005], [1.5274514654471123, -1.5289796811477612, 1.9159558566572563], [1.6029141601687316, -1.6045178763206194, 2.035635384911026], [1.6830614552892114, -1.6847453588365995, 2.1612641639562944], [1.7681275854669125, -1.7698965977059167, 2.2932093504649833], [1.858361160912701, -1.8602204518740353, 2.4318565611399126], [1.9540258939662822, -1.9559808975249449, 2.577610999699764], [2.0554013698092928, -2.0574577995653494, 2.730898641108125], [2.162783863567607, -2.164947729544485, 2.8921674765075838], [2.2764872061908727, -2.2787648323999705, 3.0618888224972487], [2.3968437016398645, -2.399241744562803, 3.240558698580146], [2.5242050980621724, -2.5267305661047117, 3.4286992768061326], [2.6589436157945467, -2.6616038897690184, 3.6268604078470053]], &quot;color&quot;:&quot;green&quot;, &quot;opacity&quot;:1, &quot;linewidth&quot;:2},{&quot;points&quot;:[[1.4388609614114518, -3.47617542016141, -3.6268604078470186], [1.3659485491241286, -3.3000247411067503, -3.4286992768061455], [1.2970281928539387, -3.1335185568120663, -3.2405586985801578], [1.2318984692580133, -2.9761702442524056, -3.0618888224972602], [1.1703690333155665, -2.8275199447615385, -2.8921674765075944], [1.1122600620346252, -2.6871332200709723, -2.7308986411081357], [1.057401728909938, -2.55459978264141, -2.5776109996997736], [1.0056337075961375, -2.4295322965759754, -2.431856561139922], [0.9568047033456194, -2.311565245610812, -2.293209350464992], [0.9107720108417343, -2.2003538648747023, -2.161264163956303], [0.8674010971350439, -2.095573133295714, -2.035635384911034], [0.8265652084637447, -1.9969168237101307, -1.9159558566572639], [0.7881449998091756, -1.9040966078975656, -1.8018758095194078], [0.7520281861037643, -1.8168412139266688, -1.6930618385980618], [0.7181092140720489, -1.7348956333487309, -1.5891959293767617], [0.6862889537457145, -1.6580203759221654, -1.4899745283079393], [0.656474408751081, -1.5859907696897642, -1.3951076556618172], [0.6285784445223404, -1.5185963043631587, -1.3043180580454936], [0.602519533646235, -1.4556400160955036, -1.2173403981154138], [0.5782215175939317, -1.3969379118443406, -1.1339204791151165], [0.5556133841437417, -1.3423184316423156, -1.05381450197193], [0.5346290598441916, -1.291621947204211, -0.9767883527814414], [0.5152072169109081, -1.2447002954049375, -0.902616918597376], [0.4972910939929637, -1.2014163452650606, -0.831083429527249], [0.4808283302848625, -1.1616435971783454, -0.7619788252110253], [0.46577081249934943, -1.125265813210047, -0.6951011438312932], [0.45207453425381416, -1.0921766773854726, -0.6302549318692982], [0.43969946745933824, -1.062279484975989, -0.5672506728818205], [0.4286094453365134, -1.0354868598743991, -0.5059042336294659], [0.4187720567161385, -1.0117204992337034, -0.4460363259376513], [0.4101585513158841, -0.9909109446229368, -0.38747198271754474], [0.4027437557160897, -0.9729973790312746, -0.3300400466156053], [0.3965059997891295, -0.9579274491271407, -0.27357266979727257], [0.39142705336733147, -0.9456571122528592, -0.2179048234028989], [0.38749207296436045, -0.936150507707687, -0.16287381524228275], [0.3846895583943526, -0.9293798519430404, -0.10831881431824107], [0.38301131916202213, -0.9253253573636233, -0.054080380789614926], [0.38245245052551063, -0.9239751744971463, -1.887379141862766e-15], [0.38301131916202213, -0.9253253573636233, 0.054080380789611145], [0.3846895583943524, -0.9293798519430401, 0.10831881431823727], [0.38749207296436017, -0.9361505077076865, 0.16287381524227895], [0.3914270533673312, -0.9456571122528585, 0.21790482340289502], [0.3965059997891291, -0.9579274491271397, 0.2735726697972687], [0.4027437557160892, -0.9729973790312734, 0.3300400466156013], [0.4101585513158835, -0.9909109446229354, 0.3874719827175407], [0.4187720567161378, -1.0117204992337019, 0.44603632593764714], [0.42860944533651263, -1.0354868598743974, 0.5059042336294617], [0.43969946745933747, -1.0622794849759871, 0.5672506728818162], [0.4520745342538132, -1.0921766773854704, 0.6302549318692937], [0.46577081249934843, -1.1252658132100446, 0.6951011438312886], [0.4808283302848614, -1.1616435971783428, 0.7619788252110206], [0.4972910939929625, -1.2014163452650577, 0.8310834295272441], [0.5152072169109068, -1.2447002954049344, 0.902616918597371], [0.5346290598441902, -1.2916219472042076, 0.976788352781436], [0.5556133841437402, -1.3423184316423118, 1.0538145019719247], [0.57822151759393, -1.3969379118443366, 1.133920479115111], [0.6025195336462331, -1.4556400160954994, 1.2173403981154078], [0.6285784445223386, -1.5185963043631543, 1.3043180580454878], [0.6564744087510791, -1.5859907696897593, 1.395107655661811], [0.6862889537457125, -1.6580203759221606, 1.4899745283079329], [0.7181092140720466, -1.7348956333487255, 1.589195929376755], [0.752028186103762, -1.8168412139266632, 1.693061838598055], [0.7881449998091732, -1.9040966078975599, 1.8018758095194005], [0.8265652084637419, -1.996916823710124, 1.9159558566572563], [0.867401097135041, -2.095573133295707, 2.035635384911026], [0.9107720108417314, -2.200353864874695, 2.1612641639562944], [0.9568047033456163, -2.3115652456108045, 2.2932093504649833], [1.0056337075961344, -2.4295322965759674, 2.4318565611399126], [1.0574017289099347, -2.554599782641402, 2.577610999699764], [1.1122600620346217, -2.687133220070964, 2.730898641108125], [1.1703690333155625, -2.827519944761529, 2.8921674765075838], [1.231898469258009, -2.9761702442523954, 3.0618888224972487], [1.2970281928539342, -3.1335185568120556, 3.240558698580146], [1.365948549124124, -3.3000247411067387, 3.4286992768061326], [1.438860961411447, -3.476175420161398, 3.6268604078470053]], &quot;color&quot;:&quot;green&quot;, &quot;opacity&quot;:1, &quot;linewidth&quot;:2},{&quot;points&quot;:[[2.303680455425767e-16, -3.7621956910836314, -3.6268604078470186], [2.186944437388635e-16, -3.571551305913298, -3.4286992768061455], [2.0765998787560405e-16, -3.391344966078138, -3.2405586985801578], [1.9723242917889468e-16, -3.2210500091326835, -3.0618888224972602], [1.8738129256351648e-16, -3.060168739165915, -2.8921674765075944], [1.7807778756790614e-16, -2.908230972258954, -2.7308986411081357], [1.6929472421252751e-16, -2.764792662347986, -2.5776109996997736], [1.610064335357354e-16, -2.6294346034764366, -2.431856561139922], [1.5318869257489393e-16, -2.501761204643655, -2.293209350464992], [1.4581865357350218e-16, -2.3813993336695414, -2.161264163956303], [1.38874777207432e-16, -2.2679972266962527, -2.035635384911034], [1.3233676963512746e-16, -2.1612234601399436, -1.9159558566572639], [1.2618552318779257e-16, -2.0607659820880246, -1.8018758095194078], [1.2040306052623053e-16, -1.9663312003111402, -1.6930618385980618], [1.149724821011306e-16, -1.8776431242245342, -1.5891959293767617], [1.0987791676325187e-16, -1.794442558291144, -1.4899745283079393], [1.0510447537916049e-16, -1.7164863445090996, -1.3951076556618172], [1.0063820731695892e-16, -1.6435466517697537, -1.3043180580454936], [9.646605967483524e-17, -1.5754103100093622, -1.2173403981154138], [9.257583913327548e-17, -1.5118781872084324, -1.1339204791151165], [8.895617631945014e-17, -1.45276460741799, -1.05381450197193], [8.559649257962797e-17, -1.3978968081119156, -0.9767883527814414], [8.248696906250752e-17, -1.3471144352794318, -0.902616918597376], [7.961851802311124e-17, -1.300269074782129, -0.831083429527249], [7.698275626337576e-17, -1.2572238186058895, -0.7619788252110253], [7.457198063181748e-17, -1.2178528647400606, -0.6951011438312932], [7.237914551066986e-17, -1.1820411495145056, -0.6302549318692982], [7.039784222469722e-17, -1.149684011320014, -0.5672506728818205], [6.862228031150654e-17, -1.1206868847292795, -0.5059042336294659], [6.704727059861844e-17, -1.0949650241244964, -0.4460363259376513], [6.566821003783948e-17, -1.0724432560238633, -0.38747198271754474], [6.448106825261325e-17, -1.053055759383154, -0.3300400466156053], [6.348237575903426e-17, -1.0367458732302761, -0.27357266979727257], [6.266921382609994e-17, -1.0234659310706187, -0.2179048234028989], [6.203920594556674e-17, -1.0131771215792318, -0.16287381524228275], [6.159051088648057e-17, -1.0058493751726993, -0.10831881431824107], [6.132181731408314e-17, -1.0014612761292119, -0.054080380789614926], [6.123233995736766e-17, -1.0, -1.887379141862766e-15], [6.132181731408314e-17, -1.0014612761292119, 0.054080380789611145], [6.159051088648054e-17, -1.005849375172699, 0.10831881431823727], [6.203920594556671e-17, -1.0131771215792311, 0.16287381524227895], [6.26692138260999e-17, -1.023465931070618, 0.21790482340289502], [6.34823757590342e-17, -1.036745873230275, 0.2735726697972687], [6.448106825261316e-17, -1.0530557593831527, 0.3300400466156013], [6.566821003783938e-17, -1.0724432560238617, 0.3874719827175407], [6.704727059861833e-17, -1.0949650241244946, 0.44603632593764714], [6.862228031150642e-17, -1.1206868847292775, 0.5059042336294617], [7.03978422246971e-17, -1.149684011320012, 0.5672506728818162], [7.237914551066971e-17, -1.1820411495145031, 0.6302549318692937], [7.457198063181732e-17, -1.217852864740058, 0.6951011438312886], [7.698275626337559e-17, -1.2572238186058866, 0.7619788252110206], [7.961851802311105e-17, -1.300269074782126, 0.8310834295272441], [8.24869690625073e-17, -1.3471144352794282, 0.902616918597371], [8.559649257962773e-17, -1.3978968081119119, 0.976788352781436], [8.895617631944989e-17, -1.452764607417986, 1.0538145019719247], [9.257583913327522e-17, -1.5118781872084281, 1.133920479115111], [9.646605967483495e-17, -1.5754103100093575, 1.2173403981154078], [1.0063820731695863e-16, -1.643546651769749, 1.3043180580454878], [1.0510447537916018e-16, -1.7164863445090945, 1.395107655661811], [1.0987791676325154e-16, -1.7944425582911387, 1.4899745283079329], [1.1497248210113025e-16, -1.8776431242245284, 1.589195929376755], [1.2040306052623016e-16, -1.9663312003111342, 1.693061838598055], [1.2618552318779217e-16, -2.0607659820880184, 1.8018758095194005], [1.3233676963512702e-16, -2.1612234601399365, 1.9159558566572563], [1.3887477720743154e-16, -2.267997226696245, 2.035635384911026], [1.458186535735017e-16, -2.381399333669534, 2.1612641639562944], [1.5318869257489344e-16, -2.501761204643647, 2.2932093504649833], [1.6100643353573488e-16, -2.629434603476428, 2.4318565611399126], [1.6929472421252697e-16, -2.7647926623479773, 2.577610999699764], [1.7807778756790557e-16, -2.9082309722589446, 2.730898641108125], [1.8738129256351586e-16, -3.060168739165905, 2.8921674765075838], [1.97232429178894e-16, -3.2210500091326724, 3.0618888224972487], [2.0765998787560333e-16, -3.3913449660781265, 3.240558698580146], [2.1869444373886274e-16, -3.5715513059132857, 3.4286992768061326], [2.303680455425759e-16, -3.7621956910836185, 3.6268604078470053]], &quot;color&quot;:&quot;green&quot;, &quot;opacity&quot;:1, &quot;linewidth&quot;:2},{&quot;points&quot;:[[-1.4388609614114523, -3.4761754201614097, -3.6268604078470186], [-1.365948549124129, -3.30002474110675, -3.4286992768061455], [-1.297028192853939, -3.133518556812066, -3.2405586985801578], [-1.2318984692580135, -2.9761702442524056, -3.0618888224972602], [-1.1703690333155667, -2.827519944761538, -2.8921674765075944], [-1.1122600620346255, -2.687133220070972, -2.7308986411081357], [-1.0574017289099382, -2.55459978264141, -2.5776109996997736], [-1.005633707596138, -2.429532296575975, -2.431856561139922], [-0.9568047033456196, -2.3115652456108116, -2.293209350464992], [-0.9107720108417345, -2.2003538648747023, -2.161264163956303], [-0.8674010971350442, -2.0955731332957135, -2.035635384911034], [-0.8265652084637449, -1.9969168237101305, -1.9159558566572639], [-0.7881449998091759, -1.9040966078975654, -1.8018758095194078], [-0.7520281861037645, -1.8168412139266685, -1.6930618385980618], [-0.7181092140720491, -1.7348956333487306, -1.5891959293767617], [-0.6862889537457147, -1.6580203759221652, -1.4899745283079393], [-0.6564744087510812, -1.585990769689764, -1.3951076556618172], [-0.6285784445223406, -1.5185963043631585, -1.3043180580454936], [-0.6025195336462351, -1.4556400160955036, -1.2173403981154138], [-0.5782215175939318, -1.3969379118443404, -1.1339204791151165], [-0.5556133841437418, -1.3423184316423153, -1.05381450197193], [-0.5346290598441918, -1.291621947204211, -0.9767883527814414], [-0.5152072169109082, -1.2447002954049375, -0.902616918597376], [-0.49729109399296384, -1.2014163452650606, -0.831083429527249], [-0.48082833028486266, -1.1616435971783452, -0.7619788252110253], [-0.46577081249934954, -1.1252658132100468, -0.6951011438312932], [-0.4520745342538143, -1.0921766773854724, -0.6302549318692982], [-0.43969946745933836, -1.062279484975989, -0.5672506728818205], [-0.4286094453365135, -1.0354868598743991, -0.5059042336294659], [-0.41877205671613865, -1.0117204992337034, -0.4460363259376513], [-0.4101585513158842, -0.9909109446229366, -0.38747198271754474], [-0.40274375571608984, -0.9729973790312745, -0.3300400466156053], [-0.3965059997891296, -0.9579274491271406, -0.27357266979727257], [-0.3914270533673316, -0.9456571122528591, -0.2179048234028989], [-0.38749207296436056, -0.9361505077076869, -0.16287381524228275], [-0.3846895583943527, -0.9293798519430403, -0.10831881431824107], [-0.38301131916202225, -0.9253253573636232, -0.054080380789614926], [-0.38245245052551075, -0.9239751744971462, -1.887379141862766e-15], [-0.38301131916202225, -0.9253253573636232, 0.054080380789611145], [-0.38468955839435254, -0.92937985194304, 0.10831881431823727], [-0.3874920729643603, -0.9361505077076864, 0.16287381524227895], [-0.3914270533673313, -0.9456571122528584, 0.21790482340289502], [-0.3965059997891292, -0.9579274491271396, 0.2735726697972687], [-0.40274375571608934, -0.9729973790312733, 0.3300400466156013], [-0.41015855131588363, -0.9909109446229352, 0.3874719827175407], [-0.41877205671613793, -1.0117204992337017, 0.44603632593764714], [-0.42860944533651274, -1.0354868598743974, 0.5059042336294617], [-0.43969946745933763, -1.0622794849759871, 0.5672506728818162], [-0.45207453425381333, -1.0921766773854702, 0.6302549318692937], [-0.46577081249934854, -1.1252658132100444, 0.6951011438312886], [-0.48082833028486155, -1.1616435971783425, 0.7619788252110206], [-0.4972910939929627, -1.2014163452650577, 0.8310834295272441], [-0.5152072169109069, -1.2447002954049342, 0.902616918597371], [-0.5346290598441904, -1.2916219472042074, 0.976788352781436], [-0.5556133841437404, -1.3423184316423118, 1.0538145019719247], [-0.5782215175939303, -1.3969379118443364, 1.133920479115111], [-0.6025195336462333, -1.4556400160954992, 1.2173403981154078], [-0.6285784445223388, -1.518596304363154, 1.3043180580454878], [-0.6564744087510793, -1.5859907696897593, 1.395107655661811], [-0.6862889537457126, -1.6580203759221603, 1.4899745283079329], [-0.7181092140720469, -1.7348956333487253, 1.589195929376755], [-0.7520281861037622, -1.816841213926663, 1.693061838598055], [-0.7881449998091734, -1.9040966078975596, 1.8018758095194005], [-0.8265652084637422, -1.9969168237101238, 1.9159558566572563], [-0.8674010971350413, -2.095573133295707, 2.035635384911026], [-0.9107720108417316, -2.200353864874695, 2.1612641639562944], [-0.9568047033456166, -2.3115652456108045, 2.2932093504649833], [-1.0056337075961346, -2.429532296575967, 2.4318565611399126], [-1.057401728909935, -2.5545997826414015, 2.577610999699764], [-1.112260062034622, -2.6871332200709634, 2.730898641108125], [-1.1703690333155627, -2.8275199447615287, 2.8921674765075838], [-1.2318984692580093, -2.9761702442523954, 3.0618888224972487], [-1.2970281928539347, -3.133518556812055, 3.240558698580146], [-1.3659485491241241, -3.3000247411067383, 3.4286992768061326], [-1.4388609614114474, -3.4761754201613977, 3.6268604078470053]], &quot;color&quot;:&quot;green&quot;, &quot;opacity&quot;:1, &quot;linewidth&quot;:2},{&quot;points&quot;:[[-2.6589436157945565, -2.6616038897690264, -3.6268604078470186], [-2.5242050980621817, -2.5267305661047197, -3.4286992768061455], [-2.396843701639873, -2.3992417445628105, -3.2405586985801578], [-2.2764872061908807, -2.2787648323999776, -3.0618888224972602], [-2.1627838635676144, -2.1649477295444917, -2.8921674765075944], [-2.0554013698093, -2.0574577995653556, -2.7308986411081357], [-1.9540258939662887, -1.9559808975249506, -2.5776109996997736], [-1.8583611609127073, -1.8602204518740408, -2.431856561139922], [-1.7681275854669183, -1.7698965977059218, -2.293209350464992], [-1.683061455289217, -1.6847453588366044, -2.161264163956303], [-1.6029141601687371, -1.604517876320624, -2.035635384911034], [-1.5274514654471176, -1.5289796811477656, -1.9159558566572639], [-1.456452827455473, -1.4579100089951296, -1.8018758095194078], [-1.3897107489639964, -1.3911011550318608, -1.6930618385980618], [-1.3270301727604603, -1.3283578668909266, -1.5891959293767617], [-1.2682279115853214, -1.269496774033869, -1.4899745283079393], [-1.2131321127573824, -1.2143458518408259, -1.3951076556618172], [-1.1615817559253487, -1.1627439188595876, -1.3043180580454936], [-1.1134261824774385, -1.114540165744381, -1.2173403981154138], [-1.0685246552337158, -1.0695937145076744, -1.1339204791151165], [-1.0267459471343277, -1.0277732067968979, -1.05381450197193], [-0.9879679577215648, -0.9889564199927934, -0.9767883527814414], [-0.952077356294891, -0.9530299100074212, -0.902616918597376], [-0.9189692506960511, -0.9198886797378867, -0.831083429527249], [-0.8885468807562549, -0.8894358722068186, -0.7619788252110253], [-0.8607213355095282, -0.8615824874927916, -0.6951011438312932], [-0.8354112933457684, -0.8362471226234051, -0.6302549318692982], [-0.8125427843440889, -0.8133557336708418, -0.5672506728818205], [-0.7920489740918603, -0.7928414193546203, -0.5059042336294659], [-0.773869968357646, -0.7746442255191055, -0.4460363259376513], [-0.7579526380471817, -0.7587109699143565, -0.38747198271754474], [-0.7442504639308203, -0.7449950867682215, -0.3300400466156053], [-0.7327234006886529, -0.7334564906954355, -0.27357266979727257], [-0.7233377598759679, -0.7240614595459869, -0.2179048234028989], [-0.7160661114670119, -0.7167825358503723, -0.16287381524228275], [-0.7108872036893044, -0.7115984465737057, -0.10831881431824107], [-0.7077859009142234, -0.7084940409441639, -0.054080380789614926], [-0.70675313942234, -0.7074602461740634, -1.887379141862766e-15], [-0.7077859009142234, -0.7084940409441639, 0.054080380789611145], [-0.710887203689304, -0.7115984465737054, 0.10831881431823727], [-0.7160661114670114, -0.7167825358503719, 0.16287381524227895], [-0.7233377598759675, -0.7240614595459864, 0.21790482340289502], [-0.7327234006886522, -0.7334564906954347, 0.2735726697972687], [-0.7442504639308194, -0.7449950867682205, 0.3300400466156013], [-0.7579526380471806, -0.7587109699143554, 0.3874719827175407], [-0.7738699683576448, -0.7746442255191043, 0.44603632593764714], [-0.7920489740918589, -0.7928414193546189, 0.5059042336294617], [-0.8125427843440876, -0.8133557336708405, 0.5672506728818162], [-0.8354112933457666, -0.8362471226234033, 0.6302549318692937], [-0.8607213355095263, -0.8615824874927898, 0.6951011438312886], [-0.8885468807562529, -0.8894358722068166, 0.7619788252110206], [-0.9189692506960488, -0.9198886797378846, 0.8310834295272441], [-0.9520773562948885, -0.9530299100074188, 0.902616918597371], [-0.9879679577215621, -0.9889564199927907, 0.976788352781436], [-1.026745947134325, -1.027773206796895, 1.0538145019719247], [-1.0685246552337129, -1.0695937145076713, 1.133920479115111], [-1.1134261824774352, -1.1145401657443776, 1.2173403981154078], [-1.1615817559253454, -1.1627439188595843, 1.3043180580454878], [-1.2131321127573789, -1.2143458518408223, 1.395107655661811], [-1.2682279115853177, -1.2694967740338652, 1.4899745283079329], [-1.327030172760456, -1.3283578668909224, 1.589195929376755], [-1.3897107489639922, -1.3911011550318566, 1.693061838598055], [-1.4564528274554687, -1.4579100089951251, 1.8018758095194005], [-1.5274514654471125, -1.5289796811477607, 1.9159558566572563], [-1.6029141601687318, -1.6045178763206187, 2.035635384911026], [-1.6830614552892116, -1.684745358836599, 2.1612641639562944], [-1.7681275854669127, -1.769896597705916, 2.2932093504649833], [-1.8583611609127013, -1.8602204518740348, 2.4318565611399126], [-1.9540258939662825, -1.9559808975249442, 2.577610999699764], [-2.055401369809293, -2.057457799565349, 2.730898641108125], [-2.1627838635676073, -2.1649477295444846, 2.8921674765075838], [-2.276487206190873, -2.2787648323999696, 3.0618888224972487], [-2.396843701639865, -2.399241744562802, 3.240558698580146], [-2.524205098062173, -2.526730566104711, 3.4286992768061326], [-2.658943615794547, -2.6616038897690175, 3.6268604078470053]], &quot;color&quot;:&quot;green&quot;, &quot;opacity&quot;:1, &quot;linewidth&quot;:2},{&quot;points&quot;:[[-3.4747348213522438, -1.4423364168218291, -3.6268604078470186], [-3.2986571427730516, -1.3692478903410128, -3.4286992768061455], [-3.132219962076236, -1.3001610623744546, -3.2405586985801578], [-2.974936857903466, -1.2348740230570532, -3.0618888224972602], [-2.82634816216343, -1.1731959676046062, -2.8921674765075944], [-2.6860196166278163, -1.1149466386768554, -2.7308986411081357], [-2.553541103788949, -1.0599557995659918, -2.5776109996997736], [-2.4285254482699377, -1.0080627366709791, -2.431856561139922], [-2.3106072852844077, -0.959115789803657, -2.293209350464992], [-2.1994419928388154, -0.9129719089539153, -2.161264163956303], [-2.0947046845566666, -0.8694962362185645, -2.035635384911034], [-1.9960892601810993, -0.8285617116720652, -1.9159558566572639], [-1.9033075109808895, -0.7900487020272562, -1.8018758095194078], [-1.816088277445372, -0.753844651000822, -1.6930618385980618], [-1.7341766568065995, -0.7198437503616708, -1.5891959293767617], [-1.6573332580726825, -0.6879466307008513, -1.4899745283079393], [-1.5853335023951067, -0.6580600710192617, -1.3951076556618172], [-1.5179669667253106, -0.6300967262844077, -1.3043180580454936], [-1.45503676884233, -0.6039748721599818, -1.2173403981154138], [-1.3963589919542192, -0.5796181661622181, -1.1339204791151165], [-1.3417621471916144, -0.5569554245449951, -1.05381450197193], [-1.291086672422552, -0.5359204142616176, -0.9767883527814414], [-1.2441844659237988, -0.5164516593952757, -0.902616918597376], [-1.200918453545827, -0.49849226149246617, -0.831083429527249], [-1.1611621881064484, -0.48198973327428823, -0.7619788252110253], [-1.1247994798423164, -0.46689584523962807, -0.6951011438312932], [-1.0917240568382716, -0.45316648471192167, -0.6302549318692982], [-1.0618392544421147, -0.440761526917552, -0.5672506728818205], [-1.0350577327571109, -0.4296447177191016, -0.5059042336294659], [-1.0113012213865753, -0.419783567660741, -0.4460363259376513], [-0.9905002906845497, -0.41114925701609645, -0.38747198271754474], [-0.9725941488440335, -0.4037165515610935, -0.3300400466156053], [-0.9575304642297513, -0.3974637288256185, -0.27357266979727257], [-0.945265212436213, -0.39237251460846423, -0.2179048234028989], [-0.93576254762409, -0.3884280295700225, -0.16287381524228275], [-0.9289946977588738, -0.3856187457466356, -0.10831881431824107], [-0.9249418834456564, -0.38393645285952105, -0.054080380789614926], [-0.9235922601228141, -0.3833762343198024, -1.887379141862766e-15], [-0.9249418834456564, -0.38393645285952105, 0.054080380789611145], [-0.9289946977588734, -0.38561874574663546, 0.10831881431823727], [-0.9357625476240893, -0.3884280295700222, 0.16287381524227895], [-0.9452652124362124, -0.39237251460846395, 0.21790482340289502], [-0.9575304642297503, -0.39746372882561803, 0.2735726697972687], [-0.9725941488440323, -0.403716551561093, 0.3300400466156013], [-0.9905002906845483, -0.41114925701609584, 0.3874719827175407], [-1.0113012213865737, -0.4197835676607403, 0.44603632593764714], [-1.035057732757109, -0.42964471771910084, 0.5059042336294617], [-1.061839254442113, -0.44076152691755127, 0.5672506728818162], [-1.0917240568382691, -0.4531664847119207, 0.6302549318692937], [-1.124799479842314, -0.46689584523962707, 0.6951011438312886], [-1.1611621881064458, -0.4819897332742871, 0.7619788252110206], [-1.2009184535458242, -0.49849226149246495, 0.8310834295272441], [-1.2441844659237955, -0.5164516593952744, 0.902616918597371], [-1.2910866724225485, -0.5359204142616162, 0.976788352781436], [-1.3417621471916106, -0.5569554245449936, 1.0538145019719247], [-1.3963589919542152, -0.5796181661622164, 1.133920479115111], [-1.4550367688423258, -0.6039748721599799, 1.2173403981154078], [-1.5179669667253062, -0.6300967262844059, 1.3043180580454878], [-1.585333502395102, -0.6580600710192597, 1.395107655661811], [-1.6573332580726774, -0.6879466307008493, 1.4899745283079329], [-1.7341766568065942, -0.7198437503616686, 1.589195929376755], [-1.8160882774453664, -0.7538446510008197, 1.693061838598055], [-1.9033075109808837, -0.7900487020272539, 1.8018758095194005], [-1.9960892601810927, -0.8285617116720624, 1.9159558566572563], [-2.0947046845566595, -0.8694962362185616, 2.035635384911026], [-2.1994419928388083, -0.9129719089539124, 2.1612641639562944], [-2.3106072852844, -0.959115789803654, 2.2932093504649833], [-2.42852544826993, -1.0080627366709758, 2.4318565611399126], [-2.553541103788941, -1.0599557995659885, 2.577610999699764], [-2.686019616627808, -1.1149466386768518, 2.730898641108125], [-2.8263481621634208, -1.1731959676046022, 2.8921674765075838], [-2.974936857903456, -1.234874023057049, 3.0618888224972487], [-3.1322199620762254, -1.3001610623744502, 3.240558698580146], [-3.29865714277304, -1.3692478903410081, 3.4286992768061326], [-3.4747348213522318, -1.4423364168218242, 3.6268604078470053]], &quot;color&quot;:&quot;green&quot;, &quot;opacity&quot;:1, &quot;linewidth&quot;:2},{&quot;points&quot;:[[-3.7621938099859427, -0.003762195064049423, -3.6268604078470186], [-3.5715495201377943, -0.003571550710653235, -3.4286992768061455], [-3.3913432704057964, -0.0033913444008525414, -3.2405586985801578], [-3.221048398607813, -0.0032210494722896515, -3.0618888224972602], [-3.060167209081673, -0.0030601682291364965, -2.8921674765075944], [-2.908229518143589, -0.0029082304875525608, -2.7308986411081357], [-2.76479127995177, -0.0027647922015480385, -2.5776109996997736], [-2.6294332887592446, -0.0026294341652362226, -2.431856561139922], [-2.501759953763157, -0.002501760787682395, -2.293209350464992], [-2.381398142969974, -0.0023813989367686443, -2.161264163956303], [-2.267996092697734, -0.0022679968486957547, -2.035635384911034], [-2.1612223795283034, -0.0021612230999351187, -1.9159558566572639], [-2.0607649517051194, -0.002060765638626155, -1.8018758095194078], [-1.966330217145622, -0.001966330872588441, -1.6930618385980618], [-1.8776421854030503, -0.0018776428112832185, -1.5891959293767617], [-1.7944416610699396, -0.0017944422592166246, -1.4899745283079393], [-1.7164854862659988, -0.0017164860584273154, -1.3951076556618172], [-1.6435458299964962, -0.001643546377844616, -1.3043180580454936], [-1.5754095223042728, -0.00157541004744031, -1.2173403981154138], [-1.5118774312694017, -0.0015118779352280944, -1.1339204791151165], [-1.4527638810357468, -0.0014527643652899405, -1.05381450197193], [-1.3978961091635698, -0.0013978965751285225, -0.9767883527814414], [-1.3471137617222702, -0.001347114210759789, -0.902616918597376], [-1.300268424647646, -0.001300268858070066, -0.831083429527249], [-1.2572231899940325, -0.001257223609068054, -0.7619788252110253], [-1.217852255813679, -0.0012178526617640675, -0.6951011438312932], [-1.1820405584939802, -0.0011820409525071468, -0.6302549318692982], [-1.1496834364780562, -0.0011496838197055253, -0.5672506728818205], [-1.1206863243858838, -0.0011206866979476574, -0.5059042336294659], [-1.09496447664203, -0.001094964841629862, -0.4460363259376513], [-1.07244271980228, -0.0010724430772828665, -0.38747198271754474], [-1.0530552328553182, -0.001053055583873415, -0.3300400466156053], [-1.0367453548573826, -0.0010367457004388583, -0.27357266979727257], [-1.0234654193376957, -0.0010234657604925302, -0.2179048234028989], [-1.0131766149907133, -0.0010131769527159493, -0.16287381524228275], [-1.0058488722480536, -0.001005849207530711, -0.10831881431824107], [-1.0014607753986156, -0.001001461109218575, -0.054080380789614926], [-0.9999995000000417, -0.00099999983333291, -1.887379141862766e-15], [-1.0014607753986156, -0.001001461109218575, 0.054080380789611145], [-1.0058488722480532, -0.0010058492075307106, 0.10831881431823727], [-1.0131766149907127, -0.0010131769527159486, 0.16287381524227895], [-1.023465419337695, -0.0010234657604925295, 0.21790482340289502], [-1.0367453548573815, -0.0010367457004388572, 0.2735726697972687], [-1.0530552328553169, -0.0010530555838734136, 0.3300400466156013], [-1.0724427198022783, -0.001072443077282865, 0.3874719827175407], [-1.0949644766420281, -0.0010949648416298603, 0.44603632593764714], [-1.1206863243858818, -0.0011206866979476555, 0.5059042336294617], [-1.1496834364780542, -0.0011496838197055234, 0.5672506728818162], [-1.1820405584939777, -0.0011820409525071444, 0.6302549318692937], [-1.2178522558136764, -0.001217852661764065, 0.6951011438312886], [-1.2572231899940296, -0.0012572236090680512, 0.7619788252110206], [-1.3002684246476428, -0.001300268858070063, 0.8310834295272441], [-1.3471137617222666, -0.0013471142107597852, 0.902616918597371], [-1.397896109163566, -0.0013978965751285186, 0.976788352781436], [-1.4527638810357428, -0.0014527643652899364, 1.0538145019719247], [-1.5118774312693974, -0.00151187793522809, 1.133920479115111], [-1.5754095223042681, -0.0015754100474403056, 1.2173403981154078], [-1.6435458299964916, -0.0016435463778446111, 1.3043180580454878], [-1.7164854862659937, -0.0017164860584273104, 1.395107655661811], [-1.7944416610699343, -0.0017944422592166193, 1.4899745283079329], [-1.8776421854030445, -0.0018776428112832128, 1.589195929376755], [-1.966330217145616, -0.0019663308725884347, 1.693061838598055], [-2.060764951705113, -0.002060765638626149, 1.8018758095194005], [-2.1612223795282963, -0.0021612230999351113, 1.9159558566572563], [-2.2679960926977265, -0.0022679968486957473, 2.035635384911026], [-2.3813981429699664, -0.0023813989367686365, 2.1612641639562944], [-2.501759953763149, -0.002501760787682387, 2.2932093504649833], [-2.629433288759236, -0.0026294341652362144, 2.4318565611399126], [-2.764791279951761, -0.00276479220154803, 2.577610999699764], [-2.9082295181435796, -0.002908230487552551, 2.730898641108125], [-3.060167209081663, -0.003060168229136486, 2.8921674765075838], [-3.221048398607802, -0.0032210494722896403, 3.0618888224972487], [-3.391343270405785, -0.0033913444008525297, 3.240558698580146], [-3.571549520137782, -0.0035715507106532226, 3.4286992768061326], [-3.76219380998593, -0.0037621950640494106, 3.6268604078470053]], &quot;color&quot;:&quot;green&quot;, &quot;opacity&quot;:1, &quot;linewidth&quot;:2},{&quot;points&quot;:[[3.7621938099859427, -0.0037621950640510477, -3.6268604078470186], [3.7586486898103124, -0.16332925211199906, -3.6268604078470186], [3.7483388506908324, -0.32260235338567045, -3.6268604078470186], [3.7312828480099696, -0.48129484326642424, -3.6268604078470186], [3.707511378721328, -0.6391211111050255, -3.6268604078470186], [3.6770672261020603, -0.7957971052563233, -3.6268604078470186], [3.640005182752633, -0.9510408443080736, -3.6268604078470186], [3.5963919519825156, -1.10457292458381, -3.6268604078470186], [3.5463060277592864, -1.2561170230063738, -3.6268604078470186], [3.4898375534372117, -1.405400394417057, -3.6268604078470186], [3.427088159519567, -1.5521543624553045, -3.6268604078470186], [3.3581707807466743, -1.6961148031154956, -3.6268604078470186], [3.283209452838874, -1.8370226201105155, -3.6268604078470186], [3.202339089260234, -1.9746242111865684, -3.6268604078470186], [3.115705238404776, -2.108671924549971, -3.6268604078470186], [3.023463821642234, -2.2389245045844626, -3.6268604078470186], [2.9257808526947917, -2.365147526056838, -3.6268604078470186], [2.822832138849872, -2.487113816029435, -3.6268604078470186], [2.714802964546716, -2.6046038627201265, -3.6268604078470186], [2.6018877579062263, -2.7174062105739645, -3.6268604078470186], [2.484289740804255, -2.8253178408354294, -3.6268604078470186], [2.3622205631181106, -2.928144536936351, -3.6268604078470186], [2.2358999218045743, -3.025701234041878, -3.6268604078470186], [2.105555165494978, -3.11781235212539, -3.6268604078470186], [1.97142088531901, -3.204312111972904, -3.6268604078470186], [1.8337384926936466, -3.285044833548224, -3.6268604078470186], [1.6927557848371149, -3.3598652161818525, -3.6268604078470186], [1.5487264987898512, -3.428638600079392, -3.6268604078470186], [1.401909854745122, -3.4912412086787636, -3.6268604078470186], [1.2525700895112075, -3.547560371420073, -3.6268604078470186], [1.1009759809448112, -3.5974947265271777, -3.6268604078470186], [0.9474003642116066, -3.640954403435994, -3.6268604078470186], [0.7921196407445469, -3.6778611845412237, -3.6268604078470186], [0.6354132807836941, -3.7081486459703776, -3.6268604078470186], [0.47756332039289323, -3.731762277131752, -3.6268604078470186], [0.31885385385853937, -3.7486595788211816, -3.6268604078470186], [0.1595705223840105, -3.7588101397110147, -3.6268604078470186], [-6.050072103347434e-16, -3.7621956910836314, -3.6268604078470186], [-0.1595705223840117, -3.7588101397110147, -3.6268604078470186], [-0.31885385385854054, -3.7486595788211816, -3.6268604078470186], [-0.47756332039289445, -3.731762277131752, -3.6268604078470186], [-0.6354132807836953, -3.708148645970377, -3.6268604078470186], [-0.792119640744548, -3.6778611845412232, -3.6268604078470186], [-0.9474003642116078, -3.6409544034359937, -3.6268604078470186], [-1.100975980944812, -3.5974947265271773, -3.6268604078470186], [-1.2525700895112086, -3.5475603714200727, -3.6268604078470186], [-1.4019098547451232, -3.491241208678763, -3.6268604078470186], [-1.5487264987898524, -3.4286386000793914, -3.6268604078470186], [-1.692755784837115, -3.3598652161818525, -3.6268604078470186], [-1.8337384926936469, -3.2850448335482234, -3.6268604078470186], [-1.9714208853190105, -3.204312111972904, -3.6268604078470186], [-2.105555165494979, -3.1178123521253895, -3.6268604078470186], [-2.235899921804575, -3.025701234041877, -3.6268604078470186], [-2.362220563118112, -2.9281445369363497, -3.6268604078470186], [-2.484289740804256, -2.825317840835428, -3.6268604078470186], [-2.601887757906228, -2.7174062105739627, -3.6268604078470186], [-2.714802964546718, -2.6046038627201247, -3.6268604078470186], [-2.8228321388498747, -2.4871138160294324, -3.6268604078470186], [-2.925780852694794, -2.3651475260568353, -3.6268604078470186], [-3.0234638216422365, -2.238924504584459, -3.6268604078470186], [-3.115705238404779, -2.108671924549967, -3.6268604078470186], [-3.202339089260237, -1.9746242111865642, -3.6268604078470186], [-3.283209452838877, -1.8370226201105107, -3.6268604078470186], [-3.3581707807466765, -1.6961148031154902, -3.6268604078470186], [-3.427088159519569, -1.552154362455299, -3.6268604078470186], [-3.489837553437214, -1.4054003944170512, -3.6268604078470186], [-3.5463060277592886, -1.2561170230063676, -3.6268604078470186], [-3.596391951982518, -1.1045729245838039, -3.6268604078470186], [-3.6400051827526347, -0.9510408443080669, -3.6268604078470186], [-3.6770672261020616, -0.7957971052563163, -3.6268604078470186], [-3.707511378721329, -0.6391211111050182, -3.6268604078470186], [-3.7312828480099705, -0.4812948432664167, -3.6268604078470186], [-3.748338850690833, -0.3226023533856626, -3.6268604078470186], [-3.7586486898103124, -0.16332925211199098, -3.6268604078470186], [-3.7621938099859427, -0.00376219506404274, -3.6268604078470186]], &quot;color&quot;:&quot;brown&quot;, &quot;opacity&quot;:1, &quot;linewidth&quot;:2},{&quot;points&quot;:[[2.3524084390385376, -0.0023524092231749978, -2.1292794550948173], [2.350191761472267, -0.10212581552558428, -2.1292794550948173], [2.3437452694054786, -0.20171541841991902, -2.1292794550948173], [2.3330805650682835, -0.3009419791081675, -2.1292794550948173], [2.318216842520413, -0.39962691218631463, -2.1292794550948173], [2.299180853106245, -0.4975926070577446, -2.1292794550948173], [2.276006857308423, -0.5946627475922107, -2.1292794550948173], [2.2487365630867275, -0.6906626294550577, -2.1292794550948173], [2.2174190508131613, -0.7854194745355768, -2.1292794550948173], [2.1821106849383645, -0.8787627419085906, -2.1292794550948173], [2.1428750125483305, -0.9705244347696118, -2.1292794550948173], [2.0997826489939997, -1.060539402791157, -2.1292794550948173], [2.052911150799572, -1.148645639356046, -2.1292794550948173], [2.002344876078276, -1.2346845731327316, -2.1292794550948173], [1.9481748327068138, -1.3185013534678907, -2.1292794550948173], [1.8904985145317312, -1.3999451290826364, -2.1292794550948173], [1.8294197259025085, -1.4788693195707572, -2.1292794550948173], [1.7650483948471694, -1.5551318792103495, -2.1292794550948173], [1.6975003752266546, -1.6285955526140456, -2.1292794550948173], [1.6268972382240288, -1.6991281217577179, -2.1292794550948173], [1.5533660535438036, -1.766602643943066, -2.1292794550948173], [1.477039160715161, -1.830897680265813, -2.1292794550948173], [1.3980539309106832, -1.8918975141783103, -2.1292794550948173], [1.3165525197092594, -1.9494923597531955, -2.1292794550948173], [1.2326816112481436, -2.0035785592732727, -2.1292794550948173], [1.1465921542246278, -2.0540587697919968, -2.1292794550948173], [1.0584390902224707, -2.1008421383287965, -2.1292794550948173], [0.9683810748520333, -2.143844465383929, -2.1292794550948173], [0.8765801922060039, -2.182988356478561, -2.1292794550948173], [0.7832016631446297, -2.2182033614473604, -2.1292794550948173], [0.6884135479354752, -2.249426101232884, -2.1292794550948173], [0.5923864437828882, -2.276600381953571, -2.1292794550948173], [0.49529317779155274, -2.2996772960400396, -2.1292794550948173], [0.39730849591672446, -2.31861531025767, -2.1292794550948173], [0.298608748460969, -2.3333803404570497, -2.1292794550948173], [0.19937157268343686, -2.343945812917742, -2.1292794550948173], [0.09977557309290687, -2.350292712174989, -2.1292794550948173], [-3.782963183589768e-16, -2.352409615243247, -2.1292794550948173], [-0.09977557309290762, -2.350292712174989, -2.1292794550948173], [-0.1993715726834376, -2.343945812917742, -2.1292794550948173], [-0.2986087484609698, -2.3333803404570497, -2.1292794550948173], [-0.39730849591672524, -2.31861531025767, -2.1292794550948173], [-0.49529317779155346, -2.2996772960400396, -2.1292794550948173], [-0.592386443782889, -2.2766003819535707, -2.1292794550948173], [-0.6884135479354758, -2.249426101232884, -2.1292794550948173], [-0.7832016631446304, -2.21820336144736, -2.1292794550948173], [-0.8765801922060046, -2.1829883564785604, -2.1292794550948173], [-0.968381074852034, -2.1438444653839284, -2.1292794550948173], [-1.058439090222471, -2.1008421383287965, -2.1292794550948173], [-1.146592154224628, -2.0540587697919963, -2.1292794550948173], [-1.232681611248144, -2.0035785592732727, -2.1292794550948173], [-1.3165525197092598, -1.949492359753195, -2.1292794550948173], [-1.3980539309106836, -1.8918975141783096, -2.1292794550948173], [-1.4770391607151616, -1.8308976802658123, -2.1292794550948173], [-1.5533660535438043, -1.7666026439430653, -2.1292794550948173], [-1.6268972382240299, -1.699128121757717, -2.1292794550948173], [-1.6975003752266558, -1.6285955526140445, -2.1292794550948173], [-1.765048394847171, -1.555131879210348, -2.1292794550948173], [-1.8294197259025096, -1.4788693195707554, -2.1292794550948173], [-1.8904985145317328, -1.3999451290826344, -2.1292794550948173], [-1.9481748327068156, -1.3185013534678884, -2.1292794550948173], [-2.002344876078278, -1.234684573132729, -2.1292794550948173], [-2.0529111507995736, -1.1486456393560431, -2.1292794550948173], [-2.0997826489940015, -1.0605394027911539, -2.1292794550948173], [-2.1428750125483322, -0.9705244347696084, -2.1292794550948173], [-2.182110684938366, -0.878762741908587, -2.1292794550948173], [-2.2174190508131626, -0.785419474535573, -2.1292794550948173], [-2.248736563086729, -0.6906626294550539, -2.1292794550948173], [-2.276006857308424, -0.5946627475922065, -2.1292794550948173], [-2.2991808531062454, -0.4975926070577403, -2.1292794550948173], [-2.318216842520414, -0.39962691218631013, -2.1292794550948173], [-2.333080565068284, -0.3009419791081628, -2.1292794550948173], [-2.343745269405479, -0.2017154184199141, -2.1292794550948173], [-2.350191761472267, -0.10212581552557924, -2.1292794550948173], [-2.3524084390385376, -0.002352409223169803, -2.1292794550948173]], &quot;color&quot;:&quot;brown&quot;, &quot;opacity&quot;:1, &quot;linewidth&quot;:2},{&quot;points&quot;:[[1.5430798632749907, -0.0015430803776351509, -1.1752011936438014], [1.5416258170901862, -0.06699019049705249, -1.1752011936438014], [1.5373971925316512, -0.13231673339986985, -1.1752011936438014], [1.5304016001687737, -0.1974051360595075, -1.1752011936438014], [1.520651630488211, -0.26213825404805174, -1.1752011936438014], [1.5081648312338585, -0.326399582369774, -1.1752011936438014], [1.4929636758248712, -0.39007346514381647, -1.1752011936438014], [1.4750755229085852, -0.4530453037586628, -1.1752011936438014], [1.454532567121129, -0.5152017631237626, -1.1752011936438014], [1.4313717811443483, -0.5764309756471034, -1.1752011936438014], [1.4056348491633268, -0.6366227425716169, -1.1752011936438014], [1.377368091844266, -0.6956687323080588, -1.1752011936438014], [1.3466223829677442, -0.7534626754074083, -1.1752011936438014], [1.3134530578674, -0.8099005558218813, -1.1752011936438014], [1.2779198138388246, -0.8648807981103287, -1.1752011936438014], [1.2400866026979114, -0.9183044502510962, -1.1752011936438014], [1.2000215156820253, -0.9700753617333193, -1.1752011936438014], [1.1577966609011527, -1.0201003566061315, -1.1752011936438014], [1.1134880335595838, -1.0682894011743385, -1.1752011936438014], [1.067175379181705, -1.1145557660387388, -1.1752011936438014], [1.0189420500880615, -1.1588161821894591, -1.1752011936438014], [0.9688748553800012, -1.200990990871371, -1.1752011936438014], [0.9170639047028936, -1.2410042869518614, -1.1752011936438014], [0.8636024460691144, -1.278784055532934, -1.1752011936438014], [0.8085866980326794, -1.3142623015617636, -1.1752011936438014], [0.7521156765175722, -1.3473751722064387, -1.1752011936438014], [0.6942910166114394, -1.3780630717766402, -1.1752011936438014], [0.635216789645382, -1.4062707689824283, -1.1752011936438014], [0.5749993158890578, -1.4319474963380925, -1.1752011936438014], [0.513746973198204, -1.4550470415321628, -1.1752011936438014], [0.45157000195896757, -1.4755278305991364, -1.1752011936438014], [0.38858030668010285, -1.4933530027432271, -1.1752011936438014], [0.32489125459012363, -1.5084904766794756, -1.1752011936438014], [0.2606174716018895, -1.5209130083728175, -1.1752011936438014], [0.19587463601184588, -1.530598240071196, -1.1752011936438014], [0.1307792703052098, -1.5375287405444662, -1.1752011936438014], [0.0654485314418073, -1.541692036456674, -1.1752011936438014], [-2.481462919123796e-16, -1.5430806348152437, -1.1752011936438014], [-0.06544853144180779, -1.541692036456674, -1.1752011936438014], [-0.1307792703052103, -1.5375287405444662, -1.1752011936438014], [-0.1958746360118464, -1.530598240071196, -1.1752011936438014], [-0.26061747160189, -1.5209130083728173, -1.1752011936438014], [-0.3248912545901241, -1.5084904766794753, -1.1752011936438014], [-0.38858030668010335, -1.493353002743227, -1.1752011936438014], [-0.451570001958968, -1.4755278305991362, -1.1752011936438014], [-0.5137469731982044, -1.4550470415321626, -1.1752011936438014], [-0.5749993158890583, -1.4319474963380923, -1.1752011936438014], [-0.6352167896453824, -1.406270768982428, -1.1752011936438014], [-0.6942910166114395, -1.3780630717766402, -1.1752011936438014], [-0.7521156765175723, -1.3473751722064387, -1.1752011936438014], [-0.8085866980326796, -1.3142623015617636, -1.1752011936438014], [-0.8636024460691147, -1.2787840555329337, -1.1752011936438014], [-0.9170639047028939, -1.241004286951861, -1.1752011936438014], [-0.9688748553800016, -1.2009909908713705, -1.1752011936438014], [-1.018942050088062, -1.1588161821894587, -1.1752011936438014], [-1.0671753791817058, -1.1145557660387382, -1.1752011936438014], [-1.1134880335595847, -1.0682894011743376, -1.1752011936438014], [-1.1577966609011536, -1.0201003566061304, -1.1752011936438014], [-1.2000215156820262, -0.9700753617333181, -1.1752011936438014], [-1.2400866026979123, -0.9183044502510949, -1.1752011936438014], [-1.2779198138388257, -0.8648807981103271, -1.1752011936438014], [-1.313453057867401, -0.8099005558218795, -1.1752011936438014], [-1.3466223829677453, -0.7534626754074064, -1.1752011936438014], [-1.377368091844267, -0.6956687323080566, -1.1752011936438014], [-1.405634849163328, -0.6366227425716147, -1.1752011936438014], [-1.4313717811443492, -0.5764309756471011, -1.1752011936438014], [-1.45453256712113, -0.5152017631237601, -1.1752011936438014], [-1.4750755229085861, -0.4530453037586602, -1.1752011936438014], [-1.4929636758248719, -0.39007346514381375, -1.1752011936438014], [-1.508164831233859, -0.3263995823697712, -1.1752011936438014], [-1.5206516304882116, -0.2621382540480488, -1.1752011936438014], [-1.530401600168774, -0.1974051360595044, -1.1752011936438014], [-1.5373971925316516, -0.13231673339986663, -1.1752011936438014], [-1.5416258170901862, -0.06699019049704917, -1.1752011936438014], [-1.5430798632749907, -0.0015430803776317436, -1.1752011936438014]], &quot;color&quot;:&quot;brown&quot;, &quot;opacity&quot;:1, &quot;linewidth&quot;:2},{&quot;points&quot;:[[1.127625401393445, -0.0011276257772687294, -0.5210953054937474], [1.1265628384945263, -0.04895394091161196, -0.5210953054937474], [1.123472716862688, -0.09669215000604817, -0.5210953054937474], [1.1183605980191222, -0.14425633506343064, -0.5210953054937474], [1.111235682623438, -0.191560891290585, -0.5210953054937474], [1.1021107939145511, -0.2385206811676074, -0.5210953054937474], [1.09100235463175, -0.2850511876761765, -0.5210953054937474], [1.077930357457473, -0.3310686664111024, -0.5210953054937474], [1.0629183290349948, -0.3764902963013471, -0.5210953054937474], [1.0459932876257798, -0.4212343286692509, -0.5210953054937474], [1.027185694482713, -0.4652202343596938, -0.5210953054937474], [1.0065293990267228, -0.5083688486743911, -0.5210953054937474], [0.9840615779254663, -0.5506025138504755, -0.5210953054937474], [0.9598226681837222, -0.5918452188269345, -0.5210953054937474], [0.9338562943659122, -0.6320227360473579, -0.5210953054937474], [0.9062091900817365, -0.6710627550527781, -0.5210953054937474], [0.8769311138762275, -0.7088950126241691, -0.5210953054937474], [0.8460747596756047, -0.745451419240375, -0.5210953054937474], [0.8136956619501067, -0.780666181623874, -0.5210953054937474], [0.7798520957644822, -0.8144759211538218, -0.5210953054937474], [0.7446049718960339, -0.8468197879332582, -0.5210953054937474], [0.7080177272089718, -0.8776395703051815, -0.5210953054937474], [0.6701562104823824, -0.9068797996203877, -0.5210953054937474], [0.6310885638972937, -0.9344878500685138, -0.5210953054937474], [0.5908851003961372, -0.9604140333926137, -0.5210953054937474], [0.5496181771353269, -0.9846116883168015, -0.5210953054937474], [0.5073620652587167, -1.007037264526011, -0.5210953054937474], [0.46419281622631137, -1.0276504010467313, -0.5210953054937474], [0.42018812493881097, -1.0464139988876429, -0.5210953054937474], [0.3754271899043331, -1.0632942878094274, -0.5210953054937474], [0.3299905706989809, -1.0782608871035722, -0.5210953054937474], [0.2839600429777967, -1.0912868602707857, -0.5210953054937474], [0.23741845129704753, -1.1023487635006144, -0.5210953054937474], [0.19044956001272995, -1.1114266878650068, -0.5210953054937474], [0.14313790252364345, -1.1185042951498907, -0.5210953054937474], [0.09556862913035992, -1.123568847260267, -0.5210953054937474], [0.047827353783909364, -1.1266112291459067, -0.5210953054937474], [-1.8133608550118598e-16, -1.1276259652063807, -0.5210953054937474], [-0.047827353783909725, -1.1266112291459067, -0.5210953054937474], [-0.09556862913036028, -1.123568847260267, -0.5210953054937474], [-0.14313790252364383, -1.1185042951498907, -0.5210953054937474], [-0.1904495600127303, -1.1114266878650068, -0.5210953054937474], [-0.23741845129704786, -1.1023487635006142, -0.5210953054937474], [-0.28396004297779703, -1.0912868602707857, -0.5210953054937474], [-0.32999057069898124, -1.0782608871035722, -0.5210953054937474], [-0.3754271899043334, -1.0632942878094274, -0.5210953054937474], [-0.4201881249388113, -1.0464139988876429, -0.5210953054937474], [-0.4641928162263117, -1.027650401046731, -0.5210953054937474], [-0.5073620652587167, -1.007037264526011, -0.5210953054937474], [-0.549618177135327, -0.9846116883168013, -0.5210953054937474], [-0.5908851003961373, -0.9604140333926137, -0.5210953054937474], [-0.631088563897294, -0.9344878500685136, -0.5210953054937474], [-0.6701562104823826, -0.9068797996203875, -0.5210953054937474], [-0.7080177272089722, -0.8776395703051811, -0.5210953054937474], [-0.7446049718960343, -0.8468197879332577, -0.5210953054937474], [-0.7798520957644827, -0.8144759211538214, -0.5210953054937474], [-0.8136956619501072, -0.7806661816238734, -0.5210953054937474], [-0.8460747596756055, -0.7454514192403742, -0.5210953054937474], [-0.876931113876228, -0.7088950126241682, -0.5210953054937474], [-0.9062091900817373, -0.6710627550527771, -0.5210953054937474], [-0.9338562943659131, -0.6320227360473568, -0.5210953054937474], [-0.959822668183723, -0.5918452188269333, -0.5210953054937474], [-0.9840615779254671, -0.5506025138504741, -0.5210953054937474], [-1.0065293990267234, -0.5083688486743896, -0.5210953054937474], [-1.0271856944827138, -0.4652202343596922, -0.5210953054937474], [-1.0459932876257805, -0.4212343286692492, -0.5210953054937474], [-1.0629183290349955, -0.3764902963013453, -0.5210953054937474], [-1.0779303574574737, -0.33106866641110055, -0.5210953054937474], [-1.0910023546317504, -0.2850511876761745, -0.5210953054937474], [-1.1021107939145516, -0.23852068116760533, -0.5210953054937474], [-1.1112356826234384, -0.19156089129058285, -0.5210953054937474], [-1.1183605980191225, -0.1442563350634284, -0.5210953054937474], [-1.1234727168626883, -0.09669215000604582, -0.5210953054937474], [-1.1265628384945263, -0.048953940911609546, -0.5210953054937474], [-1.127625401393445, -0.0011276257772662394, -0.5210953054937474]], &quot;color&quot;:&quot;brown&quot;, &quot;opacity&quot;:1, &quot;linewidth&quot;:2},{&quot;points&quot;:[[0.9999995000000417, -0.0009999998333333417, 0.0], [0.9990571991558745, -0.043413279245172666, 0.0], [0.9963168209389959, -0.08574842455703062, 0.0], [0.9917832974114226, -0.1279292420665646, 0.0], [0.9854647878918407, -0.16987981582662925, 0.0], [0.9773726642706745, -0.21152464427683945, 0.0], [0.9675214905432514, -0.2527887761293309, 0.0], [0.9559289965978992, -0.29359794526415456, 0.0], [0.94261604630615, -0.3338787043915231, 0.0], [0.9276065999724826, -0.3735585572403484, 0.0], [0.9109276712111849, -0.4125660890351599, 0.0], [0.8926092783279476, -0.450831095026575, 0.0], [0.872684390293692, -0.4882847068439959, 0.0], [0.8511888674078671, -0.5248595164431263, 0.0], [0.8281613967580072, -0.5604896974252306, 0.0], [0.8036434225917102, -0.5951111235097878, 0.0], [0.7776790717263499, -0.6286614839473171, 0.0], [0.7503150741307684, -0.661080395664657, 0.0], [0.7216006788218842, -0.692309511940863, 0.0], [0.6915875652275814, -0.7222926274181303, 0.0], [0.6603297501754091, -0.7509757792587467, 0.0], [0.6278834906744887, -0.7783073442660163, 0.0], [0.5943071826656003, -0.8042381317943565, 0.0], [0.5596612559216747, -0.8287214722813532, 0.0], [0.5240080652878475, -0.851713301242435, 0.0], [0.48741177845681705, -0.8731722385769962, 0.0], [0.449938260481487, -0.8930596630432334, 0.0], [0.4116549552327431, -0.9113397817676612, 0.0], [0.3726307640157144, -0.9279796946642017, 0.0], [0.3329359215629817, -0.9429494536469111, 0.0], [0.29264186962791805, -0.9562221165297718, 0.0], [0.2518211284056639, -0.9677737955165443, 0.0], [0.21054716601315104, -0.9775837001934058, 0.0], [0.1688942662630808, -0.9856341749470011, 0.0], [0.12693739496983472, -0.9919107307405602, 0.0], [0.08475206502793568, -0.9964020711908925, 0.0], [0.0424142005058884, -0.9991001128993262, 0.0], [-1.6081226496766366e-16, -1.0, 0.0], [-0.04241420050588872, -0.9991001128993262, 0.0], [-0.084752065027936, -0.9964020711908925, 0.0], [-0.12693739496983505, -0.9919107307405602, 0.0], [-0.16889426626308113, -0.985634174947001, 0.0], [-0.21054716601315135, -0.9775837001934057, 0.0], [-0.25182112840566423, -0.9677737955165442, 0.0], [-0.2926418696279183, -0.9562221165297717, 0.0], [-0.33293592156298196, -0.942949453646911, 0.0], [-0.37263076401571466, -0.9279796946642016, 0.0], [-0.41165495523274337, -0.9113397817676611, 0.0], [-0.44993826048148705, -0.8930596630432334, 0.0], [-0.4874117784568171, -0.8731722385769961, 0.0], [-0.5240080652878476, -0.851713301242435, 0.0], [-0.5596612559216749, -0.8287214722813531, 0.0], [-0.5943071826656006, -0.8042381317943563, 0.0], [-0.627883490674489, -0.778307344266016, 0.0], [-0.6603297501754094, -0.7509757792587464, 0.0], [-0.6915875652275818, -0.7222926274181298, 0.0], [-0.7216006788218847, -0.6923095119408624, 0.0], [-0.750315074130769, -0.6610803956646564, 0.0], [-0.7776790717263504, -0.6286614839473164, 0.0], [-0.8036434225917108, -0.5951111235097869, 0.0], [-0.8281613967580079, -0.5604896974252296, 0.0], [-0.8511888674078678, -0.5248595164431252, 0.0], [-0.8726843902936927, -0.4882847068439946, 0.0], [-0.8926092783279482, -0.4508310950265736, 0.0], [-0.9109276712111856, -0.41256608903515846, 0.0], [-0.9276065999724832, -0.3735585572403469, 0.0], [-0.9426160463061506, -0.3338787043915215, 0.0], [-0.9559289965978998, -0.2935979452641529, 0.0], [-0.9675214905432519, -0.25278877612932915, 0.0], [-0.9773726642706748, -0.2115246442768376, 0.0], [-0.985464787891841, -0.16987981582662734, 0.0], [-0.9917832974114228, -0.12792924206656262, 0.0], [-0.9963168209389961, -0.08574842455702854, 0.0], [-0.9990571991558745, -0.04341327924517052, 0.0], [-0.9999995000000417, -0.0009999998333311336, 0.0]], &quot;color&quot;:&quot;brown&quot;, &quot;opacity&quot;:1, &quot;linewidth&quot;:2},{&quot;points&quot;:[[1.127625401393445, -0.0011276257772687294, 0.5210953054937474], [1.1265628384945263, -0.04895394091161196, 0.5210953054937474], [1.123472716862688, -0.09669215000604817, 0.5210953054937474], [1.1183605980191222, -0.14425633506343064, 0.5210953054937474], [1.111235682623438, -0.191560891290585, 0.5210953054937474], [1.1021107939145511, -0.2385206811676074, 0.5210953054937474], [1.09100235463175, -0.2850511876761765, 0.5210953054937474], [1.077930357457473, -0.3310686664111024, 0.5210953054937474], [1.0629183290349948, -0.3764902963013471, 0.5210953054937474], [1.0459932876257798, -0.4212343286692509, 0.5210953054937474], [1.027185694482713, -0.4652202343596938, 0.5210953054937474], [1.0065293990267228, -0.5083688486743911, 0.5210953054937474], [0.9840615779254663, -0.5506025138504755, 0.5210953054937474], [0.9598226681837222, -0.5918452188269345, 0.5210953054937474], [0.9338562943659122, -0.6320227360473579, 0.5210953054937474], [0.9062091900817365, -0.6710627550527781, 0.5210953054937474], [0.8769311138762275, -0.7088950126241691, 0.5210953054937474], [0.8460747596756047, -0.745451419240375, 0.5210953054937474], [0.8136956619501067, -0.780666181623874, 0.5210953054937474], [0.7798520957644822, -0.8144759211538218, 0.5210953054937474], [0.7446049718960339, -0.8468197879332582, 0.5210953054937474], [0.7080177272089718, -0.8776395703051815, 0.5210953054937474], [0.6701562104823824, -0.9068797996203877, 0.5210953054937474], [0.6310885638972937, -0.9344878500685138, 0.5210953054937474], [0.5908851003961372, -0.9604140333926137, 0.5210953054937474], [0.5496181771353269, -0.9846116883168015, 0.5210953054937474], [0.5073620652587167, -1.007037264526011, 0.5210953054937474], [0.46419281622631137, -1.0276504010467313, 0.5210953054937474], [0.42018812493881097, -1.0464139988876429, 0.5210953054937474], [0.3754271899043331, -1.0632942878094274, 0.5210953054937474], [0.3299905706989809, -1.0782608871035722, 0.5210953054937474], [0.2839600429777967, -1.0912868602707857, 0.5210953054937474], [0.23741845129704753, -1.1023487635006144, 0.5210953054937474], [0.19044956001272995, -1.1114266878650068, 0.5210953054937474], [0.14313790252364345, -1.1185042951498907, 0.5210953054937474], [0.09556862913035992, -1.123568847260267, 0.5210953054937474], [0.047827353783909364, -1.1266112291459067, 0.5210953054937474], [-1.8133608550118598e-16, -1.1276259652063807, 0.5210953054937474], [-0.047827353783909725, -1.1266112291459067, 0.5210953054937474], [-0.09556862913036028, -1.123568847260267, 0.5210953054937474], [-0.14313790252364383, -1.1185042951498907, 0.5210953054937474], [-0.1904495600127303, -1.1114266878650068, 0.5210953054937474], [-0.23741845129704786, -1.1023487635006142, 0.5210953054937474], [-0.28396004297779703, -1.0912868602707857, 0.5210953054937474], [-0.32999057069898124, -1.0782608871035722, 0.5210953054937474], [-0.3754271899043334, -1.0632942878094274, 0.5210953054937474], [-0.4201881249388113, -1.0464139988876429, 0.5210953054937474], [-0.4641928162263117, -1.027650401046731, 0.5210953054937474], [-0.5073620652587167, -1.007037264526011, 0.5210953054937474], [-0.549618177135327, -0.9846116883168013, 0.5210953054937474], [-0.5908851003961373, -0.9604140333926137, 0.5210953054937474], [-0.631088563897294, -0.9344878500685136, 0.5210953054937474], [-0.6701562104823826, -0.9068797996203875, 0.5210953054937474], [-0.7080177272089722, -0.8776395703051811, 0.5210953054937474], [-0.7446049718960343, -0.8468197879332577, 0.5210953054937474], [-0.7798520957644827, -0.8144759211538214, 0.5210953054937474], [-0.8136956619501072, -0.7806661816238734, 0.5210953054937474], [-0.8460747596756055, -0.7454514192403742, 0.5210953054937474], [-0.876931113876228, -0.7088950126241682, 0.5210953054937474], [-0.9062091900817373, -0.6710627550527771, 0.5210953054937474], [-0.9338562943659131, -0.6320227360473568, 0.5210953054937474], [-0.959822668183723, -0.5918452188269333, 0.5210953054937474], [-0.9840615779254671, -0.5506025138504741, 0.5210953054937474], [-1.0065293990267234, -0.5083688486743896, 0.5210953054937474], [-1.0271856944827138, -0.4652202343596922, 0.5210953054937474], [-1.0459932876257805, -0.4212343286692492, 0.5210953054937474], [-1.0629183290349955, -0.3764902963013453, 0.5210953054937474], [-1.0779303574574737, -0.33106866641110055, 0.5210953054937474], [-1.0910023546317504, -0.2850511876761745, 0.5210953054937474], [-1.1021107939145516, -0.23852068116760533, 0.5210953054937474], [-1.1112356826234384, -0.19156089129058285, 0.5210953054937474], [-1.1183605980191225, -0.1442563350634284, 0.5210953054937474], [-1.1234727168626883, -0.09669215000604582, 0.5210953054937474], [-1.1265628384945263, -0.048953940911609546, 0.5210953054937474], [-1.127625401393445, -0.0011276257772662394, 0.5210953054937474]], &quot;color&quot;:&quot;brown&quot;, &quot;opacity&quot;:1, &quot;linewidth&quot;:2},{&quot;points&quot;:[[1.5430798632749907, -0.0015430803776351509, 1.1752011936438014], [1.5416258170901862, -0.06699019049705249, 1.1752011936438014], [1.5373971925316512, -0.13231673339986985, 1.1752011936438014], [1.5304016001687737, -0.1974051360595075, 1.1752011936438014], [1.520651630488211, -0.26213825404805174, 1.1752011936438014], [1.5081648312338585, -0.326399582369774, 1.1752011936438014], [1.4929636758248712, -0.39007346514381647, 1.1752011936438014], [1.4750755229085852, -0.4530453037586628, 1.1752011936438014], [1.454532567121129, -0.5152017631237626, 1.1752011936438014], [1.4313717811443483, -0.5764309756471034, 1.1752011936438014], [1.4056348491633268, -0.6366227425716169, 1.1752011936438014], [1.377368091844266, -0.6956687323080588, 1.1752011936438014], [1.3466223829677442, -0.7534626754074083, 1.1752011936438014], [1.3134530578674, -0.8099005558218813, 1.1752011936438014], [1.2779198138388246, -0.8648807981103287, 1.1752011936438014], [1.2400866026979114, -0.9183044502510962, 1.1752011936438014], [1.2000215156820253, -0.9700753617333193, 1.1752011936438014], [1.1577966609011527, -1.0201003566061315, 1.1752011936438014], [1.1134880335595838, -1.0682894011743385, 1.1752011936438014], [1.067175379181705, -1.1145557660387388, 1.1752011936438014], [1.0189420500880615, -1.1588161821894591, 1.1752011936438014], [0.9688748553800012, -1.200990990871371, 1.1752011936438014], [0.9170639047028936, -1.2410042869518614, 1.1752011936438014], [0.8636024460691144, -1.278784055532934, 1.1752011936438014], [0.8085866980326794, -1.3142623015617636, 1.1752011936438014], [0.7521156765175722, -1.3473751722064387, 1.1752011936438014], [0.6942910166114394, -1.3780630717766402, 1.1752011936438014], [0.635216789645382, -1.4062707689824283, 1.1752011936438014], [0.5749993158890578, -1.4319474963380925, 1.1752011936438014], [0.513746973198204, -1.4550470415321628, 1.1752011936438014], [0.45157000195896757, -1.4755278305991364, 1.1752011936438014], [0.38858030668010285, -1.4933530027432271, 1.1752011936438014], [0.32489125459012363, -1.5084904766794756, 1.1752011936438014], [0.2606174716018895, -1.5209130083728175, 1.1752011936438014], [0.19587463601184588, -1.530598240071196, 1.1752011936438014], [0.1307792703052098, -1.5375287405444662, 1.1752011936438014], [0.0654485314418073, -1.541692036456674, 1.1752011936438014], [-2.481462919123796e-16, -1.5430806348152437, 1.1752011936438014], [-0.06544853144180779, -1.541692036456674, 1.1752011936438014], [-0.1307792703052103, -1.5375287405444662, 1.1752011936438014], [-0.1958746360118464, -1.530598240071196, 1.1752011936438014], [-0.26061747160189, -1.5209130083728173, 1.1752011936438014], [-0.3248912545901241, -1.5084904766794753, 1.1752011936438014], [-0.38858030668010335, -1.493353002743227, 1.1752011936438014], [-0.451570001958968, -1.4755278305991362, 1.1752011936438014], [-0.5137469731982044, -1.4550470415321626, 1.1752011936438014], [-0.5749993158890583, -1.4319474963380923, 1.1752011936438014], [-0.6352167896453824, -1.406270768982428, 1.1752011936438014], [-0.6942910166114395, -1.3780630717766402, 1.1752011936438014], [-0.7521156765175723, -1.3473751722064387, 1.1752011936438014], [-0.8085866980326796, -1.3142623015617636, 1.1752011936438014], [-0.8636024460691147, -1.2787840555329337, 1.1752011936438014], [-0.9170639047028939, -1.241004286951861, 1.1752011936438014], [-0.9688748553800016, -1.2009909908713705, 1.1752011936438014], [-1.018942050088062, -1.1588161821894587, 1.1752011936438014], [-1.0671753791817058, -1.1145557660387382, 1.1752011936438014], [-1.1134880335595847, -1.0682894011743376, 1.1752011936438014], [-1.1577966609011536, -1.0201003566061304, 1.1752011936438014], [-1.2000215156820262, -0.9700753617333181, 1.1752011936438014], [-1.2400866026979123, -0.9183044502510949, 1.1752011936438014], [-1.2779198138388257, -0.8648807981103271, 1.1752011936438014], [-1.313453057867401, -0.8099005558218795, 1.1752011936438014], [-1.3466223829677453, -0.7534626754074064, 1.1752011936438014], [-1.377368091844267, -0.6956687323080566, 1.1752011936438014], [-1.405634849163328, -0.6366227425716147, 1.1752011936438014], [-1.4313717811443492, -0.5764309756471011, 1.1752011936438014], [-1.45453256712113, -0.5152017631237601, 1.1752011936438014], [-1.4750755229085861, -0.4530453037586602, 1.1752011936438014], [-1.4929636758248719, -0.39007346514381375, 1.1752011936438014], [-1.508164831233859, -0.3263995823697712, 1.1752011936438014], [-1.5206516304882116, -0.2621382540480488, 1.1752011936438014], [-1.530401600168774, -0.1974051360595044, 1.1752011936438014], [-1.5373971925316516, -0.13231673339986663, 1.1752011936438014], [-1.5416258170901862, -0.06699019049704917, 1.1752011936438014], [-1.5430798632749907, -0.0015430803776317436, 1.1752011936438014]], &quot;color&quot;:&quot;brown&quot;, &quot;opacity&quot;:1, &quot;linewidth&quot;:2},{&quot;points&quot;:[[2.3524084390385376, -0.0023524092231749978, 2.1292794550948173], [2.350191761472267, -0.10212581552558428, 2.1292794550948173], [2.3437452694054786, -0.20171541841991902, 2.1292794550948173], [2.3330805650682835, -0.3009419791081675, 2.1292794550948173], [2.318216842520413, -0.39962691218631463, 2.1292794550948173], [2.299180853106245, -0.4975926070577446, 2.1292794550948173], [2.276006857308423, -0.5946627475922107, 2.1292794550948173], [2.2487365630867275, -0.6906626294550577, 2.1292794550948173], [2.2174190508131613, -0.7854194745355768, 2.1292794550948173], [2.1821106849383645, -0.8787627419085906, 2.1292794550948173], [2.1428750125483305, -0.9705244347696118, 2.1292794550948173], [2.0997826489939997, -1.060539402791157, 2.1292794550948173], [2.052911150799572, -1.148645639356046, 2.1292794550948173], [2.002344876078276, -1.2346845731327316, 2.1292794550948173], [1.9481748327068138, -1.3185013534678907, 2.1292794550948173], [1.8904985145317312, -1.3999451290826364, 2.1292794550948173], [1.8294197259025085, -1.4788693195707572, 2.1292794550948173], [1.7650483948471694, -1.5551318792103495, 2.1292794550948173], [1.6975003752266546, -1.6285955526140456, 2.1292794550948173], [1.6268972382240288, -1.6991281217577179, 2.1292794550948173], [1.5533660535438036, -1.766602643943066, 2.1292794550948173], [1.477039160715161, -1.830897680265813, 2.1292794550948173], [1.3980539309106832, -1.8918975141783103, 2.1292794550948173], [1.3165525197092594, -1.9494923597531955, 2.1292794550948173], [1.2326816112481436, -2.0035785592732727, 2.1292794550948173], [1.1465921542246278, -2.0540587697919968, 2.1292794550948173], [1.0584390902224707, -2.1008421383287965, 2.1292794550948173], [0.9683810748520333, -2.143844465383929, 2.1292794550948173], [0.8765801922060039, -2.182988356478561, 2.1292794550948173], [0.7832016631446297, -2.2182033614473604, 2.1292794550948173], [0.6884135479354752, -2.249426101232884, 2.1292794550948173], [0.5923864437828882, -2.276600381953571, 2.1292794550948173], [0.49529317779155274, -2.2996772960400396, 2.1292794550948173], [0.39730849591672446, -2.31861531025767, 2.1292794550948173], [0.298608748460969, -2.3333803404570497, 2.1292794550948173], [0.19937157268343686, -2.343945812917742, 2.1292794550948173], [0.09977557309290687, -2.350292712174989, 2.1292794550948173], [-3.782963183589768e-16, -2.352409615243247, 2.1292794550948173], [-0.09977557309290762, -2.350292712174989, 2.1292794550948173], [-0.1993715726834376, -2.343945812917742, 2.1292794550948173], [-0.2986087484609698, -2.3333803404570497, 2.1292794550948173], [-0.39730849591672524, -2.31861531025767, 2.1292794550948173], [-0.49529317779155346, -2.2996772960400396, 2.1292794550948173], [-0.592386443782889, -2.2766003819535707, 2.1292794550948173], [-0.6884135479354758, -2.249426101232884, 2.1292794550948173], [-0.7832016631446304, -2.21820336144736, 2.1292794550948173], [-0.8765801922060046, -2.1829883564785604, 2.1292794550948173], [-0.968381074852034, -2.1438444653839284, 2.1292794550948173], [-1.058439090222471, -2.1008421383287965, 2.1292794550948173], [-1.146592154224628, -2.0540587697919963, 2.1292794550948173], [-1.232681611248144, -2.0035785592732727, 2.1292794550948173], [-1.3165525197092598, -1.949492359753195, 2.1292794550948173], [-1.3980539309106836, -1.8918975141783096, 2.1292794550948173], [-1.4770391607151616, -1.8308976802658123, 2.1292794550948173], [-1.5533660535438043, -1.7666026439430653, 2.1292794550948173], [-1.6268972382240299, -1.699128121757717, 2.1292794550948173], [-1.6975003752266558, -1.6285955526140445, 2.1292794550948173], [-1.765048394847171, -1.555131879210348, 2.1292794550948173], [-1.8294197259025096, -1.4788693195707554, 2.1292794550948173], [-1.8904985145317328, -1.3999451290826344, 2.1292794550948173], [-1.9481748327068156, -1.3185013534678884, 2.1292794550948173], [-2.002344876078278, -1.234684573132729, 2.1292794550948173], [-2.0529111507995736, -1.1486456393560431, 2.1292794550948173], [-2.0997826489940015, -1.0605394027911539, 2.1292794550948173], [-2.1428750125483322, -0.9705244347696084, 2.1292794550948173], [-2.182110684938366, -0.878762741908587, 2.1292794550948173], [-2.2174190508131626, -0.785419474535573, 2.1292794550948173], [-2.248736563086729, -0.6906626294550539, 2.1292794550948173], [-2.276006857308424, -0.5946627475922065, 2.1292794550948173], [-2.2991808531062454, -0.4975926070577403, 2.1292794550948173], [-2.318216842520414, -0.39962691218631013, 2.1292794550948173], [-2.333080565068284, -0.3009419791081628, 2.1292794550948173], [-2.343745269405479, -0.2017154184199141, 2.1292794550948173], [-2.350191761472267, -0.10212581552557924, 2.1292794550948173], [-2.3524084390385376, -0.002352409223169803, 2.1292794550948173]], &quot;color&quot;:&quot;brown&quot;, &quot;opacity&quot;:1, &quot;linewidth&quot;:2},{&quot;points&quot;:[[3.7621938099859427, -0.0037621950640510477, 3.6268604078470186], [3.7586486898103124, -0.16332925211199906, 3.6268604078470186], [3.7483388506908324, -0.32260235338567045, 3.6268604078470186], [3.7312828480099696, -0.48129484326642424, 3.6268604078470186], [3.707511378721328, -0.6391211111050255, 3.6268604078470186], [3.6770672261020603, -0.7957971052563233, 3.6268604078470186], [3.640005182752633, -0.9510408443080736, 3.6268604078470186], [3.5963919519825156, -1.10457292458381, 3.6268604078470186], [3.5463060277592864, -1.2561170230063738, 3.6268604078470186], [3.4898375534372117, -1.405400394417057, 3.6268604078470186], [3.427088159519567, -1.5521543624553045, 3.6268604078470186], [3.3581707807466743, -1.6961148031154956, 3.6268604078470186], [3.283209452838874, -1.8370226201105155, 3.6268604078470186], [3.202339089260234, -1.9746242111865684, 3.6268604078470186], [3.115705238404776, -2.108671924549971, 3.6268604078470186], [3.023463821642234, -2.2389245045844626, 3.6268604078470186], [2.9257808526947917, -2.365147526056838, 3.6268604078470186], [2.822832138849872, -2.487113816029435, 3.6268604078470186], [2.714802964546716, -2.6046038627201265, 3.6268604078470186], [2.6018877579062263, -2.7174062105739645, 3.6268604078470186], [2.484289740804255, -2.8253178408354294, 3.6268604078470186], [2.3622205631181106, -2.928144536936351, 3.6268604078470186], [2.2358999218045743, -3.025701234041878, 3.6268604078470186], [2.105555165494978, -3.11781235212539, 3.6268604078470186], [1.97142088531901, -3.204312111972904, 3.6268604078470186], [1.8337384926936466, -3.285044833548224, 3.6268604078470186], [1.6927557848371149, -3.3598652161818525, 3.6268604078470186], [1.5487264987898512, -3.428638600079392, 3.6268604078470186], [1.401909854745122, -3.4912412086787636, 3.6268604078470186], [1.2525700895112075, -3.547560371420073, 3.6268604078470186], [1.1009759809448112, -3.5974947265271777, 3.6268604078470186], [0.9474003642116066, -3.640954403435994, 3.6268604078470186], [0.7921196407445469, -3.6778611845412237, 3.6268604078470186], [0.6354132807836941, -3.7081486459703776, 3.6268604078470186], [0.47756332039289323, -3.731762277131752, 3.6268604078470186], [0.31885385385853937, -3.7486595788211816, 3.6268604078470186], [0.1595705223840105, -3.7588101397110147, 3.6268604078470186], [-6.050072103347434e-16, -3.7621956910836314, 3.6268604078470186], [-0.1595705223840117, -3.7588101397110147, 3.6268604078470186], [-0.31885385385854054, -3.7486595788211816, 3.6268604078470186], [-0.47756332039289445, -3.731762277131752, 3.6268604078470186], [-0.6354132807836953, -3.708148645970377, 3.6268604078470186], [-0.792119640744548, -3.6778611845412232, 3.6268604078470186], [-0.9474003642116078, -3.6409544034359937, 3.6268604078470186], [-1.100975980944812, -3.5974947265271773, 3.6268604078470186], [-1.2525700895112086, -3.5475603714200727, 3.6268604078470186], [-1.4019098547451232, -3.491241208678763, 3.6268604078470186], [-1.5487264987898524, -3.4286386000793914, 3.6268604078470186], [-1.692755784837115, -3.3598652161818525, 3.6268604078470186], [-1.8337384926936469, -3.2850448335482234, 3.6268604078470186], [-1.9714208853190105, -3.204312111972904, 3.6268604078470186], [-2.105555165494979, -3.1178123521253895, 3.6268604078470186], [-2.235899921804575, -3.025701234041877, 3.6268604078470186], [-2.362220563118112, -2.9281445369363497, 3.6268604078470186], [-2.484289740804256, -2.825317840835428, 3.6268604078470186], [-2.601887757906228, -2.7174062105739627, 3.6268604078470186], [-2.714802964546718, -2.6046038627201247, 3.6268604078470186], [-2.8228321388498747, -2.4871138160294324, 3.6268604078470186], [-2.925780852694794, -2.3651475260568353, 3.6268604078470186], [-3.0234638216422365, -2.238924504584459, 3.6268604078470186], [-3.115705238404779, -2.108671924549967, 3.6268604078470186], [-3.202339089260237, -1.9746242111865642, 3.6268604078470186], [-3.283209452838877, -1.8370226201105107, 3.6268604078470186], [-3.3581707807466765, -1.6961148031154902, 3.6268604078470186], [-3.427088159519569, -1.552154362455299, 3.6268604078470186], [-3.489837553437214, -1.4054003944170512, 3.6268604078470186], [-3.5463060277592886, -1.2561170230063676, 3.6268604078470186], [-3.596391951982518, -1.1045729245838039, 3.6268604078470186], [-3.6400051827526347, -0.9510408443080669, 3.6268604078470186], [-3.6770672261020616, -0.7957971052563163, 3.6268604078470186], [-3.707511378721329, -0.6391211111050182, 3.6268604078470186], [-3.7312828480099705, -0.4812948432664167, 3.6268604078470186], [-3.748338850690833, -0.3226023533856626, 3.6268604078470186], [-3.7586486898103124, -0.16332925211199098, 3.6268604078470186], [-3.7621938099859427, -0.00376219506404274, 3.6268604078470186]], &quot;color&quot;:&quot;brown&quot;, &quot;opacity&quot;:1, &quot;linewidth&quot;:2}];\n",
       "    for ( var i=0 ; i < lines.length ; i++ ) addLine( lines[i] );\n",
       "\n",
       "    function addLine( json ) {\n",
       "        var geometry = new THREE.Geometry();\n",
       "        for ( var i=0 ; i < json.points.length - 1 ; i++ ) {\n",
       "            var v = json.points[i];\n",
       "            geometry.vertices.push( new THREE.Vector3( a[0]*v[0], a[1]*v[1], a[2]*v[2] ) );\n",
       "            var v = json.points[i+1];\n",
       "            geometry.vertices.push( new THREE.Vector3( a[0]*v[0], a[1]*v[1], a[2]*v[2] ) );\n",
       "        }\n",
       "\n",
       "        var transparent = json.opacity < 1 ? true : false;\n",
       "        var material = new THREE.LineBasicMaterial( { color: json.color, linewidth: json.linewidth,\n",
       "                                                      transparent: transparent, opacity: json.opacity } );\n",
       "\n",
       "        var c = geometry.center().multiplyScalar( -1 );\n",
       "        var mesh = new THREE.LineSegments( geometry, material );\n",
       "        mesh.position.set( c.x, c.y, c.z );\n",
       "        scene.add( mesh );\n",
       "    }\n",
       "\n",
       "    var surfaces = [];\n",
       "    for ( var i=0 ; i < surfaces.length ; i++ ) addSurface( surfaces[i] );\n",
       "\n",
       "    function addSurface( json ) {\n",
       "        var geometry = new THREE.Geometry();\n",
       "        for ( var i=0 ; i < json.vertices.length ; i++ ) {\n",
       "            var v = json.vertices[i];\n",
       "            geometry.vertices.push( new THREE.Vector3( a[0]*v.x, a[1]*v.y, a[2]*v.z ) );\n",
       "        }\n",
       "        for ( var i=0 ; i < json.faces.length ; i++ ) {\n",
       "            var f = json.faces[i];\n",
       "            for ( var j=0 ; j < f.length - 2 ; j++ ) {\n",
       "                geometry.faces.push( new THREE.Face3( f[0], f[j+1], f[j+2] ) );\n",
       "            }\n",
       "        }\n",
       "        geometry.computeVertexNormals();\n",
       "\n",
       "        var transparent = json.opacity < 1 ? true : false;\n",
       "        var material = new THREE.MeshPhongMaterial( {\n",
       "                                     color: json.color, side: THREE.DoubleSide,\n",
       "                                     transparent: transparent, opacity: json.opacity,\n",
       "                                     shininess: 20 } );\n",
       "\n",
       "        var c = geometry.center().multiplyScalar( -1 );\n",
       "        var mesh = new THREE.Mesh( geometry, material );\n",
       "        mesh.position.set( c.x, c.y, c.z );\n",
       "        scene.add( mesh );\n",
       "    }\n",
       "\n",
       "    var scratch = new THREE.Vector3();\n",
       "\n",
       "    function render() {\n",
       "\n",
       "        if ( animate ) requestAnimationFrame( render );\n",
       "        renderer.render( scene, camera );\n",
       "\n",
       "        for ( var i=0 ; i < scene.children.length ; i++ ) {\n",
       "            if ( scene.children[i].type === 'Sprite' ) {\n",
       "                var sprite = scene.children[i];\n",
       "                var adjust = scratch.addVectors( sprite.position, scene.position )\n",
       "                               .sub( camera.position ).length() / 5;\n",
       "                sprite.scale.set( adjust, .25*adjust ); // ratio of canvas width to height\n",
       "            }\n",
       "        }\n",
       "    }\n",
       "    \n",
       "    render();\n",
       "    controls.update();\n",
       "    if ( !animate ) render();\n",
       "\n",
       "</script>\n",
       "\n",
       "</body>\n",
       "</html>\" \n",
       "        width=\"100%\"\n",
       "        height=\"400\"\n",
       "        style=\"border: 0;\">\n",
       "</iframe>\n"
      ],
      "text/plain": [
       "Graphics3d Object"
      ]
     },
     "metadata": {},
     "output_type": "display_data"
    }
   ],
   "source": [
    "graph1 = X_hyp.plot(X5, mapping=Phi, ambient_coords=(W,X,T), fixed_coords={th:pi/2, ph:0},\n",
    "                    number_values=9, color={ta:'red', ch:'brown'}, thickness=2, max_range=2,\n",
    "                    parameters={b:1}, label_axes=False)\n",
    "graph2 = X_hyp.plot(X5, mapping=Phi, ambient_coords=(W,X,T), fixed_coords={th:pi/2, ph:pi},\n",
    "                    number_values=9, color={ta:'green', ch:'brown'}, thickness=2, max_range=2,\n",
    "                    parameters={b:1}, label_axes=False)\n",
    "show(graph1+graph2, aspect_ratio=1, viewer=viewer3D, axes_labels=['W','X','T'])"
   ]
  },
  {
   "cell_type": "markdown",
   "metadata": {
    "deletable": true,
    "editable": true
   },
   "source": [
    "<h2>Spacetime metric</h2>\n",
    "<p>First, we introduce on $\\mathbb{R}^5$ the Minkowski metric $h$:</p>"
   ]
  },
  {
   "cell_type": "code",
   "execution_count": 14,
   "metadata": {
    "collapsed": false,
    "deletable": true,
    "editable": true
   },
   "outputs": [
    {
     "data": {
      "text/html": [
       "<html><script type=\"math/tex; mode=display\">\\newcommand{\\Bold}[1]{\\mathbf{#1}}h = -\\mathrm{d} T\\otimes \\mathrm{d} T+\\mathrm{d} W\\otimes \\mathrm{d} W+\\mathrm{d} X\\otimes \\mathrm{d} X+\\mathrm{d} Y\\otimes \\mathrm{d} Y+\\mathrm{d} Z\\otimes \\mathrm{d} Z</script></html>"
      ],
      "text/plain": [
       "h = -dT*dT + dW*dW + dX*dX + dY*dY + dZ*dZ"
      ]
     },
     "execution_count": 14,
     "metadata": {},
     "output_type": "execute_result"
    }
   ],
   "source": [
    "h = R5.lorentzian_metric('h')\n",
    "h[0,0], h[1,1], h[2,2], h[3,3], h[4,4] = -1, 1, 1, 1, 1\n",
    "h.display()"
   ]
  },
  {
   "cell_type": "markdown",
   "metadata": {
    "deletable": true,
    "editable": true
   },
   "source": [
    "<p>As mentionned above, the de Sitter metric $g$ on $\\mathcal{M}$ is that induced by $h$, i.e.$g$ is the pullback of $h$ by the mapping $\\Phi$:</p>"
   ]
  },
  {
   "cell_type": "code",
   "execution_count": 15,
   "metadata": {
    "collapsed": false,
    "deletable": true,
    "editable": true
   },
   "outputs": [],
   "source": [
    "g = M.metric('g')\n",
    "g.set( Phi.pullback(h) )"
   ]
  },
  {
   "cell_type": "markdown",
   "metadata": {
    "deletable": true,
    "editable": true
   },
   "source": [
    "<p>The expression of $g$ in terms of $\\mathcal{M}$'s default frame is found to be</p>"
   ]
  },
  {
   "cell_type": "code",
   "execution_count": 16,
   "metadata": {
    "collapsed": false,
    "deletable": true,
    "editable": true
   },
   "outputs": [
    {
     "data": {
      "text/html": [
       "<html><script type=\"math/tex; mode=display\">\\newcommand{\\Bold}[1]{\\mathbf{#1}}g = -\\mathrm{d} {\\tau}\\otimes \\mathrm{d} {\\tau} + \\frac{\\cosh\\left(b {\\tau}\\right)^{2}}{b^{2}} \\mathrm{d} {\\chi}\\otimes \\mathrm{d} {\\chi} + \\frac{\\cosh\\left(b {\\tau}\\right)^{2} \\sin\\left({\\chi}\\right)^{2}}{b^{2}} \\mathrm{d} {\\theta}\\otimes \\mathrm{d} {\\theta} + \\frac{\\cosh\\left(b {\\tau}\\right)^{2} \\sin\\left({\\chi}\\right)^{2} \\sin\\left({\\theta}\\right)^{2}}{b^{2}} \\mathrm{d} {\\phi}\\otimes \\mathrm{d} {\\phi}</script></html>"
      ],
      "text/plain": [
       "g = -dta*dta + cosh(b*ta)^2/b^2 dch*dch + cosh(b*ta)^2*sin(ch)^2/b^2 dth*dth + cosh(b*ta)^2*sin(ch)^2*sin(th)^2/b^2 dph*dph"
      ]
     },
     "execution_count": 16,
     "metadata": {},
     "output_type": "execute_result"
    }
   ],
   "source": [
    "g.display()"
   ]
  },
  {
   "cell_type": "code",
   "execution_count": 17,
   "metadata": {
    "collapsed": false,
    "deletable": true,
    "editable": true
   },
   "outputs": [
    {
     "data": {
      "text/html": [
       "<html><script type=\"math/tex; mode=display\">\\newcommand{\\Bold}[1]{\\mathbf{#1}}\\left(\\begin{array}{rrrr}\n",
       "-1 & 0 & 0 & 0 \\\\\n",
       "0 & \\frac{\\cosh\\left(b {\\tau}\\right)^{2}}{b^{2}} & 0 & 0 \\\\\n",
       "0 & 0 & \\frac{\\cosh\\left(b {\\tau}\\right)^{2} \\sin\\left({\\chi}\\right)^{2}}{b^{2}} & 0 \\\\\n",
       "0 & 0 & 0 & \\frac{\\cosh\\left(b {\\tau}\\right)^{2} \\sin\\left({\\chi}\\right)^{2} \\sin\\left({\\theta}\\right)^{2}}{b^{2}}\n",
       "\\end{array}\\right)</script></html>"
      ],
      "text/plain": [
       "[                                  -1                                    0                                    0                                    0]\n",
       "[                                   0                     cosh(b*ta)^2/b^2                                    0                                    0]\n",
       "[                                   0                                    0           cosh(b*ta)^2*sin(ch)^2/b^2                                    0]\n",
       "[                                   0                                    0                                    0 cosh(b*ta)^2*sin(ch)^2*sin(th)^2/b^2]"
      ]
     },
     "execution_count": 17,
     "metadata": {},
     "output_type": "execute_result"
    }
   ],
   "source": [
    "g[:]"
   ]
  },
  {
   "cell_type": "markdown",
   "metadata": {
    "deletable": true,
    "editable": true
   },
   "source": [
    "<h2>Curvature</h2>\n",
    "<p>The Riemann tensor of $g$ is</p>"
   ]
  },
  {
   "cell_type": "code",
   "execution_count": 18,
   "metadata": {
    "collapsed": false,
    "deletable": true,
    "editable": true
   },
   "outputs": [
    {
     "name": "stdout",
     "output_type": "stream",
     "text": [
      "Tensor field Riem(g) of type (1,3) on the 4-dimensional differentiable manifold M\n"
     ]
    },
    {
     "data": {
      "text/html": [
       "<html><script type=\"math/tex; mode=display\">\\newcommand{\\Bold}[1]{\\mathbf{#1}}\\mathrm{Riem}\\left(g\\right) = \\cosh\\left(b {\\tau}\\right)^{2} \\frac{\\partial}{\\partial {\\tau} }\\otimes \\mathrm{d} {\\chi}\\otimes \\mathrm{d} {\\tau}\\otimes \\mathrm{d} {\\chi} -\\cosh\\left(b {\\tau}\\right)^{2} \\frac{\\partial}{\\partial {\\tau} }\\otimes \\mathrm{d} {\\chi}\\otimes \\mathrm{d} {\\chi}\\otimes \\mathrm{d} {\\tau} + \\cosh\\left(b {\\tau}\\right)^{2} \\sin\\left({\\chi}\\right)^{2} \\frac{\\partial}{\\partial {\\tau} }\\otimes \\mathrm{d} {\\theta}\\otimes \\mathrm{d} {\\tau}\\otimes \\mathrm{d} {\\theta} -\\cosh\\left(b {\\tau}\\right)^{2} \\sin\\left({\\chi}\\right)^{2} \\frac{\\partial}{\\partial {\\tau} }\\otimes \\mathrm{d} {\\theta}\\otimes \\mathrm{d} {\\theta}\\otimes \\mathrm{d} {\\tau} + \\cosh\\left(b {\\tau}\\right)^{2} \\sin\\left({\\chi}\\right)^{2} \\sin\\left({\\theta}\\right)^{2} \\frac{\\partial}{\\partial {\\tau} }\\otimes \\mathrm{d} {\\phi}\\otimes \\mathrm{d} {\\tau}\\otimes \\mathrm{d} {\\phi} -\\cosh\\left(b {\\tau}\\right)^{2} \\sin\\left({\\chi}\\right)^{2} \\sin\\left({\\theta}\\right)^{2} \\frac{\\partial}{\\partial {\\tau} }\\otimes \\mathrm{d} {\\phi}\\otimes \\mathrm{d} {\\phi}\\otimes \\mathrm{d} {\\tau} + b^{2} \\frac{\\partial}{\\partial {\\chi} }\\otimes \\mathrm{d} {\\tau}\\otimes \\mathrm{d} {\\tau}\\otimes \\mathrm{d} {\\chi} -b^{2} \\frac{\\partial}{\\partial {\\chi} }\\otimes \\mathrm{d} {\\tau}\\otimes \\mathrm{d} {\\chi}\\otimes \\mathrm{d} {\\tau} + \\cosh\\left(b {\\tau}\\right)^{2} \\sin\\left({\\chi}\\right)^{2} \\frac{\\partial}{\\partial {\\chi} }\\otimes \\mathrm{d} {\\theta}\\otimes \\mathrm{d} {\\chi}\\otimes \\mathrm{d} {\\theta} -\\cosh\\left(b {\\tau}\\right)^{2} \\sin\\left({\\chi}\\right)^{2} \\frac{\\partial}{\\partial {\\chi} }\\otimes \\mathrm{d} {\\theta}\\otimes \\mathrm{d} {\\theta}\\otimes \\mathrm{d} {\\chi} + \\cosh\\left(b {\\tau}\\right)^{2} \\sin\\left({\\chi}\\right)^{2} \\sin\\left({\\theta}\\right)^{2} \\frac{\\partial}{\\partial {\\chi} }\\otimes \\mathrm{d} {\\phi}\\otimes \\mathrm{d} {\\chi}\\otimes \\mathrm{d} {\\phi} -\\cosh\\left(b {\\tau}\\right)^{2} \\sin\\left({\\chi}\\right)^{2} \\sin\\left({\\theta}\\right)^{2} \\frac{\\partial}{\\partial {\\chi} }\\otimes \\mathrm{d} {\\phi}\\otimes \\mathrm{d} {\\phi}\\otimes \\mathrm{d} {\\chi} + b^{2} \\frac{\\partial}{\\partial {\\theta} }\\otimes \\mathrm{d} {\\tau}\\otimes \\mathrm{d} {\\tau}\\otimes \\mathrm{d} {\\theta} -b^{2} \\frac{\\partial}{\\partial {\\theta} }\\otimes \\mathrm{d} {\\tau}\\otimes \\mathrm{d} {\\theta}\\otimes \\mathrm{d} {\\tau} + \\left( -\\frac{\\sin\\left({\\chi}\\right)^{2} \\sinh\\left(b {\\tau}\\right)^{2} - \\cos\\left({\\chi}\\right)^{2} + 1}{\\sin\\left({\\chi}\\right)^{2}} \\right) \\frac{\\partial}{\\partial {\\theta} }\\otimes \\mathrm{d} {\\chi}\\otimes \\mathrm{d} {\\chi}\\otimes \\mathrm{d} {\\theta} + \\cosh\\left(b {\\tau}\\right)^{2} \\frac{\\partial}{\\partial {\\theta} }\\otimes \\mathrm{d} {\\chi}\\otimes \\mathrm{d} {\\theta}\\otimes \\mathrm{d} {\\chi} + \\cosh\\left(b {\\tau}\\right)^{2} \\sin\\left({\\chi}\\right)^{2} \\sin\\left({\\theta}\\right)^{2} \\frac{\\partial}{\\partial {\\theta} }\\otimes \\mathrm{d} {\\phi}\\otimes \\mathrm{d} {\\theta}\\otimes \\mathrm{d} {\\phi} -\\cosh\\left(b {\\tau}\\right)^{2} \\sin\\left({\\chi}\\right)^{2} \\sin\\left({\\theta}\\right)^{2} \\frac{\\partial}{\\partial {\\theta} }\\otimes \\mathrm{d} {\\phi}\\otimes \\mathrm{d} {\\phi}\\otimes \\mathrm{d} {\\theta} + b^{2} \\frac{\\partial}{\\partial {\\phi} }\\otimes \\mathrm{d} {\\tau}\\otimes \\mathrm{d} {\\tau}\\otimes \\mathrm{d} {\\phi} -b^{2} \\frac{\\partial}{\\partial {\\phi} }\\otimes \\mathrm{d} {\\tau}\\otimes \\mathrm{d} {\\phi}\\otimes \\mathrm{d} {\\tau} + \\left( -\\frac{\\sin\\left({\\chi}\\right)^{2} \\sinh\\left(b {\\tau}\\right)^{2} - \\cos\\left({\\chi}\\right)^{2} + 1}{\\sin\\left({\\chi}\\right)^{2}} \\right) \\frac{\\partial}{\\partial {\\phi} }\\otimes \\mathrm{d} {\\chi}\\otimes \\mathrm{d} {\\chi}\\otimes \\mathrm{d} {\\phi} + \\cosh\\left(b {\\tau}\\right)^{2} \\frac{\\partial}{\\partial {\\phi} }\\otimes \\mathrm{d} {\\chi}\\otimes \\mathrm{d} {\\phi}\\otimes \\mathrm{d} {\\chi} -\\cosh\\left(b {\\tau}\\right)^{2} \\sin\\left({\\chi}\\right)^{2} \\frac{\\partial}{\\partial {\\phi} }\\otimes \\mathrm{d} {\\theta}\\otimes \\mathrm{d} {\\theta}\\otimes \\mathrm{d} {\\phi} + \\cosh\\left(b {\\tau}\\right)^{2} \\sin\\left({\\chi}\\right)^{2} \\frac{\\partial}{\\partial {\\phi} }\\otimes \\mathrm{d} {\\theta}\\otimes \\mathrm{d} {\\phi}\\otimes \\mathrm{d} {\\theta}</script></html>"
      ],
      "text/plain": [
       "Riem(g) = cosh(b*ta)^2 d/dta*dch*dta*dch - cosh(b*ta)^2 d/dta*dch*dch*dta + cosh(b*ta)^2*sin(ch)^2 d/dta*dth*dta*dth - cosh(b*ta)^2*sin(ch)^2 d/dta*dth*dth*dta + cosh(b*ta)^2*sin(ch)^2*sin(th)^2 d/dta*dph*dta*dph - cosh(b*ta)^2*sin(ch)^2*sin(th)^2 d/dta*dph*dph*dta + b^2 d/dch*dta*dta*dch - b^2 d/dch*dta*dch*dta + cosh(b*ta)^2*sin(ch)^2 d/dch*dth*dch*dth - cosh(b*ta)^2*sin(ch)^2 d/dch*dth*dth*dch + cosh(b*ta)^2*sin(ch)^2*sin(th)^2 d/dch*dph*dch*dph - cosh(b*ta)^2*sin(ch)^2*sin(th)^2 d/dch*dph*dph*dch + b^2 d/dth*dta*dta*dth - b^2 d/dth*dta*dth*dta - (sin(ch)^2*sinh(b*ta)^2 - cos(ch)^2 + 1)/sin(ch)^2 d/dth*dch*dch*dth + cosh(b*ta)^2 d/dth*dch*dth*dch + cosh(b*ta)^2*sin(ch)^2*sin(th)^2 d/dth*dph*dth*dph - cosh(b*ta)^2*sin(ch)^2*sin(th)^2 d/dth*dph*dph*dth + b^2 d/dph*dta*dta*dph - b^2 d/dph*dta*dph*dta - (sin(ch)^2*sinh(b*ta)^2 - cos(ch)^2 + 1)/sin(ch)^2 d/dph*dch*dch*dph + cosh(b*ta)^2 d/dph*dch*dph*dch - cosh(b*ta)^2*sin(ch)^2 d/dph*dth*dth*dph + cosh(b*ta)^2*sin(ch)^2 d/dph*dth*dph*dth"
      ]
     },
     "execution_count": 18,
     "metadata": {},
     "output_type": "execute_result"
    }
   ],
   "source": [
    "Riem = g.riemann()\n",
    "print(Riem)\n",
    "Riem.display()"
   ]
  },
  {
   "cell_type": "code",
   "execution_count": 19,
   "metadata": {
    "collapsed": false,
    "deletable": true,
    "editable": true
   },
   "outputs": [
    {
     "data": {
      "text/html": [
       "<html><script type=\"math/tex; mode=display\">\\newcommand{\\Bold}[1]{\\mathbf{#1}}\\begin{array}{lcl} \\mathrm{Riem}\\left(g\\right)_{ \\phantom{\\, {\\tau}} \\, {\\chi} \\, {\\tau} \\, {\\chi} }^{ \\, {\\tau} \\phantom{\\, {\\chi}} \\phantom{\\, {\\tau}} \\phantom{\\, {\\chi}} } & = & \\cosh\\left(b {\\tau}\\right)^{2} \\\\ \\mathrm{Riem}\\left(g\\right)_{ \\phantom{\\, {\\tau}} \\, {\\theta} \\, {\\tau} \\, {\\theta} }^{ \\, {\\tau} \\phantom{\\, {\\theta}} \\phantom{\\, {\\tau}} \\phantom{\\, {\\theta}} } & = & \\cosh\\left(b {\\tau}\\right)^{2} \\sin\\left({\\chi}\\right)^{2} \\\\ \\mathrm{Riem}\\left(g\\right)_{ \\phantom{\\, {\\tau}} \\, {\\phi} \\, {\\tau} \\, {\\phi} }^{ \\, {\\tau} \\phantom{\\, {\\phi}} \\phantom{\\, {\\tau}} \\phantom{\\, {\\phi}} } & = & \\cosh\\left(b {\\tau}\\right)^{2} \\sin\\left({\\chi}\\right)^{2} \\sin\\left({\\theta}\\right)^{2} \\\\ \\mathrm{Riem}\\left(g\\right)_{ \\phantom{\\, {\\chi}} \\, {\\tau} \\, {\\tau} \\, {\\chi} }^{ \\, {\\chi} \\phantom{\\, {\\tau}} \\phantom{\\, {\\tau}} \\phantom{\\, {\\chi}} } & = & b^{2} \\\\ \\mathrm{Riem}\\left(g\\right)_{ \\phantom{\\, {\\chi}} \\, {\\theta} \\, {\\chi} \\, {\\theta} }^{ \\, {\\chi} \\phantom{\\, {\\theta}} \\phantom{\\, {\\chi}} \\phantom{\\, {\\theta}} } & = & \\cosh\\left(b {\\tau}\\right)^{2} \\sin\\left({\\chi}\\right)^{2} \\\\ \\mathrm{Riem}\\left(g\\right)_{ \\phantom{\\, {\\chi}} \\, {\\phi} \\, {\\chi} \\, {\\phi} }^{ \\, {\\chi} \\phantom{\\, {\\phi}} \\phantom{\\, {\\chi}} \\phantom{\\, {\\phi}} } & = & \\cosh\\left(b {\\tau}\\right)^{2} \\sin\\left({\\chi}\\right)^{2} \\sin\\left({\\theta}\\right)^{2} \\\\ \\mathrm{Riem}\\left(g\\right)_{ \\phantom{\\, {\\theta}} \\, {\\tau} \\, {\\tau} \\, {\\theta} }^{ \\, {\\theta} \\phantom{\\, {\\tau}} \\phantom{\\, {\\tau}} \\phantom{\\, {\\theta}} } & = & b^{2} \\\\ \\mathrm{Riem}\\left(g\\right)_{ \\phantom{\\, {\\theta}} \\, {\\chi} \\, {\\chi} \\, {\\theta} }^{ \\, {\\theta} \\phantom{\\, {\\chi}} \\phantom{\\, {\\chi}} \\phantom{\\, {\\theta}} } & = & -\\frac{\\sin\\left({\\chi}\\right)^{2} \\sinh\\left(b {\\tau}\\right)^{2} - \\cos\\left({\\chi}\\right)^{2} + 1}{\\sin\\left({\\chi}\\right)^{2}} \\\\ \\mathrm{Riem}\\left(g\\right)_{ \\phantom{\\, {\\theta}} \\, {\\phi} \\, {\\theta} \\, {\\phi} }^{ \\, {\\theta} \\phantom{\\, {\\phi}} \\phantom{\\, {\\theta}} \\phantom{\\, {\\phi}} } & = & \\cosh\\left(b {\\tau}\\right)^{2} \\sin\\left({\\chi}\\right)^{2} \\sin\\left({\\theta}\\right)^{2} \\\\ \\mathrm{Riem}\\left(g\\right)_{ \\phantom{\\, {\\phi}} \\, {\\tau} \\, {\\tau} \\, {\\phi} }^{ \\, {\\phi} \\phantom{\\, {\\tau}} \\phantom{\\, {\\tau}} \\phantom{\\, {\\phi}} } & = & b^{2} \\\\ \\mathrm{Riem}\\left(g\\right)_{ \\phantom{\\, {\\phi}} \\, {\\chi} \\, {\\chi} \\, {\\phi} }^{ \\, {\\phi} \\phantom{\\, {\\chi}} \\phantom{\\, {\\chi}} \\phantom{\\, {\\phi}} } & = & -\\frac{\\sin\\left({\\chi}\\right)^{2} \\sinh\\left(b {\\tau}\\right)^{2} - \\cos\\left({\\chi}\\right)^{2} + 1}{\\sin\\left({\\chi}\\right)^{2}} \\\\ \\mathrm{Riem}\\left(g\\right)_{ \\phantom{\\, {\\phi}} \\, {\\theta} \\, {\\theta} \\, {\\phi} }^{ \\, {\\phi} \\phantom{\\, {\\theta}} \\phantom{\\, {\\theta}} \\phantom{\\, {\\phi}} } & = & -\\cosh\\left(b {\\tau}\\right)^{2} \\sin\\left({\\chi}\\right)^{2} \\end{array}</script></html>"
      ],
      "text/plain": [
       "Riem(g)^ta_ch,ta,ch = cosh(b*ta)^2 \n",
       "Riem(g)^ta_th,ta,th = cosh(b*ta)^2*sin(ch)^2 \n",
       "Riem(g)^ta_ph,ta,ph = cosh(b*ta)^2*sin(ch)^2*sin(th)^2 \n",
       "Riem(g)^ch_ta,ta,ch = b^2 \n",
       "Riem(g)^ch_th,ch,th = cosh(b*ta)^2*sin(ch)^2 \n",
       "Riem(g)^ch_ph,ch,ph = cosh(b*ta)^2*sin(ch)^2*sin(th)^2 \n",
       "Riem(g)^th_ta,ta,th = b^2 \n",
       "Riem(g)^th_ch,ch,th = -(sin(ch)^2*sinh(b*ta)^2 - cos(ch)^2 + 1)/sin(ch)^2 \n",
       "Riem(g)^th_ph,th,ph = cosh(b*ta)^2*sin(ch)^2*sin(th)^2 \n",
       "Riem(g)^ph_ta,ta,ph = b^2 \n",
       "Riem(g)^ph_ch,ch,ph = -(sin(ch)^2*sinh(b*ta)^2 - cos(ch)^2 + 1)/sin(ch)^2 \n",
       "Riem(g)^ph_th,th,ph = -cosh(b*ta)^2*sin(ch)^2 "
      ]
     },
     "execution_count": 19,
     "metadata": {},
     "output_type": "execute_result"
    }
   ],
   "source": [
    "Riem.display_comp(only_nonredundant=True)"
   ]
  },
  {
   "cell_type": "markdown",
   "metadata": {
    "deletable": true,
    "editable": true
   },
   "source": [
    "<p>The Ricci tensor:</p>"
   ]
  },
  {
   "cell_type": "code",
   "execution_count": 20,
   "metadata": {
    "collapsed": false,
    "deletable": true,
    "editable": true
   },
   "outputs": [
    {
     "name": "stdout",
     "output_type": "stream",
     "text": [
      "Field of symmetric bilinear forms Ric(g) on the 4-dimensional differentiable manifold M\n"
     ]
    },
    {
     "data": {
      "text/html": [
       "<html><script type=\"math/tex; mode=display\">\\newcommand{\\Bold}[1]{\\mathbf{#1}}\\mathrm{Ric}\\left(g\\right) = -3 \\, b^{2} \\mathrm{d} {\\tau}\\otimes \\mathrm{d} {\\tau} + 3 \\, \\cosh\\left(b {\\tau}\\right)^{2} \\mathrm{d} {\\chi}\\otimes \\mathrm{d} {\\chi} + 3 \\, \\cosh\\left(b {\\tau}\\right)^{2} \\sin\\left({\\chi}\\right)^{2} \\mathrm{d} {\\theta}\\otimes \\mathrm{d} {\\theta} + 3 \\, \\cosh\\left(b {\\tau}\\right)^{2} \\sin\\left({\\chi}\\right)^{2} \\sin\\left({\\theta}\\right)^{2} \\mathrm{d} {\\phi}\\otimes \\mathrm{d} {\\phi}</script></html>"
      ],
      "text/plain": [
       "Ric(g) = -3*b^2 dta*dta + 3*cosh(b*ta)^2 dch*dch + 3*cosh(b*ta)^2*sin(ch)^2 dth*dth + 3*cosh(b*ta)^2*sin(ch)^2*sin(th)^2 dph*dph"
      ]
     },
     "execution_count": 20,
     "metadata": {},
     "output_type": "execute_result"
    }
   ],
   "source": [
    "Ric = g.ricci()\n",
    "print(Ric)\n",
    "Ric.display()"
   ]
  },
  {
   "cell_type": "code",
   "execution_count": 21,
   "metadata": {
    "collapsed": false,
    "deletable": true,
    "editable": true
   },
   "outputs": [
    {
     "data": {
      "text/html": [
       "<html><script type=\"math/tex; mode=display\">\\newcommand{\\Bold}[1]{\\mathbf{#1}}\\left(\\begin{array}{rrrr}\n",
       "-3 \\, b^{2} & 0 & 0 & 0 \\\\\n",
       "0 & 3 \\, \\cosh\\left(b {\\tau}\\right)^{2} & 0 & 0 \\\\\n",
       "0 & 0 & 3 \\, \\cosh\\left(b {\\tau}\\right)^{2} \\sin\\left({\\chi}\\right)^{2} & 0 \\\\\n",
       "0 & 0 & 0 & 3 \\, \\cosh\\left(b {\\tau}\\right)^{2} \\sin\\left({\\chi}\\right)^{2} \\sin\\left({\\theta}\\right)^{2}\n",
       "\\end{array}\\right)</script></html>"
      ],
      "text/plain": [
       "[                            -3*b^2                                  0                                  0                                  0]\n",
       "[                                 0                     3*cosh(b*ta)^2                                  0                                  0]\n",
       "[                                 0                                  0           3*cosh(b*ta)^2*sin(ch)^2                                  0]\n",
       "[                                 0                                  0                                  0 3*cosh(b*ta)^2*sin(ch)^2*sin(th)^2]"
      ]
     },
     "execution_count": 21,
     "metadata": {},
     "output_type": "execute_result"
    }
   ],
   "source": [
    "Ric[:]"
   ]
  },
  {
   "cell_type": "markdown",
   "metadata": {
    "deletable": true,
    "editable": true
   },
   "source": [
    "<p>The Ricci scalar:</p>"
   ]
  },
  {
   "cell_type": "code",
   "execution_count": 22,
   "metadata": {
    "collapsed": false,
    "deletable": true,
    "editable": true
   },
   "outputs": [
    {
     "name": "stdout",
     "output_type": "stream",
     "text": [
      "Scalar field r(g) on the 4-dimensional differentiable manifold M\n"
     ]
    },
    {
     "data": {
      "text/html": [
       "<html><script type=\"math/tex; mode=display\">\\newcommand{\\Bold}[1]{\\mathbf{#1}}\\begin{array}{llcl} \\mathrm{r}\\left(g\\right):& \\mathcal{M} & \\longrightarrow & \\mathbb{R} \\\\ \\mbox{on}\\ \\mathcal{M}_0 : & \\left({\\tau}, {\\chi}, {\\theta}, {\\phi}\\right) & \\longmapsto & 12 \\, b^{2} \\end{array}</script></html>"
      ],
      "text/plain": [
       "r(g): M --> R\n",
       "on M_0: (ta, ch, th, ph) |--> 12*b^2"
      ]
     },
     "execution_count": 22,
     "metadata": {},
     "output_type": "execute_result"
    }
   ],
   "source": [
    "R = g.ricci_scalar()\n",
    "print(R)\n",
    "R.display()"
   ]
  },
  {
   "cell_type": "markdown",
   "metadata": {
    "deletable": true,
    "editable": true
   },
   "source": [
    "We recover the fact that de Sitter spacetime has a constant curvature. It is indeed a **maximally symmetric space**. In particular, the Riemann tensor is expressible as\n",
    "$$ R^i_{\\ \\, jlk} = \\frac{R}{n(n-1)} \\left( \\delta^i_{\\ \\, k} g_{jl} - \\delta^i_{\\ \\, l} g_{jk} \\right), $$\n",
    "where $n$ is the dimension of $\\mathcal{M}$: $n=4$ in the present case. Let us check this formula here, under the form $R^i_{\\ \\, jlk} = -\\frac{R}{6} g_{j[k} \\delta^i_{\\ \\, l]}$:"
   ]
  },
  {
   "cell_type": "code",
   "execution_count": 23,
   "metadata": {
    "collapsed": false,
    "deletable": true,
    "editable": true
   },
   "outputs": [
    {
     "data": {
      "text/html": [
       "<html><script type=\"math/tex; mode=display\">\\newcommand{\\Bold}[1]{\\mathbf{#1}}\\mathrm{True}</script></html>"
      ],
      "text/plain": [
       "True"
      ]
     },
     "execution_count": 23,
     "metadata": {},
     "output_type": "execute_result"
    }
   ],
   "source": [
    "delta = M.tangent_identity_field() \n",
    "Riem == - (R/6)*(g*delta).antisymmetrize(2,3)  # 2,3 = last positions of the type-(1,3) tensor g*delta"
   ]
  },
  {
   "cell_type": "markdown",
   "metadata": {
    "deletable": true,
    "editable": true
   },
   "source": [
    "We may also check that de Sitter metric is a solution of the vacuum **Einstein equation** with (positive) cosmological constant:"
   ]
  },
  {
   "cell_type": "code",
   "execution_count": 24,
   "metadata": {
    "collapsed": false,
    "deletable": true,
    "editable": true
   },
   "outputs": [
    {
     "data": {
      "text/html": [
       "<html><script type=\"math/tex; mode=display\">\\newcommand{\\Bold}[1]{\\mathbf{#1}}\\mathrm{True}</script></html>"
      ],
      "text/plain": [
       "True"
      ]
     },
     "execution_count": 24,
     "metadata": {},
     "output_type": "execute_result"
    }
   ],
   "source": [
    "Lambda = 3*b^2\n",
    "Ric - 1/2*R*g + Lambda*g == 0"
   ]
  },
  {
   "cell_type": "code",
   "execution_count": null,
   "metadata": {
    "collapsed": true
   },
   "outputs": [],
   "source": []
  }
 ],
 "metadata": {
  "kernelspec": {
   "display_name": "SageMath 7.6",
   "language": "",
   "name": "sagemath"
  },
  "language": "python",
  "language_info": {
   "codemirror_mode": {
    "name": "ipython",
    "version": 2
   },
   "file_extension": ".py",
   "mimetype": "text/x-python",
   "name": "python",
   "nbconvert_exporter": "python",
   "pygments_lexer": "ipython2",
   "version": "2.7.13"
  },
  "latex_envs": {
   "bibliofile": "biblio.bib",
   "cite_by": "apalike",
   "current_citInitial": 1,
   "eqLabelWithNumbers": true,
   "eqNumInitial": 0
  }
 },
 "nbformat": 4,
 "nbformat_minor": 0
}
