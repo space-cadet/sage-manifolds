{
 "cells": [
  {
   "cell_type": "markdown",
   "metadata": {
    "toc": true
   },
   "source": [
    "<h1>Table of Contents<span class=\"tocSkip\"></span></h1>\n",
    "<div class=\"toc\" style=\"margin-top: 1em;\"><ul class=\"toc-item\"><li><span><a href=\"#Initialize\" data-toc-modified-id=\"Initialize-1\"><span class=\"toc-item-num\">1&nbsp;&nbsp;</span>Initialize</a></span><ul class=\"toc-item\"><li><span><a href=\"#Logging-Module\" data-toc-modified-id=\"Logging-Module-1.1\"><span class=\"toc-item-num\">1.1&nbsp;&nbsp;</span>Logging Module</a></span></li><li><span><a href=\"#LateX-Display\" data-toc-modified-id=\"LateX-Display-1.2\"><span class=\"toc-item-num\">1.2&nbsp;&nbsp;</span>LateX Display</a></span></li></ul></li><li><span><a href=\"#Define-Manifold\" data-toc-modified-id=\"Define-Manifold-2\"><span class=\"toc-item-num\">2&nbsp;&nbsp;</span>Define Manifold</a></span><ul class=\"toc-item\"><li><span><a href=\"#Define-Chart-on-Manifold\" data-toc-modified-id=\"Define-Chart-on-Manifold-2.1\"><span class=\"toc-item-num\">2.1&nbsp;&nbsp;</span>Define Chart on Manifold</a></span></li></ul></li><li><span><a href=\"#Ambient-Manifold-$\\mbb{R}^{(2,2)}$\" data-toc-modified-id=\"Ambient-Manifold-$\\mbb{R}^{(2,2)}$-3\"><span class=\"toc-item-num\">3&nbsp;&nbsp;</span>Ambient Manifold $\\mbb{R}^{(2,2)}$</a></span><ul class=\"toc-item\"><li><span><a href=\"#Metric-on-Ambient-Manifold\" data-toc-modified-id=\"Metric-on-Ambient-Manifold-3.1\"><span class=\"toc-item-num\">3.1&nbsp;&nbsp;</span>Metric on Ambient Manifold</a></span></li></ul></li><li><span><a href=\"#AdS-Length-Variable\" data-toc-modified-id=\"AdS-Length-Variable-4\"><span class=\"toc-item-num\">4&nbsp;&nbsp;</span>AdS Length Variable</a></span></li><li><span><a href=\"#Diffeomorphism-$-M-\\rightarrow-\\mbb{R}^4-$\" data-toc-modified-id=\"Diffeomorphism-$-M-\\rightarrow-\\mbb{R}^4-$-5\"><span class=\"toc-item-num\">5&nbsp;&nbsp;</span>Diffeomorphism $ M \\rightarrow \\mbb{R}^4 $</a></span></li><li><span><a href=\"#AdS_3-Metric\" data-toc-modified-id=\"AdS_3-Metric-6\"><span class=\"toc-item-num\">6&nbsp;&nbsp;</span>AdS_3 Metric</a></span></li><li><span><a href=\"#Christoffel-Symbols\" data-toc-modified-id=\"Christoffel-Symbols-7\"><span class=\"toc-item-num\">7&nbsp;&nbsp;</span>Christoffel Symbols</a></span></li><li><span><a href=\"#Killing-Vector-Fields\" data-toc-modified-id=\"Killing-Vector-Fields-8\"><span class=\"toc-item-num\">8&nbsp;&nbsp;</span>Killing Vector Fields</a></span><ul class=\"toc-item\"><li><span><a href=\"#Projection-Tensor\" data-toc-modified-id=\"Projection-Tensor-8.1\"><span class=\"toc-item-num\">8.1&nbsp;&nbsp;</span>Projection Tensor</a></span></li><li><span><a href=\"#Killing-Vector-Fields-Again\" data-toc-modified-id=\"Killing-Vector-Fields-Again-8.2\"><span class=\"toc-item-num\">8.2&nbsp;&nbsp;</span>Killing Vector Fields Again</a></span><ul class=\"toc-item\"><li><span><a href=\"#Define-Vector-Field-on-Ambient-Manifold\" data-toc-modified-id=\"Define-Vector-Field-on-Ambient-Manifold-8.2.1\"><span class=\"toc-item-num\">8.2.1&nbsp;&nbsp;</span>Define Vector Field on Ambient Manifold</a></span></li><li><span><a href=\"#Map-Vector-Field-to-Differential-Form\" data-toc-modified-id=\"Map-Vector-Field-to-Differential-Form-8.2.2\"><span class=\"toc-item-num\">8.2.2&nbsp;&nbsp;</span>Map Vector Field to Differential Form</a></span></li><li><span><a href=\"#Use-Pullback-to-Map-Diff-Form-from-Ambient-to-AdS\" data-toc-modified-id=\"Use-Pullback-to-Map-Diff-Form-from-Ambient-to-AdS-8.2.3\"><span class=\"toc-item-num\">8.2.3&nbsp;&nbsp;</span>Use Pullback to Map Diff Form from Ambient to AdS</a></span></li><li><span><a href=\"#Map-AdS-Diff-Form-to-Vector-Field-on-AdS\" data-toc-modified-id=\"Map-AdS-Diff-Form-to-Vector-Field-on-AdS-8.2.4\"><span class=\"toc-item-num\">8.2.4&nbsp;&nbsp;</span>Map AdS Diff Form to Vector Field on AdS</a></span></li><li><span><a href=\"#Covariant-Derivative-of-Vector-Field\" data-toc-modified-id=\"Covariant-Derivative-of-Vector-Field-8.2.5\"><span class=\"toc-item-num\">8.2.5&nbsp;&nbsp;</span>Covariant Derivative of Vector Field</a></span></li><li><span><a href=\"#Symmetrize-to-Obtain-Killing-Form\" data-toc-modified-id=\"Symmetrize-to-Obtain-Killing-Form-8.2.6\"><span class=\"toc-item-num\">8.2.6&nbsp;&nbsp;</span>Symmetrize to Obtain Killing Form</a></span></li><li><span><a href=\"#Hence-Proved!\" data-toc-modified-id=\"Hence-Proved!-8.2.7\"><span class=\"toc-item-num\">8.2.7&nbsp;&nbsp;</span>Hence Proved!</a></span></li></ul></li></ul></li><li><span><a href=\"#Killing-Form-Function-Definition\" data-toc-modified-id=\"Killing-Form-Function-Definition-9\"><span class=\"toc-item-num\">9&nbsp;&nbsp;</span>Killing Form Function Definition</a></span></li><li><span><a href=\"#Sandbox\" data-toc-modified-id=\"Sandbox-10\"><span class=\"toc-item-num\">10&nbsp;&nbsp;</span>Sandbox</a></span></li></ul></div>"
   ]
  },
  {
   "cell_type": "markdown",
   "metadata": {},
   "source": [
    "Mathjax custom macros\n",
    "\n",
    "$ \\newcommand{\\opexpect}[3]{\\langle #1 \\vert #2 \\vert #3 \\rangle} $\n",
    "$ \\newcommand{\\rarrow}{\\rightarrow} $\n",
    "$ \\newcommand{\\bra}{\\langle} $\n",
    "$ \\newcommand{\\ket}{\\rangle} $\n",
    "\n",
    "$ \\newcommand{\\up}{\\uparrow} $\n",
    "$ \\newcommand{\\down}{\\downarrow} $\n",
    "\n",
    "$ \\newcommand{\\mb}[1]{\\mathbf{#1}} $\n",
    "$ \\newcommand{\\mc}[1]{\\mathcal{#1}} $\n",
    "$ \\newcommand{\\mbb}[1]{\\mathbb{#1}} $\n",
    "$ \\newcommand{\\mf}[1]{\\mathfrak{#1}} $\n",
    "\n",
    "$ \\newcommand{\\vect}[1]{\\boldsymbol{\\mathrm{#1}}} $\n",
    "$ \\newcommand{\\expect}[1]{\\langle #1\\rangle} $\n",
    "\n",
    "$ \\newcommand{\\innerp}[2]{\\langle #1 \\vert #2 \\rangle} $\n",
    "$ \\newcommand{\\fullbra}[1]{\\langle #1 \\vert} $\n",
    "$ \\newcommand{\\fullket}[1]{\\vert #1 \\rangle} $\n",
    "$ \\newcommand{\\supersc}[1]{^{\\text{#1}}} $\n",
    "$ \\newcommand{\\subsc}[1]{_{\\text{#1}}} $\n",
    "$ \\newcommand{\\sltwoc}{SL(2,\\mathbb{C})} $\n",
    "$ \\newcommand{\\sltwoz}{SL(2,\\mathbb{Z})} $\n",
    "\n",
    "$ \\newcommand{\\utilde}[1]{\\underset{\\sim}{#1}} $"
   ]
  },
  {
   "cell_type": "markdown",
   "metadata": {},
   "source": [
    "# Initialize"
   ]
  },
  {
   "cell_type": "markdown",
   "metadata": {},
   "source": [
    "## Logging Module"
   ]
  },
  {
   "cell_type": "code",
   "execution_count": 96,
   "metadata": {},
   "outputs": [],
   "source": [
    "import logging"
   ]
  },
  {
   "cell_type": "code",
   "execution_count": 97,
   "metadata": {},
   "outputs": [],
   "source": [
    "logging.basicConfig(format='%(asctime)s %(message)s', datefmt='%d/%m/%Y %I:%M:%S %p')"
   ]
  },
  {
   "cell_type": "markdown",
   "metadata": {},
   "source": [
    "## LateX Display"
   ]
  },
  {
   "cell_type": "code",
   "execution_count": 3,
   "metadata": {},
   "outputs": [],
   "source": [
    "%display latex"
   ]
  },
  {
   "cell_type": "markdown",
   "metadata": {},
   "source": [
    "# Define Manifold"
   ]
  },
  {
   "cell_type": "code",
   "execution_count": 4,
   "metadata": {},
   "outputs": [
    {
     "data": {
      "text/html": [
       "<html><script type=\"math/tex; mode=display\">\\newcommand{\\Bold}[1]{\\mathbf{#1}}M</script></html>"
      ],
      "text/plain": [
       "3-dimensional differentiable manifold M"
      ]
     },
     "execution_count": 4,
     "metadata": {},
     "output_type": "execute_result"
    }
   ],
   "source": [
    "M = Manifold(3,'M')\n",
    "M"
   ]
  },
  {
   "cell_type": "code",
   "execution_count": 5,
   "metadata": {},
   "outputs": [
    {
     "data": {
      "text/html": [
       "<html><script type=\"math/tex; mode=display\">\\newcommand{\\Bold}[1]{\\mathbf{#1}}\\mc{M}_0</script></html>"
      ],
      "text/plain": [
       "Open subset M_0 of the 3-dimensional differentiable manifold M"
      ]
     },
     "execution_count": 5,
     "metadata": {},
     "output_type": "execute_result"
    }
   ],
   "source": [
    "M0 = M.open_subset('M_0', r'\\mc{M}_0')\n",
    "M0"
   ]
  },
  {
   "cell_type": "markdown",
   "metadata": {},
   "source": [
    "## Define Chart on Manifold"
   ]
  },
  {
   "cell_type": "code",
   "execution_count": 7,
   "metadata": {},
   "outputs": [
    {
     "data": {
      "text/html": [
       "<html><script type=\"math/tex; mode=display\">\\newcommand{\\Bold}[1]{\\mathbf{#1}}\\left(\\mc{M}_0,({t}, {\\rho}, {\\phi})\\right)</script></html>"
      ],
      "text/plain": [
       "Chart (M_0, (t, rho, phi))"
      ]
     },
     "execution_count": 7,
     "metadata": {},
     "output_type": "execute_result"
    }
   ],
   "source": [
    "X_hyp.<t,rho,phi> = M0.chart(r't:t rho:\\rho phi:(0,2*pi):\\phi')\n",
    "X_hyp"
   ]
  },
  {
   "cell_type": "code",
   "execution_count": 8,
   "metadata": {},
   "outputs": [],
   "source": [
    "M0.set_default_chart(X_hyp)"
   ]
  },
  {
   "cell_type": "code",
   "execution_count": 9,
   "metadata": {},
   "outputs": [
    {
     "data": {
      "text/html": [
       "<html><script type=\"math/tex; mode=display\">\\newcommand{\\Bold}[1]{\\mathbf{#1}}3</script></html>"
      ],
      "text/plain": [
       "3"
      ]
     },
     "execution_count": 9,
     "metadata": {},
     "output_type": "execute_result"
    }
   ],
   "source": [
    "ads_dim = M0.dimension()\n",
    "ads_dim"
   ]
  },
  {
   "cell_type": "markdown",
   "metadata": {},
   "source": [
    "# Ambient Manifold $\\mbb{R}^{(2,2)}$"
   ]
  },
  {
   "cell_type": "code",
   "execution_count": 10,
   "metadata": {},
   "outputs": [
    {
     "data": {
      "text/html": [
       "<html><script type=\"math/tex; mode=display\">\\newcommand{\\Bold}[1]{\\mathbf{#1}}\\mathbb{R}^4</script></html>"
      ],
      "text/plain": [
       "4-dimensional differentiable manifold R4"
      ]
     },
     "execution_count": 10,
     "metadata": {},
     "output_type": "execute_result"
    }
   ],
   "source": [
    "R4 = Manifold(4, 'R4', r'\\mathbb{R}^4')\n",
    "R4"
   ]
  },
  {
   "cell_type": "code",
   "execution_count": 11,
   "metadata": {},
   "outputs": [
    {
     "name": "stdout",
     "output_type": "stream",
     "text": [
      "Chart (R4, (X0, X1, X2, X3))\n"
     ]
    }
   ],
   "source": [
    "X4.<X0,X1,X2,X3> = R4.chart()\n",
    "print(X4)"
   ]
  },
  {
   "cell_type": "code",
   "execution_count": 12,
   "metadata": {},
   "outputs": [
    {
     "data": {
      "text/html": [
       "<html><script type=\"math/tex; mode=display\">\\newcommand{\\Bold}[1]{\\mathbf{#1}}\\left(\\mathbb{R}^4,(X_{0}, X_{1}, X_{2}, X_{3})\\right)</script></html>"
      ],
      "text/plain": [
       "Chart (R4, (X0, X1, X2, X3))"
      ]
     },
     "execution_count": 12,
     "metadata": {},
     "output_type": "execute_result"
    }
   ],
   "source": [
    "X4"
   ]
  },
  {
   "cell_type": "code",
   "execution_count": 13,
   "metadata": {},
   "outputs": [
    {
     "data": {
      "text/html": [
       "<html><script type=\"math/tex; mode=display\">\\newcommand{\\Bold}[1]{\\mathbf{#1}}4</script></html>"
      ],
      "text/plain": [
       "4"
      ]
     },
     "execution_count": 13,
     "metadata": {},
     "output_type": "execute_result"
    }
   ],
   "source": [
    "ambient_dim = R4.dimension()\n",
    "ambient_dim"
   ]
  },
  {
   "cell_type": "markdown",
   "metadata": {},
   "source": [
    "## Metric on Ambient Manifold"
   ]
  },
  {
   "cell_type": "code",
   "execution_count": 14,
   "metadata": {},
   "outputs": [
    {
     "data": {
      "text/html": [
       "<html><script type=\"math/tex; mode=display\">\\newcommand{\\Bold}[1]{\\mathbf{#1}}h</script></html>"
      ],
      "text/plain": [
       "Pseudo-Riemannian metric h on the 4-dimensional differentiable manifold R4"
      ]
     },
     "execution_count": 14,
     "metadata": {},
     "output_type": "execute_result"
    }
   ],
   "source": [
    "h = R4.metric('h',signature=0)\n",
    "h"
   ]
  },
  {
   "cell_type": "code",
   "execution_count": 15,
   "metadata": {},
   "outputs": [
    {
     "data": {
      "text/html": [
       "<html><script type=\"math/tex; mode=display\">\\newcommand{\\Bold}[1]{\\mathbf{#1}}h = -\\mathrm{d} X_{0}\\otimes \\mathrm{d} X_{0}+\\mathrm{d} X_{1}\\otimes \\mathrm{d} X_{1}+\\mathrm{d} X_{2}\\otimes \\mathrm{d} X_{2}-\\mathrm{d} X_{3}\\otimes \\mathrm{d} X_{3}</script></html>"
      ],
      "text/plain": [
       "h = -dX0*dX0 + dX1*dX1 + dX2*dX2 - dX3*dX3"
      ]
     },
     "execution_count": 15,
     "metadata": {},
     "output_type": "execute_result"
    }
   ],
   "source": [
    "h[0,0], h[1,1], h[2,2], h[3,3] = -1, 1, 1, -1\n",
    "h.display()"
   ]
  },
  {
   "cell_type": "markdown",
   "metadata": {},
   "source": [
    "# AdS Length Variable"
   ]
  },
  {
   "cell_type": "code",
   "execution_count": 16,
   "metadata": {},
   "outputs": [
    {
     "data": {
      "text/html": [
       "<html><script type=\"math/tex; mode=display\">\\newcommand{\\Bold}[1]{\\mathbf{#1}}l</script></html>"
      ],
      "text/plain": [
       "l"
      ]
     },
     "execution_count": 16,
     "metadata": {},
     "output_type": "execute_result"
    }
   ],
   "source": [
    "var('l', domain='real')\n",
    "assume(l > 0)\n",
    "l"
   ]
  },
  {
   "cell_type": "markdown",
   "metadata": {},
   "source": [
    "# Diffeomorphism $ M \\rightarrow \\mbb{R}^4 $"
   ]
  },
  {
   "cell_type": "code",
   "execution_count": 17,
   "metadata": {},
   "outputs": [
    {
     "name": "stdout",
     "output_type": "stream",
     "text": [
      "Differentiable map Phi from the Open subset M_0 of the 3-dimensional differentiable manifold M to the 4-dimensional differentiable manifold R4\n"
     ]
    },
    {
     "data": {
      "text/html": [
       "<html><script type=\"math/tex; mode=display\">\\newcommand{\\Bold}[1]{\\mathbf{#1}}\\begin{array}{llcl} \\Phi:& \\mc{M}_0 & \\longrightarrow & \\mathbb{R}^4 \\\\ & \\left({t}, {\\rho}, {\\phi}\\right) & \\longmapsto & \\left(X_{0}, X_{1}, X_{2}, X_{3}\\right) = \\left(l \\cos\\left({t}\\right) \\cosh\\left({\\rho}\\right), l \\sin\\left({\\phi}\\right) \\sinh\\left({\\rho}\\right), l \\cos\\left({\\phi}\\right) \\sinh\\left({\\rho}\\right), l \\cosh\\left({\\rho}\\right) \\sin\\left({t}\\right)\\right) \\end{array}</script></html>"
      ],
      "text/plain": [
       "Phi: M_0 --> R4\n",
       "   (t, rho, phi) |--> (X0, X1, X2, X3) = (l*cos(t)*cosh(rho), l*sin(phi)*sinh(rho), l*cos(phi)*sinh(rho), l*cosh(rho)*sin(t))"
      ]
     },
     "execution_count": 17,
     "metadata": {},
     "output_type": "execute_result"
    }
   ],
   "source": [
    "Phi = M0.diff_map(R4, [l*cosh(rho)*cos(t),\n",
    "                      l*sinh(rho)*sin(phi),\n",
    "                      l*sinh(rho)*cos(phi),\n",
    "                      l*cosh(rho)*sin(t)],\n",
    "                name='Phi', latex_name=r'\\Phi')\n",
    "print(Phi)\n",
    "Phi.display()"
   ]
  },
  {
   "cell_type": "markdown",
   "metadata": {},
   "source": [
    "# AdS_3 Metric"
   ]
  },
  {
   "cell_type": "code",
   "execution_count": 18,
   "metadata": {},
   "outputs": [],
   "source": [
    "g = M0.lorentzian_metric('g')"
   ]
  },
  {
   "cell_type": "code",
   "execution_count": 19,
   "metadata": {},
   "outputs": [],
   "source": [
    "g.set(Phi.pullback(h))"
   ]
  },
  {
   "cell_type": "code",
   "execution_count": 20,
   "metadata": {},
   "outputs": [
    {
     "data": {
      "text/html": [
       "<html><script type=\"math/tex; mode=display\">\\newcommand{\\Bold}[1]{\\mathbf{#1}}g = -l^{2} \\cosh\\left({\\rho}\\right)^{2} \\mathrm{d} {t}\\otimes \\mathrm{d} {t} + l^{2} \\mathrm{d} {\\rho}\\otimes \\mathrm{d} {\\rho} + l^{2} \\sinh\\left({\\rho}\\right)^{2} \\mathrm{d} {\\phi}\\otimes \\mathrm{d} {\\phi}</script></html>"
      ],
      "text/plain": [
       "g = -l^2*cosh(rho)^2 dt*dt + l^2 drho*drho + l^2*sinh(rho)^2 dphi*dphi"
      ]
     },
     "execution_count": 20,
     "metadata": {},
     "output_type": "execute_result"
    }
   ],
   "source": [
    "g.display()"
   ]
  },
  {
   "cell_type": "code",
   "execution_count": 21,
   "metadata": {},
   "outputs": [
    {
     "data": {
      "text/html": [
       "<html><script type=\"math/tex; mode=display\">\\newcommand{\\Bold}[1]{\\mathbf{#1}}\\left(\\begin{array}{rrr}\n",
       "-l^{2} \\cosh\\left({\\rho}\\right)^{2} & 0 & 0 \\\\\n",
       "0 & l^{2} & 0 \\\\\n",
       "0 & 0 & l^{2} \\sinh\\left({\\rho}\\right)^{2}\n",
       "\\end{array}\\right)</script></html>"
      ],
      "text/plain": [
       "[-l^2*cosh(rho)^2                0                0]\n",
       "[               0              l^2                0]\n",
       "[               0                0  l^2*sinh(rho)^2]"
      ]
     },
     "execution_count": 21,
     "metadata": {},
     "output_type": "execute_result"
    }
   ],
   "source": [
    "g[:]"
   ]
  },
  {
   "cell_type": "markdown",
   "metadata": {},
   "source": [
    "# Christoffel Symbols"
   ]
  },
  {
   "cell_type": "code",
   "execution_count": 22,
   "metadata": {},
   "outputs": [],
   "source": [
    "christoffels = g.connection()"
   ]
  },
  {
   "cell_type": "code",
   "execution_count": 23,
   "metadata": {},
   "outputs": [
    {
     "data": {
      "text/html": [
       "<html><script type=\"math/tex; mode=display\">\\newcommand{\\Bold}[1]{\\mathbf{#1}}\\begin{array}{lcl} \\Gamma_{ \\phantom{\\, {t}} \\, {t} \\, {\\rho} }^{ \\, {t} \\phantom{\\, {t}} \\phantom{\\, {\\rho}} } & = & \\frac{\\sinh\\left({\\rho}\\right)}{\\cosh\\left({\\rho}\\right)} \\\\ \\Gamma_{ \\phantom{\\, {t}} \\, {\\rho} \\, {t} }^{ \\, {t} \\phantom{\\, {\\rho}} \\phantom{\\, {t}} } & = & \\frac{\\sinh\\left({\\rho}\\right)}{\\cosh\\left({\\rho}\\right)} \\\\ \\Gamma_{ \\phantom{\\, {\\rho}} \\, {t} \\, {t} }^{ \\, {\\rho} \\phantom{\\, {t}} \\phantom{\\, {t}} } & = & \\cosh\\left({\\rho}\\right) \\sinh\\left({\\rho}\\right) \\\\ \\Gamma_{ \\phantom{\\, {\\rho}} \\, {\\phi} \\, {\\phi} }^{ \\, {\\rho} \\phantom{\\, {\\phi}} \\phantom{\\, {\\phi}} } & = & -\\cosh\\left({\\rho}\\right) \\sinh\\left({\\rho}\\right) \\\\ \\Gamma_{ \\phantom{\\, {\\phi}} \\, {\\rho} \\, {\\phi} }^{ \\, {\\phi} \\phantom{\\, {\\rho}} \\phantom{\\, {\\phi}} } & = & \\frac{\\cosh\\left({\\rho}\\right)}{\\sinh\\left({\\rho}\\right)} \\\\ \\Gamma_{ \\phantom{\\, {\\phi}} \\, {\\phi} \\, {\\rho} }^{ \\, {\\phi} \\phantom{\\, {\\phi}} \\phantom{\\, {\\rho}} } & = & \\frac{\\cosh\\left({\\rho}\\right)}{\\sinh\\left({\\rho}\\right)} \\end{array}</script></html>"
      ],
      "text/plain": [
       "Gam^t_t,rho = sinh(rho)/cosh(rho) \n",
       "Gam^t_rho,t = sinh(rho)/cosh(rho) \n",
       "Gam^rho_t,t = cosh(rho)*sinh(rho) \n",
       "Gam^rho_phi,phi = -cosh(rho)*sinh(rho) \n",
       "Gam^phi_rho,phi = cosh(rho)/sinh(rho) \n",
       "Gam^phi_phi,rho = cosh(rho)/sinh(rho) "
      ]
     },
     "execution_count": 23,
     "metadata": {},
     "output_type": "execute_result"
    }
   ],
   "source": [
    "christoffels.display()"
   ]
  },
  {
   "cell_type": "markdown",
   "metadata": {},
   "source": [
    "# Killing Vector Fields"
   ]
  },
  {
   "cell_type": "markdown",
   "metadata": {},
   "source": [
    "Define boost vector field:\n",
    "\n",
    "$$ V = X^1 \\partial_{0} + X^0 \\partial_{1} $$"
   ]
  },
  {
   "cell_type": "code",
   "execution_count": 24,
   "metadata": {},
   "outputs": [
    {
     "name": "stdout",
     "output_type": "stream",
     "text": [
      "l*cos(t)*cosh(rho) <type 'sage.symbolic.expression.Expression'>\n",
      "l*sin(phi)*sinh(rho) <type 'sage.symbolic.expression.Expression'>\n",
      "l*cos(phi)*sinh(rho) <type 'sage.symbolic.expression.Expression'>\n",
      "l*cosh(rho)*sin(t) <type 'sage.symbolic.expression.Expression'>\n"
     ]
    }
   ],
   "source": [
    "for i in Phi.expression():\n",
    "    print(i), type(i)"
   ]
  },
  {
   "cell_type": "code",
   "execution_count": 25,
   "metadata": {},
   "outputs": [
    {
     "data": {
      "text/html": [
       "<html><script type=\"math/tex; mode=display\">\\newcommand{\\Bold}[1]{\\mathbf{#1}}l \\cos\\left({t}\\right) \\cosh\\left({\\rho}\\right)</script></html>"
      ],
      "text/plain": [
       "l*cos(t)*cosh(rho)"
      ]
     },
     "execution_count": 25,
     "metadata": {},
     "output_type": "execute_result"
    }
   ],
   "source": [
    "Phi.coord_functions()[0]"
   ]
  },
  {
   "cell_type": "code",
   "execution_count": 26,
   "metadata": {},
   "outputs": [
    {
     "data": {
      "text/html": [
       "<html><script type=\"math/tex; mode=display\">\\newcommand{\\Bold}[1]{\\mathbf{#1}}l \\cos\\left({t}\\right) \\cosh\\left({\\rho}\\right)</script></html>"
      ],
      "text/plain": [
       "l*cos(t)*cosh(rho)"
      ]
     },
     "execution_count": 26,
     "metadata": {},
     "output_type": "execute_result"
    }
   ],
   "source": [
    "Phi.expression()[0]"
   ]
  },
  {
   "cell_type": "code",
   "execution_count": 28,
   "metadata": {},
   "outputs": [
    {
     "data": {
      "text/html": [
       "<html><script type=\"math/tex; mode=display\">\\newcommand{\\Bold}[1]{\\mathbf{#1}}\\verb|<type|\\phantom{\\verb!x!}\\verb|'sage.symbolic.expression.Expression'>|</script></html>"
      ],
      "text/plain": [
       "<type 'sage.symbolic.expression.Expression'>"
      ]
     },
     "execution_count": 28,
     "metadata": {},
     "output_type": "execute_result"
    }
   ],
   "source": [
    "type(_26)"
   ]
  },
  {
   "cell_type": "code",
   "execution_count": 29,
   "metadata": {},
   "outputs": [
    {
     "name": "stdout",
     "output_type": "stream",
     "text": [
      "t <type 'sage.symbolic.expression.Expression'>\n",
      "rho <type 'sage.symbolic.expression.Expression'>\n",
      "phi <type 'sage.symbolic.expression.Expression'>\n"
     ]
    }
   ],
   "source": [
    "for i in M0.default_chart():\n",
    "    print(i), type(i)"
   ]
  },
  {
   "cell_type": "code",
   "execution_count": 30,
   "metadata": {},
   "outputs": [
    {
     "data": {
      "text/html": [
       "<html><script type=\"math/tex; mode=display\">\\newcommand{\\Bold}[1]{\\mathbf{#1}}{t}</script></html>"
      ],
      "text/plain": [
       "t"
      ]
     },
     "execution_count": 30,
     "metadata": {},
     "output_type": "execute_result"
    }
   ],
   "source": [
    "M0.default_chart()[0]"
   ]
  },
  {
   "cell_type": "markdown",
   "metadata": {},
   "source": [
    "## Projection Tensor"
   ]
  },
  {
   "cell_type": "code",
   "execution_count": 31,
   "metadata": {},
   "outputs": [],
   "source": [
    "Proj = matrix(SR,ads_dim, ambient_dim)"
   ]
  },
  {
   "cell_type": "code",
   "execution_count": 32,
   "metadata": {},
   "outputs": [
    {
     "name": "stdout",
     "output_type": "stream",
     "text": [
      "(l*cos(t)*cosh(rho), t, -l*cosh(rho)*sin(t))\n",
      "(l*sin(phi)*sinh(rho), t, 0)\n",
      "(l*cos(phi)*sinh(rho), t, 0)\n",
      "(l*cosh(rho)*sin(t), t, l*cos(t)*cosh(rho))\n",
      "(l*cos(t)*cosh(rho), rho, l*cos(t)*sinh(rho))\n",
      "(l*sin(phi)*sinh(rho), rho, l*cosh(rho)*sin(phi))\n",
      "(l*cos(phi)*sinh(rho), rho, l*cos(phi)*cosh(rho))\n",
      "(l*cosh(rho)*sin(t), rho, l*sin(t)*sinh(rho))\n",
      "(l*cos(t)*cosh(rho), phi, 0)\n",
      "(l*sin(phi)*sinh(rho), phi, l*cos(phi)*sinh(rho))\n",
      "(l*cos(phi)*sinh(rho), phi, -l*sin(phi)*sinh(rho))\n",
      "(l*cosh(rho)*sin(t), phi, 0)\n"
     ]
    }
   ],
   "source": [
    "for i in range(ads_dim):\n",
    "    for j in range(ambient_dim):\n",
    "        a = Phi.expression()[j]\n",
    "        b = M.default_chart()[i]\n",
    "#         Proj[a][b] = diff(j,i)\n",
    "        print(a,b,diff(a,b))"
   ]
  },
  {
   "cell_type": "code",
   "execution_count": 33,
   "metadata": {},
   "outputs": [
    {
     "data": {
      "text/html": [
       "<html><script type=\"math/tex; mode=display\">\\newcommand{\\Bold}[1]{\\mathbf{#1}}0</script></html>"
      ],
      "text/plain": [
       "0"
      ]
     },
     "execution_count": 33,
     "metadata": {},
     "output_type": "execute_result"
    }
   ],
   "source": [
    "Proj[0,3]"
   ]
  },
  {
   "cell_type": "code",
   "execution_count": 34,
   "metadata": {},
   "outputs": [
    {
     "name": "stdout",
     "output_type": "stream",
     "text": [
      "(l*cos(t)*cosh(rho), t, -l*cosh(rho)*sin(t))\n",
      "(l*sin(phi)*sinh(rho), t, 0)\n",
      "(l*cos(phi)*sinh(rho), t, 0)\n",
      "(l*cosh(rho)*sin(t), t, l*cos(t)*cosh(rho))\n",
      "(l*cos(t)*cosh(rho), rho, l*cos(t)*sinh(rho))\n",
      "(l*sin(phi)*sinh(rho), rho, l*cosh(rho)*sin(phi))\n",
      "(l*cos(phi)*sinh(rho), rho, l*cos(phi)*cosh(rho))\n",
      "(l*cosh(rho)*sin(t), rho, l*sin(t)*sinh(rho))\n",
      "(l*cos(t)*cosh(rho), phi, 0)\n",
      "(l*sin(phi)*sinh(rho), phi, l*cos(phi)*sinh(rho))\n",
      "(l*cos(phi)*sinh(rho), phi, -l*sin(phi)*sinh(rho))\n",
      "(l*cosh(rho)*sin(t), phi, 0)\n"
     ]
    }
   ],
   "source": [
    "for i in range(ads_dim):\n",
    "    for j in range(ambient_dim):\n",
    "        a = Phi.expression()[j]\n",
    "        b = M.default_chart()[i]\n",
    "        print(a,b,diff(a,b))\n",
    "        Proj[i,j] = diff(a,b)"
   ]
  },
  {
   "cell_type": "code",
   "execution_count": 35,
   "metadata": {},
   "outputs": [
    {
     "data": {
      "text/html": [
       "<html><script type=\"math/tex; mode=display\">\\newcommand{\\Bold}[1]{\\mathbf{#1}}\\left(\\begin{array}{rrrr}\n",
       "-l \\cosh\\left({\\rho}\\right) \\sin\\left({t}\\right) & 0 & 0 & l \\cos\\left({t}\\right) \\cosh\\left({\\rho}\\right) \\\\\n",
       "l \\cos\\left({t}\\right) \\sinh\\left({\\rho}\\right) & l \\cosh\\left({\\rho}\\right) \\sin\\left({\\phi}\\right) & l \\cos\\left({\\phi}\\right) \\cosh\\left({\\rho}\\right) & l \\sin\\left({t}\\right) \\sinh\\left({\\rho}\\right) \\\\\n",
       "0 & l \\cos\\left({\\phi}\\right) \\sinh\\left({\\rho}\\right) & -l \\sin\\left({\\phi}\\right) \\sinh\\left({\\rho}\\right) & 0\n",
       "\\end{array}\\right)</script></html>"
      ],
      "text/plain": [
       "[  -l*cosh(rho)*sin(t)                     0                     0    l*cos(t)*cosh(rho)]\n",
       "[   l*cos(t)*sinh(rho)  l*cosh(rho)*sin(phi)  l*cos(phi)*cosh(rho)    l*sin(t)*sinh(rho)]\n",
       "[                    0  l*cos(phi)*sinh(rho) -l*sin(phi)*sinh(rho)                     0]"
      ]
     },
     "execution_count": 35,
     "metadata": {},
     "output_type": "execute_result"
    }
   ],
   "source": [
    "Proj"
   ]
  },
  {
   "cell_type": "markdown",
   "metadata": {},
   "source": [
    "## Killing Vector Fields Again"
   ]
  },
  {
   "cell_type": "markdown",
   "metadata": {},
   "source": [
    "### Define Vector Field on Ambient Manifold"
   ]
  },
  {
   "cell_type": "code",
   "execution_count": 36,
   "metadata": {},
   "outputs": [
    {
     "data": {
      "text/html": [
       "<html><script type=\"math/tex; mode=display\">\\newcommand{\\Bold}[1]{\\mathbf{#1}}v = X_{1} \\frac{\\partial}{\\partial X_{0} } + X_{0} \\frac{\\partial}{\\partial X_{1} }</script></html>"
      ],
      "text/plain": [
       "v = X1 d/dX0 + X0 d/dX1"
      ]
     },
     "execution_count": 36,
     "metadata": {},
     "output_type": "execute_result"
    }
   ],
   "source": [
    "kvf1 = R4.vector_field('v')\n",
    "kvf1[:] = X1, X0, 0, 0\n",
    "kvf1.display()"
   ]
  },
  {
   "cell_type": "code",
   "execution_count": null,
   "metadata": {},
   "outputs": [],
   "source": [
    "kvf1.pick_a_basis?"
   ]
  },
  {
   "cell_type": "code",
   "execution_count": 37,
   "metadata": {},
   "outputs": [],
   "source": [
    "Phi.pullback?"
   ]
  },
  {
   "cell_type": "code",
   "execution_count": 39,
   "metadata": {},
   "outputs": [],
   "source": [
    "kvf1_ads = M0.vector_field('v_1')"
   ]
  },
  {
   "cell_type": "code",
   "execution_count": 43,
   "metadata": {},
   "outputs": [],
   "source": [
    "Phi.pullback?"
   ]
  },
  {
   "cell_type": "markdown",
   "metadata": {},
   "source": [
    "### Map Vector Field to Differential Form"
   ]
  },
  {
   "cell_type": "code",
   "execution_count": 48,
   "metadata": {},
   "outputs": [],
   "source": [
    "kvform1 = kvf1.down(h)"
   ]
  },
  {
   "cell_type": "code",
   "execution_count": 49,
   "metadata": {},
   "outputs": [
    {
     "data": {
      "text/html": [
       "<html><script type=\"math/tex; mode=display\">\\newcommand{\\Bold}[1]{\\mathbf{#1}}-X_{1} \\mathrm{d} X_{0} + X_{0} \\mathrm{d} X_{1}</script></html>"
      ],
      "text/plain": [
       "-X1 dX0 + X0 dX1"
      ]
     },
     "execution_count": 49,
     "metadata": {},
     "output_type": "execute_result"
    }
   ],
   "source": [
    "kvform1.display()"
   ]
  },
  {
   "cell_type": "markdown",
   "metadata": {},
   "source": [
    "### Use Pullback to Map Diff Form from Ambient to AdS"
   ]
  },
  {
   "cell_type": "code",
   "execution_count": 50,
   "metadata": {},
   "outputs": [],
   "source": [
    "kvform1_ads = Phi.pullback(kvform1)"
   ]
  },
  {
   "cell_type": "code",
   "execution_count": 51,
   "metadata": {},
   "outputs": [
    {
     "data": {
      "text/html": [
       "<html><script type=\"math/tex; mode=display\">\\newcommand{\\Bold}[1]{\\mathbf{#1}}l^{2} \\cosh\\left({\\rho}\\right) \\sin\\left({\\phi}\\right) \\sin\\left({t}\\right) \\sinh\\left({\\rho}\\right) \\mathrm{d} {t} + l^{2} \\cos\\left({t}\\right) \\sin\\left({\\phi}\\right) \\mathrm{d} {\\rho} + l^{2} \\cos\\left({\\phi}\\right) \\cos\\left({t}\\right) \\cosh\\left({\\rho}\\right) \\sinh\\left({\\rho}\\right) \\mathrm{d} {\\phi}</script></html>"
      ],
      "text/plain": [
       "l^2*cosh(rho)*sin(phi)*sin(t)*sinh(rho) dt + l^2*cos(t)*sin(phi) drho + l^2*cos(phi)*cos(t)*cosh(rho)*sinh(rho) dphi"
      ]
     },
     "execution_count": 51,
     "metadata": {},
     "output_type": "execute_result"
    }
   ],
   "source": [
    "kvform1_ads.display()"
   ]
  },
  {
   "cell_type": "markdown",
   "metadata": {},
   "source": [
    "### Map AdS Diff Form to Vector Field on AdS"
   ]
  },
  {
   "cell_type": "code",
   "execution_count": 52,
   "metadata": {},
   "outputs": [],
   "source": [
    "kvf1_ads = kvform1_ads.up(g)"
   ]
  },
  {
   "cell_type": "code",
   "execution_count": 53,
   "metadata": {},
   "outputs": [
    {
     "data": {
      "text/html": [
       "<html><script type=\"math/tex; mode=display\">\\newcommand{\\Bold}[1]{\\mathbf{#1}}-\\frac{\\sin\\left({\\phi}\\right) \\sin\\left({t}\\right) \\sinh\\left({\\rho}\\right)}{\\cosh\\left({\\rho}\\right)} \\frac{\\partial}{\\partial {t} } + \\cos\\left({t}\\right) \\sin\\left({\\phi}\\right) \\frac{\\partial}{\\partial {\\rho} } + \\frac{\\cos\\left({\\phi}\\right) \\cos\\left({t}\\right) \\cosh\\left({\\rho}\\right)}{\\sinh\\left({\\rho}\\right)} \\frac{\\partial}{\\partial {\\phi} }</script></html>"
      ],
      "text/plain": [
       "-sin(phi)*sin(t)*sinh(rho)/cosh(rho) d/dt + cos(t)*sin(phi) d/drho + cos(phi)*cos(t)*cosh(rho)/sinh(rho) d/dphi"
      ]
     },
     "execution_count": 53,
     "metadata": {},
     "output_type": "execute_result"
    }
   ],
   "source": [
    "kvf1_ads.display()"
   ]
  },
  {
   "cell_type": "code",
   "execution_count": 55,
   "metadata": {},
   "outputs": [],
   "source": [
    "kvf1_ads_grad = christoffels(kvf1_ads)"
   ]
  },
  {
   "cell_type": "code",
   "execution_count": 56,
   "metadata": {},
   "outputs": [
    {
     "data": {
      "text/html": [
       "<html><script type=\"math/tex; mode=display\">\\newcommand{\\Bold}[1]{\\mathbf{#1}}-\\sin\\left({\\phi}\\right) \\sin\\left({t}\\right) \\frac{\\partial}{\\partial {t} }\\otimes \\mathrm{d} {\\rho} -\\frac{\\cos\\left({\\phi}\\right) \\sin\\left({t}\\right) \\sinh\\left({\\rho}\\right)}{\\cosh\\left({\\rho}\\right)} \\frac{\\partial}{\\partial {t} }\\otimes \\mathrm{d} {\\phi} -\\cosh\\left({\\rho}\\right)^{2} \\sin\\left({\\phi}\\right) \\sin\\left({t}\\right) \\frac{\\partial}{\\partial {\\rho} }\\otimes \\mathrm{d} {t} -\\cos\\left({\\phi}\\right) \\cos\\left({t}\\right) \\sinh\\left({\\rho}\\right)^{2} \\frac{\\partial}{\\partial {\\rho} }\\otimes \\mathrm{d} {\\phi} -\\frac{\\cos\\left({\\phi}\\right) \\cosh\\left({\\rho}\\right) \\sin\\left({t}\\right)}{\\sinh\\left({\\rho}\\right)} \\frac{\\partial}{\\partial {\\phi} }\\otimes \\mathrm{d} {t} + \\cos\\left({\\phi}\\right) \\cos\\left({t}\\right) \\frac{\\partial}{\\partial {\\phi} }\\otimes \\mathrm{d} {\\rho}</script></html>"
      ],
      "text/plain": [
       "-sin(phi)*sin(t) d/dt*drho - cos(phi)*sin(t)*sinh(rho)/cosh(rho) d/dt*dphi - cosh(rho)^2*sin(phi)*sin(t) d/drho*dt - cos(phi)*cos(t)*sinh(rho)^2 d/drho*dphi - cos(phi)*cosh(rho)*sin(t)/sinh(rho) d/dphi*dt + cos(phi)*cos(t) d/dphi*drho"
      ]
     },
     "execution_count": 56,
     "metadata": {},
     "output_type": "execute_result"
    }
   ],
   "source": [
    "kvf1_ads_grad.display()"
   ]
  },
  {
   "cell_type": "code",
   "execution_count": 60,
   "metadata": {},
   "outputs": [
    {
     "data": {
      "text/html": [
       "<html><script type=\"math/tex; mode=display\">\\newcommand{\\Bold}[1]{\\mathbf{#1}}\\left(1, 1\\right)</script></html>"
      ],
      "text/plain": [
       "(1, 1)"
      ]
     },
     "execution_count": 60,
     "metadata": {},
     "output_type": "execute_result"
    }
   ],
   "source": [
    "kvf1_ads_grad.tensor_type()"
   ]
  },
  {
   "cell_type": "markdown",
   "metadata": {},
   "source": [
    "### Covariant Derivative of Vector Field"
   ]
  },
  {
   "cell_type": "code",
   "execution_count": 61,
   "metadata": {},
   "outputs": [],
   "source": [
    "kvform1_ads_grad = christoffels(kvform1_ads)"
   ]
  },
  {
   "cell_type": "code",
   "execution_count": 62,
   "metadata": {},
   "outputs": [
    {
     "data": {
      "text/html": [
       "<html><script type=\"math/tex; mode=display\">\\newcommand{\\Bold}[1]{\\mathbf{#1}}l^{2} \\cosh\\left({\\rho}\\right)^{2} \\sin\\left({\\phi}\\right) \\sin\\left({t}\\right) \\mathrm{d} {t}\\otimes \\mathrm{d} {\\rho} + l^{2} \\cos\\left({\\phi}\\right) \\cosh\\left({\\rho}\\right) \\sin\\left({t}\\right) \\sinh\\left({\\rho}\\right) \\mathrm{d} {t}\\otimes \\mathrm{d} {\\phi} -l^{2} \\cosh\\left({\\rho}\\right)^{2} \\sin\\left({\\phi}\\right) \\sin\\left({t}\\right) \\mathrm{d} {\\rho}\\otimes \\mathrm{d} {t} -l^{2} \\cos\\left({\\phi}\\right) \\cos\\left({t}\\right) \\sinh\\left({\\rho}\\right)^{2} \\mathrm{d} {\\rho}\\otimes \\mathrm{d} {\\phi} -l^{2} \\cos\\left({\\phi}\\right) \\cosh\\left({\\rho}\\right) \\sin\\left({t}\\right) \\sinh\\left({\\rho}\\right) \\mathrm{d} {\\phi}\\otimes \\mathrm{d} {t} + l^{2} \\cos\\left({\\phi}\\right) \\cos\\left({t}\\right) \\sinh\\left({\\rho}\\right)^{2} \\mathrm{d} {\\phi}\\otimes \\mathrm{d} {\\rho}</script></html>"
      ],
      "text/plain": [
       "l^2*cosh(rho)^2*sin(phi)*sin(t) dt*drho + l^2*cos(phi)*cosh(rho)*sin(t)*sinh(rho) dt*dphi - l^2*cosh(rho)^2*sin(phi)*sin(t) drho*dt - l^2*cos(phi)*cos(t)*sinh(rho)^2 drho*dphi - l^2*cos(phi)*cosh(rho)*sin(t)*sinh(rho) dphi*dt + l^2*cos(phi)*cos(t)*sinh(rho)^2 dphi*drho"
      ]
     },
     "execution_count": 62,
     "metadata": {},
     "output_type": "execute_result"
    }
   ],
   "source": [
    "kvform1_ads_grad.display()"
   ]
  },
  {
   "cell_type": "markdown",
   "metadata": {},
   "source": [
    "### Symmetrize to Obtain Killing Form"
   ]
  },
  {
   "cell_type": "code",
   "execution_count": 64,
   "metadata": {},
   "outputs": [],
   "source": [
    "killing_form1 = kvform1_ads_grad.symmetrize()"
   ]
  },
  {
   "cell_type": "markdown",
   "metadata": {},
   "source": [
    "### Hence Proved!"
   ]
  },
  {
   "cell_type": "code",
   "execution_count": 65,
   "metadata": {},
   "outputs": [
    {
     "data": {
      "text/html": [
       "<html><script type=\"math/tex; mode=display\">\\newcommand{\\Bold}[1]{\\mathbf{#1}}0</script></html>"
      ],
      "text/plain": [
       "0"
      ]
     },
     "execution_count": 65,
     "metadata": {},
     "output_type": "execute_result"
    }
   ],
   "source": [
    "killing_form1.display()"
   ]
  },
  {
   "cell_type": "markdown",
   "metadata": {},
   "source": [
    "# Killing Form Function Definition"
   ]
  },
  {
   "cell_type": "code",
   "execution_count": 117,
   "metadata": {},
   "outputs": [],
   "source": [
    "def find_killing_form(field, metric):\n",
    "    '''\n",
    "    Calculates and returns the symmetrized derivative of vector_field with respect to\n",
    "    the given metric.\n",
    "    \n",
    "    If $ v^a $ is the vector field, the Killing form $ B_{ab} $ is given by:\n",
    "    \n",
    "    $$ B_{ab} = \\nabla_a v_b + \\nabla_b v_a $$\n",
    "    \n",
    "    If the Killing form is identically zero then the vector field is a killing vector field.\n",
    "    \n",
    "    Params:\n",
    "    \n",
    "        field: the vector field or 1-form whose Killing Form is to be calculated\n",
    "        \n",
    "        metric: the metric with respect to which the covariant derivative is calculated\n",
    "    '''\n",
    "    \n",
    "    field_type = field.tensor_type()\n",
    "\n",
    "    # check that vector_field is either a 1-form or a vector field\n",
    "    if field_type != (1,0) and field_type != (0,1):\n",
    "        raise ValueError(\"vector_field must be a tensor field of type (1,0) or type (0,1)\")\n",
    "        \n",
    "    logging.info('%s is of type %s', field, field_type)\n",
    "    \n",
    "    metric_type = metric.tensor_type()\n",
    "\n",
    "    if metric_type != (0,2):\n",
    "        raise ValueError(\"metric must be a tensor field of type (0,2)\")\n",
    "\n",
    "    # if the argument is a vector field, use the metric to convert it into a 1-form\n",
    "    if field_type == (1,0):\n",
    "        logging.info(\"converting vector field into one-form\")\n",
    "        one_form = field.down(metric)\n",
    "    else:\n",
    "        one_form = field\n",
    "    \n",
    "    # fine the connection for the given metric\n",
    "    logging.info(\"finding connection for given metric\")\n",
    "    nabla = metric.connection()\n",
    "    \n",
    "    # take the gradient of the one form and then symmetrize to obtain the Killing form\n",
    "    logging.info(\"finding killing form for one-form using connection\")\n",
    "    killing_form = nabla(one_form).symmetrize()\n",
    "    \n",
    "    return killing_form"
   ]
  },
  {
   "cell_type": "code",
   "execution_count": 118,
   "metadata": {},
   "outputs": [
    {
     "data": {
      "text/html": [
       "<html><script type=\"math/tex; mode=display\">\\newcommand{\\Bold}[1]{\\mathbf{#1}}0</script></html>"
      ],
      "text/plain": [
       "0"
      ]
     },
     "execution_count": 118,
     "metadata": {},
     "output_type": "execute_result"
    }
   ],
   "source": [
    "kform1 = find_killing_form(kvform1_ads,g)\n",
    "kform1.display()"
   ]
  },
  {
   "cell_type": "code",
   "execution_count": 119,
   "metadata": {},
   "outputs": [],
   "source": [
    "kform2 = find_killing_form(kvf1_ads, g)"
   ]
  },
  {
   "cell_type": "code",
   "execution_count": 120,
   "metadata": {},
   "outputs": [
    {
     "data": {
      "text/html": [
       "<html><script type=\"math/tex; mode=display\">\\newcommand{\\Bold}[1]{\\mathbf{#1}}0</script></html>"
      ],
      "text/plain": [
       "0"
      ]
     },
     "execution_count": 120,
     "metadata": {},
     "output_type": "execute_result"
    }
   ],
   "source": [
    "kform2.display()"
   ]
  },
  {
   "cell_type": "markdown",
   "metadata": {},
   "source": [
    "# Sandbox"
   ]
  },
  {
   "cell_type": "code",
   "execution_count": 66,
   "metadata": {},
   "outputs": [
    {
     "data": {
      "text/html": [
       "<html><script type=\"math/tex; mode=display\">\\newcommand{\\Bold}[1]{\\mathbf{#1}}M1</script></html>"
      ],
      "text/plain": [
       "4-dimensional differentiable manifold M1"
      ]
     },
     "execution_count": 66,
     "metadata": {},
     "output_type": "execute_result"
    }
   ],
   "source": [
    "M1 = Manifold(4,'M1')\n",
    "M1"
   ]
  },
  {
   "cell_type": "code",
   "execution_count": 67,
   "metadata": {},
   "outputs": [
    {
     "data": {
      "text/html": [
       "<html><script type=\"math/tex; mode=display\">\\newcommand{\\Bold}[1]{\\mathbf{#1}}\\verb|<class|\\phantom{\\verb!x!}\\verb|'sage.manifolds.differentiable.manifold.DifferentiableManifold_with_category'>|</script></html>"
      ],
      "text/plain": [
       "<class 'sage.manifolds.differentiable.manifold.DifferentiableManifold_with_category'>"
      ]
     },
     "execution_count": 67,
     "metadata": {},
     "output_type": "execute_result"
    }
   ],
   "source": [
    "type(M1)"
   ]
  },
  {
   "cell_type": "code",
   "execution_count": 71,
   "metadata": {},
   "outputs": [
    {
     "data": {
      "text/html": [
       "<html><script type=\"math/tex; mode=display\">\\newcommand{\\Bold}[1]{\\mathbf{#1}}\\verb|<class|\\phantom{\\verb!x!}\\verb|'sage.manifolds.differentiable.manifold.DifferentiableManifold_with_category'>|</script></html>"
      ],
      "text/plain": [
       "<class 'sage.manifolds.differentiable.manifold.DifferentiableManifold_with_category'>"
      ]
     },
     "execution_count": 71,
     "metadata": {},
     "output_type": "execute_result"
    }
   ],
   "source": [
    "M1.parent()"
   ]
  },
  {
   "cell_type": "code",
   "execution_count": 72,
   "metadata": {},
   "outputs": [],
   "source": [
    "M1.open_subset?"
   ]
  },
  {
   "cell_type": "code",
   "execution_count": 73,
   "metadata": {},
   "outputs": [],
   "source": [
    "v = M1.vector_field('v')"
   ]
  },
  {
   "cell_type": "code",
   "execution_count": 75,
   "metadata": {},
   "outputs": [
    {
     "data": {
      "text/html": [
       "<html><script type=\"math/tex; mode=display\">\\newcommand{\\Bold}[1]{\\mathbf{#1}}\\left(1, 0\\right)</script></html>"
      ],
      "text/plain": [
       "(1, 0)"
      ]
     },
     "execution_count": 75,
     "metadata": {},
     "output_type": "execute_result"
    }
   ],
   "source": [
    "v.tensor_type()"
   ]
  },
  {
   "cell_type": "code",
   "execution_count": 98,
   "metadata": {},
   "outputs": [
    {
     "name": "stdout",
     "output_type": "stream",
     "text": [
      "Vector field v on the 4-dimensional differentiable manifold M1\n"
     ]
    }
   ],
   "source": [
    "print(v)"
   ]
  },
  {
   "cell_type": "code",
   "execution_count": 76,
   "metadata": {},
   "outputs": [
    {
     "data": {
      "text/html": [
       "<html><script type=\"math/tex; mode=display\">\\newcommand{\\Bold}[1]{\\mathbf{#1}}\\verb|<type|\\phantom{\\verb!x!}\\verb|'tuple'>|</script></html>"
      ],
      "text/plain": [
       "<type 'tuple'>"
      ]
     },
     "execution_count": 76,
     "metadata": {},
     "output_type": "execute_result"
    }
   ],
   "source": [
    "type(_75)"
   ]
  },
  {
   "cell_type": "code",
   "execution_count": 84,
   "metadata": {},
   "outputs": [
    {
     "data": {
      "text/html": [
       "<html><script type=\"math/tex; mode=display\">\\newcommand{\\Bold}[1]{\\mathbf{#1}}g1</script></html>"
      ],
      "text/plain": [
       "Riemannian metric g1 on the 4-dimensional differentiable manifold M1"
      ]
     },
     "execution_count": 84,
     "metadata": {},
     "output_type": "execute_result"
    }
   ],
   "source": [
    "g1 = M1.metric('g1')\n",
    "g1"
   ]
  },
  {
   "cell_type": "code",
   "execution_count": 85,
   "metadata": {},
   "outputs": [
    {
     "data": {
      "text/html": [
       "<html><script type=\"math/tex; mode=display\">\\newcommand{\\Bold}[1]{\\mathbf{#1}}\\left(0, 2\\right)</script></html>"
      ],
      "text/plain": [
       "(0, 2)"
      ]
     },
     "execution_count": 85,
     "metadata": {},
     "output_type": "execute_result"
    }
   ],
   "source": [
    "g1.tensor_type()"
   ]
  },
  {
   "cell_type": "code",
   "execution_count": 92,
   "metadata": {},
   "outputs": [
    {
     "name": "stdout",
     "output_type": "stream",
     "text": [
      "symmetry: (0, 1); no antisymmetry\n"
     ]
    }
   ],
   "source": [
    "g1.symmetries()"
   ]
  },
  {
   "cell_type": "code",
   "execution_count": 93,
   "metadata": {},
   "outputs": [],
   "source": [
    "g1.symmetries?"
   ]
  },
  {
   "cell_type": "code",
   "execution_count": 108,
   "metadata": {},
   "outputs": [],
   "source": [
    "def find_killing_form(field, metric):\n",
    "    '''\n",
    "    Calculates and returns the symmetrized derivative of vector_field with respect to\n",
    "    the given metric.\n",
    "    \n",
    "    If $ v^a $ is the vector field, the Killing form $ B_{ab} $ is given by:\n",
    "    \n",
    "    $$ B_{ab} = \\nabla_a v_b + \\nabla_b v_a $$\n",
    "    \n",
    "    If the Killing form is identically zero then the vector field is a killing vector field.\n",
    "    \n",
    "    Params:\n",
    "    \n",
    "        field: the vector field or 1-form whose Killing Form is to be calculated\n",
    "        \n",
    "        metric: the metric with respect to which the covariant derivative is calculated\n",
    "    '''\n",
    "    \n",
    "    field_type = field.tensor_type()\n",
    "\n",
    "    # check that vector_field is either a 1-form or a vector field\n",
    "    if field_type != (1,0) and field_type != (0,1):\n",
    "        raise ValueError(\"vector_field must be a tensor field of type (1,0) or type (0,1)\")\n",
    "        \n",
    "    logging.info('%s is of type %s', field, field_type)\n",
    "    \n",
    "    metric_type = metric.tensor_type()\n",
    "\n",
    "    if metric_type != (0,2):\n",
    "        raise ValueError(\"metric must be a tensor field of type (0,2)\")\n",
    "\n",
    "    # if the argument is a vector field, use the metric to convert it into a 1-form\n",
    "    if field_type == (1,0):\n",
    "        logging.info(\"converting vector field into one-form\")\n",
    "        one_form = field.down(metric)\n",
    "    else:\n",
    "        one_form = field\n",
    "    \n",
    "    # fine the connection for the given metric\n",
    "    logging.info(\"finding connection for given metric\")\n",
    "    nabla = metric.connection()\n",
    "    \n",
    "    # take the gradient of the one form and then symmetrize to obtain the Killing form\n",
    "    logging.info(\"finding killing form for one-form using connection\")\n",
    "    killing_form = nabla(one_form).symmetrize()\n",
    "    \n",
    "    return killing_form\n",
    "        \n",
    "    "
   ]
  },
  {
   "cell_type": "code",
   "execution_count": 110,
   "metadata": {},
   "outputs": [],
   "source": [
    "kform = find_killing_form(kvf1_ads, g)"
   ]
  },
  {
   "cell_type": "code",
   "execution_count": 111,
   "metadata": {},
   "outputs": [
    {
     "data": {
      "text/html": [
       "<html><script type=\"math/tex; mode=display\">\\newcommand{\\Bold}[1]{\\mathbf{#1}}\\mbox{Field of symmetric bilinear forms on the Open subset M_0 of the 3-dimensional differentiable manifold M}</script></html>"
      ],
      "text/plain": [
       "Field of symmetric bilinear forms on the Open subset M_0 of the 3-dimensional differentiable manifold M"
      ]
     },
     "execution_count": 111,
     "metadata": {},
     "output_type": "execute_result"
    }
   ],
   "source": [
    "kform"
   ]
  },
  {
   "cell_type": "code",
   "execution_count": 112,
   "metadata": {},
   "outputs": [
    {
     "data": {
      "text/html": [
       "<html><script type=\"math/tex; mode=display\">\\newcommand{\\Bold}[1]{\\mathbf{#1}}0</script></html>"
      ],
      "text/plain": [
       "0"
      ]
     },
     "execution_count": 112,
     "metadata": {},
     "output_type": "execute_result"
    }
   ],
   "source": [
    "kform.display()"
   ]
  },
  {
   "cell_type": "code",
   "execution_count": 103,
   "metadata": {},
   "outputs": [
    {
     "name": "stdout",
     "output_type": "stream",
     "text": [
      "(1, 0)\n"
     ]
    }
   ],
   "source": [
    "ft = kvf1_ads.tensor_type()\n",
    "print(ft)"
   ]
  },
  {
   "cell_type": "code",
   "execution_count": 104,
   "metadata": {},
   "outputs": [
    {
     "data": {
      "text/html": [
       "<html><script type=\"math/tex; mode=display\">\\newcommand{\\Bold}[1]{\\mathbf{#1}}\\verb|<type|\\phantom{\\verb!x!}\\verb|'tuple'>|</script></html>"
      ],
      "text/plain": [
       "<type 'tuple'>"
      ]
     },
     "execution_count": 104,
     "metadata": {},
     "output_type": "execute_result"
    }
   ],
   "source": [
    "type(ft)"
   ]
  },
  {
   "cell_type": "code",
   "execution_count": 105,
   "metadata": {},
   "outputs": [
    {
     "data": {
      "text/html": [
       "<html><script type=\"math/tex; mode=display\">\\newcommand{\\Bold}[1]{\\mathbf{#1}}\\mathrm{True}</script></html>"
      ],
      "text/plain": [
       "True"
      ]
     },
     "execution_count": 105,
     "metadata": {},
     "output_type": "execute_result"
    }
   ],
   "source": [
    "ft == (1,0)"
   ]
  },
  {
   "cell_type": "code",
   "execution_count": 106,
   "metadata": {},
   "outputs": [
    {
     "data": {
      "text/html": [
       "<html><script type=\"math/tex; mode=display\">\\newcommand{\\Bold}[1]{\\mathbf{#1}}\\mathrm{True}</script></html>"
      ],
      "text/plain": [
       "True"
      ]
     },
     "execution_count": 106,
     "metadata": {},
     "output_type": "execute_result"
    }
   ],
   "source": [
    "ft != (0,1)"
   ]
  },
  {
   "cell_type": "code",
   "execution_count": 107,
   "metadata": {},
   "outputs": [
    {
     "data": {
      "text/html": [
       "<html><script type=\"math/tex; mode=display\">\\newcommand{\\Bold}[1]{\\mathbf{#1}}\\mathrm{False}</script></html>"
      ],
      "text/plain": [
       "False"
      ]
     },
     "execution_count": 107,
     "metadata": {},
     "output_type": "execute_result"
    }
   ],
   "source": [
    "ft != (1,0)"
   ]
  },
  {
   "cell_type": "code",
   "execution_count": null,
   "metadata": {},
   "outputs": [],
   "source": []
  }
 ],
 "metadata": {
  "kernelspec": {
   "display_name": "SageMath 8.0",
   "language": "",
   "name": "sagemath"
  },
  "language_info": {
   "codemirror_mode": {
    "name": "ipython",
    "version": 2
   },
   "file_extension": ".py",
   "mimetype": "text/x-python",
   "name": "python",
   "nbconvert_exporter": "python",
   "pygments_lexer": "ipython2",
   "version": "2.7.13"
  },
  "latex_envs": {
   "bibliofile": "biblio.bib",
   "cite_by": "apalike",
   "current_citInitial": 1,
   "eqLabelWithNumbers": true,
   "eqNumInitial": 0
  },
  "toc": {
   "nav_menu": {},
   "number_sections": true,
   "sideBar": false,
   "skip_h1_title": false,
   "toc_cell": true,
   "toc_position": {
    "height": "238px",
    "left": "702.383px",
    "right": "343.617px",
    "top": "32.5667px",
    "width": "230px"
   },
   "toc_section_display": "block",
   "toc_window_display": true
  },
  "varInspector": {
   "cols": {
    "lenName": 16,
    "lenType": 16,
    "lenVar": 40
   },
   "kernels_config": {
    "python": {
     "delete_cmd_postfix": "",
     "delete_cmd_prefix": "del ",
     "library": "var_list.py",
     "varRefreshCmd": "print(var_dic_list())"
    },
    "r": {
     "delete_cmd_postfix": ") ",
     "delete_cmd_prefix": "rm(",
     "library": "var_list.r",
     "varRefreshCmd": "cat(var_dic_list()) "
    }
   },
   "types_to_exclude": [
    "module",
    "function",
    "builtin_function_or_method",
    "instance",
    "_Feature"
   ],
   "window_display": false
  }
 },
 "nbformat": 4,
 "nbformat_minor": 2
}
