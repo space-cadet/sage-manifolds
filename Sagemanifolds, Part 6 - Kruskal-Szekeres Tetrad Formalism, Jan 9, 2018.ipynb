{
 "cells": [
  {
   "cell_type": "markdown",
   "metadata": {
    "toc": true
   },
   "source": [
    "<h1>Table of Contents<span class=\"tocSkip\"></span></h1>\n",
    "<div class=\"toc\" style=\"margin-top: 1em;\"><ul class=\"toc-item\"><li><span><a href=\"#Kruskal-Szekeres-Co-ordinates\" data-toc-modified-id=\"Kruskal-Szekeres-Co-ordinates-1\"><span class=\"toc-item-num\">1&nbsp;&nbsp;</span>Kruskal-Szekeres Co-ordinates</a></span><ul class=\"toc-item\"><li><span><a href=\"#Schwarzschild-Horizon-Radius-Definition\" data-toc-modified-id=\"Schwarzschild-Horizon-Radius-Definition-1.1\"><span class=\"toc-item-num\">1.1&nbsp;&nbsp;</span>Schwarzschild Horizon Radius Definition</a></span></li><li><span><a href=\"#Implicit-Function-Definition\" data-toc-modified-id=\"Implicit-Function-Definition-1.2\"><span class=\"toc-item-num\">1.2&nbsp;&nbsp;</span>Implicit Function Definition</a></span></li><li><span><a href=\"#Define-Metric\" data-toc-modified-id=\"Define-Metric-1.3\"><span class=\"toc-item-num\">1.3&nbsp;&nbsp;</span>Define Metric</a></span></li><li><span><a href=\"#Christoffel-Coefficients\" data-toc-modified-id=\"Christoffel-Coefficients-1.4\"><span class=\"toc-item-num\">1.4&nbsp;&nbsp;</span>Christoffel Coefficients</a></span></li><li><span><a href=\"#Default-Tetrad\" data-toc-modified-id=\"Default-Tetrad-1.5\"><span class=\"toc-item-num\">1.5&nbsp;&nbsp;</span>Default Tetrad</a></span></li><li><span><a href=\"#Kruskal-Szekres-Tetrad\" data-toc-modified-id=\"Kruskal-Szekres-Tetrad-1.6\"><span class=\"toc-item-num\">1.6&nbsp;&nbsp;</span>Kruskal-Szekres Tetrad</a></span><ul class=\"toc-item\"><li><span><a href=\"#Co-Tetrad\" data-toc-modified-id=\"Co-Tetrad-1.6.1\"><span class=\"toc-item-num\">1.6.1&nbsp;&nbsp;</span>Co-Tetrad</a></span></li><li><span><a href=\"#Partial-Derivatives\" data-toc-modified-id=\"Partial-Derivatives-1.6.2\"><span class=\"toc-item-num\">1.6.2&nbsp;&nbsp;</span>Partial Derivatives</a></span><ul class=\"toc-item\"><li><span><a href=\"#Wrong-way-to-take-partial-derivative\" data-toc-modified-id=\"Wrong-way-to-take-partial-derivative-1.6.2.1\"><span class=\"toc-item-num\">1.6.2.1&nbsp;&nbsp;</span>Wrong way to take partial derivative</a></span></li><li><span><a href=\"#Right-way-to-take-partial-derivative\" data-toc-modified-id=\"Right-way-to-take-partial-derivative-1.6.2.2\"><span class=\"toc-item-num\">1.6.2.2&nbsp;&nbsp;</span>Right way to take partial derivative</a></span></li><li><span><a href=\"#Using-Indices-to-Specify-Partial-Derivative\" data-toc-modified-id=\"Using-Indices-to-Specify-Partial-Derivative-1.6.2.3\"><span class=\"toc-item-num\">1.6.2.3&nbsp;&nbsp;</span>Using Indices to Specify Partial Derivative</a></span></li></ul></li><li><span><a href=\"#Covariant-Derivative\" data-toc-modified-id=\"Covariant-Derivative-1.6.3\"><span class=\"toc-item-num\">1.6.3&nbsp;&nbsp;</span>Covariant Derivative</a></span></li></ul></li><li><span><a href=\"#Connection-1-form\" data-toc-modified-id=\"Connection-1-form-1.7\"><span class=\"toc-item-num\">1.7&nbsp;&nbsp;</span>Connection 1-form</a></span></li><li><span><a href=\"#Structure-Coefficients\" data-toc-modified-id=\"Structure-Coefficients-1.8\"><span class=\"toc-item-num\">1.8&nbsp;&nbsp;</span>Structure Coefficients</a></span></li></ul></li><li><span><a href=\"#Bibliography\" data-toc-modified-id=\"Bibliography-2\"><span class=\"toc-item-num\">2&nbsp;&nbsp;</span>Bibliography</a></span></li><li><span><a href=\"#Sandbox\" data-toc-modified-id=\"Sandbox-3\"><span class=\"toc-item-num\">3&nbsp;&nbsp;</span>Sandbox</a></span><ul class=\"toc-item\"><li><span><a href=\"#Implicit-Differentiation\" data-toc-modified-id=\"Implicit-Differentiation-3.1\"><span class=\"toc-item-num\">3.1&nbsp;&nbsp;</span>Implicit Differentiation</a></span></li></ul></li></ul></div>"
   ]
  },
  {
   "cell_type": "markdown",
   "metadata": {},
   "source": [
    "Mathjax custom macros\n",
    "\n",
    "$ \\newcommand{\\opexpect}[3]{\\langle #1 \\vert #2 \\vert #3 \\rangle} $\n",
    "$ \\newcommand{\\rarrow}{\\rightarrow} $\n",
    "$ \\newcommand{\\bra}{\\langle} $\n",
    "$ \\newcommand{\\ket}{\\rangle} $\n",
    "\n",
    "$ \\newcommand{\\up}{\\uparrow} $\n",
    "$ \\newcommand{\\down}{\\downarrow} $\n",
    "\n",
    "$ \\newcommand{\\mb}[1]{\\mathbf{#1}} $\n",
    "$ \\newcommand{\\mc}[1]{\\mathcal{#1}} $\n",
    "$ \\newcommand{\\mbb}[1]{\\mathbb{#1}} $\n",
    "$ \\newcommand{\\mf}[1]{\\mathfrak{#1}} $\n",
    "\n",
    "$ \\newcommand{\\vect}[1]{\\boldsymbol{\\mathrm{#1}}} $\n",
    "$ \\newcommand{\\expect}[1]{\\langle #1\\rangle} $\n",
    "\n",
    "$ \\newcommand{\\innerp}[2]{\\langle #1 \\vert #2 \\rangle} $\n",
    "$ \\newcommand{\\fullbra}[1]{\\langle #1 \\vert} $\n",
    "$ \\newcommand{\\fullket}[1]{\\vert #1 \\rangle} $\n",
    "$ \\newcommand{\\supersc}[1]{^{\\text{#1}}} $\n",
    "$ \\newcommand{\\subsc}[1]{_{\\text{#1}}} $\n",
    "$ \\newcommand{\\sltwoc}{SL(2,\\mathbb{C})} $\n",
    "$ \\newcommand{\\sltwoz}{SL(2,\\mathbb{Z})} $\n",
    "\n",
    "$ \\newcommand{\\utilde}[1]{\\underset{\\sim}{#1}} $"
   ]
  },
  {
   "cell_type": "code",
   "execution_count": 1,
   "metadata": {},
   "outputs": [],
   "source": [
    "%display latex"
   ]
  },
  {
   "cell_type": "markdown",
   "metadata": {},
   "source": [
    "# Kruskal-Szekeres Co-ordinates"
   ]
  },
  {
   "cell_type": "code",
   "execution_count": 2,
   "metadata": {},
   "outputs": [
    {
     "data": {
      "text/html": [
       "<html><script type=\"math/tex; mode=display\">\\newcommand{\\Bold}[1]{\\mathbf{#1}}\\left(v, w, \\theta, \\phi\\right)</script></html>"
      ],
      "text/plain": [
       "(v, w, theta, phi)"
      ]
     },
     "execution_count": 2,
     "metadata": {},
     "output_type": "execute_result"
    }
   ],
   "source": [
    "var('v w theta phi')"
   ]
  },
  {
   "cell_type": "code",
   "execution_count": 3,
   "metadata": {},
   "outputs": [
    {
     "data": {
      "text/html": [
       "<html><script type=\"math/tex; mode=display\">\\newcommand{\\Bold}[1]{\\mathbf{#1}}M</script></html>"
      ],
      "text/plain": [
       "4-dimensional differentiable manifold M"
      ]
     },
     "execution_count": 3,
     "metadata": {},
     "output_type": "execute_result"
    }
   ],
   "source": [
    "M = Manifold(4,'M')\n",
    "M"
   ]
  },
  {
   "cell_type": "code",
   "execution_count": 4,
   "metadata": {},
   "outputs": [
    {
     "data": {
      "text/html": [
       "<html><script type=\"math/tex; mode=display\">\\newcommand{\\Bold}[1]{\\mathbf{#1}}\\left(M,(v, w, {\\theta}, {\\phi})\\right)</script></html>"
      ],
      "text/plain": [
       "Chart (M, (v, w, theta, phi))"
      ]
     },
     "execution_count": 4,
     "metadata": {},
     "output_type": "execute_result"
    }
   ],
   "source": [
    "chart.<v,w,theta,phi> = M.chart(r'v:[-oo,+oo] w:[-oo,+oo] theta:[0,pi]:\\theta phi:[0,2*pi):\\phi')\n",
    "chart"
   ]
  },
  {
   "cell_type": "code",
   "execution_count": 5,
   "metadata": {},
   "outputs": [
    {
     "data": {
      "text/html": [
       "<html><script type=\"math/tex; mode=display\">\\newcommand{\\Bold}[1]{\\mathbf{#1}}e</script></html>"
      ],
      "text/plain": [
       "Vector field e on the 4-dimensional differentiable manifold M"
      ]
     },
     "execution_count": 5,
     "metadata": {},
     "output_type": "execute_result"
    }
   ],
   "source": [
    "e = M.vector_field('e')\n",
    "e"
   ]
  },
  {
   "cell_type": "code",
   "execution_count": 6,
   "metadata": {},
   "outputs": [
    {
     "data": {
      "text/html": [
       "<html><script type=\"math/tex; mode=display\">\\newcommand{\\Bold}[1]{\\mathbf{#1}}\\left(M, \\left(\\frac{\\partial}{\\partial v },\\frac{\\partial}{\\partial w },\\frac{\\partial}{\\partial {\\theta} },\\frac{\\partial}{\\partial {\\phi} }\\right)\\right)</script></html>"
      ],
      "text/plain": [
       "Coordinate frame (M, (d/dv,d/dw,d/dtheta,d/dphi))"
      ]
     },
     "execution_count": 6,
     "metadata": {},
     "output_type": "execute_result"
    }
   ],
   "source": [
    "M.default_frame()"
   ]
  },
  {
   "cell_type": "code",
   "execution_count": 7,
   "metadata": {},
   "outputs": [
    {
     "data": {
      "text/html": [
       "<html><script type=\"math/tex; mode=display\">\\newcommand{\\Bold}[1]{\\mathbf{#1}}g</script></html>"
      ],
      "text/plain": [
       "Lorentzian metric g on the 4-dimensional differentiable manifold M"
      ]
     },
     "execution_count": 7,
     "metadata": {},
     "output_type": "execute_result"
    }
   ],
   "source": [
    "g = M.lorentzian_metric('g')\n",
    "g"
   ]
  },
  {
   "cell_type": "markdown",
   "metadata": {
    "heading_collapsed": true
   },
   "source": [
    "## Schwarzschild Horizon Radius Definition"
   ]
  },
  {
   "cell_type": "code",
   "execution_count": 8,
   "metadata": {
    "hidden": true
   },
   "outputs": [
    {
     "data": {
      "text/html": [
       "<html><script type=\"math/tex; mode=display\">\\newcommand{\\Bold}[1]{\\mathbf{#1}}r_{s}</script></html>"
      ],
      "text/plain": [
       "r_s"
      ]
     },
     "execution_count": 8,
     "metadata": {},
     "output_type": "execute_result"
    }
   ],
   "source": [
    "var('r_s')"
   ]
  },
  {
   "cell_type": "markdown",
   "metadata": {
    "heading_collapsed": true
   },
   "source": [
    "## Implicit Function Definition\n",
    "\n",
    "Tortoise coordinate $r$ is defined implicitly in terms of null co-ordinates $v, w$:\n",
    "$$ -2 v w = \\left(\\frac{r}{r_s} - 1\\right) e^{r/r_s} $$"
   ]
  },
  {
   "cell_type": "code",
   "execution_count": 9,
   "metadata": {
    "hidden": true
   },
   "outputs": [
    {
     "data": {
      "text/html": [
       "<html><script type=\"math/tex; mode=display\">\\newcommand{\\Bold}[1]{\\mathbf{#1}}r</script></html>"
      ],
      "text/plain": [
       "r"
      ]
     },
     "execution_count": 9,
     "metadata": {},
     "output_type": "execute_result"
    }
   ],
   "source": [
    "var('r')"
   ]
  },
  {
   "cell_type": "code",
   "execution_count": 10,
   "metadata": {
    "hidden": true
   },
   "outputs": [],
   "source": [
    "r = function('r')(v,w)"
   ]
  },
  {
   "cell_type": "code",
   "execution_count": 11,
   "metadata": {
    "hidden": true
   },
   "outputs": [
    {
     "data": {
      "text/html": [
       "<html><script type=\"math/tex; mode=display\">\\newcommand{\\Bold}[1]{\\mathbf{#1}}-2 \\, v w = {\\left(\\frac{r\\left(v, w\\right)}{r_{s}} - 1\\right)} e^{\\left(\\frac{r\\left(v, w\\right)}{r_{s}}\\right)}</script></html>"
      ],
      "text/plain": [
       "-2*v*w == (r(v, w)/r_s - 1)*e^(r(v, w)/r_s)"
      ]
     },
     "execution_count": 11,
     "metadata": {},
     "output_type": "execute_result"
    }
   ],
   "source": [
    "-2*v*w == (r/r_s - 1)*exp(r/r_s)"
   ]
  },
  {
   "cell_type": "code",
   "execution_count": 16,
   "metadata": {
    "hidden": true
   },
   "outputs": [],
   "source": [
    "A = function('A')(v,w)"
   ]
  },
  {
   "cell_type": "code",
   "execution_count": 13,
   "metadata": {
    "hidden": true
   },
   "outputs": [],
   "source": [
    "A = -(4*(r_s**3)/r)*exp(-r/r_s)"
   ]
  },
  {
   "cell_type": "markdown",
   "metadata": {
    "hidden": true
   },
   "source": [
    "We leave $A$ undefined, because following arXiv:1004.5487v2 we want to obtain the Christoffel symbols in terms of derivatives of $A$ and $r$ w.r.t. $v$ and $w$. If we define $A$ to be a function of $r$, then the resulting expressions will all be expressed in terms of derivatives of $r$ and will be very complicated in some cases"
   ]
  },
  {
   "cell_type": "code",
   "execution_count": 17,
   "metadata": {
    "hidden": true
   },
   "outputs": [
    {
     "data": {
      "text/html": [
       "<html><script type=\"math/tex; mode=display\">\\newcommand{\\Bold}[1]{\\mathbf{#1}}A\\left(v, w\\right)</script></html>"
      ],
      "text/plain": [
       "A(v, w)"
      ]
     },
     "execution_count": 17,
     "metadata": {},
     "output_type": "execute_result"
    }
   ],
   "source": [
    "A"
   ]
  },
  {
   "cell_type": "code",
   "execution_count": 18,
   "metadata": {
    "hidden": true
   },
   "outputs": [
    {
     "data": {
      "text/html": [
       "<html><script type=\"math/tex; mode=display\">\\newcommand{\\Bold}[1]{\\mathbf{#1}}\\frac{\\partial}{\\partial v}A\\left(v, w\\right)</script></html>"
      ],
      "text/plain": [
       "diff(A(v, w), v)"
      ]
     },
     "execution_count": 18,
     "metadata": {},
     "output_type": "execute_result"
    }
   ],
   "source": [
    "diff(A,v)"
   ]
  },
  {
   "cell_type": "markdown",
   "metadata": {
    "heading_collapsed": true
   },
   "source": [
    "## Define Metric"
   ]
  },
  {
   "cell_type": "code",
   "execution_count": 19,
   "metadata": {
    "hidden": true
   },
   "outputs": [],
   "source": [
    "g[0,1] = -A"
   ]
  },
  {
   "cell_type": "code",
   "execution_count": 20,
   "metadata": {
    "hidden": true
   },
   "outputs": [],
   "source": [
    "g[2,2] = r**2\n",
    "g[3,3] = r**2 * sin(theta)"
   ]
  },
  {
   "cell_type": "code",
   "execution_count": 21,
   "metadata": {
    "hidden": true
   },
   "outputs": [
    {
     "data": {
      "text/html": [
       "<html><script type=\"math/tex; mode=display\">\\newcommand{\\Bold}[1]{\\mathbf{#1}}g = -A\\left(v, w\\right) \\mathrm{d} v\\otimes \\mathrm{d} w -A\\left(v, w\\right) \\mathrm{d} w\\otimes \\mathrm{d} v + r\\left(v, w\\right)^{2} \\mathrm{d} {\\theta}\\otimes \\mathrm{d} {\\theta} + r\\left(v, w\\right)^{2} \\sin\\left({\\theta}\\right) \\mathrm{d} {\\phi}\\otimes \\mathrm{d} {\\phi}</script></html>"
      ],
      "text/plain": [
       "g = -A(v, w) dv*dw - A(v, w) dw*dv + r(v, w)^2 dtheta*dtheta + r(v, w)^2*sin(theta) dphi*dphi"
      ]
     },
     "execution_count": 21,
     "metadata": {},
     "output_type": "execute_result"
    }
   ],
   "source": [
    "g.display()"
   ]
  },
  {
   "cell_type": "markdown",
   "metadata": {},
   "source": [
    "## Christoffel Coefficients"
   ]
  },
  {
   "cell_type": "code",
   "execution_count": 22,
   "metadata": {},
   "outputs": [
    {
     "data": {
      "text/html": [
       "<html><script type=\"math/tex; mode=display\">\\newcommand{\\Bold}[1]{\\mathbf{#1}}\\verb|3-indices|\\phantom{\\verb!x!}\\verb|components|\\phantom{\\verb!x!}\\verb|w.r.t.|\\phantom{\\verb!x!}\\verb|Coordinate|\\phantom{\\verb!x!}\\verb|frame|\\phantom{\\verb!x!}\\verb|(M,|\\phantom{\\verb!x!}\\verb|(d/dv,d/dw,d/dtheta,d/dphi)),|\\phantom{\\verb!x!}\\verb|with|\\phantom{\\verb!x!}\\verb|symmetry|\\phantom{\\verb!x!}\\verb|on|\\phantom{\\verb!x!}\\verb|the|\\phantom{\\verb!x!}\\verb|index|\\phantom{\\verb!x!}\\verb|positions|\\phantom{\\verb!x!}\\verb|(1,|\\phantom{\\verb!x!}\\verb|2)|</script></html>"
      ],
      "text/plain": [
       "3-indices components w.r.t. Coordinate frame (M, (d/dv,d/dw,d/dtheta,d/dphi)), with symmetry on the index positions (1, 2)"
      ]
     },
     "execution_count": 22,
     "metadata": {},
     "output_type": "execute_result"
    }
   ],
   "source": [
    "christoffels = g.christoffel_symbols()\n",
    "christoffels"
   ]
  },
  {
   "cell_type": "code",
   "execution_count": 23,
   "metadata": {},
   "outputs": [
    {
     "data": {
      "text/html": [
       "<html><script type=\"math/tex; mode=display\">\\newcommand{\\Bold}[1]{\\mathbf{#1}}\\begin{array}{lcl} \\Gamma_{\\,0\\,0\\,0}^{\\phantom{\\, 0}\\phantom{\\, 0}\\phantom{\\, 0}} & = & \\frac{\\frac{\\partial\\,A}{\\partial v}}{A\\left(v, w\\right)} \\\\ \\Gamma_{\\,0\\,2\\,2}^{\\phantom{\\, 0}\\phantom{\\, 2}\\phantom{\\, 2}} & = & \\frac{r\\left(v, w\\right) \\frac{\\partial\\,r}{\\partial w}}{A\\left(v, w\\right)} \\\\ \\Gamma_{\\,0\\,3\\,3}^{\\phantom{\\, 0}\\phantom{\\, 3}\\phantom{\\, 3}} & = & \\frac{r\\left(v, w\\right) \\sin\\left({\\theta}\\right) \\frac{\\partial\\,r}{\\partial w}}{A\\left(v, w\\right)} \\\\ \\Gamma_{\\,1\\,1\\,1}^{\\phantom{\\, 1}\\phantom{\\, 1}\\phantom{\\, 1}} & = & \\frac{\\frac{\\partial\\,A}{\\partial w}}{A\\left(v, w\\right)} \\\\ \\Gamma_{\\,1\\,2\\,2}^{\\phantom{\\, 1}\\phantom{\\, 2}\\phantom{\\, 2}} & = & \\frac{r\\left(v, w\\right) \\frac{\\partial\\,r}{\\partial v}}{A\\left(v, w\\right)} \\\\ \\Gamma_{\\,1\\,3\\,3}^{\\phantom{\\, 1}\\phantom{\\, 3}\\phantom{\\, 3}} & = & \\frac{r\\left(v, w\\right) \\sin\\left({\\theta}\\right) \\frac{\\partial\\,r}{\\partial v}}{A\\left(v, w\\right)} \\\\ \\Gamma_{\\,2\\,0\\,2}^{\\phantom{\\, 2}\\phantom{\\, 0}\\phantom{\\, 2}} & = & \\frac{\\frac{\\partial\\,r}{\\partial v}}{r\\left(v, w\\right)} \\\\ \\Gamma_{\\,2\\,1\\,2}^{\\phantom{\\, 2}\\phantom{\\, 1}\\phantom{\\, 2}} & = & \\frac{\\frac{\\partial\\,r}{\\partial w}}{r\\left(v, w\\right)} \\\\ \\Gamma_{\\,2\\,2\\,0}^{\\phantom{\\, 2}\\phantom{\\, 2}\\phantom{\\, 0}} & = & \\frac{\\frac{\\partial\\,r}{\\partial v}}{r\\left(v, w\\right)} \\\\ \\Gamma_{\\,2\\,2\\,1}^{\\phantom{\\, 2}\\phantom{\\, 2}\\phantom{\\, 1}} & = & \\frac{\\frac{\\partial\\,r}{\\partial w}}{r\\left(v, w\\right)} \\\\ \\Gamma_{\\,2\\,3\\,3}^{\\phantom{\\, 2}\\phantom{\\, 3}\\phantom{\\, 3}} & = & -\\frac{1}{2} \\, \\cos\\left({\\theta}\\right) \\\\ \\Gamma_{\\,3\\,0\\,3}^{\\phantom{\\, 3}\\phantom{\\, 0}\\phantom{\\, 3}} & = & \\frac{\\frac{\\partial\\,r}{\\partial v}}{r\\left(v, w\\right)} \\\\ \\Gamma_{\\,3\\,1\\,3}^{\\phantom{\\, 3}\\phantom{\\, 1}\\phantom{\\, 3}} & = & \\frac{\\frac{\\partial\\,r}{\\partial w}}{r\\left(v, w\\right)} \\\\ \\Gamma_{\\,3\\,2\\,3}^{\\phantom{\\, 3}\\phantom{\\, 2}\\phantom{\\, 3}} & = & \\frac{\\cos\\left({\\theta}\\right)}{2 \\, \\sin\\left({\\theta}\\right)} \\\\ \\Gamma_{\\,3\\,3\\,0}^{\\phantom{\\, 3}\\phantom{\\, 3}\\phantom{\\, 0}} & = & \\frac{\\frac{\\partial\\,r}{\\partial v}}{r\\left(v, w\\right)} \\\\ \\Gamma_{\\,3\\,3\\,1}^{\\phantom{\\, 3}\\phantom{\\, 3}\\phantom{\\, 1}} & = & \\frac{\\frac{\\partial\\,r}{\\partial w}}{r\\left(v, w\\right)} \\\\ \\Gamma_{\\,3\\,3\\,2}^{\\phantom{\\, 3}\\phantom{\\, 3}\\phantom{\\, 2}} & = & \\frac{\\cos\\left({\\theta}\\right)}{2 \\, \\sin\\left({\\theta}\\right)} \\end{array}</script></html>"
      ],
      "text/plain": [
       "\\Gamma_000 = d(A)/dv/A(v, w) \n",
       "\\Gamma_022 = r(v, w)*d(r)/dw/A(v, w) \n",
       "\\Gamma_033 = r(v, w)*sin(theta)*d(r)/dw/A(v, w) \n",
       "\\Gamma_111 = d(A)/dw/A(v, w) \n",
       "\\Gamma_122 = r(v, w)*d(r)/dv/A(v, w) \n",
       "\\Gamma_133 = r(v, w)*sin(theta)*d(r)/dv/A(v, w) \n",
       "\\Gamma_202 = d(r)/dv/r(v, w) \n",
       "\\Gamma_212 = d(r)/dw/r(v, w) \n",
       "\\Gamma_220 = d(r)/dv/r(v, w) \n",
       "\\Gamma_221 = d(r)/dw/r(v, w) \n",
       "\\Gamma_233 = -1/2*cos(theta) \n",
       "\\Gamma_303 = d(r)/dv/r(v, w) \n",
       "\\Gamma_313 = d(r)/dw/r(v, w) \n",
       "\\Gamma_323 = 1/2*cos(theta)/sin(theta) \n",
       "\\Gamma_330 = d(r)/dv/r(v, w) \n",
       "\\Gamma_331 = d(r)/dw/r(v, w) \n",
       "\\Gamma_332 = 1/2*cos(theta)/sin(theta) "
      ]
     },
     "execution_count": 23,
     "metadata": {},
     "output_type": "execute_result"
    }
   ],
   "source": [
    "christoffels.display('\\Gamma')"
   ]
  },
  {
   "cell_type": "code",
   "execution_count": 24,
   "metadata": {},
   "outputs": [],
   "source": [
    "levicivita = g.connection()"
   ]
  },
  {
   "cell_type": "code",
   "execution_count": 25,
   "metadata": {},
   "outputs": [
    {
     "data": {
      "text/html": [
       "<html><script type=\"math/tex; mode=display\">\\newcommand{\\Bold}[1]{\\mathbf{#1}}\\begin{array}{lcl} \\Gamma_{ \\phantom{\\, v} \\, v \\, v }^{ \\, v \\phantom{\\, v} \\phantom{\\, v} } & = & \\frac{\\frac{\\partial\\,A}{\\partial v}}{A\\left(v, w\\right)} \\\\ \\Gamma_{ \\phantom{\\, v} \\, {\\theta} \\, {\\theta} }^{ \\, v \\phantom{\\, {\\theta}} \\phantom{\\, {\\theta}} } & = & \\frac{r\\left(v, w\\right) \\frac{\\partial\\,r}{\\partial w}}{A\\left(v, w\\right)} \\\\ \\Gamma_{ \\phantom{\\, v} \\, {\\phi} \\, {\\phi} }^{ \\, v \\phantom{\\, {\\phi}} \\phantom{\\, {\\phi}} } & = & \\frac{r\\left(v, w\\right) \\sin\\left({\\theta}\\right) \\frac{\\partial\\,r}{\\partial w}}{A\\left(v, w\\right)} \\\\ \\Gamma_{ \\phantom{\\, w} \\, w \\, w }^{ \\, w \\phantom{\\, w} \\phantom{\\, w} } & = & \\frac{\\frac{\\partial\\,A}{\\partial w}}{A\\left(v, w\\right)} \\\\ \\Gamma_{ \\phantom{\\, w} \\, {\\theta} \\, {\\theta} }^{ \\, w \\phantom{\\, {\\theta}} \\phantom{\\, {\\theta}} } & = & \\frac{r\\left(v, w\\right) \\frac{\\partial\\,r}{\\partial v}}{A\\left(v, w\\right)} \\\\ \\Gamma_{ \\phantom{\\, w} \\, {\\phi} \\, {\\phi} }^{ \\, w \\phantom{\\, {\\phi}} \\phantom{\\, {\\phi}} } & = & \\frac{r\\left(v, w\\right) \\sin\\left({\\theta}\\right) \\frac{\\partial\\,r}{\\partial v}}{A\\left(v, w\\right)} \\\\ \\Gamma_{ \\phantom{\\, {\\theta}} \\, v \\, {\\theta} }^{ \\, {\\theta} \\phantom{\\, v} \\phantom{\\, {\\theta}} } & = & \\frac{\\frac{\\partial\\,r}{\\partial v}}{r\\left(v, w\\right)} \\\\ \\Gamma_{ \\phantom{\\, {\\theta}} \\, w \\, {\\theta} }^{ \\, {\\theta} \\phantom{\\, w} \\phantom{\\, {\\theta}} } & = & \\frac{\\frac{\\partial\\,r}{\\partial w}}{r\\left(v, w\\right)} \\\\ \\Gamma_{ \\phantom{\\, {\\theta}} \\, {\\theta} \\, v }^{ \\, {\\theta} \\phantom{\\, {\\theta}} \\phantom{\\, v} } & = & \\frac{\\frac{\\partial\\,r}{\\partial v}}{r\\left(v, w\\right)} \\\\ \\Gamma_{ \\phantom{\\, {\\theta}} \\, {\\theta} \\, w }^{ \\, {\\theta} \\phantom{\\, {\\theta}} \\phantom{\\, w} } & = & \\frac{\\frac{\\partial\\,r}{\\partial w}}{r\\left(v, w\\right)} \\\\ \\Gamma_{ \\phantom{\\, {\\theta}} \\, {\\phi} \\, {\\phi} }^{ \\, {\\theta} \\phantom{\\, {\\phi}} \\phantom{\\, {\\phi}} } & = & -\\frac{1}{2} \\, \\cos\\left({\\theta}\\right) \\\\ \\Gamma_{ \\phantom{\\, {\\phi}} \\, v \\, {\\phi} }^{ \\, {\\phi} \\phantom{\\, v} \\phantom{\\, {\\phi}} } & = & \\frac{\\frac{\\partial\\,r}{\\partial v}}{r\\left(v, w\\right)} \\\\ \\Gamma_{ \\phantom{\\, {\\phi}} \\, w \\, {\\phi} }^{ \\, {\\phi} \\phantom{\\, w} \\phantom{\\, {\\phi}} } & = & \\frac{\\frac{\\partial\\,r}{\\partial w}}{r\\left(v, w\\right)} \\\\ \\Gamma_{ \\phantom{\\, {\\phi}} \\, {\\theta} \\, {\\phi} }^{ \\, {\\phi} \\phantom{\\, {\\theta}} \\phantom{\\, {\\phi}} } & = & \\frac{\\cos\\left({\\theta}\\right)}{2 \\, \\sin\\left({\\theta}\\right)} \\\\ \\Gamma_{ \\phantom{\\, {\\phi}} \\, {\\phi} \\, v }^{ \\, {\\phi} \\phantom{\\, {\\phi}} \\phantom{\\, v} } & = & \\frac{\\frac{\\partial\\,r}{\\partial v}}{r\\left(v, w\\right)} \\\\ \\Gamma_{ \\phantom{\\, {\\phi}} \\, {\\phi} \\, w }^{ \\, {\\phi} \\phantom{\\, {\\phi}} \\phantom{\\, w} } & = & \\frac{\\frac{\\partial\\,r}{\\partial w}}{r\\left(v, w\\right)} \\\\ \\Gamma_{ \\phantom{\\, {\\phi}} \\, {\\phi} \\, {\\theta} }^{ \\, {\\phi} \\phantom{\\, {\\phi}} \\phantom{\\, {\\theta}} } & = & \\frac{\\cos\\left({\\theta}\\right)}{2 \\, \\sin\\left({\\theta}\\right)} \\end{array}</script></html>"
      ],
      "text/plain": [
       "Gam^v_v,v = d(A)/dv/A(v, w) \n",
       "Gam^v_theta,theta = r(v, w)*d(r)/dw/A(v, w) \n",
       "Gam^v_phi,phi = r(v, w)*sin(theta)*d(r)/dw/A(v, w) \n",
       "Gam^w_w,w = d(A)/dw/A(v, w) \n",
       "Gam^w_theta,theta = r(v, w)*d(r)/dv/A(v, w) \n",
       "Gam^w_phi,phi = r(v, w)*sin(theta)*d(r)/dv/A(v, w) \n",
       "Gam^theta_v,theta = d(r)/dv/r(v, w) \n",
       "Gam^theta_w,theta = d(r)/dw/r(v, w) \n",
       "Gam^theta_theta,v = d(r)/dv/r(v, w) \n",
       "Gam^theta_theta,w = d(r)/dw/r(v, w) \n",
       "Gam^theta_phi,phi = -1/2*cos(theta) \n",
       "Gam^phi_v,phi = d(r)/dv/r(v, w) \n",
       "Gam^phi_w,phi = d(r)/dw/r(v, w) \n",
       "Gam^phi_theta,phi = 1/2*cos(theta)/sin(theta) \n",
       "Gam^phi_phi,v = d(r)/dv/r(v, w) \n",
       "Gam^phi_phi,w = d(r)/dw/r(v, w) \n",
       "Gam^phi_phi,theta = 1/2*cos(theta)/sin(theta) "
      ]
     },
     "execution_count": 25,
     "metadata": {},
     "output_type": "execute_result"
    }
   ],
   "source": [
    "levicivita.display()"
   ]
  },
  {
   "cell_type": "markdown",
   "metadata": {},
   "source": [
    "Barring factors of $1/2$, the above coefficients are the same as that in eqn(3) of [Kaul](#cite-Kaul2010Schwarzschild)"
   ]
  },
  {
   "cell_type": "code",
   "execution_count": 26,
   "metadata": {},
   "outputs": [
    {
     "data": {
      "text/html": [
       "<html><script type=\"math/tex; mode=display\">\\newcommand{\\Bold}[1]{\\mathbf{#1}}\\nabla_{g}</script></html>"
      ],
      "text/plain": [
       "Levi-Civita connection nabla_g associated with the Lorentzian metric g on the 4-dimensional differentiable manifold M"
      ]
     },
     "execution_count": 26,
     "metadata": {},
     "output_type": "execute_result"
    }
   ],
   "source": [
    "simplify(levicivita)"
   ]
  },
  {
   "cell_type": "code",
   "execution_count": 27,
   "metadata": {},
   "outputs": [
    {
     "data": {
      "text/html": [
       "<html><script type=\"math/tex; mode=display\">\\newcommand{\\Bold}[1]{\\mathbf{#1}}\\begin{array}{lcl} \\Gamma_{ \\phantom{\\, v} \\, v \\, v }^{ \\, v \\phantom{\\, v} \\phantom{\\, v} } & = & \\frac{\\frac{\\partial\\,A}{\\partial v}}{A\\left(v, w\\right)} \\\\ \\Gamma_{ \\phantom{\\, v} \\, {\\theta} \\, {\\theta} }^{ \\, v \\phantom{\\, {\\theta}} \\phantom{\\, {\\theta}} } & = & \\frac{r\\left(v, w\\right) \\frac{\\partial\\,r}{\\partial w}}{A\\left(v, w\\right)} \\\\ \\Gamma_{ \\phantom{\\, v} \\, {\\phi} \\, {\\phi} }^{ \\, v \\phantom{\\, {\\phi}} \\phantom{\\, {\\phi}} } & = & \\frac{r\\left(v, w\\right) \\sin\\left({\\theta}\\right) \\frac{\\partial\\,r}{\\partial w}}{A\\left(v, w\\right)} \\\\ \\Gamma_{ \\phantom{\\, w} \\, w \\, w }^{ \\, w \\phantom{\\, w} \\phantom{\\, w} } & = & \\frac{\\frac{\\partial\\,A}{\\partial w}}{A\\left(v, w\\right)} \\\\ \\Gamma_{ \\phantom{\\, w} \\, {\\theta} \\, {\\theta} }^{ \\, w \\phantom{\\, {\\theta}} \\phantom{\\, {\\theta}} } & = & \\frac{r\\left(v, w\\right) \\frac{\\partial\\,r}{\\partial v}}{A\\left(v, w\\right)} \\\\ \\Gamma_{ \\phantom{\\, w} \\, {\\phi} \\, {\\phi} }^{ \\, w \\phantom{\\, {\\phi}} \\phantom{\\, {\\phi}} } & = & \\frac{r\\left(v, w\\right) \\sin\\left({\\theta}\\right) \\frac{\\partial\\,r}{\\partial v}}{A\\left(v, w\\right)} \\\\ \\Gamma_{ \\phantom{\\, {\\theta}} \\, v \\, {\\theta} }^{ \\, {\\theta} \\phantom{\\, v} \\phantom{\\, {\\theta}} } & = & \\frac{\\frac{\\partial\\,r}{\\partial v}}{r\\left(v, w\\right)} \\\\ \\Gamma_{ \\phantom{\\, {\\theta}} \\, w \\, {\\theta} }^{ \\, {\\theta} \\phantom{\\, w} \\phantom{\\, {\\theta}} } & = & \\frac{\\frac{\\partial\\,r}{\\partial w}}{r\\left(v, w\\right)} \\\\ \\Gamma_{ \\phantom{\\, {\\theta}} \\, {\\theta} \\, v }^{ \\, {\\theta} \\phantom{\\, {\\theta}} \\phantom{\\, v} } & = & \\frac{\\frac{\\partial\\,r}{\\partial v}}{r\\left(v, w\\right)} \\\\ \\Gamma_{ \\phantom{\\, {\\theta}} \\, {\\theta} \\, w }^{ \\, {\\theta} \\phantom{\\, {\\theta}} \\phantom{\\, w} } & = & \\frac{\\frac{\\partial\\,r}{\\partial w}}{r\\left(v, w\\right)} \\\\ \\Gamma_{ \\phantom{\\, {\\theta}} \\, {\\phi} \\, {\\phi} }^{ \\, {\\theta} \\phantom{\\, {\\phi}} \\phantom{\\, {\\phi}} } & = & -\\frac{1}{2} \\, \\cos\\left({\\theta}\\right) \\\\ \\Gamma_{ \\phantom{\\, {\\phi}} \\, v \\, {\\phi} }^{ \\, {\\phi} \\phantom{\\, v} \\phantom{\\, {\\phi}} } & = & \\frac{\\frac{\\partial\\,r}{\\partial v}}{r\\left(v, w\\right)} \\\\ \\Gamma_{ \\phantom{\\, {\\phi}} \\, w \\, {\\phi} }^{ \\, {\\phi} \\phantom{\\, w} \\phantom{\\, {\\phi}} } & = & \\frac{\\frac{\\partial\\,r}{\\partial w}}{r\\left(v, w\\right)} \\\\ \\Gamma_{ \\phantom{\\, {\\phi}} \\, {\\theta} \\, {\\phi} }^{ \\, {\\phi} \\phantom{\\, {\\theta}} \\phantom{\\, {\\phi}} } & = & \\frac{\\cos\\left({\\theta}\\right)}{2 \\, \\sin\\left({\\theta}\\right)} \\\\ \\Gamma_{ \\phantom{\\, {\\phi}} \\, {\\phi} \\, v }^{ \\, {\\phi} \\phantom{\\, {\\phi}} \\phantom{\\, v} } & = & \\frac{\\frac{\\partial\\,r}{\\partial v}}{r\\left(v, w\\right)} \\\\ \\Gamma_{ \\phantom{\\, {\\phi}} \\, {\\phi} \\, w }^{ \\, {\\phi} \\phantom{\\, {\\phi}} \\phantom{\\, w} } & = & \\frac{\\frac{\\partial\\,r}{\\partial w}}{r\\left(v, w\\right)} \\\\ \\Gamma_{ \\phantom{\\, {\\phi}} \\, {\\phi} \\, {\\theta} }^{ \\, {\\phi} \\phantom{\\, {\\phi}} \\phantom{\\, {\\theta}} } & = & \\frac{\\cos\\left({\\theta}\\right)}{2 \\, \\sin\\left({\\theta}\\right)} \\end{array}</script></html>"
      ],
      "text/plain": [
       "Gam^v_v,v = d(A)/dv/A(v, w) \n",
       "Gam^v_theta,theta = r(v, w)*d(r)/dw/A(v, w) \n",
       "Gam^v_phi,phi = r(v, w)*sin(theta)*d(r)/dw/A(v, w) \n",
       "Gam^w_w,w = d(A)/dw/A(v, w) \n",
       "Gam^w_theta,theta = r(v, w)*d(r)/dv/A(v, w) \n",
       "Gam^w_phi,phi = r(v, w)*sin(theta)*d(r)/dv/A(v, w) \n",
       "Gam^theta_v,theta = d(r)/dv/r(v, w) \n",
       "Gam^theta_w,theta = d(r)/dw/r(v, w) \n",
       "Gam^theta_theta,v = d(r)/dv/r(v, w) \n",
       "Gam^theta_theta,w = d(r)/dw/r(v, w) \n",
       "Gam^theta_phi,phi = -1/2*cos(theta) \n",
       "Gam^phi_v,phi = d(r)/dv/r(v, w) \n",
       "Gam^phi_w,phi = d(r)/dw/r(v, w) \n",
       "Gam^phi_theta,phi = 1/2*cos(theta)/sin(theta) \n",
       "Gam^phi_phi,v = d(r)/dv/r(v, w) \n",
       "Gam^phi_phi,w = d(r)/dw/r(v, w) \n",
       "Gam^phi_phi,theta = 1/2*cos(theta)/sin(theta) "
      ]
     },
     "execution_count": 27,
     "metadata": {},
     "output_type": "execute_result"
    }
   ],
   "source": [
    "simplify(levicivita.display())"
   ]
  },
  {
   "cell_type": "markdown",
   "metadata": {},
   "source": [
    "## Default Tetrad"
   ]
  },
  {
   "cell_type": "code",
   "execution_count": 38,
   "metadata": {},
   "outputs": [
    {
     "data": {
      "text/html": [
       "<html><script type=\"math/tex; mode=display\">\\newcommand{\\Bold}[1]{\\mathbf{#1}}\\left(M, \\left(\\frac{\\partial}{\\partial v },\\frac{\\partial}{\\partial w },\\frac{\\partial}{\\partial {\\theta} },\\frac{\\partial}{\\partial {\\phi} }\\right)\\right)</script></html>"
      ],
      "text/plain": [
       "Coordinate frame (M, (d/dv,d/dw,d/dtheta,d/dphi))"
      ]
     },
     "execution_count": 38,
     "metadata": {},
     "output_type": "execute_result"
    }
   ],
   "source": [
    "def_frame = chart.frame()\n",
    "def_frame"
   ]
  },
  {
   "cell_type": "code",
   "execution_count": 42,
   "metadata": {},
   "outputs": [
    {
     "data": {
      "text/html": [
       "<html><script type=\"math/tex; mode=display\">\\newcommand{\\Bold}[1]{\\mathbf{#1}}\\verb|<class|\\phantom{\\verb!x!}\\verb|'sage.manifolds.differentiable.vectorframe.CoordFrame'>|</script></html>"
      ],
      "text/plain": [
       "<class 'sage.manifolds.differentiable.vectorframe.CoordFrame'>"
      ]
     },
     "execution_count": 42,
     "metadata": {},
     "output_type": "execute_result"
    }
   ],
   "source": [
    "type(def_frame)"
   ]
  },
  {
   "cell_type": "code",
   "execution_count": 43,
   "metadata": {},
   "outputs": [],
   "source": [
    "v1 = def_frame[0]"
   ]
  },
  {
   "cell_type": "code",
   "execution_count": 45,
   "metadata": {},
   "outputs": [
    {
     "data": {
      "text/html": [
       "<html><script type=\"math/tex; mode=display\">\\newcommand{\\Bold}[1]{\\mathbf{#1}}\\left(\\verb|<class|\\phantom{\\verb!x!}\\verb|'sage.manifolds.differentiable.vectorfield_module.VectorFieldFreeModule_with_category.element_class'>|, \\frac{\\partial}{\\partial v }\\right)</script></html>"
      ],
      "text/plain": [
       "(<class 'sage.manifolds.differentiable.vectorfield_module.VectorFieldFreeModule_with_category.element_class'>,\n",
       " Vector field d/dv on the 4-dimensional differentiable manifold M)"
      ]
     },
     "execution_count": 45,
     "metadata": {},
     "output_type": "execute_result"
    }
   ],
   "source": [
    "type(v1), v1"
   ]
  },
  {
   "cell_type": "code",
   "execution_count": 49,
   "metadata": {},
   "outputs": [
    {
     "data": {
      "text/html": [
       "<html><script type=\"math/tex; mode=display\">\\newcommand{\\Bold}[1]{\\mathbf{#1}}\\begin{array}{lcl} \\frac{\\partial}{\\partial v } _{ \\phantom{\\, v} }^{ \\, v } & = & 1 \\end{array}</script></html>"
      ],
      "text/plain": [
       "d/dv^v = 1 "
      ]
     },
     "execution_count": 49,
     "metadata": {},
     "output_type": "execute_result"
    }
   ],
   "source": [
    "v1.display_comp()"
   ]
  },
  {
   "cell_type": "code",
   "execution_count": 51,
   "metadata": {},
   "outputs": [
    {
     "data": {
      "text/html": [
       "<html><script type=\"math/tex; mode=display\">\\newcommand{\\Bold}[1]{\\mathbf{#1}}0</script></html>"
      ],
      "text/plain": [
       "0"
      ]
     },
     "execution_count": 51,
     "metadata": {},
     "output_type": "execute_result"
    }
   ],
   "source": [
    "g(def_frame[0],def_frame[0]).expr()"
   ]
  },
  {
   "cell_type": "code",
   "execution_count": 52,
   "metadata": {},
   "outputs": [
    {
     "name": "stdout",
     "output_type": "stream",
     "text": [
      "0 -A(v, w) 0 0 \n",
      "-A(v, w) 0 0 0 \n",
      "0 0 r(v, w)^2 0 \n",
      "0 0 0 r(v, w)^2*sin(theta) \n"
     ]
    }
   ],
   "source": [
    "for i in M.irange():\n",
    "    for j in M.irange():\n",
    "        print(g(def_frame[i], def_frame[j]).expr()),\n",
    "    print(\"\")"
   ]
  },
  {
   "cell_type": "code",
   "execution_count": 134,
   "metadata": {},
   "outputs": [
    {
     "name": "stdout",
     "output_type": "stream",
     "text": [
      "1 0 0 0 \n",
      "0 1 0 0 \n",
      "0 0 1 0 \n",
      "0 0 0 1 \n"
     ]
    }
   ],
   "source": [
    "for i in M.irange():\n",
    "    for j in M.irange():\n",
    "        print(def_frame[i][j]),\n",
    "    print(\"\")"
   ]
  },
  {
   "cell_type": "markdown",
   "metadata": {},
   "source": [
    "## Kruskal-Szekres Tetrad"
   ]
  },
  {
   "cell_type": "code",
   "execution_count": 55,
   "metadata": {},
   "outputs": [],
   "source": [
    "alpha = function(r'\\alpha')(v,theta,phi)"
   ]
  },
  {
   "cell_type": "code",
   "execution_count": 56,
   "metadata": {},
   "outputs": [
    {
     "data": {
      "text/html": [
       "<html><script type=\"math/tex; mode=display\">\\newcommand{\\Bold}[1]{\\mathbf{#1}}{\\rm \\alpha}\\left(v, {\\theta}, {\\phi}\\right)</script></html>"
      ],
      "text/plain": [
       "\\alpha(v, theta, phi)"
      ]
     },
     "execution_count": 56,
     "metadata": {},
     "output_type": "execute_result"
    }
   ],
   "source": [
    "alpha"
   ]
  },
  {
   "cell_type": "code",
   "execution_count": 57,
   "metadata": {},
   "outputs": [],
   "source": [
    "def_to_ks = M.automorphism_field()"
   ]
  },
  {
   "cell_type": "code",
   "execution_count": 111,
   "metadata": {},
   "outputs": [],
   "source": [
    "def_to_ks[0,0], def_to_ks[0,1] = sqrt(A/2)*w/alpha, sqrt(A/2)*w/alpha\n",
    "def_to_ks[1,0], def_to_ks[1,1] = sqrt(A/2)*alpha/w, -sqrt(A/2)*alpha/w\n",
    "def_to_ks[2,2], def_to_ks[3,3] = r, r*sin(theta)"
   ]
  },
  {
   "cell_type": "code",
   "execution_count": 112,
   "metadata": {},
   "outputs": [
    {
     "data": {
      "text/html": [
       "<html><script type=\"math/tex; mode=display\">\\newcommand{\\Bold}[1]{\\mathbf{#1}}\\frac{\\sqrt{\\frac{1}{2}} w \\sqrt{A\\left(v, w\\right)}}{{\\rm \\alpha}\\left(v, {\\theta}, {\\phi}\\right)} \\frac{\\partial}{\\partial v }\\otimes \\mathrm{d} v + \\frac{\\sqrt{\\frac{1}{2}} w \\sqrt{A\\left(v, w\\right)}}{{\\rm \\alpha}\\left(v, {\\theta}, {\\phi}\\right)} \\frac{\\partial}{\\partial v }\\otimes \\mathrm{d} w + \\frac{\\sqrt{\\frac{1}{2}} \\sqrt{A\\left(v, w\\right)} {\\rm \\alpha}\\left(v, {\\theta}, {\\phi}\\right)}{w} \\frac{\\partial}{\\partial w }\\otimes \\mathrm{d} v -\\frac{\\sqrt{\\frac{1}{2}} \\sqrt{A\\left(v, w\\right)} {\\rm \\alpha}\\left(v, {\\theta}, {\\phi}\\right)}{w} \\frac{\\partial}{\\partial w }\\otimes \\mathrm{d} w + r\\left(v, w\\right) \\frac{\\partial}{\\partial {\\theta} }\\otimes \\mathrm{d} {\\theta} + r\\left(v, w\\right) \\sin\\left({\\theta}\\right) \\frac{\\partial}{\\partial {\\phi} }\\otimes \\mathrm{d} {\\phi}</script></html>"
      ],
      "text/plain": [
       "sqrt(1/2)*w*sqrt(A(v, w))/\\alpha(v, theta, phi) d/dv*dv + sqrt(1/2)*w*sqrt(A(v, w))/\\alpha(v, theta, phi) d/dv*dw + sqrt(1/2)*sqrt(A(v, w))*\\alpha(v, theta, phi)/w d/dw*dv - sqrt(1/2)*sqrt(A(v, w))*\\alpha(v, theta, phi)/w d/dw*dw + r(v, w) d/dtheta*dtheta + r(v, w)*sin(theta) d/dphi*dphi"
      ]
     },
     "execution_count": 112,
     "metadata": {},
     "output_type": "execute_result"
    }
   ],
   "source": [
    "def_to_ks.display()"
   ]
  },
  {
   "cell_type": "code",
   "execution_count": 113,
   "metadata": {},
   "outputs": [
    {
     "data": {
      "text/html": [
       "<html><script type=\"math/tex; mode=display\">\\newcommand{\\Bold}[1]{\\mathbf{#1}}\\left(\\begin{array}{rrrr}\n",
       "\\frac{\\sqrt{\\frac{1}{2}} w \\sqrt{A\\left(v, w\\right)}}{{\\rm \\alpha}\\left(v, {\\theta}, {\\phi}\\right)} & \\frac{\\sqrt{\\frac{1}{2}} w \\sqrt{A\\left(v, w\\right)}}{{\\rm \\alpha}\\left(v, {\\theta}, {\\phi}\\right)} & 0 & 0 \\\\\n",
       "\\frac{\\sqrt{\\frac{1}{2}} \\sqrt{A\\left(v, w\\right)} {\\rm \\alpha}\\left(v, {\\theta}, {\\phi}\\right)}{w} & -\\frac{\\sqrt{\\frac{1}{2}} \\sqrt{A\\left(v, w\\right)} {\\rm \\alpha}\\left(v, {\\theta}, {\\phi}\\right)}{w} & 0 & 0 \\\\\n",
       "0 & 0 & r\\left(v, w\\right) & 0 \\\\\n",
       "0 & 0 & 0 & r\\left(v, w\\right) \\sin\\left({\\theta}\\right)\n",
       "\\end{array}\\right)</script></html>"
      ],
      "text/plain": [
       "[ sqrt(1/2)*w*sqrt(A(v, w))/\\alpha(v, theta, phi)  sqrt(1/2)*w*sqrt(A(v, w))/\\alpha(v, theta, phi)                                                0                                                0]\n",
       "[ sqrt(1/2)*sqrt(A(v, w))*\\alpha(v, theta, phi)/w -sqrt(1/2)*sqrt(A(v, w))*\\alpha(v, theta, phi)/w                                                0                                                0]\n",
       "[                                               0                                                0                                          r(v, w)                                                0]\n",
       "[                                               0                                                0                                                0                               r(v, w)*sin(theta)]"
      ]
     },
     "execution_count": 113,
     "metadata": {},
     "output_type": "execute_result"
    }
   ],
   "source": [
    "def_to_ks[:]"
   ]
  },
  {
   "cell_type": "code",
   "execution_count": 114,
   "metadata": {},
   "outputs": [],
   "source": [
    "e = def_frame.new_frame(def_to_ks, 'e')"
   ]
  },
  {
   "cell_type": "code",
   "execution_count": 115,
   "metadata": {},
   "outputs": [
    {
     "name": "stdout",
     "output_type": "stream",
     "text": [
      "Vector frame (M, (e_0,e_1,e_2,e_3))\n"
     ]
    }
   ],
   "source": [
    "print(e)"
   ]
  },
  {
   "cell_type": "code",
   "execution_count": 116,
   "metadata": {},
   "outputs": [
    {
     "name": "stdout",
     "output_type": "stream",
     "text": [
      "(Vector field e_0 on the 4-dimensional differentiable manifold M, Vector field e_1 on the 4-dimensional differentiable manifold M, Vector field e_2 on the 4-dimensional differentiable manifold M, Vector field e_3 on the 4-dimensional differentiable manifold M)\n"
     ]
    }
   ],
   "source": [
    "print(e[0],e[1],e[2],e[3])"
   ]
  },
  {
   "cell_type": "code",
   "execution_count": 138,
   "metadata": {},
   "outputs": [
    {
     "data": {
      "text/html": [
       "<html><script type=\"math/tex; mode=display\">\\newcommand{\\Bold}[1]{\\mathbf{#1}}\\frac{\\sqrt{\\frac{1}{2}} w \\sqrt{A\\left(v, w\\right)}}{{\\rm \\alpha}\\left(v, {\\theta}, {\\phi}\\right)}</script></html>"
      ],
      "text/plain": [
       "sqrt(1/2)*w*sqrt(A(v, w))/\\alpha(v, theta, phi)"
      ]
     },
     "execution_count": 138,
     "metadata": {},
     "output_type": "execute_result"
    }
   ],
   "source": [
    "e[0][0]"
   ]
  },
  {
   "cell_type": "code",
   "execution_count": 117,
   "metadata": {},
   "outputs": [
    {
     "data": {
      "text/html": [
       "<html><script type=\"math/tex; mode=display\">\\newcommand{\\Bold}[1]{\\mathbf{#1}}e_0 = \\frac{\\sqrt{\\frac{1}{2}} w \\sqrt{A\\left(v, w\\right)}}{{\\rm \\alpha}\\left(v, {\\theta}, {\\phi}\\right)} \\frac{\\partial}{\\partial v } + \\frac{\\sqrt{\\frac{1}{2}} \\sqrt{A\\left(v, w\\right)} {\\rm \\alpha}\\left(v, {\\theta}, {\\phi}\\right)}{w} \\frac{\\partial}{\\partial w }</script></html>"
      ],
      "text/plain": [
       "e_0 = sqrt(1/2)*w*sqrt(A(v, w))/\\alpha(v, theta, phi) d/dv + sqrt(1/2)*sqrt(A(v, w))*\\alpha(v, theta, phi)/w d/dw"
      ]
     },
     "execution_count": 117,
     "metadata": {},
     "output_type": "execute_result"
    }
   ],
   "source": [
    "e[0].display()"
   ]
  },
  {
   "cell_type": "code",
   "execution_count": 118,
   "metadata": {},
   "outputs": [
    {
     "data": {
      "text/html": [
       "<html><script type=\"math/tex; mode=display\">\\newcommand{\\Bold}[1]{\\mathbf{#1}}\\left(e_1 = \\frac{\\sqrt{\\frac{1}{2}} w \\sqrt{A\\left(v, w\\right)}}{{\\rm \\alpha}\\left(v, {\\theta}, {\\phi}\\right)} \\frac{\\partial}{\\partial v } -\\frac{\\sqrt{\\frac{1}{2}} \\sqrt{A\\left(v, w\\right)} {\\rm \\alpha}\\left(v, {\\theta}, {\\phi}\\right)}{w} \\frac{\\partial}{\\partial w }, e_2 = r\\left(v, w\\right) \\frac{\\partial}{\\partial {\\theta} }, e_3 = r\\left(v, w\\right) \\sin\\left({\\theta}\\right) \\frac{\\partial}{\\partial {\\phi} }\\right)</script></html>"
      ],
      "text/plain": [
       "(e_1 = sqrt(1/2)*w*sqrt(A(v, w))/\\alpha(v, theta, phi) d/dv - sqrt(1/2)*sqrt(A(v, w))*\\alpha(v, theta, phi)/w d/dw,\n",
       " e_2 = r(v, w) d/dtheta,\n",
       " e_3 = r(v, w)*sin(theta) d/dphi)"
      ]
     },
     "execution_count": 118,
     "metadata": {},
     "output_type": "execute_result"
    }
   ],
   "source": [
    "e[1].display(), e[2].display(), e[3].display()"
   ]
  },
  {
   "cell_type": "code",
   "execution_count": 119,
   "metadata": {},
   "outputs": [
    {
     "data": {
      "text/html": [
       "<html><script type=\"math/tex; mode=display\">\\newcommand{\\Bold}[1]{\\mathbf{#1}}\\nabla</script></html>"
      ],
      "text/plain": [
       "Affine connection nabla on the 4-dimensional differentiable manifold M"
      ]
     },
     "execution_count": 119,
     "metadata": {},
     "output_type": "execute_result"
    }
   ],
   "source": [
    "nab = M.affine_connection('nabla', r'\\nabla')\n",
    "nab"
   ]
  },
  {
   "cell_type": "code",
   "execution_count": 120,
   "metadata": {},
   "outputs": [
    {
     "data": {
      "text/html": [
       "<html><script type=\"math/tex; mode=display\">\\newcommand{\\Bold}[1]{\\mathbf{#1}}e_0</script></html>"
      ],
      "text/plain": [
       "Vector field e_0 on the 4-dimensional differentiable manifold M"
      ]
     },
     "execution_count": 120,
     "metadata": {},
     "output_type": "execute_result"
    }
   ],
   "source": [
    "e0 = e[0]\n",
    "e0"
   ]
  },
  {
   "cell_type": "markdown",
   "metadata": {},
   "source": [
    "### Co-Tetrad"
   ]
  },
  {
   "cell_type": "code",
   "execution_count": 121,
   "metadata": {},
   "outputs": [],
   "source": [
    "ef = e.coframe()"
   ]
  },
  {
   "cell_type": "code",
   "execution_count": 122,
   "metadata": {},
   "outputs": [
    {
     "data": {
      "text/html": [
       "<html><script type=\"math/tex; mode=display\">\\newcommand{\\Bold}[1]{\\mathbf{#1}}e^0 = \\frac{\\sqrt{2} \\alpha\\left(v, {\\theta}, {\\phi}\\right)}{2 \\, w \\sqrt{A\\left(v, w\\right)}} \\mathrm{d} v + \\frac{\\sqrt{2} w}{2 \\, \\sqrt{A\\left(v, w\\right)} \\alpha\\left(v, {\\theta}, {\\phi}\\right)} \\mathrm{d} w</script></html>"
      ],
      "text/plain": [
       "e^0 = 1/2*sqrt(2)*alpha(v, theta, phi)/(w*sqrt(A(v, w))) dv + 1/2*sqrt(2)*w/(sqrt(A(v, w))*alpha(v, theta, phi)) dw"
      ]
     },
     "execution_count": 122,
     "metadata": {},
     "output_type": "execute_result"
    }
   ],
   "source": [
    "ef[0].display()"
   ]
  },
  {
   "cell_type": "code",
   "execution_count": 125,
   "metadata": {},
   "outputs": [
    {
     "data": {
      "text/html": [
       "<html><script type=\"math/tex; mode=display\">\\newcommand{\\Bold}[1]{\\mathbf{#1}}\\frac{\\sqrt{2} \\alpha\\left(v, {\\theta}, {\\phi}\\right)}{2 \\, w \\sqrt{A\\left(v, w\\right)}}</script></html>"
      ],
      "text/plain": [
       "1/2*sqrt(2)*alpha(v, theta, phi)/(w*sqrt(A(v, w)))"
      ]
     },
     "execution_count": 125,
     "metadata": {},
     "output_type": "execute_result"
    }
   ],
   "source": [
    "ef[0][0]"
   ]
  },
  {
   "cell_type": "code",
   "execution_count": 123,
   "metadata": {},
   "outputs": [
    {
     "data": {
      "text/html": [
       "<html><script type=\"math/tex; mode=display\">\\newcommand{\\Bold}[1]{\\mathbf{#1}}e^0</script></html>"
      ],
      "text/plain": [
       "1-form e^0 on the 4-dimensional differentiable manifold M"
      ]
     },
     "execution_count": 123,
     "metadata": {},
     "output_type": "execute_result"
    }
   ],
   "source": [
    "ef0 = ef[0]\n",
    "ef0"
   ]
  },
  {
   "cell_type": "code",
   "execution_count": 124,
   "metadata": {},
   "outputs": [
    {
     "data": {
      "text/html": [
       "<html><script type=\"math/tex; mode=display\">\\newcommand{\\Bold}[1]{\\mathbf{#1}}\\mathrm{d}e^0 = \\left( \\frac{\\sqrt{2} w \\alpha\\left(v, {\\theta}, {\\phi}\\right)^{3} \\frac{\\partial\\,A}{\\partial w} + 2 \\, \\sqrt{2} A\\left(v, w\\right) \\alpha\\left(v, {\\theta}, {\\phi}\\right)^{3} - {\\left(\\sqrt{2} \\alpha\\left(v, {\\theta}, {\\phi}\\right) \\frac{\\partial\\,A}{\\partial v} + 2 \\, \\sqrt{2} A\\left(v, w\\right) \\frac{\\partial\\,\\alpha}{\\partial v}\\right)} w^{3}}{4 \\, w^{2} A\\left(v, w\\right)^{\\frac{3}{2}} \\alpha\\left(v, {\\theta}, {\\phi}\\right)^{2}} \\right) \\mathrm{d} v\\wedge \\mathrm{d} w -\\frac{\\sqrt{2} \\frac{\\partial\\,\\alpha}{\\partial {\\theta}}}{2 \\, w \\sqrt{A\\left(v, w\\right)}} \\mathrm{d} v\\wedge \\mathrm{d} {\\theta} -\\frac{\\sqrt{2} \\frac{\\partial\\,\\alpha}{\\partial {\\phi}}}{2 \\, w \\sqrt{A\\left(v, w\\right)}} \\mathrm{d} v\\wedge \\mathrm{d} {\\phi} + \\frac{\\sqrt{2} w \\frac{\\partial\\,\\alpha}{\\partial {\\theta}}}{2 \\, \\sqrt{A\\left(v, w\\right)} \\alpha\\left(v, {\\theta}, {\\phi}\\right)^{2}} \\mathrm{d} w\\wedge \\mathrm{d} {\\theta} + \\frac{\\sqrt{2} w \\frac{\\partial\\,\\alpha}{\\partial {\\phi}}}{2 \\, \\sqrt{A\\left(v, w\\right)} \\alpha\\left(v, {\\theta}, {\\phi}\\right)^{2}} \\mathrm{d} w\\wedge \\mathrm{d} {\\phi}</script></html>"
      ],
      "text/plain": [
       "de^0 = 1/4*(sqrt(2)*w*alpha(v, theta, phi)^3*d(A)/dw + 2*sqrt(2)*A(v, w)*alpha(v, theta, phi)^3 - (sqrt(2)*alpha(v, theta, phi)*d(A)/dv + 2*sqrt(2)*A(v, w)*d(alpha)/dv)*w^3)/(w^2*A(v, w)^(3/2)*alpha(v, theta, phi)^2) dv/\\dw - 1/2*sqrt(2)*d(alpha)/dtheta/(w*sqrt(A(v, w))) dv/\\dtheta - 1/2*sqrt(2)*d(alpha)/dphi/(w*sqrt(A(v, w))) dv/\\dphi + 1/2*sqrt(2)*w*d(alpha)/dtheta/(sqrt(A(v, w))*alpha(v, theta, phi)^2) dw/\\dtheta + 1/2*sqrt(2)*w*d(alpha)/dphi/(sqrt(A(v, w))*alpha(v, theta, phi)^2) dw/\\dphi"
      ]
     },
     "execution_count": 124,
     "metadata": {},
     "output_type": "execute_result"
    }
   ],
   "source": [
    "ef0.exterior_derivative().display()"
   ]
  },
  {
   "cell_type": "markdown",
   "metadata": {},
   "source": [
    "### Partial Derivatives"
   ]
  },
  {
   "cell_type": "markdown",
   "metadata": {},
   "source": [
    "#### Wrong way to take partial derivative"
   ]
  },
  {
   "cell_type": "code",
   "execution_count": 132,
   "metadata": {},
   "outputs": [
    {
     "data": {
      "text/html": [
       "<html><script type=\"math/tex; mode=display\">\\newcommand{\\Bold}[1]{\\mathbf{#1}}0</script></html>"
      ],
      "text/plain": [
       "0"
      ]
     },
     "execution_count": 132,
     "metadata": {},
     "output_type": "execute_result"
    }
   ],
   "source": [
    "diff(e[0][0],w)"
   ]
  },
  {
   "cell_type": "markdown",
   "metadata": {},
   "source": [
    "#### Right way to take partial derivative"
   ]
  },
  {
   "cell_type": "code",
   "execution_count": 133,
   "metadata": {},
   "outputs": [
    {
     "data": {
      "text/html": [
       "<html><script type=\"math/tex; mode=display\">\\newcommand{\\Bold}[1]{\\mathbf{#1}}\\frac{\\sqrt{2} w \\frac{\\partial\\,A}{\\partial w} + 2 \\, \\sqrt{2} A\\left(v, w\\right)}{4 \\, \\sqrt{A\\left(v, w\\right)} \\alpha\\left(v, {\\theta}, {\\phi}\\right)}</script></html>"
      ],
      "text/plain": [
       "1/4*(sqrt(2)*w*d(A)/dw + 2*sqrt(2)*A(v, w))/(sqrt(A(v, w))*alpha(v, theta, phi))"
      ]
     },
     "execution_count": 133,
     "metadata": {},
     "output_type": "execute_result"
    }
   ],
   "source": [
    "e[0][0].diff(w)"
   ]
  },
  {
   "cell_type": "markdown",
   "metadata": {},
   "source": [
    "#### Using Indices to Specify Partial Derivative"
   ]
  },
  {
   "cell_type": "code",
   "execution_count": 141,
   "metadata": {},
   "outputs": [
    {
     "data": {
      "text/html": [
       "<html><script type=\"math/tex; mode=display\">\\newcommand{\\Bold}[1]{\\mathbf{#1}}\\frac{\\sqrt{2} w \\frac{\\partial\\,A}{\\partial w} + 2 \\, \\sqrt{2} A\\left(v, w\\right)}{4 \\, \\sqrt{A\\left(v, w\\right)} \\alpha\\left(v, {\\theta}, {\\phi}\\right)}</script></html>"
      ],
      "text/plain": [
       "1/4*(sqrt(2)*w*d(A)/dw + 2*sqrt(2)*A(v, w))/(sqrt(A(v, w))*alpha(v, theta, phi))"
      ]
     },
     "execution_count": 141,
     "metadata": {},
     "output_type": "execute_result"
    }
   ],
   "source": [
    "e[0][0].diff(1)"
   ]
  },
  {
   "cell_type": "markdown",
   "metadata": {},
   "source": [
    "### Covariant Derivative"
   ]
  },
  {
   "cell_type": "code",
   "execution_count": 93,
   "metadata": {},
   "outputs": [
    {
     "data": {
      "text/html": [
       "<html><script type=\"math/tex; mode=display\">\\newcommand{\\Bold}[1]{\\mathbf{#1}}\\nabla_{g} e_0</script></html>"
      ],
      "text/plain": [
       "Tensor field nabla_g(e_0) of type (1,1) on the 4-dimensional differentiable manifold M"
      ]
     },
     "execution_count": 93,
     "metadata": {},
     "output_type": "execute_result"
    }
   ],
   "source": [
    "de0 = levicivita(e[0])\n",
    "de0"
   ]
  },
  {
   "cell_type": "code",
   "execution_count": 94,
   "metadata": {},
   "outputs": [
    {
     "data": {
      "text/html": [
       "<html><script type=\"math/tex; mode=display\">\\newcommand{\\Bold}[1]{\\mathbf{#1}}\\verb|<class|\\phantom{\\verb!x!}\\verb|'sage.manifolds.differentiable.tensorfield_module.TensorFieldFreeModule_with_category.element_class'>|</script></html>"
      ],
      "text/plain": [
       "<class 'sage.manifolds.differentiable.tensorfield_module.TensorFieldFreeModule_with_category.element_class'>"
      ]
     },
     "execution_count": 94,
     "metadata": {},
     "output_type": "execute_result"
    }
   ],
   "source": [
    "type(de0)"
   ]
  },
  {
   "cell_type": "code",
   "execution_count": 95,
   "metadata": {},
   "outputs": [
    {
     "data": {
      "text/html": [
       "<html><script type=\"math/tex; mode=display\">\\newcommand{\\Bold}[1]{\\mathbf{#1}}\\nabla_{g} e_0 = \\frac{\\sqrt{2} {\\left(3 \\, \\alpha\\left(v, {\\theta}, {\\phi}\\right) \\frac{\\partial\\,A}{\\partial v} - 2 \\, A\\left(v, w\\right) \\frac{\\partial\\,\\alpha}{\\partial v}\\right)} w}{4 \\, \\sqrt{A\\left(v, w\\right)} \\alpha\\left(v, {\\theta}, {\\phi}\\right)^{2}} \\frac{\\partial}{\\partial v }\\otimes \\mathrm{d} v + \\left( \\frac{\\sqrt{2} w \\frac{\\partial\\,A}{\\partial w} + 2 \\, \\sqrt{2} A\\left(v, w\\right)}{4 \\, \\sqrt{A\\left(v, w\\right)} \\alpha\\left(v, {\\theta}, {\\phi}\\right)} \\right) \\frac{\\partial}{\\partial v }\\otimes \\mathrm{d} w -\\frac{\\sqrt{2} w \\sqrt{A\\left(v, w\\right)} \\frac{\\partial\\,\\alpha}{\\partial {\\theta}}}{2 \\, \\alpha\\left(v, {\\theta}, {\\phi}\\right)^{2}} \\frac{\\partial}{\\partial v }\\otimes \\mathrm{d} {\\theta} -\\frac{\\sqrt{2} w \\sqrt{A\\left(v, w\\right)} \\frac{\\partial\\,\\alpha}{\\partial {\\phi}}}{2 \\, \\alpha\\left(v, {\\theta}, {\\phi}\\right)^{2}} \\frac{\\partial}{\\partial v }\\otimes \\mathrm{d} {\\phi} + \\frac{{\\left(\\sqrt{2} \\alpha\\left(v, {\\theta}, {\\phi}\\right) \\frac{\\partial\\,A}{\\partial v} - 2 \\, \\sqrt{2} A\\left(v, w\\right) \\frac{\\partial\\,\\alpha}{\\partial v}\\right)} w}{4 \\, \\sqrt{A\\left(v, w\\right)} \\alpha\\left(v, {\\theta}, {\\phi}\\right)^{2}} \\frac{\\partial}{\\partial w }\\otimes \\mathrm{d} v + \\frac{\\sqrt{2} {\\left(3 \\, w \\frac{\\partial\\,A}{\\partial w} + 2 \\, A\\left(v, w\\right)\\right)}}{4 \\, \\sqrt{A\\left(v, w\\right)} \\alpha\\left(v, {\\theta}, {\\phi}\\right)} \\frac{\\partial}{\\partial w }\\otimes \\mathrm{d} w -\\frac{\\sqrt{2} w \\sqrt{A\\left(v, w\\right)} \\frac{\\partial\\,\\alpha}{\\partial {\\theta}}}{2 \\, \\alpha\\left(v, {\\theta}, {\\phi}\\right)^{2}} \\frac{\\partial}{\\partial w }\\otimes \\mathrm{d} {\\theta} -\\frac{\\sqrt{2} w \\sqrt{A\\left(v, w\\right)} \\frac{\\partial\\,\\alpha}{\\partial {\\phi}}}{2 \\, \\alpha\\left(v, {\\theta}, {\\phi}\\right)^{2}} \\frac{\\partial}{\\partial w }\\otimes \\mathrm{d} {\\phi} + \\frac{{\\left(\\sqrt{2} \\frac{\\partial\\,r}{\\partial v} + \\sqrt{2} \\frac{\\partial\\,r}{\\partial w}\\right)} w \\sqrt{A\\left(v, w\\right)}}{2 \\, \\alpha\\left(v, {\\theta}, {\\phi}\\right) r\\left(v, w\\right)} \\frac{\\partial}{\\partial {\\theta} }\\otimes \\mathrm{d} {\\theta} + \\frac{{\\left(\\sqrt{2} \\frac{\\partial\\,r}{\\partial v} + \\sqrt{2} \\frac{\\partial\\,r}{\\partial w}\\right)} w \\sqrt{A\\left(v, w\\right)}}{2 \\, \\alpha\\left(v, {\\theta}, {\\phi}\\right) r\\left(v, w\\right)} \\frac{\\partial}{\\partial {\\phi} }\\otimes \\mathrm{d} {\\phi}</script></html>"
      ],
      "text/plain": [
       "nabla_g(e_0) = 1/4*sqrt(2)*(3*alpha(v, theta, phi)*d(A)/dv - 2*A(v, w)*d(alpha)/dv)*w/(sqrt(A(v, w))*alpha(v, theta, phi)^2) d/dv*dv + 1/4*(sqrt(2)*w*d(A)/dw + 2*sqrt(2)*A(v, w))/(sqrt(A(v, w))*alpha(v, theta, phi)) d/dv*dw - 1/2*sqrt(2)*w*sqrt(A(v, w))*d(alpha)/dtheta/alpha(v, theta, phi)^2 d/dv*dtheta - 1/2*sqrt(2)*w*sqrt(A(v, w))*d(alpha)/dphi/alpha(v, theta, phi)^2 d/dv*dphi + 1/4*(sqrt(2)*alpha(v, theta, phi)*d(A)/dv - 2*sqrt(2)*A(v, w)*d(alpha)/dv)*w/(sqrt(A(v, w))*alpha(v, theta, phi)^2) d/dw*dv + 1/4*sqrt(2)*(3*w*d(A)/dw + 2*A(v, w))/(sqrt(A(v, w))*alpha(v, theta, phi)) d/dw*dw - 1/2*sqrt(2)*w*sqrt(A(v, w))*d(alpha)/dtheta/alpha(v, theta, phi)^2 d/dw*dtheta - 1/2*sqrt(2)*w*sqrt(A(v, w))*d(alpha)/dphi/alpha(v, theta, phi)^2 d/dw*dphi + 1/2*(sqrt(2)*d(r)/dv + sqrt(2)*d(r)/dw)*w*sqrt(A(v, w))/(alpha(v, theta, phi)*r(v, w)) d/dtheta*dtheta + 1/2*(sqrt(2)*d(r)/dv + sqrt(2)*d(r)/dw)*w*sqrt(A(v, w))/(alpha(v, theta, phi)*r(v, w)) d/dphi*dphi"
      ]
     },
     "execution_count": 95,
     "metadata": {},
     "output_type": "execute_result"
    }
   ],
   "source": [
    "de0.display()"
   ]
  },
  {
   "cell_type": "markdown",
   "metadata": {},
   "source": [
    "## Connection 1-form"
   ]
  },
  {
   "cell_type": "markdown",
   "metadata": {},
   "source": [
    "We will use the following expression to calculate the connection one-form (ref: eq 1.4.12, Mueller & Graves):\n",
    "\\begin{equation}\n",
    "    \\omega^{(i)}_{(j)(k)} = \\theta^{(i)}_\\mu e^\\nu_{(j)} \\left( \\partial_\\nu e^\\mu_{(k)} + \\Gamma^\\mu_{\\nu\\alpha} e^\\alpha_{(k)} \\right) \n",
    "\\end{equation}\n",
    "\n",
    "If we want to determine $ \\omega^\\mu_{(j)(k)} $ we can leave out the sum over $ \\theta^{(i)}_\\mu $ on the r.h.s:\n",
    "\\begin{equation}\n",
    "    \\omega^\\mu_{(j)(k)} = e^\\nu_{(j)} \\left( \\partial_\\nu e^\\mu_{(k)} + \\Gamma^\\mu_{\\nu\\alpha} e^\\alpha_{(k)} \\right) \n",
    "\\end{equation}"
   ]
  },
  {
   "cell_type": "markdown",
   "metadata": {},
   "source": [
    "In terms of code the first expression will take the form:\n",
    "\n",
    "```\n",
    "    omega[i,j,k] = 0\n",
    "    for mu in M.irange():\n",
    "        for nu in M.irange():\n",
    "            for alpha in M.irange():\n",
    "                omega[i,j,k] += cotet[i][mu]*tet[j][nu]*(tet[k][mu].diff(nu) + levicivita[mu,nu,alpha]*e[k][alpha])\n",
    "```\n",
    "\n",
    "and the second expression can be written as:\n",
    "```\n",
    "    omega[mu,j,k] = 0\n",
    "        for nu in M.irange():\n",
    "            for alpha in M.irange():\n",
    "                omega[mu,j,k] += tet[j][nu]*(tet[k][mu].diff(nu) + levicivita[mu,nu,alpha]*e[k][alpha])\n",
    "```"
   ]
  },
  {
   "cell_type": "code",
   "execution_count": 142,
   "metadata": {},
   "outputs": [],
   "source": [
    "tet = e"
   ]
  },
  {
   "cell_type": "code",
   "execution_count": 143,
   "metadata": {},
   "outputs": [],
   "source": [
    "cotet = tet.coframe()"
   ]
  },
  {
   "cell_type": "code",
   "execution_count": 145,
   "metadata": {},
   "outputs": [],
   "source": [
    "omega = "
   ]
  },
  {
   "cell_type": "code",
   "execution_count": 160,
   "metadata": {},
   "outputs": [],
   "source": [
    "def connection_one_form(i,j,k,tet,cotet,levicivita):\n",
    "    omega_ijk = 0\n",
    "    for mu in M.irange():\n",
    "        for nu in M.irange():\n",
    "            for alpha in M.irange():\n",
    "                omega_ijk += cotet[i][mu]*tet[j][nu]*(tet[k][mu].diff(nu) + levicivita[mu,nu,alpha]*e[k][alpha])\n",
    "                print(omega_ijk,)\n",
    "    return omega_ijk\n"
   ]
  },
  {
   "cell_type": "code",
   "execution_count": 170,
   "metadata": {},
   "outputs": [],
   "source": [
    "def connection_one_form_v2(mu,j,k,tet,cotet,levicivita):\n",
    "    omega_mujk = 0\n",
    "    for nu in M.irange():\n",
    "            for alpha in M.irange():\n",
    "                omega_mujk += tet[j][nu]*(tet[k][mu].diff(nu) + levicivita[mu,nu,alpha]*e[k][alpha])\n",
    "                print(omega_mujk,)\n",
    "    return omega_mujk"
   ]
  },
  {
   "cell_type": "code",
   "execution_count": 171,
   "metadata": {},
   "outputs": [
    {
     "name": "stdout",
     "output_type": "stream",
     "text": [
      "(1/4*(alpha(v, theta, phi)*d(A)/dv + 2*A(v, w)*d(alpha)/dv)/alpha(v, theta, phi),)\n",
      "(1/2*(alpha(v, theta, phi)*d(A)/dv + 2*A(v, w)*d(alpha)/dv)/alpha(v, theta, phi),)\n",
      "(3/4*(alpha(v, theta, phi)*d(A)/dv + 2*A(v, w)*d(alpha)/dv)/alpha(v, theta, phi),)\n",
      "((alpha(v, theta, phi)*d(A)/dv + 2*A(v, w)*d(alpha)/dv)/alpha(v, theta, phi),)\n",
      "(1/4*(w*alpha(v, theta, phi)^3*d(A)/dw + 4*(alpha(v, theta, phi)*d(A)/dv + 2*A(v, w)*d(alpha)/dv)*w^3 - 2*A(v, w)*alpha(v, theta, phi)^3)/(w^3*alpha(v, theta, phi)),)\n",
      "((w*alpha(v, theta, phi)^3*d(A)/dw + (alpha(v, theta, phi)*d(A)/dv + 2*A(v, w)*d(alpha)/dv)*w^3 - A(v, w)*alpha(v, theta, phi)^3)/(w^3*alpha(v, theta, phi)),)\n",
      "(1/4*(5*w*alpha(v, theta, phi)^3*d(A)/dw + 4*(alpha(v, theta, phi)*d(A)/dv + 2*A(v, w)*d(alpha)/dv)*w^3 - 6*A(v, w)*alpha(v, theta, phi)^3)/(w^3*alpha(v, theta, phi)),)\n",
      "(1/2*(3*w*alpha(v, theta, phi)^3*d(A)/dw + 2*(alpha(v, theta, phi)*d(A)/dv + 2*A(v, w)*d(alpha)/dv)*w^3 - 4*A(v, w)*alpha(v, theta, phi)^3)/(w^3*alpha(v, theta, phi)),)\n",
      "(1/2*(3*w*alpha(v, theta, phi)^3*d(A)/dw + 2*(alpha(v, theta, phi)*d(A)/dv + 2*A(v, w)*d(alpha)/dv)*w^3 - 4*A(v, w)*alpha(v, theta, phi)^3)/(w^3*alpha(v, theta, phi)),)\n",
      "(1/2*(3*w*alpha(v, theta, phi)^3*d(A)/dw + 2*(alpha(v, theta, phi)*d(A)/dv + 2*A(v, w)*d(alpha)/dv)*w^3 - 4*A(v, w)*alpha(v, theta, phi)^3)/(w^3*alpha(v, theta, phi)),)\n",
      "(1/2*(3*w*alpha(v, theta, phi)^3*d(A)/dw + 2*(alpha(v, theta, phi)*d(A)/dv + 2*A(v, w)*d(alpha)/dv)*w^3 - 4*A(v, w)*alpha(v, theta, phi)^3)/(w^3*alpha(v, theta, phi)),)\n",
      "(1/2*(3*w*alpha(v, theta, phi)^3*d(A)/dw + 2*(alpha(v, theta, phi)*d(A)/dv + 2*A(v, w)*d(alpha)/dv)*w^3 - 4*A(v, w)*alpha(v, theta, phi)^3)/(w^3*alpha(v, theta, phi)),)\n",
      "(1/2*(3*w*alpha(v, theta, phi)^3*d(A)/dw + 2*(alpha(v, theta, phi)*d(A)/dv + 2*A(v, w)*d(alpha)/dv)*w^3 - 4*A(v, w)*alpha(v, theta, phi)^3)/(w^3*alpha(v, theta, phi)),)\n",
      "(1/2*(3*w*alpha(v, theta, phi)^3*d(A)/dw + 2*(alpha(v, theta, phi)*d(A)/dv + 2*A(v, w)*d(alpha)/dv)*w^3 - 4*A(v, w)*alpha(v, theta, phi)^3)/(w^3*alpha(v, theta, phi)),)\n",
      "(1/2*(3*w*alpha(v, theta, phi)^3*d(A)/dw + 2*(alpha(v, theta, phi)*d(A)/dv + 2*A(v, w)*d(alpha)/dv)*w^3 - 4*A(v, w)*alpha(v, theta, phi)^3)/(w^3*alpha(v, theta, phi)),)\n",
      "(1/2*(3*w*alpha(v, theta, phi)^3*d(A)/dw + 2*(alpha(v, theta, phi)*d(A)/dv + 2*A(v, w)*d(alpha)/dv)*w^3 - 4*A(v, w)*alpha(v, theta, phi)^3)/(w^3*alpha(v, theta, phi)),)\n"
     ]
    }
   ],
   "source": [
    "omega_100 = connection_one_form_v2(1,0,0,tet,cotet,levicivita)"
   ]
  },
  {
   "cell_type": "code",
   "execution_count": 173,
   "metadata": {},
   "outputs": [
    {
     "data": {
      "text/html": [
       "<html><script type=\"math/tex; mode=display\">\\newcommand{\\Bold}[1]{\\mathbf{#1}}\\left(v, w, {\\theta}, {\\phi}\\right) \\mapsto \\frac{3 \\, w \\alpha\\left(v, {\\theta}, {\\phi}\\right)^{3} \\frac{\\partial\\,A}{\\partial w} + 2 \\, {\\left(\\alpha\\left(v, {\\theta}, {\\phi}\\right) \\frac{\\partial\\,A}{\\partial v} + 2 \\, A\\left(v, w\\right) \\frac{\\partial\\,\\alpha}{\\partial v}\\right)} w^{3} - 4 \\, A\\left(v, w\\right) \\alpha\\left(v, {\\theta}, {\\phi}\\right)^{3}}{2 \\, w^{3} \\alpha\\left(v, {\\theta}, {\\phi}\\right)}</script></html>"
      ],
      "text/plain": [
       "(v, w, theta, phi) |--> 1/2*(3*w*alpha(v, theta, phi)^3*d(A)/dw + 2*(alpha(v, theta, phi)*d(A)/dv + 2*A(v, w)*d(alpha)/dv)*w^3 - 4*A(v, w)*alpha(v, theta, phi)^3)/(w^3*alpha(v, theta, phi))"
      ]
     },
     "execution_count": 173,
     "metadata": {},
     "output_type": "execute_result"
    }
   ],
   "source": [
    "omega_100.display()"
   ]
  },
  {
   "cell_type": "code",
   "execution_count": 161,
   "metadata": {},
   "outputs": [
    {
     "name": "stdout",
     "output_type": "stream",
     "text": [
      "(1/8*sqrt(2)*(3*alpha(v, theta, phi)*d(A)/dv - 2*A(v, w)*d(alpha)/dv)*w/(sqrt(A(v, w))*alpha(v, theta, phi)^2),)\n",
      "(1/2*sqrt(2)*(alpha(v, theta, phi)*d(A)/dv - A(v, w)*d(alpha)/dv)*w/(sqrt(A(v, w))*alpha(v, theta, phi)^2),)\n",
      "(1/8*sqrt(2)*(5*alpha(v, theta, phi)*d(A)/dv - 6*A(v, w)*d(alpha)/dv)*w/(sqrt(A(v, w))*alpha(v, theta, phi)^2),)\n",
      "(1/4*sqrt(2)*(3*alpha(v, theta, phi)*d(A)/dv - 4*A(v, w)*d(alpha)/dv)*w/(sqrt(A(v, w))*alpha(v, theta, phi)^2),)\n",
      "(1/8*sqrt(2)*(w*alpha(v, theta, phi)^3*d(A)/dw + 2*(3*alpha(v, theta, phi)*d(A)/dv - 4*A(v, w)*d(alpha)/dv)*w^3 + 2*A(v, w)*alpha(v, theta, phi)^3)/(w^2*sqrt(A(v, w))*alpha(v, theta, phi)^2),)\n",
      "(1/4*sqrt(2)*(w*alpha(v, theta, phi)^3*d(A)/dw + (3*alpha(v, theta, phi)*d(A)/dv - 4*A(v, w)*d(alpha)/dv)*w^3 + 2*A(v, w)*alpha(v, theta, phi)^3)/(w^2*sqrt(A(v, w))*alpha(v, theta, phi)^2),)\n",
      "(1/8*sqrt(2)*(3*w*alpha(v, theta, phi)^3*d(A)/dw + 2*(3*alpha(v, theta, phi)*d(A)/dv - 4*A(v, w)*d(alpha)/dv)*w^3 + 6*A(v, w)*alpha(v, theta, phi)^3)/(w^2*sqrt(A(v, w))*alpha(v, theta, phi)^2),)\n",
      "(1/4*sqrt(2)*(2*w*alpha(v, theta, phi)^3*d(A)/dw + (3*alpha(v, theta, phi)*d(A)/dv - 4*A(v, w)*d(alpha)/dv)*w^3 + 4*A(v, w)*alpha(v, theta, phi)^3)/(w^2*sqrt(A(v, w))*alpha(v, theta, phi)^2),)\n",
      "(1/4*sqrt(2)*(2*w*alpha(v, theta, phi)^3*d(A)/dw + (3*alpha(v, theta, phi)*d(A)/dv - 4*A(v, w)*d(alpha)/dv)*w^3 + 4*A(v, w)*alpha(v, theta, phi)^3)/(w^2*sqrt(A(v, w))*alpha(v, theta, phi)^2),)\n",
      "(1/4*sqrt(2)*(2*w*alpha(v, theta, phi)^3*d(A)/dw + (3*alpha(v, theta, phi)*d(A)/dv - 4*A(v, w)*d(alpha)/dv)*w^3 + 4*A(v, w)*alpha(v, theta, phi)^3)/(w^2*sqrt(A(v, w))*alpha(v, theta, phi)^2),)\n",
      "(1/4*sqrt(2)*(2*w*alpha(v, theta, phi)^3*d(A)/dw + (3*alpha(v, theta, phi)*d(A)/dv - 4*A(v, w)*d(alpha)/dv)*w^3 + 4*A(v, w)*alpha(v, theta, phi)^3)/(w^2*sqrt(A(v, w))*alpha(v, theta, phi)^2),)\n",
      "(1/4*sqrt(2)*(2*w*alpha(v, theta, phi)^3*d(A)/dw + (3*alpha(v, theta, phi)*d(A)/dv - 4*A(v, w)*d(alpha)/dv)*w^3 + 4*A(v, w)*alpha(v, theta, phi)^3)/(w^2*sqrt(A(v, w))*alpha(v, theta, phi)^2),)\n",
      "(1/4*sqrt(2)*(2*w*alpha(v, theta, phi)^3*d(A)/dw + (3*alpha(v, theta, phi)*d(A)/dv - 4*A(v, w)*d(alpha)/dv)*w^3 + 4*A(v, w)*alpha(v, theta, phi)^3)/(w^2*sqrt(A(v, w))*alpha(v, theta, phi)^2),)\n",
      "(1/4*sqrt(2)*(2*w*alpha(v, theta, phi)^3*d(A)/dw + (3*alpha(v, theta, phi)*d(A)/dv - 4*A(v, w)*d(alpha)/dv)*w^3 + 4*A(v, w)*alpha(v, theta, phi)^3)/(w^2*sqrt(A(v, w))*alpha(v, theta, phi)^2),)\n",
      "(1/4*sqrt(2)*(2*w*alpha(v, theta, phi)^3*d(A)/dw + (3*alpha(v, theta, phi)*d(A)/dv - 4*A(v, w)*d(alpha)/dv)*w^3 + 4*A(v, w)*alpha(v, theta, phi)^3)/(w^2*sqrt(A(v, w))*alpha(v, theta, phi)^2),)\n",
      "(1/4*sqrt(2)*(2*w*alpha(v, theta, phi)^3*d(A)/dw + (3*alpha(v, theta, phi)*d(A)/dv - 4*A(v, w)*d(alpha)/dv)*w^3 + 4*A(v, w)*alpha(v, theta, phi)^3)/(w^2*sqrt(A(v, w))*alpha(v, theta, phi)^2),)\n",
      "(1/8*sqrt(2)*(4*w*alpha(v, theta, phi)^3*d(A)/dw + (7*alpha(v, theta, phi)*d(A)/dv - 6*A(v, w)*d(alpha)/dv)*w^3 + 8*A(v, w)*alpha(v, theta, phi)^3)/(w^2*sqrt(A(v, w))*alpha(v, theta, phi)^2),)\n",
      "(1/2*sqrt(2)*(w*alpha(v, theta, phi)^3*d(A)/dw + (2*alpha(v, theta, phi)*d(A)/dv - A(v, w)*d(alpha)/dv)*w^3 + 2*A(v, w)*alpha(v, theta, phi)^3)/(w^2*sqrt(A(v, w))*alpha(v, theta, phi)^2),)\n",
      "(1/8*sqrt(2)*(4*w*alpha(v, theta, phi)^3*d(A)/dw + (9*alpha(v, theta, phi)*d(A)/dv - 2*A(v, w)*d(alpha)/dv)*w^3 + 8*A(v, w)*alpha(v, theta, phi)^3)/(w^2*sqrt(A(v, w))*alpha(v, theta, phi)^2),)\n",
      "(1/4*sqrt(2)*(5*w^3*d(A)/dv + 2*w*alpha(v, theta, phi)^2*d(A)/dw + 4*A(v, w)*alpha(v, theta, phi)^2)/(w^2*sqrt(A(v, w))*alpha(v, theta, phi)),)\n",
      "(1/8*sqrt(2)*(10*w^3*d(A)/dv + 5*w*alpha(v, theta, phi)^2*d(A)/dw + 6*A(v, w)*alpha(v, theta, phi)^2)/(w^2*sqrt(A(v, w))*alpha(v, theta, phi)),)\n",
      "(1/4*(5*sqrt(2)*w^3*d(A)/dv + 4*sqrt(2)*w*alpha(v, theta, phi)^2*d(A)/dw + 2*sqrt(2)*A(v, w)*alpha(v, theta, phi)^2)/(w^2*sqrt(A(v, w))*alpha(v, theta, phi)),)\n",
      "(1/8*(10*sqrt(2)*w^3*d(A)/dv + 9*sqrt(2)*w*alpha(v, theta, phi)^2*d(A)/dw + 2*sqrt(2)*A(v, w)*alpha(v, theta, phi)^2)/(w^2*sqrt(A(v, w))*alpha(v, theta, phi)),)\n",
      "(5/4*(sqrt(2)*w^2*d(A)/dv + sqrt(2)*alpha(v, theta, phi)^2*d(A)/dw)/(w*sqrt(A(v, w))*alpha(v, theta, phi)),)\n",
      "(5/4*(sqrt(2)*w^2*d(A)/dv + sqrt(2)*alpha(v, theta, phi)^2*d(A)/dw)/(w*sqrt(A(v, w))*alpha(v, theta, phi)),)\n",
      "(5/4*(sqrt(2)*w^2*d(A)/dv + sqrt(2)*alpha(v, theta, phi)^2*d(A)/dw)/(w*sqrt(A(v, w))*alpha(v, theta, phi)),)\n",
      "(5/4*(sqrt(2)*w^2*d(A)/dv + sqrt(2)*alpha(v, theta, phi)^2*d(A)/dw)/(w*sqrt(A(v, w))*alpha(v, theta, phi)),)\n",
      "(5/4*(sqrt(2)*w^2*d(A)/dv + sqrt(2)*alpha(v, theta, phi)^2*d(A)/dw)/(w*sqrt(A(v, w))*alpha(v, theta, phi)),)\n",
      "(5/4*(sqrt(2)*w^2*d(A)/dv + sqrt(2)*alpha(v, theta, phi)^2*d(A)/dw)/(w*sqrt(A(v, w))*alpha(v, theta, phi)),)\n",
      "(5/4*(sqrt(2)*w^2*d(A)/dv + sqrt(2)*alpha(v, theta, phi)^2*d(A)/dw)/(w*sqrt(A(v, w))*alpha(v, theta, phi)),)\n",
      "(5/4*(sqrt(2)*w^2*d(A)/dv + sqrt(2)*alpha(v, theta, phi)^2*d(A)/dw)/(w*sqrt(A(v, w))*alpha(v, theta, phi)),)\n",
      "(5/4*(sqrt(2)*w^2*d(A)/dv + sqrt(2)*alpha(v, theta, phi)^2*d(A)/dw)/(w*sqrt(A(v, w))*alpha(v, theta, phi)),)\n",
      "(5/4*(sqrt(2)*w^2*d(A)/dv + sqrt(2)*alpha(v, theta, phi)^2*d(A)/dw)/(w*sqrt(A(v, w))*alpha(v, theta, phi)),)\n",
      "(5/4*(sqrt(2)*w^2*d(A)/dv + sqrt(2)*alpha(v, theta, phi)^2*d(A)/dw)/(w*sqrt(A(v, w))*alpha(v, theta, phi)),)\n",
      "(5/4*(sqrt(2)*w^2*d(A)/dv + sqrt(2)*alpha(v, theta, phi)^2*d(A)/dw)/(w*sqrt(A(v, w))*alpha(v, theta, phi)),)\n",
      "(5/4*(sqrt(2)*w^2*d(A)/dv + sqrt(2)*alpha(v, theta, phi)^2*d(A)/dw)/(w*sqrt(A(v, w))*alpha(v, theta, phi)),)\n",
      "(5/4*(sqrt(2)*w^2*d(A)/dv + sqrt(2)*alpha(v, theta, phi)^2*d(A)/dw)/(w*sqrt(A(v, w))*alpha(v, theta, phi)),)\n",
      "(5/4*(sqrt(2)*w^2*d(A)/dv + sqrt(2)*alpha(v, theta, phi)^2*d(A)/dw)/(w*sqrt(A(v, w))*alpha(v, theta, phi)),)\n",
      "(5/4*(sqrt(2)*w^2*d(A)/dv + sqrt(2)*alpha(v, theta, phi)^2*d(A)/dw)/(w*sqrt(A(v, w))*alpha(v, theta, phi)),)\n",
      "(5/4*(sqrt(2)*w^2*d(A)/dv + sqrt(2)*alpha(v, theta, phi)^2*d(A)/dw)/(w*sqrt(A(v, w))*alpha(v, theta, phi)),)\n",
      "(5/4*(sqrt(2)*w^2*d(A)/dv + sqrt(2)*alpha(v, theta, phi)^2*d(A)/dw)/(w*sqrt(A(v, w))*alpha(v, theta, phi)),)\n",
      "(5/4*(sqrt(2)*w^2*d(A)/dv + sqrt(2)*alpha(v, theta, phi)^2*d(A)/dw)/(w*sqrt(A(v, w))*alpha(v, theta, phi)),)\n",
      "(5/4*(sqrt(2)*w^2*d(A)/dv + sqrt(2)*alpha(v, theta, phi)^2*d(A)/dw)/(w*sqrt(A(v, w))*alpha(v, theta, phi)),)\n",
      "(5/4*(sqrt(2)*w^2*d(A)/dv + sqrt(2)*alpha(v, theta, phi)^2*d(A)/dw)/(w*sqrt(A(v, w))*alpha(v, theta, phi)),)\n",
      "(5/4*(sqrt(2)*w^2*d(A)/dv + sqrt(2)*alpha(v, theta, phi)^2*d(A)/dw)/(w*sqrt(A(v, w))*alpha(v, theta, phi)),)\n",
      "(5/4*(sqrt(2)*w^2*d(A)/dv + sqrt(2)*alpha(v, theta, phi)^2*d(A)/dw)/(w*sqrt(A(v, w))*alpha(v, theta, phi)),)\n",
      "(5/4*(sqrt(2)*w^2*d(A)/dv + sqrt(2)*alpha(v, theta, phi)^2*d(A)/dw)/(w*sqrt(A(v, w))*alpha(v, theta, phi)),)\n",
      "(5/4*(sqrt(2)*w^2*d(A)/dv + sqrt(2)*alpha(v, theta, phi)^2*d(A)/dw)/(w*sqrt(A(v, w))*alpha(v, theta, phi)),)\n",
      "(5/4*(sqrt(2)*w^2*d(A)/dv + sqrt(2)*alpha(v, theta, phi)^2*d(A)/dw)/(w*sqrt(A(v, w))*alpha(v, theta, phi)),)\n",
      "(5/4*(sqrt(2)*w^2*d(A)/dv + sqrt(2)*alpha(v, theta, phi)^2*d(A)/dw)/(w*sqrt(A(v, w))*alpha(v, theta, phi)),)\n",
      "(5/4*(sqrt(2)*w^2*d(A)/dv + sqrt(2)*alpha(v, theta, phi)^2*d(A)/dw)/(w*sqrt(A(v, w))*alpha(v, theta, phi)),)\n",
      "(5/4*(sqrt(2)*w^2*d(A)/dv + sqrt(2)*alpha(v, theta, phi)^2*d(A)/dw)/(w*sqrt(A(v, w))*alpha(v, theta, phi)),)\n",
      "(5/4*(sqrt(2)*w^2*d(A)/dv + sqrt(2)*alpha(v, theta, phi)^2*d(A)/dw)/(w*sqrt(A(v, w))*alpha(v, theta, phi)),)\n",
      "(5/4*(sqrt(2)*w^2*d(A)/dv + sqrt(2)*alpha(v, theta, phi)^2*d(A)/dw)/(w*sqrt(A(v, w))*alpha(v, theta, phi)),)\n",
      "(5/4*(sqrt(2)*w^2*d(A)/dv + sqrt(2)*alpha(v, theta, phi)^2*d(A)/dw)/(w*sqrt(A(v, w))*alpha(v, theta, phi)),)\n",
      "(5/4*(sqrt(2)*w^2*d(A)/dv + sqrt(2)*alpha(v, theta, phi)^2*d(A)/dw)/(w*sqrt(A(v, w))*alpha(v, theta, phi)),)\n",
      "(5/4*(sqrt(2)*w^2*d(A)/dv + sqrt(2)*alpha(v, theta, phi)^2*d(A)/dw)/(w*sqrt(A(v, w))*alpha(v, theta, phi)),)\n",
      "(5/4*(sqrt(2)*w^2*d(A)/dv + sqrt(2)*alpha(v, theta, phi)^2*d(A)/dw)/(w*sqrt(A(v, w))*alpha(v, theta, phi)),)\n",
      "(5/4*(sqrt(2)*w^2*d(A)/dv + sqrt(2)*alpha(v, theta, phi)^2*d(A)/dw)/(w*sqrt(A(v, w))*alpha(v, theta, phi)),)\n",
      "(5/4*(sqrt(2)*w^2*d(A)/dv + sqrt(2)*alpha(v, theta, phi)^2*d(A)/dw)/(w*sqrt(A(v, w))*alpha(v, theta, phi)),)\n",
      "(5/4*(sqrt(2)*w^2*d(A)/dv + sqrt(2)*alpha(v, theta, phi)^2*d(A)/dw)/(w*sqrt(A(v, w))*alpha(v, theta, phi)),)\n",
      "(5/4*(sqrt(2)*w^2*d(A)/dv + sqrt(2)*alpha(v, theta, phi)^2*d(A)/dw)/(w*sqrt(A(v, w))*alpha(v, theta, phi)),)\n"
     ]
    },
    {
     "name": "stdout",
     "output_type": "stream",
     "text": [
      "(5/4*(sqrt(2)*w^2*d(A)/dv + sqrt(2)*alpha(v, theta, phi)^2*d(A)/dw)/(w*sqrt(A(v, w))*alpha(v, theta, phi)),)\n",
      "(5/4*(sqrt(2)*w^2*d(A)/dv + sqrt(2)*alpha(v, theta, phi)^2*d(A)/dw)/(w*sqrt(A(v, w))*alpha(v, theta, phi)),)\n"
     ]
    }
   ],
   "source": [
    "omega_000 = connection_one_form(0,0,0,tet,cotet,levicivita)"
   ]
  },
  {
   "cell_type": "code",
   "execution_count": 162,
   "metadata": {},
   "outputs": [
    {
     "data": {
      "text/html": [
       "<html><script type=\"math/tex; mode=display\">\\newcommand{\\Bold}[1]{\\mathbf{#1}}\\left(v, w, {\\theta}, {\\phi}\\right) \\mapsto \\frac{5 \\, {\\left(\\sqrt{2} w^{2} \\frac{\\partial\\,A}{\\partial v} + \\sqrt{2} \\alpha\\left(v, {\\theta}, {\\phi}\\right)^{2} \\frac{\\partial\\,A}{\\partial w}\\right)}}{4 \\, w \\sqrt{A\\left(v, w\\right)} \\alpha\\left(v, {\\theta}, {\\phi}\\right)}</script></html>"
      ],
      "text/plain": [
       "(v, w, theta, phi) |--> 5/4*(sqrt(2)*w^2*d(A)/dv + sqrt(2)*alpha(v, theta, phi)^2*d(A)/dw)/(w*sqrt(A(v, w))*alpha(v, theta, phi))"
      ]
     },
     "execution_count": 162,
     "metadata": {},
     "output_type": "execute_result"
    }
   ],
   "source": [
    "omega_000.display()"
   ]
  },
  {
   "cell_type": "code",
   "execution_count": 174,
   "metadata": {},
   "outputs": [
    {
     "data": {
      "text/html": [
       "<html><script type=\"math/tex; mode=display\">\\newcommand{\\Bold}[1]{\\mathbf{#1}}\\frac{\\frac{\\partial\\,A}{\\partial v}}{A\\left(v, w\\right)}</script></html>"
      ],
      "text/plain": [
       "d(A)/dv/A(v, w)"
      ]
     },
     "execution_count": 174,
     "metadata": {},
     "output_type": "execute_result"
    }
   ],
   "source": [
    "christoffels[0,0,0]"
   ]
  },
  {
   "cell_type": "code",
   "execution_count": 175,
   "metadata": {},
   "outputs": [
    {
     "data": {
      "text/html": [
       "<html><script type=\"math/tex; mode=display\">\\newcommand{\\Bold}[1]{\\mathbf{#1}}\\frac{\\frac{\\partial\\,A}{\\partial v}}{A\\left(v, w\\right)}</script></html>"
      ],
      "text/plain": [
       "d(A)/dv/A(v, w)"
      ]
     },
     "execution_count": 175,
     "metadata": {},
     "output_type": "execute_result"
    }
   ],
   "source": [
    "levicivita[0,0,0]"
   ]
  },
  {
   "cell_type": "code",
   "execution_count": 181,
   "metadata": {},
   "outputs": [
    {
     "data": {
      "text/html": [
       "<html><script type=\"math/tex; mode=display\">\\newcommand{\\Bold}[1]{\\mathbf{#1}}\\omega^0_{\\ \\, 0} = \\frac{\\frac{\\partial\\,A}{\\partial v}}{A\\left(v, w\\right)} \\mathrm{d} v + \\frac{\\frac{\\partial\\,A}{\\partial w}}{A\\left(v, w\\right)} \\mathrm{d} w</script></html>"
      ],
      "text/plain": [
       "nabla_g connection 1-form (0,0) = d(A)/dv/A(v, w) dv + d(A)/dw/A(v, w) dw"
      ]
     },
     "execution_count": 181,
     "metadata": {},
     "output_type": "execute_result"
    }
   ],
   "source": [
    "levicivita.connection_form(0,0,frame=tet).display()"
   ]
  },
  {
   "cell_type": "code",
   "execution_count": 180,
   "metadata": {},
   "outputs": [],
   "source": [
    "levicivita.connection_form??"
   ]
  },
  {
   "cell_type": "code",
   "execution_count": 164,
   "metadata": {},
   "outputs": [
    {
     "data": {
      "text/html": [
       "<html><script type=\"math/tex; mode=display\">\\newcommand{\\Bold}[1]{\\mathbf{#1}}\\verb|<class|\\phantom{\\verb!x!}\\verb|'sage.manifolds.coord_func_symb.CoordFunctionSymbRing_with_category.element_class'>|</script></html>"
      ],
      "text/plain": [
       "<class 'sage.manifolds.coord_func_symb.CoordFunctionSymbRing_with_category.element_class'>"
      ]
     },
     "execution_count": 164,
     "metadata": {},
     "output_type": "execute_result"
    }
   ],
   "source": [
    "type(omega_000)"
   ]
  },
  {
   "cell_type": "code",
   "execution_count": 87,
   "metadata": {},
   "outputs": [
    {
     "data": {
      "text/html": [
       "<html><script type=\"math/tex; mode=display\">\\newcommand{\\Bold}[1]{\\mathbf{#1}}\\begin{array}{lcl} \\Gamma_{\\,0\\,0\\,0}^{\\phantom{\\, 0}\\phantom{\\, 0}\\phantom{\\, 0}} & = & \\frac{\\frac{\\partial\\,A}{\\partial v}}{A\\left(v, w\\right)} \\\\ \\Gamma_{\\,0\\,2\\,2}^{\\phantom{\\, 0}\\phantom{\\, 2}\\phantom{\\, 2}} & = & \\frac{r\\left(v, w\\right) \\frac{\\partial\\,r}{\\partial w}}{A\\left(v, w\\right)} \\\\ \\Gamma_{\\,0\\,3\\,3}^{\\phantom{\\, 0}\\phantom{\\, 3}\\phantom{\\, 3}} & = & \\frac{r\\left(v, w\\right) \\sin\\left({\\theta}\\right) \\frac{\\partial\\,r}{\\partial w}}{A\\left(v, w\\right)} \\\\ \\Gamma_{\\,1\\,1\\,1}^{\\phantom{\\, 1}\\phantom{\\, 1}\\phantom{\\, 1}} & = & \\frac{\\frac{\\partial\\,A}{\\partial w}}{A\\left(v, w\\right)} \\\\ \\Gamma_{\\,1\\,2\\,2}^{\\phantom{\\, 1}\\phantom{\\, 2}\\phantom{\\, 2}} & = & \\frac{r\\left(v, w\\right) \\frac{\\partial\\,r}{\\partial v}}{A\\left(v, w\\right)} \\\\ \\Gamma_{\\,1\\,3\\,3}^{\\phantom{\\, 1}\\phantom{\\, 3}\\phantom{\\, 3}} & = & \\frac{r\\left(v, w\\right) \\sin\\left({\\theta}\\right) \\frac{\\partial\\,r}{\\partial v}}{A\\left(v, w\\right)} \\\\ \\Gamma_{\\,2\\,0\\,2}^{\\phantom{\\, 2}\\phantom{\\, 0}\\phantom{\\, 2}} & = & \\frac{\\frac{\\partial\\,r}{\\partial v}}{r\\left(v, w\\right)} \\\\ \\Gamma_{\\,2\\,1\\,2}^{\\phantom{\\, 2}\\phantom{\\, 1}\\phantom{\\, 2}} & = & \\frac{\\frac{\\partial\\,r}{\\partial w}}{r\\left(v, w\\right)} \\\\ \\Gamma_{\\,2\\,2\\,0}^{\\phantom{\\, 2}\\phantom{\\, 2}\\phantom{\\, 0}} & = & \\frac{\\frac{\\partial\\,r}{\\partial v}}{r\\left(v, w\\right)} \\\\ \\Gamma_{\\,2\\,2\\,1}^{\\phantom{\\, 2}\\phantom{\\, 2}\\phantom{\\, 1}} & = & \\frac{\\frac{\\partial\\,r}{\\partial w}}{r\\left(v, w\\right)} \\\\ \\Gamma_{\\,2\\,3\\,3}^{\\phantom{\\, 2}\\phantom{\\, 3}\\phantom{\\, 3}} & = & -\\frac{1}{2} \\, \\cos\\left({\\theta}\\right) \\\\ \\Gamma_{\\,3\\,0\\,3}^{\\phantom{\\, 3}\\phantom{\\, 0}\\phantom{\\, 3}} & = & \\frac{\\frac{\\partial\\,r}{\\partial v}}{r\\left(v, w\\right)} \\\\ \\Gamma_{\\,3\\,1\\,3}^{\\phantom{\\, 3}\\phantom{\\, 1}\\phantom{\\, 3}} & = & \\frac{\\frac{\\partial\\,r}{\\partial w}}{r\\left(v, w\\right)} \\\\ \\Gamma_{\\,3\\,2\\,3}^{\\phantom{\\, 3}\\phantom{\\, 2}\\phantom{\\, 3}} & = & \\frac{\\cos\\left({\\theta}\\right)}{2 \\, \\sin\\left({\\theta}\\right)} \\\\ \\Gamma_{\\,3\\,3\\,0}^{\\phantom{\\, 3}\\phantom{\\, 3}\\phantom{\\, 0}} & = & \\frac{\\frac{\\partial\\,r}{\\partial v}}{r\\left(v, w\\right)} \\\\ \\Gamma_{\\,3\\,3\\,1}^{\\phantom{\\, 3}\\phantom{\\, 3}\\phantom{\\, 1}} & = & \\frac{\\frac{\\partial\\,r}{\\partial w}}{r\\left(v, w\\right)} \\\\ \\Gamma_{\\,3\\,3\\,2}^{\\phantom{\\, 3}\\phantom{\\, 3}\\phantom{\\, 2}} & = & \\frac{\\cos\\left({\\theta}\\right)}{2 \\, \\sin\\left({\\theta}\\right)} \\end{array}</script></html>"
      ],
      "text/plain": [
       "\\Gamma_000 = d(A)/dv/A(v, w) \n",
       "\\Gamma_022 = r(v, w)*d(r)/dw/A(v, w) \n",
       "\\Gamma_033 = r(v, w)*sin(theta)*d(r)/dw/A(v, w) \n",
       "\\Gamma_111 = d(A)/dw/A(v, w) \n",
       "\\Gamma_122 = r(v, w)*d(r)/dv/A(v, w) \n",
       "\\Gamma_133 = r(v, w)*sin(theta)*d(r)/dv/A(v, w) \n",
       "\\Gamma_202 = d(r)/dv/r(v, w) \n",
       "\\Gamma_212 = d(r)/dw/r(v, w) \n",
       "\\Gamma_220 = d(r)/dv/r(v, w) \n",
       "\\Gamma_221 = d(r)/dw/r(v, w) \n",
       "\\Gamma_233 = -1/2*cos(theta) \n",
       "\\Gamma_303 = d(r)/dv/r(v, w) \n",
       "\\Gamma_313 = d(r)/dw/r(v, w) \n",
       "\\Gamma_323 = 1/2*cos(theta)/sin(theta) \n",
       "\\Gamma_330 = d(r)/dv/r(v, w) \n",
       "\\Gamma_331 = d(r)/dw/r(v, w) \n",
       "\\Gamma_332 = 1/2*cos(theta)/sin(theta) "
      ]
     },
     "execution_count": 87,
     "metadata": {},
     "output_type": "execute_result"
    }
   ],
   "source": [
    "christoffels.display('\\Gamma')"
   ]
  },
  {
   "cell_type": "code",
   "execution_count": 88,
   "metadata": {},
   "outputs": [
    {
     "data": {
      "text/html": [
       "<html><script type=\"math/tex; mode=display\">\\newcommand{\\Bold}[1]{\\mathbf{#1}}\\begin{array}{lcl} \\Gamma_{ \\phantom{\\, v} \\, v \\, v }^{ \\, v \\phantom{\\, v} \\phantom{\\, v} } & = & \\frac{\\frac{\\partial\\,A}{\\partial v}}{A\\left(v, w\\right)} \\\\ \\Gamma_{ \\phantom{\\, v} \\, {\\theta} \\, {\\theta} }^{ \\, v \\phantom{\\, {\\theta}} \\phantom{\\, {\\theta}} } & = & \\frac{r\\left(v, w\\right) \\frac{\\partial\\,r}{\\partial w}}{A\\left(v, w\\right)} \\\\ \\Gamma_{ \\phantom{\\, v} \\, {\\phi} \\, {\\phi} }^{ \\, v \\phantom{\\, {\\phi}} \\phantom{\\, {\\phi}} } & = & \\frac{r\\left(v, w\\right) \\sin\\left({\\theta}\\right) \\frac{\\partial\\,r}{\\partial w}}{A\\left(v, w\\right)} \\\\ \\Gamma_{ \\phantom{\\, w} \\, w \\, w }^{ \\, w \\phantom{\\, w} \\phantom{\\, w} } & = & \\frac{\\frac{\\partial\\,A}{\\partial w}}{A\\left(v, w\\right)} \\\\ \\Gamma_{ \\phantom{\\, w} \\, {\\theta} \\, {\\theta} }^{ \\, w \\phantom{\\, {\\theta}} \\phantom{\\, {\\theta}} } & = & \\frac{r\\left(v, w\\right) \\frac{\\partial\\,r}{\\partial v}}{A\\left(v, w\\right)} \\\\ \\Gamma_{ \\phantom{\\, w} \\, {\\phi} \\, {\\phi} }^{ \\, w \\phantom{\\, {\\phi}} \\phantom{\\, {\\phi}} } & = & \\frac{r\\left(v, w\\right) \\sin\\left({\\theta}\\right) \\frac{\\partial\\,r}{\\partial v}}{A\\left(v, w\\right)} \\\\ \\Gamma_{ \\phantom{\\, {\\theta}} \\, v \\, {\\theta} }^{ \\, {\\theta} \\phantom{\\, v} \\phantom{\\, {\\theta}} } & = & \\frac{\\frac{\\partial\\,r}{\\partial v}}{r\\left(v, w\\right)} \\\\ \\Gamma_{ \\phantom{\\, {\\theta}} \\, w \\, {\\theta} }^{ \\, {\\theta} \\phantom{\\, w} \\phantom{\\, {\\theta}} } & = & \\frac{\\frac{\\partial\\,r}{\\partial w}}{r\\left(v, w\\right)} \\\\ \\Gamma_{ \\phantom{\\, {\\theta}} \\, {\\theta} \\, v }^{ \\, {\\theta} \\phantom{\\, {\\theta}} \\phantom{\\, v} } & = & \\frac{\\frac{\\partial\\,r}{\\partial v}}{r\\left(v, w\\right)} \\\\ \\Gamma_{ \\phantom{\\, {\\theta}} \\, {\\theta} \\, w }^{ \\, {\\theta} \\phantom{\\, {\\theta}} \\phantom{\\, w} } & = & \\frac{\\frac{\\partial\\,r}{\\partial w}}{r\\left(v, w\\right)} \\\\ \\Gamma_{ \\phantom{\\, {\\theta}} \\, {\\phi} \\, {\\phi} }^{ \\, {\\theta} \\phantom{\\, {\\phi}} \\phantom{\\, {\\phi}} } & = & -\\frac{1}{2} \\, \\cos\\left({\\theta}\\right) \\\\ \\Gamma_{ \\phantom{\\, {\\phi}} \\, v \\, {\\phi} }^{ \\, {\\phi} \\phantom{\\, v} \\phantom{\\, {\\phi}} } & = & \\frac{\\frac{\\partial\\,r}{\\partial v}}{r\\left(v, w\\right)} \\\\ \\Gamma_{ \\phantom{\\, {\\phi}} \\, w \\, {\\phi} }^{ \\, {\\phi} \\phantom{\\, w} \\phantom{\\, {\\phi}} } & = & \\frac{\\frac{\\partial\\,r}{\\partial w}}{r\\left(v, w\\right)} \\\\ \\Gamma_{ \\phantom{\\, {\\phi}} \\, {\\theta} \\, {\\phi} }^{ \\, {\\phi} \\phantom{\\, {\\theta}} \\phantom{\\, {\\phi}} } & = & \\frac{\\cos\\left({\\theta}\\right)}{2 \\, \\sin\\left({\\theta}\\right)} \\\\ \\Gamma_{ \\phantom{\\, {\\phi}} \\, {\\phi} \\, v }^{ \\, {\\phi} \\phantom{\\, {\\phi}} \\phantom{\\, v} } & = & \\frac{\\frac{\\partial\\,r}{\\partial v}}{r\\left(v, w\\right)} \\\\ \\Gamma_{ \\phantom{\\, {\\phi}} \\, {\\phi} \\, w }^{ \\, {\\phi} \\phantom{\\, {\\phi}} \\phantom{\\, w} } & = & \\frac{\\frac{\\partial\\,r}{\\partial w}}{r\\left(v, w\\right)} \\\\ \\Gamma_{ \\phantom{\\, {\\phi}} \\, {\\phi} \\, {\\theta} }^{ \\, {\\phi} \\phantom{\\, {\\phi}} \\phantom{\\, {\\theta}} } & = & \\frac{\\cos\\left({\\theta}\\right)}{2 \\, \\sin\\left({\\theta}\\right)} \\end{array}</script></html>"
      ],
      "text/plain": [
       "Gam^v_v,v = d(A)/dv/A(v, w) \n",
       "Gam^v_theta,theta = r(v, w)*d(r)/dw/A(v, w) \n",
       "Gam^v_phi,phi = r(v, w)*sin(theta)*d(r)/dw/A(v, w) \n",
       "Gam^w_w,w = d(A)/dw/A(v, w) \n",
       "Gam^w_theta,theta = r(v, w)*d(r)/dv/A(v, w) \n",
       "Gam^w_phi,phi = r(v, w)*sin(theta)*d(r)/dv/A(v, w) \n",
       "Gam^theta_v,theta = d(r)/dv/r(v, w) \n",
       "Gam^theta_w,theta = d(r)/dw/r(v, w) \n",
       "Gam^theta_theta,v = d(r)/dv/r(v, w) \n",
       "Gam^theta_theta,w = d(r)/dw/r(v, w) \n",
       "Gam^theta_phi,phi = -1/2*cos(theta) \n",
       "Gam^phi_v,phi = d(r)/dv/r(v, w) \n",
       "Gam^phi_w,phi = d(r)/dw/r(v, w) \n",
       "Gam^phi_theta,phi = 1/2*cos(theta)/sin(theta) \n",
       "Gam^phi_phi,v = d(r)/dv/r(v, w) \n",
       "Gam^phi_phi,w = d(r)/dw/r(v, w) \n",
       "Gam^phi_phi,theta = 1/2*cos(theta)/sin(theta) "
      ]
     },
     "execution_count": 88,
     "metadata": {},
     "output_type": "execute_result"
    }
   ],
   "source": [
    "levicivita.display()"
   ]
  },
  {
   "cell_type": "code",
   "execution_count": 90,
   "metadata": {},
   "outputs": [
    {
     "data": {
      "text/html": [
       "<html><script type=\"math/tex; mode=display\">\\newcommand{\\Bold}[1]{\\mathbf{#1}}\\left(\\frac{\\frac{\\partial\\,A}{\\partial v}}{A\\left(v, w\\right)}, \\frac{\\cos\\left({\\theta}\\right)}{2 \\, \\sin\\left({\\theta}\\right)}\\right)</script></html>"
      ],
      "text/plain": [
       "(d(A)/dv/A(v, w), 1/2*cos(theta)/sin(theta))"
      ]
     },
     "execution_count": 90,
     "metadata": {},
     "output_type": "execute_result"
    }
   ],
   "source": [
    "levicivita[0,0,0], levicivita[3,3,2]"
   ]
  },
  {
   "cell_type": "code",
   "execution_count": 166,
   "metadata": {},
   "outputs": [
    {
     "data": {
      "text/html": [
       "<html><script type=\"math/tex; mode=display\">\\newcommand{\\Bold}[1]{\\mathbf{#1}}e_0 = \\frac{\\sqrt{\\frac{1}{2}} w \\sqrt{A\\left(v, w\\right)}}{{\\rm \\alpha}\\left(v, {\\theta}, {\\phi}\\right)} \\frac{\\partial}{\\partial v } + \\frac{\\sqrt{\\frac{1}{2}} \\sqrt{A\\left(v, w\\right)} {\\rm \\alpha}\\left(v, {\\theta}, {\\phi}\\right)}{w} \\frac{\\partial}{\\partial w }</script></html>"
      ],
      "text/plain": [
       "e_0 = sqrt(1/2)*w*sqrt(A(v, w))/\\alpha(v, theta, phi) d/dv + sqrt(1/2)*sqrt(A(v, w))*\\alpha(v, theta, phi)/w d/dw"
      ]
     },
     "execution_count": 166,
     "metadata": {},
     "output_type": "execute_result"
    }
   ],
   "source": [
    "tet[0].display()"
   ]
  },
  {
   "cell_type": "code",
   "execution_count": 167,
   "metadata": {},
   "outputs": [
    {
     "data": {
      "text/html": [
       "<html><script type=\"math/tex; mode=display\">\\newcommand{\\Bold}[1]{\\mathbf{#1}}\\frac{\\sqrt{\\frac{1}{2}} \\sqrt{A\\left(v, w\\right)} {\\rm \\alpha}\\left(v, {\\theta}, {\\phi}\\right)}{w}</script></html>"
      ],
      "text/plain": [
       "sqrt(1/2)*sqrt(A(v, w))*\\alpha(v, theta, phi)/w"
      ]
     },
     "execution_count": 167,
     "metadata": {},
     "output_type": "execute_result"
    }
   ],
   "source": [
    "tet[0][1]"
   ]
  },
  {
   "cell_type": "code",
   "execution_count": 168,
   "metadata": {},
   "outputs": [
    {
     "data": {
      "text/html": [
       "<html><script type=\"math/tex; mode=display\">\\newcommand{\\Bold}[1]{\\mathbf{#1}}e^0 = \\frac{\\sqrt{2} \\alpha\\left(v, {\\theta}, {\\phi}\\right)}{2 \\, w \\sqrt{A\\left(v, w\\right)}} \\mathrm{d} v + \\frac{\\sqrt{2} w}{2 \\, \\sqrt{A\\left(v, w\\right)} \\alpha\\left(v, {\\theta}, {\\phi}\\right)} \\mathrm{d} w</script></html>"
      ],
      "text/plain": [
       "e^0 = 1/2*sqrt(2)*alpha(v, theta, phi)/(w*sqrt(A(v, w))) dv + 1/2*sqrt(2)*w/(sqrt(A(v, w))*alpha(v, theta, phi)) dw"
      ]
     },
     "execution_count": 168,
     "metadata": {},
     "output_type": "execute_result"
    }
   ],
   "source": [
    "cotet[0].display()"
   ]
  },
  {
   "cell_type": "code",
   "execution_count": 169,
   "metadata": {},
   "outputs": [
    {
     "data": {
      "text/html": [
       "<html><script type=\"math/tex; mode=display\">\\newcommand{\\Bold}[1]{\\mathbf{#1}}\\frac{\\sqrt{2} \\alpha\\left(v, {\\theta}, {\\phi}\\right)}{2 \\, w \\sqrt{A\\left(v, w\\right)}}</script></html>"
      ],
      "text/plain": [
       "1/2*sqrt(2)*alpha(v, theta, phi)/(w*sqrt(A(v, w)))"
      ]
     },
     "execution_count": 169,
     "metadata": {},
     "output_type": "execute_result"
    }
   ],
   "source": [
    "cotet[0][0]"
   ]
  },
  {
   "cell_type": "markdown",
   "metadata": {},
   "source": [
    "## Structure Coefficients"
   ]
  },
  {
   "cell_type": "code",
   "execution_count": 98,
   "metadata": {},
   "outputs": [],
   "source": [
    "struct_coef = e.structure_coeff()"
   ]
  },
  {
   "cell_type": "code",
   "execution_count": 100,
   "metadata": {},
   "outputs": [
    {
     "data": {
      "text/html": [
       "<html><script type=\"math/tex; mode=display\">\\newcommand{\\Bold}[1]{\\mathbf{#1}}\\begin{array}{lcl} C_{\\,0\\,0\\,1}^{\\phantom{\\, 0}\\phantom{\\, 0}\\phantom{\\, 1}} & = & \\frac{2 \\, \\sqrt{2} A\\left(v, w\\right) \\alpha\\left(v, {\\theta}, {\\phi}\\right) - {\\left(\\sqrt{2} \\alpha\\left(v, {\\theta}, {\\phi}\\right) \\frac{\\partial\\,A}{\\partial v} - \\sqrt{2} \\alpha\\left(v, {\\theta}, {\\phi}\\right) \\frac{\\partial\\,A}{\\partial w} - 2 \\, \\sqrt{2} A\\left(v, w\\right) \\frac{\\partial\\,\\alpha}{\\partial v}\\right)} w}{4 \\, w^{2} \\sqrt{A\\left(v, w\\right)}} \\\\ C_{\\,0\\,0\\,2}^{\\phantom{\\, 0}\\phantom{\\, 0}\\phantom{\\, 2}} & = & \\frac{r\\left(v, w\\right) \\frac{\\partial\\,\\alpha}{\\partial {\\theta}}}{\\alpha\\left(v, {\\theta}, {\\phi}\\right)} \\\\ C_{\\,0\\,0\\,3}^{\\phantom{\\, 0}\\phantom{\\, 0}\\phantom{\\, 3}} & = & \\frac{r\\left(v, w\\right) \\sin\\left({\\theta}\\right) \\frac{\\partial\\,\\alpha}{\\partial {\\phi}}}{\\alpha\\left(v, {\\theta}, {\\phi}\\right)} \\\\ C_{\\,0\\,1\\,0}^{\\phantom{\\, 0}\\phantom{\\, 1}\\phantom{\\, 0}} & = & -\\frac{2 \\, \\sqrt{2} A\\left(v, w\\right) \\alpha\\left(v, {\\theta}, {\\phi}\\right) - {\\left(\\sqrt{2} \\alpha\\left(v, {\\theta}, {\\phi}\\right) \\frac{\\partial\\,A}{\\partial v} - \\sqrt{2} \\alpha\\left(v, {\\theta}, {\\phi}\\right) \\frac{\\partial\\,A}{\\partial w} - 2 \\, \\sqrt{2} A\\left(v, w\\right) \\frac{\\partial\\,\\alpha}{\\partial v}\\right)} w}{4 \\, w^{2} \\sqrt{A\\left(v, w\\right)}} \\\\ C_{\\,0\\,2\\,0}^{\\phantom{\\, 0}\\phantom{\\, 2}\\phantom{\\, 0}} & = & -\\frac{r\\left(v, w\\right) \\frac{\\partial\\,\\alpha}{\\partial {\\theta}}}{\\alpha\\left(v, {\\theta}, {\\phi}\\right)} \\\\ C_{\\,0\\,3\\,0}^{\\phantom{\\, 0}\\phantom{\\, 3}\\phantom{\\, 0}} & = & -\\frac{r\\left(v, w\\right) \\sin\\left({\\theta}\\right) \\frac{\\partial\\,\\alpha}{\\partial {\\phi}}}{\\alpha\\left(v, {\\theta}, {\\phi}\\right)} \\\\ C_{\\,1\\,0\\,1}^{\\phantom{\\, 1}\\phantom{\\, 0}\\phantom{\\, 1}} & = & -\\frac{2 \\, \\sqrt{2} A\\left(v, w\\right) \\alpha\\left(v, {\\theta}, {\\phi}\\right) - {\\left(\\sqrt{2} \\alpha\\left(v, {\\theta}, {\\phi}\\right) \\frac{\\partial\\,A}{\\partial v} + \\sqrt{2} \\alpha\\left(v, {\\theta}, {\\phi}\\right) \\frac{\\partial\\,A}{\\partial w} + 2 \\, \\sqrt{2} A\\left(v, w\\right) \\frac{\\partial\\,\\alpha}{\\partial v}\\right)} w}{4 \\, \\sqrt{A\\left(v, w\\right)} \\alpha\\left(v, {\\theta}, {\\phi}\\right)^{2}} \\\\ C_{\\,1\\,1\\,0}^{\\phantom{\\, 1}\\phantom{\\, 1}\\phantom{\\, 0}} & = & \\frac{2 \\, \\sqrt{2} A\\left(v, w\\right) \\alpha\\left(v, {\\theta}, {\\phi}\\right) - {\\left(\\sqrt{2} \\alpha\\left(v, {\\theta}, {\\phi}\\right) \\frac{\\partial\\,A}{\\partial v} + \\sqrt{2} \\alpha\\left(v, {\\theta}, {\\phi}\\right) \\frac{\\partial\\,A}{\\partial w} + 2 \\, \\sqrt{2} A\\left(v, w\\right) \\frac{\\partial\\,\\alpha}{\\partial v}\\right)} w}{4 \\, \\sqrt{A\\left(v, w\\right)} \\alpha\\left(v, {\\theta}, {\\phi}\\right)^{2}} \\\\ C_{\\,1\\,1\\,2}^{\\phantom{\\, 1}\\phantom{\\, 1}\\phantom{\\, 2}} & = & -\\frac{r\\left(v, w\\right) \\frac{\\partial\\,\\alpha}{\\partial {\\theta}}}{\\alpha\\left(v, {\\theta}, {\\phi}\\right)} \\\\ C_{\\,1\\,1\\,3}^{\\phantom{\\, 1}\\phantom{\\, 1}\\phantom{\\, 3}} & = & -\\frac{r\\left(v, w\\right) \\sin\\left({\\theta}\\right) \\frac{\\partial\\,\\alpha}{\\partial {\\phi}}}{\\alpha\\left(v, {\\theta}, {\\phi}\\right)} \\\\ C_{\\,1\\,2\\,1}^{\\phantom{\\, 1}\\phantom{\\, 2}\\phantom{\\, 1}} & = & \\frac{r\\left(v, w\\right) \\frac{\\partial\\,\\alpha}{\\partial {\\theta}}}{\\alpha\\left(v, {\\theta}, {\\phi}\\right)} \\\\ C_{\\,1\\,3\\,1}^{\\phantom{\\, 1}\\phantom{\\, 3}\\phantom{\\, 1}} & = & \\frac{r\\left(v, w\\right) \\sin\\left({\\theta}\\right) \\frac{\\partial\\,\\alpha}{\\partial {\\phi}}}{\\alpha\\left(v, {\\theta}, {\\phi}\\right)} \\\\ C_{\\,2\\,0\\,2}^{\\phantom{\\, 2}\\phantom{\\, 0}\\phantom{\\, 2}} & = & \\frac{{\\left(\\sqrt{2} \\frac{\\partial\\,r}{\\partial v} + \\sqrt{2} \\frac{\\partial\\,r}{\\partial w}\\right)} w \\sqrt{A\\left(v, w\\right)}}{2 \\, \\alpha\\left(v, {\\theta}, {\\phi}\\right) r\\left(v, w\\right)} \\\\ C_{\\,2\\,1\\,2}^{\\phantom{\\, 2}\\phantom{\\, 1}\\phantom{\\, 2}} & = & \\frac{{\\left(\\sqrt{2} \\alpha\\left(v, {\\theta}, {\\phi}\\right) \\frac{\\partial\\,r}{\\partial v} - \\sqrt{2} \\alpha\\left(v, {\\theta}, {\\phi}\\right) \\frac{\\partial\\,r}{\\partial w}\\right)} \\sqrt{A\\left(v, w\\right)}}{2 \\, w r\\left(v, w\\right)} \\\\ C_{\\,2\\,2\\,0}^{\\phantom{\\, 2}\\phantom{\\, 2}\\phantom{\\, 0}} & = & -\\frac{{\\left(\\sqrt{2} \\frac{\\partial\\,r}{\\partial v} + \\sqrt{2} \\frac{\\partial\\,r}{\\partial w}\\right)} w \\sqrt{A\\left(v, w\\right)}}{2 \\, \\alpha\\left(v, {\\theta}, {\\phi}\\right) r\\left(v, w\\right)} \\\\ C_{\\,2\\,2\\,1}^{\\phantom{\\, 2}\\phantom{\\, 2}\\phantom{\\, 1}} & = & -\\frac{{\\left(\\sqrt{2} \\alpha\\left(v, {\\theta}, {\\phi}\\right) \\frac{\\partial\\,r}{\\partial v} - \\sqrt{2} \\alpha\\left(v, {\\theta}, {\\phi}\\right) \\frac{\\partial\\,r}{\\partial w}\\right)} \\sqrt{A\\left(v, w\\right)}}{2 \\, w r\\left(v, w\\right)} \\\\ C_{\\,3\\,0\\,3}^{\\phantom{\\, 3}\\phantom{\\, 0}\\phantom{\\, 3}} & = & \\frac{{\\left(\\sqrt{2} \\frac{\\partial\\,r}{\\partial v} + \\sqrt{2} \\frac{\\partial\\,r}{\\partial w}\\right)} w \\sqrt{A\\left(v, w\\right)}}{2 \\, \\alpha\\left(v, {\\theta}, {\\phi}\\right) r\\left(v, w\\right)} \\\\ C_{\\,3\\,1\\,3}^{\\phantom{\\, 3}\\phantom{\\, 1}\\phantom{\\, 3}} & = & \\frac{{\\left(\\sqrt{2} \\alpha\\left(v, {\\theta}, {\\phi}\\right) \\frac{\\partial\\,r}{\\partial v} - \\sqrt{2} \\alpha\\left(v, {\\theta}, {\\phi}\\right) \\frac{\\partial\\,r}{\\partial w}\\right)} \\sqrt{A\\left(v, w\\right)}}{2 \\, w r\\left(v, w\\right)} \\\\ C_{\\,3\\,2\\,3}^{\\phantom{\\, 3}\\phantom{\\, 2}\\phantom{\\, 3}} & = & \\frac{\\cos\\left({\\theta}\\right) r\\left(v, w\\right)}{\\sin\\left({\\theta}\\right)} \\\\ C_{\\,3\\,3\\,0}^{\\phantom{\\, 3}\\phantom{\\, 3}\\phantom{\\, 0}} & = & -\\frac{{\\left(\\sqrt{2} \\frac{\\partial\\,r}{\\partial v} + \\sqrt{2} \\frac{\\partial\\,r}{\\partial w}\\right)} w \\sqrt{A\\left(v, w\\right)}}{2 \\, \\alpha\\left(v, {\\theta}, {\\phi}\\right) r\\left(v, w\\right)} \\\\ C_{\\,3\\,3\\,1}^{\\phantom{\\, 3}\\phantom{\\, 3}\\phantom{\\, 1}} & = & -\\frac{{\\left(\\sqrt{2} \\alpha\\left(v, {\\theta}, {\\phi}\\right) \\frac{\\partial\\,r}{\\partial v} - \\sqrt{2} \\alpha\\left(v, {\\theta}, {\\phi}\\right) \\frac{\\partial\\,r}{\\partial w}\\right)} \\sqrt{A\\left(v, w\\right)}}{2 \\, w r\\left(v, w\\right)} \\\\ C_{\\,3\\,3\\,2}^{\\phantom{\\, 3}\\phantom{\\, 3}\\phantom{\\, 2}} & = & -\\frac{\\cos\\left({\\theta}\\right) r\\left(v, w\\right)}{\\sin\\left({\\theta}\\right)} \\end{array}</script></html>"
      ],
      "text/plain": [
       "C_001 = 1/4*(2*sqrt(2)*A(v, w)*alpha(v, theta, phi) - (sqrt(2)*alpha(v, theta, phi)*d(A)/dv - sqrt(2)*alpha(v, theta, phi)*d(A)/dw - 2*sqrt(2)*A(v, w)*d(alpha)/dv)*w)/(w^2*sqrt(A(v, w))) \n",
       "C_002 = r(v, w)*d(alpha)/dtheta/alpha(v, theta, phi) \n",
       "C_003 = r(v, w)*sin(theta)*d(alpha)/dphi/alpha(v, theta, phi) \n",
       "C_010 = -1/4*(2*sqrt(2)*A(v, w)*alpha(v, theta, phi) - (sqrt(2)*alpha(v, theta, phi)*d(A)/dv - sqrt(2)*alpha(v, theta, phi)*d(A)/dw - 2*sqrt(2)*A(v, w)*d(alpha)/dv)*w)/(w^2*sqrt(A(v, w))) \n",
       "C_020 = -r(v, w)*d(alpha)/dtheta/alpha(v, theta, phi) \n",
       "C_030 = -r(v, w)*sin(theta)*d(alpha)/dphi/alpha(v, theta, phi) \n",
       "C_101 = -1/4*(2*sqrt(2)*A(v, w)*alpha(v, theta, phi) - (sqrt(2)*alpha(v, theta, phi)*d(A)/dv + sqrt(2)*alpha(v, theta, phi)*d(A)/dw + 2*sqrt(2)*A(v, w)*d(alpha)/dv)*w)/(sqrt(A(v, w))*alpha(v, theta, phi)^2) \n",
       "C_110 = 1/4*(2*sqrt(2)*A(v, w)*alpha(v, theta, phi) - (sqrt(2)*alpha(v, theta, phi)*d(A)/dv + sqrt(2)*alpha(v, theta, phi)*d(A)/dw + 2*sqrt(2)*A(v, w)*d(alpha)/dv)*w)/(sqrt(A(v, w))*alpha(v, theta, phi)^2) \n",
       "C_112 = -r(v, w)*d(alpha)/dtheta/alpha(v, theta, phi) \n",
       "C_113 = -r(v, w)*sin(theta)*d(alpha)/dphi/alpha(v, theta, phi) \n",
       "C_121 = r(v, w)*d(alpha)/dtheta/alpha(v, theta, phi) \n",
       "C_131 = r(v, w)*sin(theta)*d(alpha)/dphi/alpha(v, theta, phi) \n",
       "C_202 = 1/2*(sqrt(2)*d(r)/dv + sqrt(2)*d(r)/dw)*w*sqrt(A(v, w))/(alpha(v, theta, phi)*r(v, w)) \n",
       "C_212 = 1/2*(sqrt(2)*alpha(v, theta, phi)*d(r)/dv - sqrt(2)*alpha(v, theta, phi)*d(r)/dw)*sqrt(A(v, w))/(w*r(v, w)) \n",
       "C_220 = -1/2*(sqrt(2)*d(r)/dv + sqrt(2)*d(r)/dw)*w*sqrt(A(v, w))/(alpha(v, theta, phi)*r(v, w)) \n",
       "C_221 = -1/2*(sqrt(2)*alpha(v, theta, phi)*d(r)/dv - sqrt(2)*alpha(v, theta, phi)*d(r)/dw)*sqrt(A(v, w))/(w*r(v, w)) \n",
       "C_303 = 1/2*(sqrt(2)*d(r)/dv + sqrt(2)*d(r)/dw)*w*sqrt(A(v, w))/(alpha(v, theta, phi)*r(v, w)) \n",
       "C_313 = 1/2*(sqrt(2)*alpha(v, theta, phi)*d(r)/dv - sqrt(2)*alpha(v, theta, phi)*d(r)/dw)*sqrt(A(v, w))/(w*r(v, w)) \n",
       "C_323 = cos(theta)*r(v, w)/sin(theta) \n",
       "C_330 = -1/2*(sqrt(2)*d(r)/dv + sqrt(2)*d(r)/dw)*w*sqrt(A(v, w))/(alpha(v, theta, phi)*r(v, w)) \n",
       "C_331 = -1/2*(sqrt(2)*alpha(v, theta, phi)*d(r)/dv - sqrt(2)*alpha(v, theta, phi)*d(r)/dw)*sqrt(A(v, w))/(w*r(v, w)) \n",
       "C_332 = -cos(theta)*r(v, w)/sin(theta) "
      ]
     },
     "execution_count": 100,
     "metadata": {},
     "output_type": "execute_result"
    }
   ],
   "source": [
    "struct_coef.display('C')"
   ]
  },
  {
   "cell_type": "code",
   "execution_count": 101,
   "metadata": {},
   "outputs": [
    {
     "data": {
      "text/html": [
       "<html><script type=\"math/tex; mode=display\">\\newcommand{\\Bold}[1]{\\mathbf{#1}}e_0 = \\frac{\\sqrt{\\frac{1}{2}} w \\sqrt{A\\left(v, w\\right)}}{{\\rm \\alpha}\\left(v, {\\theta}, {\\phi}\\right)} \\frac{\\partial}{\\partial v } + \\frac{\\sqrt{\\frac{1}{2}} w \\sqrt{A\\left(v, w\\right)}}{{\\rm \\alpha}\\left(v, {\\theta}, {\\phi}\\right)} \\frac{\\partial}{\\partial w }</script></html>"
      ],
      "text/plain": [
       "e_0 = sqrt(1/2)*w*sqrt(A(v, w))/\\alpha(v, theta, phi) d/dv + sqrt(1/2)*w*sqrt(A(v, w))/\\alpha(v, theta, phi) d/dw"
      ]
     },
     "execution_count": 101,
     "metadata": {},
     "output_type": "execute_result"
    }
   ],
   "source": [
    "e0.display()"
   ]
  },
  {
   "cell_type": "code",
   "execution_count": 104,
   "metadata": {},
   "outputs": [
    {
     "data": {
      "text/html": [
       "<html><script type=\"math/tex; mode=display\">\\newcommand{\\Bold}[1]{\\mathbf{#1}}\\begin{array}{lcl} e_{\\,0}^{\\phantom{\\, 0}} & = & \\frac{\\sqrt{\\frac{1}{2}} w \\sqrt{A\\left(v, w\\right)}}{{\\rm \\alpha}\\left(v, {\\theta}, {\\phi}\\right)} \\\\ e_{\\,1}^{\\phantom{\\, 1}} & = & \\frac{\\sqrt{\\frac{1}{2}} w \\sqrt{A\\left(v, w\\right)}}{{\\rm \\alpha}\\left(v, {\\theta}, {\\phi}\\right)} \\end{array}</script></html>"
      ],
      "text/plain": [
       "e_0 = sqrt(1/2)*w*sqrt(A(v, w))/\\alpha(v, theta, phi) \n",
       "e_1 = sqrt(1/2)*w*sqrt(A(v, w))/\\alpha(v, theta, phi) "
      ]
     },
     "execution_count": 104,
     "metadata": {},
     "output_type": "execute_result"
    }
   ],
   "source": [
    "e0.components().display('e')"
   ]
  },
  {
   "cell_type": "code",
   "execution_count": 131,
   "metadata": {},
   "outputs": [
    {
     "data": {
      "text/html": [
       "<html><script type=\"math/tex; mode=display\">\\newcommand{\\Bold}[1]{\\mathbf{#1}}\\frac{\\sqrt{\\frac{1}{2}} w \\sqrt{A\\left(v, w\\right)}}{{\\rm \\alpha}\\left(v, {\\theta}, {\\phi}\\right)}</script></html>"
      ],
      "text/plain": [
       "sqrt(1/2)*w*sqrt(A(v, w))/\\alpha(v, theta, phi)"
      ]
     },
     "execution_count": 131,
     "metadata": {},
     "output_type": "execute_result"
    }
   ],
   "source": [
    "e[0][0]"
   ]
  },
  {
   "cell_type": "code",
   "execution_count": null,
   "metadata": {},
   "outputs": [],
   "source": []
  },
  {
   "cell_type": "code",
   "execution_count": null,
   "metadata": {},
   "outputs": [],
   "source": []
  },
  {
   "cell_type": "code",
   "execution_count": null,
   "metadata": {},
   "outputs": [],
   "source": []
  },
  {
   "cell_type": "markdown",
   "metadata": {},
   "source": [
    "# Bibliography"
   ]
  },
  {
   "cell_type": "markdown",
   "metadata": {},
   "source": [
    "<!--bibtex\n",
    "\n",
    "@article{Kaul2010Schwarzschild,\n",
    "\tAuthor = {Kaul, Romesh K. and Majumdar, Parthasarathi},\n",
    "\tJournal = {Physical Review D},\n",
    "\tMonth = dec,\n",
    "\tNumber = {2},\n",
    "\tTitle = {Schwarzschild horizon dynamics and {SU}(2) {Chern-Simons} theory},\n",
    "\tVolume = {83},\n",
    "\tYear = {2010}}\n",
    "\n",
    "-->"
   ]
  },
  {
   "cell_type": "markdown",
   "metadata": {},
   "source": [
    "# Sandbox"
   ]
  },
  {
   "cell_type": "markdown",
   "metadata": {},
   "source": [
    "## Implicit Differentiation\n",
    "\n",
    "Reference: [Sagemath forums](https://ask.sagemath.org/question/10393/implicit-differentiation-displays-extraneous-x-variable/)"
   ]
  },
  {
   "cell_type": "code",
   "execution_count": 34,
   "metadata": {},
   "outputs": [],
   "source": [
    "r = function('r')(v,w)"
   ]
  },
  {
   "cell_type": "code",
   "execution_count": 35,
   "metadata": {},
   "outputs": [],
   "source": [
    "equation = 2*v*w + (r/r_s - 1)*exp(r/r_s)"
   ]
  },
  {
   "cell_type": "code",
   "execution_count": 37,
   "metadata": {},
   "outputs": [
    {
     "data": {
      "text/html": [
       "<html><script type=\"math/tex; mode=display\">\\newcommand{\\Bold}[1]{\\mathbf{#1}}\\frac{{\\left(\\frac{r\\left(v, w\\right)}{r_{s}} - 1\\right)} e^{\\left(\\frac{r\\left(v, w\\right)}{r_{s}}\\right)} \\frac{\\partial}{\\partial v}r\\left(v, w\\right)}{r_{s}} + 2 \\, w + \\frac{e^{\\left(\\frac{r\\left(v, w\\right)}{r_{s}}\\right)} \\frac{\\partial}{\\partial v}r\\left(v, w\\right)}{r_{s}}</script></html>"
      ],
      "text/plain": [
       "(r(v, w)/r_s - 1)*e^(r(v, w)/r_s)*diff(r(v, w), v)/r_s + 2*w + e^(r(v, w)/r_s)*diff(r(v, w), v)/r_s"
      ]
     },
     "execution_count": 37,
     "metadata": {},
     "output_type": "execute_result"
    }
   ],
   "source": [
    "diff(equation,v)"
   ]
  },
  {
   "cell_type": "code",
   "execution_count": 31,
   "metadata": {},
   "outputs": [],
   "source": [
    "fx = function('f')(x)"
   ]
  },
  {
   "cell_type": "code",
   "execution_count": 32,
   "metadata": {},
   "outputs": [],
   "source": [
    "lnfx = ln(fx)"
   ]
  },
  {
   "cell_type": "code",
   "execution_count": 34,
   "metadata": {},
   "outputs": [],
   "source": [
    "dflnx = diff(lnfx,x)"
   ]
  },
  {
   "cell_type": "code",
   "execution_count": 35,
   "metadata": {},
   "outputs": [
    {
     "data": {
      "text/html": [
       "<html><script type=\"math/tex; mode=display\">\\newcommand{\\Bold}[1]{\\mathbf{#1}}\\frac{\\frac{\\partial}{\\partial x}f\\left(x\\right)}{f\\left(x\\right)}</script></html>"
      ],
      "text/plain": [
       "diff(f(x), x)/f(x)"
      ]
     },
     "execution_count": 35,
     "metadata": {},
     "output_type": "execute_result"
    }
   ],
   "source": [
    "dflnx"
   ]
  }
 ],
 "metadata": {
  "kernelspec": {
   "display_name": "SageMath 8.0",
   "language": "",
   "name": "sagemath"
  },
  "language_info": {
   "codemirror_mode": {
    "name": "ipython",
    "version": 2
   },
   "file_extension": ".py",
   "mimetype": "text/x-python",
   "name": "python",
   "nbconvert_exporter": "python",
   "pygments_lexer": "ipython2",
   "version": "2.7.13"
  },
  "latex_envs": {
   "bibliofile": "biblio.bib",
   "cite_by": "key",
   "current_citInitial": 1,
   "eqLabelWithNumbers": true,
   "eqNumInitial": 0
  },
  "toc": {
   "nav_menu": {},
   "number_sections": true,
   "sideBar": false,
   "skip_h1_title": false,
   "toc_cell": true,
   "toc_position": {
    "height": "210px",
    "left": "884.7px",
    "right": "122.3px",
    "top": "0px",
    "width": "269px"
   },
   "toc_section_display": "block",
   "toc_window_display": true
  },
  "varInspector": {
   "cols": {
    "lenName": 16,
    "lenType": 16,
    "lenVar": 40
   },
   "kernels_config": {
    "python": {
     "delete_cmd_postfix": "",
     "delete_cmd_prefix": "del ",
     "library": "var_list.py",
     "varRefreshCmd": "print(var_dic_list())"
    },
    "r": {
     "delete_cmd_postfix": ") ",
     "delete_cmd_prefix": "rm(",
     "library": "var_list.r",
     "varRefreshCmd": "cat(var_dic_list()) "
    }
   },
   "types_to_exclude": [
    "module",
    "function",
    "builtin_function_or_method",
    "instance",
    "_Feature"
   ],
   "window_display": false
  }
 },
 "nbformat": 4,
 "nbformat_minor": 2
}
