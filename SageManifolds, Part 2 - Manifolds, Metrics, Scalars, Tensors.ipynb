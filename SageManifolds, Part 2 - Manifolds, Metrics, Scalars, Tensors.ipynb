{
 "cells": [
  {
   "cell_type": "code",
   "execution_count": 1,
   "metadata": {
    "collapsed": true
   },
   "outputs": [],
   "source": [
    "%matplotlib inline"
   ]
  },
  {
   "cell_type": "code",
   "execution_count": 2,
   "metadata": {
    "collapsed": true
   },
   "outputs": [],
   "source": [
    "%display latex"
   ]
  },
  {
   "cell_type": "markdown",
   "metadata": {},
   "source": [
    "## Implementing SAGE Manifolds in Jupyter Notebook"
   ]
  },
  {
   "cell_type": "markdown",
   "metadata": {},
   "source": [
    "## Mathjax custom macros\n",
    "\n",
    "$ \\newcommand{\\opexpect}[3]{\\langle #1 \\vert #2 \\vert #3 \\rangle} $\n",
    "$ \\newcommand{\\rarrow}{\\rightarrow} $\n",
    "$ \\newcommand{\\bra}{\\langle} $\n",
    "$ \\newcommand{\\ket}{\\rangle} $\n",
    "\n",
    "$ \\newcommand{\\up}{\\uparrow} $\n",
    "$ \\newcommand{\\down}{\\downarrow} $\n",
    "\n",
    "$ \\newcommand{\\mb}[1]{\\mathbf{#1}} $\n",
    "$ \\newcommand{\\mc}[1]{\\mathcal{#1}} $\n",
    "$ \\newcommand{\\mbb}[1]{\\mathbb{#1}} $\n",
    "$ \\newcommand{\\mf}[1]{\\mathfrak{#1}} $\n",
    "\n",
    "$ \\newcommand{\\vect}[1]{\\boldsymbol{\\mathrm{#1}}} $\n",
    "$ \\newcommand{\\expect}[1]{\\langle #1\\rangle} $\n",
    "\n",
    "$ \\newcommand{\\innerp}[2]{\\langle #1 \\vert #2 \\rangle} $\n",
    "$ \\newcommand{\\fullbra}[1]{\\langle #1 \\vert} $\n",
    "$ \\newcommand{\\fullket}[1]{\\vert #1 \\rangle} $\n",
    "$ \\newcommand{\\supersc}[1]{^{\\text{#1}}} $\n",
    "$ \\newcommand{\\subsc}[1]{_{\\text{#1}}} $\n",
    "$ \\newcommand{\\sltwoc}{SL(2,\\mathbb{C})} $\n",
    "$ \\newcommand{\\sltwoz}{SL(2,\\mathbb{Z})} $\n",
    "\n",
    "$ \\newcommand{\\utilde}[1]{\\underset{\\sim}{#1}} $"
   ]
  },
  {
   "cell_type": "markdown",
   "metadata": {},
   "source": [
    "### Schwarzschild Black Hole\n",
    "\n",
    "Reference: [Schwarzschild](http://sagemanifolds.obspm.fr/examples/html/SM_sphere_S2.html)"
   ]
  },
  {
   "cell_type": "code",
   "execution_count": 3,
   "metadata": {
    "collapsed": false
   },
   "outputs": [
    {
     "data": {
      "text/html": [
       "<html><script type=\"math/tex; mode=display\">\\newcommand{\\Bold}[1]{\\mathbf{#1}}M2</script></html>"
      ],
      "text/plain": [
       "4-dimensional manifold 'M2'"
      ]
     },
     "execution_count": 3,
     "metadata": {},
     "output_type": "execute_result"
    }
   ],
   "source": [
    "M2 = Manifold(4,'M2'); M2"
   ]
  },
  {
   "cell_type": "code",
   "execution_count": 4,
   "metadata": {
    "collapsed": false
   },
   "outputs": [
    {
     "data": {
      "text/html": [
       "<html><script type=\"math/tex; mode=display\">\\newcommand{\\Bold}[1]{\\mathbf{#1}}\\left(M2,(t, r, \\theta, \\phi)\\right)</script></html>"
      ],
      "text/plain": [
       "chart (M2, (t, r, theta, phi))"
      ]
     },
     "execution_count": 4,
     "metadata": {},
     "output_type": "execute_result"
    }
   ],
   "source": [
    "chart.<t,r,theta,phi> = M2.chart(); chart"
   ]
  },
  {
   "cell_type": "code",
   "execution_count": 5,
   "metadata": {
    "collapsed": false
   },
   "outputs": [
    {
     "data": {
      "text/html": [
       "<html><script type=\"math/tex; mode=display\">\\newcommand{\\Bold}[1]{\\mathbf{#1}}g2</script></html>"
      ],
      "text/plain": [
       "Lorentzian metric 'g2' on the 4-dimensional manifold 'M2'"
      ]
     },
     "execution_count": 5,
     "metadata": {},
     "output_type": "execute_result"
    }
   ],
   "source": [
    "\n",
    "g2 = M2.lorentz_metric('g2'); g2"
   ]
  },
  {
   "cell_type": "markdown",
   "metadata": {},
   "source": [
    "#### Schwarzschild Parameter Definitions\n",
    "\n",
    "Schwarzschild Radius: $r_s$\n",
    "Black hole mass: $M$\n",
    "Newton's Constant: $G_N$\n",
    "Speed of light: $c$"
   ]
  },
  {
   "cell_type": "code",
   "execution_count": 6,
   "metadata": {
    "collapsed": false
   },
   "outputs": [
    {
     "data": {
      "text/html": [
       "<html><script type=\"math/tex; mode=display\">\\newcommand{\\Bold}[1]{\\mathbf{#1}}\\left(M, G_{N}, r_{s}, c\\right)</script></html>"
      ],
      "text/plain": [
       "(M, G_N, r_s, c)"
      ]
     },
     "execution_count": 6,
     "metadata": {},
     "output_type": "execute_result"
    }
   ],
   "source": [
    "var('M,G_N,r_s,c')"
   ]
  },
  {
   "cell_type": "markdown",
   "metadata": {},
   "source": [
    "#### Define Metric Elements"
   ]
  },
  {
   "cell_type": "code",
   "execution_count": 7,
   "metadata": {
    "collapsed": false
   },
   "outputs": [
    {
     "data": {
      "text/html": [
       "<html><script type=\"math/tex; mode=display\">\\newcommand{\\Bold}[1]{\\mathbf{#1}}g2 = \\left( \\frac{c^{2} r - c^{2} r_{s}}{r} \\right) \\mathrm{d} t\\otimes \\mathrm{d} t + \\left( \\frac{r}{r - r_{s}} \\right) \\mathrm{d} r\\otimes \\mathrm{d} r + r^{2} \\mathrm{d} \\theta\\otimes \\mathrm{d} \\theta + r^{2} \\sin\\left(\\theta\\right)^{2} \\mathrm{d} \\phi\\otimes \\mathrm{d} \\phi</script></html>"
      ],
      "text/plain": [
       "g2 = (c^2*r - c^2*r_s)/r dt*dt + r/(r - r_s) dr*dr + r^2 dtheta*dtheta + r^2*sin(theta)^2 dphi*dphi"
      ]
     },
     "execution_count": 7,
     "metadata": {},
     "output_type": "execute_result"
    }
   ],
   "source": [
    "g2[0,0] = (1 - r_s/r)*(c**2)\n",
    "g2[1,1] = 1/(1-r_s/r)\n",
    "g2[2,2] = r**2\n",
    "g2[3,3] = r**2 * (sin(theta))^2\n",
    "g2.display()"
   ]
  },
  {
   "cell_type": "markdown",
   "metadata": {},
   "source": [
    "#### Christoffel Connection"
   ]
  },
  {
   "cell_type": "code",
   "execution_count": 8,
   "metadata": {
    "collapsed": false
   },
   "outputs": [
    {
     "data": {
      "text/html": [
       "<html><script type=\"math/tex; mode=display\">\\newcommand{\\Bold}[1]{\\mathbf{#1}}\\verb|3-indices|\\phantom{\\verb!x!}\\verb|components|\\phantom{\\verb!x!}\\verb|w.r.t.|\\phantom{\\verb!x!}\\verb|coordinate|\\phantom{\\verb!x!}\\verb|frame|\\phantom{\\verb!x!}\\verb|(M2,|\\phantom{\\verb!x!}\\verb|(d/dt,d/dr,d/dtheta,d/dphi)),|\\phantom{\\verb!x!}\\verb|with|\\phantom{\\verb!x!}\\verb|symmetry|\\phantom{\\verb!x!}\\verb|on|\\phantom{\\verb!x!}\\verb|the|\\phantom{\\verb!x!}\\verb|index|\\phantom{\\verb!x!}\\verb|positions|\\phantom{\\verb!x!}\\verb|(1,|\\phantom{\\verb!x!}\\verb|2)|</script></html>"
      ],
      "text/plain": [
       "3-indices components w.r.t. coordinate frame (M2, (d/dt,d/dr,d/dtheta,d/dphi)), with symmetry on the index positions (1, 2)"
      ]
     },
     "execution_count": 8,
     "metadata": {},
     "output_type": "execute_result"
    }
   ],
   "source": [
    "christoffels = g2.christoffel_symbols();\n",
    "christoffels"
   ]
  },
  {
   "cell_type": "code",
   "execution_count": 9,
   "metadata": {
    "collapsed": false
   },
   "outputs": [
    {
     "data": {
      "text/html": [
       "<html><script type=\"math/tex; mode=display\">\\newcommand{\\Bold}[1]{\\mathbf{#1}}\\begin{array}{lcl} \\Gamma_{\\,0\\,0\\,1}^{\\phantom{\\, 0}\\phantom{\\, 0}\\phantom{\\, 1}} & = & \\frac{r_{s}}{2 \\, {\\left(r^{2} - r r_{s}\\right)}} \\\\ \\Gamma_{\\,0\\,1\\,0}^{\\phantom{\\, 0}\\phantom{\\, 1}\\phantom{\\, 0}} & = & \\frac{r_{s}}{2 \\, {\\left(r^{2} - r r_{s}\\right)}} \\\\ \\Gamma_{\\,1\\,0\\,0}^{\\phantom{\\, 1}\\phantom{\\, 0}\\phantom{\\, 0}} & = & -\\frac{c^{2} r r_{s} - c^{2} r_{s}^{2}}{2 \\, r^{3}} \\\\ \\Gamma_{\\,1\\,1\\,1}^{\\phantom{\\, 1}\\phantom{\\, 1}\\phantom{\\, 1}} & = & -\\frac{r_{s}}{2 \\, {\\left(r^{2} - r r_{s}\\right)}} \\\\ \\Gamma_{\\,1\\,2\\,2}^{\\phantom{\\, 1}\\phantom{\\, 2}\\phantom{\\, 2}} & = & -r + r_{s} \\\\ \\Gamma_{\\,1\\,3\\,3}^{\\phantom{\\, 1}\\phantom{\\, 3}\\phantom{\\, 3}} & = & -{\\left(r - r_{s}\\right)} \\sin\\left(\\theta\\right)^{2} \\\\ \\Gamma_{\\,2\\,1\\,2}^{\\phantom{\\, 2}\\phantom{\\, 1}\\phantom{\\, 2}} & = & \\frac{1}{r} \\\\ \\Gamma_{\\,2\\,2\\,1}^{\\phantom{\\, 2}\\phantom{\\, 2}\\phantom{\\, 1}} & = & \\frac{1}{r} \\\\ \\Gamma_{\\,2\\,3\\,3}^{\\phantom{\\, 2}\\phantom{\\, 3}\\phantom{\\, 3}} & = & -\\cos\\left(\\theta\\right) \\sin\\left(\\theta\\right) \\\\ \\Gamma_{\\,3\\,1\\,3}^{\\phantom{\\, 3}\\phantom{\\, 1}\\phantom{\\, 3}} & = & \\frac{1}{r} \\\\ \\Gamma_{\\,3\\,2\\,3}^{\\phantom{\\, 3}\\phantom{\\, 2}\\phantom{\\, 3}} & = & \\frac{\\cos\\left(\\theta\\right)}{\\sin\\left(\\theta\\right)} \\\\ \\Gamma_{\\,3\\,3\\,1}^{\\phantom{\\, 3}\\phantom{\\, 3}\\phantom{\\, 1}} & = & \\frac{1}{r} \\\\ \\Gamma_{\\,3\\,3\\,2}^{\\phantom{\\, 3}\\phantom{\\, 3}\\phantom{\\, 2}} & = & \\frac{\\cos\\left(\\theta\\right)}{\\sin\\left(\\theta\\right)} \\end{array}</script></html>"
      ],
      "text/plain": [
       "\\Gamma_001 = 1/2*r_s/(r^2 - r*r_s) \n",
       "\\Gamma_010 = 1/2*r_s/(r^2 - r*r_s) \n",
       "\\Gamma_100 = -1/2*(c^2*r*r_s - c^2*r_s^2)/r^3 \n",
       "\\Gamma_111 = -1/2*r_s/(r^2 - r*r_s) \n",
       "\\Gamma_122 = -r + r_s \n",
       "\\Gamma_133 = -(r - r_s)*sin(theta)^2 \n",
       "\\Gamma_212 = 1/r \n",
       "\\Gamma_221 = 1/r \n",
       "\\Gamma_233 = -cos(theta)*sin(theta) \n",
       "\\Gamma_313 = 1/r \n",
       "\\Gamma_323 = cos(theta)/sin(theta) \n",
       "\\Gamma_331 = 1/r \n",
       "\\Gamma_332 = cos(theta)/sin(theta) "
      ]
     },
     "execution_count": 9,
     "metadata": {},
     "output_type": "execute_result"
    }
   ],
   "source": [
    "christoffels.display('\\Gamma')"
   ]
  },
  {
   "cell_type": "markdown",
   "metadata": {},
   "source": [
    "#### Taking traces"
   ]
  },
  {
   "cell_type": "code",
   "execution_count": 10,
   "metadata": {
    "collapsed": false
   },
   "outputs": [
    {
     "data": {
      "text/html": [
       "<html><script type=\"math/tex; mode=display\">\\newcommand{\\Bold}[1]{\\mathbf{#1}}\\verb|1-index|\\phantom{\\verb!x!}\\verb|components|\\phantom{\\verb!x!}\\verb|w.r.t.|\\phantom{\\verb!x!}\\verb|coordinate|\\phantom{\\verb!x!}\\verb|frame|\\phantom{\\verb!x!}\\verb|(M2,|\\phantom{\\verb!x!}\\verb|(d/dt,d/dr,d/dtheta,d/dphi))|</script></html>"
      ],
      "text/plain": [
       "1-index components w.r.t. coordinate frame (M2, (d/dt,d/dr,d/dtheta,d/dphi))"
      ]
     },
     "execution_count": 10,
     "metadata": {},
     "output_type": "execute_result"
    }
   ],
   "source": [
    "christoffels.trace(0,1)"
   ]
  },
  {
   "cell_type": "markdown",
   "metadata": {},
   "source": [
    "#### Riemann Tensor"
   ]
  },
  {
   "cell_type": "code",
   "execution_count": 11,
   "metadata": {
    "collapsed": true
   },
   "outputs": [],
   "source": [
    " riemann = g2.riemann()"
   ]
  },
  {
   "cell_type": "code",
   "execution_count": 12,
   "metadata": {
    "collapsed": false
   },
   "outputs": [
    {
     "data": {
      "text/html": [
       "<html><script type=\"math/tex; mode=display\">\\newcommand{\\Bold}[1]{\\mathbf{#1}}\\mathrm{Riem}\\left(g2\\right)</script></html>"
      ],
      "text/plain": [
       "tensor field 'Riem(g2)' of type (1,3) on the 4-dimensional manifold 'M2'"
      ]
     },
     "execution_count": 12,
     "metadata": {},
     "output_type": "execute_result"
    }
   ],
   "source": [
    "riemann"
   ]
  },
  {
   "cell_type": "code",
   "execution_count": 13,
   "metadata": {
    "collapsed": false
   },
   "outputs": [
    {
     "data": {
      "text/html": [
       "<html><script type=\"math/tex; mode=display\">\\newcommand{\\Bold}[1]{\\mathbf{#1}}\\verb|<class|\\phantom{\\verb!x!}\\verb|'sage.geometry.manifolds.tensorfield.TensorFieldFreeModule_with_category.element_class'>|</script></html>"
      ],
      "text/plain": [
       "<class 'sage.geometry.manifolds.tensorfield.TensorFieldFreeModule_with_category.element_class'>"
      ]
     },
     "execution_count": 13,
     "metadata": {},
     "output_type": "execute_result"
    }
   ],
   "source": [
    "type(riemann)"
   ]
  },
  {
   "cell_type": "code",
   "execution_count": 14,
   "metadata": {
    "collapsed": false
   },
   "outputs": [
    {
     "data": {
      "text/html": [
       "<html><script type=\"math/tex; mode=display\">\\newcommand{\\Bold}[1]{\\mathbf{#1}}\\mathrm{Riem}\\left(g2\\right) = \\left( \\frac{r_{s}}{r^{3} - r^{2} r_{s}} \\right) \\frac{\\partial}{\\partial t }\\otimes \\mathrm{d} r\\otimes \\mathrm{d} t\\otimes \\mathrm{d} r + \\left( -\\frac{r_{s}}{r^{3} - r^{2} r_{s}} \\right) \\frac{\\partial}{\\partial t }\\otimes \\mathrm{d} r\\otimes \\mathrm{d} r\\otimes \\mathrm{d} t -\\frac{r_{s}}{2 \\, r} \\frac{\\partial}{\\partial t }\\otimes \\mathrm{d} \\theta\\otimes \\mathrm{d} t\\otimes \\mathrm{d} \\theta + \\frac{r_{s}}{2 \\, r} \\frac{\\partial}{\\partial t }\\otimes \\mathrm{d} \\theta\\otimes \\mathrm{d} \\theta\\otimes \\mathrm{d} t -\\frac{r_{s} \\sin\\left(\\theta\\right)^{2}}{2 \\, r} \\frac{\\partial}{\\partial t }\\otimes \\mathrm{d} \\phi\\otimes \\mathrm{d} t\\otimes \\mathrm{d} \\phi + \\frac{r_{s} \\sin\\left(\\theta\\right)^{2}}{2 \\, r} \\frac{\\partial}{\\partial t }\\otimes \\mathrm{d} \\phi\\otimes \\mathrm{d} \\phi\\otimes \\mathrm{d} t + \\left( -\\frac{c^{2} r r_{s} - c^{2} r_{s}^{2}}{r^{4}} \\right) \\frac{\\partial}{\\partial r }\\otimes \\mathrm{d} t\\otimes \\mathrm{d} t\\otimes \\mathrm{d} r + \\left( \\frac{c^{2} r r_{s} - c^{2} r_{s}^{2}}{r^{4}} \\right) \\frac{\\partial}{\\partial r }\\otimes \\mathrm{d} t\\otimes \\mathrm{d} r\\otimes \\mathrm{d} t -\\frac{r_{s}}{2 \\, r} \\frac{\\partial}{\\partial r }\\otimes \\mathrm{d} \\theta\\otimes \\mathrm{d} r\\otimes \\mathrm{d} \\theta + \\frac{r_{s}}{2 \\, r} \\frac{\\partial}{\\partial r }\\otimes \\mathrm{d} \\theta\\otimes \\mathrm{d} \\theta\\otimes \\mathrm{d} r -\\frac{r_{s} \\sin\\left(\\theta\\right)^{2}}{2 \\, r} \\frac{\\partial}{\\partial r }\\otimes \\mathrm{d} \\phi\\otimes \\mathrm{d} r\\otimes \\mathrm{d} \\phi + \\frac{r_{s} \\sin\\left(\\theta\\right)^{2}}{2 \\, r} \\frac{\\partial}{\\partial r }\\otimes \\mathrm{d} \\phi\\otimes \\mathrm{d} \\phi\\otimes \\mathrm{d} r + \\left( \\frac{c^{2} r r_{s} - c^{2} r_{s}^{2}}{2 \\, r^{4}} \\right) \\frac{\\partial}{\\partial \\theta }\\otimes \\mathrm{d} t\\otimes \\mathrm{d} t\\otimes \\mathrm{d} \\theta + \\left( -\\frac{c^{2} r r_{s} - c^{2} r_{s}^{2}}{2 \\, r^{4}} \\right) \\frac{\\partial}{\\partial \\theta }\\otimes \\mathrm{d} t\\otimes \\mathrm{d} \\theta\\otimes \\mathrm{d} t + \\frac{r_{s}}{2 \\, {\\left(r^{3} - r^{2} r_{s}\\right)}} \\frac{\\partial}{\\partial \\theta }\\otimes \\mathrm{d} r\\otimes \\mathrm{d} r\\otimes \\mathrm{d} \\theta -\\frac{r_{s}}{2 \\, {\\left(r^{3} - r^{2} r_{s}\\right)}} \\frac{\\partial}{\\partial \\theta }\\otimes \\mathrm{d} r\\otimes \\mathrm{d} \\theta\\otimes \\mathrm{d} r + \\frac{r_{s} \\sin\\left(\\theta\\right)^{2}}{r} \\frac{\\partial}{\\partial \\theta }\\otimes \\mathrm{d} \\phi\\otimes \\mathrm{d} \\theta\\otimes \\mathrm{d} \\phi -\\frac{r_{s} \\sin\\left(\\theta\\right)^{2}}{r} \\frac{\\partial}{\\partial \\theta }\\otimes \\mathrm{d} \\phi\\otimes \\mathrm{d} \\phi\\otimes \\mathrm{d} \\theta + \\left( \\frac{c^{2} r r_{s} - c^{2} r_{s}^{2}}{2 \\, r^{4}} \\right) \\frac{\\partial}{\\partial \\phi }\\otimes \\mathrm{d} t\\otimes \\mathrm{d} t\\otimes \\mathrm{d} \\phi + \\left( -\\frac{c^{2} r r_{s} - c^{2} r_{s}^{2}}{2 \\, r^{4}} \\right) \\frac{\\partial}{\\partial \\phi }\\otimes \\mathrm{d} t\\otimes \\mathrm{d} \\phi\\otimes \\mathrm{d} t + \\frac{r_{s}}{2 \\, {\\left(r^{3} - r^{2} r_{s}\\right)}} \\frac{\\partial}{\\partial \\phi }\\otimes \\mathrm{d} r\\otimes \\mathrm{d} r\\otimes \\mathrm{d} \\phi -\\frac{r_{s}}{2 \\, {\\left(r^{3} - r^{2} r_{s}\\right)}} \\frac{\\partial}{\\partial \\phi }\\otimes \\mathrm{d} r\\otimes \\mathrm{d} \\phi\\otimes \\mathrm{d} r -\\frac{r_{s}}{r} \\frac{\\partial}{\\partial \\phi }\\otimes \\mathrm{d} \\theta\\otimes \\mathrm{d} \\theta\\otimes \\mathrm{d} \\phi + \\frac{r_{s}}{r} \\frac{\\partial}{\\partial \\phi }\\otimes \\mathrm{d} \\theta\\otimes \\mathrm{d} \\phi\\otimes \\mathrm{d} \\theta</script></html>"
      ],
      "text/plain": [
       "Riem(g2) = r_s/(r^3 - r^2*r_s) d/dt*dr*dt*dr - r_s/(r^3 - r^2*r_s) d/dt*dr*dr*dt - 1/2*r_s/r d/dt*dtheta*dt*dtheta + 1/2*r_s/r d/dt*dtheta*dtheta*dt - 1/2*r_s*sin(theta)^2/r d/dt*dphi*dt*dphi + 1/2*r_s*sin(theta)^2/r d/dt*dphi*dphi*dt - (c^2*r*r_s - c^2*r_s^2)/r^4 d/dr*dt*dt*dr + (c^2*r*r_s - c^2*r_s^2)/r^4 d/dr*dt*dr*dt - 1/2*r_s/r d/dr*dtheta*dr*dtheta + 1/2*r_s/r d/dr*dtheta*dtheta*dr - 1/2*r_s*sin(theta)^2/r d/dr*dphi*dr*dphi + 1/2*r_s*sin(theta)^2/r d/dr*dphi*dphi*dr + 1/2*(c^2*r*r_s - c^2*r_s^2)/r^4 d/dtheta*dt*dt*dtheta - 1/2*(c^2*r*r_s - c^2*r_s^2)/r^4 d/dtheta*dt*dtheta*dt + 1/2*r_s/(r^3 - r^2*r_s) d/dtheta*dr*dr*dtheta - 1/2*r_s/(r^3 - r^2*r_s) d/dtheta*dr*dtheta*dr + r_s*sin(theta)^2/r d/dtheta*dphi*dtheta*dphi - r_s*sin(theta)^2/r d/dtheta*dphi*dphi*dtheta + 1/2*(c^2*r*r_s - c^2*r_s^2)/r^4 d/dphi*dt*dt*dphi - 1/2*(c^2*r*r_s - c^2*r_s^2)/r^4 d/dphi*dt*dphi*dt + 1/2*r_s/(r^3 - r^2*r_s) d/dphi*dr*dr*dphi - 1/2*r_s/(r^3 - r^2*r_s) d/dphi*dr*dphi*dr - r_s/r d/dphi*dtheta*dtheta*dphi + r_s/r d/dphi*dtheta*dphi*dtheta"
      ]
     },
     "execution_count": 14,
     "metadata": {},
     "output_type": "execute_result"
    }
   ],
   "source": [
    "riemann.display()"
   ]
  },
  {
   "cell_type": "code",
   "execution_count": 27,
   "metadata": {
    "collapsed": false
   },
   "outputs": [
    {
     "data": {
      "text/html": [
       "<html><script type=\"math/tex; mode=display\">\\newcommand{\\Bold}[1]{\\mathbf{#1}}\\begin{array}{lcl} R_{\\,0\\,1\\,0\\,1}^{\\phantom{\\, 0}\\phantom{\\, 1}\\phantom{\\, 0}\\phantom{\\, 1}} & = & \\frac{r_{s}}{r^{3} - r^{2} r_{s}} \\\\ R_{\\,0\\,1\\,1\\,0}^{\\phantom{\\, 0}\\phantom{\\, 1}\\phantom{\\, 1}\\phantom{\\, 0}} & = & -\\frac{r_{s}}{r^{3} - r^{2} r_{s}} \\\\ R_{\\,0\\,2\\,0\\,2}^{\\phantom{\\, 0}\\phantom{\\, 2}\\phantom{\\, 0}\\phantom{\\, 2}} & = & -\\frac{r_{s}}{2 \\, r} \\\\ R_{\\,0\\,2\\,2\\,0}^{\\phantom{\\, 0}\\phantom{\\, 2}\\phantom{\\, 2}\\phantom{\\, 0}} & = & \\frac{r_{s}}{2 \\, r} \\\\ R_{\\,0\\,3\\,0\\,3}^{\\phantom{\\, 0}\\phantom{\\, 3}\\phantom{\\, 0}\\phantom{\\, 3}} & = & -\\frac{r_{s} \\sin\\left(\\theta\\right)^{2}}{2 \\, r} \\\\ R_{\\,0\\,3\\,3\\,0}^{\\phantom{\\, 0}\\phantom{\\, 3}\\phantom{\\, 3}\\phantom{\\, 0}} & = & \\frac{r_{s} \\sin\\left(\\theta\\right)^{2}}{2 \\, r} \\\\ R_{\\,1\\,0\\,0\\,1}^{\\phantom{\\, 1}\\phantom{\\, 0}\\phantom{\\, 0}\\phantom{\\, 1}} & = & -\\frac{c^{2} r r_{s} - c^{2} r_{s}^{2}}{r^{4}} \\\\ R_{\\,1\\,0\\,1\\,0}^{\\phantom{\\, 1}\\phantom{\\, 0}\\phantom{\\, 1}\\phantom{\\, 0}} & = & \\frac{c^{2} r r_{s} - c^{2} r_{s}^{2}}{r^{4}} \\\\ R_{\\,1\\,2\\,1\\,2}^{\\phantom{\\, 1}\\phantom{\\, 2}\\phantom{\\, 1}\\phantom{\\, 2}} & = & -\\frac{r_{s}}{2 \\, r} \\\\ R_{\\,1\\,2\\,2\\,1}^{\\phantom{\\, 1}\\phantom{\\, 2}\\phantom{\\, 2}\\phantom{\\, 1}} & = & \\frac{r_{s}}{2 \\, r} \\\\ R_{\\,1\\,3\\,1\\,3}^{\\phantom{\\, 1}\\phantom{\\, 3}\\phantom{\\, 1}\\phantom{\\, 3}} & = & -\\frac{r_{s} \\sin\\left(\\theta\\right)^{2}}{2 \\, r} \\\\ R_{\\,1\\,3\\,3\\,1}^{\\phantom{\\, 1}\\phantom{\\, 3}\\phantom{\\, 3}\\phantom{\\, 1}} & = & \\frac{r_{s} \\sin\\left(\\theta\\right)^{2}}{2 \\, r} \\\\ R_{\\,2\\,0\\,0\\,2}^{\\phantom{\\, 2}\\phantom{\\, 0}\\phantom{\\, 0}\\phantom{\\, 2}} & = & \\frac{c^{2} r r_{s} - c^{2} r_{s}^{2}}{2 \\, r^{4}} \\\\ R_{\\,2\\,0\\,2\\,0}^{\\phantom{\\, 2}\\phantom{\\, 0}\\phantom{\\, 2}\\phantom{\\, 0}} & = & -\\frac{c^{2} r r_{s} - c^{2} r_{s}^{2}}{2 \\, r^{4}} \\\\ R_{\\,2\\,1\\,1\\,2}^{\\phantom{\\, 2}\\phantom{\\, 1}\\phantom{\\, 1}\\phantom{\\, 2}} & = & \\frac{r_{s}}{2 \\, {\\left(r^{3} - r^{2} r_{s}\\right)}} \\\\ R_{\\,2\\,1\\,2\\,1}^{\\phantom{\\, 2}\\phantom{\\, 1}\\phantom{\\, 2}\\phantom{\\, 1}} & = & -\\frac{r_{s}}{2 \\, {\\left(r^{3} - r^{2} r_{s}\\right)}} \\\\ R_{\\,2\\,3\\,2\\,3}^{\\phantom{\\, 2}\\phantom{\\, 3}\\phantom{\\, 2}\\phantom{\\, 3}} & = & \\frac{r_{s} \\sin\\left(\\theta\\right)^{2}}{r} \\\\ R_{\\,2\\,3\\,3\\,2}^{\\phantom{\\, 2}\\phantom{\\, 3}\\phantom{\\, 3}\\phantom{\\, 2}} & = & -\\frac{r_{s} \\sin\\left(\\theta\\right)^{2}}{r} \\\\ R_{\\,3\\,0\\,0\\,3}^{\\phantom{\\, 3}\\phantom{\\, 0}\\phantom{\\, 0}\\phantom{\\, 3}} & = & -\\frac{c^{2} r_{s} {\\left(\\frac{r_{s}}{r} - 1\\right)}}{2 \\, r^{3}} \\\\ R_{\\,3\\,0\\,3\\,0}^{\\phantom{\\, 3}\\phantom{\\, 0}\\phantom{\\, 3}\\phantom{\\, 0}} & = & -\\frac{c^{2} r r_{s} - c^{2} r_{s}^{2}}{2 \\, r^{4}} \\\\ R_{\\,3\\,1\\,1\\,3}^{\\phantom{\\, 3}\\phantom{\\, 1}\\phantom{\\, 1}\\phantom{\\, 3}} & = & \\frac{r_{s}}{2 \\, {\\left(r^{3} - r^{2} r_{s}\\right)}} \\\\ R_{\\,3\\,1\\,3\\,1}^{\\phantom{\\, 3}\\phantom{\\, 1}\\phantom{\\, 3}\\phantom{\\, 1}} & = & -\\frac{r_{s}}{2 \\, {\\left(r^{3} - r^{2} r_{s}\\right)}} \\\\ R_{\\,3\\,2\\,2\\,3}^{\\phantom{\\, 3}\\phantom{\\, 2}\\phantom{\\, 2}\\phantom{\\, 3}} & = & -\\frac{r_{s}}{r} \\\\ R_{\\,3\\,2\\,3\\,2}^{\\phantom{\\, 3}\\phantom{\\, 2}\\phantom{\\, 3}\\phantom{\\, 2}} & = & \\frac{r_{s}}{r} \\end{array}</script></html>"
      ],
      "text/plain": [
       "R_0101 = r_s/(r^3 - r^2*r_s) \n",
       "R_0110 = -r_s/(r^3 - r^2*r_s) \n",
       "R_0202 = -1/2*r_s/r \n",
       "R_0220 = 1/2*r_s/r \n",
       "R_0303 = -1/2*r_s*sin(theta)^2/r \n",
       "R_0330 = 1/2*r_s*sin(theta)^2/r \n",
       "R_1001 = -(c^2*r*r_s - c^2*r_s^2)/r^4 \n",
       "R_1010 = (c^2*r*r_s - c^2*r_s^2)/r^4 \n",
       "R_1212 = -1/2*r_s/r \n",
       "R_1221 = 1/2*r_s/r \n",
       "R_1313 = -1/2*r_s*sin(theta)^2/r \n",
       "R_1331 = 1/2*r_s*sin(theta)^2/r \n",
       "R_2002 = 1/2*(c^2*r*r_s - c^2*r_s^2)/r^4 \n",
       "R_2020 = -1/2*(c^2*r*r_s - c^2*r_s^2)/r^4 \n",
       "R_2112 = 1/2*r_s/(r^3 - r^2*r_s) \n",
       "R_2121 = -1/2*r_s/(r^3 - r^2*r_s) \n",
       "R_2323 = r_s*sin(theta)^2/r \n",
       "R_2332 = -r_s*sin(theta)^2/r \n",
       "R_3003 = -1/2*c^2*r_s*(r_s/r - 1)/r^3 \n",
       "R_3030 = -1/2*(c^2*r*r_s - c^2*r_s^2)/r^4 \n",
       "R_3113 = 1/2*r_s/(r^3 - r^2*r_s) \n",
       "R_3131 = -1/2*r_s/(r^3 - r^2*r_s) \n",
       "R_3223 = -r_s/r \n",
       "R_3232 = r_s/r "
      ]
     },
     "execution_count": 27,
     "metadata": {},
     "output_type": "execute_result"
    }
   ],
   "source": [
    "riemann_comp = riemann.components()\n",
    "riemann_comp.display('R')"
   ]
  },
  {
   "cell_type": "code",
   "execution_count": 24,
   "metadata": {
    "collapsed": false
   },
   "outputs": [
    {
     "data": {
      "text/html": [
       "<html><script type=\"math/tex; mode=display\">\\newcommand{\\Bold}[1]{\\mathbf{#1}}\\frac{1}{2} \\, c^{2} {\\left(\\frac{r_{s}}{r^{3}} - \\frac{r_{s}^{2}}{r^{4}}\\right)}</script></html>"
      ],
      "text/plain": [
       "1/2*c^2*(r_s/r^3 - r_s^2/r^4)"
      ]
     },
     "execution_count": 24,
     "metadata": {},
     "output_type": "execute_result"
    }
   ],
   "source": [
    "riemann[3,0,0,3].expand().collect(c^2)"
   ]
  },
  {
   "cell_type": "code",
   "execution_count": 25,
   "metadata": {
    "collapsed": false
   },
   "outputs": [
    {
     "data": {
      "text/html": [
       "<html><script type=\"math/tex; mode=display\">\\newcommand{\\Bold}[1]{\\mathbf{#1}}-\\frac{c^{2} r_{s} {\\left(\\frac{r_{s}}{r} - 1\\right)}}{2 \\, r^{3}}</script></html>"
      ],
      "text/plain": [
       "-1/2*c^2*r_s*(r_s/r - 1)/r^3"
      ]
     },
     "execution_count": 25,
     "metadata": {},
     "output_type": "execute_result"
    }
   ],
   "source": [
    "riemann[3,0,0,3].collect_common_factors()"
   ]
  },
  {
   "cell_type": "markdown",
   "metadata": {},
   "source": [
    "#### Ricci Tensor"
   ]
  },
  {
   "cell_type": "code",
   "execution_count": 16,
   "metadata": {
    "collapsed": false
   },
   "outputs": [
    {
     "data": {
      "text/html": [
       "<html><script type=\"math/tex; mode=display\">\\newcommand{\\Bold}[1]{\\mathbf{#1}}\\mathrm{Ric}\\left(g2\\right) = 0</script></html>"
      ],
      "text/plain": [
       "Ric(g2) = 0"
      ]
     },
     "execution_count": 16,
     "metadata": {},
     "output_type": "execute_result"
    }
   ],
   "source": [
    "Ricci = g2.ricci()\n",
    "Ricci.display()"
   ]
  },
  {
   "cell_type": "code",
   "execution_count": 17,
   "metadata": {
    "collapsed": false
   },
   "outputs": [
    {
     "data": {
      "text/html": [
       "<html><script type=\"math/tex; mode=display\">\\newcommand{\\Bold}[1]{\\mathbf{#1}}</script></html>"
      ],
      "text/plain": []
     },
     "execution_count": 17,
     "metadata": {},
     "output_type": "execute_result"
    }
   ],
   "source": [
    "ricci_comp = Ricci.components()\n",
    "ricci_comp.display('Ricci')"
   ]
  },
  {
   "cell_type": "code",
   "execution_count": 20,
   "metadata": {
    "collapsed": false
   },
   "outputs": [
    {
     "data": {
      "text/html": [
       "<html><script type=\"math/tex; mode=display\">\\newcommand{\\Bold}[1]{\\mathbf{#1}}\\verb|<class|\\phantom{\\verb!x!}\\verb|'sage.geometry.manifolds.tensorfield.TensorFieldFreeModule_with_category.element_class'>|</script></html>"
      ],
      "text/plain": [
       "<class 'sage.geometry.manifolds.tensorfield.TensorFieldFreeModule_with_category.element_class'>"
      ]
     },
     "execution_count": 20,
     "metadata": {},
     "output_type": "execute_result"
    }
   ],
   "source": [
    "type(ricci)"
   ]
  },
  {
   "cell_type": "markdown",
   "metadata": {},
   "source": [
    "#### Ricci Scalar"
   ]
  },
  {
   "cell_type": "code",
   "execution_count": 18,
   "metadata": {
    "collapsed": false
   },
   "outputs": [
    {
     "data": {
      "text/html": [
       "<html><script type=\"math/tex; mode=display\">\\newcommand{\\Bold}[1]{\\mathbf{#1}}\\mathrm{r}\\left(g2\\right)</script></html>"
      ],
      "text/plain": [
       "scalar field 'r(g2)' on the 4-dimensional manifold 'M2'"
      ]
     },
     "execution_count": 18,
     "metadata": {},
     "output_type": "execute_result"
    }
   ],
   "source": [
    "ricci_scalar = g2.ricci_scalar()\n",
    "ricci_scalar"
   ]
  },
  {
   "cell_type": "markdown",
   "metadata": {},
   "source": [
    "### Vector Fields"
   ]
  },
  {
   "cell_type": "code",
   "execution_count": 31,
   "metadata": {
    "collapsed": false
   },
   "outputs": [
    {
     "data": {
      "text/html": [
       "<html><script type=\"math/tex; mode=display\">\\newcommand{\\Bold}[1]{\\mathbf{#1}}u</script></html>"
      ],
      "text/plain": [
       "vector field 'u' on the 4-dimensional manifold 'M2'"
      ]
     },
     "execution_count": 31,
     "metadata": {},
     "output_type": "execute_result"
    }
   ],
   "source": [
    "u = M2.vector_field('u')\n",
    "u"
   ]
  },
  {
   "cell_type": "code",
   "execution_count": 33,
   "metadata": {
    "collapsed": false
   },
   "outputs": [
    {
     "data": {
      "text/html": [
       "<html><script type=\"math/tex; mode=display\">\\newcommand{\\Bold}[1]{\\mathbf{#1}}u = \\frac{\\partial}{\\partial t }+\\frac{\\partial}{\\partial r }+\\frac{\\partial}{\\partial \\theta }+\\frac{\\partial}{\\partial \\phi }</script></html>"
      ],
      "text/plain": [
       "u = d/dt + d/dr + d/dtheta + d/dphi"
      ]
     },
     "execution_count": 33,
     "metadata": {},
     "output_type": "execute_result"
    }
   ],
   "source": [
    "u[0],u[1],u[2],u[3] = 1,1,1,1\n",
    "u.display()"
   ]
  },
  {
   "cell_type": "markdown",
   "metadata": {},
   "source": [
    "#### Raising, Lowering Indices"
   ]
  },
  {
   "cell_type": "code",
   "execution_count": 37,
   "metadata": {
    "collapsed": false
   },
   "outputs": [
    {
     "data": {
      "text/html": [
       "<html><script type=\"math/tex; mode=display\">\\newcommand{\\Bold}[1]{\\mathbf{#1}}\\mbox{1-form on the 4-dimensional manifold 'M2'}</script></html>"
      ],
      "text/plain": [
       "1-form on the 4-dimensional manifold 'M2'"
      ]
     },
     "execution_count": 37,
     "metadata": {},
     "output_type": "execute_result"
    }
   ],
   "source": [
    "u2 = g2.contract(u)\n",
    "u2"
   ]
  },
  {
   "cell_type": "code",
   "execution_count": 38,
   "metadata": {
    "collapsed": false
   },
   "outputs": [
    {
     "data": {
      "text/html": [
       "<html><script type=\"math/tex; mode=display\">\\newcommand{\\Bold}[1]{\\mathbf{#1}}\\left( \\frac{c^{2} r - c^{2} r_{s}}{r} \\right) \\mathrm{d} t + \\left( \\frac{r}{r - r_{s}} \\right) \\mathrm{d} r + r^{2} \\mathrm{d} \\theta + r^{2} \\sin\\left(\\theta\\right)^{2} \\mathrm{d} \\phi</script></html>"
      ],
      "text/plain": [
       "(c^2*r - c^2*r_s)/r dt + r/(r - r_s) dr + r^2 dtheta + r^2*sin(theta)^2 dphi"
      ]
     },
     "execution_count": 38,
     "metadata": {},
     "output_type": "execute_result"
    }
   ],
   "source": [
    "u2.display()"
   ]
  },
  {
   "cell_type": "markdown",
   "metadata": {},
   "source": [
    "#### Two Ways of Finding Norm of Vector Field"
   ]
  },
  {
   "cell_type": "code",
   "execution_count": 42,
   "metadata": {
    "collapsed": false
   },
   "outputs": [
    {
     "data": {
      "text/html": [
       "<html><script type=\"math/tex; mode=display\">\\newcommand{\\Bold}[1]{\\mathbf{#1}}\\mbox{scalar field on the 4-dimensional manifold 'M2'}</script></html>"
      ],
      "text/plain": [
       "scalar field on the 4-dimensional manifold 'M2'"
      ]
     },
     "execution_count": 42,
     "metadata": {},
     "output_type": "execute_result"
    }
   ],
   "source": [
    "norm_u = u.contract(u2)\n",
    "norm_u"
   ]
  },
  {
   "cell_type": "code",
   "execution_count": 44,
   "metadata": {
    "collapsed": false
   },
   "outputs": [
    {
     "data": {
      "text/html": [
       "<html><script type=\"math/tex; mode=display\">\\newcommand{\\Bold}[1]{\\mathbf{#1}}\\begin{array}{llcl} & M2 & \\longrightarrow & \\mathbb{R} \\\\ & \\left(t, r, \\theta, \\phi\\right) & \\longmapsto & \\frac{r^{4} + c^{2} r_{s}^{2} + {\\left(c^{2} + 1\\right)} r^{2} + {\\left(r^{4} - r^{3} r_{s}\\right)} \\sin\\left(\\theta\\right)^{2} - {\\left(2 \\, c^{2} r + r^{3}\\right)} r_{s}}{r^{2} - r r_{s}} \\end{array}</script></html>"
      ],
      "text/plain": [
       "M2 --> R\n",
       "(t, r, theta, phi) |--> (r^4 + c^2*r_s^2 + (c^2 + 1)*r^2 + (r^4 - r^3*r_s)*sin(theta)^2 - (2*c^2*r + r^3)*r_s)/(r^2 - r*r_s)"
      ]
     },
     "execution_count": 44,
     "metadata": {},
     "output_type": "execute_result"
    }
   ],
   "source": [
    "norm_u.display()"
   ]
  },
  {
   "cell_type": "code",
   "execution_count": 45,
   "metadata": {
    "collapsed": false
   },
   "outputs": [
    {
     "data": {
      "text/html": [
       "<html><script type=\"math/tex; mode=display\">\\newcommand{\\Bold}[1]{\\mathbf{#1}}\\begin{array}{llcl} g2\\left(u,u\\right):& M2 & \\longrightarrow & \\mathbb{R} \\\\ & \\left(t, r, \\theta, \\phi\\right) & \\longmapsto & \\frac{r^{4} + c^{2} r_{s}^{2} + {\\left(c^{2} + 1\\right)} r^{2} + {\\left(r^{4} - r^{3} r_{s}\\right)} \\sin\\left(\\theta\\right)^{2} - {\\left(2 \\, c^{2} r + r^{3}\\right)} r_{s}}{r^{2} - r r_{s}} \\end{array}</script></html>"
      ],
      "text/plain": [
       "g2(u,u): M2 --> R\n",
       "   (t, r, theta, phi) |--> (r^4 + c^2*r_s^2 + (c^2 + 1)*r^2 + (r^4 - r^3*r_s)*sin(theta)^2 - (2*c^2*r + r^3)*r_s)/(r^2 - r*r_s)"
      ]
     },
     "execution_count": 45,
     "metadata": {},
     "output_type": "execute_result"
    }
   ],
   "source": [
    "norm_u2 = g2(u,u)\n",
    "norm_u2.display()"
   ]
  },
  {
   "cell_type": "code",
   "execution_count": 59,
   "metadata": {
    "collapsed": false
   },
   "outputs": [
    {
     "data": {
      "text/html": [
       "<html><script type=\"math/tex; mode=display\">\\newcommand{\\Bold}[1]{\\mathbf{#1}}r^{3} {\\left(\\frac{\\sin\\left(\\theta\\right)^{2}}{r - r_{s}} + \\frac{1}{r - r_{s}}\\right)} - {\\left(\\frac{r_{s} \\sin\\left(\\theta\\right)^{2}}{r - r_{s}} + \\frac{r_{s}}{r - r_{s}}\\right)} r^{2} + {\\left(\\frac{c^{2}}{r - r_{s}} + \\frac{1}{r - r_{s}}\\right)} r - \\frac{2 \\, c^{2} r_{s}}{r - r_{s}} + \\frac{c^{2} r_{s}^{2}}{{\\left(r - r_{s}\\right)} r}</script></html>"
      ],
      "text/plain": [
       "r^3*(sin(theta)^2/(r - r_s) + 1/(r - r_s)) - (r_s*sin(theta)^2/(r - r_s) + r_s/(r - r_s))*r^2 + (c^2/(r - r_s) + 1/(r - r_s))*r - 2*c^2*r_s/(r - r_s) + c^2*r_s^2/((r - r_s)*r)"
      ]
     },
     "execution_count": 59,
     "metadata": {},
     "output_type": "execute_result"
    }
   ],
   "source": [
    "norm_u2.function_chart().expand().collect(r).collect(r^3)"
   ]
  },
  {
   "cell_type": "markdown",
   "metadata": {},
   "source": [
    "### Vector Frames & Affine Connections\n",
    "\n",
    "Reference: [Affine Connections](http://localhost:8080/doc/live/reference/manifolds/sage/geometry/manifolds/connection.html), [Vector Frames](http://localhost:8080/doc/live/reference/manifolds/sage/geometry/manifolds/vectorframe.html)"
   ]
  },
  {
   "cell_type": "code",
   "execution_count": 92,
   "metadata": {
    "collapsed": true
   },
   "outputs": [],
   "source": [
    "M3 = Manifold(3,'M3')\n",
    "chart.<x,y,z> = M3.chart()"
   ]
  },
  {
   "cell_type": "code",
   "execution_count": 93,
   "metadata": {
    "collapsed": false
   },
   "outputs": [
    {
     "data": {
      "text/html": [
       "<html><script type=\"math/tex; mode=display\">\\newcommand{\\Bold}[1]{\\mathbf{#1}}\\left(M3, \\left(e_0,e_1,e_2\\right)\\right)</script></html>"
      ],
      "text/plain": [
       "vector frame (M3, (e_0,e_1,e_2))"
      ]
     },
     "execution_count": 93,
     "metadata": {},
     "output_type": "execute_result"
    }
   ],
   "source": [
    "triad = M3.vector_frame('e')\n",
    "triad"
   ]
  },
  {
   "cell_type": "code",
   "execution_count": 94,
   "metadata": {
    "collapsed": false
   },
   "outputs": [
    {
     "data": {
      "text/html": [
       "<html><script type=\"math/tex; mode=display\">\\newcommand{\\Bold}[1]{\\mathbf{#1}}\\left(M3 ,\\left(\\frac{\\partial}{\\partial x },\\frac{\\partial}{\\partial y },\\frac{\\partial}{\\partial z }\\right)\\right)</script></html>"
      ],
      "text/plain": [
       "coordinate frame (M3, (d/dx,d/dy,d/dz))"
      ]
     },
     "execution_count": 94,
     "metadata": {},
     "output_type": "execute_result"
    }
   ],
   "source": [
    "M3.default_frame()"
   ]
  },
  {
   "cell_type": "code",
   "execution_count": 95,
   "metadata": {
    "collapsed": false
   },
   "outputs": [
    {
     "data": {
      "text/html": [
       "<html><script type=\"math/tex; mode=display\">\\newcommand{\\Bold}[1]{\\mathbf{#1}}\\left[\\left(M3 ,\\left(\\frac{\\partial}{\\partial x },\\frac{\\partial}{\\partial y },\\frac{\\partial}{\\partial z }\\right)\\right), \\left(M3, \\left(e_0,e_1,e_2\\right)\\right)\\right]</script></html>"
      ],
      "text/plain": [
       "[coordinate frame (M3, (d/dx,d/dy,d/dz)), vector frame (M3, (e_0,e_1,e_2))]"
      ]
     },
     "execution_count": 95,
     "metadata": {},
     "output_type": "execute_result"
    }
   ],
   "source": [
    "M3.frames()"
   ]
  },
  {
   "cell_type": "code",
   "execution_count": 98,
   "metadata": {
    "collapsed": false
   },
   "outputs": [
    {
     "data": {
      "text/html": [
       "<html><script type=\"math/tex; mode=display\">\\newcommand{\\Bold}[1]{\\mathbf{#1}}\\verb|<class|\\phantom{\\verb!x!}\\verb|'sage.geometry.manifolds.vectorfield.VectorFieldFreeModule_with_category.element_class'>|</script></html>"
      ],
      "text/plain": [
       "<class 'sage.geometry.manifolds.vectorfield.VectorFieldFreeModule_with_category.element_class'>"
      ]
     },
     "execution_count": 98,
     "metadata": {},
     "output_type": "execute_result"
    }
   ],
   "source": [
    "type(triad[0])"
   ]
  },
  {
   "cell_type": "code",
   "execution_count": 99,
   "metadata": {
    "collapsed": true
   },
   "outputs": [],
   "source": [
    "e0 = triad[0]"
   ]
  },
  {
   "cell_type": "code",
   "execution_count": 104,
   "metadata": {
    "collapsed": false
   },
   "outputs": [
    {
     "data": {
      "text/html": [
       "<html><script type=\"math/tex; mode=display\">\\newcommand{\\Bold}[1]{\\mathbf{#1}}\\left(M3, \\left(e_0,e_1,e_2\\right)\\right)</script></html>"
      ],
      "text/plain": [
       "vector frame (M3, (e_0,e_1,e_2))"
      ]
     },
     "execution_count": 104,
     "metadata": {},
     "output_type": "execute_result"
    }
   ],
   "source": [
    "e0.pick_a_basis()"
   ]
  },
  {
   "cell_type": "code",
   "execution_count": 106,
   "metadata": {
    "collapsed": true
   },
   "outputs": [],
   "source": [
    "M3.set_default_frame(triad)"
   ]
  },
  {
   "cell_type": "code",
   "execution_count": 107,
   "metadata": {
    "collapsed": false
   },
   "outputs": [
    {
     "data": {
      "text/html": [
       "<html><script type=\"math/tex; mode=display\">\\newcommand{\\Bold}[1]{\\mathbf{#1}}e_0 = e_0</script></html>"
      ],
      "text/plain": [
       "e_0 = e_0"
      ]
     },
     "execution_count": 107,
     "metadata": {},
     "output_type": "execute_result"
    }
   ],
   "source": [
    "e0.display()"
   ]
  },
  {
   "cell_type": "code",
   "execution_count": 110,
   "metadata": {
    "collapsed": false
   },
   "outputs": [
    {
     "data": {
      "text/html": [
       "<html><script type=\"math/tex; mode=display\">\\newcommand{\\Bold}[1]{\\mathbf{#1}}\\verb|1-index|\\phantom{\\verb!x!}\\verb|components|\\phantom{\\verb!x!}\\verb|w.r.t.|\\phantom{\\verb!x!}\\verb|vector|\\phantom{\\verb!x!}\\verb|frame|\\phantom{\\verb!x!}\\verb|(M3,|\\phantom{\\verb!x!}\\verb|(e_0,e_1,e_2))|</script></html>"
      ],
      "text/plain": [
       "1-index components w.r.t. vector frame (M3, (e_0,e_1,e_2))"
      ]
     },
     "execution_count": 110,
     "metadata": {},
     "output_type": "execute_result"
    }
   ],
   "source": [
    "e0.components()"
   ]
  },
  {
   "cell_type": "code",
   "execution_count": 114,
   "metadata": {
    "collapsed": false
   },
   "outputs": [
    {
     "name": "stdout",
     "output_type": "stream",
     "text": [
      "vector field 'e_0' on the 3-dimensional manifold 'M3'\n"
     ]
    }
   ],
   "source": [
    "print(e0)"
   ]
  },
  {
   "cell_type": "code",
   "execution_count": 117,
   "metadata": {
    "collapsed": false
   },
   "outputs": [],
   "source": [
    "struct_coef = triad.structure_coef()"
   ]
  },
  {
   "cell_type": "code",
   "execution_count": 119,
   "metadata": {
    "collapsed": false
   },
   "outputs": [
    {
     "data": {
      "text/html": [
       "<html><script type=\"math/tex; mode=display\">\\newcommand{\\Bold}[1]{\\mathbf{#1}}</script></html>"
      ],
      "text/plain": []
     },
     "execution_count": 119,
     "metadata": {},
     "output_type": "execute_result"
    }
   ],
   "source": [
    "struct_coef.display('C')"
   ]
  },
  {
   "cell_type": "code",
   "execution_count": 121,
   "metadata": {
    "collapsed": false
   },
   "outputs": [
    {
     "data": {
      "text/html": [
       "<html><script type=\"math/tex; mode=display\">\\newcommand{\\Bold}[1]{\\mathbf{#1}}\\nabla</script></html>"
      ],
      "text/plain": [
       "affine connection 'nabla' on the 3-dimensional manifold 'M3'"
      ]
     },
     "execution_count": 121,
     "metadata": {},
     "output_type": "execute_result"
    }
   ],
   "source": [
    "affineC = M3.aff_connection('nabla',r'\\nabla')\n",
    "affineC"
   ]
  },
  {
   "cell_type": "markdown",
   "metadata": {},
   "source": [
    "#### Local Tetrad for Schwarzschild\n",
    "\n",
    "Reference: [Catalog of Spacetimes](http://arxiv.org/abs/arxiv:0904.4184)"
   ]
  },
  {
   "cell_type": "markdown",
   "metadata": {},
   "source": [
    "\\begin{align}\n",
    "\\mb{e}_t & = \\left(\\frac{1}{c\\sqrt{1 - r_s/r}} \\partial_t,0,0,0\\right) \\\\\n",
    "\\mb{e}_r & = \\left(0, \\sqrt{1-\\frac{r}{r_s}}\\partial_r, 0, 0 \\right) \\\\\n",
    "\\mb{e}_\\theta & = \\left(0,0, \\frac{1}{r}\\partial_\\theta,0 \\right)\\\\\n",
    "\\mb{e}_\\phi & = \\left(0,0,0, \\frac{1}{r\\sin\\theta}\\partial_\\phi\\right)\n",
    "\\end{align}"
   ]
  },
  {
   "cell_type": "markdown",
   "metadata": {},
   "source": []
  },
  {
   "cell_type": "code",
   "execution_count": null,
   "metadata": {
    "collapsed": true
   },
   "outputs": [],
   "source": []
  },
  {
   "cell_type": "markdown",
   "metadata": {},
   "source": [
    "### Stress-Energy Tensor"
   ]
  },
  {
   "cell_type": "markdown",
   "metadata": {},
   "source": [
    "#### Define Observer Vector Field"
   ]
  },
  {
   "cell_type": "code",
   "execution_count": 66,
   "metadata": {
    "collapsed": false
   },
   "outputs": [
    {
     "data": {
      "text/html": [
       "<html><script type=\"math/tex; mode=display\">\\newcommand{\\Bold}[1]{\\mathbf{#1}}v = v_{t} \\frac{\\partial}{\\partial t } + v_{r} \\frac{\\partial}{\\partial r } + v_{\\theta} \\frac{\\partial}{\\partial \\theta } + v_{\\phi} \\frac{\\partial}{\\partial \\phi }</script></html>"
      ],
      "text/plain": [
       "v = v_t d/dt + v_r d/dr + v_theta d/dtheta + v_phi d/dphi"
      ]
     },
     "execution_count": 66,
     "metadata": {},
     "output_type": "execute_result"
    }
   ],
   "source": [
    "vobs = M2.vector_field('v')\n",
    "var('v_t v_r v_theta v_phi')\n",
    "vobs[:] = [v_t,v_r,v_theta,v_phi]\n",
    "vobs.display()"
   ]
  },
  {
   "cell_type": "markdown",
   "metadata": {},
   "source": [
    "#### Define Minskowski Metric"
   ]
  },
  {
   "cell_type": "code",
   "execution_count": 68,
   "metadata": {
    "collapsed": false
   },
   "outputs": [
    {
     "data": {
      "text/html": [
       "<html><script type=\"math/tex; mode=display\">\\newcommand{\\Bold}[1]{\\mathbf{#1}}g = -c^{2} \\mathrm{d} t\\otimes \\mathrm{d} t +\\mathrm{d} r\\otimes \\mathrm{d} r +\\mathrm{d} \\theta\\otimes \\mathrm{d} \\theta +\\mathrm{d} \\phi\\otimes \\mathrm{d} \\phi</script></html>"
      ],
      "text/plain": [
       "g = -c^2 dt*dt + dr*dr + dtheta*dtheta + dphi*dphi"
      ]
     },
     "execution_count": 68,
     "metadata": {},
     "output_type": "execute_result"
    }
   ],
   "source": [
    "gmink = M2.lorentz_metric('g')\n",
    "gmink[0,0] = -c^2\n",
    "gmink[1,1] = gmink[2,2] = gmink[3,3] = 1\n",
    "gmink.display()"
   ]
  },
  {
   "cell_type": "code",
   "execution_count": 70,
   "metadata": {
    "collapsed": false
   },
   "outputs": [
    {
     "data": {
      "text/html": [
       "<html><script type=\"math/tex; mode=display\">\\newcommand{\\Bold}[1]{\\mathbf{#1}}-c^{2} v_{t} \\mathrm{d} t + v_{r} \\mathrm{d} r + v_{\\theta} \\mathrm{d} \\theta + v_{\\phi} \\mathrm{d} \\phi</script></html>"
      ],
      "text/plain": [
       "-c^2*v_t dt + v_r dr + v_theta dtheta + v_phi dphi"
      ]
     },
     "execution_count": 70,
     "metadata": {},
     "output_type": "execute_result"
    }
   ],
   "source": [
    "vobs_form = vobs.down(gmink)\n",
    "vobs_form.display()"
   ]
  },
  {
   "cell_type": "code",
   "execution_count": 71,
   "metadata": {
    "collapsed": false
   },
   "outputs": [
    {
     "data": {
      "text/html": [
       "<html><script type=\"math/tex; mode=display\">\\newcommand{\\Bold}[1]{\\mathbf{#1}}\\begin{array}{llcl} & M2 & \\longrightarrow & \\mathbb{R} \\\\ & \\left(t, r, \\theta, \\phi\\right) & \\longmapsto & -c^{2} v_{t}^{2} + v_{\\phi}^{2} + v_{r}^{2} + v_{\\theta}^{2} \\end{array}</script></html>"
      ],
      "text/plain": [
       "M2 --> R\n",
       "(t, r, theta, phi) |--> -c^2*v_t^2 + v_phi^2 + v_r^2 + v_theta^2"
      ]
     },
     "execution_count": 71,
     "metadata": {},
     "output_type": "execute_result"
    }
   ],
   "source": [
    "norm_vobs = vobs.contract(vobs_form)\n",
    "norm_vobs.display()"
   ]
  },
  {
   "cell_type": "markdown",
   "metadata": {},
   "source": [
    "#### Define Stress-Energy Tensor for Ideal Fluid"
   ]
  },
  {
   "cell_type": "code",
   "execution_count": 72,
   "metadata": {
    "collapsed": false
   },
   "outputs": [
    {
     "data": {
      "text/html": [
       "<html><script type=\"math/tex; mode=display\">\\newcommand{\\Bold}[1]{\\mathbf{#1}}\\left(\\rho, p\\right)</script></html>"
      ],
      "text/plain": [
       "(rho, p)"
      ]
     },
     "execution_count": 72,
     "metadata": {},
     "output_type": "execute_result"
    }
   ],
   "source": [
    "# variables for fluid density and pressure\n",
    "var('rho p')"
   ]
  },
  {
   "cell_type": "code",
   "execution_count": 73,
   "metadata": {
    "collapsed": true
   },
   "outputs": [],
   "source": [
    "T = (rho + p/c^2)*(vobs_form*vobs_form) + p*gmink"
   ]
  },
  {
   "cell_type": "code",
   "execution_count": 74,
   "metadata": {
    "collapsed": false
   },
   "outputs": [
    {
     "name": "stdout",
     "output_type": "stream",
     "text": [
      "field of symmetric bilinear forms 'T' on the 4-dimensional manifold 'M2'\n"
     ]
    }
   ],
   "source": [
    "T.set_name('T')\n",
    "print(T)"
   ]
  },
  {
   "cell_type": "code",
   "execution_count": 75,
   "metadata": {
    "collapsed": false
   },
   "outputs": [
    {
     "data": {
      "text/html": [
       "<html><script type=\"math/tex; mode=display\">\\newcommand{\\Bold}[1]{\\mathbf{#1}}T = \\left( -c^{2} p + {\\left(c^{4} \\rho + c^{2} p\\right)} v_{t}^{2} \\right) \\mathrm{d} t\\otimes \\mathrm{d} t -{\\left(c^{2} \\rho + p\\right)} v_{r} v_{t} \\mathrm{d} t\\otimes \\mathrm{d} r -{\\left(c^{2} \\rho + p\\right)} v_{t} v_{\\theta} \\mathrm{d} t\\otimes \\mathrm{d} \\theta -{\\left(c^{2} \\rho + p\\right)} v_{\\phi} v_{t} \\mathrm{d} t\\otimes \\mathrm{d} \\phi -{\\left(c^{2} \\rho + p\\right)} v_{r} v_{t} \\mathrm{d} r\\otimes \\mathrm{d} t + \\left( \\frac{c^{2} p + {\\left(c^{2} \\rho + p\\right)} v_{r}^{2}}{c^{2}} \\right) \\mathrm{d} r\\otimes \\mathrm{d} r + \\frac{{\\left(c^{2} \\rho + p\\right)} v_{r} v_{\\theta}}{c^{2}} \\mathrm{d} r\\otimes \\mathrm{d} \\theta + \\frac{{\\left(c^{2} \\rho + p\\right)} v_{\\phi} v_{r}}{c^{2}} \\mathrm{d} r\\otimes \\mathrm{d} \\phi -{\\left(c^{2} \\rho + p\\right)} v_{t} v_{\\theta} \\mathrm{d} \\theta\\otimes \\mathrm{d} t + \\frac{{\\left(c^{2} \\rho + p\\right)} v_{r} v_{\\theta}}{c^{2}} \\mathrm{d} \\theta\\otimes \\mathrm{d} r + \\left( \\frac{c^{2} p + {\\left(c^{2} \\rho + p\\right)} v_{\\theta}^{2}}{c^{2}} \\right) \\mathrm{d} \\theta\\otimes \\mathrm{d} \\theta + \\frac{{\\left(c^{2} \\rho + p\\right)} v_{\\phi} v_{\\theta}}{c^{2}} \\mathrm{d} \\theta\\otimes \\mathrm{d} \\phi -{\\left(c^{2} \\rho + p\\right)} v_{\\phi} v_{t} \\mathrm{d} \\phi\\otimes \\mathrm{d} t + \\frac{{\\left(c^{2} \\rho + p\\right)} v_{\\phi} v_{r}}{c^{2}} \\mathrm{d} \\phi\\otimes \\mathrm{d} r + \\frac{{\\left(c^{2} \\rho + p\\right)} v_{\\phi} v_{\\theta}}{c^{2}} \\mathrm{d} \\phi\\otimes \\mathrm{d} \\theta + \\left( \\frac{c^{2} p + {\\left(c^{2} \\rho + p\\right)} v_{\\phi}^{2}}{c^{2}} \\right) \\mathrm{d} \\phi\\otimes \\mathrm{d} \\phi</script></html>"
      ],
      "text/plain": [
       "T = (-c^2*p + (c^4*rho + c^2*p)*v_t^2) dt*dt - (c^2*rho + p)*v_r*v_t dt*dr - (c^2*rho + p)*v_t*v_theta dt*dtheta - (c^2*rho + p)*v_phi*v_t dt*dphi - (c^2*rho + p)*v_r*v_t dr*dt + (c^2*p + (c^2*rho + p)*v_r^2)/c^2 dr*dr + (c^2*rho + p)*v_r*v_theta/c^2 dr*dtheta + (c^2*rho + p)*v_phi*v_r/c^2 dr*dphi - (c^2*rho + p)*v_t*v_theta dtheta*dt + (c^2*rho + p)*v_r*v_theta/c^2 dtheta*dr + (c^2*p + (c^2*rho + p)*v_theta^2)/c^2 dtheta*dtheta + (c^2*rho + p)*v_phi*v_theta/c^2 dtheta*dphi - (c^2*rho + p)*v_phi*v_t dphi*dt + (c^2*rho + p)*v_phi*v_r/c^2 dphi*dr + (c^2*rho + p)*v_phi*v_theta/c^2 dphi*dtheta + (c^2*p + (c^2*rho + p)*v_phi^2)/c^2 dphi*dphi"
      ]
     },
     "execution_count": 75,
     "metadata": {},
     "output_type": "execute_result"
    }
   ],
   "source": [
    "T.display()"
   ]
  },
  {
   "cell_type": "code",
   "execution_count": 80,
   "metadata": {
    "collapsed": false
   },
   "outputs": [],
   "source": [
    "assume(c == 1)"
   ]
  },
  {
   "cell_type": "code",
   "execution_count": 83,
   "metadata": {
    "collapsed": false
   },
   "outputs": [
    {
     "data": {
      "text/html": [
       "<html><script type=\"math/tex; mode=display\">\\newcommand{\\Bold}[1]{\\mathbf{#1}}T = \\left( -c^{2} p + {\\left(c^{4} \\rho + c^{2} p\\right)} v_{t}^{2} \\right) \\mathrm{d} t\\otimes \\mathrm{d} t -{\\left(c^{2} \\rho + p\\right)} v_{r} v_{t} \\mathrm{d} t\\otimes \\mathrm{d} r -{\\left(c^{2} \\rho + p\\right)} v_{t} v_{\\theta} \\mathrm{d} t\\otimes \\mathrm{d} \\theta -{\\left(c^{2} \\rho + p\\right)} v_{\\phi} v_{t} \\mathrm{d} t\\otimes \\mathrm{d} \\phi -{\\left(c^{2} \\rho + p\\right)} v_{r} v_{t} \\mathrm{d} r\\otimes \\mathrm{d} t + \\left( \\frac{c^{2} p + {\\left(c^{2} \\rho + p\\right)} v_{r}^{2}}{c^{2}} \\right) \\mathrm{d} r\\otimes \\mathrm{d} r + \\frac{{\\left(c^{2} \\rho + p\\right)} v_{r} v_{\\theta}}{c^{2}} \\mathrm{d} r\\otimes \\mathrm{d} \\theta + \\frac{{\\left(c^{2} \\rho + p\\right)} v_{\\phi} v_{r}}{c^{2}} \\mathrm{d} r\\otimes \\mathrm{d} \\phi -{\\left(c^{2} \\rho + p\\right)} v_{t} v_{\\theta} \\mathrm{d} \\theta\\otimes \\mathrm{d} t + \\frac{{\\left(c^{2} \\rho + p\\right)} v_{r} v_{\\theta}}{c^{2}} \\mathrm{d} \\theta\\otimes \\mathrm{d} r + \\left( \\frac{c^{2} p + {\\left(c^{2} \\rho + p\\right)} v_{\\theta}^{2}}{c^{2}} \\right) \\mathrm{d} \\theta\\otimes \\mathrm{d} \\theta + \\frac{{\\left(c^{2} \\rho + p\\right)} v_{\\phi} v_{\\theta}}{c^{2}} \\mathrm{d} \\theta\\otimes \\mathrm{d} \\phi -{\\left(c^{2} \\rho + p\\right)} v_{\\phi} v_{t} \\mathrm{d} \\phi\\otimes \\mathrm{d} t + \\frac{{\\left(c^{2} \\rho + p\\right)} v_{\\phi} v_{r}}{c^{2}} \\mathrm{d} \\phi\\otimes \\mathrm{d} r + \\frac{{\\left(c^{2} \\rho + p\\right)} v_{\\phi} v_{\\theta}}{c^{2}} \\mathrm{d} \\phi\\otimes \\mathrm{d} \\theta + \\left( \\frac{c^{2} p + {\\left(c^{2} \\rho + p\\right)} v_{\\phi}^{2}}{c^{2}} \\right) \\mathrm{d} \\phi\\otimes \\mathrm{d} \\phi</script></html>"
      ],
      "text/plain": [
       "T = (-c^2*p + (c^4*rho + c^2*p)*v_t^2) dt*dt - (c^2*rho + p)*v_r*v_t dt*dr - (c^2*rho + p)*v_t*v_theta dt*dtheta - (c^2*rho + p)*v_phi*v_t dt*dphi - (c^2*rho + p)*v_r*v_t dr*dt + (c^2*p + (c^2*rho + p)*v_r^2)/c^2 dr*dr + (c^2*rho + p)*v_r*v_theta/c^2 dr*dtheta + (c^2*rho + p)*v_phi*v_r/c^2 dr*dphi - (c^2*rho + p)*v_t*v_theta dtheta*dt + (c^2*rho + p)*v_r*v_theta/c^2 dtheta*dr + (c^2*p + (c^2*rho + p)*v_theta^2)/c^2 dtheta*dtheta + (c^2*rho + p)*v_phi*v_theta/c^2 dtheta*dphi - (c^2*rho + p)*v_phi*v_t dphi*dt + (c^2*rho + p)*v_phi*v_r/c^2 dphi*dr + (c^2*rho + p)*v_phi*v_theta/c^2 dphi*dtheta + (c^2*p + (c^2*rho + p)*v_phi^2)/c^2 dphi*dphi"
      ]
     },
     "execution_count": 83,
     "metadata": {},
     "output_type": "execute_result"
    }
   ],
   "source": [
    "T.display()"
   ]
  },
  {
   "cell_type": "code",
   "execution_count": 89,
   "metadata": {
    "collapsed": false
   },
   "outputs": [
    {
     "data": {
      "text/html": [
       "<html><script type=\"math/tex; mode=display\">\\newcommand{\\Bold}[1]{\\mathbf{#1}}1</script></html>"
      ],
      "text/plain": [
       "1"
      ]
     },
     "execution_count": 89,
     "metadata": {},
     "output_type": "execute_result"
    }
   ],
   "source": [
    "c.subs(c=1)"
   ]
  },
  {
   "cell_type": "code",
   "execution_count": 91,
   "metadata": {
    "collapsed": false
   },
   "outputs": [
    {
     "data": {
      "text/html": [
       "<html><script type=\"math/tex; mode=display\">\\newcommand{\\Bold}[1]{\\mathbf{#1}}T = \\left( -c^{2} p + {\\left(c^{4} \\rho + c^{2} p\\right)} v_{t}^{2} \\right) \\mathrm{d} t\\otimes \\mathrm{d} t -{\\left(c^{2} \\rho + p\\right)} v_{r} v_{t} \\mathrm{d} t\\otimes \\mathrm{d} r -{\\left(c^{2} \\rho + p\\right)} v_{t} v_{\\theta} \\mathrm{d} t\\otimes \\mathrm{d} \\theta -{\\left(c^{2} \\rho + p\\right)} v_{\\phi} v_{t} \\mathrm{d} t\\otimes \\mathrm{d} \\phi -{\\left(c^{2} \\rho + p\\right)} v_{r} v_{t} \\mathrm{d} r\\otimes \\mathrm{d} t + \\left( \\frac{c^{2} p + {\\left(c^{2} \\rho + p\\right)} v_{r}^{2}}{c^{2}} \\right) \\mathrm{d} r\\otimes \\mathrm{d} r + \\frac{{\\left(c^{2} \\rho + p\\right)} v_{r} v_{\\theta}}{c^{2}} \\mathrm{d} r\\otimes \\mathrm{d} \\theta + \\frac{{\\left(c^{2} \\rho + p\\right)} v_{\\phi} v_{r}}{c^{2}} \\mathrm{d} r\\otimes \\mathrm{d} \\phi -{\\left(c^{2} \\rho + p\\right)} v_{t} v_{\\theta} \\mathrm{d} \\theta\\otimes \\mathrm{d} t + \\frac{{\\left(c^{2} \\rho + p\\right)} v_{r} v_{\\theta}}{c^{2}} \\mathrm{d} \\theta\\otimes \\mathrm{d} r + \\left( \\frac{c^{2} p + {\\left(c^{2} \\rho + p\\right)} v_{\\theta}^{2}}{c^{2}} \\right) \\mathrm{d} \\theta\\otimes \\mathrm{d} \\theta + \\frac{{\\left(c^{2} \\rho + p\\right)} v_{\\phi} v_{\\theta}}{c^{2}} \\mathrm{d} \\theta\\otimes \\mathrm{d} \\phi -{\\left(c^{2} \\rho + p\\right)} v_{\\phi} v_{t} \\mathrm{d} \\phi\\otimes \\mathrm{d} t + \\frac{{\\left(c^{2} \\rho + p\\right)} v_{\\phi} v_{r}}{c^{2}} \\mathrm{d} \\phi\\otimes \\mathrm{d} r + \\frac{{\\left(c^{2} \\rho + p\\right)} v_{\\phi} v_{\\theta}}{c^{2}} \\mathrm{d} \\phi\\otimes \\mathrm{d} \\theta + \\left( \\frac{c^{2} p + {\\left(c^{2} \\rho + p\\right)} v_{\\phi}^{2}}{c^{2}} \\right) \\mathrm{d} \\phi\\otimes \\mathrm{d} \\phi</script></html>"
      ],
      "text/plain": [
       "T = (-c^2*p + (c^4*rho + c^2*p)*v_t^2) dt*dt - (c^2*rho + p)*v_r*v_t dt*dr - (c^2*rho + p)*v_t*v_theta dt*dtheta - (c^2*rho + p)*v_phi*v_t dt*dphi - (c^2*rho + p)*v_r*v_t dr*dt + (c^2*p + (c^2*rho + p)*v_r^2)/c^2 dr*dr + (c^2*rho + p)*v_r*v_theta/c^2 dr*dtheta + (c^2*rho + p)*v_phi*v_r/c^2 dr*dphi - (c^2*rho + p)*v_t*v_theta dtheta*dt + (c^2*rho + p)*v_r*v_theta/c^2 dtheta*dr + (c^2*p + (c^2*rho + p)*v_theta^2)/c^2 dtheta*dtheta + (c^2*rho + p)*v_phi*v_theta/c^2 dtheta*dphi - (c^2*rho + p)*v_phi*v_t dphi*dt + (c^2*rho + p)*v_phi*v_r/c^2 dphi*dr + (c^2*rho + p)*v_phi*v_theta/c^2 dphi*dtheta + (c^2*p + (c^2*rho + p)*v_phi^2)/c^2 dphi*dphi"
      ]
     },
     "execution_count": 91,
     "metadata": {},
     "output_type": "execute_result"
    }
   ],
   "source": [
    "T.display()"
   ]
  },
  {
   "cell_type": "code",
   "execution_count": 87,
   "metadata": {
    "collapsed": true
   },
   "outputs": [],
   "source": [
    "c.substitute?"
   ]
  },
  {
   "cell_type": "code",
   "execution_count": null,
   "metadata": {
    "collapsed": true
   },
   "outputs": [],
   "source": []
  },
  {
   "cell_type": "markdown",
   "metadata": {},
   "source": [
    "### $S^2$ - The Two Sphere\n",
    "\n",
    "Reference: [Sphere S2](http://sagemanifolds.obspm.fr/examples/html/SM_sphere_S2.html)"
   ]
  },
  {
   "cell_type": "code",
   "execution_count": 4,
   "metadata": {
    "collapsed": true
   },
   "outputs": [],
   "source": [
    "S2 = Manifold(2, 'S^2', latex_name=r'\\mathbb{S}^2',start_index=1)"
   ]
  },
  {
   "cell_type": "code",
   "execution_count": 5,
   "metadata": {
    "collapsed": false
   },
   "outputs": [
    {
     "name": "stdout",
     "output_type": "stream",
     "text": [
      "2-dimensional manifold 'S^2'\n"
     ]
    }
   ],
   "source": [
    "print S2"
   ]
  },
  {
   "cell_type": "code",
   "execution_count": 6,
   "metadata": {
    "collapsed": false
   },
   "outputs": [
    {
     "data": {
      "text/html": [
       "<html><script type=\"math/tex; mode=display\">\\newcommand{\\Bold}[1]{\\mathbf{#1}}\\mathbb{S}^2</script></html>"
      ],
      "text/plain": [
       "2-dimensional manifold 'S^2'"
      ]
     },
     "execution_count": 6,
     "metadata": {},
     "output_type": "execute_result"
    }
   ],
   "source": [
    "S2"
   ]
  },
  {
   "cell_type": "code",
   "execution_count": 7,
   "metadata": {
    "collapsed": false
   },
   "outputs": [
    {
     "data": {
      "text/html": [
       "<html><script type=\"math/tex; mode=display\">\\newcommand{\\Bold}[1]{\\mathbf{#1}}\\mathrm{True}</script></html>"
      ],
      "text/plain": [
       "True"
      ]
     },
     "execution_count": 7,
     "metadata": {},
     "output_type": "execute_result"
    }
   ],
   "source": [
    "isinstance(S2,Parent)"
   ]
  },
  {
   "cell_type": "code",
   "execution_count": 8,
   "metadata": {
    "collapsed": false
   },
   "outputs": [
    {
     "data": {
      "text/html": [
       "<html><script type=\"math/tex; mode=display\">\\newcommand{\\Bold}[1]{\\mathbf{#1}}\\mathbf{Sets}</script></html>"
      ],
      "text/plain": [
       "Category of sets"
      ]
     },
     "execution_count": 8,
     "metadata": {},
     "output_type": "execute_result"
    }
   ],
   "source": [
    "S2.category()"
   ]
  },
  {
   "cell_type": "markdown",
   "metadata": {},
   "source": [
    "**Note:** Latex printing does not seem to be working with sage commands in jupyter."
   ]
  },
  {
   "cell_type": "code",
   "execution_count": 9,
   "metadata": {
    "collapsed": false
   },
   "outputs": [
    {
     "name": "stdout",
     "output_type": "stream",
     "text": [
      "open subset 'U' of the 2-dimensional manifold 'S^2'\n"
     ]
    }
   ],
   "source": [
    "U = S2.open_subset('U')\n",
    "print U"
   ]
  },
  {
   "cell_type": "code",
   "execution_count": 10,
   "metadata": {
    "collapsed": false
   },
   "outputs": [
    {
     "name": "stdout",
     "output_type": "stream",
     "text": [
      "open subset 'V' of the 2-dimensional manifold 'S^2'\n"
     ]
    }
   ],
   "source": [
    "V = S2.open_subset('V')\n",
    "print V"
   ]
  },
  {
   "cell_type": "code",
   "execution_count": 11,
   "metadata": {
    "collapsed": true
   },
   "outputs": [],
   "source": [
    "S2.declare_union(U,V)"
   ]
  },
  {
   "cell_type": "code",
   "execution_count": 12,
   "metadata": {
    "collapsed": false
   },
   "outputs": [],
   "source": [
    "stereoN.<x,y> = U.chart()"
   ]
  },
  {
   "cell_type": "code",
   "execution_count": 13,
   "metadata": {
    "collapsed": false
   },
   "outputs": [
    {
     "data": {
      "text/html": [
       "<html><script type=\"math/tex; mode=display\">\\newcommand{\\Bold}[1]{\\mathbf{#1}}\\left(U,(x, y)\\right)</script></html>"
      ],
      "text/plain": [
       "chart (U, (x, y))"
      ]
     },
     "execution_count": 13,
     "metadata": {},
     "output_type": "execute_result"
    }
   ],
   "source": [
    "stereoN"
   ]
  },
  {
   "cell_type": "code",
   "execution_count": 14,
   "metadata": {
    "collapsed": false
   },
   "outputs": [
    {
     "data": {
      "text/html": [
       "<html><script type=\"math/tex; mode=display\">\\newcommand{\\Bold}[1]{\\mathbf{#1}}\\left(V,({x'}, {y'})\\right)</script></html>"
      ],
      "text/plain": [
       "chart (V, (xp, yp))"
      ]
     },
     "execution_count": 14,
     "metadata": {},
     "output_type": "execute_result"
    }
   ],
   "source": [
    "stereoS.<xp,yp> = V.chart(r\"xp:x' yp:y'\")\n",
    "stereoS"
   ]
  },
  {
   "cell_type": "code",
   "execution_count": 15,
   "metadata": {
    "collapsed": false
   },
   "outputs": [
    {
     "data": {
      "text/html": [
       "<html><script type=\"math/tex; mode=display\">\\newcommand{\\Bold}[1]{\\mathbf{#1}}\\left[\\left(U,(x, y)\\right), \\left(V,({x'}, {y'})\\right)\\right]</script></html>"
      ],
      "text/plain": [
       "[chart (U, (x, y)), chart (V, (xp, yp))]"
      ]
     },
     "execution_count": 15,
     "metadata": {},
     "output_type": "execute_result"
    }
   ],
   "source": [
    "S2.atlas()"
   ]
  },
  {
   "cell_type": "code",
   "execution_count": 16,
   "metadata": {
    "collapsed": false
   },
   "outputs": [],
   "source": [
    "stereoN_to_S = stereoN.transition_map(stereoS, (x/(x^2+y^2),y/(x^2+y^2)), intersection_name='W',\\\n",
    "                                      restrictions1= x^2+y^2!=0, restrictions2=xp^2 + yp^2!=0)"
   ]
  },
  {
   "cell_type": "code",
   "execution_count": 17,
   "metadata": {
    "collapsed": false
   },
   "outputs": [
    {
     "data": {
      "text/html": [
       "<html><script type=\"math/tex; mode=display\">\\newcommand{\\Bold}[1]{\\mathbf{#1}}\\left\\{\\begin{array}{lcl} {x'} & = & \\frac{x}{x^{2} + y^{2}} \\\\ {y'} & = & \\frac{y}{x^{2} + y^{2}} \\end{array}\\right.</script></html>"
      ],
      "text/plain": [
       "xp = x/(x^2 + y^2)\n",
       "yp = y/(x^2 + y^2)"
      ]
     },
     "execution_count": 17,
     "metadata": {},
     "output_type": "execute_result"
    }
   ],
   "source": [
    "stereoN_to_S.display()"
   ]
  },
  {
   "cell_type": "code",
   "execution_count": 18,
   "metadata": {
    "collapsed": true
   },
   "outputs": [],
   "source": [
    "stereoS_to_N = stereoN_to_S.inverse()"
   ]
  },
  {
   "cell_type": "code",
   "execution_count": 19,
   "metadata": {
    "collapsed": false
   },
   "outputs": [
    {
     "data": {
      "text/html": [
       "<html><script type=\"math/tex; mode=display\">\\newcommand{\\Bold}[1]{\\mathbf{#1}}\\left\\{\\begin{array}{lcl} x & = & \\frac{{x'}}{{x'}^{2} + {y'}^{2}} \\\\ y & = & \\frac{{y'}}{{x'}^{2} + {y'}^{2}} \\end{array}\\right.</script></html>"
      ],
      "text/plain": [
       "x = xp/(xp^2 + yp^2)\n",
       "y = yp/(xp^2 + yp^2)"
      ]
     },
     "execution_count": 19,
     "metadata": {},
     "output_type": "execute_result"
    }
   ],
   "source": [
    "stereoS_to_N.display()"
   ]
  },
  {
   "cell_type": "code",
   "execution_count": 20,
   "metadata": {
    "collapsed": false
   },
   "outputs": [
    {
     "data": {
      "text/html": [
       "<html><script type=\"math/tex; mode=display\">\\newcommand{\\Bold}[1]{\\mathbf{#1}}\\left[\\left(U,(x, y)\\right), \\left(V,({x'}, {y'})\\right), \\left(W,(x, y)\\right), \\left(W,({x'}, {y'})\\right)\\right]</script></html>"
      ],
      "text/plain": [
       "[chart (U, (x, y)),\n",
       " chart (V, (xp, yp)),\n",
       " chart (W, (x, y)),\n",
       " chart (W, (xp, yp))]"
      ]
     },
     "execution_count": 20,
     "metadata": {},
     "output_type": "execute_result"
    }
   ],
   "source": [
    "S2.atlas()"
   ]
  },
  {
   "cell_type": "code",
   "execution_count": 21,
   "metadata": {
    "collapsed": false
   },
   "outputs": [],
   "source": [
    "W = U.intersection(V)"
   ]
  },
  {
   "cell_type": "code",
   "execution_count": 22,
   "metadata": {
    "collapsed": false
   },
   "outputs": [
    {
     "data": {
      "text/html": [
       "<html><script type=\"math/tex; mode=display\">\\newcommand{\\Bold}[1]{\\mathbf{#1}}\\left(W,(x, y)\\right)</script></html>"
      ],
      "text/plain": [
       "chart (W, (x, y))"
      ]
     },
     "execution_count": 22,
     "metadata": {},
     "output_type": "execute_result"
    }
   ],
   "source": [
    "stereoN_W = stereoN.restrict(W)\n",
    "stereoN_W"
   ]
  },
  {
   "cell_type": "code",
   "execution_count": 23,
   "metadata": {
    "collapsed": false
   },
   "outputs": [
    {
     "data": {
      "text/html": [
       "<html><script type=\"math/tex; mode=display\">\\newcommand{\\Bold}[1]{\\mathbf{#1}}\\left(W,({x'}, {y'})\\right)</script></html>"
      ],
      "text/plain": [
       "chart (W, (xp, yp))"
      ]
     },
     "execution_count": 23,
     "metadata": {},
     "output_type": "execute_result"
    }
   ],
   "source": [
    "stereoS_W = stereoS.restrict(W)\n",
    "stereoS_W"
   ]
  },
  {
   "cell_type": "code",
   "execution_count": 24,
   "metadata": {
    "collapsed": false
   },
   "outputs": [
    {
     "data": {
      "image/png": "[encoded data removed]",
      "text/plain": [
       "Graphics object consisting of 18 graphics primitives"
      ]
     },
     "execution_count": 24,
     "metadata": {},
     "output_type": "execute_result"
    }
   ],
   "source": [
    "stereoS_W.plot()"
   ]
  },
  {
   "cell_type": "code",
   "execution_count": 25,
   "metadata": {
    "collapsed": false
   },
   "outputs": [
    {
     "data": {
      "image/png": "[encoded data removed]",
      "text/plain": [
       "Graphics object consisting of 18 graphics primitives"
      ]
     },
     "execution_count": 25,
     "metadata": {},
     "output_type": "execute_result"
    }
   ],
   "source": [
    "stereoN.plot()"
   ]
  },
  {
   "cell_type": "code",
   "execution_count": null,
   "metadata": {
    "collapsed": true
   },
   "outputs": [],
   "source": []
  }
 ],
 "metadata": {
  "kernelspec": {
   "display_name": "Sage 6.9",
   "language": "",
   "name": "sage_6_9"
  },
  "language_info": {
   "codemirror_mode": {
    "name": "ipython",
    "version": 2
   },
   "file_extension": ".py",
   "mimetype": "text/x-python",
   "name": "python",
   "nbconvert_exporter": "python",
   "pygments_lexer": "ipython2",
   "version": "2.7.9"
  },
  "latex_envs": {
   "bibliofile": "biblio.bib",
   "cite_by": "apalike",
   "current_citInitial": 1,
   "eqLabelWithNumbers": true,
   "eqNumInitial": 0
  }
 },
 "nbformat": 4,
 "nbformat_minor": 0
}
