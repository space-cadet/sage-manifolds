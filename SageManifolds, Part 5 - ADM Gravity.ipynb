{
 "cells": [
  {
   "cell_type": "markdown",
   "metadata": {},
   "source": [
    "## Mathjax Custom Macros\n",
    "\n",
    "$ \\newcommand{\\opexpect}[3]{\\langle #1 \\vert #2 \\vert #3 \\rangle} $\n",
    "$ \\newcommand{\\rarrow}{\\rightarrow} $\n",
    "$ \\newcommand{\\bra}{\\langle} $\n",
    "$ \\newcommand{\\ket}{\\rangle} $\n",
    "\n",
    "$ \\newcommand{\\up}{\\uparrow} $\n",
    "$ \\newcommand{\\down}{\\downarrow} $\n",
    "\n",
    "$ \\newcommand{\\mb}[1]{\\mathbf{#1}} $\n",
    "$ \\newcommand{\\mc}[1]{\\mathcal{#1}} $\n",
    "$ \\newcommand{\\mbb}[1]{\\mathbb{#1}} $\n",
    "$ \\newcommand{\\mf}[1]{\\mathfrak{#1}} $\n",
    "\n",
    "$ \\newcommand{\\vect}[1]{\\boldsymbol{\\mathrm{#1}}} $\n",
    "$ \\newcommand{\\expect}[1]{\\langle #1\\rangle} $\n",
    "\n",
    "$ \\newcommand{\\innerp}[2]{\\langle #1 \\vert #2 \\rangle} $\n",
    "$ \\newcommand{\\fullbra}[1]{\\langle #1 \\vert} $\n",
    "$ \\newcommand{\\fullket}[1]{\\vert #1 \\rangle} $\n",
    "$ \\newcommand{\\supersc}[1]{^{\\text{#1}}} $\n",
    "$ \\newcommand{\\subsc}[1]{_{\\text{#1}}} $\n",
    "$ \\newcommand{\\sltwoc}{SL(2,\\mathbb{C})} $\n",
    "$ \\newcommand{\\sltwoz}{SL(2,\\mathbb{Z})} $\n",
    "\n",
    "$ \\newcommand{\\utilde}[1]{\\underset{\\sim}{#1}} $"
   ]
  },
  {
   "cell_type": "markdown",
   "metadata": {},
   "source": [
    "## ADM $3+1$ Decomposition Using SageManifolds\n",
    "\n",
    "Reference: [Immirzi, arXiv:gr-qc/9612030](http://arxiv.org/abs/gr-qc/9612030)"
   ]
  },
  {
   "cell_type": "markdown",
   "metadata": {},
   "source": [
    "### Definitions\n",
    "\n",
    "\\begin{gather}\n",
    "        \\mc{M} & : & 3+1 \\text{ dimensional manifold} \\\\\n",
    "        \\mc{\\Sigma_t} & : & \\text{spatial three-dimensional submanifold of } \\mc{M} \\text{ at constant time-slice } t \\\\\n",
    "        I, J, K, \\ldots & : & \\text{indices valued in Lie algebra of } SL(2,\\mbb{C}) \\\\\n",
    "        \\mu, \\nu, \\ldots & : & 3+1 \\text{ dimensional spacetime indices on } \\mc{M} \\\\\n",
    "        i, j, k, \\ldots & : & \\text{indices values in Lie algebra of } SU(2) \\\\\n",
    "        a, b, c, \\ldots & : & 3 \\text{ dimensional spatial indices on } \\Sigma_t \\\\\n",
    "        e^I_\\mu & : & \\text{tetrad field defined on } \\mc{M} \\\\\n",
    "        \\Omega^{IJ}_{\\mu\\nu} & : & \\text{connection two-form on } \\mc{M} \\\\\n",
    "        e^i_a & : & \\text{triad field on } \\Sigma_t \\\\\n",
    "        q_{ab} & : & \\text{three-dimensional metric on } \\Sigma_t \\\\\n",
    "        K_{ab} & : & \\text{extrinsic curvature of } \\Sigma_t \\\\\n",
    "        \\Gamma^i_a & : & \\text{3D Levi-civita connection on } \\Sigma_t \\\\\n",
    "        K^i_a & : & \\text{extrinsic curvature one-form}\n",
    "\\end{gather} \n",
    "\n",
    "#### Triad Field\n",
    "\n",
    "A local triad field can be written as $e^{ia}$, where $i,a \\in \\{1,2,3\\}$, and $i$, $a$ are internal, spatial indices respectively.\n",
    "\n",
    "In terms of the triad, the local metric can be written as: $q^{ab} = e^{ia} e^{ib}$\n",
    "\n",
    "#### Levi-Civita Connection\n",
    "\n",
    "The Levi-Civita connection two-form "
   ]
  },
  {
   "cell_type": "code",
   "execution_count": null,
   "metadata": {
    "collapsed": true
   },
   "outputs": [],
   "source": []
  }
 ],
 "metadata": {
  "kernelspec": {
   "display_name": "Sage 6.9",
   "language": "",
   "name": "sage_6_9"
  },
  "language_info": {
   "codemirror_mode": {
    "name": "ipython",
    "version": 2
   },
   "file_extension": ".py",
   "mimetype": "text/x-python",
   "name": "python",
   "nbconvert_exporter": "python",
   "pygments_lexer": "ipython2",
   "version": "2.7.9"
  },
  "latex_envs": {
   "bibliofile": "biblio.bib",
   "cite_by": "apalike",
   "current_citInitial": 1,
   "eqLabelWithNumbers": true,
   "eqNumInitial": 0
  }
 },
 "nbformat": 4,
 "nbformat_minor": 0
}
